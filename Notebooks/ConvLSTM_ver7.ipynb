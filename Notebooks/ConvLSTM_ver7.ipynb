{
 "cells": [
  {
   "cell_type": "code",
   "execution_count": 1,
   "id": "1219eae6-c7d3-453c-8925-e2ed511e63ac",
   "metadata": {},
   "outputs": [],
   "source": [
    "#pip install tensorflow"
   ]
  },
  {
   "cell_type": "code",
   "execution_count": 2,
   "id": "0d22903a-5eb6-48f7-85f8-9332479f399c",
   "metadata": {},
   "outputs": [],
   "source": [
    "#pip install matplotlib"
   ]
  },
  {
   "cell_type": "code",
   "execution_count": 3,
   "id": "6f15ed81-6f0f-4954-a13f-47ef024e5591",
   "metadata": {},
   "outputs": [],
   "source": [
    "#pip install climetlab"
   ]
  },
  {
   "cell_type": "code",
   "execution_count": 4,
   "id": "56485401-0398-43b4-b133-1495fa7822ad",
   "metadata": {},
   "outputs": [],
   "source": [
    "#pip install climetlab-eumetnet-postprocessing-benchmark"
   ]
  },
  {
   "cell_type": "code",
   "execution_count": 5,
   "id": "dd100e32-7cd9-4c03-964e-974215666ef5",
   "metadata": {},
   "outputs": [],
   "source": [
    "#pip install --upgrade jupyterlab ipywidgets"
   ]
  },
  {
   "cell_type": "code",
   "execution_count": 6,
   "id": "eb45c318-9b99-46c3-9a65-ba6264d18dcd",
   "metadata": {},
   "outputs": [],
   "source": [
    "#pip install requests"
   ]
  },
  {
   "cell_type": "code",
   "execution_count": 7,
   "id": "03f7cbe4-cabc-40ee-854e-d87d510609f0",
   "metadata": {},
   "outputs": [],
   "source": [
    "#pip install tensorrt"
   ]
  },
  {
   "cell_type": "code",
   "execution_count": 8,
   "id": "f691ec5b-724d-46f2-811e-8e3b9b4cc16e",
   "metadata": {},
   "outputs": [],
   "source": [
    "#pip install plotly\n"
   ]
  },
  {
   "cell_type": "code",
   "execution_count": 9,
   "id": "3732ef73-7e4f-4985-a68a-a0f9096cf525",
   "metadata": {},
   "outputs": [
    {
     "name": "stderr",
     "output_type": "stream",
     "text": [
      "2024-04-29 14:26:27.892991: I tensorflow/core/platform/cpu_feature_guard.cc:210] This TensorFlow binary is optimized to use available CPU instructions in performance-critical operations.\n",
      "To enable the following instructions: AVX2 FMA, in other operations, rebuild TensorFlow with the appropriate compiler flags.\n",
      "2024-04-29 14:26:28.892857: W tensorflow/compiler/tf2tensorrt/utils/py_utils.cc:38] TF-TRT Warning: Could not find TensorRT\n"
     ]
    }
   ],
   "source": [
    "import requests\n",
    "import pandas as pd\n",
    "import numpy as np\n",
    "import matplotlib.pyplot as plt\n",
    "import tensorflow as tf\n",
    "import joblib  # For saving scaler model\n",
    "import os\n",
    "import plotly.graph_objects as go\n",
    "import pandas as pd\n",
    "\n",
    "from datetime import datetime\n",
    "from tensorflow.keras.models import Sequential\n",
    "from tensorflow.keras.layers import Dense, ConvLSTM2D, Flatten\n",
    "from tensorflow.keras.optimizers import Adam\n",
    "from sklearn.preprocessing import MinMaxScaler\n",
    "from sklearn.metrics import mean_squared_error, mean_absolute_error\n",
    "from tensorflow.keras.models import Sequential\n",
    "from tensorflow.keras.layers import ConvLSTM2D, Flatten, Dense, Dropout, BatchNormalization, Input\n",
    "from tensorflow.keras.optimizers import Adam\n",
    "from tensorflow.keras.optimizers.schedules import ExponentialDecay\n",
    "from tensorflow.keras.regularizers import l2\n",
    "from keras.callbacks import ModelCheckpoint"
   ]
  },
  {
   "cell_type": "code",
   "execution_count": 10,
   "id": "03d580bc-112f-4914-82bc-32e11ea37b5a",
   "metadata": {},
   "outputs": [],
   "source": [
    "class ScaledModel:\n",
    "    def __init__(self, sequence_length, param, feature_count, hours_to_predict):\n",
    "        self.sequence_length = sequence_length\n",
    "        self.param = param\n",
    "        self.feature_count = feature_count\n",
    "        self.hours_to_predict = hours_to_predict\n",
    "        self.scaler = MinMaxScaler()\n",
    "        self.model = self._build_model()\n",
    "        self.X_test = None  # Initialize X_test\n",
    "        self.y_test = None  # Initialize y_test\n",
    "\n",
    "    def _build_model(self):\n",
    "        model = Sequential([\n",
    "            ConvLSTM2D(filters=64, kernel_size=(1, 1), activation='relu',\n",
    "                       input_shape=(self.sequence_length, 1, 1, self.feature_count), return_sequences=True),\n",
    "            ConvLSTM2D(filters=32, kernel_size=(1, 1), activation='relu', return_sequences=False),\n",
    "            Flatten(),\n",
    "            Dense(50, activation='relu'),\n",
    "            Dense(self.hours_to_predict)\n",
    "        ])\n",
    "        optimizer = Adam(learning_rate=0.001, clipvalue=1.0)\n",
    "        model.compile(optimizer=optimizer, loss='mse')\n",
    "        return model\n",
    "\n",
    "    def fit(self, df, epochs, batch_size, validation_split=0.2):\n",
    "        df_scaled = self.scaler.fit_transform(df)\n",
    "        df_scaled = pd.DataFrame(df_scaled, columns=df.columns)\n",
    "        train_idx = int(len(df_scaled) * (1 - validation_split))\n",
    "        \n",
    "        train_df = df_scaled.iloc[:train_idx]\n",
    "        test_df = df_scaled.iloc[train_idx:]\n",
    "        \n",
    "        X_train, y_train = self.create_sequences(train_df)\n",
    "        X_test, y_test = self.create_sequences(test_df)\n",
    "\n",
    "        self.X_test = X_test.reshape((X_test.shape[0], self.sequence_length, 1, 1, X_train.shape[2]))\n",
    "        self.y_test = y_test\n",
    "        \n",
    "        # Reshape for ConvLSTM\n",
    "        X_train = X_train.reshape((X_train.shape[0], self.sequence_length, 1, 1, X_train.shape[2]))\n",
    "        X_test = X_test.reshape((X_test.shape[0], self.sequence_length, 1, 1, X_test.shape[2]))\n",
    "        \n",
    "        checkpoint_path = \"checkpoints/model_epoch_{epoch:02d}_val_loss_{val_loss:.2f}.weights.h5\"\n",
    "        checkpoint = ModelCheckpoint(\n",
    "            filepath=checkpoint_path, save_weights_only=True,\n",
    "            monitor='val_loss', mode='min', save_best_only=True, verbose=1\n",
    "        )\n",
    "        \n",
    "        self.model.fit(X_train, y_train, epochs=epochs, batch_size=batch_size,\n",
    "                       validation_data=(X_test, y_test), callbacks=[checkpoint])\n",
    "\n",
    "    def evaluate(self):\n",
    "        y_pred = self.model.predict(self.X_test)\n",
    "        mse = mean_squared_error(self.y_test, y_pred)\n",
    "        rmse = np.sqrt(mse)\n",
    "        mae = mean_absolute_error(self.y_test, y_pred)\n",
    "        return {\"MSE\": mse, \"RMSE\": rmse, \"MAE\": mae}\n",
    "        \n",
    "    def create_sequences(self, input_data, include_target=True):\n",
    "        X, y = [], []\n",
    "        for i in range(len(input_data) - self.sequence_length - self.hours_to_predict + 1):  # Adjusted for 24 hours ahead\n",
    "            X.append(input_data.iloc[i:(i + self.sequence_length)].values)\n",
    "            if include_target:\n",
    "                y.append(input_data.iloc[i + self.sequence_length:i + self.sequence_length + self.hours_to_predict][self.param].values)  # 24 hours target\n",
    "        if include_target:\n",
    "            return np.array(X), np.array(y)\n",
    "        else:\n",
    "            return np.array(X)  # Return only X if include_target is False\n",
    "\n",
    "    def save(self, path):\n",
    "        if not os.path.exists(path):\n",
    "            os.makedirs(path)\n",
    "        self.model.save(os.path.join(path, 'model.keras'))\n",
    "        joblib.dump(self.scaler, os.path.join(path, 'scaler.pkl'))\n",
    "\n",
    "    def load_model_and_scaler(self, path):\n",
    "        self.model = tf.keras.models.load_model(os.path.join(path, 'model.keras'))\n",
    "        self.scaler = joblib.load(os.path.join(path, 'scaler.pkl'))\n",
    "\n",
    "    def predict_next_24_hours(self, latest_data):\n",
    "        # Assume latest_data is preprocessed and scaled appropriately\n",
    "        df_scaled = self.scaler.transform(latest_data)\n",
    "        df_scaled = pd.DataFrame(df_scaled, columns=df.columns)\n",
    "        latest_sequence = df_scaled.tail(self.sequence_length).values.reshape(1, self.sequence_length, 1, 1, self.feature_count)\n",
    "        future_temperatures = self.model.predict(latest_sequence)\n",
    "        dummy_output_array = np.zeros((self.hours_to_predict, self.scaler.n_features_in_))\n",
    "        dummy_output_array[:, 3] = future_temperatures\n",
    "        return self.scaler.inverse_transform(dummy_output_array)[:, 3]\n",
    "\n",
    "\n",
    "    def predict(self, df):\n",
    "        df_scaled = self.scaler.transform(df)\n",
    "        df_scaled = pd.DataFrame(df_scaled, columns=df.columns)\n",
    "        X = self.create_sequences(df_scaled, include_target=False)\n",
    "        X = X.reshape((X.shape[0], self.sequence_length, 1, 1, X.shape[2]))\n",
    "        prediction_scaled = self.model.predict(X)\n",
    "        dummy_output_array = np.zeros((prediction_scaled.shape[0], self.scaler.n_features_in_))\n",
    "        dummy_output_array[:, 3] = prediction_scaled[:, 0]\n",
    "        return self.scaler.inverse_transform(dummy_output_array)[:, 3]\n",
    "\n",
    "\n",
    "    def plot_predictions(self, y_test, y_pred):\n",
    "        plt.figure(figsize=(15, 6))\n",
    "        # Line plot of the actual vs predicted\n",
    "        plt.subplot(1, 2, 1)\n",
    "        plt.plot(y_test, label='Actual', linestyle='-')\n",
    "        plt.plot(y_pred, label='Predicted', linestyle='--')\n",
    "        plt.title('Detailed View of Predictions vs. Actual')\n",
    "        plt.xlabel('Time')\n",
    "        plt.ylabel('Value')\n",
    "        plt.legend()\n",
    "        \n",
    "        # Scatter plot of the actual vs predicted\n",
    "        plt.subplot(1, 2, 2)\n",
    "        plt.scatter(y_test, y_pred, alpha=0.6)\n",
    "        plt.title('Prediction vs Actual')\n",
    "        plt.xlabel('Actual Values')\n",
    "        plt.ylabel('Predicted Values')\n",
    "        plt.plot([min(y_test), max(y_test)], [min(y_test), max(y_test)], 'r--')  # Ideal predictions line\n",
    "        \n",
    "        plt.tight_layout()\n",
    "        plt.show()\n",
    "\n",
    "    def evaluate_and_plot(self):\n",
    "        y_pred = self.model.predict(self.X_test).flatten()\n",
    "        y_test = self.y_test.flatten()  # Ensure y_test is flat if it's not already\n",
    "        dummy_array = np.zeros((y_pred.shape[0], self.feature_count))\n",
    "        dummy_array[:, 3] = y_pred.squeeze() \n",
    "        test_dummy_array = np.zeros((y_test.shape[0], self.feature_count))\n",
    "        test_dummy_array[:, 3] = y_test.squeeze()  \n",
    "        test_y = self.scaler.inverse_transform(test_dummy_array)[:, 3]\n",
    "        predictions_y = self.scaler.inverse_transform(dummy_array)[:, 3]\n",
    "\n",
    "        metrics = self.evaluate()  # Calling evaluate to use existing evaluation metrics\n",
    "        print(\"Mean Squared Error:\", metrics['MSE'])\n",
    "        print(\"Root Mean Squared Error:\", metrics['RMSE'])\n",
    "        print(\"Mean Absolute Error:\", metrics['MAE'])\n",
    "        self.plot_predictions(test_y, predictions_y)\n",
    "\n",
    "\n"
   ]
  },
  {
   "cell_type": "code",
   "execution_count": 11,
   "id": "3825d496-e436-498c-9b36-6c3ec0ac7c1e",
   "metadata": {},
   "outputs": [],
   "source": [
    "\n",
    "def fetch_data(start_date = '2018-01-01', end_date='2024-01-01'):\n",
    "    url_template = (\"https://dataset.api.hub.geosphere.at/v1/timeseries/historical/inca-v1-1h-1km?\"\n",
    "                    \"parameters=RR&parameters=GL&parameters=P0&parameters=T2M&parameters=TD2M&\"\n",
    "                    \"parameters=RH2M&parameters=UU&parameters=VV&start={start_date}T00%3A00&\"\n",
    "                    \"end={end_date}T00%3A00&lat_lon=48.333056%2C16.631944&\"\n",
    "                    \"lat_lon=48.115278%2C16.175833&output_format=geojson&\"\n",
    "                    \"filename=INCA_Vienna_timeseries_all_parameters_{start_year}_{end_year}_0101\")\n",
    "    formatted_url = url_template.format(start_date=start_date, end_date=end_date, \n",
    "                                        start_year=start_date[:4], end_year=end_date[:4])\n",
    "    print(formatted_url)\n",
    "    response = requests.get(formatted_url)\n",
    "    if response.status_code == 200:\n",
    "        data = response.json()\n",
    "        print(\"Fetched data successfully\")\n",
    "    else:\n",
    "        print(\"Failed to retrieve data\", response.status_code)\n",
    "\n",
    "    # Processing the data\n",
    "    data_list = []\n",
    "    for feature in data['features']:\n",
    "        location = feature['geometry']['coordinates']\n",
    "        for i, timestamp in enumerate(data['timestamps']):\n",
    "            record = {\n",
    "                'time': pd.to_datetime(timestamp),\n",
    "                'longitude': location[0],\n",
    "                'latitude': location[1],\n",
    "                'RR': feature['properties']['parameters']['RR']['data'][i],\n",
    "                'T2M': feature['properties']['parameters']['T2M']['data'][i],\n",
    "                'RH2M': feature['properties']['parameters']['RH2M']['data'][i],\n",
    "                'TD2M': feature['properties']['parameters']['TD2M']['data'][i],\n",
    "                'GL': feature['properties']['parameters']['GL']['data'][i],\n",
    "                'UU': feature['properties']['parameters']['UU']['data'][i],\n",
    "                'VV': feature['properties']['parameters']['VV']['data'][i],\n",
    "                'P0': feature['properties']['parameters']['P0']['data'][i]\n",
    "            }\n",
    "            data_list.append(record)\n",
    "\n",
    "    original_df = pd.DataFrame(data_list)\n",
    "    return original_df\n"
   ]
  },
  {
   "cell_type": "code",
   "execution_count": 12,
   "id": "c708f75a-330b-4822-8f90-fd281f6862dc",
   "metadata": {},
   "outputs": [],
   "source": [
    "def calculate_rolling_features(df, window_size, feature_name):\n",
    "    if len(df) < window_size:\n",
    "        window_size = len(df)  # Adjust window size to length of the data if data is too short\n",
    "    df[f'{feature_name}_rolling_mean'] = df['T2M'].rolling(window=window_size).mean()\n",
    "    df[f'{feature_name}_rolling_max'] = df['T2M'].rolling(window=window_size).max()\n",
    "    df[f'{feature_name}_rolling_min'] = df['T2M'].rolling(window=window_size).min()\n",
    "    df[f'{feature_name}_rolling_std'] = df['T2M'].rolling(window=window_size).std()\n",
    "\n",
    "def calculate_ewm_features(df, span, feature_name):\n",
    "    df[f'{feature_name}_ewm'] = df['T2M'].ewm(span=span, adjust=False).mean()\n",
    "\n",
    "def handle_na(df):\n",
    "    df.fillna(method='ffill', inplace=True)  # Forward fill first to propagate last valid observation forward\n",
    "    df.fillna(method='bfill', inplace=True)  # Backward fill to ensure no NaNs remain\n",
    "\n",
    "def feature_engineering(df):\n",
    "    df.dropna(inplace=True)  # Drop rows with NaN values first\n",
    "    original_time_index = df['time'].copy()\n",
    "    # Basic date-time features\n",
    "    df['hour'] = df['time'].dt.hour\n",
    "    df['day_of_year'] = df['time'].dt.dayofyear\n",
    "    df['week_of_year'] = df['time'].dt.isocalendar().week\n",
    "    df['day_of_month'] = df['time'].dt.day\n",
    "    df['month'] = df['time'].dt.month\n",
    "    df['year'] = df['time'].dt.year\n",
    "\n",
    "    # Wind and interaction features\n",
    "    df['wind_speed'] = np.sqrt(df['UU']**2 + df['VV']**2)\n",
    "    df['wind_direction'] = np.arctan2(df['VV'], df['UU']) * 180 / np.pi\n",
    "    df['temp_humidity_interaction'] = df['T2M'] * df['RH2M']\n",
    "    df['wind_rain_interaction'] = df['wind_speed'] * df['RR']\n",
    "    df['RR_lag1'] = df['RR'].shift(1)\n",
    "    df['T2M_lag1'] = df['T2M'].shift(1)\n",
    "\n",
    "    # Cyclical time features\n",
    "    df['hour_sin'] = np.sin(2 * np.pi * df['hour']/24)\n",
    "    df['hour_cos'] = np.cos(2 * np.pi * df['hour']/24)\n",
    "    df['month_sin'] = np.sin(2 * np.pi * df['month'] / 12)\n",
    "    df['month_cos'] = np.cos(2 * np.pi * df['month'] / 12)\n",
    "    df['day_sin'] = np.sin(2 * np.pi * df['day_of_year']/365)\n",
    "    df['day_cos'] = np.cos(2 * np.pi * df['day_of_year']/365)\n",
    "\n",
    "    # Rolling and EWMA features\n",
    "    calculate_rolling_features(df, 6, '6h')  # 24-hour window\n",
    "    calculate_rolling_features(df, 12, '12h')  # 24-hour window\n",
    "    calculate_rolling_features(df, 24, '24h')  # 24-hour window\n",
    "    calculate_rolling_features(df, 24*7, '7d')  # 7-day window\n",
    "    calculate_ewm_features(df, 6, '6h')  # EWMA for 24 hours\n",
    "    calculate_ewm_features(df, 12, '12h')  # EWMA for 24 hours\n",
    "    calculate_ewm_features(df, 24, '24h')  # EWMA for 24 hours\n",
    "    calculate_ewm_features(df, 24*7, '7d')  # EWMA for 7 days\n",
    "\n",
    "    # Handle NaNs intelligently\n",
    "    handle_na(df)\n",
    "\n",
    "    # Ensure only numeric types are used for modeling\n",
    "    df = df.select_dtypes(include=[np.number])\n",
    "    \n",
    "    return df, original_time_index"
   ]
  },
  {
   "cell_type": "code",
   "execution_count": 13,
   "id": "b78ca322-076a-49b2-bb1e-ed75d37c080f",
   "metadata": {},
   "outputs": [],
   "source": [
    "def get_data_for_convlstm(start_date, end_date):\n",
    "    df, time_index = feature_engineering(fetch_data(start_date, end_date).copy())\n",
    "    return df, time_index"
   ]
  },
  {
   "cell_type": "code",
   "execution_count": 14,
   "id": "33de8ac6-739d-454a-85ef-eefcf61e8cae",
   "metadata": {},
   "outputs": [
    {
     "name": "stdout",
     "output_type": "stream",
     "text": [
      "https://dataset.api.hub.geosphere.at/v1/timeseries/historical/inca-v1-1h-1km?parameters=RR&parameters=GL&parameters=P0&parameters=T2M&parameters=TD2M&parameters=RH2M&parameters=UU&parameters=VV&start=2018-01-01T00%3A00&end=2024-01-01T00%3A00&lat_lon=48.333056%2C16.631944&lat_lon=48.115278%2C16.175833&output_format=geojson&filename=INCA_Vienna_timeseries_all_parameters_2018_2024_0101\n",
      "Fetched data successfully\n"
     ]
    }
   ],
   "source": [
    "preprocessed_df = fetch_data().copy()"
   ]
  },
  {
   "cell_type": "code",
   "execution_count": 15,
   "id": "b9364e51-0e92-4bb4-8c96-2de32b0d8cf9",
   "metadata": {},
   "outputs": [],
   "source": [
    "preprocessed_df_copy = preprocessed_df.copy()"
   ]
  },
  {
   "cell_type": "code",
   "execution_count": 16,
   "id": "20e65929-7e15-4656-9326-0d465ac52526",
   "metadata": {},
   "outputs": [
    {
     "name": "stderr",
     "output_type": "stream",
     "text": [
      "/tmp/ipykernel_10523/421820632.py:13: FutureWarning: DataFrame.fillna with 'method' is deprecated and will raise in a future version. Use obj.ffill() or obj.bfill() instead.\n",
      "  df.fillna(method='ffill', inplace=True)  # Forward fill first to propagate last valid observation forward\n",
      "/tmp/ipykernel_10523/421820632.py:14: FutureWarning: DataFrame.fillna with 'method' is deprecated and will raise in a future version. Use obj.ffill() or obj.bfill() instead.\n",
      "  df.fillna(method='bfill', inplace=True)  # Backward fill to ensure no NaNs remain\n"
     ]
    }
   ],
   "source": [
    "feature_df, time_index  = feature_engineering(preprocessed_df)"
   ]
  },
  {
   "cell_type": "code",
   "execution_count": 17,
   "id": "1bf7490f-f695-437d-95d4-5dd78fa91314",
   "metadata": {},
   "outputs": [],
   "source": [
    "feature_df_copy = feature_df.copy"
   ]
  },
  {
   "cell_type": "code",
   "execution_count": 18,
   "id": "19329503-b686-4b7a-b214-4379df73eee6",
   "metadata": {},
   "outputs": [
    {
     "data": {
      "text/html": [
       "<div>\n",
       "<style scoped>\n",
       "    .dataframe tbody tr th:only-of-type {\n",
       "        vertical-align: middle;\n",
       "    }\n",
       "\n",
       "    .dataframe tbody tr th {\n",
       "        vertical-align: top;\n",
       "    }\n",
       "\n",
       "    .dataframe thead th {\n",
       "        text-align: right;\n",
       "    }\n",
       "</style>\n",
       "<table border=\"1\" class=\"dataframe\">\n",
       "  <thead>\n",
       "    <tr style=\"text-align: right;\">\n",
       "      <th></th>\n",
       "      <th>longitude</th>\n",
       "      <th>latitude</th>\n",
       "      <th>RR</th>\n",
       "      <th>T2M</th>\n",
       "      <th>RH2M</th>\n",
       "      <th>TD2M</th>\n",
       "      <th>GL</th>\n",
       "      <th>UU</th>\n",
       "      <th>VV</th>\n",
       "      <th>P0</th>\n",
       "      <th>...</th>\n",
       "      <th>24h_rolling_min</th>\n",
       "      <th>24h_rolling_std</th>\n",
       "      <th>7d_rolling_mean</th>\n",
       "      <th>7d_rolling_max</th>\n",
       "      <th>7d_rolling_min</th>\n",
       "      <th>7d_rolling_std</th>\n",
       "      <th>6h_ewm</th>\n",
       "      <th>12h_ewm</th>\n",
       "      <th>24h_ewm</th>\n",
       "      <th>7d_ewm</th>\n",
       "    </tr>\n",
       "  </thead>\n",
       "  <tbody>\n",
       "    <tr>\n",
       "      <th>0</th>\n",
       "      <td>16.638773</td>\n",
       "      <td>48.334339</td>\n",
       "      <td>0.000</td>\n",
       "      <td>1.68</td>\n",
       "      <td>94.58</td>\n",
       "      <td>0.91</td>\n",
       "      <td>0.0</td>\n",
       "      <td>-1.08</td>\n",
       "      <td>1.06</td>\n",
       "      <td>101026.92</td>\n",
       "      <td>...</td>\n",
       "      <td>0.40</td>\n",
       "      <td>2.713545</td>\n",
       "      <td>4.803274</td>\n",
       "      <td>9.19</td>\n",
       "      <td>-0.35</td>\n",
       "      <td>2.445896</td>\n",
       "      <td>1.680000</td>\n",
       "      <td>1.680000</td>\n",
       "      <td>1.680000</td>\n",
       "      <td>1.680000</td>\n",
       "    </tr>\n",
       "    <tr>\n",
       "      <th>1</th>\n",
       "      <td>16.638773</td>\n",
       "      <td>48.334339</td>\n",
       "      <td>0.000</td>\n",
       "      <td>1.17</td>\n",
       "      <td>96.23</td>\n",
       "      <td>0.64</td>\n",
       "      <td>0.0</td>\n",
       "      <td>-2.09</td>\n",
       "      <td>0.80</td>\n",
       "      <td>100967.53</td>\n",
       "      <td>...</td>\n",
       "      <td>0.40</td>\n",
       "      <td>2.713545</td>\n",
       "      <td>4.803274</td>\n",
       "      <td>9.19</td>\n",
       "      <td>-0.35</td>\n",
       "      <td>2.445896</td>\n",
       "      <td>1.534286</td>\n",
       "      <td>1.601538</td>\n",
       "      <td>1.639200</td>\n",
       "      <td>1.673964</td>\n",
       "    </tr>\n",
       "    <tr>\n",
       "      <th>2</th>\n",
       "      <td>16.638773</td>\n",
       "      <td>48.334339</td>\n",
       "      <td>0.000</td>\n",
       "      <td>0.40</td>\n",
       "      <td>99.42</td>\n",
       "      <td>0.32</td>\n",
       "      <td>0.0</td>\n",
       "      <td>0.27</td>\n",
       "      <td>0.29</td>\n",
       "      <td>100957.14</td>\n",
       "      <td>...</td>\n",
       "      <td>0.40</td>\n",
       "      <td>2.713545</td>\n",
       "      <td>4.803274</td>\n",
       "      <td>9.19</td>\n",
       "      <td>-0.35</td>\n",
       "      <td>2.445896</td>\n",
       "      <td>1.210204</td>\n",
       "      <td>1.416686</td>\n",
       "      <td>1.540064</td>\n",
       "      <td>1.658888</td>\n",
       "    </tr>\n",
       "    <tr>\n",
       "      <th>3</th>\n",
       "      <td>16.638773</td>\n",
       "      <td>48.334339</td>\n",
       "      <td>0.000</td>\n",
       "      <td>0.51</td>\n",
       "      <td>100.00</td>\n",
       "      <td>0.51</td>\n",
       "      <td>0.0</td>\n",
       "      <td>0.61</td>\n",
       "      <td>0.21</td>\n",
       "      <td>100949.28</td>\n",
       "      <td>...</td>\n",
       "      <td>0.40</td>\n",
       "      <td>2.713545</td>\n",
       "      <td>4.803274</td>\n",
       "      <td>9.19</td>\n",
       "      <td>-0.35</td>\n",
       "      <td>2.445896</td>\n",
       "      <td>1.010146</td>\n",
       "      <td>1.277196</td>\n",
       "      <td>1.457659</td>\n",
       "      <td>1.645292</td>\n",
       "    </tr>\n",
       "    <tr>\n",
       "      <th>4</th>\n",
       "      <td>16.638773</td>\n",
       "      <td>48.334339</td>\n",
       "      <td>0.000</td>\n",
       "      <td>0.49</td>\n",
       "      <td>100.00</td>\n",
       "      <td>0.49</td>\n",
       "      <td>0.0</td>\n",
       "      <td>0.76</td>\n",
       "      <td>0.43</td>\n",
       "      <td>100939.71</td>\n",
       "      <td>...</td>\n",
       "      <td>0.40</td>\n",
       "      <td>2.713545</td>\n",
       "      <td>4.803274</td>\n",
       "      <td>9.19</td>\n",
       "      <td>-0.35</td>\n",
       "      <td>2.445896</td>\n",
       "      <td>0.861533</td>\n",
       "      <td>1.156089</td>\n",
       "      <td>1.380246</td>\n",
       "      <td>1.631620</td>\n",
       "    </tr>\n",
       "    <tr>\n",
       "      <th>...</th>\n",
       "      <td>...</td>\n",
       "      <td>...</td>\n",
       "      <td>...</td>\n",
       "      <td>...</td>\n",
       "      <td>...</td>\n",
       "      <td>...</td>\n",
       "      <td>...</td>\n",
       "      <td>...</td>\n",
       "      <td>...</td>\n",
       "      <td>...</td>\n",
       "      <td>...</td>\n",
       "      <td>...</td>\n",
       "      <td>...</td>\n",
       "      <td>...</td>\n",
       "      <td>...</td>\n",
       "      <td>...</td>\n",
       "      <td>...</td>\n",
       "      <td>...</td>\n",
       "      <td>...</td>\n",
       "      <td>...</td>\n",
       "      <td>...</td>\n",
       "    </tr>\n",
       "    <tr>\n",
       "      <th>105165</th>\n",
       "      <td>16.181034</td>\n",
       "      <td>48.112373</td>\n",
       "      <td>0.000</td>\n",
       "      <td>2.26</td>\n",
       "      <td>86.19</td>\n",
       "      <td>0.20</td>\n",
       "      <td>0.0</td>\n",
       "      <td>0.19</td>\n",
       "      <td>0.19</td>\n",
       "      <td>100935.99</td>\n",
       "      <td>...</td>\n",
       "      <td>-0.91</td>\n",
       "      <td>1.274571</td>\n",
       "      <td>6.981190</td>\n",
       "      <td>14.18</td>\n",
       "      <td>-0.91</td>\n",
       "      <td>3.909641</td>\n",
       "      <td>1.796285</td>\n",
       "      <td>1.701230</td>\n",
       "      <td>2.314958</td>\n",
       "      <td>5.679273</td>\n",
       "    </tr>\n",
       "    <tr>\n",
       "      <th>105166</th>\n",
       "      <td>16.181034</td>\n",
       "      <td>48.112373</td>\n",
       "      <td>0.000</td>\n",
       "      <td>2.51</td>\n",
       "      <td>82.91</td>\n",
       "      <td>-0.09</td>\n",
       "      <td>0.0</td>\n",
       "      <td>1.08</td>\n",
       "      <td>0.49</td>\n",
       "      <td>100932.03</td>\n",
       "      <td>...</td>\n",
       "      <td>-0.91</td>\n",
       "      <td>1.239458</td>\n",
       "      <td>6.933988</td>\n",
       "      <td>14.18</td>\n",
       "      <td>-0.91</td>\n",
       "      <td>3.915498</td>\n",
       "      <td>2.000204</td>\n",
       "      <td>1.825656</td>\n",
       "      <td>2.330561</td>\n",
       "      <td>5.641766</td>\n",
       "    </tr>\n",
       "    <tr>\n",
       "      <th>105167</th>\n",
       "      <td>16.181034</td>\n",
       "      <td>48.112373</td>\n",
       "      <td>0.000</td>\n",
       "      <td>1.84</td>\n",
       "      <td>84.37</td>\n",
       "      <td>-0.51</td>\n",
       "      <td>0.0</td>\n",
       "      <td>0.20</td>\n",
       "      <td>0.17</td>\n",
       "      <td>101026.68</td>\n",
       "      <td>...</td>\n",
       "      <td>-0.91</td>\n",
       "      <td>1.166241</td>\n",
       "      <td>6.878810</td>\n",
       "      <td>14.18</td>\n",
       "      <td>-0.91</td>\n",
       "      <td>3.921609</td>\n",
       "      <td>1.954431</td>\n",
       "      <td>1.827863</td>\n",
       "      <td>2.291316</td>\n",
       "      <td>5.596775</td>\n",
       "    </tr>\n",
       "    <tr>\n",
       "      <th>105168</th>\n",
       "      <td>16.181034</td>\n",
       "      <td>48.112373</td>\n",
       "      <td>0.000</td>\n",
       "      <td>4.47</td>\n",
       "      <td>78.51</td>\n",
       "      <td>1.07</td>\n",
       "      <td>0.0</td>\n",
       "      <td>4.03</td>\n",
       "      <td>1.66</td>\n",
       "      <td>100941.54</td>\n",
       "      <td>...</td>\n",
       "      <td>-0.91</td>\n",
       "      <td>1.281970</td>\n",
       "      <td>6.835119</td>\n",
       "      <td>14.18</td>\n",
       "      <td>-0.91</td>\n",
       "      <td>3.907203</td>\n",
       "      <td>2.673165</td>\n",
       "      <td>2.234345</td>\n",
       "      <td>2.465611</td>\n",
       "      <td>5.583441</td>\n",
       "    </tr>\n",
       "    <tr>\n",
       "      <th>105169</th>\n",
       "      <td>16.181034</td>\n",
       "      <td>48.112373</td>\n",
       "      <td>0.002</td>\n",
       "      <td>4.82</td>\n",
       "      <td>82.31</td>\n",
       "      <td>2.06</td>\n",
       "      <td>0.0</td>\n",
       "      <td>1.68</td>\n",
       "      <td>0.81</td>\n",
       "      <td>101031.94</td>\n",
       "      <td>...</td>\n",
       "      <td>-0.91</td>\n",
       "      <td>1.440727</td>\n",
       "      <td>6.795060</td>\n",
       "      <td>14.18</td>\n",
       "      <td>-0.91</td>\n",
       "      <td>3.893048</td>\n",
       "      <td>3.286547</td>\n",
       "      <td>2.632138</td>\n",
       "      <td>2.653962</td>\n",
       "      <td>5.574406</td>\n",
       "    </tr>\n",
       "  </tbody>\n",
       "</table>\n",
       "<p>105110 rows × 48 columns</p>\n",
       "</div>"
      ],
      "text/plain": [
       "        longitude   latitude     RR   T2M    RH2M  TD2M   GL    UU    VV  \\\n",
       "0       16.638773  48.334339  0.000  1.68   94.58  0.91  0.0 -1.08  1.06   \n",
       "1       16.638773  48.334339  0.000  1.17   96.23  0.64  0.0 -2.09  0.80   \n",
       "2       16.638773  48.334339  0.000  0.40   99.42  0.32  0.0  0.27  0.29   \n",
       "3       16.638773  48.334339  0.000  0.51  100.00  0.51  0.0  0.61  0.21   \n",
       "4       16.638773  48.334339  0.000  0.49  100.00  0.49  0.0  0.76  0.43   \n",
       "...           ...        ...    ...   ...     ...   ...  ...   ...   ...   \n",
       "105165  16.181034  48.112373  0.000  2.26   86.19  0.20  0.0  0.19  0.19   \n",
       "105166  16.181034  48.112373  0.000  2.51   82.91 -0.09  0.0  1.08  0.49   \n",
       "105167  16.181034  48.112373  0.000  1.84   84.37 -0.51  0.0  0.20  0.17   \n",
       "105168  16.181034  48.112373  0.000  4.47   78.51  1.07  0.0  4.03  1.66   \n",
       "105169  16.181034  48.112373  0.002  4.82   82.31  2.06  0.0  1.68  0.81   \n",
       "\n",
       "               P0  ...  24h_rolling_min  24h_rolling_std  7d_rolling_mean  \\\n",
       "0       101026.92  ...             0.40         2.713545         4.803274   \n",
       "1       100967.53  ...             0.40         2.713545         4.803274   \n",
       "2       100957.14  ...             0.40         2.713545         4.803274   \n",
       "3       100949.28  ...             0.40         2.713545         4.803274   \n",
       "4       100939.71  ...             0.40         2.713545         4.803274   \n",
       "...           ...  ...              ...              ...              ...   \n",
       "105165  100935.99  ...            -0.91         1.274571         6.981190   \n",
       "105166  100932.03  ...            -0.91         1.239458         6.933988   \n",
       "105167  101026.68  ...            -0.91         1.166241         6.878810   \n",
       "105168  100941.54  ...            -0.91         1.281970         6.835119   \n",
       "105169  101031.94  ...            -0.91         1.440727         6.795060   \n",
       "\n",
       "        7d_rolling_max  7d_rolling_min  7d_rolling_std    6h_ewm   12h_ewm  \\\n",
       "0                 9.19           -0.35        2.445896  1.680000  1.680000   \n",
       "1                 9.19           -0.35        2.445896  1.534286  1.601538   \n",
       "2                 9.19           -0.35        2.445896  1.210204  1.416686   \n",
       "3                 9.19           -0.35        2.445896  1.010146  1.277196   \n",
       "4                 9.19           -0.35        2.445896  0.861533  1.156089   \n",
       "...                ...             ...             ...       ...       ...   \n",
       "105165           14.18           -0.91        3.909641  1.796285  1.701230   \n",
       "105166           14.18           -0.91        3.915498  2.000204  1.825656   \n",
       "105167           14.18           -0.91        3.921609  1.954431  1.827863   \n",
       "105168           14.18           -0.91        3.907203  2.673165  2.234345   \n",
       "105169           14.18           -0.91        3.893048  3.286547  2.632138   \n",
       "\n",
       "         24h_ewm    7d_ewm  \n",
       "0       1.680000  1.680000  \n",
       "1       1.639200  1.673964  \n",
       "2       1.540064  1.658888  \n",
       "3       1.457659  1.645292  \n",
       "4       1.380246  1.631620  \n",
       "...          ...       ...  \n",
       "105165  2.314958  5.679273  \n",
       "105166  2.330561  5.641766  \n",
       "105167  2.291316  5.596775  \n",
       "105168  2.465611  5.583441  \n",
       "105169  2.653962  5.574406  \n",
       "\n",
       "[105110 rows x 48 columns]"
      ]
     },
     "execution_count": 18,
     "metadata": {},
     "output_type": "execute_result"
    }
   ],
   "source": [
    "df = feature_df.copy()\n",
    "df"
   ]
  },
  {
   "cell_type": "code",
   "execution_count": 19,
   "id": "2409900e-fc5c-41a5-ae49-bcb9525e08c0",
   "metadata": {},
   "outputs": [
    {
     "name": "stdout",
     "output_type": "stream",
     "text": [
      "Number of features: 48\n"
     ]
    }
   ],
   "source": [
    "param = 'T2M'\n",
    "sequence_length = 24\n",
    "feature_count = df.shape[1]\n",
    "hours_to_predict = 6\n",
    "print(\"Number of features:\", feature_count)\n"
   ]
  },
  {
   "cell_type": "code",
   "execution_count": 30,
   "id": "6b9dc7fc-230a-4252-bdd7-988b35920216",
   "metadata": {},
   "outputs": [
    {
     "name": "stderr",
     "output_type": "stream",
     "text": [
      "/home/yjess/anaconda3/lib/python3.11/site-packages/keras/src/layers/rnn/rnn.py:204: UserWarning: Do not pass an `input_shape`/`input_dim` argument to a layer. When using Sequential models, prefer using an `Input(shape)` object as the first layer in the model instead.\n",
      "  super().__init__(**kwargs)\n"
     ]
    },
    {
     "name": "stdout",
     "output_type": "stream",
     "text": [
      "Epoch 1/3\n"
     ]
    },
    {
     "name": "stderr",
     "output_type": "stream",
     "text": [
      "2024-04-29 14:33:16.927828: W external/local_tsl/tsl/framework/cpu_allocator_impl.cc:83] Allocation of 387343872 exceeds 10% of free system memory.\n"
     ]
    },
    {
     "name": "stdout",
     "output_type": "stream",
     "text": [
      "\u001b[1m2625/2627\u001b[0m \u001b[32m━━━━━━━━━━━━━━━━━━━\u001b[0m\u001b[37m━\u001b[0m \u001b[1m0s\u001b[0m 18ms/step - loss: 0.0084\n",
      "Epoch 1: val_loss improved from inf to 0.00106, saving model to checkpoints/model_epoch_01_val_loss_0.00.weights.h5\n",
      "\u001b[1m2627/2627\u001b[0m \u001b[32m━━━━━━━━━━━━━━━━━━━━\u001b[0m\u001b[37m\u001b[0m \u001b[1m54s\u001b[0m 19ms/step - loss: 0.0083 - val_loss: 0.0011\n",
      "Epoch 2/3\n",
      "\u001b[1m2626/2627\u001b[0m \u001b[32m━━━━━━━━━━━━━━━━━━━\u001b[0m\u001b[37m━\u001b[0m \u001b[1m0s\u001b[0m 18ms/step - loss: 9.0437e-04\n",
      "Epoch 2: val_loss improved from 0.00106 to 0.00075, saving model to checkpoints/model_epoch_02_val_loss_0.00.weights.h5\n",
      "\u001b[1m2627/2627\u001b[0m \u001b[32m━━━━━━━━━━━━━━━━━━━━\u001b[0m\u001b[37m\u001b[0m \u001b[1m51s\u001b[0m 19ms/step - loss: 9.0434e-04 - val_loss: 7.5287e-04\n",
      "Epoch 3/3\n",
      "\u001b[1m2625/2627\u001b[0m \u001b[32m━━━━━━━━━━━━━━━━━━━\u001b[0m\u001b[37m━\u001b[0m \u001b[1m0s\u001b[0m 20ms/step - loss: 7.8205e-04\n",
      "Epoch 3: val_loss did not improve from 0.00075\n",
      "\u001b[1m2627/2627\u001b[0m \u001b[32m━━━━━━━━━━━━━━━━━━━━\u001b[0m\u001b[37m\u001b[0m \u001b[1m55s\u001b[0m 21ms/step - loss: 7.8203e-04 - val_loss: 7.6091e-04\n"
     ]
    }
   ],
   "source": [
    "scaled_model = ScaledModel(sequence_length=sequence_length, param=param, feature_count=feature_count, hours_to_predict=hours_to_predict)\n",
    "scaled_model.fit(df, epochs=3, batch_size=32)\n",
    "\n",
    "# To save model and scaler\n",
    "#scaled_model.save('saved_model_scaler_6h')"
   ]
  },
  {
   "cell_type": "code",
   "execution_count": 21,
   "id": "f9dcfa14-cbd7-463e-9023-0ca5553b772b",
   "metadata": {},
   "outputs": [
    {
     "name": "stdout",
     "output_type": "stream",
     "text": [
      "Directory contents: ['model.keras', 'scaler.pkl']\n"
     ]
    }
   ],
   "source": [
    "import os\n",
    "\n",
    "# Directory to check\n",
    "directory = 'saved_model_scaler_6h'  # Make sure this is the directory you saved the files in\n",
    "\n",
    "# Check if the directory exists\n",
    "if os.path.exists(directory):\n",
    "    # List contents of the directory\n",
    "    print(\"Directory contents:\", os.listdir(directory))\n",
    "else:\n",
    "    print(\"Directory does not exist:\", directory)\n"
   ]
  },
  {
   "cell_type": "code",
   "execution_count": 22,
   "id": "6bef176a-98f6-4714-bbc4-aec150ac798d",
   "metadata": {},
   "outputs": [],
   "source": [
    "scaled_model.save('6h_model_new')\n"
   ]
  },
  {
   "cell_type": "code",
   "execution_count": 25,
   "id": "b6756cc3-afbe-4378-9527-d862c140b448",
   "metadata": {},
   "outputs": [],
   "source": [
    "scaled_model = tf.keras.models.load_model(os.path.join('6h_model_new', 'model.keras'))"
   ]
  },
  {
   "cell_type": "code",
   "execution_count": 31,
   "id": "2851d4bd-c7c6-4393-a073-7f537086d09c",
   "metadata": {},
   "outputs": [
    {
     "name": "stdout",
     "output_type": "stream",
     "text": [
      "\u001b[1m657/657\u001b[0m \u001b[32m━━━━━━━━━━━━━━━━━━━━\u001b[0m\u001b[37m\u001b[0m \u001b[1m4s\u001b[0m 6ms/step\n",
      "Mean Squared Error: 0.0007609086814905659\n",
      "Root Mean Squared Error: 0.027584573251920465\n",
      "Mean Absolute Error: 0.019551194611846845\n",
      "\u001b[1m657/657\u001b[0m \u001b[32m━━━━━━━━━━━━━━━━━━━━\u001b[0m\u001b[37m\u001b[0m \u001b[1m4s\u001b[0m 6ms/step\n",
      "\u001b[1m657/657\u001b[0m \u001b[32m━━━━━━━━━━━━━━━━━━━━\u001b[0m\u001b[37m\u001b[0m \u001b[1m4s\u001b[0m 6ms/step\n",
      "Mean Squared Error: 0.0007609086814905659\n",
      "Root Mean Squared Error: 0.027584573251920465\n",
      "Mean Absolute Error: 0.019551194611846845\n"
     ]
    },
    {
     "data": {
      "image/png": "[encoded data removed]",
      "text/plain": [
       "<Figure size 1500x600 with 2 Axes>"
      ]
     },
     "metadata": {},
     "output_type": "display_data"
    }
   ],
   "source": [
    "metrics = scaled_model.evaluate()\n",
    "print(\"Mean Squared Error:\", metrics['MSE'])\n",
    "print(\"Root Mean Squared Error:\", metrics['RMSE'])\n",
    "print(\"Mean Absolute Error:\", metrics['MAE'])\n",
    "scaled_model.evaluate_and_plot()"
   ]
  },
  {
   "cell_type": "code",
   "execution_count": 32,
   "id": "afc3dd30-73fb-45a6-b598-42de9c9a93e9",
   "metadata": {},
   "outputs": [
    {
     "name": "stdout",
     "output_type": "stream",
     "text": [
      "https://dataset.api.hub.geosphere.at/v1/timeseries/historical/inca-v1-1h-1km?parameters=RR&parameters=GL&parameters=P0&parameters=T2M&parameters=TD2M&parameters=RH2M&parameters=UU&parameters=VV&start=2023-06-14T00%3A00&end=2023-06-18T00%3A00&lat_lon=48.333056%2C16.631944&lat_lon=48.115278%2C16.175833&output_format=geojson&filename=INCA_Vienna_timeseries_all_parameters_2023_2023_0101\n",
      "Fetched data successfully\n"
     ]
    },
    {
     "name": "stderr",
     "output_type": "stream",
     "text": [
      "/tmp/ipykernel_10523/421820632.py:13: FutureWarning: DataFrame.fillna with 'method' is deprecated and will raise in a future version. Use obj.ffill() or obj.bfill() instead.\n",
      "  df.fillna(method='ffill', inplace=True)  # Forward fill first to propagate last valid observation forward\n",
      "/tmp/ipykernel_10523/421820632.py:14: FutureWarning: DataFrame.fillna with 'method' is deprecated and will raise in a future version. Use obj.ffill() or obj.bfill() instead.\n",
      "  df.fillna(method='bfill', inplace=True)  # Backward fill to ensure no NaNs remain\n"
     ]
    }
   ],
   "source": [
    "data_for_prediction, time_index_pre_data = get_data_for_convlstm('2023-06-14', '2023-06-18')\n"
   ]
  },
  {
   "cell_type": "code",
   "execution_count": 28,
   "id": "713ed8cf-e3f2-4ac2-87e9-2ca73a029d3f",
   "metadata": {},
   "outputs": [
    {
     "ename": "AttributeError",
     "evalue": "'Sequential' object has no attribute 'predict_'",
     "output_type": "error",
     "traceback": [
      "\u001b[0;31m---------------------------------------------------------------------------\u001b[0m",
      "\u001b[0;31mAttributeError\u001b[0m                            Traceback (most recent call last)",
      "Cell \u001b[0;32mIn[28], line 1\u001b[0m\n\u001b[0;32m----> 1\u001b[0m predicted_temps \u001b[38;5;241m=\u001b[39m scaled_model\u001b[38;5;241m.\u001b[39mpredict_(data_for_prediction)\n\u001b[1;32m      2\u001b[0m \u001b[38;5;28mprint\u001b[39m(\u001b[38;5;124m\"\u001b[39m\u001b[38;5;124mPredicted temperatures for the next 24 hours:\u001b[39m\u001b[38;5;124m\"\u001b[39m, predicted_temps)\n",
      "\u001b[0;31mAttributeError\u001b[0m: 'Sequential' object has no attribute 'predict_'"
     ]
    }
   ],
   "source": [
    "\n",
    "predicted_temps = scaled_model.predict_(data_for_prediction)\n",
    "print(\"Predicted temperatures for the next 24 hours:\", predicted_temps)\n"
   ]
  },
  {
   "cell_type": "code",
   "execution_count": 34,
   "id": "f64369c7-d44e-48e6-a562-2072a5832c1e",
   "metadata": {},
   "outputs": [
    {
     "name": "stdout",
     "output_type": "stream",
     "text": [
      "https://dataset.api.hub.geosphere.at/v1/timeseries/historical/inca-v1-1h-1km?parameters=RR&parameters=GL&parameters=P0&parameters=T2M&parameters=TD2M&parameters=RH2M&parameters=UU&parameters=VV&start=2024-04-25T00%3A00&end=2024-04-29T00%3A00&lat_lon=48.333056%2C16.631944&lat_lon=48.115278%2C16.175833&output_format=geojson&filename=INCA_Vienna_timeseries_all_parameters_2024_2024_0101\n",
      "Fetched data successfully\n",
      "\u001b[1m1/1\u001b[0m \u001b[32m━━━━━━━━━━━━━━━━━━━━\u001b[0m\u001b[37m\u001b[0m \u001b[1m0s\u001b[0m 23ms/step\n"
     ]
    },
    {
     "name": "stderr",
     "output_type": "stream",
     "text": [
      "/tmp/ipykernel_10523/421820632.py:13: FutureWarning:\n",
      "\n",
      "DataFrame.fillna with 'method' is deprecated and will raise in a future version. Use obj.ffill() or obj.bfill() instead.\n",
      "\n",
      "/tmp/ipykernel_10523/421820632.py:14: FutureWarning:\n",
      "\n",
      "DataFrame.fillna with 'method' is deprecated and will raise in a future version. Use obj.ffill() or obj.bfill() instead.\n",
      "\n"
     ]
    },
    {
     "data": {
      "application/vnd.plotly.v1+json": {
       "config": {
        "plotlyServerURL": "https://plot.ly"
       },
       "data": [
        {
         "line": {
          "color": "blue"
         },
         "mode": "lines",
         "name": "Original T2M",
         "type": "scatter",
         "x": [
          "2024-04-25T00:00:00+00:00",
          "2024-04-25T01:00:00+00:00",
          "2024-04-25T02:00:00+00:00",
          "2024-04-25T03:00:00+00:00",
          "2024-04-25T04:00:00+00:00",
          "2024-04-25T05:00:00+00:00",
          "2024-04-25T06:00:00+00:00",
          "2024-04-25T07:00:00+00:00",
          "2024-04-25T08:00:00+00:00",
          "2024-04-25T09:00:00+00:00",
          "2024-04-25T10:00:00+00:00",
          "2024-04-25T11:00:00+00:00",
          "2024-04-25T12:00:00+00:00",
          "2024-04-25T13:00:00+00:00",
          "2024-04-25T14:00:00+00:00",
          "2024-04-25T15:00:00+00:00",
          "2024-04-25T16:00:00+00:00",
          "2024-04-25T17:00:00+00:00",
          "2024-04-25T18:00:00+00:00",
          "2024-04-25T19:00:00+00:00",
          "2024-04-25T20:00:00+00:00",
          "2024-04-25T21:00:00+00:00",
          "2024-04-25T22:00:00+00:00",
          "2024-04-25T23:00:00+00:00",
          "2024-04-26T00:00:00+00:00",
          "2024-04-26T01:00:00+00:00",
          "2024-04-26T02:00:00+00:00",
          "2024-04-26T03:00:00+00:00",
          "2024-04-26T04:00:00+00:00",
          "2024-04-26T05:00:00+00:00",
          "2024-04-26T06:00:00+00:00",
          "2024-04-26T07:00:00+00:00",
          "2024-04-26T08:00:00+00:00",
          "2024-04-26T09:00:00+00:00",
          "2024-04-26T10:00:00+00:00",
          "2024-04-26T11:00:00+00:00",
          "2024-04-26T12:00:00+00:00",
          "2024-04-26T13:00:00+00:00",
          "2024-04-26T14:00:00+00:00",
          "2024-04-26T15:00:00+00:00",
          "2024-04-26T16:00:00+00:00",
          "2024-04-26T17:00:00+00:00",
          "2024-04-26T18:00:00+00:00",
          "2024-04-26T19:00:00+00:00",
          "2024-04-26T20:00:00+00:00",
          "2024-04-26T21:00:00+00:00",
          "2024-04-26T22:00:00+00:00",
          "2024-04-26T23:00:00+00:00",
          "2024-04-27T00:00:00+00:00",
          "2024-04-27T01:00:00+00:00",
          "2024-04-27T02:00:00+00:00",
          "2024-04-27T03:00:00+00:00",
          "2024-04-27T04:00:00+00:00",
          "2024-04-27T05:00:00+00:00",
          "2024-04-27T06:00:00+00:00",
          "2024-04-27T07:00:00+00:00",
          "2024-04-27T08:00:00+00:00",
          "2024-04-27T09:00:00+00:00",
          "2024-04-27T10:00:00+00:00",
          "2024-04-27T11:00:00+00:00",
          "2024-04-27T12:00:00+00:00",
          "2024-04-27T13:00:00+00:00",
          "2024-04-27T14:00:00+00:00",
          "2024-04-27T15:00:00+00:00",
          "2024-04-27T16:00:00+00:00",
          "2024-04-27T17:00:00+00:00",
          "2024-04-27T18:00:00+00:00",
          "2024-04-27T19:00:00+00:00",
          "2024-04-27T20:00:00+00:00",
          "2024-04-27T21:00:00+00:00",
          "2024-04-27T22:00:00+00:00",
          "2024-04-27T23:00:00+00:00",
          "2024-04-28T00:00:00+00:00",
          "2024-04-28T01:00:00+00:00",
          "2024-04-28T02:00:00+00:00",
          "2024-04-28T03:00:00+00:00",
          "2024-04-28T05:00:00+00:00",
          "2024-04-28T06:00:00+00:00",
          "2024-04-28T07:00:00+00:00",
          "2024-04-28T08:00:00+00:00",
          "2024-04-28T09:00:00+00:00",
          "2024-04-28T10:00:00+00:00",
          "2024-04-28T11:00:00+00:00",
          "2024-04-28T12:00:00+00:00",
          "2024-04-28T13:00:00+00:00",
          "2024-04-28T14:00:00+00:00",
          "2024-04-28T15:00:00+00:00",
          "2024-04-28T16:00:00+00:00",
          "2024-04-28T17:00:00+00:00",
          "2024-04-28T18:00:00+00:00",
          "2024-04-28T19:00:00+00:00",
          "2024-04-28T20:00:00+00:00",
          "2024-04-28T21:00:00+00:00",
          "2024-04-28T22:00:00+00:00",
          "2024-04-28T23:00:00+00:00",
          "2024-04-29T00:00:00+00:00",
          "2024-04-25T00:00:00+00:00",
          "2024-04-25T01:00:00+00:00",
          "2024-04-25T02:00:00+00:00",
          "2024-04-25T03:00:00+00:00",
          "2024-04-25T04:00:00+00:00",
          "2024-04-25T05:00:00+00:00",
          "2024-04-25T06:00:00+00:00",
          "2024-04-25T07:00:00+00:00",
          "2024-04-25T08:00:00+00:00",
          "2024-04-25T09:00:00+00:00",
          "2024-04-25T10:00:00+00:00",
          "2024-04-25T11:00:00+00:00",
          "2024-04-25T12:00:00+00:00",
          "2024-04-25T13:00:00+00:00",
          "2024-04-25T14:00:00+00:00",
          "2024-04-25T15:00:00+00:00",
          "2024-04-25T16:00:00+00:00",
          "2024-04-25T17:00:00+00:00",
          "2024-04-25T18:00:00+00:00",
          "2024-04-25T19:00:00+00:00",
          "2024-04-25T20:00:00+00:00",
          "2024-04-25T21:00:00+00:00",
          "2024-04-25T22:00:00+00:00",
          "2024-04-25T23:00:00+00:00",
          "2024-04-26T00:00:00+00:00",
          "2024-04-26T01:00:00+00:00",
          "2024-04-26T02:00:00+00:00",
          "2024-04-26T03:00:00+00:00",
          "2024-04-26T04:00:00+00:00",
          "2024-04-26T05:00:00+00:00",
          "2024-04-26T06:00:00+00:00",
          "2024-04-26T07:00:00+00:00",
          "2024-04-26T08:00:00+00:00",
          "2024-04-26T09:00:00+00:00",
          "2024-04-26T10:00:00+00:00",
          "2024-04-26T11:00:00+00:00",
          "2024-04-26T12:00:00+00:00",
          "2024-04-26T13:00:00+00:00",
          "2024-04-26T14:00:00+00:00",
          "2024-04-26T15:00:00+00:00",
          "2024-04-26T16:00:00+00:00",
          "2024-04-26T17:00:00+00:00",
          "2024-04-26T18:00:00+00:00",
          "2024-04-26T19:00:00+00:00",
          "2024-04-26T20:00:00+00:00",
          "2024-04-26T21:00:00+00:00",
          "2024-04-26T22:00:00+00:00",
          "2024-04-26T23:00:00+00:00",
          "2024-04-27T00:00:00+00:00",
          "2024-04-27T01:00:00+00:00",
          "2024-04-27T02:00:00+00:00",
          "2024-04-27T03:00:00+00:00",
          "2024-04-27T04:00:00+00:00",
          "2024-04-27T05:00:00+00:00",
          "2024-04-27T06:00:00+00:00",
          "2024-04-27T07:00:00+00:00",
          "2024-04-27T08:00:00+00:00",
          "2024-04-27T09:00:00+00:00",
          "2024-04-27T10:00:00+00:00",
          "2024-04-27T11:00:00+00:00",
          "2024-04-27T12:00:00+00:00",
          "2024-04-27T13:00:00+00:00",
          "2024-04-27T14:00:00+00:00",
          "2024-04-27T15:00:00+00:00",
          "2024-04-27T16:00:00+00:00",
          "2024-04-27T17:00:00+00:00",
          "2024-04-27T18:00:00+00:00",
          "2024-04-27T19:00:00+00:00",
          "2024-04-27T20:00:00+00:00",
          "2024-04-27T21:00:00+00:00",
          "2024-04-27T22:00:00+00:00",
          "2024-04-27T23:00:00+00:00",
          "2024-04-28T00:00:00+00:00",
          "2024-04-28T01:00:00+00:00",
          "2024-04-28T02:00:00+00:00",
          "2024-04-28T03:00:00+00:00",
          "2024-04-28T05:00:00+00:00",
          "2024-04-28T06:00:00+00:00",
          "2024-04-28T07:00:00+00:00",
          "2024-04-28T08:00:00+00:00",
          "2024-04-28T09:00:00+00:00",
          "2024-04-28T10:00:00+00:00",
          "2024-04-28T11:00:00+00:00",
          "2024-04-28T12:00:00+00:00",
          "2024-04-28T13:00:00+00:00",
          "2024-04-28T14:00:00+00:00",
          "2024-04-28T15:00:00+00:00",
          "2024-04-28T16:00:00+00:00",
          "2024-04-28T17:00:00+00:00",
          "2024-04-28T18:00:00+00:00",
          "2024-04-28T19:00:00+00:00",
          "2024-04-28T20:00:00+00:00",
          "2024-04-28T21:00:00+00:00",
          "2024-04-28T22:00:00+00:00",
          "2024-04-28T23:00:00+00:00",
          "2024-04-29T00:00:00+00:00"
         ],
         "y": [
          4.77,
          4.42,
          4.15,
          3.74,
          2.93,
          4.47,
          6.33,
          7.81,
          8.88,
          9.14,
          9.97,
          10.93,
          11.85,
          12.06,
          12.65,
          12.35,
          11.56,
          10.23,
          9.33,
          7.32,
          5.53,
          4.1,
          2.8,
          1.24,
          1.16,
          0.42,
          -0.89,
          -0.02,
          -1.37,
          1.53,
          5.83,
          9.1,
          11.06,
          13.07,
          14.04,
          14.79,
          15.73,
          16.12,
          16.75,
          15.93,
          15.72,
          14.79,
          12.67,
          10.6,
          9.25,
          8.22,
          7,
          6.68,
          5.81,
          5.18,
          4.98,
          4.34,
          4.47,
          6.19,
          9.36,
          11.62,
          13.42,
          14.99,
          16.23,
          17.29,
          18.65,
          19.42,
          19.95,
          20.13,
          20.03,
          19.02,
          17.22,
          15.55,
          14.43,
          13.69,
          12.6,
          12.12,
          11.6,
          11.21,
          10.58,
          10.33,
          11.19,
          13.69,
          15.18,
          17.02,
          18.53,
          19.34,
          20.8,
          21.64,
          22.35,
          22.93,
          22.54,
          22.32,
          20.72,
          19.08,
          17.03,
          15.73,
          14.74,
          13.49,
          12.43,
          10.36,
          3.61,
          3.5,
          3.72,
          3.57,
          3.19,
          4.38,
          5.08,
          6.16,
          7.56,
          8.24,
          9.16,
          10.08,
          10.18,
          10.78,
          10.71,
          9.61,
          8.01,
          8.3,
          7.1,
          5.09,
          4.14,
          3.6,
          2.99,
          2.43,
          2.18,
          1.76,
          1.51,
          0.66,
          0.53,
          2.13,
          4.6,
          7.32,
          8.9,
          11.15,
          13.27,
          14.45,
          14.63,
          15.09,
          14.8,
          14.54,
          14.28,
          13.54,
          12.01,
          10.07,
          8.09,
          7.75,
          6.85,
          6.47,
          5.3,
          4.45,
          3.84,
          3.15,
          2.67,
          4.14,
          6.86,
          9.59,
          11.28,
          12.64,
          14.58,
          16.4,
          17.69,
          18.63,
          19.09,
          19.21,
          18.87,
          17.87,
          16.32,
          14.92,
          13.71,
          12.42,
          11.33,
          10.17,
          10.02,
          9.47,
          9.18,
          9.13,
          9.2,
          12.44,
          15,
          17.13,
          19.4,
          20.6,
          21.63,
          22.09,
          22.7,
          22.74,
          22.72,
          21.69,
          20.21,
          17.9,
          15.85,
          14.81,
          13.85,
          12.72,
          12.01,
          11.13
         ]
        },
        {
         "line": {
          "color": "red",
          "dash": "dash"
         },
         "mode": "lines+markers",
         "name": "Predicted T2M",
         "type": "scatter",
         "x": [
          "2024-04-29T01:00:00+00:00",
          "2024-04-29T02:00:00+00:00",
          "2024-04-29T03:00:00+00:00",
          "2024-04-29T04:00:00+00:00",
          "2024-04-29T05:00:00+00:00",
          "2024-04-29T06:00:00+00:00"
         ],
         "y": [
          11.023739928007132,
          10.209604349732404,
          9.365081308484083,
          9.51044987559319,
          10.229774452447897,
          11.590769177675252
         ]
        }
       ],
       "layout": {
        "autosize": true,
        "hovermode": "x unified",
        "template": {
         "data": {
          "bar": [
           {
            "error_x": {
             "color": "#2a3f5f"
            },
            "error_y": {
             "color": "#2a3f5f"
            },
            "marker": {
             "line": {
              "color": "#E5ECF6",
              "width": 0.5
             },
             "pattern": {
              "fillmode": "overlay",
              "size": 10,
              "solidity": 0.2
             }
            },
            "type": "bar"
           }
          ],
          "barpolar": [
           {
            "marker": {
             "line": {
              "color": "#E5ECF6",
              "width": 0.5
             },
             "pattern": {
              "fillmode": "overlay",
              "size": 10,
              "solidity": 0.2
             }
            },
            "type": "barpolar"
           }
          ],
          "carpet": [
           {
            "aaxis": {
             "endlinecolor": "#2a3f5f",
             "gridcolor": "white",
             "linecolor": "white",
             "minorgridcolor": "white",
             "startlinecolor": "#2a3f5f"
            },
            "baxis": {
             "endlinecolor": "#2a3f5f",
             "gridcolor": "white",
             "linecolor": "white",
             "minorgridcolor": "white",
             "startlinecolor": "#2a3f5f"
            },
            "type": "carpet"
           }
          ],
          "choropleth": [
           {
            "colorbar": {
             "outlinewidth": 0,
             "ticks": ""
            },
            "type": "choropleth"
           }
          ],
          "contour": [
           {
            "colorbar": {
             "outlinewidth": 0,
             "ticks": ""
            },
            "colorscale": [
             [
              0,
              "#0d0887"
             ],
             [
              0.1111111111111111,
              "#46039f"
             ],
             [
              0.2222222222222222,
              "#7201a8"
             ],
             [
              0.3333333333333333,
              "#9c179e"
             ],
             [
              0.4444444444444444,
              "#bd3786"
             ],
             [
              0.5555555555555556,
              "#d8576b"
             ],
             [
              0.6666666666666666,
              "#ed7953"
             ],
             [
              0.7777777777777778,
              "#fb9f3a"
             ],
             [
              0.8888888888888888,
              "#fdca26"
             ],
             [
              1,
              "#f0f921"
             ]
            ],
            "type": "contour"
           }
          ],
          "contourcarpet": [
           {
            "colorbar": {
             "outlinewidth": 0,
             "ticks": ""
            },
            "type": "contourcarpet"
           }
          ],
          "heatmap": [
           {
            "colorbar": {
             "outlinewidth": 0,
             "ticks": ""
            },
            "colorscale": [
             [
              0,
              "#0d0887"
             ],
             [
              0.1111111111111111,
              "#46039f"
             ],
             [
              0.2222222222222222,
              "#7201a8"
             ],
             [
              0.3333333333333333,
              "#9c179e"
             ],
             [
              0.4444444444444444,
              "#bd3786"
             ],
             [
              0.5555555555555556,
              "#d8576b"
             ],
             [
              0.6666666666666666,
              "#ed7953"
             ],
             [
              0.7777777777777778,
              "#fb9f3a"
             ],
             [
              0.8888888888888888,
              "#fdca26"
             ],
             [
              1,
              "#f0f921"
             ]
            ],
            "type": "heatmap"
           }
          ],
          "heatmapgl": [
           {
            "colorbar": {
             "outlinewidth": 0,
             "ticks": ""
            },
            "colorscale": [
             [
              0,
              "#0d0887"
             ],
             [
              0.1111111111111111,
              "#46039f"
             ],
             [
              0.2222222222222222,
              "#7201a8"
             ],
             [
              0.3333333333333333,
              "#9c179e"
             ],
             [
              0.4444444444444444,
              "#bd3786"
             ],
             [
              0.5555555555555556,
              "#d8576b"
             ],
             [
              0.6666666666666666,
              "#ed7953"
             ],
             [
              0.7777777777777778,
              "#fb9f3a"
             ],
             [
              0.8888888888888888,
              "#fdca26"
             ],
             [
              1,
              "#f0f921"
             ]
            ],
            "type": "heatmapgl"
           }
          ],
          "histogram": [
           {
            "marker": {
             "pattern": {
              "fillmode": "overlay",
              "size": 10,
              "solidity": 0.2
             }
            },
            "type": "histogram"
           }
          ],
          "histogram2d": [
           {
            "colorbar": {
             "outlinewidth": 0,
             "ticks": ""
            },
            "colorscale": [
             [
              0,
              "#0d0887"
             ],
             [
              0.1111111111111111,
              "#46039f"
             ],
             [
              0.2222222222222222,
              "#7201a8"
             ],
             [
              0.3333333333333333,
              "#9c179e"
             ],
             [
              0.4444444444444444,
              "#bd3786"
             ],
             [
              0.5555555555555556,
              "#d8576b"
             ],
             [
              0.6666666666666666,
              "#ed7953"
             ],
             [
              0.7777777777777778,
              "#fb9f3a"
             ],
             [
              0.8888888888888888,
              "#fdca26"
             ],
             [
              1,
              "#f0f921"
             ]
            ],
            "type": "histogram2d"
           }
          ],
          "histogram2dcontour": [
           {
            "colorbar": {
             "outlinewidth": 0,
             "ticks": ""
            },
            "colorscale": [
             [
              0,
              "#0d0887"
             ],
             [
              0.1111111111111111,
              "#46039f"
             ],
             [
              0.2222222222222222,
              "#7201a8"
             ],
             [
              0.3333333333333333,
              "#9c179e"
             ],
             [
              0.4444444444444444,
              "#bd3786"
             ],
             [
              0.5555555555555556,
              "#d8576b"
             ],
             [
              0.6666666666666666,
              "#ed7953"
             ],
             [
              0.7777777777777778,
              "#fb9f3a"
             ],
             [
              0.8888888888888888,
              "#fdca26"
             ],
             [
              1,
              "#f0f921"
             ]
            ],
            "type": "histogram2dcontour"
           }
          ],
          "mesh3d": [
           {
            "colorbar": {
             "outlinewidth": 0,
             "ticks": ""
            },
            "type": "mesh3d"
           }
          ],
          "parcoords": [
           {
            "line": {
             "colorbar": {
              "outlinewidth": 0,
              "ticks": ""
             }
            },
            "type": "parcoords"
           }
          ],
          "pie": [
           {
            "automargin": true,
            "type": "pie"
           }
          ],
          "scatter": [
           {
            "fillpattern": {
             "fillmode": "overlay",
             "size": 10,
             "solidity": 0.2
            },
            "type": "scatter"
           }
          ],
          "scatter3d": [
           {
            "line": {
             "colorbar": {
              "outlinewidth": 0,
              "ticks": ""
             }
            },
            "marker": {
             "colorbar": {
              "outlinewidth": 0,
              "ticks": ""
             }
            },
            "type": "scatter3d"
           }
          ],
          "scattercarpet": [
           {
            "marker": {
             "colorbar": {
              "outlinewidth": 0,
              "ticks": ""
             }
            },
            "type": "scattercarpet"
           }
          ],
          "scattergeo": [
           {
            "marker": {
             "colorbar": {
              "outlinewidth": 0,
              "ticks": ""
             }
            },
            "type": "scattergeo"
           }
          ],
          "scattergl": [
           {
            "marker": {
             "colorbar": {
              "outlinewidth": 0,
              "ticks": ""
             }
            },
            "type": "scattergl"
           }
          ],
          "scattermapbox": [
           {
            "marker": {
             "colorbar": {
              "outlinewidth": 0,
              "ticks": ""
             }
            },
            "type": "scattermapbox"
           }
          ],
          "scatterpolar": [
           {
            "marker": {
             "colorbar": {
              "outlinewidth": 0,
              "ticks": ""
             }
            },
            "type": "scatterpolar"
           }
          ],
          "scatterpolargl": [
           {
            "marker": {
             "colorbar": {
              "outlinewidth": 0,
              "ticks": ""
             }
            },
            "type": "scatterpolargl"
           }
          ],
          "scatterternary": [
           {
            "marker": {
             "colorbar": {
              "outlinewidth": 0,
              "ticks": ""
             }
            },
            "type": "scatterternary"
           }
          ],
          "surface": [
           {
            "colorbar": {
             "outlinewidth": 0,
             "ticks": ""
            },
            "colorscale": [
             [
              0,
              "#0d0887"
             ],
             [
              0.1111111111111111,
              "#46039f"
             ],
             [
              0.2222222222222222,
              "#7201a8"
             ],
             [
              0.3333333333333333,
              "#9c179e"
             ],
             [
              0.4444444444444444,
              "#bd3786"
             ],
             [
              0.5555555555555556,
              "#d8576b"
             ],
             [
              0.6666666666666666,
              "#ed7953"
             ],
             [
              0.7777777777777778,
              "#fb9f3a"
             ],
             [
              0.8888888888888888,
              "#fdca26"
             ],
             [
              1,
              "#f0f921"
             ]
            ],
            "type": "surface"
           }
          ],
          "table": [
           {
            "cells": {
             "fill": {
              "color": "#EBF0F8"
             },
             "line": {
              "color": "white"
             }
            },
            "header": {
             "fill": {
              "color": "#C8D4E3"
             },
             "line": {
              "color": "white"
             }
            },
            "type": "table"
           }
          ]
         },
         "layout": {
          "annotationdefaults": {
           "arrowcolor": "#2a3f5f",
           "arrowhead": 0,
           "arrowwidth": 1
          },
          "autotypenumbers": "strict",
          "coloraxis": {
           "colorbar": {
            "outlinewidth": 0,
            "ticks": ""
           }
          },
          "colorscale": {
           "diverging": [
            [
             0,
             "#8e0152"
            ],
            [
             0.1,
             "#c51b7d"
            ],
            [
             0.2,
             "#de77ae"
            ],
            [
             0.3,
             "#f1b6da"
            ],
            [
             0.4,
             "#fde0ef"
            ],
            [
             0.5,
             "#f7f7f7"
            ],
            [
             0.6,
             "#e6f5d0"
            ],
            [
             0.7,
             "#b8e186"
            ],
            [
             0.8,
             "#7fbc41"
            ],
            [
             0.9,
             "#4d9221"
            ],
            [
             1,
             "#276419"
            ]
           ],
           "sequential": [
            [
             0,
             "#0d0887"
            ],
            [
             0.1111111111111111,
             "#46039f"
            ],
            [
             0.2222222222222222,
             "#7201a8"
            ],
            [
             0.3333333333333333,
             "#9c179e"
            ],
            [
             0.4444444444444444,
             "#bd3786"
            ],
            [
             0.5555555555555556,
             "#d8576b"
            ],
            [
             0.6666666666666666,
             "#ed7953"
            ],
            [
             0.7777777777777778,
             "#fb9f3a"
            ],
            [
             0.8888888888888888,
             "#fdca26"
            ],
            [
             1,
             "#f0f921"
            ]
           ],
           "sequentialminus": [
            [
             0,
             "#0d0887"
            ],
            [
             0.1111111111111111,
             "#46039f"
            ],
            [
             0.2222222222222222,
             "#7201a8"
            ],
            [
             0.3333333333333333,
             "#9c179e"
            ],
            [
             0.4444444444444444,
             "#bd3786"
            ],
            [
             0.5555555555555556,
             "#d8576b"
            ],
            [
             0.6666666666666666,
             "#ed7953"
            ],
            [
             0.7777777777777778,
             "#fb9f3a"
            ],
            [
             0.8888888888888888,
             "#fdca26"
            ],
            [
             1,
             "#f0f921"
            ]
           ]
          },
          "colorway": [
           "#636efa",
           "#EF553B",
           "#00cc96",
           "#ab63fa",
           "#FFA15A",
           "#19d3f3",
           "#FF6692",
           "#B6E880",
           "#FF97FF",
           "#FECB52"
          ],
          "font": {
           "color": "#2a3f5f"
          },
          "geo": {
           "bgcolor": "white",
           "lakecolor": "white",
           "landcolor": "#E5ECF6",
           "showlakes": true,
           "showland": true,
           "subunitcolor": "white"
          },
          "hoverlabel": {
           "align": "left"
          },
          "hovermode": "closest",
          "mapbox": {
           "style": "light"
          },
          "paper_bgcolor": "white",
          "plot_bgcolor": "#E5ECF6",
          "polar": {
           "angularaxis": {
            "gridcolor": "white",
            "linecolor": "white",
            "ticks": ""
           },
           "bgcolor": "#E5ECF6",
           "radialaxis": {
            "gridcolor": "white",
            "linecolor": "white",
            "ticks": ""
           }
          },
          "scene": {
           "xaxis": {
            "backgroundcolor": "#E5ECF6",
            "gridcolor": "white",
            "gridwidth": 2,
            "linecolor": "white",
            "showbackground": true,
            "ticks": "",
            "zerolinecolor": "white"
           },
           "yaxis": {
            "backgroundcolor": "#E5ECF6",
            "gridcolor": "white",
            "gridwidth": 2,
            "linecolor": "white",
            "showbackground": true,
            "ticks": "",
            "zerolinecolor": "white"
           },
           "zaxis": {
            "backgroundcolor": "#E5ECF6",
            "gridcolor": "white",
            "gridwidth": 2,
            "linecolor": "white",
            "showbackground": true,
            "ticks": "",
            "zerolinecolor": "white"
           }
          },
          "shapedefaults": {
           "line": {
            "color": "#2a3f5f"
           }
          },
          "ternary": {
           "aaxis": {
            "gridcolor": "white",
            "linecolor": "white",
            "ticks": ""
           },
           "baxis": {
            "gridcolor": "white",
            "linecolor": "white",
            "ticks": ""
           },
           "bgcolor": "#E5ECF6",
           "caxis": {
            "gridcolor": "white",
            "linecolor": "white",
            "ticks": ""
           }
          },
          "title": {
           "x": 0.05
          },
          "xaxis": {
           "automargin": true,
           "gridcolor": "white",
           "linecolor": "white",
           "ticks": "",
           "title": {
            "standoff": 15
           },
           "zerolinecolor": "white",
           "zerolinewidth": 2
          },
          "yaxis": {
           "automargin": true,
           "gridcolor": "white",
           "linecolor": "white",
           "ticks": "",
           "title": {
            "standoff": 15
           },
           "zerolinecolor": "white",
           "zerolinewidth": 2
          }
         }
        },
        "title": {
         "text": "Temperature Predictions and Actuals"
        },
        "xaxis": {
         "autorange": true,
         "range": [
          "2024-04-25",
          "2024-04-29 12:09:16.7663"
         ],
         "title": {
          "text": "Date"
         },
         "type": "date"
        },
        "yaxis": {
         "autorange": true,
         "range": [
          -2.7199999999999998,
          24.28
         ],
         "title": {
          "text": "Temperature (°C)"
         },
         "type": "linear"
        }
       }
      },
      "image/png": "[encoded data removed]",
      "text/html": [
       "<div>                            <div id=\"573eaf6f-a231-4cc6-b8cc-5819315ef7b1\" class=\"plotly-graph-div\" style=\"height:525px; width:100%;\"></div>            <script type=\"text/javascript\">                require([\"plotly\"], function(Plotly) {                    window.PLOTLYENV=window.PLOTLYENV || {};                                    if (document.getElementById(\"573eaf6f-a231-4cc6-b8cc-5819315ef7b1\")) {                    Plotly.newPlot(                        \"573eaf6f-a231-4cc6-b8cc-5819315ef7b1\",                        [{\"line\":{\"color\":\"blue\"},\"mode\":\"lines\",\"name\":\"Original T2M\",\"x\":[\"2024-04-25T00:00:00+00:00\",\"2024-04-25T01:00:00+00:00\",\"2024-04-25T02:00:00+00:00\",\"2024-04-25T03:00:00+00:00\",\"2024-04-25T04:00:00+00:00\",\"2024-04-25T05:00:00+00:00\",\"2024-04-25T06:00:00+00:00\",\"2024-04-25T07:00:00+00:00\",\"2024-04-25T08:00:00+00:00\",\"2024-04-25T09:00:00+00:00\",\"2024-04-25T10:00:00+00:00\",\"2024-04-25T11:00:00+00:00\",\"2024-04-25T12:00:00+00:00\",\"2024-04-25T13:00:00+00:00\",\"2024-04-25T14:00:00+00:00\",\"2024-04-25T15:00:00+00:00\",\"2024-04-25T16:00:00+00:00\",\"2024-04-25T17:00:00+00:00\",\"2024-04-25T18:00:00+00:00\",\"2024-04-25T19:00:00+00:00\",\"2024-04-25T20:00:00+00:00\",\"2024-04-25T21:00:00+00:00\",\"2024-04-25T22:00:00+00:00\",\"2024-04-25T23:00:00+00:00\",\"2024-04-26T00:00:00+00:00\",\"2024-04-26T01:00:00+00:00\",\"2024-04-26T02:00:00+00:00\",\"2024-04-26T03:00:00+00:00\",\"2024-04-26T04:00:00+00:00\",\"2024-04-26T05:00:00+00:00\",\"2024-04-26T06:00:00+00:00\",\"2024-04-26T07:00:00+00:00\",\"2024-04-26T08:00:00+00:00\",\"2024-04-26T09:00:00+00:00\",\"2024-04-26T10:00:00+00:00\",\"2024-04-26T11:00:00+00:00\",\"2024-04-26T12:00:00+00:00\",\"2024-04-26T13:00:00+00:00\",\"2024-04-26T14:00:00+00:00\",\"2024-04-26T15:00:00+00:00\",\"2024-04-26T16:00:00+00:00\",\"2024-04-26T17:00:00+00:00\",\"2024-04-26T18:00:00+00:00\",\"2024-04-26T19:00:00+00:00\",\"2024-04-26T20:00:00+00:00\",\"2024-04-26T21:00:00+00:00\",\"2024-04-26T22:00:00+00:00\",\"2024-04-26T23:00:00+00:00\",\"2024-04-27T00:00:00+00:00\",\"2024-04-27T01:00:00+00:00\",\"2024-04-27T02:00:00+00:00\",\"2024-04-27T03:00:00+00:00\",\"2024-04-27T04:00:00+00:00\",\"2024-04-27T05:00:00+00:00\",\"2024-04-27T06:00:00+00:00\",\"2024-04-27T07:00:00+00:00\",\"2024-04-27T08:00:00+00:00\",\"2024-04-27T09:00:00+00:00\",\"2024-04-27T10:00:00+00:00\",\"2024-04-27T11:00:00+00:00\",\"2024-04-27T12:00:00+00:00\",\"2024-04-27T13:00:00+00:00\",\"2024-04-27T14:00:00+00:00\",\"2024-04-27T15:00:00+00:00\",\"2024-04-27T16:00:00+00:00\",\"2024-04-27T17:00:00+00:00\",\"2024-04-27T18:00:00+00:00\",\"2024-04-27T19:00:00+00:00\",\"2024-04-27T20:00:00+00:00\",\"2024-04-27T21:00:00+00:00\",\"2024-04-27T22:00:00+00:00\",\"2024-04-27T23:00:00+00:00\",\"2024-04-28T00:00:00+00:00\",\"2024-04-28T01:00:00+00:00\",\"2024-04-28T02:00:00+00:00\",\"2024-04-28T03:00:00+00:00\",\"2024-04-28T05:00:00+00:00\",\"2024-04-28T06:00:00+00:00\",\"2024-04-28T07:00:00+00:00\",\"2024-04-28T08:00:00+00:00\",\"2024-04-28T09:00:00+00:00\",\"2024-04-28T10:00:00+00:00\",\"2024-04-28T11:00:00+00:00\",\"2024-04-28T12:00:00+00:00\",\"2024-04-28T13:00:00+00:00\",\"2024-04-28T14:00:00+00:00\",\"2024-04-28T15:00:00+00:00\",\"2024-04-28T16:00:00+00:00\",\"2024-04-28T17:00:00+00:00\",\"2024-04-28T18:00:00+00:00\",\"2024-04-28T19:00:00+00:00\",\"2024-04-28T20:00:00+00:00\",\"2024-04-28T21:00:00+00:00\",\"2024-04-28T22:00:00+00:00\",\"2024-04-28T23:00:00+00:00\",\"2024-04-29T00:00:00+00:00\",\"2024-04-25T00:00:00+00:00\",\"2024-04-25T01:00:00+00:00\",\"2024-04-25T02:00:00+00:00\",\"2024-04-25T03:00:00+00:00\",\"2024-04-25T04:00:00+00:00\",\"2024-04-25T05:00:00+00:00\",\"2024-04-25T06:00:00+00:00\",\"2024-04-25T07:00:00+00:00\",\"2024-04-25T08:00:00+00:00\",\"2024-04-25T09:00:00+00:00\",\"2024-04-25T10:00:00+00:00\",\"2024-04-25T11:00:00+00:00\",\"2024-04-25T12:00:00+00:00\",\"2024-04-25T13:00:00+00:00\",\"2024-04-25T14:00:00+00:00\",\"2024-04-25T15:00:00+00:00\",\"2024-04-25T16:00:00+00:00\",\"2024-04-25T17:00:00+00:00\",\"2024-04-25T18:00:00+00:00\",\"2024-04-25T19:00:00+00:00\",\"2024-04-25T20:00:00+00:00\",\"2024-04-25T21:00:00+00:00\",\"2024-04-25T22:00:00+00:00\",\"2024-04-25T23:00:00+00:00\",\"2024-04-26T00:00:00+00:00\",\"2024-04-26T01:00:00+00:00\",\"2024-04-26T02:00:00+00:00\",\"2024-04-26T03:00:00+00:00\",\"2024-04-26T04:00:00+00:00\",\"2024-04-26T05:00:00+00:00\",\"2024-04-26T06:00:00+00:00\",\"2024-04-26T07:00:00+00:00\",\"2024-04-26T08:00:00+00:00\",\"2024-04-26T09:00:00+00:00\",\"2024-04-26T10:00:00+00:00\",\"2024-04-26T11:00:00+00:00\",\"2024-04-26T12:00:00+00:00\",\"2024-04-26T13:00:00+00:00\",\"2024-04-26T14:00:00+00:00\",\"2024-04-26T15:00:00+00:00\",\"2024-04-26T16:00:00+00:00\",\"2024-04-26T17:00:00+00:00\",\"2024-04-26T18:00:00+00:00\",\"2024-04-26T19:00:00+00:00\",\"2024-04-26T20:00:00+00:00\",\"2024-04-26T21:00:00+00:00\",\"2024-04-26T22:00:00+00:00\",\"2024-04-26T23:00:00+00:00\",\"2024-04-27T00:00:00+00:00\",\"2024-04-27T01:00:00+00:00\",\"2024-04-27T02:00:00+00:00\",\"2024-04-27T03:00:00+00:00\",\"2024-04-27T04:00:00+00:00\",\"2024-04-27T05:00:00+00:00\",\"2024-04-27T06:00:00+00:00\",\"2024-04-27T07:00:00+00:00\",\"2024-04-27T08:00:00+00:00\",\"2024-04-27T09:00:00+00:00\",\"2024-04-27T10:00:00+00:00\",\"2024-04-27T11:00:00+00:00\",\"2024-04-27T12:00:00+00:00\",\"2024-04-27T13:00:00+00:00\",\"2024-04-27T14:00:00+00:00\",\"2024-04-27T15:00:00+00:00\",\"2024-04-27T16:00:00+00:00\",\"2024-04-27T17:00:00+00:00\",\"2024-04-27T18:00:00+00:00\",\"2024-04-27T19:00:00+00:00\",\"2024-04-27T20:00:00+00:00\",\"2024-04-27T21:00:00+00:00\",\"2024-04-27T22:00:00+00:00\",\"2024-04-27T23:00:00+00:00\",\"2024-04-28T00:00:00+00:00\",\"2024-04-28T01:00:00+00:00\",\"2024-04-28T02:00:00+00:00\",\"2024-04-28T03:00:00+00:00\",\"2024-04-28T05:00:00+00:00\",\"2024-04-28T06:00:00+00:00\",\"2024-04-28T07:00:00+00:00\",\"2024-04-28T08:00:00+00:00\",\"2024-04-28T09:00:00+00:00\",\"2024-04-28T10:00:00+00:00\",\"2024-04-28T11:00:00+00:00\",\"2024-04-28T12:00:00+00:00\",\"2024-04-28T13:00:00+00:00\",\"2024-04-28T14:00:00+00:00\",\"2024-04-28T15:00:00+00:00\",\"2024-04-28T16:00:00+00:00\",\"2024-04-28T17:00:00+00:00\",\"2024-04-28T18:00:00+00:00\",\"2024-04-28T19:00:00+00:00\",\"2024-04-28T20:00:00+00:00\",\"2024-04-28T21:00:00+00:00\",\"2024-04-28T22:00:00+00:00\",\"2024-04-28T23:00:00+00:00\",\"2024-04-29T00:00:00+00:00\"],\"y\":[4.77,4.42,4.15,3.74,2.93,4.47,6.33,7.81,8.88,9.14,9.97,10.93,11.85,12.06,12.65,12.35,11.56,10.23,9.33,7.32,5.53,4.1,2.8,1.24,1.16,0.42,-0.89,-0.02,-1.37,1.53,5.83,9.1,11.06,13.07,14.04,14.79,15.73,16.12,16.75,15.93,15.72,14.79,12.67,10.6,9.25,8.22,7.0,6.68,5.81,5.18,4.98,4.34,4.47,6.19,9.36,11.62,13.42,14.99,16.23,17.29,18.65,19.42,19.95,20.13,20.03,19.02,17.22,15.55,14.43,13.69,12.6,12.12,11.6,11.21,10.58,10.33,11.19,13.69,15.18,17.02,18.53,19.34,20.8,21.64,22.35,22.93,22.54,22.32,20.72,19.08,17.03,15.73,14.74,13.49,12.43,10.36,3.61,3.5,3.72,3.57,3.19,4.38,5.08,6.16,7.56,8.24,9.16,10.08,10.18,10.78,10.71,9.61,8.01,8.3,7.1,5.09,4.14,3.6,2.99,2.43,2.18,1.76,1.51,0.66,0.53,2.13,4.6,7.32,8.9,11.15,13.27,14.45,14.63,15.09,14.8,14.54,14.28,13.54,12.01,10.07,8.09,7.75,6.85,6.47,5.3,4.45,3.84,3.15,2.67,4.14,6.86,9.59,11.28,12.64,14.58,16.4,17.69,18.63,19.09,19.21,18.87,17.87,16.32,14.92,13.71,12.42,11.33,10.17,10.02,9.47,9.18,9.13,9.2,12.44,15.0,17.13,19.4,20.6,21.63,22.09,22.7,22.74,22.72,21.69,20.21,17.9,15.85,14.81,13.85,12.72,12.01,11.13],\"type\":\"scatter\"},{\"line\":{\"color\":\"red\",\"dash\":\"dash\"},\"mode\":\"lines+markers\",\"name\":\"Predicted T2M\",\"x\":[\"2024-04-29T01:00:00+00:00\",\"2024-04-29T02:00:00+00:00\",\"2024-04-29T03:00:00+00:00\",\"2024-04-29T04:00:00+00:00\",\"2024-04-29T05:00:00+00:00\",\"2024-04-29T06:00:00+00:00\"],\"y\":[11.023739928007132,10.209604349732404,9.365081308484083,9.51044987559319,10.229774452447897,11.590769177675252],\"type\":\"scatter\"}],                        {\"template\":{\"data\":{\"histogram2dcontour\":[{\"type\":\"histogram2dcontour\",\"colorbar\":{\"outlinewidth\":0,\"ticks\":\"\"},\"colorscale\":[[0.0,\"#0d0887\"],[0.1111111111111111,\"#46039f\"],[0.2222222222222222,\"#7201a8\"],[0.3333333333333333,\"#9c179e\"],[0.4444444444444444,\"#bd3786\"],[0.5555555555555556,\"#d8576b\"],[0.6666666666666666,\"#ed7953\"],[0.7777777777777778,\"#fb9f3a\"],[0.8888888888888888,\"#fdca26\"],[1.0,\"#f0f921\"]]}],\"choropleth\":[{\"type\":\"choropleth\",\"colorbar\":{\"outlinewidth\":0,\"ticks\":\"\"}}],\"histogram2d\":[{\"type\":\"histogram2d\",\"colorbar\":{\"outlinewidth\":0,\"ticks\":\"\"},\"colorscale\":[[0.0,\"#0d0887\"],[0.1111111111111111,\"#46039f\"],[0.2222222222222222,\"#7201a8\"],[0.3333333333333333,\"#9c179e\"],[0.4444444444444444,\"#bd3786\"],[0.5555555555555556,\"#d8576b\"],[0.6666666666666666,\"#ed7953\"],[0.7777777777777778,\"#fb9f3a\"],[0.8888888888888888,\"#fdca26\"],[1.0,\"#f0f921\"]]}],\"heatmap\":[{\"type\":\"heatmap\",\"colorbar\":{\"outlinewidth\":0,\"ticks\":\"\"},\"colorscale\":[[0.0,\"#0d0887\"],[0.1111111111111111,\"#46039f\"],[0.2222222222222222,\"#7201a8\"],[0.3333333333333333,\"#9c179e\"],[0.4444444444444444,\"#bd3786\"],[0.5555555555555556,\"#d8576b\"],[0.6666666666666666,\"#ed7953\"],[0.7777777777777778,\"#fb9f3a\"],[0.8888888888888888,\"#fdca26\"],[1.0,\"#f0f921\"]]}],\"heatmapgl\":[{\"type\":\"heatmapgl\",\"colorbar\":{\"outlinewidth\":0,\"ticks\":\"\"},\"colorscale\":[[0.0,\"#0d0887\"],[0.1111111111111111,\"#46039f\"],[0.2222222222222222,\"#7201a8\"],[0.3333333333333333,\"#9c179e\"],[0.4444444444444444,\"#bd3786\"],[0.5555555555555556,\"#d8576b\"],[0.6666666666666666,\"#ed7953\"],[0.7777777777777778,\"#fb9f3a\"],[0.8888888888888888,\"#fdca26\"],[1.0,\"#f0f921\"]]}],\"contourcarpet\":[{\"type\":\"contourcarpet\",\"colorbar\":{\"outlinewidth\":0,\"ticks\":\"\"}}],\"contour\":[{\"type\":\"contour\",\"colorbar\":{\"outlinewidth\":0,\"ticks\":\"\"},\"colorscale\":[[0.0,\"#0d0887\"],[0.1111111111111111,\"#46039f\"],[0.2222222222222222,\"#7201a8\"],[0.3333333333333333,\"#9c179e\"],[0.4444444444444444,\"#bd3786\"],[0.5555555555555556,\"#d8576b\"],[0.6666666666666666,\"#ed7953\"],[0.7777777777777778,\"#fb9f3a\"],[0.8888888888888888,\"#fdca26\"],[1.0,\"#f0f921\"]]}],\"surface\":[{\"type\":\"surface\",\"colorbar\":{\"outlinewidth\":0,\"ticks\":\"\"},\"colorscale\":[[0.0,\"#0d0887\"],[0.1111111111111111,\"#46039f\"],[0.2222222222222222,\"#7201a8\"],[0.3333333333333333,\"#9c179e\"],[0.4444444444444444,\"#bd3786\"],[0.5555555555555556,\"#d8576b\"],[0.6666666666666666,\"#ed7953\"],[0.7777777777777778,\"#fb9f3a\"],[0.8888888888888888,\"#fdca26\"],[1.0,\"#f0f921\"]]}],\"mesh3d\":[{\"type\":\"mesh3d\",\"colorbar\":{\"outlinewidth\":0,\"ticks\":\"\"}}],\"scatter\":[{\"fillpattern\":{\"fillmode\":\"overlay\",\"size\":10,\"solidity\":0.2},\"type\":\"scatter\"}],\"parcoords\":[{\"type\":\"parcoords\",\"line\":{\"colorbar\":{\"outlinewidth\":0,\"ticks\":\"\"}}}],\"scatterpolargl\":[{\"type\":\"scatterpolargl\",\"marker\":{\"colorbar\":{\"outlinewidth\":0,\"ticks\":\"\"}}}],\"bar\":[{\"error_x\":{\"color\":\"#2a3f5f\"},\"error_y\":{\"color\":\"#2a3f5f\"},\"marker\":{\"line\":{\"color\":\"#E5ECF6\",\"width\":0.5},\"pattern\":{\"fillmode\":\"overlay\",\"size\":10,\"solidity\":0.2}},\"type\":\"bar\"}],\"scattergeo\":[{\"type\":\"scattergeo\",\"marker\":{\"colorbar\":{\"outlinewidth\":0,\"ticks\":\"\"}}}],\"scatterpolar\":[{\"type\":\"scatterpolar\",\"marker\":{\"colorbar\":{\"outlinewidth\":0,\"ticks\":\"\"}}}],\"histogram\":[{\"marker\":{\"pattern\":{\"fillmode\":\"overlay\",\"size\":10,\"solidity\":0.2}},\"type\":\"histogram\"}],\"scattergl\":[{\"type\":\"scattergl\",\"marker\":{\"colorbar\":{\"outlinewidth\":0,\"ticks\":\"\"}}}],\"scatter3d\":[{\"type\":\"scatter3d\",\"line\":{\"colorbar\":{\"outlinewidth\":0,\"ticks\":\"\"}},\"marker\":{\"colorbar\":{\"outlinewidth\":0,\"ticks\":\"\"}}}],\"scattermapbox\":[{\"type\":\"scattermapbox\",\"marker\":{\"colorbar\":{\"outlinewidth\":0,\"ticks\":\"\"}}}],\"scatterternary\":[{\"type\":\"scatterternary\",\"marker\":{\"colorbar\":{\"outlinewidth\":0,\"ticks\":\"\"}}}],\"scattercarpet\":[{\"type\":\"scattercarpet\",\"marker\":{\"colorbar\":{\"outlinewidth\":0,\"ticks\":\"\"}}}],\"carpet\":[{\"aaxis\":{\"endlinecolor\":\"#2a3f5f\",\"gridcolor\":\"white\",\"linecolor\":\"white\",\"minorgridcolor\":\"white\",\"startlinecolor\":\"#2a3f5f\"},\"baxis\":{\"endlinecolor\":\"#2a3f5f\",\"gridcolor\":\"white\",\"linecolor\":\"white\",\"minorgridcolor\":\"white\",\"startlinecolor\":\"#2a3f5f\"},\"type\":\"carpet\"}],\"table\":[{\"cells\":{\"fill\":{\"color\":\"#EBF0F8\"},\"line\":{\"color\":\"white\"}},\"header\":{\"fill\":{\"color\":\"#C8D4E3\"},\"line\":{\"color\":\"white\"}},\"type\":\"table\"}],\"barpolar\":[{\"marker\":{\"line\":{\"color\":\"#E5ECF6\",\"width\":0.5},\"pattern\":{\"fillmode\":\"overlay\",\"size\":10,\"solidity\":0.2}},\"type\":\"barpolar\"}],\"pie\":[{\"automargin\":true,\"type\":\"pie\"}]},\"layout\":{\"autotypenumbers\":\"strict\",\"colorway\":[\"#636efa\",\"#EF553B\",\"#00cc96\",\"#ab63fa\",\"#FFA15A\",\"#19d3f3\",\"#FF6692\",\"#B6E880\",\"#FF97FF\",\"#FECB52\"],\"font\":{\"color\":\"#2a3f5f\"},\"hovermode\":\"closest\",\"hoverlabel\":{\"align\":\"left\"},\"paper_bgcolor\":\"white\",\"plot_bgcolor\":\"#E5ECF6\",\"polar\":{\"bgcolor\":\"#E5ECF6\",\"angularaxis\":{\"gridcolor\":\"white\",\"linecolor\":\"white\",\"ticks\":\"\"},\"radialaxis\":{\"gridcolor\":\"white\",\"linecolor\":\"white\",\"ticks\":\"\"}},\"ternary\":{\"bgcolor\":\"#E5ECF6\",\"aaxis\":{\"gridcolor\":\"white\",\"linecolor\":\"white\",\"ticks\":\"\"},\"baxis\":{\"gridcolor\":\"white\",\"linecolor\":\"white\",\"ticks\":\"\"},\"caxis\":{\"gridcolor\":\"white\",\"linecolor\":\"white\",\"ticks\":\"\"}},\"coloraxis\":{\"colorbar\":{\"outlinewidth\":0,\"ticks\":\"\"}},\"colorscale\":{\"sequential\":[[0.0,\"#0d0887\"],[0.1111111111111111,\"#46039f\"],[0.2222222222222222,\"#7201a8\"],[0.3333333333333333,\"#9c179e\"],[0.4444444444444444,\"#bd3786\"],[0.5555555555555556,\"#d8576b\"],[0.6666666666666666,\"#ed7953\"],[0.7777777777777778,\"#fb9f3a\"],[0.8888888888888888,\"#fdca26\"],[1.0,\"#f0f921\"]],\"sequentialminus\":[[0.0,\"#0d0887\"],[0.1111111111111111,\"#46039f\"],[0.2222222222222222,\"#7201a8\"],[0.3333333333333333,\"#9c179e\"],[0.4444444444444444,\"#bd3786\"],[0.5555555555555556,\"#d8576b\"],[0.6666666666666666,\"#ed7953\"],[0.7777777777777778,\"#fb9f3a\"],[0.8888888888888888,\"#fdca26\"],[1.0,\"#f0f921\"]],\"diverging\":[[0,\"#8e0152\"],[0.1,\"#c51b7d\"],[0.2,\"#de77ae\"],[0.3,\"#f1b6da\"],[0.4,\"#fde0ef\"],[0.5,\"#f7f7f7\"],[0.6,\"#e6f5d0\"],[0.7,\"#b8e186\"],[0.8,\"#7fbc41\"],[0.9,\"#4d9221\"],[1,\"#276419\"]]},\"xaxis\":{\"gridcolor\":\"white\",\"linecolor\":\"white\",\"ticks\":\"\",\"title\":{\"standoff\":15},\"zerolinecolor\":\"white\",\"automargin\":true,\"zerolinewidth\":2},\"yaxis\":{\"gridcolor\":\"white\",\"linecolor\":\"white\",\"ticks\":\"\",\"title\":{\"standoff\":15},\"zerolinecolor\":\"white\",\"automargin\":true,\"zerolinewidth\":2},\"scene\":{\"xaxis\":{\"backgroundcolor\":\"#E5ECF6\",\"gridcolor\":\"white\",\"linecolor\":\"white\",\"showbackground\":true,\"ticks\":\"\",\"zerolinecolor\":\"white\",\"gridwidth\":2},\"yaxis\":{\"backgroundcolor\":\"#E5ECF6\",\"gridcolor\":\"white\",\"linecolor\":\"white\",\"showbackground\":true,\"ticks\":\"\",\"zerolinecolor\":\"white\",\"gridwidth\":2},\"zaxis\":{\"backgroundcolor\":\"#E5ECF6\",\"gridcolor\":\"white\",\"linecolor\":\"white\",\"showbackground\":true,\"ticks\":\"\",\"zerolinecolor\":\"white\",\"gridwidth\":2}},\"shapedefaults\":{\"line\":{\"color\":\"#2a3f5f\"}},\"annotationdefaults\":{\"arrowcolor\":\"#2a3f5f\",\"arrowhead\":0,\"arrowwidth\":1},\"geo\":{\"bgcolor\":\"white\",\"landcolor\":\"#E5ECF6\",\"subunitcolor\":\"white\",\"showland\":true,\"showlakes\":true,\"lakecolor\":\"white\"},\"title\":{\"x\":0.05},\"mapbox\":{\"style\":\"light\"}}},\"title\":{\"text\":\"Temperature Predictions and Actuals\"},\"xaxis\":{\"title\":{\"text\":\"Date\"}},\"yaxis\":{\"title\":{\"text\":\"Temperature (\\u00b0C)\"}},\"hovermode\":\"x unified\"},                        {\"responsive\": true}                    ).then(function(){\n",
       "                            \n",
       "var gd = document.getElementById('573eaf6f-a231-4cc6-b8cc-5819315ef7b1');\n",
       "var x = new MutationObserver(function (mutations, observer) {{\n",
       "        var display = window.getComputedStyle(gd).display;\n",
       "        if (!display || display === 'none') {{\n",
       "            console.log([gd, 'removed!']);\n",
       "            Plotly.purge(gd);\n",
       "            observer.disconnect();\n",
       "        }}\n",
       "}});\n",
       "\n",
       "// Listen for the removal of the full notebook cells\n",
       "var notebookContainer = gd.closest('#notebook-container');\n",
       "if (notebookContainer) {{\n",
       "    x.observe(notebookContainer, {childList: true});\n",
       "}}\n",
       "\n",
       "// Listen for the clearing of the current output cell\n",
       "var outputEl = gd.closest('.output');\n",
       "if (outputEl) {{\n",
       "    x.observe(outputEl, {childList: true});\n",
       "}}\n",
       "\n",
       "                        })                };                });            </script>        </div>"
      ]
     },
     "metadata": {},
     "output_type": "display_data"
    }
   ],
   "source": [
    "#Example data setup (you should replace this with your actual data loading)\n",
    "data_for_prediction, time_index_pre_data = get_data_for_convlstm('2024-04-25', '2024-04-29')\n",
    "predicted_temps = scaled_model.predict_next_24_hours(data_for_prediction)\n",
    "\n",
    "# Use the original indices for plotting\n",
    "data_for_prediction.index = time_index_pre_data\n",
    "last_timestamp = data_for_prediction.index[-1]\n",
    "prediction_frequency = 'H'\n",
    "new_timestamps = pd.date_range(start=last_timestamp + pd.Timedelta(hours=1), periods=len(predicted_temps), freq=prediction_frequency)\n",
    "predictions_df = pd.DataFrame(predicted_temps, index=new_timestamps, columns=['Predicted T2M'])\n",
    "\n",
    "# Create Plotly graph objects\n",
    "fig = go.Figure()\n",
    "\n",
    "# Add traces\n",
    "fig.add_trace(go.Scatter(x=data_for_prediction.index, y=data_for_prediction['T2M'],\n",
    "                         mode='lines', name='Original T2M', line=dict(color='blue')))\n",
    "fig.add_trace(go.Scatter(x=predictions_df.index, y=predictions_df['Predicted T2M'],\n",
    "                         mode='lines+markers', name='Predicted T2M', line=dict(color='red', dash='dash')))\n",
    "\n",
    "# Update layout for better visualization\n",
    "fig.update_layout(\n",
    "    title='Temperature Predictions and Actuals',\n",
    "    xaxis_title='Date',\n",
    "    yaxis_title='Temperature (°C)',\n",
    "    hovermode=\"x unified\"\n",
    ")\n",
    "\n",
    "# Show plot\n",
    "fig.show()"
   ]
  },
  {
   "cell_type": "code",
   "execution_count": 1,
   "id": "6519fc40-a340-4b59-bfcb-11352914668f",
   "metadata": {},
   "outputs": [
    {
     "ename": "NameError",
     "evalue": "name 'get_data_for_convlstm' is not defined",
     "output_type": "error",
     "traceback": [
      "\u001b[0;31m---------------------------------------------------------------------------\u001b[0m",
      "\u001b[0;31mNameError\u001b[0m                                 Traceback (most recent call last)",
      "Cell \u001b[0;32mIn[1], line 5\u001b[0m\n\u001b[1;32m      2\u001b[0m \u001b[38;5;28;01mimport\u001b[39;00m \u001b[38;5;21;01mmatplotlib\u001b[39;00m\u001b[38;5;21;01m.\u001b[39;00m\u001b[38;5;21;01mpyplot\u001b[39;00m \u001b[38;5;28;01mas\u001b[39;00m \u001b[38;5;21;01mplt\u001b[39;00m\n\u001b[1;32m      4\u001b[0m \u001b[38;5;66;03m# Load data for initial prediction period along with their original time indices\u001b[39;00m\n\u001b[0;32m----> 5\u001b[0m data_for_prediction, time_index_pre_data \u001b[38;5;241m=\u001b[39m get_data_for_convlstm(\u001b[38;5;124m'\u001b[39m\u001b[38;5;124m2024-04-23\u001b[39m\u001b[38;5;124m'\u001b[39m, \u001b[38;5;124m'\u001b[39m\u001b[38;5;124m2024-04-27\u001b[39m\u001b[38;5;124m'\u001b[39m)\n\u001b[1;32m      7\u001b[0m \u001b[38;5;66;03m# Prediction with the scaled model\u001b[39;00m\n\u001b[1;32m      8\u001b[0m predicted_temps \u001b[38;5;241m=\u001b[39m scaled_model\u001b[38;5;241m.\u001b[39mpredict_next_24_hours(data_for_prediction)\n",
      "\u001b[0;31mNameError\u001b[0m: name 'get_data_for_convlstm' is not defined"
     ]
    }
   ],
   "source": [
    "import pandas as pd\n",
    "import matplotlib.pyplot as plt\n",
    "\n",
    "# Load data for initial prediction period along with their original time indices\n",
    "data_for_prediction, time_index_pre_data = get_data_for_convlstm('2024-04-23', '2024-04-27')\n",
    "\n",
    "# Prediction with the scaled model\n",
    "predicted_temps = scaled_model.predict_next_24_hours(data_for_prediction)\n",
    "print(\"Predicted temperatures for the next 24 hours:\", predicted_temps)\n",
    "\n",
    "# Set the original time index for the initial prediction data\n",
    "data_for_prediction.index = time_index_pre_data\n",
    "\n",
    "# Generate timestamps for the predictions, starting right after the last timestamp of the historical data\n",
    "last_timestamp = data_for_prediction.index[-1]\n",
    "prediction_frequency = 'H'\n",
    "new_timestamps = pd.date_range(start=last_timestamp + pd.Timedelta(hours=1), periods=len(predicted_temps), freq=prediction_frequency)\n",
    "\n",
    "# Create DataFrame for the predictions\n",
    "predictions_df = pd.DataFrame(predicted_temps, index=new_timestamps, columns=['Predicted T2M'])\n",
    "\n",
    "# Load actual data for the prediction period along with their original time indices\n",
    "data_actual_for_prediction, time_index_actual_data = get_data_for_convlstm('2023-06-27', '2023-06-28')\n",
    "data_actual_for_prediction.index = time_index_actual_data\n",
    "\n",
    "# Combine the historical and prediction data for plotting\n",
    "combined_df = pd.concat([data_for_prediction, data_actual_for_prediction, predictions_df])\n",
    "\n",
    "# Plotting the results\n",
    "plt.figure(figsize=(15, 7))\n",
    "plt.plot(data_for_prediction.index, data_for_prediction['T2M'], label='Original T2M', color='blue')\n",
    "#plt.plot(data_actual_for_prediction.index, data_actual_for_prediction['T2M'], label='Actual T2M', color='green')\n",
    "plt.plot(predictions_df.index, predictions_df['Predicted T2M'], label='Predicted T2M', color='red', linestyle='--')\n",
    "plt.title('Temperature Predictions and Actuals')\n",
    "plt.xlabel('Date')\n",
    "plt.ylabel('Temperature (°C)')\n",
    "plt.legend()\n",
    "plt.grid(True)\n",
    "plt.show()\n",
    "\n",
    "print(\"Last historical timestamp:\", data_for_prediction.index[-1])\n",
    "print(\"First historical timestamp:\", data_for_prediction.index[0])\n",
    "print(\"First prediction timestamp:\", predictions_df.index[0])\n",
    "print(\"Number of predictions:\", len(predicted_temps))\n"
   ]
  },
  {
   "cell_type": "code",
   "execution_count": 97,
   "id": "04d23076-e8f3-4760-a6e2-be50e5ea0f6f",
   "metadata": {},
   "outputs": [
    {
     "name": "stdout",
     "output_type": "stream",
     "text": [
      "                     longitude   latitude   RR    T2M   RH2M   TD2M      GL  \\\n",
      "2023-06-24 00:00:00  16.638773  48.334339  0.0  14.82  90.82  13.34    0.00   \n",
      "2023-06-24 01:00:00  16.638773  48.334339  0.0  13.99  91.70  12.66    0.00   \n",
      "2023-06-24 02:00:00  16.638773  48.334339  0.0  13.62  94.95  12.83    0.00   \n",
      "2023-06-24 03:00:00  16.638773  48.334339  0.0  13.28  96.96  12.80    0.00   \n",
      "2023-06-24 04:00:00  16.638773  48.334339  0.0  13.39  95.58  12.70   72.52   \n",
      "2023-06-24 05:00:00  16.638773  48.334339  0.0  16.10  84.26  13.45  153.26   \n",
      "2023-06-24 06:00:00  16.638773  48.334339  0.0  18.86  73.84  14.09  372.78   \n",
      "2023-06-24 07:00:00  16.638773  48.334339  0.0  20.90  64.24  13.89  526.17   \n",
      "2023-06-24 08:00:00  16.638773  48.334339  0.0  22.58  57.89  13.87  670.40   \n",
      "2023-06-24 09:00:00  16.638773  48.334339  0.0  23.91  50.38  12.97  710.91   \n",
      "2023-06-24 10:00:00  16.638773  48.334339  0.0  25.04  45.51  12.45  708.66   \n",
      "2023-06-24 11:00:00  16.638773  48.334339  0.0  25.84  43.25  12.40  715.91   \n",
      "2023-06-24 12:00:00  16.638773  48.334339  0.0  26.35  41.18  12.12  718.80   \n",
      "2023-06-24 13:00:00  16.638773  48.334339  0.0  26.64  40.04  11.95  732.53   \n",
      "2023-06-24 14:00:00  16.638773  48.334339  0.0  27.33  37.78  11.68  703.55   \n",
      "2023-06-24 15:00:00  16.638773  48.334339  0.0  26.84  38.36  11.48  554.67   \n",
      "2023-06-24 16:00:00  16.638773  48.334339  0.0  26.97  37.99  11.44  312.62   \n",
      "2023-06-24 17:00:00  16.638773  48.334339  0.0  26.60  37.65  10.99  213.71   \n",
      "2023-06-24 18:00:00  16.638773  48.334339  0.0  25.24  42.84  11.72   80.75   \n",
      "2023-06-24 19:00:00  16.638773  48.334339  0.0  22.30  54.75  12.76    0.00   \n",
      "2023-06-24 20:00:00  16.638773  48.334339  0.0  20.01  63.80  12.95    0.00   \n",
      "2023-06-24 21:00:00  16.638773  48.334339  0.0  18.60  69.05  12.81    0.00   \n",
      "2023-06-24 22:00:00  16.638773  48.334339  0.0  17.69  72.36  12.66    0.00   \n",
      "2023-06-24 23:00:00  16.638773  48.334339  0.0  16.79  76.22  12.58    0.00   \n",
      "2023-06-25 00:00:00  16.638773  48.334339  0.0  16.50  76.85  12.43    0.00   \n",
      "2023-06-25 01:00:00  16.181034  48.112373  0.0  14.48  86.73  12.30    0.00   \n",
      "2023-06-25 02:00:00  16.181034  48.112373  0.0  14.52  86.80  12.35    0.00   \n",
      "2023-06-25 03:00:00  16.181034  48.112373  0.0  14.52  86.97  12.38    0.00   \n",
      "2023-06-25 04:00:00  16.181034  48.112373  0.0  14.32  88.25  12.41    0.00   \n",
      "2023-06-25 05:00:00  16.181034  48.112373  0.0  14.99  84.43  12.39   53.28   \n",
      "2023-06-25 06:00:00  16.181034  48.112373  0.0  15.60  81.60  12.46  121.60   \n",
      "2023-06-25 07:00:00  16.181034  48.112373  0.0  17.32  75.66  12.99  314.40   \n",
      "2023-06-25 08:00:00  16.181034  48.112373  0.0  19.15  70.78  13.72  530.58   \n",
      "2023-06-25 09:00:00  16.181034  48.112373  0.0  20.38  66.46  13.93  666.50   \n",
      "2023-06-25 10:00:00  16.181034  48.112373  0.0  21.76  59.65  13.57  760.66   \n",
      "2023-06-25 11:00:00  16.181034  48.112373  0.0  22.33  56.12  13.16  839.09   \n",
      "2023-06-25 12:00:00  16.181034  48.112373  0.0  22.98  53.55  13.05  908.80   \n",
      "2023-06-25 13:00:00  16.181034  48.112373  0.0  23.45  53.01  13.33  816.68   \n",
      "2023-06-25 14:00:00  16.181034  48.112373  0.0  24.37  49.39  13.09  688.95   \n",
      "2023-06-25 15:00:00  16.181034  48.112373  0.0  24.57  48.44  12.98  683.90   \n",
      "2023-06-25 16:00:00  16.181034  48.112373  0.0  25.01  47.62  13.12  543.58   \n",
      "2023-06-25 17:00:00  16.181034  48.112373  0.0  25.31  46.22  12.94  309.17   \n",
      "2023-06-25 18:00:00  16.181034  48.112373  0.0  24.59  49.25  13.25  234.64   \n",
      "2023-06-25 19:00:00  16.181034  48.112373  0.0  22.68  56.34  13.55   86.64   \n",
      "2023-06-25 20:00:00  16.181034  48.112373  0.0  20.21  64.02  13.19    0.00   \n",
      "2023-06-25 21:00:00  16.181034  48.112373  0.0  18.56  71.49  13.31    0.00   \n",
      "2023-06-25 22:00:00  16.181034  48.112373  0.0  17.75  75.43  13.35    0.00   \n",
      "2023-06-25 23:00:00  16.181034  48.112373  0.0  16.73  80.12  13.29    0.00   \n",
      "2023-06-26 00:00:00  16.181034  48.112373  0.0  15.85  82.05  12.80    0.00   \n",
      "2023-06-26 01:00:00  16.181034  48.112373  0.0  15.26  82.92  12.38    0.00   \n",
      "\n",
      "                       UU    VV         P0  ...  24h_rolling_min  \\\n",
      "2023-06-24 00:00:00  1.21 -0.38  102123.51  ...            13.28   \n",
      "2023-06-24 01:00:00  1.49 -0.99  102073.22  ...            13.28   \n",
      "2023-06-24 02:00:00  0.70 -0.35  102044.98  ...            13.28   \n",
      "2023-06-24 03:00:00 -0.36  0.04  102050.97  ...            13.28   \n",
      "2023-06-24 04:00:00  0.01  0.29  102074.64  ...            13.28   \n",
      "2023-06-24 05:00:00  1.65 -0.78  102055.16  ...            13.28   \n",
      "2023-06-24 06:00:00  1.57 -0.83  102022.53  ...            13.28   \n",
      "2023-06-24 07:00:00  1.79 -1.85  101985.39  ...            13.28   \n",
      "2023-06-24 08:00:00  1.38 -2.11  101951.55  ...            13.28   \n",
      "2023-06-24 09:00:00  1.04 -1.76  101913.07  ...            13.28   \n",
      "2023-06-24 10:00:00  0.87 -2.93  101855.50  ...            13.28   \n",
      "2023-06-24 11:00:00  0.64 -2.31  101809.12  ...            13.28   \n",
      "2023-06-24 12:00:00  0.51 -3.02  101758.25  ...            13.28   \n",
      "2023-06-24 13:00:00  1.28 -2.41  101719.81  ...            13.28   \n",
      "2023-06-24 14:00:00  2.60 -2.72  101671.50  ...            13.28   \n",
      "2023-06-24 15:00:00  1.51 -2.58  101639.21  ...            13.28   \n",
      "2023-06-24 16:00:00 -0.01 -3.14  101575.94  ...            13.28   \n",
      "2023-06-24 17:00:00  0.23 -2.30  101579.73  ...            13.28   \n",
      "2023-06-24 18:00:00  0.11 -1.19  101588.61  ...            13.28   \n",
      "2023-06-24 19:00:00 -0.12 -0.79  101626.75  ...            13.28   \n",
      "2023-06-24 20:00:00  0.27 -0.59  101686.57  ...            13.28   \n",
      "2023-06-24 21:00:00  0.42 -0.40  101698.21  ...            13.28   \n",
      "2023-06-24 22:00:00  0.18 -0.74  101717.85  ...            13.28   \n",
      "2023-06-24 23:00:00  0.81 -0.69  101721.16  ...            13.28   \n",
      "2023-06-25 00:00:00  0.40 -0.63  101696.60  ...            13.28   \n",
      "2023-06-25 01:00:00  1.14  0.49  102192.61  ...            13.28   \n",
      "2023-06-25 02:00:00  0.89  0.43  102142.78  ...            13.28   \n",
      "2023-06-25 03:00:00  1.07  0.48  102109.08  ...            13.39   \n",
      "2023-06-25 04:00:00  0.88  0.40  102107.00  ...            14.32   \n",
      "2023-06-25 05:00:00  0.53  0.25  102127.17  ...            14.32   \n",
      "2023-06-25 06:00:00  0.60  0.25  102124.60  ...            14.32   \n",
      "2023-06-25 07:00:00  1.15  0.42  102095.04  ...            14.32   \n",
      "2023-06-25 08:00:00  1.16  0.30  102052.44  ...            14.32   \n",
      "2023-06-25 09:00:00  0.96  0.25  102015.92  ...            14.32   \n",
      "2023-06-25 10:00:00 -0.01 -0.21  101981.76  ...            14.32   \n",
      "2023-06-25 11:00:00  0.81  0.14  101937.78  ...            14.32   \n",
      "2023-06-25 12:00:00  0.13 -0.18  101899.32  ...            14.32   \n",
      "2023-06-25 13:00:00  0.67  0.06  101845.07  ...            14.32   \n",
      "2023-06-25 14:00:00  0.43  0.00  101803.35  ...            14.32   \n",
      "2023-06-25 15:00:00  0.45  0.00  101765.39  ...            14.32   \n",
      "2023-06-25 16:00:00  0.77  0.10  101713.55  ...            14.32   \n",
      "2023-06-25 17:00:00  0.79  0.16  101663.06  ...            14.32   \n",
      "2023-06-25 18:00:00  1.00  0.31  101665.36  ...            14.32   \n",
      "2023-06-25 19:00:00  0.28  0.19  101692.71  ...            14.32   \n",
      "2023-06-25 20:00:00  0.54  0.28  101720.04  ...            14.32   \n",
      "2023-06-25 21:00:00  0.77  0.38  101769.82  ...            14.32   \n",
      "2023-06-25 22:00:00  0.92  0.42  101769.60  ...            14.32   \n",
      "2023-06-25 23:00:00  0.60  0.22  101801.60  ...            14.32   \n",
      "2023-06-26 00:00:00  0.56  0.29  101807.92  ...            14.32   \n",
      "2023-06-26 01:00:00  0.19  0.07  101795.12  ...            14.32   \n",
      "\n",
      "                     24h_rolling_std  7d_rolling_mean  7d_rolling_max  \\\n",
      "2023-06-24 00:00:00         5.087538          20.1376           27.33   \n",
      "2023-06-24 01:00:00         5.087538          20.1376           27.33   \n",
      "2023-06-24 02:00:00         5.087538          20.1376           27.33   \n",
      "2023-06-24 03:00:00         5.087538          20.1376           27.33   \n",
      "2023-06-24 04:00:00         5.087538          20.1376           27.33   \n",
      "2023-06-24 05:00:00         5.087538          20.1376           27.33   \n",
      "2023-06-24 06:00:00         5.087538          20.1376           27.33   \n",
      "2023-06-24 07:00:00         5.087538          20.1376           27.33   \n",
      "2023-06-24 08:00:00         5.087538          20.1376           27.33   \n",
      "2023-06-24 09:00:00         5.087538          20.1376           27.33   \n",
      "2023-06-24 10:00:00         5.087538          20.1376           27.33   \n",
      "2023-06-24 11:00:00         5.087538          20.1376           27.33   \n",
      "2023-06-24 12:00:00         5.087538          20.1376           27.33   \n",
      "2023-06-24 13:00:00         5.087538          20.1376           27.33   \n",
      "2023-06-24 14:00:00         5.087538          20.1376           27.33   \n",
      "2023-06-24 15:00:00         5.087538          20.1376           27.33   \n",
      "2023-06-24 16:00:00         5.087538          20.1376           27.33   \n",
      "2023-06-24 17:00:00         5.087538          20.1376           27.33   \n",
      "2023-06-24 18:00:00         5.087538          20.1376           27.33   \n",
      "2023-06-24 19:00:00         5.087538          20.1376           27.33   \n",
      "2023-06-24 20:00:00         5.087538          20.1376           27.33   \n",
      "2023-06-24 21:00:00         5.087538          20.1376           27.33   \n",
      "2023-06-24 22:00:00         5.087538          20.1376           27.33   \n",
      "2023-06-24 23:00:00         5.087538          20.1376           27.33   \n",
      "2023-06-25 00:00:00         5.009962          20.1376           27.33   \n",
      "2023-06-25 01:00:00         4.980823          20.1376           27.33   \n",
      "2023-06-25 02:00:00         4.925314          20.1376           27.33   \n",
      "2023-06-25 03:00:00         4.845407          20.1376           27.33   \n",
      "2023-06-25 04:00:00         4.783839          20.1376           27.33   \n",
      "2023-06-25 05:00:00         4.840375          20.1376           27.33   \n",
      "2023-06-25 06:00:00         4.952153          20.1376           27.33   \n",
      "2023-06-25 07:00:00         5.009613          20.1376           27.33   \n",
      "2023-06-25 08:00:00         5.007759          20.1376           27.33   \n",
      "2023-06-25 09:00:00         4.961967          20.1376           27.33   \n",
      "2023-06-25 10:00:00         4.878370          20.1376           27.33   \n",
      "2023-06-25 11:00:00         4.760877          20.1376           27.33   \n",
      "2023-06-25 12:00:00         4.622403          20.1376           27.33   \n",
      "2023-06-25 13:00:00         4.471392          20.1376           27.33   \n",
      "2023-06-25 14:00:00         4.298712          20.1376           27.33   \n",
      "2023-06-25 15:00:00         4.162287          20.1376           27.33   \n",
      "2023-06-25 16:00:00         4.032913          20.1376           27.33   \n",
      "2023-06-25 17:00:00         3.944985          20.1376           27.33   \n",
      "2023-06-25 18:00:00         3.907165          20.1376           27.33   \n",
      "2023-06-25 19:00:00         3.919133          20.1376           27.33   \n",
      "2023-06-25 20:00:00         3.920115          20.1376           27.33   \n",
      "2023-06-25 21:00:00         3.920599          20.1376           27.33   \n",
      "2023-06-25 22:00:00         3.919300          20.1376           27.33   \n",
      "2023-06-25 23:00:00         3.921238          20.1376           27.33   \n",
      "2023-06-26 00:00:00         3.946249          20.1376           27.33   \n",
      "2023-06-26 01:00:00         3.904875          20.1376           27.33   \n",
      "\n",
      "                     7d_rolling_min  7d_rolling_std     6h_ewm    12h_ewm  \\\n",
      "2023-06-24 00:00:00           13.28        4.548383  14.820000  14.820000   \n",
      "2023-06-24 01:00:00           13.28        4.548383  14.582857  14.692308   \n",
      "2023-06-24 02:00:00           13.28        4.548383  14.307755  14.527337   \n",
      "2023-06-24 03:00:00           13.28        4.548383  14.014111  14.335439   \n",
      "2023-06-24 04:00:00           13.28        4.548383  13.835793  14.189987   \n",
      "2023-06-24 05:00:00           13.28        4.548383  14.482710  14.483835   \n",
      "2023-06-24 06:00:00           13.28        4.548383  15.733364  15.157091   \n",
      "2023-06-24 07:00:00           13.28        4.548383  17.209546  16.040616   \n",
      "2023-06-24 08:00:00           13.28        4.548383  18.743961  17.046675   \n",
      "2023-06-24 09:00:00           13.28        4.548383  20.219972  18.102571   \n",
      "2023-06-24 10:00:00           13.28        4.548383  21.597123  19.169868   \n",
      "2023-06-24 11:00:00           13.28        4.548383  22.809374  20.196042   \n",
      "2023-06-24 12:00:00           13.28        4.548383  23.820981  21.142805   \n",
      "2023-06-24 13:00:00           13.28        4.548383  24.626415  21.988527   \n",
      "2023-06-24 14:00:00           13.28        4.548383  25.398868  22.810292   \n",
      "2023-06-24 15:00:00           13.28        4.548383  25.810620  23.430247   \n",
      "2023-06-24 16:00:00           13.28        4.548383  26.141871  23.974825   \n",
      "2023-06-24 17:00:00           13.28        4.548383  26.272765  24.378698   \n",
      "2023-06-24 18:00:00           13.28        4.548383  25.977689  24.511206   \n",
      "2023-06-24 19:00:00           13.28        4.548383  24.926921  24.171020   \n",
      "2023-06-24 20:00:00           13.28        4.548383  23.522086  23.530863   \n",
      "2023-06-24 21:00:00           13.28        4.548383  22.115776  22.772269   \n",
      "2023-06-24 22:00:00           13.28        4.548383  20.851269  21.990381   \n",
      "2023-06-24 23:00:00           13.28        4.548383  19.690906  21.190323   \n",
      "2023-06-25 00:00:00           13.28        4.548383  18.779219  20.468735   \n",
      "2023-06-25 01:00:00           13.28        4.548383  17.550870  19.547391   \n",
      "2023-06-25 02:00:00           13.28        4.548383  16.684907  18.773946   \n",
      "2023-06-25 03:00:00           13.28        4.548383  16.066362  18.119493   \n",
      "2023-06-25 04:00:00           13.28        4.548383  15.567402  17.534955   \n",
      "2023-06-25 05:00:00           13.28        4.548383  15.402430  17.143424   \n",
      "2023-06-25 06:00:00           13.28        4.548383  15.458878  16.905974   \n",
      "2023-06-25 07:00:00           13.28        4.548383  15.990627  16.969670   \n",
      "2023-06-25 08:00:00           13.28        4.548383  16.893305  17.305106   \n",
      "2023-06-25 09:00:00           13.28        4.548383  17.889504  17.778166   \n",
      "2023-06-25 10:00:00           13.28        4.548383  18.995360  18.390756   \n",
      "2023-06-25 11:00:00           13.28        4.548383  19.948114  18.996794   \n",
      "2023-06-25 12:00:00           13.28        4.548383  20.814367  19.609595   \n",
      "2023-06-25 13:00:00           13.28        4.548383  21.567405  20.200426   \n",
      "2023-06-25 14:00:00           13.28        4.548383  22.368147  20.841899   \n",
      "2023-06-25 15:00:00           13.28        4.548383  22.997248  21.415453   \n",
      "2023-06-25 16:00:00           13.28        4.548383  23.572320  21.968460   \n",
      "2023-06-25 17:00:00           13.28        4.548383  24.068800  22.482543   \n",
      "2023-06-25 18:00:00           13.28        4.548383  24.217714  22.806767   \n",
      "2023-06-25 19:00:00           13.28        4.548383  23.778367  22.787265   \n",
      "2023-06-25 20:00:00           13.28        4.548383  22.758834  22.390762   \n",
      "2023-06-25 21:00:00           13.28        4.548383  21.559167  21.801414   \n",
      "2023-06-25 22:00:00           13.28        4.548383  20.470834  21.178120   \n",
      "2023-06-25 23:00:00           13.28        4.548383  19.402024  20.493794   \n",
      "2023-06-26 00:00:00           13.28        4.548383  18.387160  19.779364   \n",
      "2023-06-26 01:00:00           13.28        4.548383  17.493686  19.084077   \n",
      "\n",
      "                       24h_ewm     7d_ewm  \n",
      "2023-06-24 00:00:00  14.820000  14.820000  \n",
      "2023-06-24 01:00:00  14.753600  14.810178  \n",
      "2023-06-24 02:00:00  14.662912  14.796093  \n",
      "2023-06-24 03:00:00  14.552279  14.778151  \n",
      "2023-06-24 04:00:00  14.459297  14.761723  \n",
      "2023-06-24 05:00:00  14.590553  14.777560  \n",
      "2023-06-24 06:00:00  14.932109  14.825873  \n",
      "2023-06-24 07:00:00  15.409540  14.897756  \n",
      "2023-06-24 08:00:00  15.983177  14.988671  \n",
      "2023-06-24 09:00:00  16.617323  15.094248  \n",
      "2023-06-24 10:00:00  17.291137  15.211950  \n",
      "2023-06-24 11:00:00  17.975046  15.337725  \n",
      "2023-06-24 12:00:00  18.645042  15.468048  \n",
      "2023-06-24 13:00:00  19.284639  15.600261  \n",
      "2023-06-24 14:00:00  19.928268  15.739074  \n",
      "2023-06-24 15:00:00  20.481206  15.870446  \n",
      "2023-06-24 16:00:00  21.000310  16.001802  \n",
      "2023-06-24 17:00:00  21.448285  16.127224  \n",
      "2023-06-24 18:00:00  21.751622  16.235068  \n",
      "2023-06-24 19:00:00  21.795492  16.306842  \n",
      "2023-06-24 20:00:00  21.652653  16.350666  \n",
      "2023-06-24 21:00:00  21.408441  16.377286  \n",
      "2023-06-24 22:00:00  21.110966  16.392821  \n",
      "2023-06-24 23:00:00  20.765288  16.397521  \n",
      "2023-06-25 00:00:00  20.424065  16.398734  \n",
      "2023-06-25 01:00:00  19.948540  16.376027  \n",
      "2023-06-25 02:00:00  19.514257  16.354062  \n",
      "2023-06-25 03:00:00  19.114716  16.332357  \n",
      "2023-06-25 04:00:00  18.731139  16.308542  \n",
      "2023-06-25 05:00:00  18.431848  16.292938  \n",
      "2023-06-25 06:00:00  18.205300  16.284738  \n",
      "2023-06-25 07:00:00  18.134476  16.296990  \n",
      "2023-06-25 08:00:00  18.215718  16.330753  \n",
      "2023-06-25 09:00:00  18.388861  16.378673  \n",
      "2023-06-25 10:00:00  18.658552  16.442357  \n",
      "2023-06-25 11:00:00  18.952268  16.512034  \n",
      "2023-06-25 12:00:00  19.274486  16.588578  \n",
      "2023-06-25 13:00:00  19.608527  16.669778  \n",
      "2023-06-25 14:00:00  19.989445  16.760905  \n",
      "2023-06-25 15:00:00  20.355889  16.853320  \n",
      "2023-06-25 16:00:00  20.728218  16.949849  \n",
      "2023-06-25 17:00:00  21.094761  17.048786  \n",
      "2023-06-25 18:00:00  21.374380  17.138031  \n",
      "2023-06-25 19:00:00  21.478830  17.203616  \n",
      "2023-06-25 20:00:00  21.377323  17.239195  \n",
      "2023-06-25 21:00:00  21.151937  17.254825  \n",
      "2023-06-25 22:00:00  20.879782  17.260686  \n",
      "2023-06-25 23:00:00  20.547800  17.254405  \n",
      "2023-06-26 00:00:00  20.171976  17.237785  \n",
      "2023-06-26 01:00:00  19.779018  17.214379  \n",
      "\n",
      "[50 rows x 48 columns]\n",
      "Last historical timestamp: 2023-06-26 01:00:00\n",
      "first historical timestamp: 2023-06-24 00:00:00\n",
      "First prediction timestamp: 2023-06-26 02:00:00\n",
      "Number of predictions: 24\n"
     ]
    }
   ],
   "source": [
    "print(data_for_prediction)\n",
    "\n",
    "print(\"Last historical timestamp:\", data_for_prediction.index[-1])\n",
    "print(\"first historical timestamp:\", data_for_prediction.index[0])\n",
    "print(\"First prediction timestamp:\", predictions_df.index[0])\n",
    "print(\"Number of predictions:\", len(predicted_temps))\n"
   ]
  },
  {
   "cell_type": "code",
   "execution_count": 90,
   "id": "c45ab284-aab3-4849-b670-416cdfd6dec5",
   "metadata": {},
   "outputs": [],
   "source": [
    "dummy_output_array = np.zeros((predicted_temps.shape[0], scaled_model.scaler.n_features_in_))\n",
    "dummy_output_array[:, 3] = predicted_temps.squeeze()\n",
    "predictions = scaled_model.scaler.inverse_transform(dummy_output_array)[:, 3]"
   ]
  },
  {
   "cell_type": "code",
   "execution_count": 110,
   "id": "b86c1638-f374-479c-b9ec-5f16c6f4ce59",
   "metadata": {},
   "outputs": [
    {
     "name": "stdout",
     "output_type": "stream",
     "text": [
      "Total rows in data_for_prediction: 50\n",
      "Total rows in df: 105110\n"
     ]
    }
   ],
   "source": [
    "print(\"Total rows in data_for_prediction:\", len(data_for_prediction))\n",
    "print(\"Total rows in df:\", len(df))\n"
   ]
  },
  {
   "cell_type": "code",
   "execution_count": 111,
   "id": "a7d4b598-d803-4f80-b462-a5e0b753b27d",
   "metadata": {},
   "outputs": [
    {
     "data": {
      "text/html": [
       "<div>\n",
       "<style scoped>\n",
       "    .dataframe tbody tr th:only-of-type {\n",
       "        vertical-align: middle;\n",
       "    }\n",
       "\n",
       "    .dataframe tbody tr th {\n",
       "        vertical-align: top;\n",
       "    }\n",
       "\n",
       "    .dataframe thead th {\n",
       "        text-align: right;\n",
       "    }\n",
       "</style>\n",
       "<table border=\"1\" class=\"dataframe\">\n",
       "  <thead>\n",
       "    <tr style=\"text-align: right;\">\n",
       "      <th></th>\n",
       "      <th>longitude</th>\n",
       "      <th>latitude</th>\n",
       "      <th>RR</th>\n",
       "      <th>T2M</th>\n",
       "      <th>RH2M</th>\n",
       "      <th>TD2M</th>\n",
       "      <th>GL</th>\n",
       "      <th>UU</th>\n",
       "      <th>VV</th>\n",
       "      <th>P0</th>\n",
       "      <th>...</th>\n",
       "      <th>24h_rolling_mean</th>\n",
       "      <th>24h_rolling_max</th>\n",
       "      <th>24h_rolling_min</th>\n",
       "      <th>24h_rolling_std</th>\n",
       "      <th>7d_rolling_mean</th>\n",
       "      <th>7d_rolling_max</th>\n",
       "      <th>7d_rolling_min</th>\n",
       "      <th>7d_rolling_std</th>\n",
       "      <th>24h_ewm</th>\n",
       "      <th>7d_ewm</th>\n",
       "    </tr>\n",
       "  </thead>\n",
       "  <tbody>\n",
       "    <tr>\n",
       "      <th>0</th>\n",
       "      <td>16.638773</td>\n",
       "      <td>48.334339</td>\n",
       "      <td>0.000</td>\n",
       "      <td>1.68</td>\n",
       "      <td>94.58</td>\n",
       "      <td>0.91</td>\n",
       "      <td>0.0</td>\n",
       "      <td>-1.08</td>\n",
       "      <td>1.06</td>\n",
       "      <td>101026.92</td>\n",
       "      <td>...</td>\n",
       "      <td>3.458333</td>\n",
       "      <td>7.97</td>\n",
       "      <td>0.40</td>\n",
       "      <td>2.713545</td>\n",
       "      <td>4.803274</td>\n",
       "      <td>9.19</td>\n",
       "      <td>-0.35</td>\n",
       "      <td>2.445896</td>\n",
       "      <td>1.680000</td>\n",
       "      <td>1.680000</td>\n",
       "    </tr>\n",
       "    <tr>\n",
       "      <th>1</th>\n",
       "      <td>16.638773</td>\n",
       "      <td>48.334339</td>\n",
       "      <td>0.000</td>\n",
       "      <td>1.17</td>\n",
       "      <td>96.23</td>\n",
       "      <td>0.64</td>\n",
       "      <td>0.0</td>\n",
       "      <td>-2.09</td>\n",
       "      <td>0.80</td>\n",
       "      <td>100967.53</td>\n",
       "      <td>...</td>\n",
       "      <td>3.458333</td>\n",
       "      <td>7.97</td>\n",
       "      <td>0.40</td>\n",
       "      <td>2.713545</td>\n",
       "      <td>4.803274</td>\n",
       "      <td>9.19</td>\n",
       "      <td>-0.35</td>\n",
       "      <td>2.445896</td>\n",
       "      <td>1.639200</td>\n",
       "      <td>1.673964</td>\n",
       "    </tr>\n",
       "    <tr>\n",
       "      <th>2</th>\n",
       "      <td>16.638773</td>\n",
       "      <td>48.334339</td>\n",
       "      <td>0.000</td>\n",
       "      <td>0.40</td>\n",
       "      <td>99.42</td>\n",
       "      <td>0.32</td>\n",
       "      <td>0.0</td>\n",
       "      <td>0.27</td>\n",
       "      <td>0.29</td>\n",
       "      <td>100957.14</td>\n",
       "      <td>...</td>\n",
       "      <td>3.458333</td>\n",
       "      <td>7.97</td>\n",
       "      <td>0.40</td>\n",
       "      <td>2.713545</td>\n",
       "      <td>4.803274</td>\n",
       "      <td>9.19</td>\n",
       "      <td>-0.35</td>\n",
       "      <td>2.445896</td>\n",
       "      <td>1.540064</td>\n",
       "      <td>1.658888</td>\n",
       "    </tr>\n",
       "    <tr>\n",
       "      <th>3</th>\n",
       "      <td>16.638773</td>\n",
       "      <td>48.334339</td>\n",
       "      <td>0.000</td>\n",
       "      <td>0.51</td>\n",
       "      <td>100.00</td>\n",
       "      <td>0.51</td>\n",
       "      <td>0.0</td>\n",
       "      <td>0.61</td>\n",
       "      <td>0.21</td>\n",
       "      <td>100949.28</td>\n",
       "      <td>...</td>\n",
       "      <td>3.458333</td>\n",
       "      <td>7.97</td>\n",
       "      <td>0.40</td>\n",
       "      <td>2.713545</td>\n",
       "      <td>4.803274</td>\n",
       "      <td>9.19</td>\n",
       "      <td>-0.35</td>\n",
       "      <td>2.445896</td>\n",
       "      <td>1.457659</td>\n",
       "      <td>1.645292</td>\n",
       "    </tr>\n",
       "    <tr>\n",
       "      <th>4</th>\n",
       "      <td>16.638773</td>\n",
       "      <td>48.334339</td>\n",
       "      <td>0.000</td>\n",
       "      <td>0.49</td>\n",
       "      <td>100.00</td>\n",
       "      <td>0.49</td>\n",
       "      <td>0.0</td>\n",
       "      <td>0.76</td>\n",
       "      <td>0.43</td>\n",
       "      <td>100939.71</td>\n",
       "      <td>...</td>\n",
       "      <td>3.458333</td>\n",
       "      <td>7.97</td>\n",
       "      <td>0.40</td>\n",
       "      <td>2.713545</td>\n",
       "      <td>4.803274</td>\n",
       "      <td>9.19</td>\n",
       "      <td>-0.35</td>\n",
       "      <td>2.445896</td>\n",
       "      <td>1.380246</td>\n",
       "      <td>1.631620</td>\n",
       "    </tr>\n",
       "    <tr>\n",
       "      <th>...</th>\n",
       "      <td>...</td>\n",
       "      <td>...</td>\n",
       "      <td>...</td>\n",
       "      <td>...</td>\n",
       "      <td>...</td>\n",
       "      <td>...</td>\n",
       "      <td>...</td>\n",
       "      <td>...</td>\n",
       "      <td>...</td>\n",
       "      <td>...</td>\n",
       "      <td>...</td>\n",
       "      <td>...</td>\n",
       "      <td>...</td>\n",
       "      <td>...</td>\n",
       "      <td>...</td>\n",
       "      <td>...</td>\n",
       "      <td>...</td>\n",
       "      <td>...</td>\n",
       "      <td>...</td>\n",
       "      <td>...</td>\n",
       "      <td>...</td>\n",
       "    </tr>\n",
       "    <tr>\n",
       "      <th>105165</th>\n",
       "      <td>16.181034</td>\n",
       "      <td>48.112373</td>\n",
       "      <td>0.000</td>\n",
       "      <td>2.26</td>\n",
       "      <td>86.19</td>\n",
       "      <td>0.20</td>\n",
       "      <td>0.0</td>\n",
       "      <td>0.19</td>\n",
       "      <td>0.19</td>\n",
       "      <td>100935.99</td>\n",
       "      <td>...</td>\n",
       "      <td>1.450000</td>\n",
       "      <td>3.45</td>\n",
       "      <td>-0.91</td>\n",
       "      <td>1.274571</td>\n",
       "      <td>6.981190</td>\n",
       "      <td>14.18</td>\n",
       "      <td>-0.91</td>\n",
       "      <td>3.909641</td>\n",
       "      <td>2.314958</td>\n",
       "      <td>5.679273</td>\n",
       "    </tr>\n",
       "    <tr>\n",
       "      <th>105166</th>\n",
       "      <td>16.181034</td>\n",
       "      <td>48.112373</td>\n",
       "      <td>0.000</td>\n",
       "      <td>2.51</td>\n",
       "      <td>82.91</td>\n",
       "      <td>-0.09</td>\n",
       "      <td>0.0</td>\n",
       "      <td>1.08</td>\n",
       "      <td>0.49</td>\n",
       "      <td>100932.03</td>\n",
       "      <td>...</td>\n",
       "      <td>1.420417</td>\n",
       "      <td>3.45</td>\n",
       "      <td>-0.91</td>\n",
       "      <td>1.239458</td>\n",
       "      <td>6.933988</td>\n",
       "      <td>14.18</td>\n",
       "      <td>-0.91</td>\n",
       "      <td>3.915498</td>\n",
       "      <td>2.330561</td>\n",
       "      <td>5.641766</td>\n",
       "    </tr>\n",
       "    <tr>\n",
       "      <th>105167</th>\n",
       "      <td>16.181034</td>\n",
       "      <td>48.112373</td>\n",
       "      <td>0.000</td>\n",
       "      <td>1.84</td>\n",
       "      <td>84.37</td>\n",
       "      <td>-0.51</td>\n",
       "      <td>0.0</td>\n",
       "      <td>0.20</td>\n",
       "      <td>0.17</td>\n",
       "      <td>101026.68</td>\n",
       "      <td>...</td>\n",
       "      <td>1.353333</td>\n",
       "      <td>3.12</td>\n",
       "      <td>-0.91</td>\n",
       "      <td>1.166241</td>\n",
       "      <td>6.878810</td>\n",
       "      <td>14.18</td>\n",
       "      <td>-0.91</td>\n",
       "      <td>3.921609</td>\n",
       "      <td>2.291316</td>\n",
       "      <td>5.596775</td>\n",
       "    </tr>\n",
       "    <tr>\n",
       "      <th>105168</th>\n",
       "      <td>16.181034</td>\n",
       "      <td>48.112373</td>\n",
       "      <td>0.000</td>\n",
       "      <td>4.47</td>\n",
       "      <td>78.51</td>\n",
       "      <td>1.07</td>\n",
       "      <td>0.0</td>\n",
       "      <td>4.03</td>\n",
       "      <td>1.66</td>\n",
       "      <td>100941.54</td>\n",
       "      <td>...</td>\n",
       "      <td>1.409583</td>\n",
       "      <td>4.47</td>\n",
       "      <td>-0.91</td>\n",
       "      <td>1.281970</td>\n",
       "      <td>6.835119</td>\n",
       "      <td>14.18</td>\n",
       "      <td>-0.91</td>\n",
       "      <td>3.907203</td>\n",
       "      <td>2.465611</td>\n",
       "      <td>5.583441</td>\n",
       "    </tr>\n",
       "    <tr>\n",
       "      <th>105169</th>\n",
       "      <td>16.181034</td>\n",
       "      <td>48.112373</td>\n",
       "      <td>0.002</td>\n",
       "      <td>4.82</td>\n",
       "      <td>82.31</td>\n",
       "      <td>2.06</td>\n",
       "      <td>0.0</td>\n",
       "      <td>1.68</td>\n",
       "      <td>0.81</td>\n",
       "      <td>101031.94</td>\n",
       "      <td>...</td>\n",
       "      <td>1.500833</td>\n",
       "      <td>4.82</td>\n",
       "      <td>-0.91</td>\n",
       "      <td>1.440727</td>\n",
       "      <td>6.795060</td>\n",
       "      <td>14.18</td>\n",
       "      <td>-0.91</td>\n",
       "      <td>3.893048</td>\n",
       "      <td>2.653962</td>\n",
       "      <td>5.574406</td>\n",
       "    </tr>\n",
       "  </tbody>\n",
       "</table>\n",
       "<p>105110 rows × 38 columns</p>\n",
       "</div>"
      ],
      "text/plain": [
       "        longitude   latitude     RR   T2M    RH2M  TD2M   GL    UU    VV  \\\n",
       "0       16.638773  48.334339  0.000  1.68   94.58  0.91  0.0 -1.08  1.06   \n",
       "1       16.638773  48.334339  0.000  1.17   96.23  0.64  0.0 -2.09  0.80   \n",
       "2       16.638773  48.334339  0.000  0.40   99.42  0.32  0.0  0.27  0.29   \n",
       "3       16.638773  48.334339  0.000  0.51  100.00  0.51  0.0  0.61  0.21   \n",
       "4       16.638773  48.334339  0.000  0.49  100.00  0.49  0.0  0.76  0.43   \n",
       "...           ...        ...    ...   ...     ...   ...  ...   ...   ...   \n",
       "105165  16.181034  48.112373  0.000  2.26   86.19  0.20  0.0  0.19  0.19   \n",
       "105166  16.181034  48.112373  0.000  2.51   82.91 -0.09  0.0  1.08  0.49   \n",
       "105167  16.181034  48.112373  0.000  1.84   84.37 -0.51  0.0  0.20  0.17   \n",
       "105168  16.181034  48.112373  0.000  4.47   78.51  1.07  0.0  4.03  1.66   \n",
       "105169  16.181034  48.112373  0.002  4.82   82.31  2.06  0.0  1.68  0.81   \n",
       "\n",
       "               P0  ...  24h_rolling_mean  24h_rolling_max  24h_rolling_min  \\\n",
       "0       101026.92  ...          3.458333             7.97             0.40   \n",
       "1       100967.53  ...          3.458333             7.97             0.40   \n",
       "2       100957.14  ...          3.458333             7.97             0.40   \n",
       "3       100949.28  ...          3.458333             7.97             0.40   \n",
       "4       100939.71  ...          3.458333             7.97             0.40   \n",
       "...           ...  ...               ...              ...              ...   \n",
       "105165  100935.99  ...          1.450000             3.45            -0.91   \n",
       "105166  100932.03  ...          1.420417             3.45            -0.91   \n",
       "105167  101026.68  ...          1.353333             3.12            -0.91   \n",
       "105168  100941.54  ...          1.409583             4.47            -0.91   \n",
       "105169  101031.94  ...          1.500833             4.82            -0.91   \n",
       "\n",
       "        24h_rolling_std  7d_rolling_mean  7d_rolling_max  7d_rolling_min  \\\n",
       "0              2.713545         4.803274            9.19           -0.35   \n",
       "1              2.713545         4.803274            9.19           -0.35   \n",
       "2              2.713545         4.803274            9.19           -0.35   \n",
       "3              2.713545         4.803274            9.19           -0.35   \n",
       "4              2.713545         4.803274            9.19           -0.35   \n",
       "...                 ...              ...             ...             ...   \n",
       "105165         1.274571         6.981190           14.18           -0.91   \n",
       "105166         1.239458         6.933988           14.18           -0.91   \n",
       "105167         1.166241         6.878810           14.18           -0.91   \n",
       "105168         1.281970         6.835119           14.18           -0.91   \n",
       "105169         1.440727         6.795060           14.18           -0.91   \n",
       "\n",
       "        7d_rolling_std   24h_ewm    7d_ewm  \n",
       "0             2.445896  1.680000  1.680000  \n",
       "1             2.445896  1.639200  1.673964  \n",
       "2             2.445896  1.540064  1.658888  \n",
       "3             2.445896  1.457659  1.645292  \n",
       "4             2.445896  1.380246  1.631620  \n",
       "...                ...       ...       ...  \n",
       "105165        3.909641  2.314958  5.679273  \n",
       "105166        3.915498  2.330561  5.641766  \n",
       "105167        3.921609  2.291316  5.596775  \n",
       "105168        3.907203  2.465611  5.583441  \n",
       "105169        3.893048  2.653962  5.574406  \n",
       "\n",
       "[105110 rows x 38 columns]"
      ]
     },
     "execution_count": 111,
     "metadata": {},
     "output_type": "execute_result"
    }
   ],
   "source": [
    "df"
   ]
  },
  {
   "cell_type": "code",
   "execution_count": 112,
   "id": "b0a43d93-ca43-4858-9450-630fe6bf830a",
   "metadata": {
    "scrolled": true
   },
   "outputs": [
    {
     "name": "stdout",
     "output_type": "stream",
     "text": [
      "\u001b[1m1/1\u001b[0m \u001b[32m━━━━━━━━━━━━━━━━━━━━\u001b[0m\u001b[37m\u001b[0m \u001b[1m0s\u001b[0m 28ms/step\n",
      "\u001b[1m1/1\u001b[0m \u001b[32m━━━━━━━━━━━━━━━━━━━━\u001b[0m\u001b[37m\u001b[0m \u001b[1m0s\u001b[0m 27ms/step\n",
      "\u001b[1m1/1\u001b[0m \u001b[32m━━━━━━━━━━━━━━━━━━━━\u001b[0m\u001b[37m\u001b[0m \u001b[1m0s\u001b[0m 33ms/step\n",
      "\u001b[1m1/1\u001b[0m \u001b[32m━━━━━━━━━━━━━━━━━━━━\u001b[0m\u001b[37m\u001b[0m \u001b[1m0s\u001b[0m 23ms/step\n",
      "\u001b[1m1/1\u001b[0m \u001b[32m━━━━━━━━━━━━━━━━━━━━\u001b[0m\u001b[37m\u001b[0m \u001b[1m0s\u001b[0m 22ms/step\n",
      "\u001b[1m1/1\u001b[0m \u001b[32m━━━━━━━━━━━━━━━━━━━━\u001b[0m\u001b[37m\u001b[0m \u001b[1m0s\u001b[0m 24ms/step\n",
      "\u001b[1m1/1\u001b[0m \u001b[32m━━━━━━━━━━━━━━━━━━━━\u001b[0m\u001b[37m\u001b[0m \u001b[1m0s\u001b[0m 21ms/step\n",
      "\u001b[1m1/1\u001b[0m \u001b[32m━━━━━━━━━━━━━━━━━━━━\u001b[0m\u001b[37m\u001b[0m \u001b[1m0s\u001b[0m 20ms/step\n",
      "\u001b[1m1/1\u001b[0m \u001b[32m━━━━━━━━━━━━━━━━━━━━\u001b[0m\u001b[37m\u001b[0m \u001b[1m0s\u001b[0m 22ms/step\n",
      "\u001b[1m1/1\u001b[0m \u001b[32m━━━━━━━━━━━━━━━━━━━━\u001b[0m\u001b[37m\u001b[0m \u001b[1m0s\u001b[0m 23ms/step\n",
      "\u001b[1m1/1\u001b[0m \u001b[32m━━━━━━━━━━━━━━━━━━━━\u001b[0m\u001b[37m\u001b[0m \u001b[1m0s\u001b[0m 29ms/step\n",
      "\u001b[1m1/1\u001b[0m \u001b[32m━━━━━━━━━━━━━━━━━━━━\u001b[0m\u001b[37m\u001b[0m \u001b[1m0s\u001b[0m 29ms/step\n",
      "\u001b[1m1/1\u001b[0m \u001b[32m━━━━━━━━━━━━━━━━━━━━\u001b[0m\u001b[37m\u001b[0m \u001b[1m0s\u001b[0m 30ms/step\n",
      "\u001b[1m1/1\u001b[0m \u001b[32m━━━━━━━━━━━━━━━━━━━━\u001b[0m\u001b[37m\u001b[0m \u001b[1m0s\u001b[0m 28ms/step\n",
      "\u001b[1m1/1\u001b[0m \u001b[32m━━━━━━━━━━━━━━━━━━━━\u001b[0m\u001b[37m\u001b[0m \u001b[1m0s\u001b[0m 23ms/step\n",
      "\u001b[1m1/1\u001b[0m \u001b[32m━━━━━━━━━━━━━━━━━━━━\u001b[0m\u001b[37m\u001b[0m \u001b[1m0s\u001b[0m 21ms/step\n",
      "\u001b[1m1/1\u001b[0m \u001b[32m━━━━━━━━━━━━━━━━━━━━\u001b[0m\u001b[37m\u001b[0m \u001b[1m0s\u001b[0m 21ms/step\n",
      "\u001b[1m1/1\u001b[0m \u001b[32m━━━━━━━━━━━━━━━━━━━━\u001b[0m\u001b[37m\u001b[0m \u001b[1m0s\u001b[0m 22ms/step\n",
      "\u001b[1m1/1\u001b[0m \u001b[32m━━━━━━━━━━━━━━━━━━━━\u001b[0m\u001b[37m\u001b[0m \u001b[1m0s\u001b[0m 22ms/step\n",
      "\u001b[1m1/1\u001b[0m \u001b[32m━━━━━━━━━━━━━━━━━━━━\u001b[0m\u001b[37m\u001b[0m \u001b[1m0s\u001b[0m 25ms/step\n",
      "\u001b[1m1/1\u001b[0m \u001b[32m━━━━━━━━━━━━━━━━━━━━\u001b[0m\u001b[37m\u001b[0m \u001b[1m0s\u001b[0m 25ms/step\n",
      "\u001b[1m1/1\u001b[0m \u001b[32m━━━━━━━━━━━━━━━━━━━━\u001b[0m\u001b[37m\u001b[0m \u001b[1m0s\u001b[0m 25ms/step\n",
      "\u001b[1m1/1\u001b[0m \u001b[32m━━━━━━━━━━━━━━━━━━━━\u001b[0m\u001b[37m\u001b[0m \u001b[1m0s\u001b[0m 23ms/step\n",
      "\u001b[1m1/1\u001b[0m \u001b[32m━━━━━━━━━━━━━━━━━━━━\u001b[0m\u001b[37m\u001b[0m \u001b[1m0s\u001b[0m 25ms/step\n",
      "[23.298254534602172, 23.412202072739607, 23.600298631787307, 23.66304106891156, 23.760155801773077, 23.889423153996475, 24.01916993141175, 24.129783285260206, 24.215214363932617, 24.277209644913682, 24.320283196568496, 24.34938492834569, 24.368428070545203, 24.38057558417321, 24.388187237381942, 24.392906773686416, 24.395805116891868, 24.39763564944268, 24.39832676887513, 24.398522897362717, 24.39873147845269, 24.398706573247917, 24.398448181748396, 24.398136866688734]\n"
     ]
    }
   ],
   "source": [
    "predictions = scaled_model.predict_future(data_for_prediction.copy().iloc[-48:], steps=24)\n",
    "print(predictions)"
   ]
  },
  {
   "cell_type": "code",
   "execution_count": 113,
   "id": "640716ef-b21a-49b5-a571-8d7b8fd4abf9",
   "metadata": {},
   "outputs": [
    {
     "name": "stdout",
     "output_type": "stream",
     "text": [
      "First timestamp: 0\n",
      "Last timestamp: 49\n",
      "Unique timestamps count: 50\n"
     ]
    }
   ],
   "source": [
    "print(\"First timestamp:\", data_for_prediction.index.min())\n",
    "print(\"Last timestamp:\", data_for_prediction.index.max())\n",
    "print(\"Unique timestamps count:\", data_for_prediction.index.nunique())\n"
   ]
  },
  {
   "cell_type": "code",
   "execution_count": 114,
   "id": "0210f7b3-378d-4f56-a274-3c90e5ddf436",
   "metadata": {},
   "outputs": [
    {
     "data": {
      "image/png": "[encoded data removed]",
      "text/plain": [
       "<Figure size 1500x700 with 1 Axes>"
      ]
     },
     "metadata": {},
     "output_type": "display_data"
    },
    {
     "data": {
      "image/png": "[encoded data removed]",
      "text/plain": [
       "<Figure size 1500x700 with 1 Axes>"
      ]
     },
     "metadata": {},
     "output_type": "display_data"
    }
   ],
   "source": [
    "start_datetime = '2023-06-22 00:00:00'\n",
    "\n",
    "# Generate a datetime index starting from `start_datetime`\n",
    "new_index = pd.date_range(start=start_datetime, periods=data_for_prediction.index.nunique(), freq='H')  # 'H' for hourly\n",
    "\n",
    "# Assign this new index to your DataFrame\n",
    "data_for_prediction.index = new_index\n",
    "\n",
    "# Now plot as before\n",
    "plt.figure(figsize=(15, 7))\n",
    "plt.plot(data_for_prediction.index, data_for_prediction['T2M'], label='Original T2M', color='blue')\n",
    "plt.title('Temperature Data Over Time')\n",
    "plt.xlabel('Date')\n",
    "plt.ylabel('Temperature (°C)')\n",
    "plt.legend()\n",
    "plt.grid(True)\n",
    "plt.show()\n",
    "\n",
    "last_timestamp = data_for_prediction.index[-1]\n",
    "prediction_frequency = 'H'  # 'H' for hourly\n",
    "\n",
    "# Generate new timestamps for predictions\n",
    "new_timestamps = pd.date_range(start=last_timestamp, periods=len(predictions) + 1, freq=prediction_frequency)[1:]\n",
    "\n",
    "# Continue as previously to plot predictions alongside original data\n",
    "predictions_df = pd.DataFrame(predictions, index=new_timestamps, columns=['Predicted T2M'])\n",
    "combined_df = pd.concat([data_for_prediction, predictions_df])\n",
    "\n",
    "plt.figure(figsize=(15, 7))\n",
    "plt.plot(combined_df.index, combined_df['T2M'], label='Original T2M', color='blue')\n",
    "plt.plot(predictions_df.index, predictions_df['Predicted T2M'], label='Predicted T2M', color='red', linestyle='--')\n",
    "plt.title('Temperature Predictions')\n",
    "plt.xlabel('Date')\n",
    "plt.ylabel('Temperature (°C)')\n",
    "plt.legend()\n",
    "plt.grid(True)\n",
    "plt.show()\n",
    "\n"
   ]
  },
  {
   "cell_type": "code",
   "execution_count": 19,
   "id": "40423321-cac7-4bde-866d-a82ecf605c45",
   "metadata": {},
   "outputs": [
    {
     "ename": "NameError",
     "evalue": "name 'self' is not defined",
     "output_type": "error",
     "traceback": [
      "\u001b[0;31m---------------------------------------------------------------------------\u001b[0m",
      "\u001b[0;31mNameError\u001b[0m                                 Traceback (most recent call last)",
      "Cell \u001b[0;32mIn[19], line 3\u001b[0m\n\u001b[1;32m      1\u001b[0m \u001b[38;5;66;03m# Optionally, you can plot the predictions - Adjust plotting to handle scaled values if needed\u001b[39;00m\n\u001b[1;32m      2\u001b[0m plt\u001b[38;5;241m.\u001b[39mfigure(figsize\u001b[38;5;241m=\u001b[39m(\u001b[38;5;241m10\u001b[39m, \u001b[38;5;241m5\u001b[39m))\n\u001b[0;32m----> 3\u001b[0m actual_scaled \u001b[38;5;241m=\u001b[39m \u001b[38;5;28mself\u001b[39m\u001b[38;5;241m.\u001b[39mscaler\u001b[38;5;241m.\u001b[39minverse_transform(df_scaled)[:, \u001b[38;5;241m3\u001b[39m]  \u001b[38;5;66;03m# Assuming index 3 is the feature being predicted\u001b[39;00m\n\u001b[1;32m      4\u001b[0m plt\u001b[38;5;241m.\u001b[39mplot(\u001b[38;5;28mrange\u001b[39m(\u001b[38;5;28mlen\u001b[39m(actual_scaled)), actual_scaled, label\u001b[38;5;241m=\u001b[39m\u001b[38;5;124m'\u001b[39m\u001b[38;5;124mOriginal data\u001b[39m\u001b[38;5;124m'\u001b[39m)\n\u001b[1;32m      5\u001b[0m plt\u001b[38;5;241m.\u001b[39mplot(\u001b[38;5;28mrange\u001b[39m(\u001b[38;5;28mlen\u001b[39m(actual_scaled), \u001b[38;5;28mlen\u001b[39m(actual_scaled) \u001b[38;5;241m+\u001b[39m steps), predictions, label\u001b[38;5;241m=\u001b[39m\u001b[38;5;124m'\u001b[39m\u001b[38;5;124mPredicted data\u001b[39m\u001b[38;5;124m'\u001b[39m)\n",
      "\u001b[0;31mNameError\u001b[0m: name 'self' is not defined"
     ]
    },
    {
     "data": {
      "text/plain": [
       "<Figure size 1000x500 with 0 Axes>"
      ]
     },
     "metadata": {},
     "output_type": "display_data"
    }
   ],
   "source": [
    "        # Optionally, you can plot the predictions - Adjust plotting to handle scaled values if needed\n",
    "        plt.figure(figsize=(10, 5))\n",
    "        actual_scaled = self.scaler.inverse_transform(df_scaled)[:, 3]  # Assuming index 3 is the feature being predicted\n",
    "        plt.plot(range(len(actual_scaled)), actual_scaled, label='Original data')\n",
    "        plt.plot(range(len(actual_scaled), len(actual_scaled) + steps), predictions, label='Predicted data')\n",
    "        plt.legend()\n",
    "        plt.show()\n",
    "    "
   ]
  },
  {
   "cell_type": "code",
   "execution_count": 20,
   "id": "7b8126ce-1e9f-4ec8-b485-4ed85033352c",
   "metadata": {},
   "outputs": [
    {
     "name": "stdout",
     "output_type": "stream",
     "text": [
      "https://dataset.api.hub.geosphere.at/v1/timeseries/historical/inca-v1-1h-1km?parameters=RR&parameters=GL&parameters=P0&parameters=T2M&parameters=TD2M&parameters=RH2M&parameters=UU&parameters=VV&start=2024-02-02T00%3A00&end=2024-02-03T00%3A00&lat_lon=48.333056%2C16.631944&lat_lon=48.115278%2C16.175833&output_format=geojson&filename=INCA_Vienna_timeseries_all_parameters_2024_2024_0101\n",
      "Fetched data successfully\n",
      "Scaler min values: [-3.53499231e+01 -2.16755805e+02  0.00000000e+00  3.04614206e-01\n",
      " -1.45475372e-01  4.40229598e-01  0.00000000e+00  4.34725849e-01\n",
      "  5.07621951e-01 -1.56912065e+01  0.00000000e+00 -1.92307692e-02\n",
      " -9.09090909e-02  0.00000000e+00  4.99844830e-01  3.98302190e-01\n",
      "  0.00000000e+00  0.00000000e+00  3.04614206e-01  5.00000000e-01\n",
      "  5.00000000e-01 -2.73972603e-03  5.00000000e-01  4.99990740e-01\n",
      "  3.04532032e-01]\n",
      "Scaler scale values: [2.18465167e+00 4.50519876e+00 2.00224251e-02 1.91460846e-02\n",
      " 1.14547537e-02 2.49563264e-02 9.83448561e-04 4.35161010e-02\n",
      " 5.08130081e-02 1.59149758e-04 4.34782609e-02 1.92307692e-02\n",
      " 9.09090909e-02 7.17117886e-02 2.77863983e-03 2.79439066e-04\n",
      " 5.02096857e-03 2.00224251e-02 1.91460846e-02 5.00000000e-01\n",
      " 5.00000000e-01 2.73972603e-03 5.00004630e-01 5.00009260e-01\n",
      " 1.92579278e-02]\n"
     ]
    },
    {
     "data": {
      "text/plain": [
       "(0.0, 1.0, 0.6666666666666666, 0.1111111111111111)"
      ]
     },
     "execution_count": 20,
     "metadata": {},
     "output_type": "execute_result"
    }
   ],
   "source": [
    "data_for_prediction, time_index = get_data_for_convlstm('2024-02-02', '2024-02-03')\n",
    "print(\"Scaler min values:\", scaled_model.scaler.min_)\n",
    "print(\"Scaler scale values:\", scaled_model.scaler.scale_)\n",
    "def scale_temperature(T, min_temp=-10, scale=45):\n",
    "    return (T - min_temp) / scale\n",
    "\n",
    "# Test the scaling\n",
    "scaled_minus_10 = scale_temperature(-10)  # Expected to be 0\n",
    "scaled_35 = scale_temperature(35)         # Expected to be 1\n",
    "scaled_20 = scale_temperature(20)         # Expected to be 1\n",
    "scaled_5 = scale_temperature(-5)         # Expected to be 1\n",
    "\n",
    "scaled_minus_10, scaled_35, scaled_20, scaled_5\n"
   ]
  },
  {
   "cell_type": "code",
   "execution_count": 21,
   "id": "b33b95a7-f93c-48d5-be1a-159ce4db64b7",
   "metadata": {},
   "outputs": [
    {
     "name": "stdout",
     "output_type": "stream",
     "text": [
      "\u001b[1m1/1\u001b[0m \u001b[32m━━━━━━━━━━━━━━━━━━━━\u001b[0m\u001b[37m\u001b[0m \u001b[1m0s\u001b[0m 31ms/step\n",
      "\u001b[1m1/1\u001b[0m \u001b[32m━━━━━━━━━━━━━━━━━━━━\u001b[0m\u001b[37m\u001b[0m \u001b[1m0s\u001b[0m 23ms/step\n",
      "\u001b[1m1/1\u001b[0m \u001b[32m━━━━━━━━━━━━━━━━━━━━\u001b[0m\u001b[37m\u001b[0m \u001b[1m0s\u001b[0m 23ms/step\n",
      "\u001b[1m1/1\u001b[0m \u001b[32m━━━━━━━━━━━━━━━━━━━━\u001b[0m\u001b[37m\u001b[0m \u001b[1m0s\u001b[0m 22ms/step\n",
      "\u001b[1m1/1\u001b[0m \u001b[32m━━━━━━━━━━━━━━━━━━━━\u001b[0m\u001b[37m\u001b[0m \u001b[1m0s\u001b[0m 21ms/step\n",
      "\u001b[1m1/1\u001b[0m \u001b[32m━━━━━━━━━━━━━━━━━━━━\u001b[0m\u001b[37m\u001b[0m \u001b[1m0s\u001b[0m 20ms/step\n",
      "\u001b[1m1/1\u001b[0m \u001b[32m━━━━━━━━━━━━━━━━━━━━\u001b[0m\u001b[37m\u001b[0m \u001b[1m0s\u001b[0m 21ms/step\n",
      "\u001b[1m1/1\u001b[0m \u001b[32m━━━━━━━━━━━━━━━━━━━━\u001b[0m\u001b[37m\u001b[0m \u001b[1m0s\u001b[0m 21ms/step\n",
      "\u001b[1m1/1\u001b[0m \u001b[32m━━━━━━━━━━━━━━━━━━━━\u001b[0m\u001b[37m\u001b[0m \u001b[1m0s\u001b[0m 21ms/step\n",
      "\u001b[1m1/1\u001b[0m \u001b[32m━━━━━━━━━━━━━━━━━━━━\u001b[0m\u001b[37m\u001b[0m \u001b[1m0s\u001b[0m 20ms/step\n",
      "\u001b[1m1/1\u001b[0m \u001b[32m━━━━━━━━━━━━━━━━━━━━\u001b[0m\u001b[37m\u001b[0m \u001b[1m0s\u001b[0m 20ms/step\n",
      "\u001b[1m1/1\u001b[0m \u001b[32m━━━━━━━━━━━━━━━━━━━━\u001b[0m\u001b[37m\u001b[0m \u001b[1m0s\u001b[0m 20ms/step\n",
      "\u001b[1m1/1\u001b[0m \u001b[32m━━━━━━━━━━━━━━━━━━━━\u001b[0m\u001b[37m\u001b[0m \u001b[1m0s\u001b[0m 23ms/step\n",
      "\u001b[1m1/1\u001b[0m \u001b[32m━━━━━━━━━━━━━━━━━━━━\u001b[0m\u001b[37m\u001b[0m \u001b[1m0s\u001b[0m 23ms/step\n",
      "\u001b[1m1/1\u001b[0m \u001b[32m━━━━━━━━━━━━━━━━━━━━\u001b[0m\u001b[37m\u001b[0m \u001b[1m0s\u001b[0m 22ms/step\n",
      "\u001b[1m1/1\u001b[0m \u001b[32m━━━━━━━━━━━━━━━━━━━━\u001b[0m\u001b[37m\u001b[0m \u001b[1m0s\u001b[0m 22ms/step\n",
      "\u001b[1m1/1\u001b[0m \u001b[32m━━━━━━━━━━━━━━━━━━━━\u001b[0m\u001b[37m\u001b[0m \u001b[1m0s\u001b[0m 23ms/step\n",
      "\u001b[1m1/1\u001b[0m \u001b[32m━━━━━━━━━━━━━━━━━━━━\u001b[0m\u001b[37m\u001b[0m \u001b[1m0s\u001b[0m 21ms/step\n",
      "\u001b[1m1/1\u001b[0m \u001b[32m━━━━━━━━━━━━━━━━━━━━\u001b[0m\u001b[37m\u001b[0m \u001b[1m0s\u001b[0m 22ms/step\n",
      "\u001b[1m1/1\u001b[0m \u001b[32m━━━━━━━━━━━━━━━━━━━━\u001b[0m\u001b[37m\u001b[0m \u001b[1m0s\u001b[0m 20ms/step\n",
      "\u001b[1m1/1\u001b[0m \u001b[32m━━━━━━━━━━━━━━━━━━━━\u001b[0m\u001b[37m\u001b[0m \u001b[1m0s\u001b[0m 21ms/step\n",
      "\u001b[1m1/1\u001b[0m \u001b[32m━━━━━━━━━━━━━━━━━━━━\u001b[0m\u001b[37m\u001b[0m \u001b[1m0s\u001b[0m 20ms/step\n",
      "\u001b[1m1/1\u001b[0m \u001b[32m━━━━━━━━━━━━━━━━━━━━\u001b[0m\u001b[37m\u001b[0m \u001b[1m0s\u001b[0m 22ms/step\n",
      "\u001b[1m1/1\u001b[0m \u001b[32m━━━━━━━━━━━━━━━━━━━━\u001b[0m\u001b[37m\u001b[0m \u001b[1m0s\u001b[0m 21ms/step\n",
      "[8.641888642013077, 8.091706206798559, 7.745983050167565, 7.56692396730185, 7.477722863256936, 7.435002654194837, 7.428493056297307, 7.760281750857835, 7.91350635349751, 7.93890810579062, 7.922332135438924, 7.896492985486989, 7.870977603197103, 7.847840667963033, 7.827888485789304, 7.811293836534028, 7.797253527343278, 7.784360414147382, 7.771994979977612, 7.760073169767861, 7.749212943911557, 7.740057168006902, 7.713417938351636, 7.408439696729188]\n"
     ]
    }
   ],
   "source": [
    "predictions = scaled_model.predict_future(data_for_prediction.copy().iloc[-48:], steps=24)\n",
    "print(predictions)"
   ]
  },
  {
   "cell_type": "code",
   "execution_count": 33,
   "id": "a53786cd-8cc6-4cef-9ab9-7c3c0ff57d0d",
   "metadata": {},
   "outputs": [
    {
     "name": "stdout",
     "output_type": "stream",
     "text": [
      "\u001b[1m1/1\u001b[0m \u001b[32m━━━━━━━━━━━━━━━━━━━━\u001b[0m\u001b[37m\u001b[0m \u001b[1m0s\u001b[0m 27ms/step\n"
     ]
    }
   ],
   "source": [
    "predic = scaled_model.predict(data_for_prediction.copy())"
   ]
  },
  {
   "cell_type": "code",
   "execution_count": 36,
   "id": "4e08cfda-7cac-42ee-b564-e6b9df54ecb5",
   "metadata": {
    "scrolled": true
   },
   "outputs": [
    {
     "data": {
      "image/png": "[encoded data removed]",
      "text/plain": [
       "<Figure size 640x480 with 1 Axes>"
      ]
     },
     "metadata": {},
     "output_type": "display_data"
    }
   ],
   "source": [
    "plt.subplot(1, 2, 1)\n",
    "plt.plot(data_for_prediction['T2M'], label='Actual', marker='o', linestyle='-')\n",
    "plt.plot(predic, label='Predicted', marker='x', linestyle='--')\n",
    "plt.title('Detailed View of Predictions vs. Actual')\n",
    "plt.xlabel('Time')\n",
    "plt.ylabel('Value')\n",
    "plt.legend()\n",
    "\n",
    "# Scatter plot of the actual vs predicted\n",
    "plt.tight_layout()\n",
    "plt.show()"
   ]
  },
  {
   "cell_type": "code",
   "execution_count": null,
   "id": "cd6aa114-244b-4b2b-bf06-df35e64f056f",
   "metadata": {},
   "outputs": [],
   "source": []
  },
  {
   "cell_type": "code",
   "execution_count": 24,
   "id": "bf7fc136-ca1d-46d3-ac18-722d1423c0ab",
   "metadata": {},
   "outputs": [
    {
     "name": "stdout",
     "output_type": "stream",
     "text": [
      "\u001b[1m1/1\u001b[0m \u001b[32m━━━━━━━━━━━━━━━━━━━━\u001b[0m\u001b[37m\u001b[0m \u001b[1m0s\u001b[0m 34ms/step\n",
      "\u001b[1m1/1\u001b[0m \u001b[32m━━━━━━━━━━━━━━━━━━━━\u001b[0m\u001b[37m\u001b[0m \u001b[1m0s\u001b[0m 26ms/step\n",
      "\u001b[1m1/1\u001b[0m \u001b[32m━━━━━━━━━━━━━━━━━━━━\u001b[0m\u001b[37m\u001b[0m \u001b[1m0s\u001b[0m 26ms/step\n",
      "\u001b[1m1/1\u001b[0m \u001b[32m━━━━━━━━━━━━━━━━━━━━\u001b[0m\u001b[37m\u001b[0m \u001b[1m0s\u001b[0m 26ms/step\n",
      "\u001b[1m1/1\u001b[0m \u001b[32m━━━━━━━━━━━━━━━━━━━━\u001b[0m\u001b[37m\u001b[0m \u001b[1m0s\u001b[0m 25ms/step\n",
      "\u001b[1m1/1\u001b[0m \u001b[32m━━━━━━━━━━━━━━━━━━━━\u001b[0m\u001b[37m\u001b[0m \u001b[1m0s\u001b[0m 30ms/step\n",
      "\u001b[1m1/1\u001b[0m \u001b[32m━━━━━━━━━━━━━━━━━━━━\u001b[0m\u001b[37m\u001b[0m \u001b[1m0s\u001b[0m 20ms/step\n",
      "\u001b[1m1/1\u001b[0m \u001b[32m━━━━━━━━━━━━━━━━━━━━\u001b[0m\u001b[37m\u001b[0m \u001b[1m0s\u001b[0m 21ms/step\n",
      "\u001b[1m1/1\u001b[0m \u001b[32m━━━━━━━━━━━━━━━━━━━━\u001b[0m\u001b[37m\u001b[0m \u001b[1m0s\u001b[0m 22ms/step\n",
      "\u001b[1m1/1\u001b[0m \u001b[32m━━━━━━━━━━━━━━━━━━━━\u001b[0m\u001b[37m\u001b[0m \u001b[1m0s\u001b[0m 22ms/step\n",
      "\u001b[1m1/1\u001b[0m \u001b[32m━━━━━━━━━━━━━━━━━━━━\u001b[0m\u001b[37m\u001b[0m \u001b[1m0s\u001b[0m 25ms/step\n",
      "\u001b[1m1/1\u001b[0m \u001b[32m━━━━━━━━━━━━━━━━━━━━\u001b[0m\u001b[37m\u001b[0m \u001b[1m0s\u001b[0m 22ms/step\n",
      "\u001b[1m1/1\u001b[0m \u001b[32m━━━━━━━━━━━━━━━━━━━━\u001b[0m\u001b[37m\u001b[0m \u001b[1m0s\u001b[0m 21ms/step\n",
      "\u001b[1m1/1\u001b[0m \u001b[32m━━━━━━━━━━━━━━━━━━━━\u001b[0m\u001b[37m\u001b[0m \u001b[1m0s\u001b[0m 23ms/step\n",
      "\u001b[1m1/1\u001b[0m \u001b[32m━━━━━━━━━━━━━━━━━━━━\u001b[0m\u001b[37m\u001b[0m \u001b[1m0s\u001b[0m 22ms/step\n",
      "\u001b[1m1/1\u001b[0m \u001b[32m━━━━━━━━━━━━━━━━━━━━\u001b[0m\u001b[37m\u001b[0m \u001b[1m0s\u001b[0m 23ms/step\n",
      "\u001b[1m1/1\u001b[0m \u001b[32m━━━━━━━━━━━━━━━━━━━━\u001b[0m\u001b[37m\u001b[0m \u001b[1m0s\u001b[0m 22ms/step\n",
      "\u001b[1m1/1\u001b[0m \u001b[32m━━━━━━━━━━━━━━━━━━━━\u001b[0m\u001b[37m\u001b[0m \u001b[1m0s\u001b[0m 22ms/step\n",
      "\u001b[1m1/1\u001b[0m \u001b[32m━━━━━━━━━━━━━━━━━━━━\u001b[0m\u001b[37m\u001b[0m \u001b[1m0s\u001b[0m 22ms/step\n",
      "\u001b[1m1/1\u001b[0m \u001b[32m━━━━━━━━━━━━━━━━━━━━\u001b[0m\u001b[37m\u001b[0m \u001b[1m0s\u001b[0m 21ms/step\n",
      "\u001b[1m1/1\u001b[0m \u001b[32m━━━━━━━━━━━━━━━━━━━━\u001b[0m\u001b[37m\u001b[0m \u001b[1m0s\u001b[0m 22ms/step\n",
      "\u001b[1m1/1\u001b[0m \u001b[32m━━━━━━━━━━━━━━━━━━━━\u001b[0m\u001b[37m\u001b[0m \u001b[1m0s\u001b[0m 22ms/step\n",
      "\u001b[1m1/1\u001b[0m \u001b[32m━━━━━━━━━━━━━━━━━━━━\u001b[0m\u001b[37m\u001b[0m \u001b[1m0s\u001b[0m 22ms/step\n",
      "\u001b[1m1/1\u001b[0m \u001b[32m━━━━━━━━━━━━━━━━━━━━\u001b[0m\u001b[37m\u001b[0m \u001b[1m0s\u001b[0m 21ms/step\n"
     ]
    }
   ],
   "source": [
    "predictions = scaled_model.predict_future(data_for_prediction.copy().iloc[-48:], steps=24)\n"
   ]
  },
  {
   "cell_type": "code",
   "execution_count": 25,
   "id": "f416af0d-8815-4321-bfa2-52c3fa5a52ad",
   "metadata": {},
   "outputs": [
    {
     "name": "stdout",
     "output_type": "stream",
     "text": [
      "\u001b[1m1/1\u001b[0m \u001b[32m━━━━━━━━━━━━━━━━━━━━\u001b[0m\u001b[37m\u001b[0m \u001b[1m0s\u001b[0m 28ms/step\n",
      "\u001b[1m1/1\u001b[0m \u001b[32m━━━━━━━━━━━━━━━━━━━━\u001b[0m\u001b[37m\u001b[0m \u001b[1m0s\u001b[0m 26ms/step\n",
      "\u001b[1m1/1\u001b[0m \u001b[32m━━━━━━━━━━━━━━━━━━━━\u001b[0m\u001b[37m\u001b[0m \u001b[1m0s\u001b[0m 30ms/step\n",
      "\u001b[1m1/1\u001b[0m \u001b[32m━━━━━━━━━━━━━━━━━━━━\u001b[0m\u001b[37m\u001b[0m \u001b[1m0s\u001b[0m 25ms/step\n",
      "\u001b[1m1/1\u001b[0m \u001b[32m━━━━━━━━━━━━━━━━━━━━\u001b[0m\u001b[37m\u001b[0m \u001b[1m0s\u001b[0m 27ms/step\n",
      "\u001b[1m1/1\u001b[0m \u001b[32m━━━━━━━━━━━━━━━━━━━━\u001b[0m\u001b[37m\u001b[0m \u001b[1m0s\u001b[0m 27ms/step\n",
      "Predictions for the next 6 time points: [4.805448871254925, 5.434960609972482, 5.207949668467049, 4.659613331556325, 4.152384591698651, 3.835319542884831]\n"
     ]
    }
   ],
   "source": [
    "predictions = scaled_model.predict_future(feature_df.copy().iloc[-24:], steps=6)\n",
    "print(\"Predictions for the next 6 time points:\", predictions)"
   ]
  },
  {
   "cell_type": "code",
   "execution_count": null,
   "id": "3b221d89-c291-4ede-9f18-16210676bc22",
   "metadata": {},
   "outputs": [],
   "source": []
  },
  {
   "cell_type": "code",
   "execution_count": null,
   "id": "c5b94374-1710-41a3-993e-be2528d4972f",
   "metadata": {},
   "outputs": [],
   "source": []
  },
  {
   "cell_type": "code",
   "execution_count": null,
   "id": "97a47d88-1da0-4143-a438-6c499e39a48d",
   "metadata": {},
   "outputs": [],
   "source": []
  },
  {
   "cell_type": "code",
   "execution_count": null,
   "id": "cd40ef7d-bb01-4078-b328-c9375aa863a3",
   "metadata": {},
   "outputs": [],
   "source": []
  }
 ],
 "metadata": {
  "kernelspec": {
   "display_name": "Python 3 (ipykernel)",
   "language": "python",
   "name": "python3"
  },
  "language_info": {
   "codemirror_mode": {
    "name": "ipython",
    "version": 3
   },
   "file_extension": ".py",
   "mimetype": "text/x-python",
   "name": "python",
   "nbconvert_exporter": "python",
   "pygments_lexer": "ipython3",
   "version": "3.11.7"
  }
 },
 "nbformat": 4,
 "nbformat_minor": 5
}
