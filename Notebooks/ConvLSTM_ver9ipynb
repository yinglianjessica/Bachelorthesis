{
 "cells": [
  {
   "cell_type": "code",
   "execution_count": 70,
   "id": "1219eae6-c7d3-453c-8925-e2ed511e63ac",
   "metadata": {},
   "outputs": [],
   "source": [
    "#pip install tensorflow"
   ]
  },
  {
   "cell_type": "code",
   "execution_count": 71,
   "id": "0d22903a-5eb6-48f7-85f8-9332479f399c",
   "metadata": {},
   "outputs": [],
   "source": [
    "#pip install matplotlib"
   ]
  },
  {
   "cell_type": "code",
   "execution_count": 72,
   "id": "6f15ed81-6f0f-4954-a13f-47ef024e5591",
   "metadata": {},
   "outputs": [],
   "source": [
    "#pip install climetlab"
   ]
  },
  {
   "cell_type": "code",
   "execution_count": 73,
   "id": "56485401-0398-43b4-b133-1495fa7822ad",
   "metadata": {},
   "outputs": [],
   "source": [
    "#pip install climetlab-eumetnet-postprocessing-benchmark"
   ]
  },
  {
   "cell_type": "code",
   "execution_count": 74,
   "id": "dd100e32-7cd9-4c03-964e-974215666ef5",
   "metadata": {},
   "outputs": [],
   "source": [
    "#pip install --upgrade jupyterlab ipywidgets"
   ]
  },
  {
   "cell_type": "code",
   "execution_count": 75,
   "id": "eb45c318-9b99-46c3-9a65-ba6264d18dcd",
   "metadata": {},
   "outputs": [],
   "source": [
    "#pip install requests"
   ]
  },
  {
   "cell_type": "code",
   "execution_count": 76,
   "id": "03f7cbe4-cabc-40ee-854e-d87d510609f0",
   "metadata": {},
   "outputs": [],
   "source": [
    "#pip install tensorrt"
   ]
  },
  {
   "cell_type": "code",
   "execution_count": 77,
   "id": "f691ec5b-724d-46f2-811e-8e3b9b4cc16e",
   "metadata": {},
   "outputs": [],
   "source": [
    "#pip install plotly\n"
   ]
  },
  {
   "cell_type": "code",
   "execution_count": 9,
   "id": "eb70404a-1bf4-4ed7-813b-ce45b805a106",
   "metadata": {},
   "outputs": [],
   "source": [
    "#start"
   ]
  },
  {
   "cell_type": "code",
   "execution_count": 47,
   "id": "584532e8-ac47-49c1-8831-1c853f6e72a6",
   "metadata": {},
   "outputs": [],
   "source": [
    "import requests\n",
    "import pandas as pd\n",
    "import numpy as np\n",
    "import matplotlib.pyplot as plt\n",
    "import tensorflow as tf\n",
    "import joblib  # For saving scaler model\n",
    "import os\n",
    "import pickle\n",
    "import plotly.graph_objects as go\n",
    "import pandas as pd\n",
    "import climetlab as cml\n",
    "\n",
    "from datetime import datetime\n",
    "from tensorflow.keras.models import Sequential\n",
    "from tensorflow.keras.layers import Dense, ConvLSTM2D, Flatten\n",
    "from tensorflow.keras.optimizers import Adam\n",
    "from sklearn.preprocessing import MinMaxScaler\n",
    "from sklearn.metrics import mean_squared_error, mean_absolute_error\n",
    "from tensorflow.keras.models import Sequential\n",
    "from tensorflow.keras.layers import ConvLSTM2D, Flatten, Dense, Dropout, BatchNormalization, Input\n",
    "from tensorflow.keras.optimizers import Adam\n",
    "from tensorflow.keras.optimizers.schedules import ExponentialDecay\n",
    "from tensorflow.keras.regularizers import l2\n",
    "from keras.callbacks import ModelCheckpoint"
   ]
  },
  {
   "cell_type": "code",
   "execution_count": 40,
   "id": "3825d496-e436-498c-9b36-6c3ec0ac7c1e",
   "metadata": {},
   "outputs": [],
   "source": [
    "def fetch_data(start_date = '2018-01-01T00', end_date='2024-01-01T00'):\n",
    "    url_template = (\"https://dataset.api.hub.geosphere.at/v1/timeseries/historical/inca-v1-1h-1km?\"\n",
    "                    \"parameters=RR&parameters=GL&parameters=P0&parameters=T2M&parameters=TD2M&\"\n",
    "                    \"parameters=RH2M&parameters=UU&parameters=VV&start={start_date}%3A00&\"\n",
    "                    \"end={end_date}%3A00&lat_lon=48.333056%2C16.631944&\"\n",
    "                    \"lat_lon=48.115278%2C16.175833&output_format=geojson&\"\n",
    "                    \"filename=INCA_Vienna_timeseries_all_parameters_{start_year}_{end_year}\")\n",
    "    formatted_url = url_template.format(start_date=start_date, end_date=end_date, \n",
    "                                        start_year=start_date[:4], end_year=end_date[:4])\n",
    "    print(formatted_url)\n",
    "    response = requests.get(formatted_url)\n",
    "    if response.status_code == 200:\n",
    "        data = response.json()\n",
    "        print(\"Fetched data successfully\")\n",
    "    else:\n",
    "        print(\"Failed to retrieve data\", response.status_code)\n",
    "\n",
    "    # Processing the data\n",
    "    data_list = []\n",
    "    for feature in data['features']:\n",
    "        location = feature['geometry']['coordinates']\n",
    "        for i, timestamp in enumerate(data['timestamps']):\n",
    "            record = {\n",
    "                'time': pd.to_datetime(timestamp),\n",
    "                'longitude': location[0],\n",
    "                'latitude': location[1],\n",
    "                'RR': feature['properties']['parameters']['RR']['data'][i],\n",
    "                'T2M': feature['properties']['parameters']['T2M']['data'][i],\n",
    "                'RH2M': feature['properties']['parameters']['RH2M']['data'][i],\n",
    "                'TD2M': feature['properties']['parameters']['TD2M']['data'][i],\n",
    "                'GL': feature['properties']['parameters']['GL']['data'][i],\n",
    "                'UU': feature['properties']['parameters']['UU']['data'][i],\n",
    "                'VV': feature['properties']['parameters']['VV']['data'][i],\n",
    "                'P0': feature['properties']['parameters']['P0']['data'][i]\n",
    "            }\n",
    "            data_list.append(record)\n",
    "\n",
    "    original_df = pd.DataFrame(data_list)\n",
    "    return original_df\n"
   ]
  },
  {
   "cell_type": "code",
   "execution_count": 54,
   "id": "c708f75a-330b-4822-8f90-fd281f6862dc",
   "metadata": {},
   "outputs": [],
   "source": [
    "def calculate_rolling_features(df, window_size, feature_name):\n",
    "    if len(df) < window_size:\n",
    "        window_size = len(df)  # Adjust window size to length of the data if data is too short\n",
    "    df[f'{feature_name}_rolling_mean'] = df['T2M'].rolling(window=window_size).mean()\n",
    "    df[f'{feature_name}_rolling_max'] = df['T2M'].rolling(window=window_size).max()\n",
    "    df[f'{feature_name}_rolling_min'] = df['T2M'].rolling(window=window_size).min()\n",
    "    df[f'{feature_name}_rolling_std'] = df['T2M'].rolling(window=window_size).std()\n",
    "\n",
    "def calculate_ewm_features(df, span, feature_name):\n",
    "    df[f'{feature_name}_ewm'] = df['T2M'].ewm(span=span, adjust=False).mean()\n",
    "\n",
    "def handle_na(df):\n",
    "    df.fillna(method='ffill', inplace=True)  # Forward fill first to propagate last valid observation forward\n",
    "    df.fillna(method='bfill', inplace=True)  # Backward fill to ensure no NaNs remain\n",
    "\n",
    "def feature_engineering(df):\n",
    "    df.dropna(inplace=True)  # Drop rows with NaN values first\n",
    "    original_time_index = df['time'].copy()\n",
    "    # Basic date-time features\n",
    "    df['hour'] = df['time'].dt.hour\n",
    "    df['day_of_year'] = df['time'].dt.dayofyear\n",
    "    df['week_of_year'] = df['time'].dt.isocalendar().week\n",
    "    df['day_of_month'] = df['time'].dt.day\n",
    "    df['month'] = df['time'].dt.month\n",
    "    df['year'] = df['time'].dt.year\n",
    "\n",
    "    # Wind and interaction features\n",
    "    df['wind_speed'] = np.sqrt(df['UU']**2 + df['VV']**2)\n",
    "    df['wind_direction'] = np.arctan2(df['VV'], df['UU']) * 180 / np.pi\n",
    "    df['temp_humidity_interaction'] = df['T2M'] * df['RH2M']\n",
    "    df['wind_rain_interaction'] = df['wind_speed'] * df['RR']\n",
    "    df['RR_lag1'] = df['RR'].shift(1)\n",
    "    df['T2M_lag1'] = df['T2M'].shift(1)\n",
    "\n",
    "    # Cyclical time features\n",
    "    df['hour_sin'] = np.sin(2 * np.pi * df['hour']/24)\n",
    "    df['hour_cos'] = np.cos(2 * np.pi * df['hour']/24)\n",
    "    df['month_sin'] = np.sin(2 * np.pi * df['month'] / 12)\n",
    "    df['month_cos'] = np.cos(2 * np.pi * df['month'] / 12)\n",
    "    df['day_sin'] = np.sin(2 * np.pi * df['day_of_year']/365)\n",
    "    df['day_cos'] = np.cos(2 * np.pi * df['day_of_year']/365)\n",
    "\n",
    "    # Rolling and EWMA features\n",
    "    #calculate_rolling_features(df, 6, '6h')  # 24-hour window\n",
    "    #calculate_rolling_features(df, 12, '12h')  # 24-hour window\n",
    "    calculate_rolling_features(df, 24, '24h')  # 24-hour window\n",
    "    #calculate_rolling_features(df, 24*7, '7d')  # 7-day window\n",
    "    calculate_rolling_features(df, 24*365, '365d')  # 7-day window\n",
    "    #calculate_ewm_features(df, 6, '6h')  # EWMA for 24 hours\n",
    "    #calculate_ewm_features(df, 12, '12h')  # EWMA for 24 hours\n",
    "    calculate_ewm_features(df, 24, '24h')  # EWMA for 24 hours\n",
    "    #calculate_ewm_features(df, 24*7, '7d')  # EWMA for 7 days\n",
    "    calculate_ewm_features(df, 24*365, '365d')  # EWMA for 7 days\n",
    "\n",
    "    # Handle NaNs intelligently\n",
    "    handle_na(df)\n",
    "\n",
    "    # Ensure only numeric types are used for modeling\n",
    "    df = df.select_dtypes(include=[np.number])\n",
    "    \n",
    "    return df, original_time_index"
   ]
  },
  {
   "cell_type": "code",
   "execution_count": 55,
   "id": "b78ca322-076a-49b2-bb1e-ed75d37c080f",
   "metadata": {},
   "outputs": [],
   "source": [
    "def get_data_for_convlstm(start_date, end_date):\n",
    "    df, time_index = feature_engineering(fetch_data(start_date, end_date).copy())\n",
    "    return df, time_index"
   ]
  },
  {
   "cell_type": "code",
   "execution_count": 56,
   "id": "33de8ac6-739d-454a-85ef-eefcf61e8cae",
   "metadata": {},
   "outputs": [
    {
     "name": "stdout",
     "output_type": "stream",
     "text": [
      "https://dataset.api.hub.geosphere.at/v1/timeseries/historical/inca-v1-1h-1km?parameters=RR&parameters=GL&parameters=P0&parameters=T2M&parameters=TD2M&parameters=RH2M&parameters=UU&parameters=VV&start=2018-01-01T00%3A00&end=2024-01-01T00%3A00&lat_lon=48.333056%2C16.631944&lat_lon=48.115278%2C16.175833&output_format=geojson&filename=INCA_Vienna_timeseries_all_parameters_2018_2024_0101\n",
      "Fetched data successfully\n"
     ]
    }
   ],
   "source": [
    "preprocessed_df = fetch_data()"
   ]
  },
  {
   "cell_type": "code",
   "execution_count": 57,
   "id": "b9364e51-0e92-4bb4-8c96-2de32b0d8cf9",
   "metadata": {},
   "outputs": [],
   "source": [
    "preprocessed_df_copy = preprocessed_df.copy()"
   ]
  },
  {
   "cell_type": "code",
   "execution_count": 58,
   "id": "20e65929-7e15-4656-9326-0d465ac52526",
   "metadata": {},
   "outputs": [
    {
     "name": "stderr",
     "output_type": "stream",
     "text": [
      "/tmp/ipykernel_24710/935309804.py:13: FutureWarning:\n",
      "\n",
      "DataFrame.fillna with 'method' is deprecated and will raise in a future version. Use obj.ffill() or obj.bfill() instead.\n",
      "\n",
      "/tmp/ipykernel_24710/935309804.py:14: FutureWarning:\n",
      "\n",
      "DataFrame.fillna with 'method' is deprecated and will raise in a future version. Use obj.ffill() or obj.bfill() instead.\n",
      "\n"
     ]
    }
   ],
   "source": [
    "feature_df, time_index  = feature_engineering(preprocessed_df)"
   ]
  },
  {
   "cell_type": "code",
   "execution_count": 59,
   "id": "1bf7490f-f695-437d-95d4-5dd78fa91314",
   "metadata": {},
   "outputs": [],
   "source": [
    "feature_df_copy = feature_df.copy()"
   ]
  },
  {
   "cell_type": "code",
   "execution_count": 60,
   "id": "19329503-b686-4b7a-b214-4379df73eee6",
   "metadata": {},
   "outputs": [
    {
     "data": {
      "text/html": [
       "<div>\n",
       "<style scoped>\n",
       "    .dataframe tbody tr th:only-of-type {\n",
       "        vertical-align: middle;\n",
       "    }\n",
       "\n",
       "    .dataframe tbody tr th {\n",
       "        vertical-align: top;\n",
       "    }\n",
       "\n",
       "    .dataframe thead th {\n",
       "        text-align: right;\n",
       "    }\n",
       "</style>\n",
       "<table border=\"1\" class=\"dataframe\">\n",
       "  <thead>\n",
       "    <tr style=\"text-align: right;\">\n",
       "      <th></th>\n",
       "      <th>longitude</th>\n",
       "      <th>latitude</th>\n",
       "      <th>RR</th>\n",
       "      <th>T2M</th>\n",
       "      <th>RH2M</th>\n",
       "      <th>TD2M</th>\n",
       "      <th>GL</th>\n",
       "      <th>UU</th>\n",
       "      <th>VV</th>\n",
       "      <th>P0</th>\n",
       "      <th>...</th>\n",
       "      <th>24h_rolling_mean</th>\n",
       "      <th>24h_rolling_max</th>\n",
       "      <th>24h_rolling_min</th>\n",
       "      <th>24h_rolling_std</th>\n",
       "      <th>365d_rolling_mean</th>\n",
       "      <th>365d_rolling_max</th>\n",
       "      <th>365d_rolling_min</th>\n",
       "      <th>365d_rolling_std</th>\n",
       "      <th>24h_ewm</th>\n",
       "      <th>365d_ewm</th>\n",
       "    </tr>\n",
       "  </thead>\n",
       "  <tbody>\n",
       "    <tr>\n",
       "      <th>0</th>\n",
       "      <td>16.638773</td>\n",
       "      <td>48.334339</td>\n",
       "      <td>0.000</td>\n",
       "      <td>1.68</td>\n",
       "      <td>94.58</td>\n",
       "      <td>0.91</td>\n",
       "      <td>0.0</td>\n",
       "      <td>-1.08</td>\n",
       "      <td>1.06</td>\n",
       "      <td>101026.92</td>\n",
       "      <td>...</td>\n",
       "      <td>3.458333</td>\n",
       "      <td>7.97</td>\n",
       "      <td>0.40</td>\n",
       "      <td>2.713545</td>\n",
       "      <td>12.067063</td>\n",
       "      <td>34.98</td>\n",
       "      <td>-13.05</td>\n",
       "      <td>9.608740</td>\n",
       "      <td>1.680000</td>\n",
       "      <td>1.680000</td>\n",
       "    </tr>\n",
       "    <tr>\n",
       "      <th>1</th>\n",
       "      <td>16.638773</td>\n",
       "      <td>48.334339</td>\n",
       "      <td>0.000</td>\n",
       "      <td>1.17</td>\n",
       "      <td>96.23</td>\n",
       "      <td>0.64</td>\n",
       "      <td>0.0</td>\n",
       "      <td>-2.09</td>\n",
       "      <td>0.80</td>\n",
       "      <td>100967.53</td>\n",
       "      <td>...</td>\n",
       "      <td>3.458333</td>\n",
       "      <td>7.97</td>\n",
       "      <td>0.40</td>\n",
       "      <td>2.713545</td>\n",
       "      <td>12.067063</td>\n",
       "      <td>34.98</td>\n",
       "      <td>-13.05</td>\n",
       "      <td>9.608740</td>\n",
       "      <td>1.639200</td>\n",
       "      <td>1.679884</td>\n",
       "    </tr>\n",
       "    <tr>\n",
       "      <th>2</th>\n",
       "      <td>16.638773</td>\n",
       "      <td>48.334339</td>\n",
       "      <td>0.000</td>\n",
       "      <td>0.40</td>\n",
       "      <td>99.42</td>\n",
       "      <td>0.32</td>\n",
       "      <td>0.0</td>\n",
       "      <td>0.27</td>\n",
       "      <td>0.29</td>\n",
       "      <td>100957.14</td>\n",
       "      <td>...</td>\n",
       "      <td>3.458333</td>\n",
       "      <td>7.97</td>\n",
       "      <td>0.40</td>\n",
       "      <td>2.713545</td>\n",
       "      <td>12.067063</td>\n",
       "      <td>34.98</td>\n",
       "      <td>-13.05</td>\n",
       "      <td>9.608740</td>\n",
       "      <td>1.540064</td>\n",
       "      <td>1.679591</td>\n",
       "    </tr>\n",
       "    <tr>\n",
       "      <th>3</th>\n",
       "      <td>16.638773</td>\n",
       "      <td>48.334339</td>\n",
       "      <td>0.000</td>\n",
       "      <td>0.51</td>\n",
       "      <td>100.00</td>\n",
       "      <td>0.51</td>\n",
       "      <td>0.0</td>\n",
       "      <td>0.61</td>\n",
       "      <td>0.21</td>\n",
       "      <td>100949.28</td>\n",
       "      <td>...</td>\n",
       "      <td>3.458333</td>\n",
       "      <td>7.97</td>\n",
       "      <td>0.40</td>\n",
       "      <td>2.713545</td>\n",
       "      <td>12.067063</td>\n",
       "      <td>34.98</td>\n",
       "      <td>-13.05</td>\n",
       "      <td>9.608740</td>\n",
       "      <td>1.457659</td>\n",
       "      <td>1.679324</td>\n",
       "    </tr>\n",
       "    <tr>\n",
       "      <th>4</th>\n",
       "      <td>16.638773</td>\n",
       "      <td>48.334339</td>\n",
       "      <td>0.000</td>\n",
       "      <td>0.49</td>\n",
       "      <td>100.00</td>\n",
       "      <td>0.49</td>\n",
       "      <td>0.0</td>\n",
       "      <td>0.76</td>\n",
       "      <td>0.43</td>\n",
       "      <td>100939.71</td>\n",
       "      <td>...</td>\n",
       "      <td>3.458333</td>\n",
       "      <td>7.97</td>\n",
       "      <td>0.40</td>\n",
       "      <td>2.713545</td>\n",
       "      <td>12.067063</td>\n",
       "      <td>34.98</td>\n",
       "      <td>-13.05</td>\n",
       "      <td>9.608740</td>\n",
       "      <td>1.380246</td>\n",
       "      <td>1.679053</td>\n",
       "    </tr>\n",
       "    <tr>\n",
       "      <th>...</th>\n",
       "      <td>...</td>\n",
       "      <td>...</td>\n",
       "      <td>...</td>\n",
       "      <td>...</td>\n",
       "      <td>...</td>\n",
       "      <td>...</td>\n",
       "      <td>...</td>\n",
       "      <td>...</td>\n",
       "      <td>...</td>\n",
       "      <td>...</td>\n",
       "      <td>...</td>\n",
       "      <td>...</td>\n",
       "      <td>...</td>\n",
       "      <td>...</td>\n",
       "      <td>...</td>\n",
       "      <td>...</td>\n",
       "      <td>...</td>\n",
       "      <td>...</td>\n",
       "      <td>...</td>\n",
       "      <td>...</td>\n",
       "      <td>...</td>\n",
       "    </tr>\n",
       "    <tr>\n",
       "      <th>105165</th>\n",
       "      <td>16.181034</td>\n",
       "      <td>48.112373</td>\n",
       "      <td>0.000</td>\n",
       "      <td>2.26</td>\n",
       "      <td>86.19</td>\n",
       "      <td>0.20</td>\n",
       "      <td>0.0</td>\n",
       "      <td>0.19</td>\n",
       "      <td>0.19</td>\n",
       "      <td>100935.99</td>\n",
       "      <td>...</td>\n",
       "      <td>1.450000</td>\n",
       "      <td>3.45</td>\n",
       "      <td>-0.91</td>\n",
       "      <td>1.274571</td>\n",
       "      <td>11.459591</td>\n",
       "      <td>33.79</td>\n",
       "      <td>-10.14</td>\n",
       "      <td>8.366507</td>\n",
       "      <td>2.314958</td>\n",
       "      <td>11.471637</td>\n",
       "    </tr>\n",
       "    <tr>\n",
       "      <th>105166</th>\n",
       "      <td>16.181034</td>\n",
       "      <td>48.112373</td>\n",
       "      <td>0.000</td>\n",
       "      <td>2.51</td>\n",
       "      <td>82.91</td>\n",
       "      <td>-0.09</td>\n",
       "      <td>0.0</td>\n",
       "      <td>1.08</td>\n",
       "      <td>0.49</td>\n",
       "      <td>100932.03</td>\n",
       "      <td>...</td>\n",
       "      <td>1.420417</td>\n",
       "      <td>3.45</td>\n",
       "      <td>-0.91</td>\n",
       "      <td>1.239458</td>\n",
       "      <td>11.459307</td>\n",
       "      <td>33.79</td>\n",
       "      <td>-10.14</td>\n",
       "      <td>8.366769</td>\n",
       "      <td>2.330561</td>\n",
       "      <td>11.469591</td>\n",
       "    </tr>\n",
       "    <tr>\n",
       "      <th>105167</th>\n",
       "      <td>16.181034</td>\n",
       "      <td>48.112373</td>\n",
       "      <td>0.000</td>\n",
       "      <td>1.84</td>\n",
       "      <td>84.37</td>\n",
       "      <td>-0.51</td>\n",
       "      <td>0.0</td>\n",
       "      <td>0.20</td>\n",
       "      <td>0.17</td>\n",
       "      <td>101026.68</td>\n",
       "      <td>...</td>\n",
       "      <td>1.353333</td>\n",
       "      <td>3.12</td>\n",
       "      <td>-0.91</td>\n",
       "      <td>1.166241</td>\n",
       "      <td>11.458772</td>\n",
       "      <td>33.79</td>\n",
       "      <td>-10.14</td>\n",
       "      <td>8.367234</td>\n",
       "      <td>2.291316</td>\n",
       "      <td>11.467392</td>\n",
       "    </tr>\n",
       "    <tr>\n",
       "      <th>105168</th>\n",
       "      <td>16.181034</td>\n",
       "      <td>48.112373</td>\n",
       "      <td>0.000</td>\n",
       "      <td>4.47</td>\n",
       "      <td>78.51</td>\n",
       "      <td>1.07</td>\n",
       "      <td>0.0</td>\n",
       "      <td>4.03</td>\n",
       "      <td>1.66</td>\n",
       "      <td>100941.54</td>\n",
       "      <td>...</td>\n",
       "      <td>1.409583</td>\n",
       "      <td>4.47</td>\n",
       "      <td>-0.91</td>\n",
       "      <td>1.281970</td>\n",
       "      <td>11.458508</td>\n",
       "      <td>33.79</td>\n",
       "      <td>-10.14</td>\n",
       "      <td>8.367418</td>\n",
       "      <td>2.465611</td>\n",
       "      <td>11.465795</td>\n",
       "    </tr>\n",
       "    <tr>\n",
       "      <th>105169</th>\n",
       "      <td>16.181034</td>\n",
       "      <td>48.112373</td>\n",
       "      <td>0.002</td>\n",
       "      <td>4.82</td>\n",
       "      <td>82.31</td>\n",
       "      <td>2.06</td>\n",
       "      <td>0.0</td>\n",
       "      <td>1.68</td>\n",
       "      <td>0.81</td>\n",
       "      <td>101031.94</td>\n",
       "      <td>...</td>\n",
       "      <td>1.500833</td>\n",
       "      <td>4.82</td>\n",
       "      <td>-0.91</td>\n",
       "      <td>1.440727</td>\n",
       "      <td>11.458150</td>\n",
       "      <td>33.79</td>\n",
       "      <td>-10.14</td>\n",
       "      <td>8.367635</td>\n",
       "      <td>2.653962</td>\n",
       "      <td>11.464278</td>\n",
       "    </tr>\n",
       "  </tbody>\n",
       "</table>\n",
       "<p>105110 rows × 38 columns</p>\n",
       "</div>"
      ],
      "text/plain": [
       "        longitude   latitude     RR   T2M    RH2M  TD2M   GL    UU    VV  \\\n",
       "0       16.638773  48.334339  0.000  1.68   94.58  0.91  0.0 -1.08  1.06   \n",
       "1       16.638773  48.334339  0.000  1.17   96.23  0.64  0.0 -2.09  0.80   \n",
       "2       16.638773  48.334339  0.000  0.40   99.42  0.32  0.0  0.27  0.29   \n",
       "3       16.638773  48.334339  0.000  0.51  100.00  0.51  0.0  0.61  0.21   \n",
       "4       16.638773  48.334339  0.000  0.49  100.00  0.49  0.0  0.76  0.43   \n",
       "...           ...        ...    ...   ...     ...   ...  ...   ...   ...   \n",
       "105165  16.181034  48.112373  0.000  2.26   86.19  0.20  0.0  0.19  0.19   \n",
       "105166  16.181034  48.112373  0.000  2.51   82.91 -0.09  0.0  1.08  0.49   \n",
       "105167  16.181034  48.112373  0.000  1.84   84.37 -0.51  0.0  0.20  0.17   \n",
       "105168  16.181034  48.112373  0.000  4.47   78.51  1.07  0.0  4.03  1.66   \n",
       "105169  16.181034  48.112373  0.002  4.82   82.31  2.06  0.0  1.68  0.81   \n",
       "\n",
       "               P0  ...  24h_rolling_mean  24h_rolling_max  24h_rolling_min  \\\n",
       "0       101026.92  ...          3.458333             7.97             0.40   \n",
       "1       100967.53  ...          3.458333             7.97             0.40   \n",
       "2       100957.14  ...          3.458333             7.97             0.40   \n",
       "3       100949.28  ...          3.458333             7.97             0.40   \n",
       "4       100939.71  ...          3.458333             7.97             0.40   \n",
       "...           ...  ...               ...              ...              ...   \n",
       "105165  100935.99  ...          1.450000             3.45            -0.91   \n",
       "105166  100932.03  ...          1.420417             3.45            -0.91   \n",
       "105167  101026.68  ...          1.353333             3.12            -0.91   \n",
       "105168  100941.54  ...          1.409583             4.47            -0.91   \n",
       "105169  101031.94  ...          1.500833             4.82            -0.91   \n",
       "\n",
       "        24h_rolling_std  365d_rolling_mean  365d_rolling_max  \\\n",
       "0              2.713545          12.067063             34.98   \n",
       "1              2.713545          12.067063             34.98   \n",
       "2              2.713545          12.067063             34.98   \n",
       "3              2.713545          12.067063             34.98   \n",
       "4              2.713545          12.067063             34.98   \n",
       "...                 ...                ...               ...   \n",
       "105165         1.274571          11.459591             33.79   \n",
       "105166         1.239458          11.459307             33.79   \n",
       "105167         1.166241          11.458772             33.79   \n",
       "105168         1.281970          11.458508             33.79   \n",
       "105169         1.440727          11.458150             33.79   \n",
       "\n",
       "        365d_rolling_min  365d_rolling_std   24h_ewm   365d_ewm  \n",
       "0                 -13.05          9.608740  1.680000   1.680000  \n",
       "1                 -13.05          9.608740  1.639200   1.679884  \n",
       "2                 -13.05          9.608740  1.540064   1.679591  \n",
       "3                 -13.05          9.608740  1.457659   1.679324  \n",
       "4                 -13.05          9.608740  1.380246   1.679053  \n",
       "...                  ...               ...       ...        ...  \n",
       "105165            -10.14          8.366507  2.314958  11.471637  \n",
       "105166            -10.14          8.366769  2.330561  11.469591  \n",
       "105167            -10.14          8.367234  2.291316  11.467392  \n",
       "105168            -10.14          8.367418  2.465611  11.465795  \n",
       "105169            -10.14          8.367635  2.653962  11.464278  \n",
       "\n",
       "[105110 rows x 38 columns]"
      ]
     },
     "execution_count": 60,
     "metadata": {},
     "output_type": "execute_result"
    }
   ],
   "source": [
    "df = feature_df.copy()\n",
    "df"
   ]
  },
  {
   "cell_type": "code",
   "execution_count": 61,
   "id": "11c7a31d-cd26-41fe-949c-e610e106b082",
   "metadata": {},
   "outputs": [],
   "source": [
    "\n",
    "def create_sequences(input_data, param, sequence_length, feature_count, hours_to_predict, include_target=True):\n",
    "    X, y = [], []\n",
    "    for i in range(len(input_data) - sequence_length - hours_to_predict + 1):  # Adjusted for 24 hours ahead\n",
    "        X.append(input_data.iloc[i:(i + sequence_length)].values)\n",
    "        if include_target:\n",
    "            y.append(input_data.iloc[i + sequence_length:i + sequence_length + hours_to_predict][param].values)  # 24 hours target\n",
    "    if include_target:\n",
    "        return np.array(X), np.array(y)\n",
    "    else:\n",
    "        return np.array(X)  # Return only X if include_target is False\n"
   ]
  },
  {
   "cell_type": "code",
   "execution_count": 62,
   "id": "2409900e-fc5c-41a5-ae49-bcb9525e08c0",
   "metadata": {},
   "outputs": [
    {
     "name": "stdout",
     "output_type": "stream",
     "text": [
      "Number of features: 38\n"
     ]
    }
   ],
   "source": [
    "param = 'T2M'\n",
    "sequence_length = 24\n",
    "feature_count = df.shape[1]\n",
    "hours_to_predict = 6\n",
    "print(\"Number of features:\", feature_count)\n"
   ]
  },
  {
   "cell_type": "code",
   "execution_count": 63,
   "id": "5c16ebb7-6274-4a16-8716-d2485463b8ee",
   "metadata": {},
   "outputs": [],
   "source": [
    "scaler = MinMaxScaler()\n",
    "\n",
    "df_scaled = scaler.fit_transform(df)\n",
    "df_scaled = pd.DataFrame(df_scaled, columns=df.columns)\n",
    "\n",
    "validation_split=0.2\n",
    "train_idx = int(len(df_scaled) * (1 - validation_split))\n",
    "\n",
    "train_df = df_scaled.iloc[:train_idx]\n",
    "test_df = df_scaled.iloc[train_idx:]\n",
    "\n",
    "X_train, y_train = create_sequences(train_df, param, sequence_length, feature_count, hours_to_predict)\n",
    "X_test, y_test = create_sequences(test_df, param, sequence_length, feature_count, hours_to_predict)\n",
    "\n",
    "#X_test = X_test.reshape((X_test.shape[0], sequence_length, 1, 1, X_train.shape[2]))\n",
    "#y_test = y_test\n",
    "\n",
    "# Reshape for ConvLSTM\n",
    "X_train = X_train.reshape((X_train.shape[0], sequence_length, 1, 1, X_train.shape[2]))\n",
    "X_test = X_test.reshape((X_test.shape[0], sequence_length, 1, 1, X_test.shape[2]))\n"
   ]
  },
  {
   "cell_type": "code",
   "execution_count": 64,
   "id": "4560eae7-9b7c-49fe-83d8-13feb6bde721",
   "metadata": {},
   "outputs": [
    {
     "name": "stderr",
     "output_type": "stream",
     "text": [
      "/home/yjess/anaconda3/lib/python3.11/site-packages/keras/src/layers/rnn/rnn.py:204: UserWarning:\n",
      "\n",
      "Do not pass an `input_shape`/`input_dim` argument to a layer. When using Sequential models, prefer using an `Input(shape)` object as the first layer in the model instead.\n",
      "\n"
     ]
    }
   ],
   "source": [
    "model = Sequential([\n",
    "            ConvLSTM2D(filters=64, kernel_size=(1, 1), activation='relu',\n",
    "                       input_shape=(sequence_length, 1, 1, feature_count), return_sequences=True),\n",
    "            ConvLSTM2D(filters=32, kernel_size=(1, 1), activation='relu', return_sequences=False),\n",
    "            Flatten(),\n",
    "            Dense(50, activation='relu'),\n",
    "            Dense(hours_to_predict)\n",
    "        ])\n",
    "optimizer = Adam(learning_rate=0.001, clipvalue=1.0)\n",
    "model.compile(optimizer=optimizer, loss='mse')\n",
    "\n"
   ]
  },
  {
   "cell_type": "code",
   "execution_count": null,
   "id": "c49ff5fe-8f80-45c6-8bdf-f0b88ee1e12e",
   "metadata": {},
   "outputs": [],
   "source": []
  },
  {
   "cell_type": "code",
   "execution_count": 65,
   "id": "208fcd6f-bb70-4939-921b-11c8d28afc3b",
   "metadata": {},
   "outputs": [
    {
     "name": "stdout",
     "output_type": "stream",
     "text": [
      "Epoch 1/2\n"
     ]
    },
    {
     "name": "stderr",
     "output_type": "stream",
     "text": [
      "2024-04-29 19:34:06.231407: W external/local_tsl/tsl/framework/cpu_allocator_impl.cc:83] Allocation of 306647232 exceeds 10% of free system memory.\n"
     ]
    },
    {
     "name": "stdout",
     "output_type": "stream",
     "text": [
      "\u001b[1m2627/2627\u001b[0m \u001b[32m━━━━━━━━━━━━━━━━━━━━\u001b[0m\u001b[37m\u001b[0m \u001b[1m0s\u001b[0m 28ms/step - loss: 0.0090\n",
      "Epoch 1: val_loss improved from inf to 0.00093, saving model to checkpoints/model_epoch_01_val_loss_0.00.weights.h5\n",
      "\u001b[1m2627/2627\u001b[0m \u001b[32m━━━━━━━━━━━━━━━━━━━━\u001b[0m\u001b[37m\u001b[0m \u001b[1m87s\u001b[0m 31ms/step - loss: 0.0090 - val_loss: 9.2865e-04\n",
      "Epoch 2/2\n",
      "\u001b[1m2626/2627\u001b[0m \u001b[32m━━━━━━━━━━━━━━━━━━━\u001b[0m\u001b[37m━\u001b[0m \u001b[1m0s\u001b[0m 26ms/step - loss: 9.6909e-04\n",
      "Epoch 2: val_loss improved from 0.00093 to 0.00076, saving model to checkpoints/model_epoch_02_val_loss_0.00.weights.h5\n",
      "\u001b[1m2627/2627\u001b[0m \u001b[32m━━━━━━━━━━━━━━━━━━━━\u001b[0m\u001b[37m\u001b[0m \u001b[1m72s\u001b[0m 27ms/step - loss: 9.6905e-04 - val_loss: 7.6267e-04\n"
     ]
    },
    {
     "data": {
      "text/plain": [
       "<keras.src.callbacks.history.History at 0x7f3f16111e10>"
      ]
     },
     "execution_count": 65,
     "metadata": {},
     "output_type": "execute_result"
    }
   ],
   "source": [
    "epochs=2\n",
    "batch_size=32\n",
    "\n",
    "checkpoint_path = \"checkpoints/model_epoch_{epoch:02d}_val_loss_{val_loss:.2f}.weights.h5\"\n",
    "checkpoint = ModelCheckpoint(\n",
    "    filepath=checkpoint_path, save_weights_only=True,\n",
    "    monitor='val_loss', mode='min', save_best_only=True, verbose=1\n",
    ")\n",
    "\n",
    "model.fit(X_train, y_train, epochs=epochs, batch_size=batch_size,\n",
    "           validation_data=(X_test, y_test), callbacks=[checkpoint])\n"
   ]
  },
  {
   "cell_type": "code",
   "execution_count": 28,
   "id": "d991b927-8fb7-4d39-acec-a7885ac32675",
   "metadata": {},
   "outputs": [
    {
     "name": "stdout",
     "output_type": "stream",
     "text": [
      "\u001b[1m657/657\u001b[0m \u001b[32m━━━━━━━━━━━━━━━━━━━━\u001b[0m\u001b[37m\u001b[0m \u001b[1m5s\u001b[0m 7ms/step\n",
      "MSE  0.0007118634403096269 RMSE  0.02668076911015923 MAE  0.018556644499533693\n"
     ]
    },
    {
     "data": {
      "image/png": "[encoded data removed]",
      "text/plain": [
       "<Figure size 1500x600 with 2 Axes>"
      ]
     },
     "metadata": {},
     "output_type": "display_data"
    }
   ],
   "source": [
    "\n",
    "y_pred = model.predict(X_test).flatten()\n",
    "y_test = y_test.flatten()  # Ensure y_test is flat if it's not already\n",
    "dummy_array = np.zeros((y_pred.shape[0], feature_count))\n",
    "dummy_array[:, 3] = y_pred.squeeze() \n",
    "test_dummy_array = np.zeros((y_test.shape[0], feature_count))\n",
    "test_dummy_array[:, 3] = y_test.squeeze()  \n",
    "test_y = scaler.inverse_transform(test_dummy_array)[:, 3]\n",
    "predictions_y = scaler.inverse_transform(dummy_array)[:, 3]\n",
    "\n",
    "mse = mean_squared_error(y_test, y_pred)\n",
    "rmse = np.sqrt(mse)\n",
    "mae = mean_absolute_error(y_test, y_pred)\n",
    "print(\"MSE \", mse, \"RMSE \", rmse, \"MAE \", mae)\n",
    "\n",
    "plt.figure(figsize=(15, 6))\n",
    "plt.subplot(1, 2, 1)\n",
    "plt.plot(y_test, label='Actual', linestyle='-')\n",
    "plt.plot(y_pred, label='Predicted', linestyle='--')\n",
    "plt.title('Detailed View of Predictions vs. Actual')\n",
    "plt.xlabel('Time')\n",
    "plt.ylabel('Value')\n",
    "plt.legend()\n",
    "\n",
    "\n",
    "# Scatter plot of the actual vs predicted\n",
    "plt.subplot(1, 2, 2)\n",
    "plt.scatter(y_test, y_pred, alpha=0.6)\n",
    "plt.title('Prediction vs Actual')\n",
    "plt.xlabel('Actual Values')\n",
    "plt.ylabel('Predicted Values')\n",
    "plt.plot([min(y_test), max(y_test)], [min(y_test), max(y_test)], 'r--')  # Ideal predictions line\n",
    "\n",
    "plt.tight_layout()\n",
    "plt.show()"
   ]
  },
  {
   "cell_type": "code",
   "execution_count": null,
   "id": "83a260de-0dba-4256-b97f-bd68e62cf970",
   "metadata": {},
   "outputs": [],
   "source": []
  },
  {
   "cell_type": "code",
   "execution_count": 46,
   "id": "694ecd54-9718-4693-b321-81badd93a877",
   "metadata": {},
   "outputs": [
    {
     "name": "stdout",
     "output_type": "stream",
     "text": [
      "https://dataset.api.hub.geosphere.at/v1/timeseries/historical/inca-v1-1h-1km?parameters=RR&parameters=GL&parameters=P0&parameters=T2M&parameters=TD2M&parameters=RH2M&parameters=UU&parameters=VV&start=2024-04-20T00%3A00&end=2024-04-28T08%3A00&lat_lon=48.333056%2C16.631944&lat_lon=48.115278%2C16.175833&output_format=geojson&filename=INCA_Vienna_timeseries_all_parameters_2024_2024_0101\n",
      "Fetched data successfully\n",
      "\u001b[1m1/1\u001b[0m \u001b[32m━━━━━━━━━━━━━━━━━━━━\u001b[0m\u001b[37m\u001b[0m \u001b[1m0s\u001b[0m 19ms/step\n",
      "https://dataset.api.hub.geosphere.at/v1/timeseries/historical/inca-v1-1h-1km?parameters=RR&parameters=GL&parameters=P0&parameters=T2M&parameters=TD2M&parameters=RH2M&parameters=UU&parameters=VV&start=2024-04-28T08%3A00&end=2024-04-29T00%3A00&lat_lon=48.333056%2C16.631944&lat_lon=48.115278%2C16.175833&output_format=geojson&filename=INCA_Vienna_timeseries_all_parameters_2024_2024_0101\n"
     ]
    },
    {
     "name": "stderr",
     "output_type": "stream",
     "text": [
      "/tmp/ipykernel_24710/421820632.py:13: FutureWarning:\n",
      "\n",
      "DataFrame.fillna with 'method' is deprecated and will raise in a future version. Use obj.ffill() or obj.bfill() instead.\n",
      "\n",
      "/tmp/ipykernel_24710/421820632.py:14: FutureWarning:\n",
      "\n",
      "DataFrame.fillna with 'method' is deprecated and will raise in a future version. Use obj.ffill() or obj.bfill() instead.\n",
      "\n"
     ]
    },
    {
     "name": "stdout",
     "output_type": "stream",
     "text": [
      "Fetched data successfully\n"
     ]
    },
    {
     "name": "stderr",
     "output_type": "stream",
     "text": [
      "/tmp/ipykernel_24710/421820632.py:13: FutureWarning:\n",
      "\n",
      "DataFrame.fillna with 'method' is deprecated and will raise in a future version. Use obj.ffill() or obj.bfill() instead.\n",
      "\n",
      "/tmp/ipykernel_24710/421820632.py:14: FutureWarning:\n",
      "\n",
      "DataFrame.fillna with 'method' is deprecated and will raise in a future version. Use obj.ffill() or obj.bfill() instead.\n",
      "\n"
     ]
    },
    {
     "data": {
      "application/vnd.plotly.v1+json": {
       "config": {
        "plotlyServerURL": "https://plot.ly"
       },
       "data": [
        {
         "line": {
          "color": "blue"
         },
         "mode": "lines",
         "name": "Original T2M",
         "type": "scatter",
         "x": [
          "2024-04-20T00:00:00+00:00",
          "2024-04-20T01:00:00+00:00",
          "2024-04-20T02:00:00+00:00",
          "2024-04-20T03:00:00+00:00",
          "2024-04-20T04:00:00+00:00",
          "2024-04-20T05:00:00+00:00",
          "2024-04-20T06:00:00+00:00",
          "2024-04-20T07:00:00+00:00",
          "2024-04-20T08:00:00+00:00",
          "2024-04-20T09:00:00+00:00",
          "2024-04-20T10:00:00+00:00",
          "2024-04-20T11:00:00+00:00",
          "2024-04-20T13:00:00+00:00",
          "2024-04-20T14:00:00+00:00",
          "2024-04-20T15:00:00+00:00",
          "2024-04-20T16:00:00+00:00",
          "2024-04-20T17:00:00+00:00",
          "2024-04-20T18:00:00+00:00",
          "2024-04-20T19:00:00+00:00",
          "2024-04-20T20:00:00+00:00",
          "2024-04-20T21:00:00+00:00",
          "2024-04-20T22:00:00+00:00",
          "2024-04-20T23:00:00+00:00",
          "2024-04-21T00:00:00+00:00",
          "2024-04-21T01:00:00+00:00",
          "2024-04-21T02:00:00+00:00",
          "2024-04-21T03:00:00+00:00",
          "2024-04-21T04:00:00+00:00",
          "2024-04-21T05:00:00+00:00",
          "2024-04-21T06:00:00+00:00",
          "2024-04-21T07:00:00+00:00",
          "2024-04-21T08:00:00+00:00",
          "2024-04-21T09:00:00+00:00",
          "2024-04-21T10:00:00+00:00",
          "2024-04-21T11:00:00+00:00",
          "2024-04-21T12:00:00+00:00",
          "2024-04-21T13:00:00+00:00",
          "2024-04-21T14:00:00+00:00",
          "2024-04-21T15:00:00+00:00",
          "2024-04-21T16:00:00+00:00",
          "2024-04-21T17:00:00+00:00",
          "2024-04-21T18:00:00+00:00",
          "2024-04-21T19:00:00+00:00",
          "2024-04-21T20:00:00+00:00",
          "2024-04-21T21:00:00+00:00",
          "2024-04-21T22:00:00+00:00",
          "2024-04-21T23:00:00+00:00",
          "2024-04-22T00:00:00+00:00",
          "2024-04-22T01:00:00+00:00",
          "2024-04-22T02:00:00+00:00",
          "2024-04-22T03:00:00+00:00",
          "2024-04-22T04:00:00+00:00",
          "2024-04-22T05:00:00+00:00",
          "2024-04-22T06:00:00+00:00",
          "2024-04-22T07:00:00+00:00",
          "2024-04-22T08:00:00+00:00",
          "2024-04-22T09:00:00+00:00",
          "2024-04-22T10:00:00+00:00",
          "2024-04-22T11:00:00+00:00",
          "2024-04-22T12:00:00+00:00",
          "2024-04-22T13:00:00+00:00",
          "2024-04-22T14:00:00+00:00",
          "2024-04-22T15:00:00+00:00",
          "2024-04-22T16:00:00+00:00",
          "2024-04-22T17:00:00+00:00",
          "2024-04-22T18:00:00+00:00",
          "2024-04-22T19:00:00+00:00",
          "2024-04-22T20:00:00+00:00",
          "2024-04-22T21:00:00+00:00",
          "2024-04-22T22:00:00+00:00",
          "2024-04-22T23:00:00+00:00",
          "2024-04-23T00:00:00+00:00",
          "2024-04-23T01:00:00+00:00",
          "2024-04-23T02:00:00+00:00",
          "2024-04-23T03:00:00+00:00",
          "2024-04-23T04:00:00+00:00",
          "2024-04-23T05:00:00+00:00",
          "2024-04-23T06:00:00+00:00",
          "2024-04-23T07:00:00+00:00",
          "2024-04-23T08:00:00+00:00",
          "2024-04-23T09:00:00+00:00",
          "2024-04-23T10:00:00+00:00",
          "2024-04-23T11:00:00+00:00",
          "2024-04-23T12:00:00+00:00",
          "2024-04-23T13:00:00+00:00",
          "2024-04-23T14:00:00+00:00",
          "2024-04-23T15:00:00+00:00",
          "2024-04-23T16:00:00+00:00",
          "2024-04-23T17:00:00+00:00",
          "2024-04-23T18:00:00+00:00",
          "2024-04-23T19:00:00+00:00",
          "2024-04-23T20:00:00+00:00",
          "2024-04-23T21:00:00+00:00",
          "2024-04-23T22:00:00+00:00",
          "2024-04-23T23:00:00+00:00",
          "2024-04-24T00:00:00+00:00",
          "2024-04-24T01:00:00+00:00",
          "2024-04-24T02:00:00+00:00",
          "2024-04-24T03:00:00+00:00",
          "2024-04-24T04:00:00+00:00",
          "2024-04-24T05:00:00+00:00",
          "2024-04-24T06:00:00+00:00",
          "2024-04-24T07:00:00+00:00",
          "2024-04-24T08:00:00+00:00",
          "2024-04-24T09:00:00+00:00",
          "2024-04-24T10:00:00+00:00",
          "2024-04-24T11:00:00+00:00",
          "2024-04-24T12:00:00+00:00",
          "2024-04-24T13:00:00+00:00",
          "2024-04-24T14:00:00+00:00",
          "2024-04-24T15:00:00+00:00",
          "2024-04-24T16:00:00+00:00",
          "2024-04-24T17:00:00+00:00",
          "2024-04-24T18:00:00+00:00",
          "2024-04-24T19:00:00+00:00",
          "2024-04-24T20:00:00+00:00",
          "2024-04-24T21:00:00+00:00",
          "2024-04-24T22:00:00+00:00",
          "2024-04-24T23:00:00+00:00",
          "2024-04-25T00:00:00+00:00",
          "2024-04-25T01:00:00+00:00",
          "2024-04-25T02:00:00+00:00",
          "2024-04-25T03:00:00+00:00",
          "2024-04-25T04:00:00+00:00",
          "2024-04-25T05:00:00+00:00",
          "2024-04-25T06:00:00+00:00",
          "2024-04-25T07:00:00+00:00",
          "2024-04-25T08:00:00+00:00",
          "2024-04-25T09:00:00+00:00",
          "2024-04-25T10:00:00+00:00",
          "2024-04-25T11:00:00+00:00",
          "2024-04-25T12:00:00+00:00",
          "2024-04-25T13:00:00+00:00",
          "2024-04-25T14:00:00+00:00",
          "2024-04-25T15:00:00+00:00",
          "2024-04-25T16:00:00+00:00",
          "2024-04-25T17:00:00+00:00",
          "2024-04-25T18:00:00+00:00",
          "2024-04-25T19:00:00+00:00",
          "2024-04-25T20:00:00+00:00",
          "2024-04-25T21:00:00+00:00",
          "2024-04-25T22:00:00+00:00",
          "2024-04-25T23:00:00+00:00",
          "2024-04-26T00:00:00+00:00",
          "2024-04-26T01:00:00+00:00",
          "2024-04-26T02:00:00+00:00",
          "2024-04-26T03:00:00+00:00",
          "2024-04-26T04:00:00+00:00",
          "2024-04-26T05:00:00+00:00",
          "2024-04-26T06:00:00+00:00",
          "2024-04-26T07:00:00+00:00",
          "2024-04-26T08:00:00+00:00",
          "2024-04-26T09:00:00+00:00",
          "2024-04-26T10:00:00+00:00",
          "2024-04-26T11:00:00+00:00",
          "2024-04-26T12:00:00+00:00",
          "2024-04-26T13:00:00+00:00",
          "2024-04-26T14:00:00+00:00",
          "2024-04-26T15:00:00+00:00",
          "2024-04-26T16:00:00+00:00",
          "2024-04-26T17:00:00+00:00",
          "2024-04-26T18:00:00+00:00",
          "2024-04-26T19:00:00+00:00",
          "2024-04-26T20:00:00+00:00",
          "2024-04-26T21:00:00+00:00",
          "2024-04-26T22:00:00+00:00",
          "2024-04-26T23:00:00+00:00",
          "2024-04-27T00:00:00+00:00",
          "2024-04-27T01:00:00+00:00",
          "2024-04-27T02:00:00+00:00",
          "2024-04-27T03:00:00+00:00",
          "2024-04-27T04:00:00+00:00",
          "2024-04-27T05:00:00+00:00",
          "2024-04-27T06:00:00+00:00",
          "2024-04-27T07:00:00+00:00",
          "2024-04-27T08:00:00+00:00",
          "2024-04-27T09:00:00+00:00",
          "2024-04-27T10:00:00+00:00",
          "2024-04-27T11:00:00+00:00",
          "2024-04-27T12:00:00+00:00",
          "2024-04-27T13:00:00+00:00",
          "2024-04-27T14:00:00+00:00",
          "2024-04-27T15:00:00+00:00",
          "2024-04-27T16:00:00+00:00",
          "2024-04-27T17:00:00+00:00",
          "2024-04-27T18:00:00+00:00",
          "2024-04-27T19:00:00+00:00",
          "2024-04-27T20:00:00+00:00",
          "2024-04-27T21:00:00+00:00",
          "2024-04-27T22:00:00+00:00",
          "2024-04-27T23:00:00+00:00",
          "2024-04-28T00:00:00+00:00",
          "2024-04-28T01:00:00+00:00",
          "2024-04-28T02:00:00+00:00",
          "2024-04-28T03:00:00+00:00",
          "2024-04-28T05:00:00+00:00",
          "2024-04-28T06:00:00+00:00",
          "2024-04-28T07:00:00+00:00",
          "2024-04-28T08:00:00+00:00",
          "2024-04-20T00:00:00+00:00",
          "2024-04-20T01:00:00+00:00",
          "2024-04-20T02:00:00+00:00",
          "2024-04-20T03:00:00+00:00",
          "2024-04-20T04:00:00+00:00",
          "2024-04-20T05:00:00+00:00",
          "2024-04-20T06:00:00+00:00",
          "2024-04-20T07:00:00+00:00",
          "2024-04-20T08:00:00+00:00",
          "2024-04-20T09:00:00+00:00",
          "2024-04-20T10:00:00+00:00",
          "2024-04-20T11:00:00+00:00",
          "2024-04-20T13:00:00+00:00",
          "2024-04-20T14:00:00+00:00",
          "2024-04-20T15:00:00+00:00",
          "2024-04-20T16:00:00+00:00",
          "2024-04-20T17:00:00+00:00",
          "2024-04-20T18:00:00+00:00",
          "2024-04-20T19:00:00+00:00",
          "2024-04-20T20:00:00+00:00",
          "2024-04-20T21:00:00+00:00",
          "2024-04-20T22:00:00+00:00",
          "2024-04-20T23:00:00+00:00",
          "2024-04-21T00:00:00+00:00",
          "2024-04-21T01:00:00+00:00",
          "2024-04-21T02:00:00+00:00",
          "2024-04-21T03:00:00+00:00",
          "2024-04-21T04:00:00+00:00",
          "2024-04-21T05:00:00+00:00",
          "2024-04-21T06:00:00+00:00",
          "2024-04-21T07:00:00+00:00",
          "2024-04-21T08:00:00+00:00",
          "2024-04-21T09:00:00+00:00",
          "2024-04-21T10:00:00+00:00",
          "2024-04-21T11:00:00+00:00",
          "2024-04-21T12:00:00+00:00",
          "2024-04-21T13:00:00+00:00",
          "2024-04-21T14:00:00+00:00",
          "2024-04-21T15:00:00+00:00",
          "2024-04-21T16:00:00+00:00",
          "2024-04-21T17:00:00+00:00",
          "2024-04-21T18:00:00+00:00",
          "2024-04-21T19:00:00+00:00",
          "2024-04-21T20:00:00+00:00",
          "2024-04-21T21:00:00+00:00",
          "2024-04-21T22:00:00+00:00",
          "2024-04-21T23:00:00+00:00",
          "2024-04-22T00:00:00+00:00",
          "2024-04-22T01:00:00+00:00",
          "2024-04-22T02:00:00+00:00",
          "2024-04-22T03:00:00+00:00",
          "2024-04-22T04:00:00+00:00",
          "2024-04-22T05:00:00+00:00",
          "2024-04-22T06:00:00+00:00",
          "2024-04-22T07:00:00+00:00",
          "2024-04-22T08:00:00+00:00",
          "2024-04-22T09:00:00+00:00",
          "2024-04-22T10:00:00+00:00",
          "2024-04-22T11:00:00+00:00",
          "2024-04-22T12:00:00+00:00",
          "2024-04-22T13:00:00+00:00",
          "2024-04-22T14:00:00+00:00",
          "2024-04-22T15:00:00+00:00",
          "2024-04-22T16:00:00+00:00",
          "2024-04-22T17:00:00+00:00",
          "2024-04-22T18:00:00+00:00",
          "2024-04-22T19:00:00+00:00",
          "2024-04-22T20:00:00+00:00",
          "2024-04-22T21:00:00+00:00",
          "2024-04-22T22:00:00+00:00",
          "2024-04-22T23:00:00+00:00",
          "2024-04-23T00:00:00+00:00",
          "2024-04-23T01:00:00+00:00",
          "2024-04-23T02:00:00+00:00",
          "2024-04-23T03:00:00+00:00",
          "2024-04-23T04:00:00+00:00",
          "2024-04-23T05:00:00+00:00",
          "2024-04-23T06:00:00+00:00",
          "2024-04-23T07:00:00+00:00",
          "2024-04-23T08:00:00+00:00",
          "2024-04-23T09:00:00+00:00",
          "2024-04-23T10:00:00+00:00",
          "2024-04-23T11:00:00+00:00",
          "2024-04-23T12:00:00+00:00",
          "2024-04-23T13:00:00+00:00",
          "2024-04-23T14:00:00+00:00",
          "2024-04-23T15:00:00+00:00",
          "2024-04-23T16:00:00+00:00",
          "2024-04-23T17:00:00+00:00",
          "2024-04-23T18:00:00+00:00",
          "2024-04-23T19:00:00+00:00",
          "2024-04-23T20:00:00+00:00",
          "2024-04-23T21:00:00+00:00",
          "2024-04-23T22:00:00+00:00",
          "2024-04-23T23:00:00+00:00",
          "2024-04-24T00:00:00+00:00",
          "2024-04-24T01:00:00+00:00",
          "2024-04-24T02:00:00+00:00",
          "2024-04-24T03:00:00+00:00",
          "2024-04-24T04:00:00+00:00",
          "2024-04-24T05:00:00+00:00",
          "2024-04-24T06:00:00+00:00",
          "2024-04-24T07:00:00+00:00",
          "2024-04-24T08:00:00+00:00",
          "2024-04-24T09:00:00+00:00",
          "2024-04-24T10:00:00+00:00",
          "2024-04-24T11:00:00+00:00",
          "2024-04-24T12:00:00+00:00",
          "2024-04-24T13:00:00+00:00",
          "2024-04-24T14:00:00+00:00",
          "2024-04-24T15:00:00+00:00",
          "2024-04-24T16:00:00+00:00",
          "2024-04-24T17:00:00+00:00",
          "2024-04-24T18:00:00+00:00",
          "2024-04-24T19:00:00+00:00",
          "2024-04-24T20:00:00+00:00",
          "2024-04-24T21:00:00+00:00",
          "2024-04-24T22:00:00+00:00",
          "2024-04-24T23:00:00+00:00",
          "2024-04-25T00:00:00+00:00",
          "2024-04-25T01:00:00+00:00",
          "2024-04-25T02:00:00+00:00",
          "2024-04-25T03:00:00+00:00",
          "2024-04-25T04:00:00+00:00",
          "2024-04-25T05:00:00+00:00",
          "2024-04-25T06:00:00+00:00",
          "2024-04-25T07:00:00+00:00",
          "2024-04-25T08:00:00+00:00",
          "2024-04-25T09:00:00+00:00",
          "2024-04-25T10:00:00+00:00",
          "2024-04-25T11:00:00+00:00",
          "2024-04-25T12:00:00+00:00",
          "2024-04-25T13:00:00+00:00",
          "2024-04-25T14:00:00+00:00",
          "2024-04-25T15:00:00+00:00",
          "2024-04-25T16:00:00+00:00",
          "2024-04-25T17:00:00+00:00",
          "2024-04-25T18:00:00+00:00",
          "2024-04-25T19:00:00+00:00",
          "2024-04-25T20:00:00+00:00",
          "2024-04-25T21:00:00+00:00",
          "2024-04-25T22:00:00+00:00",
          "2024-04-25T23:00:00+00:00",
          "2024-04-26T00:00:00+00:00",
          "2024-04-26T01:00:00+00:00",
          "2024-04-26T02:00:00+00:00",
          "2024-04-26T03:00:00+00:00",
          "2024-04-26T04:00:00+00:00",
          "2024-04-26T05:00:00+00:00",
          "2024-04-26T06:00:00+00:00",
          "2024-04-26T07:00:00+00:00",
          "2024-04-26T08:00:00+00:00",
          "2024-04-26T09:00:00+00:00",
          "2024-04-26T10:00:00+00:00",
          "2024-04-26T11:00:00+00:00",
          "2024-04-26T12:00:00+00:00",
          "2024-04-26T13:00:00+00:00",
          "2024-04-26T14:00:00+00:00",
          "2024-04-26T15:00:00+00:00",
          "2024-04-26T16:00:00+00:00",
          "2024-04-26T17:00:00+00:00",
          "2024-04-26T18:00:00+00:00",
          "2024-04-26T19:00:00+00:00",
          "2024-04-26T20:00:00+00:00",
          "2024-04-26T21:00:00+00:00",
          "2024-04-26T22:00:00+00:00",
          "2024-04-26T23:00:00+00:00",
          "2024-04-27T00:00:00+00:00",
          "2024-04-27T01:00:00+00:00",
          "2024-04-27T02:00:00+00:00",
          "2024-04-27T03:00:00+00:00",
          "2024-04-27T04:00:00+00:00",
          "2024-04-27T05:00:00+00:00",
          "2024-04-27T06:00:00+00:00",
          "2024-04-27T07:00:00+00:00",
          "2024-04-27T08:00:00+00:00",
          "2024-04-27T09:00:00+00:00",
          "2024-04-27T10:00:00+00:00",
          "2024-04-27T11:00:00+00:00",
          "2024-04-27T12:00:00+00:00",
          "2024-04-27T13:00:00+00:00",
          "2024-04-27T14:00:00+00:00",
          "2024-04-27T15:00:00+00:00",
          "2024-04-27T16:00:00+00:00",
          "2024-04-27T17:00:00+00:00",
          "2024-04-27T18:00:00+00:00",
          "2024-04-27T19:00:00+00:00",
          "2024-04-27T20:00:00+00:00",
          "2024-04-27T21:00:00+00:00",
          "2024-04-27T22:00:00+00:00",
          "2024-04-27T23:00:00+00:00",
          "2024-04-28T00:00:00+00:00",
          "2024-04-28T01:00:00+00:00",
          "2024-04-28T02:00:00+00:00",
          "2024-04-28T03:00:00+00:00",
          "2024-04-28T05:00:00+00:00",
          "2024-04-28T06:00:00+00:00",
          "2024-04-28T07:00:00+00:00",
          "2024-04-28T08:00:00+00:00"
         ],
         "y": [
          6.46,
          6.06,
          6.05,
          6.15,
          5.84,
          5.78,
          6.85,
          7.23,
          8.35,
          9.66,
          9.53,
          6.81,
          7.77,
          7.28,
          6.72,
          7.1,
          6.87,
          6.37,
          5.82,
          5.63,
          5.27,
          4.71,
          3.75,
          3.24,
          2.83,
          2.29,
          1.84,
          1.62,
          2.11,
          3.98,
          5.75,
          6.66,
          7.14,
          7.42,
          8.3,
          8.73,
          9.17,
          8.84,
          8.69,
          7.89,
          6.91,
          5.66,
          5.05,
          4.64,
          4.51,
          4.41,
          4.08,
          4.05,
          4.1,
          4.06,
          4.05,
          4.03,
          4,
          4.55,
          5.59,
          6.27,
          7.24,
          8.24,
          9.02,
          8.75,
          9.3,
          9.67,
          9.59,
          9.53,
          8.52,
          6.41,
          5.26,
          4.49,
          4.1,
          3.68,
          3.62,
          3.43,
          3.19,
          3.23,
          3.12,
          2.52,
          2.64,
          3.11,
          4.3,
          5.51,
          6.5,
          7.1,
          8.35,
          8.99,
          8.96,
          8.97,
          9.13,
          9.19,
          8.72,
          8.05,
          7.6,
          7.43,
          7.33,
          7.15,
          6.91,
          6.66,
          6.6,
          6.2,
          5.96,
          5.82,
          5.7,
          5.84,
          5.87,
          6.03,
          6.16,
          6.11,
          6.44,
          7.17,
          7.75,
          8.04,
          7.98,
          8.14,
          7.6,
          6.93,
          5.96,
          5.37,
          4.87,
          4.76,
          4.85,
          4.77,
          4.42,
          4.15,
          3.74,
          2.93,
          4.47,
          6.33,
          7.81,
          8.88,
          9.14,
          9.97,
          10.93,
          11.85,
          12.06,
          12.65,
          12.35,
          11.56,
          10.23,
          9.33,
          7.32,
          5.53,
          4.1,
          2.8,
          1.24,
          1.16,
          0.42,
          -0.89,
          -0.02,
          -1.37,
          1.53,
          5.83,
          9.1,
          11.06,
          13.07,
          14.04,
          14.79,
          15.73,
          16.12,
          16.75,
          15.93,
          15.72,
          14.79,
          12.67,
          10.6,
          9.25,
          8.22,
          7,
          6.68,
          5.81,
          5.18,
          4.98,
          4.34,
          4.47,
          6.19,
          9.36,
          11.62,
          13.42,
          14.99,
          16.23,
          17.29,
          18.65,
          19.42,
          19.95,
          20.13,
          20.03,
          19.02,
          17.22,
          15.55,
          14.43,
          13.69,
          12.6,
          12.12,
          11.6,
          11.21,
          10.58,
          10.33,
          11.19,
          13.69,
          15.18,
          17.02,
          5.22,
          4.87,
          5.08,
          5.02,
          4.5,
          4.02,
          4.95,
          5.24,
          6.47,
          7.53,
          8.71,
          8.69,
          6.85,
          6.35,
          6.64,
          6.21,
          5.13,
          4.4,
          4.29,
          4.04,
          3.77,
          3.54,
          3.18,
          2.9,
          2.55,
          1.97,
          1.54,
          0.99,
          1.45,
          2.9,
          4.17,
          5.28,
          6.8,
          6.96,
          7.99,
          8.35,
          8.69,
          8.96,
          8.36,
          7.56,
          6.35,
          4.79,
          3.44,
          2.5,
          2.43,
          2.66,
          2.53,
          2.32,
          1.87,
          1.66,
          1.56,
          1.3,
          1.51,
          2.01,
          2.87,
          3.78,
          4.24,
          4.98,
          5.97,
          6.87,
          7.12,
          7.68,
          7.83,
          7.55,
          6.58,
          5.25,
          3.9,
          3.27,
          3.26,
          3.32,
          3.29,
          3.42,
          3.28,
          2.6,
          1.59,
          0.64,
          0.69,
          0.94,
          1.28,
          2.14,
          2.92,
          3.85,
          3.98,
          4.37,
          4.51,
          4.62,
          4.75,
          4.81,
          4.98,
          4.95,
          5.03,
          4.8,
          4.6,
          4.5,
          4.39,
          4.32,
          4.2,
          4.14,
          3.68,
          3.35,
          3.05,
          3.1,
          3.01,
          3.29,
          3.69,
          4,
          5.04,
          5.78,
          6.33,
          6.84,
          6,
          6.44,
          6.02,
          5.66,
          5.18,
          4.66,
          4.57,
          4.58,
          3.92,
          3.61,
          3.5,
          3.72,
          3.57,
          3.19,
          4.38,
          5.08,
          6.16,
          7.56,
          8.24,
          9.16,
          10.08,
          10.18,
          10.78,
          10.71,
          9.61,
          8.01,
          8.3,
          7.1,
          5.09,
          4.14,
          3.6,
          2.99,
          2.43,
          2.18,
          1.76,
          1.51,
          0.66,
          0.53,
          2.13,
          4.6,
          7.32,
          8.9,
          11.15,
          13.27,
          14.45,
          14.63,
          15.09,
          14.8,
          14.54,
          14.28,
          13.54,
          12.01,
          10.07,
          8.09,
          7.75,
          6.85,
          6.47,
          5.3,
          4.45,
          3.84,
          3.15,
          2.67,
          4.14,
          6.86,
          9.59,
          11.28,
          12.64,
          14.58,
          16.4,
          17.69,
          18.63,
          19.09,
          19.21,
          18.87,
          17.87,
          16.32,
          14.92,
          13.71,
          12.42,
          11.33,
          10.17,
          10.02,
          9.47,
          9.18,
          9.13,
          9.2,
          12.44,
          15,
          17.13
         ]
        },
        {
         "line": {
          "color": "red",
          "dash": "dash"
         },
         "mode": "lines+markers",
         "name": "Predicted T2M",
         "type": "scatter",
         "x": [
          "2024-04-28T09:00:00+00:00",
          "2024-04-28T10:00:00+00:00",
          "2024-04-28T11:00:00+00:00",
          "2024-04-28T12:00:00+00:00",
          "2024-04-28T13:00:00+00:00",
          "2024-04-28T14:00:00+00:00"
         ],
         "y": [
          18.161180500984194,
          18.957769786119464,
          19.384418253898623,
          19.583071236610415,
          20.004673157930377,
          19.927256469726565
         ]
        },
        {
         "line": {
          "color": "green"
         },
         "mode": "lines",
         "name": "Actual T2M",
         "type": "scatter",
         "x": [
          "2024-04-28T08:00:00+00:00",
          "2024-04-28T09:00:00+00:00",
          "2024-04-28T10:00:00+00:00",
          "2024-04-28T11:00:00+00:00",
          "2024-04-28T12:00:00+00:00",
          "2024-04-28T13:00:00+00:00",
          "2024-04-28T14:00:00+00:00",
          "2024-04-28T15:00:00+00:00",
          "2024-04-28T16:00:00+00:00",
          "2024-04-28T17:00:00+00:00",
          "2024-04-28T18:00:00+00:00",
          "2024-04-28T19:00:00+00:00",
          "2024-04-28T20:00:00+00:00",
          "2024-04-28T21:00:00+00:00",
          "2024-04-28T22:00:00+00:00",
          "2024-04-28T23:00:00+00:00",
          "2024-04-29T00:00:00+00:00",
          "2024-04-28T08:00:00+00:00",
          "2024-04-28T09:00:00+00:00",
          "2024-04-28T10:00:00+00:00",
          "2024-04-28T11:00:00+00:00",
          "2024-04-28T12:00:00+00:00",
          "2024-04-28T13:00:00+00:00",
          "2024-04-28T14:00:00+00:00",
          "2024-04-28T15:00:00+00:00",
          "2024-04-28T16:00:00+00:00",
          "2024-04-28T17:00:00+00:00",
          "2024-04-28T18:00:00+00:00",
          "2024-04-28T19:00:00+00:00",
          "2024-04-28T20:00:00+00:00",
          "2024-04-28T21:00:00+00:00",
          "2024-04-28T22:00:00+00:00",
          "2024-04-28T23:00:00+00:00",
          "2024-04-29T00:00:00+00:00"
         ],
         "y": [
          17.02,
          18.53,
          19.34,
          20.8,
          21.64,
          22.35,
          22.93,
          22.54,
          22.32,
          20.72,
          19.08,
          17.03,
          15.73,
          14.74,
          13.49,
          12.43,
          10.36,
          17.13,
          19.4,
          20.6,
          21.63,
          22.09,
          22.7,
          22.74,
          22.72,
          21.69,
          20.21,
          17.9,
          15.85,
          14.81,
          13.85,
          12.72,
          12.01,
          11.13
         ]
        }
       ],
       "layout": {
        "autosize": true,
        "hovermode": "x unified",
        "template": {
         "data": {
          "bar": [
           {
            "error_x": {
             "color": "#2a3f5f"
            },
            "error_y": {
             "color": "#2a3f5f"
            },
            "marker": {
             "line": {
              "color": "#E5ECF6",
              "width": 0.5
             },
             "pattern": {
              "fillmode": "overlay",
              "size": 10,
              "solidity": 0.2
             }
            },
            "type": "bar"
           }
          ],
          "barpolar": [
           {
            "marker": {
             "line": {
              "color": "#E5ECF6",
              "width": 0.5
             },
             "pattern": {
              "fillmode": "overlay",
              "size": 10,
              "solidity": 0.2
             }
            },
            "type": "barpolar"
           }
          ],
          "carpet": [
           {
            "aaxis": {
             "endlinecolor": "#2a3f5f",
             "gridcolor": "white",
             "linecolor": "white",
             "minorgridcolor": "white",
             "startlinecolor": "#2a3f5f"
            },
            "baxis": {
             "endlinecolor": "#2a3f5f",
             "gridcolor": "white",
             "linecolor": "white",
             "minorgridcolor": "white",
             "startlinecolor": "#2a3f5f"
            },
            "type": "carpet"
           }
          ],
          "choropleth": [
           {
            "colorbar": {
             "outlinewidth": 0,
             "ticks": ""
            },
            "type": "choropleth"
           }
          ],
          "contour": [
           {
            "colorbar": {
             "outlinewidth": 0,
             "ticks": ""
            },
            "colorscale": [
             [
              0,
              "#0d0887"
             ],
             [
              0.1111111111111111,
              "#46039f"
             ],
             [
              0.2222222222222222,
              "#7201a8"
             ],
             [
              0.3333333333333333,
              "#9c179e"
             ],
             [
              0.4444444444444444,
              "#bd3786"
             ],
             [
              0.5555555555555556,
              "#d8576b"
             ],
             [
              0.6666666666666666,
              "#ed7953"
             ],
             [
              0.7777777777777778,
              "#fb9f3a"
             ],
             [
              0.8888888888888888,
              "#fdca26"
             ],
             [
              1,
              "#f0f921"
             ]
            ],
            "type": "contour"
           }
          ],
          "contourcarpet": [
           {
            "colorbar": {
             "outlinewidth": 0,
             "ticks": ""
            },
            "type": "contourcarpet"
           }
          ],
          "heatmap": [
           {
            "colorbar": {
             "outlinewidth": 0,
             "ticks": ""
            },
            "colorscale": [
             [
              0,
              "#0d0887"
             ],
             [
              0.1111111111111111,
              "#46039f"
             ],
             [
              0.2222222222222222,
              "#7201a8"
             ],
             [
              0.3333333333333333,
              "#9c179e"
             ],
             [
              0.4444444444444444,
              "#bd3786"
             ],
             [
              0.5555555555555556,
              "#d8576b"
             ],
             [
              0.6666666666666666,
              "#ed7953"
             ],
             [
              0.7777777777777778,
              "#fb9f3a"
             ],
             [
              0.8888888888888888,
              "#fdca26"
             ],
             [
              1,
              "#f0f921"
             ]
            ],
            "type": "heatmap"
           }
          ],
          "heatmapgl": [
           {
            "colorbar": {
             "outlinewidth": 0,
             "ticks": ""
            },
            "colorscale": [
             [
              0,
              "#0d0887"
             ],
             [
              0.1111111111111111,
              "#46039f"
             ],
             [
              0.2222222222222222,
              "#7201a8"
             ],
             [
              0.3333333333333333,
              "#9c179e"
             ],
             [
              0.4444444444444444,
              "#bd3786"
             ],
             [
              0.5555555555555556,
              "#d8576b"
             ],
             [
              0.6666666666666666,
              "#ed7953"
             ],
             [
              0.7777777777777778,
              "#fb9f3a"
             ],
             [
              0.8888888888888888,
              "#fdca26"
             ],
             [
              1,
              "#f0f921"
             ]
            ],
            "type": "heatmapgl"
           }
          ],
          "histogram": [
           {
            "marker": {
             "pattern": {
              "fillmode": "overlay",
              "size": 10,
              "solidity": 0.2
             }
            },
            "type": "histogram"
           }
          ],
          "histogram2d": [
           {
            "colorbar": {
             "outlinewidth": 0,
             "ticks": ""
            },
            "colorscale": [
             [
              0,
              "#0d0887"
             ],
             [
              0.1111111111111111,
              "#46039f"
             ],
             [
              0.2222222222222222,
              "#7201a8"
             ],
             [
              0.3333333333333333,
              "#9c179e"
             ],
             [
              0.4444444444444444,
              "#bd3786"
             ],
             [
              0.5555555555555556,
              "#d8576b"
             ],
             [
              0.6666666666666666,
              "#ed7953"
             ],
             [
              0.7777777777777778,
              "#fb9f3a"
             ],
             [
              0.8888888888888888,
              "#fdca26"
             ],
             [
              1,
              "#f0f921"
             ]
            ],
            "type": "histogram2d"
           }
          ],
          "histogram2dcontour": [
           {
            "colorbar": {
             "outlinewidth": 0,
             "ticks": ""
            },
            "colorscale": [
             [
              0,
              "#0d0887"
             ],
             [
              0.1111111111111111,
              "#46039f"
             ],
             [
              0.2222222222222222,
              "#7201a8"
             ],
             [
              0.3333333333333333,
              "#9c179e"
             ],
             [
              0.4444444444444444,
              "#bd3786"
             ],
             [
              0.5555555555555556,
              "#d8576b"
             ],
             [
              0.6666666666666666,
              "#ed7953"
             ],
             [
              0.7777777777777778,
              "#fb9f3a"
             ],
             [
              0.8888888888888888,
              "#fdca26"
             ],
             [
              1,
              "#f0f921"
             ]
            ],
            "type": "histogram2dcontour"
           }
          ],
          "mesh3d": [
           {
            "colorbar": {
             "outlinewidth": 0,
             "ticks": ""
            },
            "type": "mesh3d"
           }
          ],
          "parcoords": [
           {
            "line": {
             "colorbar": {
              "outlinewidth": 0,
              "ticks": ""
             }
            },
            "type": "parcoords"
           }
          ],
          "pie": [
           {
            "automargin": true,
            "type": "pie"
           }
          ],
          "scatter": [
           {
            "fillpattern": {
             "fillmode": "overlay",
             "size": 10,
             "solidity": 0.2
            },
            "type": "scatter"
           }
          ],
          "scatter3d": [
           {
            "line": {
             "colorbar": {
              "outlinewidth": 0,
              "ticks": ""
             }
            },
            "marker": {
             "colorbar": {
              "outlinewidth": 0,
              "ticks": ""
             }
            },
            "type": "scatter3d"
           }
          ],
          "scattercarpet": [
           {
            "marker": {
             "colorbar": {
              "outlinewidth": 0,
              "ticks": ""
             }
            },
            "type": "scattercarpet"
           }
          ],
          "scattergeo": [
           {
            "marker": {
             "colorbar": {
              "outlinewidth": 0,
              "ticks": ""
             }
            },
            "type": "scattergeo"
           }
          ],
          "scattergl": [
           {
            "marker": {
             "colorbar": {
              "outlinewidth": 0,
              "ticks": ""
             }
            },
            "type": "scattergl"
           }
          ],
          "scattermapbox": [
           {
            "marker": {
             "colorbar": {
              "outlinewidth": 0,
              "ticks": ""
             }
            },
            "type": "scattermapbox"
           }
          ],
          "scatterpolar": [
           {
            "marker": {
             "colorbar": {
              "outlinewidth": 0,
              "ticks": ""
             }
            },
            "type": "scatterpolar"
           }
          ],
          "scatterpolargl": [
           {
            "marker": {
             "colorbar": {
              "outlinewidth": 0,
              "ticks": ""
             }
            },
            "type": "scatterpolargl"
           }
          ],
          "scatterternary": [
           {
            "marker": {
             "colorbar": {
              "outlinewidth": 0,
              "ticks": ""
             }
            },
            "type": "scatterternary"
           }
          ],
          "surface": [
           {
            "colorbar": {
             "outlinewidth": 0,
             "ticks": ""
            },
            "colorscale": [
             [
              0,
              "#0d0887"
             ],
             [
              0.1111111111111111,
              "#46039f"
             ],
             [
              0.2222222222222222,
              "#7201a8"
             ],
             [
              0.3333333333333333,
              "#9c179e"
             ],
             [
              0.4444444444444444,
              "#bd3786"
             ],
             [
              0.5555555555555556,
              "#d8576b"
             ],
             [
              0.6666666666666666,
              "#ed7953"
             ],
             [
              0.7777777777777778,
              "#fb9f3a"
             ],
             [
              0.8888888888888888,
              "#fdca26"
             ],
             [
              1,
              "#f0f921"
             ]
            ],
            "type": "surface"
           }
          ],
          "table": [
           {
            "cells": {
             "fill": {
              "color": "#EBF0F8"
             },
             "line": {
              "color": "white"
             }
            },
            "header": {
             "fill": {
              "color": "#C8D4E3"
             },
             "line": {
              "color": "white"
             }
            },
            "type": "table"
           }
          ]
         },
         "layout": {
          "annotationdefaults": {
           "arrowcolor": "#2a3f5f",
           "arrowhead": 0,
           "arrowwidth": 1
          },
          "autotypenumbers": "strict",
          "coloraxis": {
           "colorbar": {
            "outlinewidth": 0,
            "ticks": ""
           }
          },
          "colorscale": {
           "diverging": [
            [
             0,
             "#8e0152"
            ],
            [
             0.1,
             "#c51b7d"
            ],
            [
             0.2,
             "#de77ae"
            ],
            [
             0.3,
             "#f1b6da"
            ],
            [
             0.4,
             "#fde0ef"
            ],
            [
             0.5,
             "#f7f7f7"
            ],
            [
             0.6,
             "#e6f5d0"
            ],
            [
             0.7,
             "#b8e186"
            ],
            [
             0.8,
             "#7fbc41"
            ],
            [
             0.9,
             "#4d9221"
            ],
            [
             1,
             "#276419"
            ]
           ],
           "sequential": [
            [
             0,
             "#0d0887"
            ],
            [
             0.1111111111111111,
             "#46039f"
            ],
            [
             0.2222222222222222,
             "#7201a8"
            ],
            [
             0.3333333333333333,
             "#9c179e"
            ],
            [
             0.4444444444444444,
             "#bd3786"
            ],
            [
             0.5555555555555556,
             "#d8576b"
            ],
            [
             0.6666666666666666,
             "#ed7953"
            ],
            [
             0.7777777777777778,
             "#fb9f3a"
            ],
            [
             0.8888888888888888,
             "#fdca26"
            ],
            [
             1,
             "#f0f921"
            ]
           ],
           "sequentialminus": [
            [
             0,
             "#0d0887"
            ],
            [
             0.1111111111111111,
             "#46039f"
            ],
            [
             0.2222222222222222,
             "#7201a8"
            ],
            [
             0.3333333333333333,
             "#9c179e"
            ],
            [
             0.4444444444444444,
             "#bd3786"
            ],
            [
             0.5555555555555556,
             "#d8576b"
            ],
            [
             0.6666666666666666,
             "#ed7953"
            ],
            [
             0.7777777777777778,
             "#fb9f3a"
            ],
            [
             0.8888888888888888,
             "#fdca26"
            ],
            [
             1,
             "#f0f921"
            ]
           ]
          },
          "colorway": [
           "#636efa",
           "#EF553B",
           "#00cc96",
           "#ab63fa",
           "#FFA15A",
           "#19d3f3",
           "#FF6692",
           "#B6E880",
           "#FF97FF",
           "#FECB52"
          ],
          "font": {
           "color": "#2a3f5f"
          },
          "geo": {
           "bgcolor": "white",
           "lakecolor": "white",
           "landcolor": "#E5ECF6",
           "showlakes": true,
           "showland": true,
           "subunitcolor": "white"
          },
          "hoverlabel": {
           "align": "left"
          },
          "hovermode": "closest",
          "mapbox": {
           "style": "light"
          },
          "paper_bgcolor": "white",
          "plot_bgcolor": "#E5ECF6",
          "polar": {
           "angularaxis": {
            "gridcolor": "white",
            "linecolor": "white",
            "ticks": ""
           },
           "bgcolor": "#E5ECF6",
           "radialaxis": {
            "gridcolor": "white",
            "linecolor": "white",
            "ticks": ""
           }
          },
          "scene": {
           "xaxis": {
            "backgroundcolor": "#E5ECF6",
            "gridcolor": "white",
            "gridwidth": 2,
            "linecolor": "white",
            "showbackground": true,
            "ticks": "",
            "zerolinecolor": "white"
           },
           "yaxis": {
            "backgroundcolor": "#E5ECF6",
            "gridcolor": "white",
            "gridwidth": 2,
            "linecolor": "white",
            "showbackground": true,
            "ticks": "",
            "zerolinecolor": "white"
           },
           "zaxis": {
            "backgroundcolor": "#E5ECF6",
            "gridcolor": "white",
            "gridwidth": 2,
            "linecolor": "white",
            "showbackground": true,
            "ticks": "",
            "zerolinecolor": "white"
           }
          },
          "shapedefaults": {
           "line": {
            "color": "#2a3f5f"
           }
          },
          "ternary": {
           "aaxis": {
            "gridcolor": "white",
            "linecolor": "white",
            "ticks": ""
           },
           "baxis": {
            "gridcolor": "white",
            "linecolor": "white",
            "ticks": ""
           },
           "bgcolor": "#E5ECF6",
           "caxis": {
            "gridcolor": "white",
            "linecolor": "white",
            "ticks": ""
           }
          },
          "title": {
           "x": 0.05
          },
          "xaxis": {
           "automargin": true,
           "gridcolor": "white",
           "linecolor": "white",
           "ticks": "",
           "title": {
            "standoff": 15
           },
           "zerolinecolor": "white",
           "zerolinewidth": 2
          },
          "yaxis": {
           "automargin": true,
           "gridcolor": "white",
           "linecolor": "white",
           "ticks": "",
           "title": {
            "standoff": 15
           },
           "zerolinecolor": "white",
           "zerolinewidth": 2
          }
         }
        },
        "title": {
         "text": "Temperature Predictions vs Actuals"
        },
        "xaxis": {
         "autorange": true,
         "range": [
          "2024-04-20",
          "2024-04-29 02:19:50.1153"
         ],
         "title": {
          "text": "Date"
         },
         "type": "date"
        },
        "yaxis": {
         "autorange": true,
         "range": [
          -2.7199999999999998,
          24.28
         ],
         "title": {
          "text": "Temperature (°C)"
         },
         "type": "linear"
        }
       }
      },
      "image/png": "[encoded data removed]",
      "text/html": [
       "<div>                            <div id=\"68df6565-f2a2-459b-a6b1-7b4134e19da6\" class=\"plotly-graph-div\" style=\"height:525px; width:100%;\"></div>            <script type=\"text/javascript\">                require([\"plotly\"], function(Plotly) {                    window.PLOTLYENV=window.PLOTLYENV || {};                                    if (document.getElementById(\"68df6565-f2a2-459b-a6b1-7b4134e19da6\")) {                    Plotly.newPlot(                        \"68df6565-f2a2-459b-a6b1-7b4134e19da6\",                        [{\"line\":{\"color\":\"blue\"},\"mode\":\"lines\",\"name\":\"Original T2M\",\"x\":[\"2024-04-20T00:00:00+00:00\",\"2024-04-20T01:00:00+00:00\",\"2024-04-20T02:00:00+00:00\",\"2024-04-20T03:00:00+00:00\",\"2024-04-20T04:00:00+00:00\",\"2024-04-20T05:00:00+00:00\",\"2024-04-20T06:00:00+00:00\",\"2024-04-20T07:00:00+00:00\",\"2024-04-20T08:00:00+00:00\",\"2024-04-20T09:00:00+00:00\",\"2024-04-20T10:00:00+00:00\",\"2024-04-20T11:00:00+00:00\",\"2024-04-20T13:00:00+00:00\",\"2024-04-20T14:00:00+00:00\",\"2024-04-20T15:00:00+00:00\",\"2024-04-20T16:00:00+00:00\",\"2024-04-20T17:00:00+00:00\",\"2024-04-20T18:00:00+00:00\",\"2024-04-20T19:00:00+00:00\",\"2024-04-20T20:00:00+00:00\",\"2024-04-20T21:00:00+00:00\",\"2024-04-20T22:00:00+00:00\",\"2024-04-20T23:00:00+00:00\",\"2024-04-21T00:00:00+00:00\",\"2024-04-21T01:00:00+00:00\",\"2024-04-21T02:00:00+00:00\",\"2024-04-21T03:00:00+00:00\",\"2024-04-21T04:00:00+00:00\",\"2024-04-21T05:00:00+00:00\",\"2024-04-21T06:00:00+00:00\",\"2024-04-21T07:00:00+00:00\",\"2024-04-21T08:00:00+00:00\",\"2024-04-21T09:00:00+00:00\",\"2024-04-21T10:00:00+00:00\",\"2024-04-21T11:00:00+00:00\",\"2024-04-21T12:00:00+00:00\",\"2024-04-21T13:00:00+00:00\",\"2024-04-21T14:00:00+00:00\",\"2024-04-21T15:00:00+00:00\",\"2024-04-21T16:00:00+00:00\",\"2024-04-21T17:00:00+00:00\",\"2024-04-21T18:00:00+00:00\",\"2024-04-21T19:00:00+00:00\",\"2024-04-21T20:00:00+00:00\",\"2024-04-21T21:00:00+00:00\",\"2024-04-21T22:00:00+00:00\",\"2024-04-21T23:00:00+00:00\",\"2024-04-22T00:00:00+00:00\",\"2024-04-22T01:00:00+00:00\",\"2024-04-22T02:00:00+00:00\",\"2024-04-22T03:00:00+00:00\",\"2024-04-22T04:00:00+00:00\",\"2024-04-22T05:00:00+00:00\",\"2024-04-22T06:00:00+00:00\",\"2024-04-22T07:00:00+00:00\",\"2024-04-22T08:00:00+00:00\",\"2024-04-22T09:00:00+00:00\",\"2024-04-22T10:00:00+00:00\",\"2024-04-22T11:00:00+00:00\",\"2024-04-22T12:00:00+00:00\",\"2024-04-22T13:00:00+00:00\",\"2024-04-22T14:00:00+00:00\",\"2024-04-22T15:00:00+00:00\",\"2024-04-22T16:00:00+00:00\",\"2024-04-22T17:00:00+00:00\",\"2024-04-22T18:00:00+00:00\",\"2024-04-22T19:00:00+00:00\",\"2024-04-22T20:00:00+00:00\",\"2024-04-22T21:00:00+00:00\",\"2024-04-22T22:00:00+00:00\",\"2024-04-22T23:00:00+00:00\",\"2024-04-23T00:00:00+00:00\",\"2024-04-23T01:00:00+00:00\",\"2024-04-23T02:00:00+00:00\",\"2024-04-23T03:00:00+00:00\",\"2024-04-23T04:00:00+00:00\",\"2024-04-23T05:00:00+00:00\",\"2024-04-23T06:00:00+00:00\",\"2024-04-23T07:00:00+00:00\",\"2024-04-23T08:00:00+00:00\",\"2024-04-23T09:00:00+00:00\",\"2024-04-23T10:00:00+00:00\",\"2024-04-23T11:00:00+00:00\",\"2024-04-23T12:00:00+00:00\",\"2024-04-23T13:00:00+00:00\",\"2024-04-23T14:00:00+00:00\",\"2024-04-23T15:00:00+00:00\",\"2024-04-23T16:00:00+00:00\",\"2024-04-23T17:00:00+00:00\",\"2024-04-23T18:00:00+00:00\",\"2024-04-23T19:00:00+00:00\",\"2024-04-23T20:00:00+00:00\",\"2024-04-23T21:00:00+00:00\",\"2024-04-23T22:00:00+00:00\",\"2024-04-23T23:00:00+00:00\",\"2024-04-24T00:00:00+00:00\",\"2024-04-24T01:00:00+00:00\",\"2024-04-24T02:00:00+00:00\",\"2024-04-24T03:00:00+00:00\",\"2024-04-24T04:00:00+00:00\",\"2024-04-24T05:00:00+00:00\",\"2024-04-24T06:00:00+00:00\",\"2024-04-24T07:00:00+00:00\",\"2024-04-24T08:00:00+00:00\",\"2024-04-24T09:00:00+00:00\",\"2024-04-24T10:00:00+00:00\",\"2024-04-24T11:00:00+00:00\",\"2024-04-24T12:00:00+00:00\",\"2024-04-24T13:00:00+00:00\",\"2024-04-24T14:00:00+00:00\",\"2024-04-24T15:00:00+00:00\",\"2024-04-24T16:00:00+00:00\",\"2024-04-24T17:00:00+00:00\",\"2024-04-24T18:00:00+00:00\",\"2024-04-24T19:00:00+00:00\",\"2024-04-24T20:00:00+00:00\",\"2024-04-24T21:00:00+00:00\",\"2024-04-24T22:00:00+00:00\",\"2024-04-24T23:00:00+00:00\",\"2024-04-25T00:00:00+00:00\",\"2024-04-25T01:00:00+00:00\",\"2024-04-25T02:00:00+00:00\",\"2024-04-25T03:00:00+00:00\",\"2024-04-25T04:00:00+00:00\",\"2024-04-25T05:00:00+00:00\",\"2024-04-25T06:00:00+00:00\",\"2024-04-25T07:00:00+00:00\",\"2024-04-25T08:00:00+00:00\",\"2024-04-25T09:00:00+00:00\",\"2024-04-25T10:00:00+00:00\",\"2024-04-25T11:00:00+00:00\",\"2024-04-25T12:00:00+00:00\",\"2024-04-25T13:00:00+00:00\",\"2024-04-25T14:00:00+00:00\",\"2024-04-25T15:00:00+00:00\",\"2024-04-25T16:00:00+00:00\",\"2024-04-25T17:00:00+00:00\",\"2024-04-25T18:00:00+00:00\",\"2024-04-25T19:00:00+00:00\",\"2024-04-25T20:00:00+00:00\",\"2024-04-25T21:00:00+00:00\",\"2024-04-25T22:00:00+00:00\",\"2024-04-25T23:00:00+00:00\",\"2024-04-26T00:00:00+00:00\",\"2024-04-26T01:00:00+00:00\",\"2024-04-26T02:00:00+00:00\",\"2024-04-26T03:00:00+00:00\",\"2024-04-26T04:00:00+00:00\",\"2024-04-26T05:00:00+00:00\",\"2024-04-26T06:00:00+00:00\",\"2024-04-26T07:00:00+00:00\",\"2024-04-26T08:00:00+00:00\",\"2024-04-26T09:00:00+00:00\",\"2024-04-26T10:00:00+00:00\",\"2024-04-26T11:00:00+00:00\",\"2024-04-26T12:00:00+00:00\",\"2024-04-26T13:00:00+00:00\",\"2024-04-26T14:00:00+00:00\",\"2024-04-26T15:00:00+00:00\",\"2024-04-26T16:00:00+00:00\",\"2024-04-26T17:00:00+00:00\",\"2024-04-26T18:00:00+00:00\",\"2024-04-26T19:00:00+00:00\",\"2024-04-26T20:00:00+00:00\",\"2024-04-26T21:00:00+00:00\",\"2024-04-26T22:00:00+00:00\",\"2024-04-26T23:00:00+00:00\",\"2024-04-27T00:00:00+00:00\",\"2024-04-27T01:00:00+00:00\",\"2024-04-27T02:00:00+00:00\",\"2024-04-27T03:00:00+00:00\",\"2024-04-27T04:00:00+00:00\",\"2024-04-27T05:00:00+00:00\",\"2024-04-27T06:00:00+00:00\",\"2024-04-27T07:00:00+00:00\",\"2024-04-27T08:00:00+00:00\",\"2024-04-27T09:00:00+00:00\",\"2024-04-27T10:00:00+00:00\",\"2024-04-27T11:00:00+00:00\",\"2024-04-27T12:00:00+00:00\",\"2024-04-27T13:00:00+00:00\",\"2024-04-27T14:00:00+00:00\",\"2024-04-27T15:00:00+00:00\",\"2024-04-27T16:00:00+00:00\",\"2024-04-27T17:00:00+00:00\",\"2024-04-27T18:00:00+00:00\",\"2024-04-27T19:00:00+00:00\",\"2024-04-27T20:00:00+00:00\",\"2024-04-27T21:00:00+00:00\",\"2024-04-27T22:00:00+00:00\",\"2024-04-27T23:00:00+00:00\",\"2024-04-28T00:00:00+00:00\",\"2024-04-28T01:00:00+00:00\",\"2024-04-28T02:00:00+00:00\",\"2024-04-28T03:00:00+00:00\",\"2024-04-28T05:00:00+00:00\",\"2024-04-28T06:00:00+00:00\",\"2024-04-28T07:00:00+00:00\",\"2024-04-28T08:00:00+00:00\",\"2024-04-20T00:00:00+00:00\",\"2024-04-20T01:00:00+00:00\",\"2024-04-20T02:00:00+00:00\",\"2024-04-20T03:00:00+00:00\",\"2024-04-20T04:00:00+00:00\",\"2024-04-20T05:00:00+00:00\",\"2024-04-20T06:00:00+00:00\",\"2024-04-20T07:00:00+00:00\",\"2024-04-20T08:00:00+00:00\",\"2024-04-20T09:00:00+00:00\",\"2024-04-20T10:00:00+00:00\",\"2024-04-20T11:00:00+00:00\",\"2024-04-20T13:00:00+00:00\",\"2024-04-20T14:00:00+00:00\",\"2024-04-20T15:00:00+00:00\",\"2024-04-20T16:00:00+00:00\",\"2024-04-20T17:00:00+00:00\",\"2024-04-20T18:00:00+00:00\",\"2024-04-20T19:00:00+00:00\",\"2024-04-20T20:00:00+00:00\",\"2024-04-20T21:00:00+00:00\",\"2024-04-20T22:00:00+00:00\",\"2024-04-20T23:00:00+00:00\",\"2024-04-21T00:00:00+00:00\",\"2024-04-21T01:00:00+00:00\",\"2024-04-21T02:00:00+00:00\",\"2024-04-21T03:00:00+00:00\",\"2024-04-21T04:00:00+00:00\",\"2024-04-21T05:00:00+00:00\",\"2024-04-21T06:00:00+00:00\",\"2024-04-21T07:00:00+00:00\",\"2024-04-21T08:00:00+00:00\",\"2024-04-21T09:00:00+00:00\",\"2024-04-21T10:00:00+00:00\",\"2024-04-21T11:00:00+00:00\",\"2024-04-21T12:00:00+00:00\",\"2024-04-21T13:00:00+00:00\",\"2024-04-21T14:00:00+00:00\",\"2024-04-21T15:00:00+00:00\",\"2024-04-21T16:00:00+00:00\",\"2024-04-21T17:00:00+00:00\",\"2024-04-21T18:00:00+00:00\",\"2024-04-21T19:00:00+00:00\",\"2024-04-21T20:00:00+00:00\",\"2024-04-21T21:00:00+00:00\",\"2024-04-21T22:00:00+00:00\",\"2024-04-21T23:00:00+00:00\",\"2024-04-22T00:00:00+00:00\",\"2024-04-22T01:00:00+00:00\",\"2024-04-22T02:00:00+00:00\",\"2024-04-22T03:00:00+00:00\",\"2024-04-22T04:00:00+00:00\",\"2024-04-22T05:00:00+00:00\",\"2024-04-22T06:00:00+00:00\",\"2024-04-22T07:00:00+00:00\",\"2024-04-22T08:00:00+00:00\",\"2024-04-22T09:00:00+00:00\",\"2024-04-22T10:00:00+00:00\",\"2024-04-22T11:00:00+00:00\",\"2024-04-22T12:00:00+00:00\",\"2024-04-22T13:00:00+00:00\",\"2024-04-22T14:00:00+00:00\",\"2024-04-22T15:00:00+00:00\",\"2024-04-22T16:00:00+00:00\",\"2024-04-22T17:00:00+00:00\",\"2024-04-22T18:00:00+00:00\",\"2024-04-22T19:00:00+00:00\",\"2024-04-22T20:00:00+00:00\",\"2024-04-22T21:00:00+00:00\",\"2024-04-22T22:00:00+00:00\",\"2024-04-22T23:00:00+00:00\",\"2024-04-23T00:00:00+00:00\",\"2024-04-23T01:00:00+00:00\",\"2024-04-23T02:00:00+00:00\",\"2024-04-23T03:00:00+00:00\",\"2024-04-23T04:00:00+00:00\",\"2024-04-23T05:00:00+00:00\",\"2024-04-23T06:00:00+00:00\",\"2024-04-23T07:00:00+00:00\",\"2024-04-23T08:00:00+00:00\",\"2024-04-23T09:00:00+00:00\",\"2024-04-23T10:00:00+00:00\",\"2024-04-23T11:00:00+00:00\",\"2024-04-23T12:00:00+00:00\",\"2024-04-23T13:00:00+00:00\",\"2024-04-23T14:00:00+00:00\",\"2024-04-23T15:00:00+00:00\",\"2024-04-23T16:00:00+00:00\",\"2024-04-23T17:00:00+00:00\",\"2024-04-23T18:00:00+00:00\",\"2024-04-23T19:00:00+00:00\",\"2024-04-23T20:00:00+00:00\",\"2024-04-23T21:00:00+00:00\",\"2024-04-23T22:00:00+00:00\",\"2024-04-23T23:00:00+00:00\",\"2024-04-24T00:00:00+00:00\",\"2024-04-24T01:00:00+00:00\",\"2024-04-24T02:00:00+00:00\",\"2024-04-24T03:00:00+00:00\",\"2024-04-24T04:00:00+00:00\",\"2024-04-24T05:00:00+00:00\",\"2024-04-24T06:00:00+00:00\",\"2024-04-24T07:00:00+00:00\",\"2024-04-24T08:00:00+00:00\",\"2024-04-24T09:00:00+00:00\",\"2024-04-24T10:00:00+00:00\",\"2024-04-24T11:00:00+00:00\",\"2024-04-24T12:00:00+00:00\",\"2024-04-24T13:00:00+00:00\",\"2024-04-24T14:00:00+00:00\",\"2024-04-24T15:00:00+00:00\",\"2024-04-24T16:00:00+00:00\",\"2024-04-24T17:00:00+00:00\",\"2024-04-24T18:00:00+00:00\",\"2024-04-24T19:00:00+00:00\",\"2024-04-24T20:00:00+00:00\",\"2024-04-24T21:00:00+00:00\",\"2024-04-24T22:00:00+00:00\",\"2024-04-24T23:00:00+00:00\",\"2024-04-25T00:00:00+00:00\",\"2024-04-25T01:00:00+00:00\",\"2024-04-25T02:00:00+00:00\",\"2024-04-25T03:00:00+00:00\",\"2024-04-25T04:00:00+00:00\",\"2024-04-25T05:00:00+00:00\",\"2024-04-25T06:00:00+00:00\",\"2024-04-25T07:00:00+00:00\",\"2024-04-25T08:00:00+00:00\",\"2024-04-25T09:00:00+00:00\",\"2024-04-25T10:00:00+00:00\",\"2024-04-25T11:00:00+00:00\",\"2024-04-25T12:00:00+00:00\",\"2024-04-25T13:00:00+00:00\",\"2024-04-25T14:00:00+00:00\",\"2024-04-25T15:00:00+00:00\",\"2024-04-25T16:00:00+00:00\",\"2024-04-25T17:00:00+00:00\",\"2024-04-25T18:00:00+00:00\",\"2024-04-25T19:00:00+00:00\",\"2024-04-25T20:00:00+00:00\",\"2024-04-25T21:00:00+00:00\",\"2024-04-25T22:00:00+00:00\",\"2024-04-25T23:00:00+00:00\",\"2024-04-26T00:00:00+00:00\",\"2024-04-26T01:00:00+00:00\",\"2024-04-26T02:00:00+00:00\",\"2024-04-26T03:00:00+00:00\",\"2024-04-26T04:00:00+00:00\",\"2024-04-26T05:00:00+00:00\",\"2024-04-26T06:00:00+00:00\",\"2024-04-26T07:00:00+00:00\",\"2024-04-26T08:00:00+00:00\",\"2024-04-26T09:00:00+00:00\",\"2024-04-26T10:00:00+00:00\",\"2024-04-26T11:00:00+00:00\",\"2024-04-26T12:00:00+00:00\",\"2024-04-26T13:00:00+00:00\",\"2024-04-26T14:00:00+00:00\",\"2024-04-26T15:00:00+00:00\",\"2024-04-26T16:00:00+00:00\",\"2024-04-26T17:00:00+00:00\",\"2024-04-26T18:00:00+00:00\",\"2024-04-26T19:00:00+00:00\",\"2024-04-26T20:00:00+00:00\",\"2024-04-26T21:00:00+00:00\",\"2024-04-26T22:00:00+00:00\",\"2024-04-26T23:00:00+00:00\",\"2024-04-27T00:00:00+00:00\",\"2024-04-27T01:00:00+00:00\",\"2024-04-27T02:00:00+00:00\",\"2024-04-27T03:00:00+00:00\",\"2024-04-27T04:00:00+00:00\",\"2024-04-27T05:00:00+00:00\",\"2024-04-27T06:00:00+00:00\",\"2024-04-27T07:00:00+00:00\",\"2024-04-27T08:00:00+00:00\",\"2024-04-27T09:00:00+00:00\",\"2024-04-27T10:00:00+00:00\",\"2024-04-27T11:00:00+00:00\",\"2024-04-27T12:00:00+00:00\",\"2024-04-27T13:00:00+00:00\",\"2024-04-27T14:00:00+00:00\",\"2024-04-27T15:00:00+00:00\",\"2024-04-27T16:00:00+00:00\",\"2024-04-27T17:00:00+00:00\",\"2024-04-27T18:00:00+00:00\",\"2024-04-27T19:00:00+00:00\",\"2024-04-27T20:00:00+00:00\",\"2024-04-27T21:00:00+00:00\",\"2024-04-27T22:00:00+00:00\",\"2024-04-27T23:00:00+00:00\",\"2024-04-28T00:00:00+00:00\",\"2024-04-28T01:00:00+00:00\",\"2024-04-28T02:00:00+00:00\",\"2024-04-28T03:00:00+00:00\",\"2024-04-28T05:00:00+00:00\",\"2024-04-28T06:00:00+00:00\",\"2024-04-28T07:00:00+00:00\",\"2024-04-28T08:00:00+00:00\"],\"y\":[6.46,6.06,6.05,6.15,5.84,5.78,6.85,7.23,8.35,9.66,9.53,6.81,7.77,7.28,6.72,7.1,6.87,6.37,5.82,5.63,5.27,4.71,3.75,3.24,2.83,2.29,1.84,1.62,2.11,3.98,5.75,6.66,7.14,7.42,8.3,8.73,9.17,8.84,8.69,7.89,6.91,5.66,5.05,4.64,4.51,4.41,4.08,4.05,4.1,4.06,4.05,4.03,4.0,4.55,5.59,6.27,7.24,8.24,9.02,8.75,9.3,9.67,9.59,9.53,8.52,6.41,5.26,4.49,4.1,3.68,3.62,3.43,3.19,3.23,3.12,2.52,2.64,3.11,4.3,5.51,6.5,7.1,8.35,8.99,8.96,8.97,9.13,9.19,8.72,8.05,7.6,7.43,7.33,7.15,6.91,6.66,6.6,6.2,5.96,5.82,5.7,5.84,5.87,6.03,6.16,6.11,6.44,7.17,7.75,8.04,7.98,8.14,7.6,6.93,5.96,5.37,4.87,4.76,4.85,4.77,4.42,4.15,3.74,2.93,4.47,6.33,7.81,8.88,9.14,9.97,10.93,11.85,12.06,12.65,12.35,11.56,10.23,9.33,7.32,5.53,4.1,2.8,1.24,1.16,0.42,-0.89,-0.02,-1.37,1.53,5.83,9.1,11.06,13.07,14.04,14.79,15.73,16.12,16.75,15.93,15.72,14.79,12.67,10.6,9.25,8.22,7.0,6.68,5.81,5.18,4.98,4.34,4.47,6.19,9.36,11.62,13.42,14.99,16.23,17.29,18.65,19.42,19.95,20.13,20.03,19.02,17.22,15.55,14.43,13.69,12.6,12.12,11.6,11.21,10.58,10.33,11.19,13.69,15.18,17.02,5.22,4.87,5.08,5.02,4.5,4.02,4.95,5.24,6.47,7.53,8.71,8.69,6.85,6.35,6.64,6.21,5.13,4.4,4.29,4.04,3.77,3.54,3.18,2.9,2.55,1.97,1.54,0.99,1.45,2.9,4.17,5.28,6.8,6.96,7.99,8.35,8.69,8.96,8.36,7.56,6.35,4.79,3.44,2.5,2.43,2.66,2.53,2.32,1.87,1.66,1.56,1.3,1.51,2.01,2.87,3.78,4.24,4.98,5.97,6.87,7.12,7.68,7.83,7.55,6.58,5.25,3.9,3.27,3.26,3.32,3.29,3.42,3.28,2.6,1.59,0.64,0.69,0.94,1.28,2.14,2.92,3.85,3.98,4.37,4.51,4.62,4.75,4.81,4.98,4.95,5.03,4.8,4.6,4.5,4.39,4.32,4.2,4.14,3.68,3.35,3.05,3.1,3.01,3.29,3.69,4.0,5.04,5.78,6.33,6.84,6.0,6.44,6.02,5.66,5.18,4.66,4.57,4.58,3.92,3.61,3.5,3.72,3.57,3.19,4.38,5.08,6.16,7.56,8.24,9.16,10.08,10.18,10.78,10.71,9.61,8.01,8.3,7.1,5.09,4.14,3.6,2.99,2.43,2.18,1.76,1.51,0.66,0.53,2.13,4.6,7.32,8.9,11.15,13.27,14.45,14.63,15.09,14.8,14.54,14.28,13.54,12.01,10.07,8.09,7.75,6.85,6.47,5.3,4.45,3.84,3.15,2.67,4.14,6.86,9.59,11.28,12.64,14.58,16.4,17.69,18.63,19.09,19.21,18.87,17.87,16.32,14.92,13.71,12.42,11.33,10.17,10.02,9.47,9.18,9.13,9.2,12.44,15.0,17.13],\"type\":\"scatter\"},{\"line\":{\"color\":\"red\",\"dash\":\"dash\"},\"mode\":\"lines+markers\",\"name\":\"Predicted T2M\",\"x\":[\"2024-04-28T09:00:00+00:00\",\"2024-04-28T10:00:00+00:00\",\"2024-04-28T11:00:00+00:00\",\"2024-04-28T12:00:00+00:00\",\"2024-04-28T13:00:00+00:00\",\"2024-04-28T14:00:00+00:00\"],\"y\":[18.161180500984194,18.957769786119464,19.384418253898623,19.583071236610415,20.004673157930377,19.927256469726565],\"type\":\"scatter\"},{\"line\":{\"color\":\"green\"},\"mode\":\"lines\",\"name\":\"Actual T2M\",\"x\":[\"2024-04-28T08:00:00+00:00\",\"2024-04-28T09:00:00+00:00\",\"2024-04-28T10:00:00+00:00\",\"2024-04-28T11:00:00+00:00\",\"2024-04-28T12:00:00+00:00\",\"2024-04-28T13:00:00+00:00\",\"2024-04-28T14:00:00+00:00\",\"2024-04-28T15:00:00+00:00\",\"2024-04-28T16:00:00+00:00\",\"2024-04-28T17:00:00+00:00\",\"2024-04-28T18:00:00+00:00\",\"2024-04-28T19:00:00+00:00\",\"2024-04-28T20:00:00+00:00\",\"2024-04-28T21:00:00+00:00\",\"2024-04-28T22:00:00+00:00\",\"2024-04-28T23:00:00+00:00\",\"2024-04-29T00:00:00+00:00\",\"2024-04-28T08:00:00+00:00\",\"2024-04-28T09:00:00+00:00\",\"2024-04-28T10:00:00+00:00\",\"2024-04-28T11:00:00+00:00\",\"2024-04-28T12:00:00+00:00\",\"2024-04-28T13:00:00+00:00\",\"2024-04-28T14:00:00+00:00\",\"2024-04-28T15:00:00+00:00\",\"2024-04-28T16:00:00+00:00\",\"2024-04-28T17:00:00+00:00\",\"2024-04-28T18:00:00+00:00\",\"2024-04-28T19:00:00+00:00\",\"2024-04-28T20:00:00+00:00\",\"2024-04-28T21:00:00+00:00\",\"2024-04-28T22:00:00+00:00\",\"2024-04-28T23:00:00+00:00\",\"2024-04-29T00:00:00+00:00\"],\"y\":[17.02,18.53,19.34,20.8,21.64,22.35,22.93,22.54,22.32,20.72,19.08,17.03,15.73,14.74,13.49,12.43,10.36,17.13,19.4,20.6,21.63,22.09,22.7,22.74,22.72,21.69,20.21,17.9,15.85,14.81,13.85,12.72,12.01,11.13],\"type\":\"scatter\"}],                        {\"template\":{\"data\":{\"histogram2dcontour\":[{\"type\":\"histogram2dcontour\",\"colorbar\":{\"outlinewidth\":0,\"ticks\":\"\"},\"colorscale\":[[0.0,\"#0d0887\"],[0.1111111111111111,\"#46039f\"],[0.2222222222222222,\"#7201a8\"],[0.3333333333333333,\"#9c179e\"],[0.4444444444444444,\"#bd3786\"],[0.5555555555555556,\"#d8576b\"],[0.6666666666666666,\"#ed7953\"],[0.7777777777777778,\"#fb9f3a\"],[0.8888888888888888,\"#fdca26\"],[1.0,\"#f0f921\"]]}],\"choropleth\":[{\"type\":\"choropleth\",\"colorbar\":{\"outlinewidth\":0,\"ticks\":\"\"}}],\"histogram2d\":[{\"type\":\"histogram2d\",\"colorbar\":{\"outlinewidth\":0,\"ticks\":\"\"},\"colorscale\":[[0.0,\"#0d0887\"],[0.1111111111111111,\"#46039f\"],[0.2222222222222222,\"#7201a8\"],[0.3333333333333333,\"#9c179e\"],[0.4444444444444444,\"#bd3786\"],[0.5555555555555556,\"#d8576b\"],[0.6666666666666666,\"#ed7953\"],[0.7777777777777778,\"#fb9f3a\"],[0.8888888888888888,\"#fdca26\"],[1.0,\"#f0f921\"]]}],\"heatmap\":[{\"type\":\"heatmap\",\"colorbar\":{\"outlinewidth\":0,\"ticks\":\"\"},\"colorscale\":[[0.0,\"#0d0887\"],[0.1111111111111111,\"#46039f\"],[0.2222222222222222,\"#7201a8\"],[0.3333333333333333,\"#9c179e\"],[0.4444444444444444,\"#bd3786\"],[0.5555555555555556,\"#d8576b\"],[0.6666666666666666,\"#ed7953\"],[0.7777777777777778,\"#fb9f3a\"],[0.8888888888888888,\"#fdca26\"],[1.0,\"#f0f921\"]]}],\"heatmapgl\":[{\"type\":\"heatmapgl\",\"colorbar\":{\"outlinewidth\":0,\"ticks\":\"\"},\"colorscale\":[[0.0,\"#0d0887\"],[0.1111111111111111,\"#46039f\"],[0.2222222222222222,\"#7201a8\"],[0.3333333333333333,\"#9c179e\"],[0.4444444444444444,\"#bd3786\"],[0.5555555555555556,\"#d8576b\"],[0.6666666666666666,\"#ed7953\"],[0.7777777777777778,\"#fb9f3a\"],[0.8888888888888888,\"#fdca26\"],[1.0,\"#f0f921\"]]}],\"contourcarpet\":[{\"type\":\"contourcarpet\",\"colorbar\":{\"outlinewidth\":0,\"ticks\":\"\"}}],\"contour\":[{\"type\":\"contour\",\"colorbar\":{\"outlinewidth\":0,\"ticks\":\"\"},\"colorscale\":[[0.0,\"#0d0887\"],[0.1111111111111111,\"#46039f\"],[0.2222222222222222,\"#7201a8\"],[0.3333333333333333,\"#9c179e\"],[0.4444444444444444,\"#bd3786\"],[0.5555555555555556,\"#d8576b\"],[0.6666666666666666,\"#ed7953\"],[0.7777777777777778,\"#fb9f3a\"],[0.8888888888888888,\"#fdca26\"],[1.0,\"#f0f921\"]]}],\"surface\":[{\"type\":\"surface\",\"colorbar\":{\"outlinewidth\":0,\"ticks\":\"\"},\"colorscale\":[[0.0,\"#0d0887\"],[0.1111111111111111,\"#46039f\"],[0.2222222222222222,\"#7201a8\"],[0.3333333333333333,\"#9c179e\"],[0.4444444444444444,\"#bd3786\"],[0.5555555555555556,\"#d8576b\"],[0.6666666666666666,\"#ed7953\"],[0.7777777777777778,\"#fb9f3a\"],[0.8888888888888888,\"#fdca26\"],[1.0,\"#f0f921\"]]}],\"mesh3d\":[{\"type\":\"mesh3d\",\"colorbar\":{\"outlinewidth\":0,\"ticks\":\"\"}}],\"scatter\":[{\"fillpattern\":{\"fillmode\":\"overlay\",\"size\":10,\"solidity\":0.2},\"type\":\"scatter\"}],\"parcoords\":[{\"type\":\"parcoords\",\"line\":{\"colorbar\":{\"outlinewidth\":0,\"ticks\":\"\"}}}],\"scatterpolargl\":[{\"type\":\"scatterpolargl\",\"marker\":{\"colorbar\":{\"outlinewidth\":0,\"ticks\":\"\"}}}],\"bar\":[{\"error_x\":{\"color\":\"#2a3f5f\"},\"error_y\":{\"color\":\"#2a3f5f\"},\"marker\":{\"line\":{\"color\":\"#E5ECF6\",\"width\":0.5},\"pattern\":{\"fillmode\":\"overlay\",\"size\":10,\"solidity\":0.2}},\"type\":\"bar\"}],\"scattergeo\":[{\"type\":\"scattergeo\",\"marker\":{\"colorbar\":{\"outlinewidth\":0,\"ticks\":\"\"}}}],\"scatterpolar\":[{\"type\":\"scatterpolar\",\"marker\":{\"colorbar\":{\"outlinewidth\":0,\"ticks\":\"\"}}}],\"histogram\":[{\"marker\":{\"pattern\":{\"fillmode\":\"overlay\",\"size\":10,\"solidity\":0.2}},\"type\":\"histogram\"}],\"scattergl\":[{\"type\":\"scattergl\",\"marker\":{\"colorbar\":{\"outlinewidth\":0,\"ticks\":\"\"}}}],\"scatter3d\":[{\"type\":\"scatter3d\",\"line\":{\"colorbar\":{\"outlinewidth\":0,\"ticks\":\"\"}},\"marker\":{\"colorbar\":{\"outlinewidth\":0,\"ticks\":\"\"}}}],\"scattermapbox\":[{\"type\":\"scattermapbox\",\"marker\":{\"colorbar\":{\"outlinewidth\":0,\"ticks\":\"\"}}}],\"scatterternary\":[{\"type\":\"scatterternary\",\"marker\":{\"colorbar\":{\"outlinewidth\":0,\"ticks\":\"\"}}}],\"scattercarpet\":[{\"type\":\"scattercarpet\",\"marker\":{\"colorbar\":{\"outlinewidth\":0,\"ticks\":\"\"}}}],\"carpet\":[{\"aaxis\":{\"endlinecolor\":\"#2a3f5f\",\"gridcolor\":\"white\",\"linecolor\":\"white\",\"minorgridcolor\":\"white\",\"startlinecolor\":\"#2a3f5f\"},\"baxis\":{\"endlinecolor\":\"#2a3f5f\",\"gridcolor\":\"white\",\"linecolor\":\"white\",\"minorgridcolor\":\"white\",\"startlinecolor\":\"#2a3f5f\"},\"type\":\"carpet\"}],\"table\":[{\"cells\":{\"fill\":{\"color\":\"#EBF0F8\"},\"line\":{\"color\":\"white\"}},\"header\":{\"fill\":{\"color\":\"#C8D4E3\"},\"line\":{\"color\":\"white\"}},\"type\":\"table\"}],\"barpolar\":[{\"marker\":{\"line\":{\"color\":\"#E5ECF6\",\"width\":0.5},\"pattern\":{\"fillmode\":\"overlay\",\"size\":10,\"solidity\":0.2}},\"type\":\"barpolar\"}],\"pie\":[{\"automargin\":true,\"type\":\"pie\"}]},\"layout\":{\"autotypenumbers\":\"strict\",\"colorway\":[\"#636efa\",\"#EF553B\",\"#00cc96\",\"#ab63fa\",\"#FFA15A\",\"#19d3f3\",\"#FF6692\",\"#B6E880\",\"#FF97FF\",\"#FECB52\"],\"font\":{\"color\":\"#2a3f5f\"},\"hovermode\":\"closest\",\"hoverlabel\":{\"align\":\"left\"},\"paper_bgcolor\":\"white\",\"plot_bgcolor\":\"#E5ECF6\",\"polar\":{\"bgcolor\":\"#E5ECF6\",\"angularaxis\":{\"gridcolor\":\"white\",\"linecolor\":\"white\",\"ticks\":\"\"},\"radialaxis\":{\"gridcolor\":\"white\",\"linecolor\":\"white\",\"ticks\":\"\"}},\"ternary\":{\"bgcolor\":\"#E5ECF6\",\"aaxis\":{\"gridcolor\":\"white\",\"linecolor\":\"white\",\"ticks\":\"\"},\"baxis\":{\"gridcolor\":\"white\",\"linecolor\":\"white\",\"ticks\":\"\"},\"caxis\":{\"gridcolor\":\"white\",\"linecolor\":\"white\",\"ticks\":\"\"}},\"coloraxis\":{\"colorbar\":{\"outlinewidth\":0,\"ticks\":\"\"}},\"colorscale\":{\"sequential\":[[0.0,\"#0d0887\"],[0.1111111111111111,\"#46039f\"],[0.2222222222222222,\"#7201a8\"],[0.3333333333333333,\"#9c179e\"],[0.4444444444444444,\"#bd3786\"],[0.5555555555555556,\"#d8576b\"],[0.6666666666666666,\"#ed7953\"],[0.7777777777777778,\"#fb9f3a\"],[0.8888888888888888,\"#fdca26\"],[1.0,\"#f0f921\"]],\"sequentialminus\":[[0.0,\"#0d0887\"],[0.1111111111111111,\"#46039f\"],[0.2222222222222222,\"#7201a8\"],[0.3333333333333333,\"#9c179e\"],[0.4444444444444444,\"#bd3786\"],[0.5555555555555556,\"#d8576b\"],[0.6666666666666666,\"#ed7953\"],[0.7777777777777778,\"#fb9f3a\"],[0.8888888888888888,\"#fdca26\"],[1.0,\"#f0f921\"]],\"diverging\":[[0,\"#8e0152\"],[0.1,\"#c51b7d\"],[0.2,\"#de77ae\"],[0.3,\"#f1b6da\"],[0.4,\"#fde0ef\"],[0.5,\"#f7f7f7\"],[0.6,\"#e6f5d0\"],[0.7,\"#b8e186\"],[0.8,\"#7fbc41\"],[0.9,\"#4d9221\"],[1,\"#276419\"]]},\"xaxis\":{\"gridcolor\":\"white\",\"linecolor\":\"white\",\"ticks\":\"\",\"title\":{\"standoff\":15},\"zerolinecolor\":\"white\",\"automargin\":true,\"zerolinewidth\":2},\"yaxis\":{\"gridcolor\":\"white\",\"linecolor\":\"white\",\"ticks\":\"\",\"title\":{\"standoff\":15},\"zerolinecolor\":\"white\",\"automargin\":true,\"zerolinewidth\":2},\"scene\":{\"xaxis\":{\"backgroundcolor\":\"#E5ECF6\",\"gridcolor\":\"white\",\"linecolor\":\"white\",\"showbackground\":true,\"ticks\":\"\",\"zerolinecolor\":\"white\",\"gridwidth\":2},\"yaxis\":{\"backgroundcolor\":\"#E5ECF6\",\"gridcolor\":\"white\",\"linecolor\":\"white\",\"showbackground\":true,\"ticks\":\"\",\"zerolinecolor\":\"white\",\"gridwidth\":2},\"zaxis\":{\"backgroundcolor\":\"#E5ECF6\",\"gridcolor\":\"white\",\"linecolor\":\"white\",\"showbackground\":true,\"ticks\":\"\",\"zerolinecolor\":\"white\",\"gridwidth\":2}},\"shapedefaults\":{\"line\":{\"color\":\"#2a3f5f\"}},\"annotationdefaults\":{\"arrowcolor\":\"#2a3f5f\",\"arrowhead\":0,\"arrowwidth\":1},\"geo\":{\"bgcolor\":\"white\",\"landcolor\":\"#E5ECF6\",\"subunitcolor\":\"white\",\"showland\":true,\"showlakes\":true,\"lakecolor\":\"white\"},\"title\":{\"x\":0.05},\"mapbox\":{\"style\":\"light\"}}},\"title\":{\"text\":\"Temperature Predictions vs Actuals\"},\"xaxis\":{\"title\":{\"text\":\"Date\"}},\"yaxis\":{\"title\":{\"text\":\"Temperature (\\u00b0C)\"}},\"hovermode\":\"x unified\"},                        {\"responsive\": true}                    ).then(function(){\n",
       "                            \n",
       "var gd = document.getElementById('68df6565-f2a2-459b-a6b1-7b4134e19da6');\n",
       "var x = new MutationObserver(function (mutations, observer) {{\n",
       "        var display = window.getComputedStyle(gd).display;\n",
       "        if (!display || display === 'none') {{\n",
       "            console.log([gd, 'removed!']);\n",
       "            Plotly.purge(gd);\n",
       "            observer.disconnect();\n",
       "        }}\n",
       "}});\n",
       "\n",
       "// Listen for the removal of the full notebook cells\n",
       "var notebookContainer = gd.closest('#notebook-container');\n",
       "if (notebookContainer) {{\n",
       "    x.observe(notebookContainer, {childList: true});\n",
       "}}\n",
       "\n",
       "// Listen for the clearing of the current output cell\n",
       "var outputEl = gd.closest('.output');\n",
       "if (outputEl) {{\n",
       "    x.observe(outputEl, {childList: true});\n",
       "}}\n",
       "\n",
       "                        })                };                });            </script>        </div>"
      ]
     },
     "metadata": {},
     "output_type": "display_data"
    }
   ],
   "source": [
    "# Assuming 'get_data_for_convlstm' is defined elsewhere and properly implemented\n",
    "data_for_prediction, time_index_pre_data = get_data_for_convlstm('2024-04-20T00', '2024-04-28T08')\n",
    "\n",
    "# Ensure scaler is fitted; if it's the first use, fit on some initial data or the current data\n",
    "scaler = MinMaxScaler()\n",
    "scaler.fit(data_for_prediction)  # Fit if not already done; else skip\n",
    "\n",
    "# Transform the data for prediction\n",
    "df_scaled = scaler.transform(data_for_prediction)\n",
    "df_scaled = pd.DataFrame(df_scaled, columns=data_for_prediction.columns)\n",
    "latest_sequence = df_scaled.tail(sequence_length).values.reshape(1, sequence_length, 1, 1, feature_count)\n",
    "future_temperatures = model.predict(latest_sequence)\n",
    "dummy_output_array = np.zeros((hours_to_predict, scaler.n_features_in_))\n",
    "dummy_output_array[:, 3] = future_temperatures.flatten()  # Ensure to flatten if necessary\n",
    "predicted_temps = scaler.inverse_transform(dummy_output_array)[:, 3]\n",
    "\n",
    "# Timestamp handling\n",
    "data_for_prediction.index = time_index_pre_data\n",
    "last_timestamp = data_for_prediction.index[-1]\n",
    "prediction_frequency = 'H'\n",
    "new_timestamps = pd.date_range(start=last_timestamp + pd.Timedelta(hours=1), periods=len(predicted_temps), freq=prediction_frequency)\n",
    "predictions_df = pd.DataFrame(predicted_temps, index=new_timestamps, columns=['Predicted T2M'])\n",
    "\n",
    "# Fetch and set the actual data for comparison\n",
    "data_actual_for_prediction, time_index_actual_data = get_data_for_convlstm('2024-04-28T08', '2024-04-29T00')\n",
    "data_actual_for_prediction.index = time_index_actual_data\n",
    "\n",
    "# Plotting the predictions alongside the actual data\n",
    "fig = go.Figure()\n",
    "fig.add_trace(go.Scatter(x=data_for_prediction.index, y=data_for_prediction['T2M'], mode='lines', name='Original T2M', line=dict(color='blue')))\n",
    "fig.add_trace(go.Scatter(x=predictions_df.index, y=predictions_df['Predicted T2M'], mode='lines+markers', name='Predicted T2M', line=dict(color='red', dash='dash')))\n",
    "fig.add_trace(go.Scatter(x=data_actual_for_prediction.index, y=data_actual_for_prediction['T2M'], mode='lines', name='Actual T2M', line=dict(color='green')))\n",
    "\n",
    "fig.update_layout(\n",
    "    title='Temperature Predictions vs Actuals',\n",
    "    xaxis_title='Date',\n",
    "    yaxis_title='Temperature (°C)',\n",
    "    hovermode=\"x unified\"\n",
    ")\n",
    "\n",
    "fig.show()\n"
   ]
  },
  {
   "cell_type": "code",
   "execution_count": 32,
   "id": "fabbbead-b691-4dcd-84ac-2354c1de8cc8",
   "metadata": {},
   "outputs": [
    {
     "data": {
      "text/plain": [
       "['model_folder20240429_171203/scaler.pkl']"
      ]
     },
     "execution_count": 32,
     "metadata": {},
     "output_type": "execute_result"
    }
   ],
   "source": [
    "formatted_date_time = datetime.now().strftime(\"%Y%m%d_%H%M%S\")\n",
    "model_folder_name = f\"model_folder{formatted_date_time}\"\n",
    "os.makedirs(model_folder_name, exist_ok=True)\n",
    "model.save(os.path.join(model_folder_name, 'model.keras'))\n",
    "joblib.dump(scaler, os.path.join(model_folder_name, 'scaler.pkl'))\n"
   ]
  },
  {
   "cell_type": "code",
   "execution_count": 33,
   "id": "90c4c21b-479e-468f-b421-38f30bb99c6b",
   "metadata": {},
   "outputs": [],
   "source": [
    "loaded_model = tf.keras.models.load_model(os.path.join(model_folder_name, 'model.keras'))\n",
    "loaded_scaler = joblib.load(os.path.join(model_folder_name, 'scaler.pkl'))\n"
   ]
  },
  {
   "cell_type": "code",
   "execution_count": null,
   "id": "8fab5630-8739-4d39-99f9-a55eece3a3af",
   "metadata": {},
   "outputs": [],
   "source": [
    "#end"
   ]
  },
  {
   "cell_type": "code",
   "execution_count": 52,
   "id": "ae6fef75-d994-4a33-85a5-64fc89ee7b39",
   "metadata": {},
   "outputs": [
    {
     "data": {
      "text/html": [
       "<div><svg style=\"position: absolute; width: 0; height: 0; overflow: hidden\">\n",
       "<defs>\n",
       "<symbol id=\"icon-database\" viewBox=\"0 0 32 32\">\n",
       "<path d=\"M16 0c-8.837 0-16 2.239-16 5v4c0 2.761 7.163 5 16 5s16-2.239 16-5v-4c0-2.761-7.163-5-16-5z\"></path>\n",
       "<path d=\"M16 17c-8.837 0-16-2.239-16-5v6c0 2.761 7.163 5 16 5s16-2.239 16-5v-6c0 2.761-7.163 5-16 5z\"></path>\n",
       "<path d=\"M16 26c-8.837 0-16-2.239-16-5v6c0 2.761 7.163 5 16 5s16-2.239 16-5v-6c0 2.761-7.163 5-16 5z\"></path>\n",
       "</symbol>\n",
       "<symbol id=\"icon-file-text2\" viewBox=\"0 0 32 32\">\n",
       "<path d=\"M28.681 7.159c-0.694-0.947-1.662-2.053-2.724-3.116s-2.169-2.030-3.116-2.724c-1.612-1.182-2.393-1.319-2.841-1.319h-15.5c-1.378 0-2.5 1.121-2.5 2.5v27c0 1.378 1.122 2.5 2.5 2.5h23c1.378 0 2.5-1.122 2.5-2.5v-19.5c0-0.448-0.137-1.23-1.319-2.841zM24.543 5.457c0.959 0.959 1.712 1.825 2.268 2.543h-4.811v-4.811c0.718 0.556 1.584 1.309 2.543 2.268zM28 29.5c0 0.271-0.229 0.5-0.5 0.5h-23c-0.271 0-0.5-0.229-0.5-0.5v-27c0-0.271 0.229-0.5 0.5-0.5 0 0 15.499-0 15.5 0v7c0 0.552 0.448 1 1 1h7v19.5z\"></path>\n",
       "<path d=\"M23 26h-14c-0.552 0-1-0.448-1-1s0.448-1 1-1h14c0.552 0 1 0.448 1 1s-0.448 1-1 1z\"></path>\n",
       "<path d=\"M23 22h-14c-0.552 0-1-0.448-1-1s0.448-1 1-1h14c0.552 0 1 0.448 1 1s-0.448 1-1 1z\"></path>\n",
       "<path d=\"M23 18h-14c-0.552 0-1-0.448-1-1s0.448-1 1-1h14c0.552 0 1 0.448 1 1s-0.448 1-1 1z\"></path>\n",
       "</symbol>\n",
       "</defs>\n",
       "</svg>\n",
       "<style>/* CSS stylesheet for displaying xarray objects in jupyterlab.\n",
       " *\n",
       " */\n",
       "\n",
       ":root {\n",
       "  --xr-font-color0: var(--jp-content-font-color0, rgba(0, 0, 0, 1));\n",
       "  --xr-font-color2: var(--jp-content-font-color2, rgba(0, 0, 0, 0.54));\n",
       "  --xr-font-color3: var(--jp-content-font-color3, rgba(0, 0, 0, 0.38));\n",
       "  --xr-border-color: var(--jp-border-color2, #e0e0e0);\n",
       "  --xr-disabled-color: var(--jp-layout-color3, #bdbdbd);\n",
       "  --xr-background-color: var(--jp-layout-color0, white);\n",
       "  --xr-background-color-row-even: var(--jp-layout-color1, white);\n",
       "  --xr-background-color-row-odd: var(--jp-layout-color2, #eeeeee);\n",
       "}\n",
       "\n",
       "html[theme=dark],\n",
       "body[data-theme=dark],\n",
       "body.vscode-dark {\n",
       "  --xr-font-color0: rgba(255, 255, 255, 1);\n",
       "  --xr-font-color2: rgba(255, 255, 255, 0.54);\n",
       "  --xr-font-color3: rgba(255, 255, 255, 0.38);\n",
       "  --xr-border-color: #1F1F1F;\n",
       "  --xr-disabled-color: #515151;\n",
       "  --xr-background-color: #111111;\n",
       "  --xr-background-color-row-even: #111111;\n",
       "  --xr-background-color-row-odd: #313131;\n",
       "}\n",
       "\n",
       ".xr-wrap {\n",
       "  display: block !important;\n",
       "  min-width: 300px;\n",
       "  max-width: 700px;\n",
       "}\n",
       "\n",
       ".xr-text-repr-fallback {\n",
       "  /* fallback to plain text repr when CSS is not injected (untrusted notebook) */\n",
       "  display: none;\n",
       "}\n",
       "\n",
       ".xr-header {\n",
       "  padding-top: 6px;\n",
       "  padding-bottom: 6px;\n",
       "  margin-bottom: 4px;\n",
       "  border-bottom: solid 1px var(--xr-border-color);\n",
       "}\n",
       "\n",
       ".xr-header > div,\n",
       ".xr-header > ul {\n",
       "  display: inline;\n",
       "  margin-top: 0;\n",
       "  margin-bottom: 0;\n",
       "}\n",
       "\n",
       ".xr-obj-type,\n",
       ".xr-array-name {\n",
       "  margin-left: 2px;\n",
       "  margin-right: 10px;\n",
       "}\n",
       "\n",
       ".xr-obj-type {\n",
       "  color: var(--xr-font-color2);\n",
       "}\n",
       "\n",
       ".xr-sections {\n",
       "  padding-left: 0 !important;\n",
       "  display: grid;\n",
       "  grid-template-columns: 150px auto auto 1fr 20px 20px;\n",
       "}\n",
       "\n",
       ".xr-section-item {\n",
       "  display: contents;\n",
       "}\n",
       "\n",
       ".xr-section-item input {\n",
       "  display: none;\n",
       "}\n",
       "\n",
       ".xr-section-item input + label {\n",
       "  color: var(--xr-disabled-color);\n",
       "}\n",
       "\n",
       ".xr-section-item input:enabled + label {\n",
       "  cursor: pointer;\n",
       "  color: var(--xr-font-color2);\n",
       "}\n",
       "\n",
       ".xr-section-item input:enabled + label:hover {\n",
       "  color: var(--xr-font-color0);\n",
       "}\n",
       "\n",
       ".xr-section-summary {\n",
       "  grid-column: 1;\n",
       "  color: var(--xr-font-color2);\n",
       "  font-weight: 500;\n",
       "}\n",
       "\n",
       ".xr-section-summary > span {\n",
       "  display: inline-block;\n",
       "  padding-left: 0.5em;\n",
       "}\n",
       "\n",
       ".xr-section-summary-in:disabled + label {\n",
       "  color: var(--xr-font-color2);\n",
       "}\n",
       "\n",
       ".xr-section-summary-in + label:before {\n",
       "  display: inline-block;\n",
       "  content: '►';\n",
       "  font-size: 11px;\n",
       "  width: 15px;\n",
       "  text-align: center;\n",
       "}\n",
       "\n",
       ".xr-section-summary-in:disabled + label:before {\n",
       "  color: var(--xr-disabled-color);\n",
       "}\n",
       "\n",
       ".xr-section-summary-in:checked + label:before {\n",
       "  content: '▼';\n",
       "}\n",
       "\n",
       ".xr-section-summary-in:checked + label > span {\n",
       "  display: none;\n",
       "}\n",
       "\n",
       ".xr-section-summary,\n",
       ".xr-section-inline-details {\n",
       "  padding-top: 4px;\n",
       "  padding-bottom: 4px;\n",
       "}\n",
       "\n",
       ".xr-section-inline-details {\n",
       "  grid-column: 2 / -1;\n",
       "}\n",
       "\n",
       ".xr-section-details {\n",
       "  display: none;\n",
       "  grid-column: 1 / -1;\n",
       "  margin-bottom: 5px;\n",
       "}\n",
       "\n",
       ".xr-section-summary-in:checked ~ .xr-section-details {\n",
       "  display: contents;\n",
       "}\n",
       "\n",
       ".xr-array-wrap {\n",
       "  grid-column: 1 / -1;\n",
       "  display: grid;\n",
       "  grid-template-columns: 20px auto;\n",
       "}\n",
       "\n",
       ".xr-array-wrap > label {\n",
       "  grid-column: 1;\n",
       "  vertical-align: top;\n",
       "}\n",
       "\n",
       ".xr-preview {\n",
       "  color: var(--xr-font-color3);\n",
       "}\n",
       "\n",
       ".xr-array-preview,\n",
       ".xr-array-data {\n",
       "  padding: 0 5px !important;\n",
       "  grid-column: 2;\n",
       "}\n",
       "\n",
       ".xr-array-data,\n",
       ".xr-array-in:checked ~ .xr-array-preview {\n",
       "  display: none;\n",
       "}\n",
       "\n",
       ".xr-array-in:checked ~ .xr-array-data,\n",
       ".xr-array-preview {\n",
       "  display: inline-block;\n",
       "}\n",
       "\n",
       ".xr-dim-list {\n",
       "  display: inline-block !important;\n",
       "  list-style: none;\n",
       "  padding: 0 !important;\n",
       "  margin: 0;\n",
       "}\n",
       "\n",
       ".xr-dim-list li {\n",
       "  display: inline-block;\n",
       "  padding: 0;\n",
       "  margin: 0;\n",
       "}\n",
       "\n",
       ".xr-dim-list:before {\n",
       "  content: '(';\n",
       "}\n",
       "\n",
       ".xr-dim-list:after {\n",
       "  content: ')';\n",
       "}\n",
       "\n",
       ".xr-dim-list li:not(:last-child):after {\n",
       "  content: ',';\n",
       "  padding-right: 5px;\n",
       "}\n",
       "\n",
       ".xr-has-index {\n",
       "  font-weight: bold;\n",
       "}\n",
       "\n",
       ".xr-var-list,\n",
       ".xr-var-item {\n",
       "  display: contents;\n",
       "}\n",
       "\n",
       ".xr-var-item > div,\n",
       ".xr-var-item label,\n",
       ".xr-var-item > .xr-var-name span {\n",
       "  background-color: var(--xr-background-color-row-even);\n",
       "  margin-bottom: 0;\n",
       "}\n",
       "\n",
       ".xr-var-item > .xr-var-name:hover span {\n",
       "  padding-right: 5px;\n",
       "}\n",
       "\n",
       ".xr-var-list > li:nth-child(odd) > div,\n",
       ".xr-var-list > li:nth-child(odd) > label,\n",
       ".xr-var-list > li:nth-child(odd) > .xr-var-name span {\n",
       "  background-color: var(--xr-background-color-row-odd);\n",
       "}\n",
       "\n",
       ".xr-var-name {\n",
       "  grid-column: 1;\n",
       "}\n",
       "\n",
       ".xr-var-dims {\n",
       "  grid-column: 2;\n",
       "}\n",
       "\n",
       ".xr-var-dtype {\n",
       "  grid-column: 3;\n",
       "  text-align: right;\n",
       "  color: var(--xr-font-color2);\n",
       "}\n",
       "\n",
       ".xr-var-preview {\n",
       "  grid-column: 4;\n",
       "}\n",
       "\n",
       ".xr-index-preview {\n",
       "  grid-column: 2 / 5;\n",
       "  color: var(--xr-font-color2);\n",
       "}\n",
       "\n",
       ".xr-var-name,\n",
       ".xr-var-dims,\n",
       ".xr-var-dtype,\n",
       ".xr-preview,\n",
       ".xr-attrs dt {\n",
       "  white-space: nowrap;\n",
       "  overflow: hidden;\n",
       "  text-overflow: ellipsis;\n",
       "  padding-right: 10px;\n",
       "}\n",
       "\n",
       ".xr-var-name:hover,\n",
       ".xr-var-dims:hover,\n",
       ".xr-var-dtype:hover,\n",
       ".xr-attrs dt:hover {\n",
       "  overflow: visible;\n",
       "  width: auto;\n",
       "  z-index: 1;\n",
       "}\n",
       "\n",
       ".xr-var-attrs,\n",
       ".xr-var-data,\n",
       ".xr-index-data {\n",
       "  display: none;\n",
       "  background-color: var(--xr-background-color) !important;\n",
       "  padding-bottom: 5px !important;\n",
       "}\n",
       "\n",
       ".xr-var-attrs-in:checked ~ .xr-var-attrs,\n",
       ".xr-var-data-in:checked ~ .xr-var-data,\n",
       ".xr-index-data-in:checked ~ .xr-index-data {\n",
       "  display: block;\n",
       "}\n",
       "\n",
       ".xr-var-data > table {\n",
       "  float: right;\n",
       "}\n",
       "\n",
       ".xr-var-name span,\n",
       ".xr-var-data,\n",
       ".xr-index-name div,\n",
       ".xr-index-data,\n",
       ".xr-attrs {\n",
       "  padding-left: 25px !important;\n",
       "}\n",
       "\n",
       ".xr-attrs,\n",
       ".xr-var-attrs,\n",
       ".xr-var-data,\n",
       ".xr-index-data {\n",
       "  grid-column: 1 / -1;\n",
       "}\n",
       "\n",
       "dl.xr-attrs {\n",
       "  padding: 0;\n",
       "  margin: 0;\n",
       "  display: grid;\n",
       "  grid-template-columns: 125px auto;\n",
       "}\n",
       "\n",
       ".xr-attrs dt,\n",
       ".xr-attrs dd {\n",
       "  padding: 0;\n",
       "  margin: 0;\n",
       "  float: left;\n",
       "  padding-right: 10px;\n",
       "  width: auto;\n",
       "}\n",
       "\n",
       ".xr-attrs dt {\n",
       "  font-weight: normal;\n",
       "  grid-column: 1;\n",
       "}\n",
       "\n",
       ".xr-attrs dt:hover span {\n",
       "  display: inline-block;\n",
       "  background: var(--xr-background-color);\n",
       "  padding-right: 10px;\n",
       "}\n",
       "\n",
       ".xr-attrs dd {\n",
       "  grid-column: 2;\n",
       "  white-space: pre-wrap;\n",
       "  word-break: break-all;\n",
       "}\n",
       "\n",
       ".xr-icon-database,\n",
       ".xr-icon-file-text2,\n",
       ".xr-no-icon {\n",
       "  display: inline-block;\n",
       "  vertical-align: middle;\n",
       "  width: 1em;\n",
       "  height: 1.5em !important;\n",
       "  stroke-width: 0;\n",
       "  stroke: currentColor;\n",
       "  fill: currentColor;\n",
       "}\n",
       "</style><pre class='xr-text-repr-fallback'>&lt;xarray.Dataset&gt;\n",
       "Dimensions:     (number: 1, time: 1, step: 125, surface: 1, latitude: 125,\n",
       "                 longitude: 93)\n",
       "Coordinates:\n",
       "  * number      (number) int64 0\n",
       "  * time        (time) datetime64[ns] 2017-12-02\n",
       "  * step        (step) timedelta64[ns] 00:00:00 01:00:00 ... 10 days 00:00:00\n",
       "  * surface     (surface) float64 0.0\n",
       "  * latitude    (latitude) float64 67.0 66.75 66.5 66.25 ... 36.5 36.25 36.0\n",
       "  * longitude   (longitude) float64 -6.0 -5.75 -5.5 -5.25 ... 16.5 16.75 17.0\n",
       "    valid_time  (time, step) datetime64[ns] ...\n",
       "Data variables:\n",
       "    t2m         (number, time, step, surface, latitude, longitude) float32 ...\n",
       "Attributes:\n",
       "    GRIB_edition:            1\n",
       "    GRIB_centre:             ecmf\n",
       "    GRIB_centreDescription:  European Centre for Medium-Range Weather Forecasts\n",
       "    GRIB_subCentre:          0\n",
       "    Conventions:             CF-1.7\n",
       "    institution:             European Centre for Medium-Range Weather Forecasts\n",
       "    history:                 2024-04-29T19:05 GRIB to CDM+CF via cfgrib-0.9.1...</pre><div class='xr-wrap' style='display:none'><div class='xr-header'><div class='xr-obj-type'>xarray.Dataset</div></div><ul class='xr-sections'><li class='xr-section-item'><input id='section-339f9ec4-1807-45e0-aec9-0be066ec8638' class='xr-section-summary-in' type='checkbox' disabled ><label for='section-339f9ec4-1807-45e0-aec9-0be066ec8638' class='xr-section-summary'  title='Expand/collapse section'>Dimensions:</label><div class='xr-section-inline-details'><ul class='xr-dim-list'><li><span class='xr-has-index'>number</span>: 1</li><li><span class='xr-has-index'>time</span>: 1</li><li><span class='xr-has-index'>step</span>: 125</li><li><span class='xr-has-index'>surface</span>: 1</li><li><span class='xr-has-index'>latitude</span>: 125</li><li><span class='xr-has-index'>longitude</span>: 93</li></ul></div><div class='xr-section-details'></div></li><li class='xr-section-item'><input id='section-8628a35b-3d73-4702-8409-87a10c290239' class='xr-section-summary-in' type='checkbox'  checked><label for='section-8628a35b-3d73-4702-8409-87a10c290239' class='xr-section-summary' >Coordinates: <span>(7)</span></label><div class='xr-section-inline-details'></div><div class='xr-section-details'><ul class='xr-var-list'><li class='xr-var-item'><div class='xr-var-name'><span class='xr-has-index'>number</span></div><div class='xr-var-dims'>(number)</div><div class='xr-var-dtype'>int64</div><div class='xr-var-preview xr-preview'>0</div><input id='attrs-24e83b55-9cab-486e-baaf-00d72aa92a06' class='xr-var-attrs-in' type='checkbox' ><label for='attrs-24e83b55-9cab-486e-baaf-00d72aa92a06' title='Show/Hide attributes'><svg class='icon xr-icon-file-text2'><use xlink:href='#icon-file-text2'></use></svg></label><input id='data-8e7fc3e8-63ef-4068-9758-e61f390dd8ce' class='xr-var-data-in' type='checkbox'><label for='data-8e7fc3e8-63ef-4068-9758-e61f390dd8ce' title='Show/Hide data repr'><svg class='icon xr-icon-database'><use xlink:href='#icon-database'></use></svg></label><div class='xr-var-attrs'><dl class='xr-attrs'><dt><span>long_name :</span></dt><dd>ensemble member numerical id</dd><dt><span>units :</span></dt><dd>1</dd><dt><span>standard_name :</span></dt><dd>realization</dd></dl></div><div class='xr-var-data'><pre>array([0])</pre></div></li><li class='xr-var-item'><div class='xr-var-name'><span class='xr-has-index'>time</span></div><div class='xr-var-dims'>(time)</div><div class='xr-var-dtype'>datetime64[ns]</div><div class='xr-var-preview xr-preview'>2017-12-02</div><input id='attrs-83f222ac-5a41-4858-8b83-524b5990761d' class='xr-var-attrs-in' type='checkbox' ><label for='attrs-83f222ac-5a41-4858-8b83-524b5990761d' title='Show/Hide attributes'><svg class='icon xr-icon-file-text2'><use xlink:href='#icon-file-text2'></use></svg></label><input id='data-155d2746-15ea-425b-bb9a-f336b6aed8df' class='xr-var-data-in' type='checkbox'><label for='data-155d2746-15ea-425b-bb9a-f336b6aed8df' title='Show/Hide data repr'><svg class='icon xr-icon-database'><use xlink:href='#icon-database'></use></svg></label><div class='xr-var-attrs'><dl class='xr-attrs'><dt><span>long_name :</span></dt><dd>initial time of forecast</dd><dt><span>standard_name :</span></dt><dd>forecast_reference_time</dd></dl></div><div class='xr-var-data'><pre>array([&#x27;2017-12-02T00:00:00.000000000&#x27;], dtype=&#x27;datetime64[ns]&#x27;)</pre></div></li><li class='xr-var-item'><div class='xr-var-name'><span class='xr-has-index'>step</span></div><div class='xr-var-dims'>(step)</div><div class='xr-var-dtype'>timedelta64[ns]</div><div class='xr-var-preview xr-preview'>00:00:00 ... 10 days 00:00:00</div><input id='attrs-a15de306-bf2a-4251-9929-d5e3d7a1126b' class='xr-var-attrs-in' type='checkbox' ><label for='attrs-a15de306-bf2a-4251-9929-d5e3d7a1126b' title='Show/Hide attributes'><svg class='icon xr-icon-file-text2'><use xlink:href='#icon-file-text2'></use></svg></label><input id='data-57ee41bc-abd5-4774-b27f-31459073873f' class='xr-var-data-in' type='checkbox'><label for='data-57ee41bc-abd5-4774-b27f-31459073873f' title='Show/Hide data repr'><svg class='icon xr-icon-database'><use xlink:href='#icon-database'></use></svg></label><div class='xr-var-attrs'><dl class='xr-attrs'><dt><span>long_name :</span></dt><dd>time since forecast_reference_time</dd><dt><span>standard_name :</span></dt><dd>forecast_period</dd></dl></div><div class='xr-var-data'><pre>array([              0,   3600000000000,   7200000000000,  10800000000000,\n",
       "        14400000000000,  18000000000000,  21600000000000,  25200000000000,\n",
       "        28800000000000,  32400000000000,  36000000000000,  39600000000000,\n",
       "        43200000000000,  46800000000000,  50400000000000,  54000000000000,\n",
       "        57600000000000,  61200000000000,  64800000000000,  68400000000000,\n",
       "        72000000000000,  75600000000000,  79200000000000,  82800000000000,\n",
       "        86400000000000,  90000000000000,  93600000000000,  97200000000000,\n",
       "       100800000000000, 104400000000000, 108000000000000, 111600000000000,\n",
       "       115200000000000, 118800000000000, 122400000000000, 126000000000000,\n",
       "       129600000000000, 133200000000000, 136800000000000, 140400000000000,\n",
       "       144000000000000, 147600000000000, 151200000000000, 154800000000000,\n",
       "       158400000000000, 162000000000000, 165600000000000, 169200000000000,\n",
       "       172800000000000, 176400000000000, 180000000000000, 183600000000000,\n",
       "       187200000000000, 190800000000000, 194400000000000, 198000000000000,\n",
       "       201600000000000, 205200000000000, 208800000000000, 212400000000000,\n",
       "       216000000000000, 219600000000000, 223200000000000, 226800000000000,\n",
       "       230400000000000, 234000000000000, 237600000000000, 241200000000000,\n",
       "       244800000000000, 248400000000000, 252000000000000, 255600000000000,\n",
       "       259200000000000, 262800000000000, 266400000000000, 270000000000000,\n",
       "       273600000000000, 277200000000000, 280800000000000, 284400000000000,\n",
       "       288000000000000, 291600000000000, 295200000000000, 298800000000000,\n",
       "       302400000000000, 306000000000000, 309600000000000, 313200000000000,\n",
       "       316800000000000, 320400000000000, 324000000000000, 334800000000000,\n",
       "       345600000000000, 356400000000000, 367200000000000, 378000000000000,\n",
       "       388800000000000, 399600000000000, 410400000000000, 421200000000000,\n",
       "       432000000000000, 442800000000000, 453600000000000, 464400000000000,\n",
       "       475200000000000, 486000000000000, 496800000000000, 507600000000000,\n",
       "       518400000000000, 540000000000000, 561600000000000, 583200000000000,\n",
       "       604800000000000, 626400000000000, 648000000000000, 669600000000000,\n",
       "       691200000000000, 712800000000000, 734400000000000, 756000000000000,\n",
       "       777600000000000, 799200000000000, 820800000000000, 842400000000000,\n",
       "       864000000000000], dtype=&#x27;timedelta64[ns]&#x27;)</pre></div></li><li class='xr-var-item'><div class='xr-var-name'><span class='xr-has-index'>surface</span></div><div class='xr-var-dims'>(surface)</div><div class='xr-var-dtype'>float64</div><div class='xr-var-preview xr-preview'>0.0</div><input id='attrs-fb9cd54f-d411-4fbe-8f82-c4537c8af7ce' class='xr-var-attrs-in' type='checkbox' ><label for='attrs-fb9cd54f-d411-4fbe-8f82-c4537c8af7ce' title='Show/Hide attributes'><svg class='icon xr-icon-file-text2'><use xlink:href='#icon-file-text2'></use></svg></label><input id='data-fcb65cd4-2a0b-4c3a-8056-9a92f355d543' class='xr-var-data-in' type='checkbox'><label for='data-fcb65cd4-2a0b-4c3a-8056-9a92f355d543' title='Show/Hide data repr'><svg class='icon xr-icon-database'><use xlink:href='#icon-database'></use></svg></label><div class='xr-var-attrs'><dl class='xr-attrs'><dt><span>long_name :</span></dt><dd>original GRIB coordinate for key: level(surface)</dd><dt><span>units :</span></dt><dd>1</dd></dl></div><div class='xr-var-data'><pre>array([0.])</pre></div></li><li class='xr-var-item'><div class='xr-var-name'><span class='xr-has-index'>latitude</span></div><div class='xr-var-dims'>(latitude)</div><div class='xr-var-dtype'>float64</div><div class='xr-var-preview xr-preview'>67.0 66.75 66.5 ... 36.5 36.25 36.0</div><input id='attrs-23adfeaf-de99-41ee-9167-10f30687874d' class='xr-var-attrs-in' type='checkbox' ><label for='attrs-23adfeaf-de99-41ee-9167-10f30687874d' title='Show/Hide attributes'><svg class='icon xr-icon-file-text2'><use xlink:href='#icon-file-text2'></use></svg></label><input id='data-bc5d890a-964d-4643-9fbf-4b89a264e0a4' class='xr-var-data-in' type='checkbox'><label for='data-bc5d890a-964d-4643-9fbf-4b89a264e0a4' title='Show/Hide data repr'><svg class='icon xr-icon-database'><use xlink:href='#icon-database'></use></svg></label><div class='xr-var-attrs'><dl class='xr-attrs'><dt><span>units :</span></dt><dd>degrees_north</dd><dt><span>standard_name :</span></dt><dd>latitude</dd><dt><span>long_name :</span></dt><dd>latitude</dd><dt><span>stored_direction :</span></dt><dd>decreasing</dd></dl></div><div class='xr-var-data'><pre>array([67.  , 66.75, 66.5 , 66.25, 66.  , 65.75, 65.5 , 65.25, 65.  , 64.75,\n",
       "       64.5 , 64.25, 64.  , 63.75, 63.5 , 63.25, 63.  , 62.75, 62.5 , 62.25,\n",
       "       62.  , 61.75, 61.5 , 61.25, 61.  , 60.75, 60.5 , 60.25, 60.  , 59.75,\n",
       "       59.5 , 59.25, 59.  , 58.75, 58.5 , 58.25, 58.  , 57.75, 57.5 , 57.25,\n",
       "       57.  , 56.75, 56.5 , 56.25, 56.  , 55.75, 55.5 , 55.25, 55.  , 54.75,\n",
       "       54.5 , 54.25, 54.  , 53.75, 53.5 , 53.25, 53.  , 52.75, 52.5 , 52.25,\n",
       "       52.  , 51.75, 51.5 , 51.25, 51.  , 50.75, 50.5 , 50.25, 50.  , 49.75,\n",
       "       49.5 , 49.25, 49.  , 48.75, 48.5 , 48.25, 48.  , 47.75, 47.5 , 47.25,\n",
       "       47.  , 46.75, 46.5 , 46.25, 46.  , 45.75, 45.5 , 45.25, 45.  , 44.75,\n",
       "       44.5 , 44.25, 44.  , 43.75, 43.5 , 43.25, 43.  , 42.75, 42.5 , 42.25,\n",
       "       42.  , 41.75, 41.5 , 41.25, 41.  , 40.75, 40.5 , 40.25, 40.  , 39.75,\n",
       "       39.5 , 39.25, 39.  , 38.75, 38.5 , 38.25, 38.  , 37.75, 37.5 , 37.25,\n",
       "       37.  , 36.75, 36.5 , 36.25, 36.  ])</pre></div></li><li class='xr-var-item'><div class='xr-var-name'><span class='xr-has-index'>longitude</span></div><div class='xr-var-dims'>(longitude)</div><div class='xr-var-dtype'>float64</div><div class='xr-var-preview xr-preview'>-6.0 -5.75 -5.5 ... 16.5 16.75 17.0</div><input id='attrs-c7723f3f-caf1-4965-84bb-f03acb1d95a4' class='xr-var-attrs-in' type='checkbox' ><label for='attrs-c7723f3f-caf1-4965-84bb-f03acb1d95a4' title='Show/Hide attributes'><svg class='icon xr-icon-file-text2'><use xlink:href='#icon-file-text2'></use></svg></label><input id='data-45e70434-2687-4714-809f-fc6d032aec11' class='xr-var-data-in' type='checkbox'><label for='data-45e70434-2687-4714-809f-fc6d032aec11' title='Show/Hide data repr'><svg class='icon xr-icon-database'><use xlink:href='#icon-database'></use></svg></label><div class='xr-var-attrs'><dl class='xr-attrs'><dt><span>units :</span></dt><dd>degrees_east</dd><dt><span>standard_name :</span></dt><dd>longitude</dd><dt><span>long_name :</span></dt><dd>longitude</dd></dl></div><div class='xr-var-data'><pre>array([-6.  , -5.75, -5.5 , -5.25, -5.  , -4.75, -4.5 , -4.25, -4.  , -3.75,\n",
       "       -3.5 , -3.25, -3.  , -2.75, -2.5 , -2.25, -2.  , -1.75, -1.5 , -1.25,\n",
       "       -1.  , -0.75, -0.5 , -0.25,  0.  ,  0.25,  0.5 ,  0.75,  1.  ,  1.25,\n",
       "        1.5 ,  1.75,  2.  ,  2.25,  2.5 ,  2.75,  3.  ,  3.25,  3.5 ,  3.75,\n",
       "        4.  ,  4.25,  4.5 ,  4.75,  5.  ,  5.25,  5.5 ,  5.75,  6.  ,  6.25,\n",
       "        6.5 ,  6.75,  7.  ,  7.25,  7.5 ,  7.75,  8.  ,  8.25,  8.5 ,  8.75,\n",
       "        9.  ,  9.25,  9.5 ,  9.75, 10.  , 10.25, 10.5 , 10.75, 11.  , 11.25,\n",
       "       11.5 , 11.75, 12.  , 12.25, 12.5 , 12.75, 13.  , 13.25, 13.5 , 13.75,\n",
       "       14.  , 14.25, 14.5 , 14.75, 15.  , 15.25, 15.5 , 15.75, 16.  , 16.25,\n",
       "       16.5 , 16.75, 17.  ])</pre></div></li><li class='xr-var-item'><div class='xr-var-name'><span>valid_time</span></div><div class='xr-var-dims'>(time, step)</div><div class='xr-var-dtype'>datetime64[ns]</div><div class='xr-var-preview xr-preview'>...</div><input id='attrs-3ab3c261-0f60-464d-ae56-f161bd8ca1a2' class='xr-var-attrs-in' type='checkbox' ><label for='attrs-3ab3c261-0f60-464d-ae56-f161bd8ca1a2' title='Show/Hide attributes'><svg class='icon xr-icon-file-text2'><use xlink:href='#icon-file-text2'></use></svg></label><input id='data-ab13a9b2-6f79-46c2-b586-068baba5f15a' class='xr-var-data-in' type='checkbox'><label for='data-ab13a9b2-6f79-46c2-b586-068baba5f15a' title='Show/Hide data repr'><svg class='icon xr-icon-database'><use xlink:href='#icon-database'></use></svg></label><div class='xr-var-attrs'><dl class='xr-attrs'><dt><span>standard_name :</span></dt><dd>time</dd><dt><span>long_name :</span></dt><dd>time</dd></dl></div><div class='xr-var-data'><pre>[125 values with dtype=datetime64[ns]]</pre></div></li></ul></div></li><li class='xr-section-item'><input id='section-73a7e431-f08e-471e-acbe-c69a3f7b593b' class='xr-section-summary-in' type='checkbox'  checked><label for='section-73a7e431-f08e-471e-acbe-c69a3f7b593b' class='xr-section-summary' >Data variables: <span>(1)</span></label><div class='xr-section-inline-details'></div><div class='xr-section-details'><ul class='xr-var-list'><li class='xr-var-item'><div class='xr-var-name'><span>t2m</span></div><div class='xr-var-dims'>(number, time, step, surface, latitude, longitude)</div><div class='xr-var-dtype'>float32</div><div class='xr-var-preview xr-preview'>...</div><input id='attrs-d9e4f275-e56b-488f-b0dc-af4dd4aba831' class='xr-var-attrs-in' type='checkbox' ><label for='attrs-d9e4f275-e56b-488f-b0dc-af4dd4aba831' title='Show/Hide attributes'><svg class='icon xr-icon-file-text2'><use xlink:href='#icon-file-text2'></use></svg></label><input id='data-0c70a99e-784e-4309-b9b9-cea2fcd1c6b8' class='xr-var-data-in' type='checkbox'><label for='data-0c70a99e-784e-4309-b9b9-cea2fcd1c6b8' title='Show/Hide data repr'><svg class='icon xr-icon-database'><use xlink:href='#icon-database'></use></svg></label><div class='xr-var-attrs'><dl class='xr-attrs'><dt><span>GRIB_paramId :</span></dt><dd>167</dd><dt><span>GRIB_numberOfPoints :</span></dt><dd>11625</dd><dt><span>GRIB_typeOfLevel :</span></dt><dd>surface</dd><dt><span>GRIB_stepUnits :</span></dt><dd>1</dd><dt><span>GRIB_stepType :</span></dt><dd>instant</dd><dt><span>GRIB_gridType :</span></dt><dd>regular_ll</dd><dt><span>GRIB_NV :</span></dt><dd>0</dd><dt><span>GRIB_Nx :</span></dt><dd>93</dd><dt><span>GRIB_Ny :</span></dt><dd>125</dd><dt><span>GRIB_cfName :</span></dt><dd>unknown</dd><dt><span>GRIB_cfVarName :</span></dt><dd>t2m</dd><dt><span>GRIB_gridDefinitionDescription :</span></dt><dd>Latitude/Longitude Grid</dd><dt><span>GRIB_iDirectionIncrementInDegrees :</span></dt><dd>0.25</dd><dt><span>GRIB_iScansNegatively :</span></dt><dd>0</dd><dt><span>GRIB_jDirectionIncrementInDegrees :</span></dt><dd>0.25</dd><dt><span>GRIB_jPointsAreConsecutive :</span></dt><dd>0</dd><dt><span>GRIB_jScansPositively :</span></dt><dd>0</dd><dt><span>GRIB_latitudeOfFirstGridPointInDegrees :</span></dt><dd>67.0</dd><dt><span>GRIB_latitudeOfLastGridPointInDegrees :</span></dt><dd>36.0</dd><dt><span>GRIB_longitudeOfFirstGridPointInDegrees :</span></dt><dd>-6.0</dd><dt><span>GRIB_longitudeOfLastGridPointInDegrees :</span></dt><dd>17.0</dd><dt><span>GRIB_missingValue :</span></dt><dd>9999</dd><dt><span>GRIB_name :</span></dt><dd>2 metre temperature</dd><dt><span>GRIB_shortName :</span></dt><dd>2t</dd><dt><span>GRIB_totalNumber :</span></dt><dd>0</dd><dt><span>GRIB_units :</span></dt><dd>K</dd><dt><span>long_name :</span></dt><dd>2 metre temperature</dd><dt><span>units :</span></dt><dd>K</dd><dt><span>standard_name :</span></dt><dd>unknown</dd></dl></div><div class='xr-var-data'><pre>[1453125 values with dtype=float32]</pre></div></li></ul></div></li><li class='xr-section-item'><input id='section-7d83e689-61e6-4472-8fca-65d809e1833c' class='xr-section-summary-in' type='checkbox'  ><label for='section-7d83e689-61e6-4472-8fca-65d809e1833c' class='xr-section-summary' >Indexes: <span>(6)</span></label><div class='xr-section-inline-details'></div><div class='xr-section-details'><ul class='xr-var-list'><li class='xr-var-item'><div class='xr-index-name'><div>number</div></div><div class='xr-index-preview'>PandasIndex</div><div></div><input id='index-ab855759-b7ce-4b29-bade-e572954567d4' class='xr-index-data-in' type='checkbox'/><label for='index-ab855759-b7ce-4b29-bade-e572954567d4' title='Show/Hide index repr'><svg class='icon xr-icon-database'><use xlink:href='#icon-database'></use></svg></label><div class='xr-index-data'><pre>PandasIndex(Index([0], dtype=&#x27;int64&#x27;, name=&#x27;number&#x27;))</pre></div></li><li class='xr-var-item'><div class='xr-index-name'><div>time</div></div><div class='xr-index-preview'>PandasIndex</div><div></div><input id='index-03026029-2720-4aa5-b185-d8a73a250d61' class='xr-index-data-in' type='checkbox'/><label for='index-03026029-2720-4aa5-b185-d8a73a250d61' title='Show/Hide index repr'><svg class='icon xr-icon-database'><use xlink:href='#icon-database'></use></svg></label><div class='xr-index-data'><pre>PandasIndex(DatetimeIndex([&#x27;2017-12-02&#x27;], dtype=&#x27;datetime64[ns]&#x27;, name=&#x27;time&#x27;, freq=None))</pre></div></li><li class='xr-var-item'><div class='xr-index-name'><div>step</div></div><div class='xr-index-preview'>PandasIndex</div><div></div><input id='index-c1461350-6f7c-49f1-9398-da67d733826e' class='xr-index-data-in' type='checkbox'/><label for='index-c1461350-6f7c-49f1-9398-da67d733826e' title='Show/Hide index repr'><svg class='icon xr-icon-database'><use xlink:href='#icon-database'></use></svg></label><div class='xr-index-data'><pre>PandasIndex(TimedeltaIndex([ &#x27;0 days 00:00:00&#x27;,  &#x27;0 days 01:00:00&#x27;,  &#x27;0 days 02:00:00&#x27;,\n",
       "                 &#x27;0 days 03:00:00&#x27;,  &#x27;0 days 04:00:00&#x27;,  &#x27;0 days 05:00:00&#x27;,\n",
       "                 &#x27;0 days 06:00:00&#x27;,  &#x27;0 days 07:00:00&#x27;,  &#x27;0 days 08:00:00&#x27;,\n",
       "                 &#x27;0 days 09:00:00&#x27;,\n",
       "                ...\n",
       "                 &#x27;7 days 18:00:00&#x27;,  &#x27;8 days 00:00:00&#x27;,  &#x27;8 days 06:00:00&#x27;,\n",
       "                 &#x27;8 days 12:00:00&#x27;,  &#x27;8 days 18:00:00&#x27;,  &#x27;9 days 00:00:00&#x27;,\n",
       "                 &#x27;9 days 06:00:00&#x27;,  &#x27;9 days 12:00:00&#x27;,  &#x27;9 days 18:00:00&#x27;,\n",
       "                &#x27;10 days 00:00:00&#x27;],\n",
       "               dtype=&#x27;timedelta64[ns]&#x27;, name=&#x27;step&#x27;, length=125, freq=None))</pre></div></li><li class='xr-var-item'><div class='xr-index-name'><div>surface</div></div><div class='xr-index-preview'>PandasIndex</div><div></div><input id='index-f5d1e81f-8ab8-44b3-998e-f3d1c761f57c' class='xr-index-data-in' type='checkbox'/><label for='index-f5d1e81f-8ab8-44b3-998e-f3d1c761f57c' title='Show/Hide index repr'><svg class='icon xr-icon-database'><use xlink:href='#icon-database'></use></svg></label><div class='xr-index-data'><pre>PandasIndex(Index([0.0], dtype=&#x27;float64&#x27;, name=&#x27;surface&#x27;))</pre></div></li><li class='xr-var-item'><div class='xr-index-name'><div>latitude</div></div><div class='xr-index-preview'>PandasIndex</div><div></div><input id='index-c269f535-bb05-4b30-89b5-afb4e4ebbe0d' class='xr-index-data-in' type='checkbox'/><label for='index-c269f535-bb05-4b30-89b5-afb4e4ebbe0d' title='Show/Hide index repr'><svg class='icon xr-icon-database'><use xlink:href='#icon-database'></use></svg></label><div class='xr-index-data'><pre>PandasIndex(Index([ 67.0, 66.75,  66.5, 66.25,  66.0, 65.75,  65.5, 65.25,  65.0, 64.75,\n",
       "       ...\n",
       "       38.25,  38.0, 37.75,  37.5, 37.25,  37.0, 36.75,  36.5, 36.25,  36.0],\n",
       "      dtype=&#x27;float64&#x27;, name=&#x27;latitude&#x27;, length=125))</pre></div></li><li class='xr-var-item'><div class='xr-index-name'><div>longitude</div></div><div class='xr-index-preview'>PandasIndex</div><div></div><input id='index-a0727a7a-eb14-474d-884f-37eb3de8f87d' class='xr-index-data-in' type='checkbox'/><label for='index-a0727a7a-eb14-474d-884f-37eb3de8f87d' title='Show/Hide index repr'><svg class='icon xr-icon-database'><use xlink:href='#icon-database'></use></svg></label><div class='xr-index-data'><pre>PandasIndex(Index([ -6.0, -5.75,  -5.5, -5.25,  -5.0, -4.75,  -4.5, -4.25,  -4.0, -3.75,\n",
       "        -3.5, -3.25,  -3.0, -2.75,  -2.5, -2.25,  -2.0, -1.75,  -1.5, -1.25,\n",
       "        -1.0, -0.75,  -0.5, -0.25,   0.0,  0.25,   0.5,  0.75,   1.0,  1.25,\n",
       "         1.5,  1.75,   2.0,  2.25,   2.5,  2.75,   3.0,  3.25,   3.5,  3.75,\n",
       "         4.0,  4.25,   4.5,  4.75,   5.0,  5.25,   5.5,  5.75,   6.0,  6.25,\n",
       "         6.5,  6.75,   7.0,  7.25,   7.5,  7.75,   8.0,  8.25,   8.5,  8.75,\n",
       "         9.0,  9.25,   9.5,  9.75,  10.0, 10.25,  10.5, 10.75,  11.0, 11.25,\n",
       "        11.5, 11.75,  12.0, 12.25,  12.5, 12.75,  13.0, 13.25,  13.5, 13.75,\n",
       "        14.0, 14.25,  14.5, 14.75,  15.0, 15.25,  15.5, 15.75,  16.0, 16.25,\n",
       "        16.5, 16.75,  17.0],\n",
       "      dtype=&#x27;float64&#x27;, name=&#x27;longitude&#x27;))</pre></div></li></ul></div></li><li class='xr-section-item'><input id='section-01c1c140-c8bb-4886-99ab-f0028881ab95' class='xr-section-summary-in' type='checkbox'  checked><label for='section-01c1c140-c8bb-4886-99ab-f0028881ab95' class='xr-section-summary' >Attributes: <span>(7)</span></label><div class='xr-section-inline-details'></div><div class='xr-section-details'><dl class='xr-attrs'><dt><span>GRIB_edition :</span></dt><dd>1</dd><dt><span>GRIB_centre :</span></dt><dd>ecmf</dd><dt><span>GRIB_centreDescription :</span></dt><dd>European Centre for Medium-Range Weather Forecasts</dd><dt><span>GRIB_subCentre :</span></dt><dd>0</dd><dt><span>Conventions :</span></dt><dd>CF-1.7</dd><dt><span>institution :</span></dt><dd>European Centre for Medium-Range Weather Forecasts</dd><dt><span>history :</span></dt><dd>2024-04-29T19:05 GRIB to CDM+CF via cfgrib-0.9.11.0/ecCodes-2.34.1 with {&quot;source&quot;: &quot;N/A&quot;, &quot;filter_by_keys&quot;: {}, &quot;encode_cf&quot;: [&quot;parameter&quot;, &quot;time&quot;, &quot;geography&quot;, &quot;vertical&quot;]}</dd></dl></div></li></ul></div></div>"
      ],
      "text/plain": [
       "<xarray.Dataset>\n",
       "Dimensions:     (number: 1, time: 1, step: 125, surface: 1, latitude: 125,\n",
       "                 longitude: 93)\n",
       "Coordinates:\n",
       "  * number      (number) int64 0\n",
       "  * time        (time) datetime64[ns] 2017-12-02\n",
       "  * step        (step) timedelta64[ns] 00:00:00 01:00:00 ... 10 days 00:00:00\n",
       "  * surface     (surface) float64 0.0\n",
       "  * latitude    (latitude) float64 67.0 66.75 66.5 66.25 ... 36.5 36.25 36.0\n",
       "  * longitude   (longitude) float64 -6.0 -5.75 -5.5 -5.25 ... 16.5 16.75 17.0\n",
       "    valid_time  (time, step) datetime64[ns] ...\n",
       "Data variables:\n",
       "    t2m         (number, time, step, surface, latitude, longitude) float32 ...\n",
       "Attributes:\n",
       "    GRIB_edition:            1\n",
       "    GRIB_centre:             ecmf\n",
       "    GRIB_centreDescription:  European Centre for Medium-Range Weather Forecasts\n",
       "    GRIB_subCentre:          0\n",
       "    Conventions:             CF-1.7\n",
       "    institution:             European Centre for Medium-Range Weather Forecasts\n",
       "    history:                 2024-04-29T19:05 GRIB to CDM+CF via cfgrib-0.9.1..."
      ]
     },
     "execution_count": 52,
     "metadata": {},
     "output_type": "execute_result"
    }
   ],
   "source": []
  },
  {
   "cell_type": "code",
   "execution_count": 48,
   "id": "4b539dde-d28b-4e43-8d8f-27c2c62760e3",
   "metadata": {},
   "outputs": [
    {
     "name": "stdout",
     "output_type": "stream",
     "text": [
      "By downloading data from this dataset, you agree to the terms and conditions defined at\n",
      "\n",
      "    https://github.com/Climdyn/climetlab-eumetnet-postprocessing-benchmark/blob/main/DATA_LICENSE\n",
      "\n",
      "If you do not agree with such terms, do not download the data. \n"
     ]
    },
    {
     "name": "stderr",
     "output_type": "stream",
     "text": [
      "/home/yjess/anaconda3/lib/python3.11/site-packages/climetlab/sources/indexed_urls.py:46: UserWarning:\n",
      "\n",
      "Passing a PerUrlIndex object is obsolete, please update your code.\n",
      "\n"
     ]
    },
    {
     "name": "stdout",
     "output_type": "stream",
     "text": [
      "PATTERN {url}data/fcs/{leveltype}/EU_forecast_{kind}_{leveltype}_params_{isodate}_0.grb\n"
     ]
    },
    {
     "data": {
      "application/vnd.jupyter.widget-view+json": {
       "model_id": "06f7b265278b4361a11e14a3cfa7cd46",
       "version_major": 2,
       "version_minor": 0
      },
      "text/plain": [
       "Downloading index:   0%|          | 0.00/24.9M [00:00<?, ?B/s]"
      ]
     },
     "metadata": {},
     "output_type": "display_data"
    },
    {
     "data": {
      "application/vnd.jupyter.widget-view+json": {
       "model_id": "",
       "version_major": 2,
       "version_minor": 0
      },
      "text/plain": [
       "EU_forecast_hr_surf_params_2017-12_0.grb:   0%|          | 0.00/2.78M [00:00<?, ?B/s]"
      ]
     },
     "metadata": {},
     "output_type": "display_data"
    }
   ],
   "source": [
    "ds = cml.load_dataset('eumetnet-postprocessing-benchmark-training-data-gridded-forecasts-surface', \"2017-12-02\", \"2t\", \"highres\")\n",
    "fcs = ds.to_xarray()"
   ]
  },
  {
   "cell_type": "code",
   "execution_count": 49,
   "id": "013ae5f0-7003-4bd8-b412-597dc144cae2",
   "metadata": {},
   "outputs": [
    {
     "name": "stdout",
     "output_type": "stream",
     "text": [
      "PATTERN {url}data/ana/{leveltype}/EU_analysis_{leveltype}_params_{isodate}.grb\n"
     ]
    },
    {
     "name": "stderr",
     "output_type": "stream",
     "text": [
      "/home/yjess/anaconda3/lib/python3.11/site-packages/climetlab/sources/indexed_urls.py:46: UserWarning:\n",
      "\n",
      "Passing a PerUrlIndex object is obsolete, please update your code.\n",
      "\n"
     ]
    },
    {
     "data": {
      "application/vnd.jupyter.widget-view+json": {
       "model_id": "b8ac41ae2ff74914b94c6c7933698f21",
       "version_major": 2,
       "version_minor": 0
      },
      "text/plain": [
       "Downloading index:   0%|          | 0.00/4.47M [00:00<?, ?B/s]"
      ]
     },
     "metadata": {},
     "output_type": "display_data"
    },
    {
     "data": {
      "application/vnd.jupyter.widget-view+json": {
       "model_id": "",
       "version_major": 2,
       "version_minor": 0
      },
      "text/plain": [
       "EU_analysis_surf_params_2017-12.grb:   0%|          | 0.00/5.88M [00:00<?, ?B/s]"
      ]
     },
     "metadata": {},
     "output_type": "display_data"
    }
   ],
   "source": [
    "obs = ds.get_observations_as_xarray()"
   ]
  },
  {
   "cell_type": "code",
   "execution_count": 50,
   "id": "b8c222b1-0bfd-482b-ae2a-1904b5461e72",
   "metadata": {},
   "outputs": [
    {
     "data": {
      "text/html": [
       "<div><svg style=\"position: absolute; width: 0; height: 0; overflow: hidden\">\n",
       "<defs>\n",
       "<symbol id=\"icon-database\" viewBox=\"0 0 32 32\">\n",
       "<path d=\"M16 0c-8.837 0-16 2.239-16 5v4c0 2.761 7.163 5 16 5s16-2.239 16-5v-4c0-2.761-7.163-5-16-5z\"></path>\n",
       "<path d=\"M16 17c-8.837 0-16-2.239-16-5v6c0 2.761 7.163 5 16 5s16-2.239 16-5v-6c0 2.761-7.163 5-16 5z\"></path>\n",
       "<path d=\"M16 26c-8.837 0-16-2.239-16-5v6c0 2.761 7.163 5 16 5s16-2.239 16-5v-6c0 2.761-7.163 5-16 5z\"></path>\n",
       "</symbol>\n",
       "<symbol id=\"icon-file-text2\" viewBox=\"0 0 32 32\">\n",
       "<path d=\"M28.681 7.159c-0.694-0.947-1.662-2.053-2.724-3.116s-2.169-2.030-3.116-2.724c-1.612-1.182-2.393-1.319-2.841-1.319h-15.5c-1.378 0-2.5 1.121-2.5 2.5v27c0 1.378 1.122 2.5 2.5 2.5h23c1.378 0 2.5-1.122 2.5-2.5v-19.5c0-0.448-0.137-1.23-1.319-2.841zM24.543 5.457c0.959 0.959 1.712 1.825 2.268 2.543h-4.811v-4.811c0.718 0.556 1.584 1.309 2.543 2.268zM28 29.5c0 0.271-0.229 0.5-0.5 0.5h-23c-0.271 0-0.5-0.229-0.5-0.5v-27c0-0.271 0.229-0.5 0.5-0.5 0 0 15.499-0 15.5 0v7c0 0.552 0.448 1 1 1h7v19.5z\"></path>\n",
       "<path d=\"M23 26h-14c-0.552 0-1-0.448-1-1s0.448-1 1-1h14c0.552 0 1 0.448 1 1s-0.448 1-1 1z\"></path>\n",
       "<path d=\"M23 22h-14c-0.552 0-1-0.448-1-1s0.448-1 1-1h14c0.552 0 1 0.448 1 1s-0.448 1-1 1z\"></path>\n",
       "<path d=\"M23 18h-14c-0.552 0-1-0.448-1-1s0.448-1 1-1h14c0.552 0 1 0.448 1 1s-0.448 1-1 1z\"></path>\n",
       "</symbol>\n",
       "</defs>\n",
       "</svg>\n",
       "<style>/* CSS stylesheet for displaying xarray objects in jupyterlab.\n",
       " *\n",
       " */\n",
       "\n",
       ":root {\n",
       "  --xr-font-color0: var(--jp-content-font-color0, rgba(0, 0, 0, 1));\n",
       "  --xr-font-color2: var(--jp-content-font-color2, rgba(0, 0, 0, 0.54));\n",
       "  --xr-font-color3: var(--jp-content-font-color3, rgba(0, 0, 0, 0.38));\n",
       "  --xr-border-color: var(--jp-border-color2, #e0e0e0);\n",
       "  --xr-disabled-color: var(--jp-layout-color3, #bdbdbd);\n",
       "  --xr-background-color: var(--jp-layout-color0, white);\n",
       "  --xr-background-color-row-even: var(--jp-layout-color1, white);\n",
       "  --xr-background-color-row-odd: var(--jp-layout-color2, #eeeeee);\n",
       "}\n",
       "\n",
       "html[theme=dark],\n",
       "body[data-theme=dark],\n",
       "body.vscode-dark {\n",
       "  --xr-font-color0: rgba(255, 255, 255, 1);\n",
       "  --xr-font-color2: rgba(255, 255, 255, 0.54);\n",
       "  --xr-font-color3: rgba(255, 255, 255, 0.38);\n",
       "  --xr-border-color: #1F1F1F;\n",
       "  --xr-disabled-color: #515151;\n",
       "  --xr-background-color: #111111;\n",
       "  --xr-background-color-row-even: #111111;\n",
       "  --xr-background-color-row-odd: #313131;\n",
       "}\n",
       "\n",
       ".xr-wrap {\n",
       "  display: block !important;\n",
       "  min-width: 300px;\n",
       "  max-width: 700px;\n",
       "}\n",
       "\n",
       ".xr-text-repr-fallback {\n",
       "  /* fallback to plain text repr when CSS is not injected (untrusted notebook) */\n",
       "  display: none;\n",
       "}\n",
       "\n",
       ".xr-header {\n",
       "  padding-top: 6px;\n",
       "  padding-bottom: 6px;\n",
       "  margin-bottom: 4px;\n",
       "  border-bottom: solid 1px var(--xr-border-color);\n",
       "}\n",
       "\n",
       ".xr-header > div,\n",
       ".xr-header > ul {\n",
       "  display: inline;\n",
       "  margin-top: 0;\n",
       "  margin-bottom: 0;\n",
       "}\n",
       "\n",
       ".xr-obj-type,\n",
       ".xr-array-name {\n",
       "  margin-left: 2px;\n",
       "  margin-right: 10px;\n",
       "}\n",
       "\n",
       ".xr-obj-type {\n",
       "  color: var(--xr-font-color2);\n",
       "}\n",
       "\n",
       ".xr-sections {\n",
       "  padding-left: 0 !important;\n",
       "  display: grid;\n",
       "  grid-template-columns: 150px auto auto 1fr 20px 20px;\n",
       "}\n",
       "\n",
       ".xr-section-item {\n",
       "  display: contents;\n",
       "}\n",
       "\n",
       ".xr-section-item input {\n",
       "  display: none;\n",
       "}\n",
       "\n",
       ".xr-section-item input + label {\n",
       "  color: var(--xr-disabled-color);\n",
       "}\n",
       "\n",
       ".xr-section-item input:enabled + label {\n",
       "  cursor: pointer;\n",
       "  color: var(--xr-font-color2);\n",
       "}\n",
       "\n",
       ".xr-section-item input:enabled + label:hover {\n",
       "  color: var(--xr-font-color0);\n",
       "}\n",
       "\n",
       ".xr-section-summary {\n",
       "  grid-column: 1;\n",
       "  color: var(--xr-font-color2);\n",
       "  font-weight: 500;\n",
       "}\n",
       "\n",
       ".xr-section-summary > span {\n",
       "  display: inline-block;\n",
       "  padding-left: 0.5em;\n",
       "}\n",
       "\n",
       ".xr-section-summary-in:disabled + label {\n",
       "  color: var(--xr-font-color2);\n",
       "}\n",
       "\n",
       ".xr-section-summary-in + label:before {\n",
       "  display: inline-block;\n",
       "  content: '►';\n",
       "  font-size: 11px;\n",
       "  width: 15px;\n",
       "  text-align: center;\n",
       "}\n",
       "\n",
       ".xr-section-summary-in:disabled + label:before {\n",
       "  color: var(--xr-disabled-color);\n",
       "}\n",
       "\n",
       ".xr-section-summary-in:checked + label:before {\n",
       "  content: '▼';\n",
       "}\n",
       "\n",
       ".xr-section-summary-in:checked + label > span {\n",
       "  display: none;\n",
       "}\n",
       "\n",
       ".xr-section-summary,\n",
       ".xr-section-inline-details {\n",
       "  padding-top: 4px;\n",
       "  padding-bottom: 4px;\n",
       "}\n",
       "\n",
       ".xr-section-inline-details {\n",
       "  grid-column: 2 / -1;\n",
       "}\n",
       "\n",
       ".xr-section-details {\n",
       "  display: none;\n",
       "  grid-column: 1 / -1;\n",
       "  margin-bottom: 5px;\n",
       "}\n",
       "\n",
       ".xr-section-summary-in:checked ~ .xr-section-details {\n",
       "  display: contents;\n",
       "}\n",
       "\n",
       ".xr-array-wrap {\n",
       "  grid-column: 1 / -1;\n",
       "  display: grid;\n",
       "  grid-template-columns: 20px auto;\n",
       "}\n",
       "\n",
       ".xr-array-wrap > label {\n",
       "  grid-column: 1;\n",
       "  vertical-align: top;\n",
       "}\n",
       "\n",
       ".xr-preview {\n",
       "  color: var(--xr-font-color3);\n",
       "}\n",
       "\n",
       ".xr-array-preview,\n",
       ".xr-array-data {\n",
       "  padding: 0 5px !important;\n",
       "  grid-column: 2;\n",
       "}\n",
       "\n",
       ".xr-array-data,\n",
       ".xr-array-in:checked ~ .xr-array-preview {\n",
       "  display: none;\n",
       "}\n",
       "\n",
       ".xr-array-in:checked ~ .xr-array-data,\n",
       ".xr-array-preview {\n",
       "  display: inline-block;\n",
       "}\n",
       "\n",
       ".xr-dim-list {\n",
       "  display: inline-block !important;\n",
       "  list-style: none;\n",
       "  padding: 0 !important;\n",
       "  margin: 0;\n",
       "}\n",
       "\n",
       ".xr-dim-list li {\n",
       "  display: inline-block;\n",
       "  padding: 0;\n",
       "  margin: 0;\n",
       "}\n",
       "\n",
       ".xr-dim-list:before {\n",
       "  content: '(';\n",
       "}\n",
       "\n",
       ".xr-dim-list:after {\n",
       "  content: ')';\n",
       "}\n",
       "\n",
       ".xr-dim-list li:not(:last-child):after {\n",
       "  content: ',';\n",
       "  padding-right: 5px;\n",
       "}\n",
       "\n",
       ".xr-has-index {\n",
       "  font-weight: bold;\n",
       "}\n",
       "\n",
       ".xr-var-list,\n",
       ".xr-var-item {\n",
       "  display: contents;\n",
       "}\n",
       "\n",
       ".xr-var-item > div,\n",
       ".xr-var-item label,\n",
       ".xr-var-item > .xr-var-name span {\n",
       "  background-color: var(--xr-background-color-row-even);\n",
       "  margin-bottom: 0;\n",
       "}\n",
       "\n",
       ".xr-var-item > .xr-var-name:hover span {\n",
       "  padding-right: 5px;\n",
       "}\n",
       "\n",
       ".xr-var-list > li:nth-child(odd) > div,\n",
       ".xr-var-list > li:nth-child(odd) > label,\n",
       ".xr-var-list > li:nth-child(odd) > .xr-var-name span {\n",
       "  background-color: var(--xr-background-color-row-odd);\n",
       "}\n",
       "\n",
       ".xr-var-name {\n",
       "  grid-column: 1;\n",
       "}\n",
       "\n",
       ".xr-var-dims {\n",
       "  grid-column: 2;\n",
       "}\n",
       "\n",
       ".xr-var-dtype {\n",
       "  grid-column: 3;\n",
       "  text-align: right;\n",
       "  color: var(--xr-font-color2);\n",
       "}\n",
       "\n",
       ".xr-var-preview {\n",
       "  grid-column: 4;\n",
       "}\n",
       "\n",
       ".xr-index-preview {\n",
       "  grid-column: 2 / 5;\n",
       "  color: var(--xr-font-color2);\n",
       "}\n",
       "\n",
       ".xr-var-name,\n",
       ".xr-var-dims,\n",
       ".xr-var-dtype,\n",
       ".xr-preview,\n",
       ".xr-attrs dt {\n",
       "  white-space: nowrap;\n",
       "  overflow: hidden;\n",
       "  text-overflow: ellipsis;\n",
       "  padding-right: 10px;\n",
       "}\n",
       "\n",
       ".xr-var-name:hover,\n",
       ".xr-var-dims:hover,\n",
       ".xr-var-dtype:hover,\n",
       ".xr-attrs dt:hover {\n",
       "  overflow: visible;\n",
       "  width: auto;\n",
       "  z-index: 1;\n",
       "}\n",
       "\n",
       ".xr-var-attrs,\n",
       ".xr-var-data,\n",
       ".xr-index-data {\n",
       "  display: none;\n",
       "  background-color: var(--xr-background-color) !important;\n",
       "  padding-bottom: 5px !important;\n",
       "}\n",
       "\n",
       ".xr-var-attrs-in:checked ~ .xr-var-attrs,\n",
       ".xr-var-data-in:checked ~ .xr-var-data,\n",
       ".xr-index-data-in:checked ~ .xr-index-data {\n",
       "  display: block;\n",
       "}\n",
       "\n",
       ".xr-var-data > table {\n",
       "  float: right;\n",
       "}\n",
       "\n",
       ".xr-var-name span,\n",
       ".xr-var-data,\n",
       ".xr-index-name div,\n",
       ".xr-index-data,\n",
       ".xr-attrs {\n",
       "  padding-left: 25px !important;\n",
       "}\n",
       "\n",
       ".xr-attrs,\n",
       ".xr-var-attrs,\n",
       ".xr-var-data,\n",
       ".xr-index-data {\n",
       "  grid-column: 1 / -1;\n",
       "}\n",
       "\n",
       "dl.xr-attrs {\n",
       "  padding: 0;\n",
       "  margin: 0;\n",
       "  display: grid;\n",
       "  grid-template-columns: 125px auto;\n",
       "}\n",
       "\n",
       ".xr-attrs dt,\n",
       ".xr-attrs dd {\n",
       "  padding: 0;\n",
       "  margin: 0;\n",
       "  float: left;\n",
       "  padding-right: 10px;\n",
       "  width: auto;\n",
       "}\n",
       "\n",
       ".xr-attrs dt {\n",
       "  font-weight: normal;\n",
       "  grid-column: 1;\n",
       "}\n",
       "\n",
       ".xr-attrs dt:hover span {\n",
       "  display: inline-block;\n",
       "  background: var(--xr-background-color);\n",
       "  padding-right: 10px;\n",
       "}\n",
       "\n",
       ".xr-attrs dd {\n",
       "  grid-column: 2;\n",
       "  white-space: pre-wrap;\n",
       "  word-break: break-all;\n",
       "}\n",
       "\n",
       ".xr-icon-database,\n",
       ".xr-icon-file-text2,\n",
       ".xr-no-icon {\n",
       "  display: inline-block;\n",
       "  vertical-align: middle;\n",
       "  width: 1em;\n",
       "  height: 1.5em !important;\n",
       "  stroke-width: 0;\n",
       "  stroke: currentColor;\n",
       "  fill: currentColor;\n",
       "}\n",
       "</style><pre class='xr-text-repr-fallback'>&lt;xarray.Dataset&gt;\n",
       "Dimensions:     (time: 1, step: 125, surface: 1, latitude: 125, longitude: 93,\n",
       "                 number: 1)\n",
       "Coordinates:\n",
       "  * time        (time) datetime64[ns] 2017-12-02\n",
       "  * step        (step) timedelta64[ns] 00:00:00 01:00:00 ... 10 days 00:00:00\n",
       "  * surface     (surface) float64 0.0\n",
       "  * latitude    (latitude) float64 67.0 66.75 66.5 66.25 ... 36.5 36.25 36.0\n",
       "  * longitude   (longitude) float64 -6.0 -5.75 -5.5 -5.25 ... 16.5 16.75 17.0\n",
       "  * number      (number) int64 0\n",
       "    valid_time  (time, step) datetime64[ns] 2017-12-02 ... 2017-12-12\n",
       "Data variables:\n",
       "    t2m         (number, time, step, surface, latitude, longitude) float64 27...\n",
       "Attributes:\n",
       "    GRIB_edition:            1\n",
       "    GRIB_centre:             ecmf\n",
       "    GRIB_centreDescription:  European Centre for Medium-Range Weather Forecasts\n",
       "    GRIB_subCentre:          0\n",
       "    Conventions:             CF-1.7\n",
       "    institution:             European Centre for Medium-Range Weather Forecasts\n",
       "    history:                 2024-04-29T19:06 GRIB to CDM+CF via cfgrib-0.9.1...</pre><div class='xr-wrap' style='display:none'><div class='xr-header'><div class='xr-obj-type'>xarray.Dataset</div></div><ul class='xr-sections'><li class='xr-section-item'><input id='section-650dc8f7-e292-42ed-9dce-238f8344ce5f' class='xr-section-summary-in' type='checkbox' disabled ><label for='section-650dc8f7-e292-42ed-9dce-238f8344ce5f' class='xr-section-summary'  title='Expand/collapse section'>Dimensions:</label><div class='xr-section-inline-details'><ul class='xr-dim-list'><li><span class='xr-has-index'>time</span>: 1</li><li><span class='xr-has-index'>step</span>: 125</li><li><span class='xr-has-index'>surface</span>: 1</li><li><span class='xr-has-index'>latitude</span>: 125</li><li><span class='xr-has-index'>longitude</span>: 93</li><li><span class='xr-has-index'>number</span>: 1</li></ul></div><div class='xr-section-details'></div></li><li class='xr-section-item'><input id='section-dfb484f5-085c-4cc8-8a7e-f6bec2ec9862' class='xr-section-summary-in' type='checkbox'  checked><label for='section-dfb484f5-085c-4cc8-8a7e-f6bec2ec9862' class='xr-section-summary' >Coordinates: <span>(7)</span></label><div class='xr-section-inline-details'></div><div class='xr-section-details'><ul class='xr-var-list'><li class='xr-var-item'><div class='xr-var-name'><span class='xr-has-index'>time</span></div><div class='xr-var-dims'>(time)</div><div class='xr-var-dtype'>datetime64[ns]</div><div class='xr-var-preview xr-preview'>2017-12-02</div><input id='attrs-9e2bb526-a00c-4bab-bda8-bc37e1f8c1cc' class='xr-var-attrs-in' type='checkbox' ><label for='attrs-9e2bb526-a00c-4bab-bda8-bc37e1f8c1cc' title='Show/Hide attributes'><svg class='icon xr-icon-file-text2'><use xlink:href='#icon-file-text2'></use></svg></label><input id='data-b9841590-a1f1-42b4-a42c-4f1610941772' class='xr-var-data-in' type='checkbox'><label for='data-b9841590-a1f1-42b4-a42c-4f1610941772' title='Show/Hide data repr'><svg class='icon xr-icon-database'><use xlink:href='#icon-database'></use></svg></label><div class='xr-var-attrs'><dl class='xr-attrs'><dt><span>long_name :</span></dt><dd>initial time of forecast</dd><dt><span>standard_name :</span></dt><dd>forecast_reference_time</dd></dl></div><div class='xr-var-data'><pre>array([&#x27;2017-12-02T00:00:00.000000000&#x27;], dtype=&#x27;datetime64[ns]&#x27;)</pre></div></li><li class='xr-var-item'><div class='xr-var-name'><span class='xr-has-index'>step</span></div><div class='xr-var-dims'>(step)</div><div class='xr-var-dtype'>timedelta64[ns]</div><div class='xr-var-preview xr-preview'>00:00:00 ... 10 days 00:00:00</div><input id='attrs-98592463-f699-4fd0-8d8c-47956b5979f5' class='xr-var-attrs-in' type='checkbox' ><label for='attrs-98592463-f699-4fd0-8d8c-47956b5979f5' title='Show/Hide attributes'><svg class='icon xr-icon-file-text2'><use xlink:href='#icon-file-text2'></use></svg></label><input id='data-8be60bff-b448-4a9a-aba0-3fc834766bbf' class='xr-var-data-in' type='checkbox'><label for='data-8be60bff-b448-4a9a-aba0-3fc834766bbf' title='Show/Hide data repr'><svg class='icon xr-icon-database'><use xlink:href='#icon-database'></use></svg></label><div class='xr-var-attrs'><dl class='xr-attrs'><dt><span>long_name :</span></dt><dd>time since forecast_reference_time</dd><dt><span>standard_name :</span></dt><dd>forecast_period</dd></dl></div><div class='xr-var-data'><pre>array([              0,   3600000000000,   7200000000000,  10800000000000,\n",
       "        14400000000000,  18000000000000,  21600000000000,  25200000000000,\n",
       "        28800000000000,  32400000000000,  36000000000000,  39600000000000,\n",
       "        43200000000000,  46800000000000,  50400000000000,  54000000000000,\n",
       "        57600000000000,  61200000000000,  64800000000000,  68400000000000,\n",
       "        72000000000000,  75600000000000,  79200000000000,  82800000000000,\n",
       "        86400000000000,  90000000000000,  93600000000000,  97200000000000,\n",
       "       100800000000000, 104400000000000, 108000000000000, 111600000000000,\n",
       "       115200000000000, 118800000000000, 122400000000000, 126000000000000,\n",
       "       129600000000000, 133200000000000, 136800000000000, 140400000000000,\n",
       "       144000000000000, 147600000000000, 151200000000000, 154800000000000,\n",
       "       158400000000000, 162000000000000, 165600000000000, 169200000000000,\n",
       "       172800000000000, 176400000000000, 180000000000000, 183600000000000,\n",
       "       187200000000000, 190800000000000, 194400000000000, 198000000000000,\n",
       "       201600000000000, 205200000000000, 208800000000000, 212400000000000,\n",
       "       216000000000000, 219600000000000, 223200000000000, 226800000000000,\n",
       "       230400000000000, 234000000000000, 237600000000000, 241200000000000,\n",
       "       244800000000000, 248400000000000, 252000000000000, 255600000000000,\n",
       "       259200000000000, 262800000000000, 266400000000000, 270000000000000,\n",
       "       273600000000000, 277200000000000, 280800000000000, 284400000000000,\n",
       "       288000000000000, 291600000000000, 295200000000000, 298800000000000,\n",
       "       302400000000000, 306000000000000, 309600000000000, 313200000000000,\n",
       "       316800000000000, 320400000000000, 324000000000000, 334800000000000,\n",
       "       345600000000000, 356400000000000, 367200000000000, 378000000000000,\n",
       "       388800000000000, 399600000000000, 410400000000000, 421200000000000,\n",
       "       432000000000000, 442800000000000, 453600000000000, 464400000000000,\n",
       "       475200000000000, 486000000000000, 496800000000000, 507600000000000,\n",
       "       518400000000000, 540000000000000, 561600000000000, 583200000000000,\n",
       "       604800000000000, 626400000000000, 648000000000000, 669600000000000,\n",
       "       691200000000000, 712800000000000, 734400000000000, 756000000000000,\n",
       "       777600000000000, 799200000000000, 820800000000000, 842400000000000,\n",
       "       864000000000000], dtype=&#x27;timedelta64[ns]&#x27;)</pre></div></li><li class='xr-var-item'><div class='xr-var-name'><span class='xr-has-index'>surface</span></div><div class='xr-var-dims'>(surface)</div><div class='xr-var-dtype'>float64</div><div class='xr-var-preview xr-preview'>0.0</div><input id='attrs-f2a57034-43b7-427e-865e-c43b72c52be1' class='xr-var-attrs-in' type='checkbox' ><label for='attrs-f2a57034-43b7-427e-865e-c43b72c52be1' title='Show/Hide attributes'><svg class='icon xr-icon-file-text2'><use xlink:href='#icon-file-text2'></use></svg></label><input id='data-f7027b89-5d7f-459d-a180-a410f26e77f2' class='xr-var-data-in' type='checkbox'><label for='data-f7027b89-5d7f-459d-a180-a410f26e77f2' title='Show/Hide data repr'><svg class='icon xr-icon-database'><use xlink:href='#icon-database'></use></svg></label><div class='xr-var-attrs'><dl class='xr-attrs'><dt><span>long_name :</span></dt><dd>original GRIB coordinate for key: level(surface)</dd><dt><span>units :</span></dt><dd>1</dd></dl></div><div class='xr-var-data'><pre>array([0.])</pre></div></li><li class='xr-var-item'><div class='xr-var-name'><span class='xr-has-index'>latitude</span></div><div class='xr-var-dims'>(latitude)</div><div class='xr-var-dtype'>float64</div><div class='xr-var-preview xr-preview'>67.0 66.75 66.5 ... 36.5 36.25 36.0</div><input id='attrs-aca474ef-151c-4c11-8b87-491604690cc8' class='xr-var-attrs-in' type='checkbox' ><label for='attrs-aca474ef-151c-4c11-8b87-491604690cc8' title='Show/Hide attributes'><svg class='icon xr-icon-file-text2'><use xlink:href='#icon-file-text2'></use></svg></label><input id='data-7834ec9c-3922-474e-9fd4-97163dda886e' class='xr-var-data-in' type='checkbox'><label for='data-7834ec9c-3922-474e-9fd4-97163dda886e' title='Show/Hide data repr'><svg class='icon xr-icon-database'><use xlink:href='#icon-database'></use></svg></label><div class='xr-var-attrs'><dl class='xr-attrs'><dt><span>units :</span></dt><dd>degrees_north</dd><dt><span>standard_name :</span></dt><dd>latitude</dd><dt><span>long_name :</span></dt><dd>latitude</dd><dt><span>stored_direction :</span></dt><dd>decreasing</dd></dl></div><div class='xr-var-data'><pre>array([67.  , 66.75, 66.5 , 66.25, 66.  , 65.75, 65.5 , 65.25, 65.  , 64.75,\n",
       "       64.5 , 64.25, 64.  , 63.75, 63.5 , 63.25, 63.  , 62.75, 62.5 , 62.25,\n",
       "       62.  , 61.75, 61.5 , 61.25, 61.  , 60.75, 60.5 , 60.25, 60.  , 59.75,\n",
       "       59.5 , 59.25, 59.  , 58.75, 58.5 , 58.25, 58.  , 57.75, 57.5 , 57.25,\n",
       "       57.  , 56.75, 56.5 , 56.25, 56.  , 55.75, 55.5 , 55.25, 55.  , 54.75,\n",
       "       54.5 , 54.25, 54.  , 53.75, 53.5 , 53.25, 53.  , 52.75, 52.5 , 52.25,\n",
       "       52.  , 51.75, 51.5 , 51.25, 51.  , 50.75, 50.5 , 50.25, 50.  , 49.75,\n",
       "       49.5 , 49.25, 49.  , 48.75, 48.5 , 48.25, 48.  , 47.75, 47.5 , 47.25,\n",
       "       47.  , 46.75, 46.5 , 46.25, 46.  , 45.75, 45.5 , 45.25, 45.  , 44.75,\n",
       "       44.5 , 44.25, 44.  , 43.75, 43.5 , 43.25, 43.  , 42.75, 42.5 , 42.25,\n",
       "       42.  , 41.75, 41.5 , 41.25, 41.  , 40.75, 40.5 , 40.25, 40.  , 39.75,\n",
       "       39.5 , 39.25, 39.  , 38.75, 38.5 , 38.25, 38.  , 37.75, 37.5 , 37.25,\n",
       "       37.  , 36.75, 36.5 , 36.25, 36.  ])</pre></div></li><li class='xr-var-item'><div class='xr-var-name'><span class='xr-has-index'>longitude</span></div><div class='xr-var-dims'>(longitude)</div><div class='xr-var-dtype'>float64</div><div class='xr-var-preview xr-preview'>-6.0 -5.75 -5.5 ... 16.5 16.75 17.0</div><input id='attrs-42dae51d-5d69-4e47-a821-29f2ac7e94e1' class='xr-var-attrs-in' type='checkbox' ><label for='attrs-42dae51d-5d69-4e47-a821-29f2ac7e94e1' title='Show/Hide attributes'><svg class='icon xr-icon-file-text2'><use xlink:href='#icon-file-text2'></use></svg></label><input id='data-9e0d9e58-f0cf-4f61-9571-4baea75f5fee' class='xr-var-data-in' type='checkbox'><label for='data-9e0d9e58-f0cf-4f61-9571-4baea75f5fee' title='Show/Hide data repr'><svg class='icon xr-icon-database'><use xlink:href='#icon-database'></use></svg></label><div class='xr-var-attrs'><dl class='xr-attrs'><dt><span>units :</span></dt><dd>degrees_east</dd><dt><span>standard_name :</span></dt><dd>longitude</dd><dt><span>long_name :</span></dt><dd>longitude</dd></dl></div><div class='xr-var-data'><pre>array([-6.  , -5.75, -5.5 , -5.25, -5.  , -4.75, -4.5 , -4.25, -4.  , -3.75,\n",
       "       -3.5 , -3.25, -3.  , -2.75, -2.5 , -2.25, -2.  , -1.75, -1.5 , -1.25,\n",
       "       -1.  , -0.75, -0.5 , -0.25,  0.  ,  0.25,  0.5 ,  0.75,  1.  ,  1.25,\n",
       "        1.5 ,  1.75,  2.  ,  2.25,  2.5 ,  2.75,  3.  ,  3.25,  3.5 ,  3.75,\n",
       "        4.  ,  4.25,  4.5 ,  4.75,  5.  ,  5.25,  5.5 ,  5.75,  6.  ,  6.25,\n",
       "        6.5 ,  6.75,  7.  ,  7.25,  7.5 ,  7.75,  8.  ,  8.25,  8.5 ,  8.75,\n",
       "        9.  ,  9.25,  9.5 ,  9.75, 10.  , 10.25, 10.5 , 10.75, 11.  , 11.25,\n",
       "       11.5 , 11.75, 12.  , 12.25, 12.5 , 12.75, 13.  , 13.25, 13.5 , 13.75,\n",
       "       14.  , 14.25, 14.5 , 14.75, 15.  , 15.25, 15.5 , 15.75, 16.  , 16.25,\n",
       "       16.5 , 16.75, 17.  ])</pre></div></li><li class='xr-var-item'><div class='xr-var-name'><span class='xr-has-index'>number</span></div><div class='xr-var-dims'>(number)</div><div class='xr-var-dtype'>int64</div><div class='xr-var-preview xr-preview'>0</div><input id='attrs-f3ac262e-002a-4108-ba3f-3539d26c9a24' class='xr-var-attrs-in' type='checkbox' ><label for='attrs-f3ac262e-002a-4108-ba3f-3539d26c9a24' title='Show/Hide attributes'><svg class='icon xr-icon-file-text2'><use xlink:href='#icon-file-text2'></use></svg></label><input id='data-d1b1ccf9-7a1b-49a8-9ffe-f5ade6494715' class='xr-var-data-in' type='checkbox'><label for='data-d1b1ccf9-7a1b-49a8-9ffe-f5ade6494715' title='Show/Hide data repr'><svg class='icon xr-icon-database'><use xlink:href='#icon-database'></use></svg></label><div class='xr-var-attrs'><dl class='xr-attrs'><dt><span>long_name :</span></dt><dd>ensemble member numerical id</dd><dt><span>units :</span></dt><dd>1</dd><dt><span>standard_name :</span></dt><dd>realization</dd></dl></div><div class='xr-var-data'><pre>array([0])</pre></div></li><li class='xr-var-item'><div class='xr-var-name'><span>valid_time</span></div><div class='xr-var-dims'>(time, step)</div><div class='xr-var-dtype'>datetime64[ns]</div><div class='xr-var-preview xr-preview'>2017-12-02 ... 2017-12-12</div><input id='attrs-97f36875-d617-4fbe-8609-df19fd2efe72' class='xr-var-attrs-in' type='checkbox' ><label for='attrs-97f36875-d617-4fbe-8609-df19fd2efe72' title='Show/Hide attributes'><svg class='icon xr-icon-file-text2'><use xlink:href='#icon-file-text2'></use></svg></label><input id='data-41c505c9-8f6c-4801-94f2-fc872d79aaf1' class='xr-var-data-in' type='checkbox'><label for='data-41c505c9-8f6c-4801-94f2-fc872d79aaf1' title='Show/Hide data repr'><svg class='icon xr-icon-database'><use xlink:href='#icon-database'></use></svg></label><div class='xr-var-attrs'><dl class='xr-attrs'><dt><span>standard_name :</span></dt><dd>time</dd><dt><span>long_name :</span></dt><dd>time</dd></dl></div><div class='xr-var-data'><pre>array([[&#x27;2017-12-02T00:00:00.000000000&#x27;, &#x27;2017-12-02T01:00:00.000000000&#x27;,\n",
       "        &#x27;2017-12-02T02:00:00.000000000&#x27;, &#x27;2017-12-02T03:00:00.000000000&#x27;,\n",
       "        &#x27;2017-12-02T04:00:00.000000000&#x27;, &#x27;2017-12-02T05:00:00.000000000&#x27;,\n",
       "        &#x27;2017-12-02T06:00:00.000000000&#x27;, &#x27;2017-12-02T07:00:00.000000000&#x27;,\n",
       "        &#x27;2017-12-02T08:00:00.000000000&#x27;, &#x27;2017-12-02T09:00:00.000000000&#x27;,\n",
       "        &#x27;2017-12-02T10:00:00.000000000&#x27;, &#x27;2017-12-02T11:00:00.000000000&#x27;,\n",
       "        &#x27;2017-12-02T12:00:00.000000000&#x27;, &#x27;2017-12-02T13:00:00.000000000&#x27;,\n",
       "        &#x27;2017-12-02T14:00:00.000000000&#x27;, &#x27;2017-12-02T15:00:00.000000000&#x27;,\n",
       "        &#x27;2017-12-02T16:00:00.000000000&#x27;, &#x27;2017-12-02T17:00:00.000000000&#x27;,\n",
       "        &#x27;2017-12-02T18:00:00.000000000&#x27;, &#x27;2017-12-02T19:00:00.000000000&#x27;,\n",
       "        &#x27;2017-12-02T20:00:00.000000000&#x27;, &#x27;2017-12-02T21:00:00.000000000&#x27;,\n",
       "        &#x27;2017-12-02T22:00:00.000000000&#x27;, &#x27;2017-12-02T23:00:00.000000000&#x27;,\n",
       "        &#x27;2017-12-03T00:00:00.000000000&#x27;, &#x27;2017-12-03T01:00:00.000000000&#x27;,\n",
       "        &#x27;2017-12-03T02:00:00.000000000&#x27;, &#x27;2017-12-03T03:00:00.000000000&#x27;,\n",
       "        &#x27;2017-12-03T04:00:00.000000000&#x27;, &#x27;2017-12-03T05:00:00.000000000&#x27;,\n",
       "        &#x27;2017-12-03T06:00:00.000000000&#x27;, &#x27;2017-12-03T07:00:00.000000000&#x27;,\n",
       "        &#x27;2017-12-03T08:00:00.000000000&#x27;, &#x27;2017-12-03T09:00:00.000000000&#x27;,\n",
       "        &#x27;2017-12-03T10:00:00.000000000&#x27;, &#x27;2017-12-03T11:00:00.000000000&#x27;,\n",
       "        &#x27;2017-12-03T12:00:00.000000000&#x27;, &#x27;2017-12-03T13:00:00.000000000&#x27;,\n",
       "        &#x27;2017-12-03T14:00:00.000000000&#x27;, &#x27;2017-12-03T15:00:00.000000000&#x27;,\n",
       "...\n",
       "        &#x27;2017-12-05T14:00:00.000000000&#x27;, &#x27;2017-12-05T15:00:00.000000000&#x27;,\n",
       "        &#x27;2017-12-05T16:00:00.000000000&#x27;, &#x27;2017-12-05T17:00:00.000000000&#x27;,\n",
       "        &#x27;2017-12-05T18:00:00.000000000&#x27;, &#x27;2017-12-05T21:00:00.000000000&#x27;,\n",
       "        &#x27;2017-12-06T00:00:00.000000000&#x27;, &#x27;2017-12-06T03:00:00.000000000&#x27;,\n",
       "        &#x27;2017-12-06T06:00:00.000000000&#x27;, &#x27;2017-12-06T09:00:00.000000000&#x27;,\n",
       "        &#x27;2017-12-06T12:00:00.000000000&#x27;, &#x27;2017-12-06T15:00:00.000000000&#x27;,\n",
       "        &#x27;2017-12-06T18:00:00.000000000&#x27;, &#x27;2017-12-06T21:00:00.000000000&#x27;,\n",
       "        &#x27;2017-12-07T00:00:00.000000000&#x27;, &#x27;2017-12-07T03:00:00.000000000&#x27;,\n",
       "        &#x27;2017-12-07T06:00:00.000000000&#x27;, &#x27;2017-12-07T09:00:00.000000000&#x27;,\n",
       "        &#x27;2017-12-07T12:00:00.000000000&#x27;, &#x27;2017-12-07T15:00:00.000000000&#x27;,\n",
       "        &#x27;2017-12-07T18:00:00.000000000&#x27;, &#x27;2017-12-07T21:00:00.000000000&#x27;,\n",
       "        &#x27;2017-12-08T00:00:00.000000000&#x27;, &#x27;2017-12-08T06:00:00.000000000&#x27;,\n",
       "        &#x27;2017-12-08T12:00:00.000000000&#x27;, &#x27;2017-12-08T18:00:00.000000000&#x27;,\n",
       "        &#x27;2017-12-09T00:00:00.000000000&#x27;, &#x27;2017-12-09T06:00:00.000000000&#x27;,\n",
       "        &#x27;2017-12-09T12:00:00.000000000&#x27;, &#x27;2017-12-09T18:00:00.000000000&#x27;,\n",
       "        &#x27;2017-12-10T00:00:00.000000000&#x27;, &#x27;2017-12-10T06:00:00.000000000&#x27;,\n",
       "        &#x27;2017-12-10T12:00:00.000000000&#x27;, &#x27;2017-12-10T18:00:00.000000000&#x27;,\n",
       "        &#x27;2017-12-11T00:00:00.000000000&#x27;, &#x27;2017-12-11T06:00:00.000000000&#x27;,\n",
       "        &#x27;2017-12-11T12:00:00.000000000&#x27;, &#x27;2017-12-11T18:00:00.000000000&#x27;,\n",
       "        &#x27;2017-12-12T00:00:00.000000000&#x27;]], dtype=&#x27;datetime64[ns]&#x27;)</pre></div></li></ul></div></li><li class='xr-section-item'><input id='section-2b0e741e-fdbd-4398-a2c5-bad3740e5766' class='xr-section-summary-in' type='checkbox'  checked><label for='section-2b0e741e-fdbd-4398-a2c5-bad3740e5766' class='xr-section-summary' >Data variables: <span>(1)</span></label><div class='xr-section-inline-details'></div><div class='xr-section-details'><ul class='xr-var-list'><li class='xr-var-item'><div class='xr-var-name'><span>t2m</span></div><div class='xr-var-dims'>(number, time, step, surface, latitude, longitude)</div><div class='xr-var-dtype'>float64</div><div class='xr-var-preview xr-preview'>278.4 278.4 278.5 ... 290.5 290.5</div><input id='attrs-eae22058-2961-407f-8ad6-9d6bc43a32d4' class='xr-var-attrs-in' type='checkbox' ><label for='attrs-eae22058-2961-407f-8ad6-9d6bc43a32d4' title='Show/Hide attributes'><svg class='icon xr-icon-file-text2'><use xlink:href='#icon-file-text2'></use></svg></label><input id='data-ff8663a3-c90f-46c3-b58d-a86064a0d7b2' class='xr-var-data-in' type='checkbox'><label for='data-ff8663a3-c90f-46c3-b58d-a86064a0d7b2' title='Show/Hide data repr'><svg class='icon xr-icon-database'><use xlink:href='#icon-database'></use></svg></label><div class='xr-var-attrs'><dl class='xr-attrs'><dt><span>GRIB_paramId :</span></dt><dd>167</dd><dt><span>GRIB_dataType :</span></dt><dd>an</dd><dt><span>GRIB_numberOfPoints :</span></dt><dd>11625</dd><dt><span>GRIB_typeOfLevel :</span></dt><dd>surface</dd><dt><span>GRIB_stepUnits :</span></dt><dd>1</dd><dt><span>GRIB_stepType :</span></dt><dd>instant</dd><dt><span>GRIB_gridType :</span></dt><dd>regular_ll</dd><dt><span>GRIB_NV :</span></dt><dd>0</dd><dt><span>GRIB_Nx :</span></dt><dd>93</dd><dt><span>GRIB_Ny :</span></dt><dd>125</dd><dt><span>GRIB_cfName :</span></dt><dd>unknown</dd><dt><span>GRIB_cfVarName :</span></dt><dd>t2m</dd><dt><span>GRIB_gridDefinitionDescription :</span></dt><dd>Latitude/Longitude Grid</dd><dt><span>GRIB_iDirectionIncrementInDegrees :</span></dt><dd>0.25</dd><dt><span>GRIB_iScansNegatively :</span></dt><dd>0</dd><dt><span>GRIB_jDirectionIncrementInDegrees :</span></dt><dd>0.25</dd><dt><span>GRIB_jPointsAreConsecutive :</span></dt><dd>0</dd><dt><span>GRIB_jScansPositively :</span></dt><dd>0</dd><dt><span>GRIB_latitudeOfFirstGridPointInDegrees :</span></dt><dd>67.0</dd><dt><span>GRIB_latitudeOfLastGridPointInDegrees :</span></dt><dd>36.0</dd><dt><span>GRIB_longitudeOfFirstGridPointInDegrees :</span></dt><dd>-6.0</dd><dt><span>GRIB_longitudeOfLastGridPointInDegrees :</span></dt><dd>17.0</dd><dt><span>GRIB_missingValue :</span></dt><dd>9999</dd><dt><span>GRIB_name :</span></dt><dd>2 metre temperature</dd><dt><span>GRIB_shortName :</span></dt><dd>2t</dd><dt><span>GRIB_totalNumber :</span></dt><dd>0</dd><dt><span>GRIB_units :</span></dt><dd>K</dd><dt><span>long_name :</span></dt><dd>2 metre temperature</dd><dt><span>units :</span></dt><dd>K</dd><dt><span>standard_name :</span></dt><dd>unknown</dd></dl></div><div class='xr-var-data'><pre>array([[[[[[278.36410522, 278.43637085, 278.50668335, ...,\n",
       "            267.94613647, 266.99301147, 266.16293335],\n",
       "           [278.30160522, 278.39926147, 278.49887085, ...,\n",
       "            266.94418335, 265.89926147, 264.88949585],\n",
       "           [278.2449646 , 278.32504272, 278.40316772, ...,\n",
       "            267.7840271 , 267.54574585, 266.72543335],\n",
       "           ...,\n",
       "           [280.84457397, 279.17074585, 278.6434021 , ...,\n",
       "            289.33676147, 289.45394897, 289.63754272],\n",
       "           [283.97348022, 281.73519897, 282.74301147, ...,\n",
       "            289.68637085, 289.80551147, 289.99887085],\n",
       "           [286.68832397, 283.43637085, 284.4480896 , ...,\n",
       "            289.8699646 , 290.03793335, 290.2215271 ]]],\n",
       "\n",
       "\n",
       "         [[[278.28063965, 278.36071777, 278.4407959 , ...,\n",
       "            268.36462402, 267.49743652, 266.65563965],\n",
       "           [278.2454834 , 278.34899902, 278.45446777, ...,\n",
       "            267.30603027, 266.34899902, 265.3626709 ],\n",
       "           [278.23571777, 278.31384277, 278.39001465, ...,\n",
       "...\n",
       "            290.5617981 , 290.44265747, 290.17703247],\n",
       "           [287.13796997, 285.41726685, 285.29031372, ...,\n",
       "            290.56375122, 290.4446106 , 290.22390747],\n",
       "           [287.95632935, 286.87039185, 286.74343872, ...,\n",
       "            290.5227356 , 290.46414185, 290.25515747]]],\n",
       "\n",
       "\n",
       "         [[[276.06201172, 276.14794922, 276.23193359, ...,\n",
       "            265.14208984, 265.40771484, 265.31201172],\n",
       "           [275.89599609, 276.03857422, 276.18701172, ...,\n",
       "            265.89599609, 266.21435547, 266.52294922],\n",
       "           [275.62451172, 275.77880859, 275.93310547, ...,\n",
       "            267.04052734, 267.59130859, 267.76904297],\n",
       "           ...,\n",
       "           [282.84130859, 281.77490234, 280.61865234, ...,\n",
       "            290.38037109, 290.43896484, 290.33544922],\n",
       "           [284.82373047, 283.59521484, 283.98974609, ...,\n",
       "            290.34912109, 290.40966797, 290.39208984],\n",
       "           [286.35107422, 284.60693359, 285.00341797, ...,\n",
       "            290.36474609, 290.45068359, 290.49755859]]]]]])</pre></div></li></ul></div></li><li class='xr-section-item'><input id='section-267b8c36-3786-479d-8f5c-b2ba362d84a2' class='xr-section-summary-in' type='checkbox'  ><label for='section-267b8c36-3786-479d-8f5c-b2ba362d84a2' class='xr-section-summary' >Indexes: <span>(6)</span></label><div class='xr-section-inline-details'></div><div class='xr-section-details'><ul class='xr-var-list'><li class='xr-var-item'><div class='xr-index-name'><div>time</div></div><div class='xr-index-preview'>PandasIndex</div><div></div><input id='index-d55779ef-fabe-4dbb-a0b3-c20891760dea' class='xr-index-data-in' type='checkbox'/><label for='index-d55779ef-fabe-4dbb-a0b3-c20891760dea' title='Show/Hide index repr'><svg class='icon xr-icon-database'><use xlink:href='#icon-database'></use></svg></label><div class='xr-index-data'><pre>PandasIndex(DatetimeIndex([&#x27;2017-12-02&#x27;], dtype=&#x27;datetime64[ns]&#x27;, name=&#x27;time&#x27;, freq=None))</pre></div></li><li class='xr-var-item'><div class='xr-index-name'><div>step</div></div><div class='xr-index-preview'>PandasIndex</div><div></div><input id='index-fc7b37f3-d5aa-4343-9df7-ca15eb11127c' class='xr-index-data-in' type='checkbox'/><label for='index-fc7b37f3-d5aa-4343-9df7-ca15eb11127c' title='Show/Hide index repr'><svg class='icon xr-icon-database'><use xlink:href='#icon-database'></use></svg></label><div class='xr-index-data'><pre>PandasIndex(TimedeltaIndex([ &#x27;0 days 00:00:00&#x27;,  &#x27;0 days 01:00:00&#x27;,  &#x27;0 days 02:00:00&#x27;,\n",
       "                 &#x27;0 days 03:00:00&#x27;,  &#x27;0 days 04:00:00&#x27;,  &#x27;0 days 05:00:00&#x27;,\n",
       "                 &#x27;0 days 06:00:00&#x27;,  &#x27;0 days 07:00:00&#x27;,  &#x27;0 days 08:00:00&#x27;,\n",
       "                 &#x27;0 days 09:00:00&#x27;,\n",
       "                ...\n",
       "                 &#x27;7 days 18:00:00&#x27;,  &#x27;8 days 00:00:00&#x27;,  &#x27;8 days 06:00:00&#x27;,\n",
       "                 &#x27;8 days 12:00:00&#x27;,  &#x27;8 days 18:00:00&#x27;,  &#x27;9 days 00:00:00&#x27;,\n",
       "                 &#x27;9 days 06:00:00&#x27;,  &#x27;9 days 12:00:00&#x27;,  &#x27;9 days 18:00:00&#x27;,\n",
       "                &#x27;10 days 00:00:00&#x27;],\n",
       "               dtype=&#x27;timedelta64[ns]&#x27;, name=&#x27;step&#x27;, length=125, freq=None))</pre></div></li><li class='xr-var-item'><div class='xr-index-name'><div>surface</div></div><div class='xr-index-preview'>PandasIndex</div><div></div><input id='index-8e53536b-a634-4057-a85f-13f9114cb2e9' class='xr-index-data-in' type='checkbox'/><label for='index-8e53536b-a634-4057-a85f-13f9114cb2e9' title='Show/Hide index repr'><svg class='icon xr-icon-database'><use xlink:href='#icon-database'></use></svg></label><div class='xr-index-data'><pre>PandasIndex(Index([0.0], dtype=&#x27;float64&#x27;, name=&#x27;surface&#x27;))</pre></div></li><li class='xr-var-item'><div class='xr-index-name'><div>latitude</div></div><div class='xr-index-preview'>PandasIndex</div><div></div><input id='index-f2de9343-d9be-4517-8e7e-fb9486eebfda' class='xr-index-data-in' type='checkbox'/><label for='index-f2de9343-d9be-4517-8e7e-fb9486eebfda' title='Show/Hide index repr'><svg class='icon xr-icon-database'><use xlink:href='#icon-database'></use></svg></label><div class='xr-index-data'><pre>PandasIndex(Index([ 67.0, 66.75,  66.5, 66.25,  66.0, 65.75,  65.5, 65.25,  65.0, 64.75,\n",
       "       ...\n",
       "       38.25,  38.0, 37.75,  37.5, 37.25,  37.0, 36.75,  36.5, 36.25,  36.0],\n",
       "      dtype=&#x27;float64&#x27;, name=&#x27;latitude&#x27;, length=125))</pre></div></li><li class='xr-var-item'><div class='xr-index-name'><div>longitude</div></div><div class='xr-index-preview'>PandasIndex</div><div></div><input id='index-33721dbb-6c4b-4556-a4ed-a83714d74353' class='xr-index-data-in' type='checkbox'/><label for='index-33721dbb-6c4b-4556-a4ed-a83714d74353' title='Show/Hide index repr'><svg class='icon xr-icon-database'><use xlink:href='#icon-database'></use></svg></label><div class='xr-index-data'><pre>PandasIndex(Index([ -6.0, -5.75,  -5.5, -5.25,  -5.0, -4.75,  -4.5, -4.25,  -4.0, -3.75,\n",
       "        -3.5, -3.25,  -3.0, -2.75,  -2.5, -2.25,  -2.0, -1.75,  -1.5, -1.25,\n",
       "        -1.0, -0.75,  -0.5, -0.25,   0.0,  0.25,   0.5,  0.75,   1.0,  1.25,\n",
       "         1.5,  1.75,   2.0,  2.25,   2.5,  2.75,   3.0,  3.25,   3.5,  3.75,\n",
       "         4.0,  4.25,   4.5,  4.75,   5.0,  5.25,   5.5,  5.75,   6.0,  6.25,\n",
       "         6.5,  6.75,   7.0,  7.25,   7.5,  7.75,   8.0,  8.25,   8.5,  8.75,\n",
       "         9.0,  9.25,   9.5,  9.75,  10.0, 10.25,  10.5, 10.75,  11.0, 11.25,\n",
       "        11.5, 11.75,  12.0, 12.25,  12.5, 12.75,  13.0, 13.25,  13.5, 13.75,\n",
       "        14.0, 14.25,  14.5, 14.75,  15.0, 15.25,  15.5, 15.75,  16.0, 16.25,\n",
       "        16.5, 16.75,  17.0],\n",
       "      dtype=&#x27;float64&#x27;, name=&#x27;longitude&#x27;))</pre></div></li><li class='xr-var-item'><div class='xr-index-name'><div>number</div></div><div class='xr-index-preview'>PandasIndex</div><div></div><input id='index-92e7e477-fd1c-4dbb-ac1f-ebfe64d99f46' class='xr-index-data-in' type='checkbox'/><label for='index-92e7e477-fd1c-4dbb-ac1f-ebfe64d99f46' title='Show/Hide index repr'><svg class='icon xr-icon-database'><use xlink:href='#icon-database'></use></svg></label><div class='xr-index-data'><pre>PandasIndex(Index([0], dtype=&#x27;int64&#x27;, name=&#x27;number&#x27;))</pre></div></li></ul></div></li><li class='xr-section-item'><input id='section-1c98ac53-9bcf-41e9-aaab-2461a8e25d7e' class='xr-section-summary-in' type='checkbox'  checked><label for='section-1c98ac53-9bcf-41e9-aaab-2461a8e25d7e' class='xr-section-summary' >Attributes: <span>(7)</span></label><div class='xr-section-inline-details'></div><div class='xr-section-details'><dl class='xr-attrs'><dt><span>GRIB_edition :</span></dt><dd>1</dd><dt><span>GRIB_centre :</span></dt><dd>ecmf</dd><dt><span>GRIB_centreDescription :</span></dt><dd>European Centre for Medium-Range Weather Forecasts</dd><dt><span>GRIB_subCentre :</span></dt><dd>0</dd><dt><span>Conventions :</span></dt><dd>CF-1.7</dd><dt><span>institution :</span></dt><dd>European Centre for Medium-Range Weather Forecasts</dd><dt><span>history :</span></dt><dd>2024-04-29T19:06 GRIB to CDM+CF via cfgrib-0.9.11.0/ecCodes-2.34.1 with {&quot;source&quot;: &quot;N/A&quot;, &quot;filter_by_keys&quot;: {}, &quot;encode_cf&quot;: [&quot;parameter&quot;, &quot;time&quot;, &quot;geography&quot;, &quot;vertical&quot;]}</dd></dl></div></li></ul></div></div>"
      ],
      "text/plain": [
       "<xarray.Dataset>\n",
       "Dimensions:     (time: 1, step: 125, surface: 1, latitude: 125, longitude: 93,\n",
       "                 number: 1)\n",
       "Coordinates:\n",
       "  * time        (time) datetime64[ns] 2017-12-02\n",
       "  * step        (step) timedelta64[ns] 00:00:00 01:00:00 ... 10 days 00:00:00\n",
       "  * surface     (surface) float64 0.0\n",
       "  * latitude    (latitude) float64 67.0 66.75 66.5 66.25 ... 36.5 36.25 36.0\n",
       "  * longitude   (longitude) float64 -6.0 -5.75 -5.5 -5.25 ... 16.5 16.75 17.0\n",
       "  * number      (number) int64 0\n",
       "    valid_time  (time, step) datetime64[ns] 2017-12-02 ... 2017-12-12\n",
       "Data variables:\n",
       "    t2m         (number, time, step, surface, latitude, longitude) float64 27...\n",
       "Attributes:\n",
       "    GRIB_edition:            1\n",
       "    GRIB_centre:             ecmf\n",
       "    GRIB_centreDescription:  European Centre for Medium-Range Weather Forecasts\n",
       "    GRIB_subCentre:          0\n",
       "    Conventions:             CF-1.7\n",
       "    institution:             European Centre for Medium-Range Weather Forecasts\n",
       "    history:                 2024-04-29T19:06 GRIB to CDM+CF via cfgrib-0.9.1..."
      ]
     },
     "execution_count": 50,
     "metadata": {},
     "output_type": "execute_result"
    }
   ],
   "source": [
    "obs"
   ]
  },
  {
   "cell_type": "code",
   "execution_count": null,
   "id": "3fb457c6-8c26-45b0-b456-e2483dee0aab",
   "metadata": {},
   "outputs": [],
   "source": []
  },
  {
   "cell_type": "code",
   "execution_count": null,
   "id": "28d0b429-032b-43df-8662-4eb02d6130b6",
   "metadata": {},
   "outputs": [],
   "source": []
  },
  {
   "cell_type": "code",
   "execution_count": 66,
   "id": "508cad0f-f6ad-425c-9dad-2c1b634540a3",
   "metadata": {},
   "outputs": [],
   "source": [
    "import pandas as pd\n",
    "from sklearn.linear_model import LinearRegression\n",
    "from sklearn.metrics import mean_squared_error\n",
    "import math\n"
   ]
  },
  {
   "cell_type": "code",
   "execution_count": 68,
   "id": "7c0215e6-0f37-40bb-ad69-f2c3e4b89829",
   "metadata": {},
   "outputs": [],
   "source": [
    "def generate_ensemble_predictions(model, input_data):\n",
    "    # Enable dropout at inference time (Monte Carlo Dropout)\n",
    "    predictions = np.array([model.predict(input_data, training=True) for _ in range(100)])\n",
    "    ensemble_mean = predictions.mean(axis=0)\n",
    "    ensemble_std = predictions.std(axis=0)\n",
    "    return ensemble_mean.flatten(), ensemble_std.flatten()\n"
   ]
  },
  {
   "cell_type": "code",
   "execution_count": null,
   "id": "08f09f72-c958-4382-a85f-5c63d8d74446",
   "metadata": {},
   "outputs": [],
   "source": []
  },
  {
   "cell_type": "code",
   "execution_count": 69,
   "id": "60b68c69-70c9-4ae3-9865-cba8c2096876",
   "metadata": {},
   "outputs": [
    {
     "ename": "NameError",
     "evalue": "name 'ensemble_mean' is not defined",
     "output_type": "error",
     "traceback": [
      "\u001b[0;31m---------------------------------------------------------------------------\u001b[0m",
      "\u001b[0;31mNameError\u001b[0m                                 Traceback (most recent call last)",
      "Cell \u001b[0;32mIn[69], line 9\u001b[0m\n\u001b[1;32m      2\u001b[0m \u001b[38;5;28;01mfrom\u001b[39;00m \u001b[38;5;21;01msklearn\u001b[39;00m\u001b[38;5;21;01m.\u001b[39;00m\u001b[38;5;21;01mlinear_model\u001b[39;00m \u001b[38;5;28;01mimport\u001b[39;00m LinearRegression\n\u001b[1;32m      4\u001b[0m \u001b[38;5;66;03m# Assuming 'days' is an array of day-of-year values corresponding to the forecasts\u001b[39;00m\n\u001b[1;32m      5\u001b[0m X_mu \u001b[38;5;241m=\u001b[39m np\u001b[38;5;241m.\u001b[39mcolumn_stack([\n\u001b[1;32m      6\u001b[0m     np\u001b[38;5;241m.\u001b[39mones(\u001b[38;5;28mlen\u001b[39m(days)),  \u001b[38;5;66;03m# Intercept\u001b[39;00m\n\u001b[1;32m      7\u001b[0m     np\u001b[38;5;241m.\u001b[39msin(\u001b[38;5;241m2\u001b[39m \u001b[38;5;241m*\u001b[39m np\u001b[38;5;241m.\u001b[39mpi \u001b[38;5;241m*\u001b[39m days \u001b[38;5;241m/\u001b[39m \u001b[38;5;241m365\u001b[39m),  \u001b[38;5;66;03m# Seasonal functions for DOY\u001b[39;00m\n\u001b[1;32m      8\u001b[0m     np\u001b[38;5;241m.\u001b[39mcos(\u001b[38;5;241m2\u001b[39m \u001b[38;5;241m*\u001b[39m np\u001b[38;5;241m.\u001b[39mpi \u001b[38;5;241m*\u001b[39m days \u001b[38;5;241m/\u001b[39m \u001b[38;5;241m365\u001b[39m),\n\u001b[0;32m----> 9\u001b[0m     ensemble_mean  \u001b[38;5;66;03m# from generate_ensemble_predictions\u001b[39;00m\n\u001b[1;32m     10\u001b[0m ])\n\u001b[1;32m     12\u001b[0m X_sigma \u001b[38;5;241m=\u001b[39m np\u001b[38;5;241m.\u001b[39mcolumn_stack([\n\u001b[1;32m     13\u001b[0m     np\u001b[38;5;241m.\u001b[39mones(\u001b[38;5;28mlen\u001b[39m(days)),  \u001b[38;5;66;03m# Intercept\u001b[39;00m\n\u001b[1;32m     14\u001b[0m     np\u001b[38;5;241m.\u001b[39msin(\u001b[38;5;241m2\u001b[39m \u001b[38;5;241m*\u001b[39m np\u001b[38;5;241m.\u001b[39mpi \u001b[38;5;241m*\u001b[39m days \u001b[38;5;241m/\u001b[39m \u001b[38;5;241m365\u001b[39m),  \u001b[38;5;66;03m# Seasonal functions for DOY\u001b[39;00m\n\u001b[1;32m     15\u001b[0m     np\u001b[38;5;241m.\u001b[39mcos(\u001b[38;5;241m2\u001b[39m \u001b[38;5;241m*\u001b[39m np\u001b[38;5;241m.\u001b[39mpi \u001b[38;5;241m*\u001b[39m days \u001b[38;5;241m/\u001b[39m \u001b[38;5;241m365\u001b[39m),\n\u001b[1;32m     16\u001b[0m     np\u001b[38;5;241m.\u001b[39mlog(ensemble_std)  \u001b[38;5;66;03m# Log of ensemble standard deviations\u001b[39;00m\n\u001b[1;32m     17\u001b[0m ])\n\u001b[1;32m     19\u001b[0m \u001b[38;5;66;03m# Fit regression models\u001b[39;00m\n",
      "\u001b[0;31mNameError\u001b[0m: name 'ensemble_mean' is not defined"
     ]
    }
   ],
   "source": [
    "import numpy as np\n",
    "from sklearn.linear_model import LinearRegression\n",
    "\n",
    "# Assuming 'days' is an array of day-of-year values corresponding to the forecasts\n",
    "X_mu = np.column_stack([\n",
    "    np.ones(len(days)),  # Intercept\n",
    "    np.sin(2 * np.pi * days / 365),  # Seasonal functions for DOY\n",
    "    np.cos(2 * np.pi * days / 365),\n",
    "    ensemble_mean  # from generate_ensemble_predictions\n",
    "])\n",
    "\n",
    "X_sigma = np.column_stack([\n",
    "    np.ones(len(days)),  # Intercept\n",
    "    np.sin(2 * np.pi * days / 365),  # Seasonal functions for DOY\n",
    "    np.cos(2 * np.pi * days / 365),\n",
    "    np.log(ensemble_std)  # Log of ensemble standard deviations\n",
    "])\n",
    "\n",
    "# Fit regression models\n",
    "model_mu = LinearRegression().fit(X_mu, actual_temperatures)\n",
    "model_sigma = LinearRegression().fit(X_sigma, np.log(ensemble_std))  # Assuming std dev is available\n",
    "\n",
    "# Predict adjusted μ and σ\n",
    "adjusted_mu = model_mu.predict(X_mu)\n",
    "adjusted_sigma = np.exp(model_sigma.predict(X_sigma))\n"
   ]
  },
  {
   "cell_type": "code",
   "execution_count": null,
   "id": "75126713-9676-4d77-bea9-32275f75734d",
   "metadata": {},
   "outputs": [],
   "source": [
    "import matplotlib.pyplot as plt\n",
    "\n",
    "plt.figure(figsize=(10, 5))\n",
    "plt.plot(actual_temperatures, label='Actual')\n",
    "plt.plot(adjusted_mu, label='EMOS Adjusted Forecast', color='red')\n",
    "plt.fill_between(range(len(adjusted_mu)), adjusted_mu - 1.96 * adjusted_sigma, adjusted_mu + 1.96 * adjusted_sigma, color='red', alpha=0.3)\n",
    "plt.legend()\n",
    "plt.show()\n"
   ]
  },
  {
   "cell_type": "code",
   "execution_count": null,
   "id": "15129fe2-0c97-4c8e-84a2-48fbe153e37e",
   "metadata": {},
   "outputs": [],
   "source": []
  },
  {
   "cell_type": "code",
   "execution_count": null,
   "id": "35c173ca-a3f1-4b1c-aebd-5dbcffe51603",
   "metadata": {},
   "outputs": [],
   "source": []
  },
  {
   "cell_type": "code",
   "execution_count": 67,
   "id": "51995d70-6b85-4f9b-9fd2-239f88cb4786",
   "metadata": {},
   "outputs": [
    {
     "name": "stdout",
     "output_type": "stream",
     "text": [
      "Mu coefficients: [ 0.         -0.203804   -0.15900375  0.19971353 -0.21970924  1.02800792]\n",
      "Sigma coefficients: [ 0.          0.00121097 -0.01989506 -0.12524565  0.13854328 -0.0162542 ]\n"
     ]
    }
   ],
   "source": [
    "\n",
    "# Sample data\n",
    "np.random.seed(0)\n",
    "days = np.array(range(365))  # Day of the year for one year\n",
    "mu_ens = np.random.normal(20, 5, 365)  # Simulated ensemble mean predictions\n",
    "sigma_ens = np.random.normal(2, 0.5, 365)  # Simulated ensemble standard deviations\n",
    "temps_actual = mu_ens + np.random.normal(0, sigma_ens)  # Simulated actual temperatures\n",
    "\n",
    "# Features for EMOS\n",
    "X = np.column_stack([\n",
    "    np.ones(len(days)),  # Intercept\n",
    "    np.sin(2 * np.pi * days / 365),\n",
    "    np.cos(2 * np.pi * days / 365),\n",
    "    np.sin(4 * np.pi * days / 365),\n",
    "    np.cos(4 * np.pi * days / 365),\n",
    "    mu_ens  # Using ensemble mean as a feature\n",
    "])\n",
    "\n",
    "# Linear model for μ\n",
    "model_mu = LinearRegression().fit(X, temps_actual)\n",
    "\n",
    "# Predicting μ\n",
    "mu_pred = model_mu.predict(X)\n",
    "\n",
    "# Linear model for log(σ)\n",
    "log_sigma = np.log(np.abs(temps_actual - mu_pred))  # Approximation of σ\n",
    "model_sigma = LinearRegression().fit(X, log_sigma)\n",
    "sigma_pred = np.exp(model_sigma.predict(X))\n",
    "\n",
    "# Printing models' coefficients\n",
    "print(\"Mu coefficients:\", model_mu.coef_)\n",
    "print(\"Sigma coefficients:\", model_sigma.coef_)"
   ]
  },
  {
   "cell_type": "code",
   "execution_count": null,
   "id": "6cce0cfb-fd03-4d5c-884c-b8a7f66cb219",
   "metadata": {},
   "outputs": [],
   "source": []
  }
 ],
 "metadata": {
  "kernelspec": {
   "display_name": "Python 3 (ipykernel)",
   "language": "python",
   "name": "python3"
  },
  "language_info": {
   "codemirror_mode": {
    "name": "ipython",
    "version": 3
   },
   "file_extension": ".py",
   "mimetype": "text/x-python",
   "name": "python",
   "nbconvert_exporter": "python",
   "pygments_lexer": "ipython3",
   "version": "3.11.7"
  }
 },
 "nbformat": 4,
 "nbformat_minor": 5
}
