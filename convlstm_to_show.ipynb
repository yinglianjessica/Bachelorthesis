{
 "cells": [
  {
   "cell_type": "code",
   "execution_count": 1,
   "id": "e521e4b8-c687-464b-8b53-335f581d6055",
   "metadata": {},
   "outputs": [],
   "source": [
    "import warnings\n",
    "# warnings.filterwarnings('ignore')\n"
   ]
  },
  {
   "cell_type": "code",
   "execution_count": 2,
   "id": "df30c548-bedb-4655-ae21-271aef11ffac",
   "metadata": {},
   "outputs": [
    {
     "name": "stderr",
     "output_type": "stream",
     "text": [
      "2024-05-15 16:31:46.557906: I tensorflow/core/platform/cpu_feature_guard.cc:210] This TensorFlow binary is optimized to use available CPU instructions in performance-critical operations.\n",
      "To enable the following instructions: AVX2 FMA, in other operations, rebuild TensorFlow with the appropriate compiler flags.\n",
      "2024-05-15 16:31:47.663711: W tensorflow/compiler/tf2tensorrt/utils/py_utils.cc:38] TF-TRT Warning: Could not find TensorRT\n"
     ]
    }
   ],
   "source": [
    "import requests\n",
    "import pandas as pd\n",
    "import numpy as np\n",
    "import matplotlib.pyplot as plt\n",
    "import tensorflow as tf\n",
    "import joblib \n",
    "import os\n",
    "import pickle\n",
    "import plotly.graph_objects as go\n",
    "import climetlab as cml\n",
    "import openmeteo_requests\n",
    "import requests_cache\n",
    "import time\n",
    "import plotly.graph_objects as go\n",
    "\n",
    "from datetime import datetime, timedelta\n",
    "from sklearn.preprocessing import StandardScaler\n",
    "from datetime import datetime\n",
    "from tensorflow.keras.models import Sequential\n",
    "from tensorflow.keras.layers import Dense, ConvLSTM2D, LSTM, Flatten, Dropout, BatchNormalization, Input\n",
    "from tensorflow.keras.optimizers import Adam\n",
    "from sklearn.preprocessing import MinMaxScaler\n",
    "from sklearn.metrics import mean_squared_error, mean_absolute_error\n",
    "from tensorflow.keras.optimizers.schedules import ExponentialDecay\n",
    "from tensorflow.keras.regularizers import l2\n",
    "from keras.callbacks import ModelCheckpoint\n",
    "from sklearn.metrics import explained_variance_score, r2_score\n",
    "from sklearn.utils import shuffle\n",
    "from retry_requests import retry"
   ]
  },
  {
   "cell_type": "code",
   "execution_count": null,
   "id": "9b3f02b6-0a33-41b0-85fa-b8e9ee7566bb",
   "metadata": {},
   "outputs": [],
   "source": []
  },
  {
   "cell_type": "code",
   "execution_count": 3,
   "id": "107cd991-07bf-42ea-9f5b-6a881ad5f57d",
   "metadata": {},
   "outputs": [],
   "source": [
    "# all template method functions"
   ]
  },
  {
   "cell_type": "code",
   "execution_count": 4,
   "id": "0e24c278-3d6e-4e65-aedd-15156840c756",
   "metadata": {},
   "outputs": [],
   "source": [
    "def prepare_data(lat = 48.333056, lon = 16.631944, start_date = \"2017-04-01\", end_date=\"2024-04-01\"):\n",
    "    df_fd = fetch_data(lat, lon, start_date, end_date)\n",
    "    # df_fd = clean_data(df_fd)\n",
    "    df_fe, time_index = feature_engineering(df_fd)\n",
    "    return df_fe, time_index\n"
   ]
  },
  {
   "cell_type": "code",
   "execution_count": 5,
   "id": "419ce33c-071a-4dab-9f96-4ef873e40a23",
   "metadata": {},
   "outputs": [],
   "source": [
    "def fit_scaler(all_dfs):\n",
    "    df = pd.concat(all_dfs, ignore_index=True)\n",
    "    scaler = MinMaxScaler()\n",
    "    scaler.fit(df)\n",
    "    return scaler\n"
   ]
  },
  {
   "cell_type": "code",
   "execution_count": 6,
   "id": "33cff739-3326-4a37-b117-88d402b6c98d",
   "metadata": {},
   "outputs": [],
   "source": [
    "def create_validation_split_and_sequences(input_data, param, sequence_length, feature_count, hours_to_predict, include_target=True):\n",
    "    validation_split=0.2\n",
    "    train_idx = int(len(input_data) * (1 - validation_split))\n",
    "    \n",
    "    train_df = input_data.iloc[:train_idx]\n",
    "    test_df = input_data.iloc[train_idx:]\n",
    "    \n",
    "    X_train, y_train = [], []\n",
    "    for i in range(len(train_df) - sequence_length - hours_to_predict + 1): \n",
    "        X_train.append(train_df.iloc[i:(i + sequence_length)].values)\n",
    "        if include_target:\n",
    "            y_train.append(train_df.iloc[i + sequence_length:i + sequence_length + hours_to_predict][param].values) \n",
    "    if include_target:\n",
    "        X_train = np.array(X_train)\n",
    "        y_train = np.array(y_train)\n",
    "        \n",
    "    X_test, y_test  = [], []\n",
    "    for i in range(len(test_df) - sequence_length - hours_to_predict + 1): \n",
    "        X_test.append(test_df.iloc[i:(i + sequence_length)].values)\n",
    "        if include_target:\n",
    "            y_test.append(test_df.iloc[i + sequence_length:i + sequence_length + hours_to_predict][param].values) \n",
    "    if include_target:\n",
    "        X_test = np.array(X_test)\n",
    "        y_test = np.array(y_test)\n",
    "        \n",
    "    # Reshape for ConvLSTM\n",
    "    X_train = X_train.reshape((X_train.shape[0], sequence_length, X_train.shape[2]))\n",
    "    X_test = X_test.reshape((X_test.shape[0], sequence_length, X_test.shape[2]))\n",
    "    return X_train, y_train, X_test, y_test"
   ]
  },
  {
   "cell_type": "code",
   "execution_count": 7,
   "id": "cb519d02-895b-4902-aead-e18a679efca0",
   "metadata": {},
   "outputs": [],
   "source": [
    "def train_model(model, X_train, y_train):\n",
    "    epochs=3\n",
    "    batch_size=64\n",
    "    \n",
    "    checkpoint_path = \"checkpoints/model_epoch_{epoch:02d}_val_loss_{val_loss:.2f}.weights.h5\"\n",
    "    checkpoint = ModelCheckpoint(\n",
    "        filepath=checkpoint_path, save_weights_only=True,\n",
    "        monitor='val_loss', mode='min', save_best_only=True, verbose=1\n",
    "    )\n",
    "    \n",
    "    history = model.fit(X_train, y_train, epochs=epochs, batch_size=batch_size,\n",
    "           validation_data=(X_test, y_test), callbacks=[checkpoint])\n",
    "    return model"
   ]
  },
  {
   "cell_type": "code",
   "execution_count": null,
   "id": "2efb49ac-1c16-4260-b6a7-2119073fe51d",
   "metadata": {},
   "outputs": [],
   "source": []
  },
  {
   "cell_type": "code",
   "execution_count": 8,
   "id": "6b866f6a-bbb1-43c3-bd34-f2edb23995bd",
   "metadata": {},
   "outputs": [],
   "source": [
    "# all initializations of var"
   ]
  },
  {
   "cell_type": "code",
   "execution_count": null,
   "id": "cff9deda-38ae-4c34-a793-e79a10513c65",
   "metadata": {},
   "outputs": [],
   "source": []
  },
  {
   "cell_type": "code",
   "execution_count": null,
   "id": "7b80c283-713d-4de5-8cbf-79dd91798b2d",
   "metadata": {},
   "outputs": [],
   "source": []
  },
  {
   "cell_type": "code",
   "execution_count": null,
   "id": "8f90a971-c10a-40fd-b69e-b94a92af242c",
   "metadata": {},
   "outputs": [],
   "source": []
  },
  {
   "cell_type": "code",
   "execution_count": null,
   "id": "1f070f98-af37-4c8b-931b-340b7729264c",
   "metadata": {},
   "outputs": [],
   "source": []
  },
  {
   "cell_type": "code",
   "execution_count": null,
   "id": "e8693458-278a-4f40-afc5-6de8f4822a3d",
   "metadata": {},
   "outputs": [],
   "source": []
  },
  {
   "cell_type": "code",
   "execution_count": 9,
   "id": "a7b1c8f5-7699-45cb-9f91-699b63e12694",
   "metadata": {},
   "outputs": [],
   "source": [
    "# all smaller functions"
   ]
  },
  {
   "cell_type": "code",
   "execution_count": 10,
   "id": "9ba9a5de-5da4-4f2e-9b7c-db537615e636",
   "metadata": {},
   "outputs": [
    {
     "data": {
      "text/plain": [
       "'\\ndef clean_data(df):\\n    def correct_temperature(row):\\n        bimonthly_group = row[\\'bimonthly\\']\\n        temperature = row[\\'T2M\\']\\n        lower_bound, upper_bound = outlier_bounds[bimonthly_group]\\n        \\n        if temperature < lower_bound:\\n            return lower_bound  # Set to lower bound if below\\n        elif temperature > upper_bound:\\n            return upper_bound  # Set to upper bound if above\\n        return temperature  # Return original if within bounds\\n    \\n    df[\\'bimonthly\\'] = df[\\'time\\'].dt.month.apply(assign_bimonthly)\\n    \\n    # Calculate outlier bounds for each bimonthly group\\n    bimonthly_data = df.groupby(\\'bimonthly\\')[\\'T2M\\']\\n    outlier_bounds = bimonthly_data.apply(bimonthly_outliers)\\n    \\n    # Mark rows as outliers\\n    df[\\'is_outlier\\'] = df.apply(lambda row: is_outlier(row, *outlier_bounds[row[\\'bimonthly\\']]), axis=1)\\n    # This will display all rows where \\'is_outlier\\' is True\\n    if not df.empty:\\n        if df[\\'is_outlier\\'].any():\\n            print(df[df[\\'is_outlier\\']])\\n        else:\\n            print(\"No outliers detected.\")\\n    else:\\n        print(\"DataFrame is empty.\")\\n\\n    # Replace outliers\\n    df[\\'T2M\\'] = df.apply(lambda row: replace_outliers(row, row.name, df), axis=1)\\n    \\n    # Optionally drop the \\'is_outlier\\' column if no longer needed\\n    df.drop(columns=[\\'is_outlier\\'], inplace=True)'"
      ]
     },
     "execution_count": 10,
     "metadata": {},
     "output_type": "execute_result"
    }
   ],
   "source": [
    "'''\n",
    "def clean_data(df):\n",
    "    def correct_temperature(row):\n",
    "        bimonthly_group = row['bimonthly']\n",
    "        temperature = row['T2M']\n",
    "        lower_bound, upper_bound = outlier_bounds[bimonthly_group]\n",
    "        \n",
    "        if temperature < lower_bound:\n",
    "            return lower_bound  # Set to lower bound if below\n",
    "        elif temperature > upper_bound:\n",
    "            return upper_bound  # Set to upper bound if above\n",
    "        return temperature  # Return original if within bounds\n",
    "    \n",
    "    df['bimonthly'] = df['time'].dt.month.apply(assign_bimonthly)\n",
    "    \n",
    "    # Calculate outlier bounds for each bimonthly group\n",
    "    bimonthly_data = df.groupby('bimonthly')['T2M']\n",
    "    outlier_bounds = bimonthly_data.apply(bimonthly_outliers)\n",
    "    \n",
    "    # Mark rows as outliers\n",
    "    df['is_outlier'] = df.apply(lambda row: is_outlier(row, *outlier_bounds[row['bimonthly']]), axis=1)\n",
    "    # This will display all rows where 'is_outlier' is True\n",
    "    if not df.empty:\n",
    "        if df['is_outlier'].any():\n",
    "            print(df[df['is_outlier']])\n",
    "        else:\n",
    "            print(\"No outliers detected.\")\n",
    "    else:\n",
    "        print(\"DataFrame is empty.\")\n",
    "\n",
    "    # Replace outliers\n",
    "    df['T2M'] = df.apply(lambda row: replace_outliers(row, row.name, df), axis=1)\n",
    "    \n",
    "    # Optionally drop the 'is_outlier' column if no longer needed\n",
    "    df.drop(columns=['is_outlier'], inplace=True)'''"
   ]
  },
  {
   "cell_type": "code",
   "execution_count": 11,
   "id": "f918e79a-6ef2-4cbc-a5fe-01a0977ea582",
   "metadata": {},
   "outputs": [],
   "source": [
    "# feature engineering, mehr research\n",
    "# more testing maybe for the paper, this right now is okay?\n",
    "\n",
    "# statistical rolling features of the last x hours\n",
    "def calculate_rolling_features(df, window_size, feature_name):\n",
    "    if len(df) < window_size:\n",
    "        window_size = len(df)  \n",
    "    df[f'{feature_name}_rolling_mean'] = df['T2M'].rolling(window=window_size).mean()\n",
    "    df[f'{feature_name}_rolling_max'] = df['T2M'].rolling(window=window_size).max()\n",
    "    df[f'{feature_name}_rolling_min'] = df['T2M'].rolling(window=window_size).min()\n",
    "    df[f'{feature_name}_rolling_std'] = df['T2M'].rolling(window=window_size).std()\n",
    "\n",
    "# Exponential Weighted Moving Average (EWMA)\n",
    "# which data are more important\n",
    "def calculate_ewm_features(df, span_hours, feature_name):\n",
    "    ewm_feature = f'{feature_name}_ewm_{span_hours}h'\n",
    "    df[ewm_feature] = df[feature_name].ewm(span=span_hours, adjust=False).mean()\n",
    "\n",
    "def handle_na(df):\n",
    "    df.fillna(method='ffill', inplace=True)  \n",
    "    df.fillna(method='bfill', inplace=True)  \n",
    "    \n",
    "def feature_engineering(df):\n",
    "    df.dropna(inplace=True)  \n",
    "    original_time_index = df['time'].copy()\n",
    "    # Basic date-time features\n",
    "    df['hour'] = df['time'].dt.hour\n",
    "    df['day_of_year'] = df['time'].dt.dayofyear\n",
    "    df['week_of_year'] = df['time'].dt.isocalendar().week\n",
    "    df['month'] = df['time'].dt.month\n",
    "    df['year'] = df['time'].dt.year    \n",
    "    df['lon'] = df['lon'].astype(float)\n",
    "    df['lat'] = df['lat'].astype(float)\n",
    "    #df['season'] = df['time'].dt.month.apply(assign_season)\n",
    "\n",
    "\n",
    "    # Cyclical time features\n",
    "    df['hour_sin'] = np.sin(2 * np.pi * df['hour']/24)\n",
    "    df['hour_cos'] = np.cos(2 * np.pi * df['hour']/24)\n",
    "    df['month_sin'] = np.sin(2 * np.pi * df['month'] / 12)\n",
    "    df['month_cos'] = np.cos(2 * np.pi * df['month'] / 12)\n",
    "    df['dayofyear_sin'] = np.sin(2 * np.pi * df['time'].dt.dayofyear / 365)\n",
    "    df['dayofyear_cos'] = np.cos(2 * np.pi * df['time'].dt.dayofyear / 365)\n",
    "\n",
    "    # Wind and interaction features\n",
    "    df['temp_humidity_interaction'] = df['T2M'] * df['RH2M']\n",
    "    df['wind_rain_interaction'] = df['wind_speed_100m'] * df['RR']\n",
    "    df['temp_rain_interaction'] = df['T2M'] * df['RR']\n",
    "    df['wind_temp_interaction'] = df['wind_speed_100m'] * df['T2M']\n",
    "\n",
    "    # lags\n",
    "    # Temperature lags\n",
    "    for hrs in [1, 3, 6, 12, 24, 48]:\n",
    "        df[f'T2M_lag_{hrs}hr'] = df['T2M'].shift(hrs)\n",
    "    \n",
    "    # Humidity lags\n",
    "    for hrs in [1, 3]:\n",
    "       df[f'RH2M_lag_{hrs}hr'] = df['RH2M'].shift(hrs)\n",
    "\n",
    "    # differential\n",
    "    df['T2M_diff'] = df['T2M'].diff()\n",
    "    df['RH2M_diff'] = df['RH2M'].diff()\n",
    "\n",
    "    df['temp_drop_event'] = df['T2M_diff'].apply(lambda x: 1 if x < -4 else 0)\n",
    "    df['rain_event'] = df['RR'].apply(lambda x: 1 if x > 0 else 0)\n",
    "\n",
    "    # EWM & rolling window\n",
    "    calculate_ewm_features(df, 3, 'T2M')\n",
    "    calculate_ewm_features(df, 6, 'T2M')\n",
    "    calculate_ewm_features(df, 12, 'T2M')\n",
    "    calculate_ewm_features(df, 24, 'T2M')\n",
    "    calculate_ewm_features(df, 24*365, 'T2M')\n",
    "\n",
    "    #calculate_rolling_features(df,3, '3h')  # 24-hour window\n",
    "    #calculate_rolling_features(df, 6, '6h')  # 24-hour window\n",
    "    #calculate_rolling_features(df, 12, '12h')  # 24-hour window\n",
    "    calculate_rolling_features(df, 24, '24h')  # 24-hour window\n",
    "    calculate_rolling_features(df, 24*365, '365d')  # 7-day window\n",
    "\n",
    "    # Handle NaNs \n",
    "    handle_na(df)\n",
    "        # only numeric types are used for modeling\n",
    "    df = df.select_dtypes(include=[np.number])\n",
    "    return df, original_time_index\n",
    "\n",
    "\n"
   ]
  },
  {
   "cell_type": "code",
   "execution_count": 12,
   "id": "5672d9a1-6344-430a-a855-27da2f99d003",
   "metadata": {},
   "outputs": [],
   "source": [
    "    \n",
    "def fetch_data(lat = 48.333056, lon = 16.631944, start_date = \"2017-04-01\", end_date=\"2024-04-01\"):\n",
    "    # Setup the Open-Meteo API client with cache and retry on error\n",
    "    cache_session = requests_cache.CachedSession('.cache', expire_after = -1)\n",
    "    retry_session = retry(cache_session, retries = 5, backoff_factor = 0.2)\n",
    "    openmeteo = openmeteo_requests.Client(session = retry_session)\n",
    "    \n",
    "    # Make sure all required weather variables are listed here\n",
    "    # The order of variables in hourly or daily is important to assign them correctly below\n",
    "    print(start_date)\n",
    "    print(end_date)\n",
    "    url = \"https://archive-api.open-meteo.com/v1/archive\"\n",
    "    params = {\n",
    "    \t\"latitude\": lat,\n",
    "    \t\"longitude\": lon,\n",
    "    \t\"start_date\": start_date,\n",
    "    \t\"end_date\": end_date,\n",
    "    \t\"hourly\": [\"temperature_2m\", \"relative_humidity_2m\", \"dew_point_2m\", \"precipitation\", \"pressure_msl\", \"surface_pressure\", \"cloud_cover\", \"wind_speed_100m\", \"wind_direction_100m\", \"is_day\", \"global_tilted_irradiance\"],\n",
    "    \t\"wind_speed_unit\": \"ms\",\n",
    "    \t\"timezone\": \"auto\"\n",
    "    }\n",
    "    responses = openmeteo.weather_api(url, params=params)\n",
    "    \n",
    "    # Process first location. Add a for-loop for multiple locations or weather models\n",
    "    response = responses[0]\n",
    "    print(f\"Coordinates {response.Latitude()}°N {response.Longitude()}°E\")\n",
    "    print(f\"Elevation {response.Elevation()} m asl\")\n",
    "    print(f\"Timezone {response.Timezone()} {response.TimezoneAbbreviation()}\")\n",
    "    print(f\"Timezone difference to GMT+0 {response.UtcOffsetSeconds()} s\")\n",
    "    \n",
    "    # Process hourly data. The order of variables needs to be the same as requested.\n",
    "    hourly = response.Hourly()\n",
    "    hourly_temperature_2m = hourly.Variables(0).ValuesAsNumpy()\n",
    "    hourly_relative_humidity_2m = hourly.Variables(1).ValuesAsNumpy()\n",
    "    hourly_dew_point_2m = hourly.Variables(2).ValuesAsNumpy()\n",
    "    hourly_precipitation = hourly.Variables(3).ValuesAsNumpy()\n",
    "    hourly_pressure_msl = hourly.Variables(4).ValuesAsNumpy()\n",
    "    hourly_surface_pressure = hourly.Variables(5).ValuesAsNumpy()\n",
    "    hourly_cloud_cover = hourly.Variables(6).ValuesAsNumpy()\n",
    "    hourly_wind_speed_100m = hourly.Variables(7).ValuesAsNumpy()\n",
    "    hourly_wind_direction_100m = hourly.Variables(8).ValuesAsNumpy()\n",
    "    hourly_is_day = hourly.Variables(9).ValuesAsNumpy()\n",
    "    hourly_global_tilted_irradiance = hourly.Variables(10).ValuesAsNumpy()\n",
    "    \n",
    "    hourly_data = {\"time\": pd.date_range(\n",
    "    \tstart = pd.to_datetime(hourly.Time(), unit = \"s\", utc = True),\n",
    "    \tend = pd.to_datetime(hourly.TimeEnd(), unit = \"s\", utc = True),\n",
    "    \tfreq = pd.Timedelta(seconds = hourly.Interval()),\n",
    "    \tinclusive = \"left\"\n",
    "    )}\n",
    "    hourly_data[\"T2M\"] = hourly_temperature_2m\n",
    "    hourly_data[\"RH2M\"] = hourly_relative_humidity_2m\n",
    "    hourly_data[\"dew_point_2m\"] = hourly_dew_point_2m\n",
    "    hourly_data[\"RR\"] = hourly_precipitation\n",
    "    hourly_data[\"pressure_msl\"] = hourly_pressure_msl\n",
    "    hourly_data[\"surface_pressure\"] = hourly_surface_pressure\n",
    "    hourly_data[\"cloud_cover\"] = hourly_cloud_cover\n",
    "    hourly_data[\"wind_speed_100m\"] = hourly_wind_speed_100m\n",
    "    hourly_data[\"wind_direction_100m\"] = hourly_wind_direction_100m\n",
    "    hourly_data[\"is_day\"] = hourly_is_day\n",
    "    hourly_data[\"global_tilted_irradiance\"] = hourly_global_tilted_irradiance\n",
    "    hourly_data[\"lat\"] = lat\n",
    "    hourly_data[\"lon\"] = lon\n",
    "    \n",
    "    hourly_dataframe = pd.DataFrame(data = hourly_data)\n",
    "    return hourly_dataframe\n"
   ]
  },
  {
   "cell_type": "code",
   "execution_count": null,
   "id": "805d10c8-6fb1-4b5b-9ed3-5c608c62fa70",
   "metadata": {},
   "outputs": [],
   "source": []
  },
  {
   "cell_type": "code",
   "execution_count": 13,
   "id": "18260373-e10f-42d0-ac7e-40447e6856fe",
   "metadata": {},
   "outputs": [],
   "source": [
    "def calc_lower_higher_bound(date):\n",
    "    #take the dates of 1 month before and after over the years and calculate\n",
    "    return 'Unknown'\n",
    "\n",
    "def outliers(group):\n",
    "    Q1 = group.quantile(0.25)\n",
    "    Q3 = group.quantile(0.75)\n",
    "    IQR = Q3 - Q1\n",
    "    lower_bound = Q1 - 1.5 * IQR\n",
    "    upper_bound = Q3 + 1.5 * IQR\n",
    "    return lower_bound, upper_bound\n",
    "    \n",
    "def is_outlier(row, lower_bound, upper_bound):\n",
    "    temperature = row['T2M']\n",
    "    if temperature < lower_bound or temperature > upper_bound:\n",
    "        return True\n",
    "    return False\n",
    "\n",
    "def replace_outliers(row, index, df):\n",
    "    if row['is_outlier']:\n",
    "        # Check if it's the first row\n",
    "        if index == 0:\n",
    "            return row['T2M']  # Or handle differently if the first value is an outlier\n",
    "        else:\n",
    "            return df.iloc[index - 1]['T2M']\n",
    "    else:\n",
    "        return row['T2M']"
   ]
  },
  {
   "cell_type": "code",
   "execution_count": 14,
   "id": "f9cbfc06-a20f-406c-a6d4-a7455dc5ffab",
   "metadata": {},
   "outputs": [],
   "source": [
    "def create_sequences(input_data, param, sequence_length, feature_count, hours_to_predict, include_target=True):\n",
    "    X, y = [], []\n",
    "    for i in range(len(input_data) - sequence_length - hours_to_predict + 1): \n",
    "        X.append(input_data.iloc[i:(i + sequence_length)].values)\n",
    "        if include_target:\n",
    "            y.append(input_data.iloc[i + sequence_length:i + sequence_length + hours_to_predict][param].values) \n",
    "    if include_target:\n",
    "        # input X everything but T2M, output y just T2M\n",
    "        return np.array(X), np.array(y)\n",
    "    else:\n",
    "        return np.array(X)  # Return only X if include_target is False"
   ]
  },
  {
   "cell_type": "code",
   "execution_count": 15,
   "id": "224e5560-99e4-4ba8-b704-1219342583c3",
   "metadata": {},
   "outputs": [],
   "source": [
    "param = 'T2M'\n",
    "sequence_length = 6\n",
    "hours_to_predict = sequence_length"
   ]
  },
  {
   "cell_type": "code",
   "execution_count": 16,
   "id": "51a906bc-a1b7-4c37-9122-8b1a9568109f",
   "metadata": {},
   "outputs": [],
   "source": [
    "lat_lons = [\n",
    "    (48.333056, 16.631944), # Vienna, Austria\n",
    "    (59.3293, 18.0686),   # Stockholm, Sweden\n",
    "    (41.3851, 2.1734),    # Barcelona, Spain\n",
    "    (55.6761, 12.5683),   # Copenhagen, Denmark\n",
    "    #(52.3676, 4.9041),    # Amsterdam, Netherlands\n",
    "    (48.8566, 2.3522),    # Paris, France\n",
    "    (37.9838, 23.7275),   # Athens, Greece\n",
    "    (53.3498, -6.2603),   # Dublin, Ireland\n",
    "    (50.0755, 14.4378),   # Prague, Czech Republic\n",
    "    (47.4979, 19.0402),   # Budapest, Hungary\n",
    "    (45.4408, 12.3155),    # Venice, Italy\n",
    "    (60.1695, 24.9354),   # Helsinki, Finland\n",
    "    (64.1355, -21.8954),  # Reykjavik, Iceland\n",
    "    (51.5074, -0.1278),   # London, United Kingdom\n",
    "    (40.4168, -3.7038),   # Madrid, Spain\n",
    "    (43.7102, 7.2620),    # Nice, France\n",
    "    (50.8503, 4.3517),    # Brussels, Belgium\n",
    "    #(54.6872, 25.2797),   # Vilnius, Lithuania\n",
    "    (42.6977, 23.3219),   # Sofia, Bulgaria\n",
    "    #(59.9139, 10.7522),   # Oslo, Norway\n",
    "    (46.2044, 6.1432),    # Geneva, Switzerland\n",
    "    #(56.9496, 24.1052),   # Riga, Latvia\n",
    "    (44.4268, 26.1025),   # Bucharest, Romania\n",
    "    (35.1667, 33.3667),   # Nicosia, Cyprus\n",
    "    #(48.1486, 17.1077),   # Bratislava, Slovakia\n",
    "    #(44.7871, 20.4572),   # Belgrade, Serbia\n",
    "    (52.2297, 21.0122)    # Warsaw, Poland\n",
    "]"
   ]
  },
  {
   "cell_type": "code",
   "execution_count": 17,
   "id": "f15885c0-241c-452f-a05d-4d7436670bae",
   "metadata": {},
   "outputs": [],
   "source": [
    "# code outside"
   ]
  },
  {
   "cell_type": "code",
   "execution_count": 18,
   "id": "2436242c-7d5e-4ab2-8537-23a050d8075e",
   "metadata": {},
   "outputs": [
    {
     "data": {
      "text/plain": [
       "'all_data = []\\nall_time_index = []\\n\\ncount_for_api = 0\\n\\nfor lat, lon in lat_lons:   \\n    df, time_index = prepare_data(lat, lon)\\n    all_data.append(df)\\n    all_time_index.append(time_index)\\n    count_for_api += 1\\n    if count_for_api % 4 == 0:\\n        print(\"Waiting for one minute...\")\\n        time.sleep(70)'"
      ]
     },
     "execution_count": 18,
     "metadata": {},
     "output_type": "execute_result"
    }
   ],
   "source": [
    "'''all_data = []\n",
    "all_time_index = []\n",
    "\n",
    "count_for_api = 0\n",
    "\n",
    "for lat, lon in lat_lons:   \n",
    "    df, time_index = prepare_data(lat, lon)\n",
    "    all_data.append(df)\n",
    "    all_time_index.append(time_index)\n",
    "    count_for_api += 1\n",
    "    if count_for_api % 4 == 0:\n",
    "        print(\"Waiting for one minute...\")\n",
    "        time.sleep(70)'''\n",
    "    \n"
   ]
  },
  {
   "cell_type": "code",
   "execution_count": 19,
   "id": "77b08a95-44dc-4d8d-8c95-4a87699f1a36",
   "metadata": {},
   "outputs": [
    {
     "data": {
      "text/plain": [
       "\"import pickle\\n\\n# Save all_data to a pickle file\\nwith open('all_data.pkl', 'wb') as f:\\n    pickle.dump(all_data, f)\\n\\n# Save all_time_index to a pickle file\\nwith open('all_time_index.pkl', 'wb') as f:\\n    pickle.dump(all_time_index, f)\""
      ]
     },
     "execution_count": 19,
     "metadata": {},
     "output_type": "execute_result"
    }
   ],
   "source": [
    "'''import pickle\n",
    "\n",
    "# Save all_data to a pickle file\n",
    "with open('all_data.pkl', 'wb') as f:\n",
    "    pickle.dump(all_data, f)\n",
    "\n",
    "# Save all_time_index to a pickle file\n",
    "with open('all_time_index.pkl', 'wb') as f:\n",
    "    pickle.dump(all_time_index, f)'''\n"
   ]
  },
  {
   "cell_type": "code",
   "execution_count": 20,
   "id": "c9293215-2c28-4c89-a7d7-37518cf64a20",
   "metadata": {},
   "outputs": [],
   "source": [
    "import pickle\n",
    "all_data = []\n",
    "all_time_index = []\n",
    "# Load all_data from the pickle file\n",
    "with open('all_data.pkl', 'rb') as f:\n",
    "    all_data = pickle.load(f)\n",
    "\n",
    "# Load all_time_index from the pickle file\n",
    "with open('all_time_index.pkl', 'rb') as f:\n",
    "    all_time_index = pickle.load(f)\n"
   ]
  },
  {
   "cell_type": "code",
   "execution_count": 21,
   "id": "daea4532-1016-41ce-af4f-1d88e7cfa48b",
   "metadata": {},
   "outputs": [
    {
     "name": "stdout",
     "output_type": "stream",
     "text": [
      "Number of features: 53\n"
     ]
    }
   ],
   "source": [
    "feature_count = all_data[0].shape[1]\n",
    "print(\"Number of features:\", feature_count)"
   ]
  },
  {
   "cell_type": "code",
   "execution_count": 22,
   "id": "c56ad4da-ecf1-4493-8000-50b5ab510c5f",
   "metadata": {},
   "outputs": [
    {
     "name": "stderr",
     "output_type": "stream",
     "text": [
      "2024-05-15 16:31:49.598922: I external/local_xla/xla/stream_executor/cuda/cuda_executor.cc:998] successful NUMA node read from SysFS had negative value (-1), but there must be at least one NUMA node, so returning NUMA node zero. See more at https://github.com/torvalds/linux/blob/v6.0/Documentation/ABI/testing/sysfs-bus-pci#L344-L355\n",
      "2024-05-15 16:31:49.823542: W tensorflow/core/common_runtime/gpu/gpu_device.cc:2251] Cannot dlopen some GPU libraries. Please make sure the missing libraries mentioned above are installed properly if you would like to use GPU. Follow the guide at https://www.tensorflow.org/install/gpu for how to download and setup the required libraries for your platform.\n",
      "Skipping registering GPU devices...\n",
      "/home/yjess/anaconda3/lib/python3.11/site-packages/keras/src/layers/rnn/rnn.py:204: UserWarning: Do not pass an `input_shape`/`input_dim` argument to a layer. When using Sequential models, prefer using an `Input(shape)` object as the first layer in the model instead.\n",
      "  super().__init__(**kwargs)\n"
     ]
    }
   ],
   "source": [
    "# code outside of functions\n",
    "model = Sequential([\n",
    "    LSTM(units=64, activation='relu', input_shape=(sequence_length, feature_count)),\n",
    "    Dense(50, activation='relu'),\n",
    "    Dense(hours_to_predict)\n",
    "])\n",
    "\n",
    "optimizer = Adam(learning_rate=0.001, clipvalue=1.0)\n",
    "model.compile(optimizer=optimizer, loss='mse')\n",
    "\n",
    "scaler = fit_scaler(all_data)\n"
   ]
  },
  {
   "cell_type": "code",
   "execution_count": 23,
   "id": "b56d0f8b-f633-4420-9c2b-bab524339085",
   "metadata": {},
   "outputs": [],
   "source": [
    "all_data_copy = all_data.copy()\n",
    "\n",
    "all_scaled_data = []\n",
    "for df in all_data_copy:\n",
    "    df = pd.DataFrame(scaler.transform(df), columns=df.columns)\n",
    "    all_scaled_data.append(df)\n"
   ]
  },
  {
   "cell_type": "code",
   "execution_count": 24,
   "id": "5f7d8f66-a0f3-4ba3-a38a-018d7ee4cc51",
   "metadata": {},
   "outputs": [
    {
     "name": "stdout",
     "output_type": "stream",
     "text": [
      "X\n",
      "X\n",
      "X\n",
      "X\n",
      "X\n",
      "X\n",
      "X\n",
      "X\n",
      "X\n",
      "X\n",
      "X\n",
      "X\n",
      "X\n"
     ]
    },
    {
     "name": "stderr",
     "output_type": "stream",
     "text": [
      "\n",
      "KeyboardInterrupt\n",
      "\n"
     ]
    }
   ],
   "source": [
    "all_sequences = []\n",
    "for input_data in all_scaled_data:\n",
    "    print(\"X\")\n",
    "    input_data = pd.DataFrame(input_data)\n",
    "    X_train, y_train, X_test, y_test = create_validation_split_and_sequences(input_data, param, sequence_length, feature_count, hours_to_predict, include_target=True)\n",
    "    all_sequences.append((X_train, y_train, X_test, y_test))"
   ]
  },
  {
   "cell_type": "code",
   "execution_count": null,
   "id": "e71a0dfc-c187-43ec-ac35-0401b44b4c11",
   "metadata": {},
   "outputs": [],
   "source": []
  },
  {
   "cell_type": "code",
   "execution_count": null,
   "id": "baee2a09-33f2-467b-805b-110db6eac5ba",
   "metadata": {},
   "outputs": [],
   "source": [
    "# Scale and train model on each dataset separately\n",
    "for X_train, y_train, X_test, y_test in all_sequences:\n",
    "    model = train_model(model, X_train, y_train)"
   ]
  },
  {
   "cell_type": "code",
   "execution_count": null,
   "id": "1efe5d76-7c32-49d5-9515-b5d31805117f",
   "metadata": {},
   "outputs": [],
   "source": [
    "formatted_date_time = datetime.now().strftime(\"%Y%m%d_%H%M%S\")\n",
    "model_folder_name = f\"model_folder{formatted_date_time}\"\n",
    "os.makedirs(model_folder_name, exist_ok=True)\n",
    "model.save(os.path.join(model_folder_name, 'model.keras'))\n",
    "joblib.dump(scaler, os.path.join(model_folder_name, 'scaler.pkl'))\n"
   ]
  },
  {
   "cell_type": "code",
   "execution_count": null,
   "id": "d9387f8d-d7da-40f8-a1cf-71586bd90e96",
   "metadata": {},
   "outputs": [],
   "source": [
    "loaded_model = tf.keras.models.load_model(os.path.join(model_folder_name, 'model.keras'))\n",
    "loaded_scaler = joblib.load(os.path.join(model_folder_name, 'scaler.pkl'))\n"
   ]
  },
  {
   "cell_type": "code",
   "execution_count": 32,
   "id": "9f2c4d32-90d4-4034-b0c5-c98c478f7743",
   "metadata": {},
   "outputs": [],
   "source": [
    "model_folder_name = \"model_folder20240514_013934\"\n",
    "model = tf.keras.models.load_model(os.path.join(model_folder_name, 'model.keras'))\n",
    "scaler = joblib.load(os.path.join(model_folder_name, 'scaler.pkl'))\n"
   ]
  },
  {
   "cell_type": "code",
   "execution_count": null,
   "id": "5ce1e3a6-3e6b-42ba-9041-0ce77303b6b4",
   "metadata": {},
   "outputs": [],
   "source": [
    "def evaluate_temperature_forecast(actual, predicted):\n",
    "    mse = np.mean((actual - predicted) ** 2)\n",
    "    mae = np.mean(np.abs(actual - predicted))\n",
    "    rmse = np.sqrt(mse)\n",
    "    mbe = np.mean(predicted - actual)\n",
    "    correlation = np.corrcoef(actual, predicted)[0, 1]\n",
    "    explained_variance = explained_variance_score(actual, predicted)\n",
    "    r2 = r2_score(actual, predicted)\n",
    "    weights = np.where(actual >= 1.0, 2, 1)  \n",
    "    b_mse = np.mean(weights * (actual - predicted) ** 2)\n",
    "    b_mae = np.mean(weights * np.abs(actual - predicted))\n",
    "\n",
    "    return {\n",
    "        \"MSE\": mse,  # Mean Squared Error: Lower is better. Good < 0.5, Poor > 1.\n",
    "        \"MAE\": mae,  # Mean Absolute Error: Lower is better. Good < 0.3, Poor > 0.6.\n",
    "        \"RMSE\": rmse,  # Root Mean Square Error: Lower is better.\n",
    "        \"MBE\": mbe,  # Mean Bias Error: Closer to 0 is better. Positive indicates overestimation; negative indicates underestimation.\n",
    "        \"Correlation\": correlation,  # Closer to 1 is better. Indicates strength and direction of the linear relationship between predicted and actual values.\n",
    "        \"Explained Variance\": explained_variance,  # Closer to 1 is better. \n",
    "        \"R² Score\": r2,  # Coefficient of Determination: Closer to 1 is better. Values > 0.7 are typically considered good, < 0.5 could be seen as poor.\n",
    "        \"B-MSE\": b_mse,  # Balanced Mean Squared Error: Lower is better. Provides a weighted measure of MSE where significant errors have more influence.\n",
    "        \"B-MAE\": b_mae  # Balanced Mean Absolute Error: Lower is better. Like B-MSE, it weights significant errors more heavily.\n",
    "    }"
   ]
  },
  {
   "cell_type": "code",
   "execution_count": null,
   "id": "8cd9c74a-1be7-4dbe-b61c-19433e7cfe93",
   "metadata": {},
   "outputs": [],
   "source": [
    "'''for X_train, y_train, X_test, y_test in all_sequences:\n",
    "    print(\"START\")\n",
    "    print(\"X_train\")\n",
    "    print(X_train.shape)\n",
    "    print(X_train)\n",
    "    print(\"y_train\")\n",
    "    print(y_train.shape)\n",
    "    print(y_train)\n",
    "    print(\"X_test\")\n",
    "    print(X_test.shape)\n",
    "    print(X_test)\n",
    "    print(\"y_test\")    \n",
    "    print(y_test.shape)    \n",
    "    print(y_test)'''"
   ]
  },
  {
   "cell_type": "code",
   "execution_count": null,
   "id": "b7ff263a-5f49-4f26-acb6-6af02e28b69a",
   "metadata": {},
   "outputs": [],
   "source": [
    "for X_train, y_train, X_test, y_test in all_sequences:\n",
    "    y_pred = model.predict(X_test).flatten()\n",
    "    y_test = y_test.flatten()\n",
    "    \n",
    "    # make this a function\n",
    "    dummy_array = np.zeros((y_pred.shape[0], feature_count))\n",
    "    dummy_array[:, 3] = y_pred.squeeze() \n",
    "    test_dummy_array = np.zeros((y_test.shape[0], feature_count))\n",
    "    test_dummy_array[:, 3] = y_test.squeeze()  \n",
    "    test_y = scaler.inverse_transform(test_dummy_array)[:, 3]\n",
    "    predictions_y = scaler.inverse_transform(dummy_array)[:, 3]\n",
    "    \n",
    "    plt.figure(figsize=(15, 6))\n",
    "    plt.subplot(1, 2, 1)\n",
    "    plt.plot(y_test, label='Actual', linestyle='-')\n",
    "    plt.plot(y_pred, label='Predicted', linestyle='--')\n",
    "    plt.title('Detailed View of Predictions vs. Actual')\n",
    "    plt.xlabel('Time')\n",
    "    plt.ylabel('Value')\n",
    "    plt.legend()\n",
    "    \n",
    "    # Scatter plot of the actual vs predicted\n",
    "    plt.subplot(1, 2, 2)\n",
    "    plt.scatter(y_test, y_pred, alpha=0.6)\n",
    "    plt.title('Prediction vs Actual')\n",
    "    plt.xlabel('Actual Values')\n",
    "    plt.ylabel('Predicted Values')\n",
    "    plt.plot([min(y_test), max(y_test)], [min(y_test), max(y_test)], 'r--') \n",
    "    \n",
    "    plt.tight_layout()\n",
    "    plt.show()\n",
    "    \n",
    "    metrics = evaluate_temperature_forecast(y_test, y_pred)\n",
    "    for key, value in metrics.items():\n",
    "        print(f\"{key}: {value}\")"
   ]
  },
  {
   "cell_type": "code",
   "execution_count": 33,
   "id": "ad2f035c-70cf-4985-8a2f-04d83e84ab59",
   "metadata": {},
   "outputs": [],
   "source": [
    "# fix this\n",
    "def predict_next_6_hours(lat, lon, time = datetime.now().replace(minute=0, second=0, microsecond=0)):\n",
    "    time_now = time #- timedelta(hours=8)\n",
    "    hours_to_subtract = 24 - time_now.hour \n",
    "    \n",
    "    # Date range for X data\n",
    "\n",
    "    start_date = (time_now - timedelta(days=3)).strftime('%Y-%m-%d')\n",
    "    end_date = time_now.strftime('%Y-%m-%d')\n",
    "    print(start_date)\n",
    "    print(end_date)\n",
    "    print(hours_to_subtract)\n",
    "    X_data, X_index = prepare_data(lat, lon, start_date, end_date)\n",
    "    #print(X_index)\n",
    "    X_data = X_data.iloc[:-hours_to_subtract]\n",
    "    X_index = X_index.iloc[:-hours_to_subtract]\n",
    "    \n",
    "    # Date range for y data (actual data for the day)\n",
    "    start_date = (time_now - timedelta(days=3)).strftime('%Y-%m-%d')\n",
    "    end_date = time_now.strftime('%Y-%m-%d')\n",
    "    y_data, y_index = prepare_data(lat, lon, start_date, end_date)\n",
    "    print(24-hours_to_subtract)\n",
    "    \n",
    "    #print(\"y_data:\", y_data)\n",
    "    #print(\"y_index:\", y_index)\n",
    "    \n",
    "    y_data = y_data.iloc[25+(24-hours_to_subtract):]\n",
    "    y_index = y_index.iloc[25+(24-hours_to_subtract):]\n",
    "    \n",
    "    #print(\"y_data:\", y_data)\n",
    "    #print(\"y_index:\", y_index)\n",
    "\n",
    "    df_scaled = scaler.transform(X_data)\n",
    "    df_scaled = pd.DataFrame(df_scaled, columns=X_data.columns)\n",
    "    latest_sequence = df_scaled.tail(sequence_length).values.reshape(1, sequence_length, feature_count)\n",
    "    future_temperatures = model.predict(latest_sequence)\n",
    "    \n",
    "    dummy_output_array = np.zeros((hours_to_predict, scaler.n_features_in_))\n",
    "    dummy_output_array[:, 0] = future_temperatures.flatten()  # Ensure to flatten if necessary\n",
    "    predicted_temps = scaler.inverse_transform(dummy_output_array)[:, 0]\n",
    "    \n",
    "    X_data.index = X_index\n",
    "    last_timestamp = X_data.index[-1]\n",
    "    prediction_frequency = 'H'\n",
    "    new_timestamps = pd.date_range(start=last_timestamp + pd.Timedelta(hours=1), periods=len(predicted_temps), freq=prediction_frequency)\n",
    "    predictions_df = pd.DataFrame(predicted_temps, index=new_timestamps, columns=['Predicted T2M'])\n",
    "    \n",
    "    # Fetch and set the actual data for comparison\n",
    "    #data_actual_for_prediction, time_index_actual_data = feature_engineering(df_act) #get_data_for_convlstm('2024-05-01T08', '2024-05-02T08')\n",
    "    y_data.index = y_index\n",
    "    \n",
    "    fig = go.Figure()\n",
    "    fig.add_trace(go.Scatter(x=X_data.index, y=X_data['T2M'], mode='lines', name='Original T2M', line=dict(color='blue')))\n",
    "    fig.add_trace(go.Scatter(x=predictions_df.index, y=predictions_df['Predicted T2M'], mode='lines+markers', name='Predicted T2M', line=dict(color='red', dash='dash')))\n",
    "    fig.add_trace(go.Scatter(x=y_data.index, y=y_data['T2M'], mode='lines', name='Actual T2M', line=dict(color='green')))\n",
    "    fig.update_layout(\n",
    "        title='Temperature Predictions vs Actuals',\n",
    "        xaxis_title='Date',\n",
    "        yaxis_title='Temperature (°C)',\n",
    "        hovermode=\"x unified\"\n",
    "    )\n",
    "    fig.show()\n",
    "    #print(\"y_data:\", y_data)\n",
    "    #print(\"y_index:\", y_index)\n",
    "\n",
    "\n"
   ]
  },
  {
   "cell_type": "code",
   "execution_count": 34,
   "id": "60a4c806-e4f8-4eaa-9da5-b9082348685f",
   "metadata": {},
   "outputs": [
    {
     "name": "stdout",
     "output_type": "stream",
     "text": [
      "2024-05-12\n",
      "2024-05-15\n",
      "16\n",
      "2024-05-12\n",
      "2024-05-15\n",
      "Coordinates 48.18980407714844°N 16.377296447753906°E\n",
      "Elevation 179.0 m asl\n",
      "Timezone b'Europe/Vienna' b'CEST'\n",
      "Timezone difference to GMT+0 7200 s\n",
      "2024-05-12\n",
      "2024-05-15\n",
      "Coordinates 48.18980407714844°N 16.377296447753906°E\n",
      "Elevation 179.0 m asl\n",
      "Timezone b'Europe/Vienna' b'CEST'\n",
      "Timezone difference to GMT+0 7200 s\n",
      "8\n",
      "\u001b[1m1/1\u001b[0m \u001b[32m━━━━━━━━━━━━━━━━━━━━\u001b[0m\u001b[37m\u001b[0m \u001b[1m0s\u001b[0m 137ms/step\n"
     ]
    },
    {
     "name": "stderr",
     "output_type": "stream",
     "text": [
      "/tmp/ipykernel_25795/3754601863.py:20: FutureWarning:\n",
      "\n",
      "DataFrame.fillna with 'method' is deprecated and will raise in a future version. Use obj.ffill() or obj.bfill() instead.\n",
      "\n",
      "/tmp/ipykernel_25795/3754601863.py:21: FutureWarning:\n",
      "\n",
      "DataFrame.fillna with 'method' is deprecated and will raise in a future version. Use obj.ffill() or obj.bfill() instead.\n",
      "\n",
      "/tmp/ipykernel_25795/3754601863.py:20: FutureWarning:\n",
      "\n",
      "DataFrame.fillna with 'method' is deprecated and will raise in a future version. Use obj.ffill() or obj.bfill() instead.\n",
      "\n",
      "/tmp/ipykernel_25795/3754601863.py:21: FutureWarning:\n",
      "\n",
      "DataFrame.fillna with 'method' is deprecated and will raise in a future version. Use obj.ffill() or obj.bfill() instead.\n",
      "\n"
     ]
    },
    {
     "data": {
      "application/vnd.plotly.v1+json": {
       "config": {
        "plotlyServerURL": "https://plot.ly"
       },
       "data": [
        {
         "line": {
          "color": "blue"
         },
         "mode": "lines",
         "name": "Original T2M",
         "type": "scatter",
         "x": [
          "2024-05-11T22:00:00+00:00",
          "2024-05-11T23:00:00+00:00",
          "2024-05-12T00:00:00+00:00",
          "2024-05-12T01:00:00+00:00",
          "2024-05-12T02:00:00+00:00",
          "2024-05-12T03:00:00+00:00",
          "2024-05-12T04:00:00+00:00",
          "2024-05-12T05:00:00+00:00",
          "2024-05-12T06:00:00+00:00",
          "2024-05-12T07:00:00+00:00",
          "2024-05-12T08:00:00+00:00",
          "2024-05-12T09:00:00+00:00",
          "2024-05-12T10:00:00+00:00",
          "2024-05-12T11:00:00+00:00",
          "2024-05-12T12:00:00+00:00",
          "2024-05-12T13:00:00+00:00",
          "2024-05-12T14:00:00+00:00",
          "2024-05-12T15:00:00+00:00",
          "2024-05-12T16:00:00+00:00",
          "2024-05-12T17:00:00+00:00",
          "2024-05-12T18:00:00+00:00",
          "2024-05-12T19:00:00+00:00",
          "2024-05-12T20:00:00+00:00",
          "2024-05-12T21:00:00+00:00",
          "2024-05-12T22:00:00+00:00",
          "2024-05-12T23:00:00+00:00",
          "2024-05-13T00:00:00+00:00",
          "2024-05-13T01:00:00+00:00",
          "2024-05-13T02:00:00+00:00",
          "2024-05-13T03:00:00+00:00",
          "2024-05-13T04:00:00+00:00",
          "2024-05-13T05:00:00+00:00",
          "2024-05-13T06:00:00+00:00",
          "2024-05-13T07:00:00+00:00"
         ],
         "y": [
          12.91450023651123,
          12.31450080871582,
          11.56450080871582,
          11.81450080871582,
          11.964500427246094,
          11.91450023651123,
          11.81450080871582,
          13.41450023651123,
          14.864500045776367,
          16.214500427246094,
          17.56450080871582,
          18.964500427246094,
          19.81450080871582,
          20.31450080871582,
          20.614500045776367,
          21.414501190185547,
          21.714500427246094,
          21.164501190185547,
          20.714500427246094,
          19.714500427246094,
          16.914501190185547,
          15.464500427246094,
          14.214500427246094,
          12.91450023651123,
          11.56450080871582,
          10.714500427246094,
          10.364500045776367,
          10.514500617980957,
          10.964500427246094,
          11.964500427246094,
          11.764500617980957,
          12.714500427246094,
          13.764500617980957,
          15.014500617980957
         ]
        },
        {
         "line": {
          "color": "red",
          "dash": "dash"
         },
         "mode": "lines+markers",
         "name": "Predicted T2M",
         "type": "scatter",
         "x": [
          "2024-05-13T08:00:00+00:00",
          "2024-05-13T09:00:00+00:00",
          "2024-05-13T10:00:00+00:00",
          "2024-05-13T11:00:00+00:00",
          "2024-05-13T12:00:00+00:00",
          "2024-05-13T13:00:00+00:00"
         ],
         "y": [
          16.96811004376184,
          18.43560748883033,
          19.411231409568018,
          19.936604158029468,
          20.467816610041154,
          20.525723789301196
         ]
        },
        {
         "line": {
          "color": "green"
         },
         "mode": "lines",
         "name": "Actual T2M",
         "type": "scatter",
         "x": [
          "2024-05-13T07:00:00+00:00",
          "2024-05-13T08:00:00+00:00",
          "2024-05-13T09:00:00+00:00",
          "2024-05-13T10:00:00+00:00",
          "2024-05-13T11:00:00+00:00",
          "2024-05-13T12:00:00+00:00",
          "2024-05-13T13:00:00+00:00",
          "2024-05-13T14:00:00+00:00",
          "2024-05-13T15:00:00+00:00",
          "2024-05-13T16:00:00+00:00",
          "2024-05-13T17:00:00+00:00",
          "2024-05-13T18:00:00+00:00",
          "2024-05-13T19:00:00+00:00",
          "2024-05-13T20:00:00+00:00",
          "2024-05-13T21:00:00+00:00",
          "2024-05-13T22:00:00+00:00",
          "2024-05-13T23:00:00+00:00"
         ],
         "y": [
          15.014500617980957,
          16.414501190185547,
          17.964500427246094,
          19.414501190185547,
          20.26449966430664,
          20.26449966430664,
          18.114500045776367,
          18.864500045776367,
          19.51449966430664,
          18.914501190185547,
          18.214500427246094,
          16.864500045776367,
          15.614500045776367,
          15.014500617980957,
          14.56450080871582,
          14.264500617980957,
          13.464500427246094
         ]
        }
       ],
       "layout": {
        "autosize": true,
        "hovermode": "x unified",
        "template": {
         "data": {
          "bar": [
           {
            "error_x": {
             "color": "#2a3f5f"
            },
            "error_y": {
             "color": "#2a3f5f"
            },
            "marker": {
             "line": {
              "color": "#E5ECF6",
              "width": 0.5
             },
             "pattern": {
              "fillmode": "overlay",
              "size": 10,
              "solidity": 0.2
             }
            },
            "type": "bar"
           }
          ],
          "barpolar": [
           {
            "marker": {
             "line": {
              "color": "#E5ECF6",
              "width": 0.5
             },
             "pattern": {
              "fillmode": "overlay",
              "size": 10,
              "solidity": 0.2
             }
            },
            "type": "barpolar"
           }
          ],
          "carpet": [
           {
            "aaxis": {
             "endlinecolor": "#2a3f5f",
             "gridcolor": "white",
             "linecolor": "white",
             "minorgridcolor": "white",
             "startlinecolor": "#2a3f5f"
            },
            "baxis": {
             "endlinecolor": "#2a3f5f",
             "gridcolor": "white",
             "linecolor": "white",
             "minorgridcolor": "white",
             "startlinecolor": "#2a3f5f"
            },
            "type": "carpet"
           }
          ],
          "choropleth": [
           {
            "colorbar": {
             "outlinewidth": 0,
             "ticks": ""
            },
            "type": "choropleth"
           }
          ],
          "contour": [
           {
            "colorbar": {
             "outlinewidth": 0,
             "ticks": ""
            },
            "colorscale": [
             [
              0,
              "#0d0887"
             ],
             [
              0.1111111111111111,
              "#46039f"
             ],
             [
              0.2222222222222222,
              "#7201a8"
             ],
             [
              0.3333333333333333,
              "#9c179e"
             ],
             [
              0.4444444444444444,
              "#bd3786"
             ],
             [
              0.5555555555555556,
              "#d8576b"
             ],
             [
              0.6666666666666666,
              "#ed7953"
             ],
             [
              0.7777777777777778,
              "#fb9f3a"
             ],
             [
              0.8888888888888888,
              "#fdca26"
             ],
             [
              1,
              "#f0f921"
             ]
            ],
            "type": "contour"
           }
          ],
          "contourcarpet": [
           {
            "colorbar": {
             "outlinewidth": 0,
             "ticks": ""
            },
            "type": "contourcarpet"
           }
          ],
          "heatmap": [
           {
            "colorbar": {
             "outlinewidth": 0,
             "ticks": ""
            },
            "colorscale": [
             [
              0,
              "#0d0887"
             ],
             [
              0.1111111111111111,
              "#46039f"
             ],
             [
              0.2222222222222222,
              "#7201a8"
             ],
             [
              0.3333333333333333,
              "#9c179e"
             ],
             [
              0.4444444444444444,
              "#bd3786"
             ],
             [
              0.5555555555555556,
              "#d8576b"
             ],
             [
              0.6666666666666666,
              "#ed7953"
             ],
             [
              0.7777777777777778,
              "#fb9f3a"
             ],
             [
              0.8888888888888888,
              "#fdca26"
             ],
             [
              1,
              "#f0f921"
             ]
            ],
            "type": "heatmap"
           }
          ],
          "heatmapgl": [
           {
            "colorbar": {
             "outlinewidth": 0,
             "ticks": ""
            },
            "colorscale": [
             [
              0,
              "#0d0887"
             ],
             [
              0.1111111111111111,
              "#46039f"
             ],
             [
              0.2222222222222222,
              "#7201a8"
             ],
             [
              0.3333333333333333,
              "#9c179e"
             ],
             [
              0.4444444444444444,
              "#bd3786"
             ],
             [
              0.5555555555555556,
              "#d8576b"
             ],
             [
              0.6666666666666666,
              "#ed7953"
             ],
             [
              0.7777777777777778,
              "#fb9f3a"
             ],
             [
              0.8888888888888888,
              "#fdca26"
             ],
             [
              1,
              "#f0f921"
             ]
            ],
            "type": "heatmapgl"
           }
          ],
          "histogram": [
           {
            "marker": {
             "pattern": {
              "fillmode": "overlay",
              "size": 10,
              "solidity": 0.2
             }
            },
            "type": "histogram"
           }
          ],
          "histogram2d": [
           {
            "colorbar": {
             "outlinewidth": 0,
             "ticks": ""
            },
            "colorscale": [
             [
              0,
              "#0d0887"
             ],
             [
              0.1111111111111111,
              "#46039f"
             ],
             [
              0.2222222222222222,
              "#7201a8"
             ],
             [
              0.3333333333333333,
              "#9c179e"
             ],
             [
              0.4444444444444444,
              "#bd3786"
             ],
             [
              0.5555555555555556,
              "#d8576b"
             ],
             [
              0.6666666666666666,
              "#ed7953"
             ],
             [
              0.7777777777777778,
              "#fb9f3a"
             ],
             [
              0.8888888888888888,
              "#fdca26"
             ],
             [
              1,
              "#f0f921"
             ]
            ],
            "type": "histogram2d"
           }
          ],
          "histogram2dcontour": [
           {
            "colorbar": {
             "outlinewidth": 0,
             "ticks": ""
            },
            "colorscale": [
             [
              0,
              "#0d0887"
             ],
             [
              0.1111111111111111,
              "#46039f"
             ],
             [
              0.2222222222222222,
              "#7201a8"
             ],
             [
              0.3333333333333333,
              "#9c179e"
             ],
             [
              0.4444444444444444,
              "#bd3786"
             ],
             [
              0.5555555555555556,
              "#d8576b"
             ],
             [
              0.6666666666666666,
              "#ed7953"
             ],
             [
              0.7777777777777778,
              "#fb9f3a"
             ],
             [
              0.8888888888888888,
              "#fdca26"
             ],
             [
              1,
              "#f0f921"
             ]
            ],
            "type": "histogram2dcontour"
           }
          ],
          "mesh3d": [
           {
            "colorbar": {
             "outlinewidth": 0,
             "ticks": ""
            },
            "type": "mesh3d"
           }
          ],
          "parcoords": [
           {
            "line": {
             "colorbar": {
              "outlinewidth": 0,
              "ticks": ""
             }
            },
            "type": "parcoords"
           }
          ],
          "pie": [
           {
            "automargin": true,
            "type": "pie"
           }
          ],
          "scatter": [
           {
            "fillpattern": {
             "fillmode": "overlay",
             "size": 10,
             "solidity": 0.2
            },
            "type": "scatter"
           }
          ],
          "scatter3d": [
           {
            "line": {
             "colorbar": {
              "outlinewidth": 0,
              "ticks": ""
             }
            },
            "marker": {
             "colorbar": {
              "outlinewidth": 0,
              "ticks": ""
             }
            },
            "type": "scatter3d"
           }
          ],
          "scattercarpet": [
           {
            "marker": {
             "colorbar": {
              "outlinewidth": 0,
              "ticks": ""
             }
            },
            "type": "scattercarpet"
           }
          ],
          "scattergeo": [
           {
            "marker": {
             "colorbar": {
              "outlinewidth": 0,
              "ticks": ""
             }
            },
            "type": "scattergeo"
           }
          ],
          "scattergl": [
           {
            "marker": {
             "colorbar": {
              "outlinewidth": 0,
              "ticks": ""
             }
            },
            "type": "scattergl"
           }
          ],
          "scattermapbox": [
           {
            "marker": {
             "colorbar": {
              "outlinewidth": 0,
              "ticks": ""
             }
            },
            "type": "scattermapbox"
           }
          ],
          "scatterpolar": [
           {
            "marker": {
             "colorbar": {
              "outlinewidth": 0,
              "ticks": ""
             }
            },
            "type": "scatterpolar"
           }
          ],
          "scatterpolargl": [
           {
            "marker": {
             "colorbar": {
              "outlinewidth": 0,
              "ticks": ""
             }
            },
            "type": "scatterpolargl"
           }
          ],
          "scatterternary": [
           {
            "marker": {
             "colorbar": {
              "outlinewidth": 0,
              "ticks": ""
             }
            },
            "type": "scatterternary"
           }
          ],
          "surface": [
           {
            "colorbar": {
             "outlinewidth": 0,
             "ticks": ""
            },
            "colorscale": [
             [
              0,
              "#0d0887"
             ],
             [
              0.1111111111111111,
              "#46039f"
             ],
             [
              0.2222222222222222,
              "#7201a8"
             ],
             [
              0.3333333333333333,
              "#9c179e"
             ],
             [
              0.4444444444444444,
              "#bd3786"
             ],
             [
              0.5555555555555556,
              "#d8576b"
             ],
             [
              0.6666666666666666,
              "#ed7953"
             ],
             [
              0.7777777777777778,
              "#fb9f3a"
             ],
             [
              0.8888888888888888,
              "#fdca26"
             ],
             [
              1,
              "#f0f921"
             ]
            ],
            "type": "surface"
           }
          ],
          "table": [
           {
            "cells": {
             "fill": {
              "color": "#EBF0F8"
             },
             "line": {
              "color": "white"
             }
            },
            "header": {
             "fill": {
              "color": "#C8D4E3"
             },
             "line": {
              "color": "white"
             }
            },
            "type": "table"
           }
          ]
         },
         "layout": {
          "annotationdefaults": {
           "arrowcolor": "#2a3f5f",
           "arrowhead": 0,
           "arrowwidth": 1
          },
          "autotypenumbers": "strict",
          "coloraxis": {
           "colorbar": {
            "outlinewidth": 0,
            "ticks": ""
           }
          },
          "colorscale": {
           "diverging": [
            [
             0,
             "#8e0152"
            ],
            [
             0.1,
             "#c51b7d"
            ],
            [
             0.2,
             "#de77ae"
            ],
            [
             0.3,
             "#f1b6da"
            ],
            [
             0.4,
             "#fde0ef"
            ],
            [
             0.5,
             "#f7f7f7"
            ],
            [
             0.6,
             "#e6f5d0"
            ],
            [
             0.7,
             "#b8e186"
            ],
            [
             0.8,
             "#7fbc41"
            ],
            [
             0.9,
             "#4d9221"
            ],
            [
             1,
             "#276419"
            ]
           ],
           "sequential": [
            [
             0,
             "#0d0887"
            ],
            [
             0.1111111111111111,
             "#46039f"
            ],
            [
             0.2222222222222222,
             "#7201a8"
            ],
            [
             0.3333333333333333,
             "#9c179e"
            ],
            [
             0.4444444444444444,
             "#bd3786"
            ],
            [
             0.5555555555555556,
             "#d8576b"
            ],
            [
             0.6666666666666666,
             "#ed7953"
            ],
            [
             0.7777777777777778,
             "#fb9f3a"
            ],
            [
             0.8888888888888888,
             "#fdca26"
            ],
            [
             1,
             "#f0f921"
            ]
           ],
           "sequentialminus": [
            [
             0,
             "#0d0887"
            ],
            [
             0.1111111111111111,
             "#46039f"
            ],
            [
             0.2222222222222222,
             "#7201a8"
            ],
            [
             0.3333333333333333,
             "#9c179e"
            ],
            [
             0.4444444444444444,
             "#bd3786"
            ],
            [
             0.5555555555555556,
             "#d8576b"
            ],
            [
             0.6666666666666666,
             "#ed7953"
            ],
            [
             0.7777777777777778,
             "#fb9f3a"
            ],
            [
             0.8888888888888888,
             "#fdca26"
            ],
            [
             1,
             "#f0f921"
            ]
           ]
          },
          "colorway": [
           "#636efa",
           "#EF553B",
           "#00cc96",
           "#ab63fa",
           "#FFA15A",
           "#19d3f3",
           "#FF6692",
           "#B6E880",
           "#FF97FF",
           "#FECB52"
          ],
          "font": {
           "color": "#2a3f5f"
          },
          "geo": {
           "bgcolor": "white",
           "lakecolor": "white",
           "landcolor": "#E5ECF6",
           "showlakes": true,
           "showland": true,
           "subunitcolor": "white"
          },
          "hoverlabel": {
           "align": "left"
          },
          "hovermode": "closest",
          "mapbox": {
           "style": "light"
          },
          "paper_bgcolor": "white",
          "plot_bgcolor": "#E5ECF6",
          "polar": {
           "angularaxis": {
            "gridcolor": "white",
            "linecolor": "white",
            "ticks": ""
           },
           "bgcolor": "#E5ECF6",
           "radialaxis": {
            "gridcolor": "white",
            "linecolor": "white",
            "ticks": ""
           }
          },
          "scene": {
           "xaxis": {
            "backgroundcolor": "#E5ECF6",
            "gridcolor": "white",
            "gridwidth": 2,
            "linecolor": "white",
            "showbackground": true,
            "ticks": "",
            "zerolinecolor": "white"
           },
           "yaxis": {
            "backgroundcolor": "#E5ECF6",
            "gridcolor": "white",
            "gridwidth": 2,
            "linecolor": "white",
            "showbackground": true,
            "ticks": "",
            "zerolinecolor": "white"
           },
           "zaxis": {
            "backgroundcolor": "#E5ECF6",
            "gridcolor": "white",
            "gridwidth": 2,
            "linecolor": "white",
            "showbackground": true,
            "ticks": "",
            "zerolinecolor": "white"
           }
          },
          "shapedefaults": {
           "line": {
            "color": "#2a3f5f"
           }
          },
          "ternary": {
           "aaxis": {
            "gridcolor": "white",
            "linecolor": "white",
            "ticks": ""
           },
           "baxis": {
            "gridcolor": "white",
            "linecolor": "white",
            "ticks": ""
           },
           "bgcolor": "#E5ECF6",
           "caxis": {
            "gridcolor": "white",
            "linecolor": "white",
            "ticks": ""
           }
          },
          "title": {
           "x": 0.05
          },
          "xaxis": {
           "automargin": true,
           "gridcolor": "white",
           "linecolor": "white",
           "ticks": "",
           "title": {
            "standoff": 15
           },
           "zerolinecolor": "white",
           "zerolinewidth": 2
          },
          "yaxis": {
           "automargin": true,
           "gridcolor": "white",
           "linecolor": "white",
           "ticks": "",
           "title": {
            "standoff": 15
           },
           "zerolinecolor": "white",
           "zerolinewidth": 2
          }
         }
        },
        "title": {
         "text": "Temperature Predictions vs Actuals"
        },
        "xaxis": {
         "autorange": true,
         "range": [
          "2024-05-11 22:00",
          "2024-05-13 23:00"
         ],
         "title": {
          "text": "Date"
         },
         "type": "date"
        },
        "yaxis": {
         "autorange": true,
         "range": [
          9.73394446902805,
          22.34505600399441
         ],
         "title": {
          "text": "Temperature (°C)"
         },
         "type": "linear"
        }
       }
      },
      "image/png": "[encoded data removed]",
      "text/html": [
       "<div>                            <div id=\"06164f8c-cd1e-48e8-831c-c86addcfc3c3\" class=\"plotly-graph-div\" style=\"height:525px; width:100%;\"></div>            <script type=\"text/javascript\">                require([\"plotly\"], function(Plotly) {                    window.PLOTLYENV=window.PLOTLYENV || {};                                    if (document.getElementById(\"06164f8c-cd1e-48e8-831c-c86addcfc3c3\")) {                    Plotly.newPlot(                        \"06164f8c-cd1e-48e8-831c-c86addcfc3c3\",                        [{\"line\":{\"color\":\"blue\"},\"mode\":\"lines\",\"name\":\"Original T2M\",\"x\":[\"2024-05-11T22:00:00+00:00\",\"2024-05-11T23:00:00+00:00\",\"2024-05-12T00:00:00+00:00\",\"2024-05-12T01:00:00+00:00\",\"2024-05-12T02:00:00+00:00\",\"2024-05-12T03:00:00+00:00\",\"2024-05-12T04:00:00+00:00\",\"2024-05-12T05:00:00+00:00\",\"2024-05-12T06:00:00+00:00\",\"2024-05-12T07:00:00+00:00\",\"2024-05-12T08:00:00+00:00\",\"2024-05-12T09:00:00+00:00\",\"2024-05-12T10:00:00+00:00\",\"2024-05-12T11:00:00+00:00\",\"2024-05-12T12:00:00+00:00\",\"2024-05-12T13:00:00+00:00\",\"2024-05-12T14:00:00+00:00\",\"2024-05-12T15:00:00+00:00\",\"2024-05-12T16:00:00+00:00\",\"2024-05-12T17:00:00+00:00\",\"2024-05-12T18:00:00+00:00\",\"2024-05-12T19:00:00+00:00\",\"2024-05-12T20:00:00+00:00\",\"2024-05-12T21:00:00+00:00\",\"2024-05-12T22:00:00+00:00\",\"2024-05-12T23:00:00+00:00\",\"2024-05-13T00:00:00+00:00\",\"2024-05-13T01:00:00+00:00\",\"2024-05-13T02:00:00+00:00\",\"2024-05-13T03:00:00+00:00\",\"2024-05-13T04:00:00+00:00\",\"2024-05-13T05:00:00+00:00\",\"2024-05-13T06:00:00+00:00\",\"2024-05-13T07:00:00+00:00\"],\"y\":[12.91450023651123,12.31450080871582,11.56450080871582,11.81450080871582,11.964500427246094,11.91450023651123,11.81450080871582,13.41450023651123,14.864500045776367,16.214500427246094,17.56450080871582,18.964500427246094,19.81450080871582,20.31450080871582,20.614500045776367,21.414501190185547,21.714500427246094,21.164501190185547,20.714500427246094,19.714500427246094,16.914501190185547,15.464500427246094,14.214500427246094,12.91450023651123,11.56450080871582,10.714500427246094,10.364500045776367,10.514500617980957,10.964500427246094,11.964500427246094,11.764500617980957,12.714500427246094,13.764500617980957,15.014500617980957],\"type\":\"scatter\"},{\"line\":{\"color\":\"red\",\"dash\":\"dash\"},\"mode\":\"lines+markers\",\"name\":\"Predicted T2M\",\"x\":[\"2024-05-13T08:00:00+00:00\",\"2024-05-13T09:00:00+00:00\",\"2024-05-13T10:00:00+00:00\",\"2024-05-13T11:00:00+00:00\",\"2024-05-13T12:00:00+00:00\",\"2024-05-13T13:00:00+00:00\"],\"y\":[16.96811004376184,18.43560748883033,19.411231409568018,19.936604158029468,20.467816610041154,20.525723789301196],\"type\":\"scatter\"},{\"line\":{\"color\":\"green\"},\"mode\":\"lines\",\"name\":\"Actual T2M\",\"x\":[\"2024-05-13T07:00:00+00:00\",\"2024-05-13T08:00:00+00:00\",\"2024-05-13T09:00:00+00:00\",\"2024-05-13T10:00:00+00:00\",\"2024-05-13T11:00:00+00:00\",\"2024-05-13T12:00:00+00:00\",\"2024-05-13T13:00:00+00:00\",\"2024-05-13T14:00:00+00:00\",\"2024-05-13T15:00:00+00:00\",\"2024-05-13T16:00:00+00:00\",\"2024-05-13T17:00:00+00:00\",\"2024-05-13T18:00:00+00:00\",\"2024-05-13T19:00:00+00:00\",\"2024-05-13T20:00:00+00:00\",\"2024-05-13T21:00:00+00:00\",\"2024-05-13T22:00:00+00:00\",\"2024-05-13T23:00:00+00:00\"],\"y\":[15.014500617980957,16.414501190185547,17.964500427246094,19.414501190185547,20.26449966430664,20.26449966430664,18.114500045776367,18.864500045776367,19.51449966430664,18.914501190185547,18.214500427246094,16.864500045776367,15.614500045776367,15.014500617980957,14.56450080871582,14.264500617980957,13.464500427246094],\"type\":\"scatter\"}],                        {\"template\":{\"data\":{\"histogram2dcontour\":[{\"type\":\"histogram2dcontour\",\"colorbar\":{\"outlinewidth\":0,\"ticks\":\"\"},\"colorscale\":[[0.0,\"#0d0887\"],[0.1111111111111111,\"#46039f\"],[0.2222222222222222,\"#7201a8\"],[0.3333333333333333,\"#9c179e\"],[0.4444444444444444,\"#bd3786\"],[0.5555555555555556,\"#d8576b\"],[0.6666666666666666,\"#ed7953\"],[0.7777777777777778,\"#fb9f3a\"],[0.8888888888888888,\"#fdca26\"],[1.0,\"#f0f921\"]]}],\"choropleth\":[{\"type\":\"choropleth\",\"colorbar\":{\"outlinewidth\":0,\"ticks\":\"\"}}],\"histogram2d\":[{\"type\":\"histogram2d\",\"colorbar\":{\"outlinewidth\":0,\"ticks\":\"\"},\"colorscale\":[[0.0,\"#0d0887\"],[0.1111111111111111,\"#46039f\"],[0.2222222222222222,\"#7201a8\"],[0.3333333333333333,\"#9c179e\"],[0.4444444444444444,\"#bd3786\"],[0.5555555555555556,\"#d8576b\"],[0.6666666666666666,\"#ed7953\"],[0.7777777777777778,\"#fb9f3a\"],[0.8888888888888888,\"#fdca26\"],[1.0,\"#f0f921\"]]}],\"heatmap\":[{\"type\":\"heatmap\",\"colorbar\":{\"outlinewidth\":0,\"ticks\":\"\"},\"colorscale\":[[0.0,\"#0d0887\"],[0.1111111111111111,\"#46039f\"],[0.2222222222222222,\"#7201a8\"],[0.3333333333333333,\"#9c179e\"],[0.4444444444444444,\"#bd3786\"],[0.5555555555555556,\"#d8576b\"],[0.6666666666666666,\"#ed7953\"],[0.7777777777777778,\"#fb9f3a\"],[0.8888888888888888,\"#fdca26\"],[1.0,\"#f0f921\"]]}],\"heatmapgl\":[{\"type\":\"heatmapgl\",\"colorbar\":{\"outlinewidth\":0,\"ticks\":\"\"},\"colorscale\":[[0.0,\"#0d0887\"],[0.1111111111111111,\"#46039f\"],[0.2222222222222222,\"#7201a8\"],[0.3333333333333333,\"#9c179e\"],[0.4444444444444444,\"#bd3786\"],[0.5555555555555556,\"#d8576b\"],[0.6666666666666666,\"#ed7953\"],[0.7777777777777778,\"#fb9f3a\"],[0.8888888888888888,\"#fdca26\"],[1.0,\"#f0f921\"]]}],\"contourcarpet\":[{\"type\":\"contourcarpet\",\"colorbar\":{\"outlinewidth\":0,\"ticks\":\"\"}}],\"contour\":[{\"type\":\"contour\",\"colorbar\":{\"outlinewidth\":0,\"ticks\":\"\"},\"colorscale\":[[0.0,\"#0d0887\"],[0.1111111111111111,\"#46039f\"],[0.2222222222222222,\"#7201a8\"],[0.3333333333333333,\"#9c179e\"],[0.4444444444444444,\"#bd3786\"],[0.5555555555555556,\"#d8576b\"],[0.6666666666666666,\"#ed7953\"],[0.7777777777777778,\"#fb9f3a\"],[0.8888888888888888,\"#fdca26\"],[1.0,\"#f0f921\"]]}],\"surface\":[{\"type\":\"surface\",\"colorbar\":{\"outlinewidth\":0,\"ticks\":\"\"},\"colorscale\":[[0.0,\"#0d0887\"],[0.1111111111111111,\"#46039f\"],[0.2222222222222222,\"#7201a8\"],[0.3333333333333333,\"#9c179e\"],[0.4444444444444444,\"#bd3786\"],[0.5555555555555556,\"#d8576b\"],[0.6666666666666666,\"#ed7953\"],[0.7777777777777778,\"#fb9f3a\"],[0.8888888888888888,\"#fdca26\"],[1.0,\"#f0f921\"]]}],\"mesh3d\":[{\"type\":\"mesh3d\",\"colorbar\":{\"outlinewidth\":0,\"ticks\":\"\"}}],\"scatter\":[{\"fillpattern\":{\"fillmode\":\"overlay\",\"size\":10,\"solidity\":0.2},\"type\":\"scatter\"}],\"parcoords\":[{\"type\":\"parcoords\",\"line\":{\"colorbar\":{\"outlinewidth\":0,\"ticks\":\"\"}}}],\"scatterpolargl\":[{\"type\":\"scatterpolargl\",\"marker\":{\"colorbar\":{\"outlinewidth\":0,\"ticks\":\"\"}}}],\"bar\":[{\"error_x\":{\"color\":\"#2a3f5f\"},\"error_y\":{\"color\":\"#2a3f5f\"},\"marker\":{\"line\":{\"color\":\"#E5ECF6\",\"width\":0.5},\"pattern\":{\"fillmode\":\"overlay\",\"size\":10,\"solidity\":0.2}},\"type\":\"bar\"}],\"scattergeo\":[{\"type\":\"scattergeo\",\"marker\":{\"colorbar\":{\"outlinewidth\":0,\"ticks\":\"\"}}}],\"scatterpolar\":[{\"type\":\"scatterpolar\",\"marker\":{\"colorbar\":{\"outlinewidth\":0,\"ticks\":\"\"}}}],\"histogram\":[{\"marker\":{\"pattern\":{\"fillmode\":\"overlay\",\"size\":10,\"solidity\":0.2}},\"type\":\"histogram\"}],\"scattergl\":[{\"type\":\"scattergl\",\"marker\":{\"colorbar\":{\"outlinewidth\":0,\"ticks\":\"\"}}}],\"scatter3d\":[{\"type\":\"scatter3d\",\"line\":{\"colorbar\":{\"outlinewidth\":0,\"ticks\":\"\"}},\"marker\":{\"colorbar\":{\"outlinewidth\":0,\"ticks\":\"\"}}}],\"scattermapbox\":[{\"type\":\"scattermapbox\",\"marker\":{\"colorbar\":{\"outlinewidth\":0,\"ticks\":\"\"}}}],\"scatterternary\":[{\"type\":\"scatterternary\",\"marker\":{\"colorbar\":{\"outlinewidth\":0,\"ticks\":\"\"}}}],\"scattercarpet\":[{\"type\":\"scattercarpet\",\"marker\":{\"colorbar\":{\"outlinewidth\":0,\"ticks\":\"\"}}}],\"carpet\":[{\"aaxis\":{\"endlinecolor\":\"#2a3f5f\",\"gridcolor\":\"white\",\"linecolor\":\"white\",\"minorgridcolor\":\"white\",\"startlinecolor\":\"#2a3f5f\"},\"baxis\":{\"endlinecolor\":\"#2a3f5f\",\"gridcolor\":\"white\",\"linecolor\":\"white\",\"minorgridcolor\":\"white\",\"startlinecolor\":\"#2a3f5f\"},\"type\":\"carpet\"}],\"table\":[{\"cells\":{\"fill\":{\"color\":\"#EBF0F8\"},\"line\":{\"color\":\"white\"}},\"header\":{\"fill\":{\"color\":\"#C8D4E3\"},\"line\":{\"color\":\"white\"}},\"type\":\"table\"}],\"barpolar\":[{\"marker\":{\"line\":{\"color\":\"#E5ECF6\",\"width\":0.5},\"pattern\":{\"fillmode\":\"overlay\",\"size\":10,\"solidity\":0.2}},\"type\":\"barpolar\"}],\"pie\":[{\"automargin\":true,\"type\":\"pie\"}]},\"layout\":{\"autotypenumbers\":\"strict\",\"colorway\":[\"#636efa\",\"#EF553B\",\"#00cc96\",\"#ab63fa\",\"#FFA15A\",\"#19d3f3\",\"#FF6692\",\"#B6E880\",\"#FF97FF\",\"#FECB52\"],\"font\":{\"color\":\"#2a3f5f\"},\"hovermode\":\"closest\",\"hoverlabel\":{\"align\":\"left\"},\"paper_bgcolor\":\"white\",\"plot_bgcolor\":\"#E5ECF6\",\"polar\":{\"bgcolor\":\"#E5ECF6\",\"angularaxis\":{\"gridcolor\":\"white\",\"linecolor\":\"white\",\"ticks\":\"\"},\"radialaxis\":{\"gridcolor\":\"white\",\"linecolor\":\"white\",\"ticks\":\"\"}},\"ternary\":{\"bgcolor\":\"#E5ECF6\",\"aaxis\":{\"gridcolor\":\"white\",\"linecolor\":\"white\",\"ticks\":\"\"},\"baxis\":{\"gridcolor\":\"white\",\"linecolor\":\"white\",\"ticks\":\"\"},\"caxis\":{\"gridcolor\":\"white\",\"linecolor\":\"white\",\"ticks\":\"\"}},\"coloraxis\":{\"colorbar\":{\"outlinewidth\":0,\"ticks\":\"\"}},\"colorscale\":{\"sequential\":[[0.0,\"#0d0887\"],[0.1111111111111111,\"#46039f\"],[0.2222222222222222,\"#7201a8\"],[0.3333333333333333,\"#9c179e\"],[0.4444444444444444,\"#bd3786\"],[0.5555555555555556,\"#d8576b\"],[0.6666666666666666,\"#ed7953\"],[0.7777777777777778,\"#fb9f3a\"],[0.8888888888888888,\"#fdca26\"],[1.0,\"#f0f921\"]],\"sequentialminus\":[[0.0,\"#0d0887\"],[0.1111111111111111,\"#46039f\"],[0.2222222222222222,\"#7201a8\"],[0.3333333333333333,\"#9c179e\"],[0.4444444444444444,\"#bd3786\"],[0.5555555555555556,\"#d8576b\"],[0.6666666666666666,\"#ed7953\"],[0.7777777777777778,\"#fb9f3a\"],[0.8888888888888888,\"#fdca26\"],[1.0,\"#f0f921\"]],\"diverging\":[[0,\"#8e0152\"],[0.1,\"#c51b7d\"],[0.2,\"#de77ae\"],[0.3,\"#f1b6da\"],[0.4,\"#fde0ef\"],[0.5,\"#f7f7f7\"],[0.6,\"#e6f5d0\"],[0.7,\"#b8e186\"],[0.8,\"#7fbc41\"],[0.9,\"#4d9221\"],[1,\"#276419\"]]},\"xaxis\":{\"gridcolor\":\"white\",\"linecolor\":\"white\",\"ticks\":\"\",\"title\":{\"standoff\":15},\"zerolinecolor\":\"white\",\"automargin\":true,\"zerolinewidth\":2},\"yaxis\":{\"gridcolor\":\"white\",\"linecolor\":\"white\",\"ticks\":\"\",\"title\":{\"standoff\":15},\"zerolinecolor\":\"white\",\"automargin\":true,\"zerolinewidth\":2},\"scene\":{\"xaxis\":{\"backgroundcolor\":\"#E5ECF6\",\"gridcolor\":\"white\",\"linecolor\":\"white\",\"showbackground\":true,\"ticks\":\"\",\"zerolinecolor\":\"white\",\"gridwidth\":2},\"yaxis\":{\"backgroundcolor\":\"#E5ECF6\",\"gridcolor\":\"white\",\"linecolor\":\"white\",\"showbackground\":true,\"ticks\":\"\",\"zerolinecolor\":\"white\",\"gridwidth\":2},\"zaxis\":{\"backgroundcolor\":\"#E5ECF6\",\"gridcolor\":\"white\",\"linecolor\":\"white\",\"showbackground\":true,\"ticks\":\"\",\"zerolinecolor\":\"white\",\"gridwidth\":2}},\"shapedefaults\":{\"line\":{\"color\":\"#2a3f5f\"}},\"annotationdefaults\":{\"arrowcolor\":\"#2a3f5f\",\"arrowhead\":0,\"arrowwidth\":1},\"geo\":{\"bgcolor\":\"white\",\"landcolor\":\"#E5ECF6\",\"subunitcolor\":\"white\",\"showland\":true,\"showlakes\":true,\"lakecolor\":\"white\"},\"title\":{\"x\":0.05},\"mapbox\":{\"style\":\"light\"}}},\"title\":{\"text\":\"Temperature Predictions vs Actuals\"},\"xaxis\":{\"title\":{\"text\":\"Date\"}},\"yaxis\":{\"title\":{\"text\":\"Temperature (\\u00b0C)\"}},\"hovermode\":\"x unified\"},                        {\"responsive\": true}                    ).then(function(){\n",
       "                            \n",
       "var gd = document.getElementById('06164f8c-cd1e-48e8-831c-c86addcfc3c3');\n",
       "var x = new MutationObserver(function (mutations, observer) {{\n",
       "        var display = window.getComputedStyle(gd).display;\n",
       "        if (!display || display === 'none') {{\n",
       "            console.log([gd, 'removed!']);\n",
       "            Plotly.purge(gd);\n",
       "            observer.disconnect();\n",
       "        }}\n",
       "}});\n",
       "\n",
       "// Listen for the removal of the full notebook cells\n",
       "var notebookContainer = gd.closest('#notebook-container');\n",
       "if (notebookContainer) {{\n",
       "    x.observe(notebookContainer, {childList: true});\n",
       "}}\n",
       "\n",
       "// Listen for the clearing of the current output cell\n",
       "var outputEl = gd.closest('.output');\n",
       "if (outputEl) {{\n",
       "    x.observe(outputEl, {childList: true});\n",
       "}}\n",
       "\n",
       "                        })                };                });            </script>        </div>"
      ]
     },
     "metadata": {},
     "output_type": "display_data"
    }
   ],
   "source": [
    "\n",
    "lat = 59.3293\n",
    "lon = 12.5683\n",
    "custom_time = datetime(2024, 5, 15, 8, 0)\n",
    "\n",
    "predict_next_6_hours(48.2082, 16.3738, custom_time)"
   ]
  },
  {
   "cell_type": "code",
   "execution_count": 35,
   "id": "10f9a43e-bcf9-4c71-a3ab-dce7f6ce5dae",
   "metadata": {},
   "outputs": [
    {
     "name": "stdout",
     "output_type": "stream",
     "text": [
      "2024-05-12\n",
      "2024-05-15\n",
      "6\n",
      "2024-05-12\n",
      "2024-05-15\n",
      "Coordinates 59.29701232910156°N 12.653061866760254°E\n",
      "Elevation 171.0 m asl\n",
      "Timezone b'Europe/Stockholm' b'CEST'\n",
      "Timezone difference to GMT+0 7200 s\n",
      "2024-05-12\n",
      "2024-05-15\n",
      "Coordinates 59.29701232910156°N 12.653061866760254°E\n",
      "Elevation 171.0 m asl\n",
      "Timezone b'Europe/Stockholm' b'CEST'\n",
      "Timezone difference to GMT+0 7200 s\n",
      "18\n",
      "\u001b[1m1/1\u001b[0m \u001b[32m━━━━━━━━━━━━━━━━━━━━\u001b[0m\u001b[37m\u001b[0m \u001b[1m0s\u001b[0m 23ms/step\n"
     ]
    },
    {
     "name": "stderr",
     "output_type": "stream",
     "text": [
      "/tmp/ipykernel_25795/3754601863.py:20: FutureWarning:\n",
      "\n",
      "DataFrame.fillna with 'method' is deprecated and will raise in a future version. Use obj.ffill() or obj.bfill() instead.\n",
      "\n",
      "/tmp/ipykernel_25795/3754601863.py:21: FutureWarning:\n",
      "\n",
      "DataFrame.fillna with 'method' is deprecated and will raise in a future version. Use obj.ffill() or obj.bfill() instead.\n",
      "\n",
      "/tmp/ipykernel_25795/3754601863.py:20: FutureWarning:\n",
      "\n",
      "DataFrame.fillna with 'method' is deprecated and will raise in a future version. Use obj.ffill() or obj.bfill() instead.\n",
      "\n",
      "/tmp/ipykernel_25795/3754601863.py:21: FutureWarning:\n",
      "\n",
      "DataFrame.fillna with 'method' is deprecated and will raise in a future version. Use obj.ffill() or obj.bfill() instead.\n",
      "\n"
     ]
    },
    {
     "data": {
      "application/vnd.plotly.v1+json": {
       "config": {
        "plotlyServerURL": "https://plot.ly"
       },
       "data": [
        {
         "line": {
          "color": "blue"
         },
         "mode": "lines",
         "name": "Original T2M",
         "type": "scatter",
         "x": [
          "2024-05-11T22:00:00+00:00",
          "2024-05-11T23:00:00+00:00",
          "2024-05-12T00:00:00+00:00",
          "2024-05-12T01:00:00+00:00",
          "2024-05-12T02:00:00+00:00",
          "2024-05-12T03:00:00+00:00",
          "2024-05-12T04:00:00+00:00",
          "2024-05-12T05:00:00+00:00",
          "2024-05-12T06:00:00+00:00",
          "2024-05-12T07:00:00+00:00",
          "2024-05-12T08:00:00+00:00",
          "2024-05-12T09:00:00+00:00",
          "2024-05-12T10:00:00+00:00",
          "2024-05-12T11:00:00+00:00",
          "2024-05-12T12:00:00+00:00",
          "2024-05-12T13:00:00+00:00",
          "2024-05-12T14:00:00+00:00",
          "2024-05-12T15:00:00+00:00",
          "2024-05-12T16:00:00+00:00",
          "2024-05-12T17:00:00+00:00",
          "2024-05-12T18:00:00+00:00",
          "2024-05-12T19:00:00+00:00",
          "2024-05-12T20:00:00+00:00",
          "2024-05-12T21:00:00+00:00",
          "2024-05-12T22:00:00+00:00",
          "2024-05-12T23:00:00+00:00",
          "2024-05-13T00:00:00+00:00",
          "2024-05-13T01:00:00+00:00",
          "2024-05-13T02:00:00+00:00",
          "2024-05-13T03:00:00+00:00",
          "2024-05-13T04:00:00+00:00",
          "2024-05-13T05:00:00+00:00",
          "2024-05-13T06:00:00+00:00",
          "2024-05-13T07:00:00+00:00",
          "2024-05-13T08:00:00+00:00",
          "2024-05-13T09:00:00+00:00",
          "2024-05-13T10:00:00+00:00",
          "2024-05-13T11:00:00+00:00",
          "2024-05-13T12:00:00+00:00",
          "2024-05-13T13:00:00+00:00",
          "2024-05-13T14:00:00+00:00",
          "2024-05-13T15:00:00+00:00",
          "2024-05-13T16:00:00+00:00",
          "2024-05-13T17:00:00+00:00"
         ],
         "y": [
          9.093999862670898,
          8.743999481201172,
          8.394000053405762,
          8.243999481201172,
          8.144000053405762,
          8.194000244140625,
          8.694000244140625,
          10.293999671936035,
          12.493999481201172,
          14.444000244140625,
          16.194000244140625,
          17.643999099731445,
          18.743999481201172,
          19.643999099731445,
          20.3439998626709,
          21.29400062561035,
          20.8439998626709,
          19.8439998626709,
          19.694000244140625,
          18.3439998626709,
          16.0939998626709,
          13.944000244140625,
          12.093999862670898,
          11.243999481201172,
          10.444000244140625,
          9.843999862670898,
          9.293999671936035,
          8.644000053405762,
          8.593999862670898,
          8.493999481201172,
          9.043999671936035,
          10.993999481201172,
          13.743999481201172,
          16.04400062561035,
          17.79400062561035,
          18.993999481201172,
          20.0939998626709,
          20.893999099731445,
          21.04400062561035,
          20.54400062561035,
          20.444000244140625,
          20.04400062561035,
          20.444000244140625,
          20.0939998626709
         ]
        },
        {
         "line": {
          "color": "red",
          "dash": "dash"
         },
         "mode": "lines+markers",
         "name": "Predicted T2M",
         "type": "scatter",
         "x": [
          "2024-05-13T18:00:00+00:00",
          "2024-05-13T19:00:00+00:00",
          "2024-05-13T20:00:00+00:00",
          "2024-05-13T21:00:00+00:00",
          "2024-05-13T22:00:00+00:00",
          "2024-05-13T23:00:00+00:00"
         ],
         "y": [
          16.62011925492277,
          14.646314883485841,
          13.33282515529572,
          12.380914905249481,
          11.694952237724406,
          10.903957834714047
         ]
        },
        {
         "line": {
          "color": "green"
         },
         "mode": "lines",
         "name": "Actual T2M",
         "type": "scatter",
         "x": [
          "2024-05-13T17:00:00+00:00",
          "2024-05-13T18:00:00+00:00",
          "2024-05-13T19:00:00+00:00",
          "2024-05-13T20:00:00+00:00",
          "2024-05-13T21:00:00+00:00",
          "2024-05-13T22:00:00+00:00",
          "2024-05-13T23:00:00+00:00"
         ],
         "y": [
          20.0939998626709,
          18.3439998626709,
          15.543999671936035,
          13.243999481201172,
          11.644000053405762,
          10.644000053405762,
          10.194000244140625
         ]
        }
       ],
       "layout": {
        "autosize": true,
        "hovermode": "x unified",
        "template": {
         "data": {
          "bar": [
           {
            "error_x": {
             "color": "#2a3f5f"
            },
            "error_y": {
             "color": "#2a3f5f"
            },
            "marker": {
             "line": {
              "color": "#E5ECF6",
              "width": 0.5
             },
             "pattern": {
              "fillmode": "overlay",
              "size": 10,
              "solidity": 0.2
             }
            },
            "type": "bar"
           }
          ],
          "barpolar": [
           {
            "marker": {
             "line": {
              "color": "#E5ECF6",
              "width": 0.5
             },
             "pattern": {
              "fillmode": "overlay",
              "size": 10,
              "solidity": 0.2
             }
            },
            "type": "barpolar"
           }
          ],
          "carpet": [
           {
            "aaxis": {
             "endlinecolor": "#2a3f5f",
             "gridcolor": "white",
             "linecolor": "white",
             "minorgridcolor": "white",
             "startlinecolor": "#2a3f5f"
            },
            "baxis": {
             "endlinecolor": "#2a3f5f",
             "gridcolor": "white",
             "linecolor": "white",
             "minorgridcolor": "white",
             "startlinecolor": "#2a3f5f"
            },
            "type": "carpet"
           }
          ],
          "choropleth": [
           {
            "colorbar": {
             "outlinewidth": 0,
             "ticks": ""
            },
            "type": "choropleth"
           }
          ],
          "contour": [
           {
            "colorbar": {
             "outlinewidth": 0,
             "ticks": ""
            },
            "colorscale": [
             [
              0,
              "#0d0887"
             ],
             [
              0.1111111111111111,
              "#46039f"
             ],
             [
              0.2222222222222222,
              "#7201a8"
             ],
             [
              0.3333333333333333,
              "#9c179e"
             ],
             [
              0.4444444444444444,
              "#bd3786"
             ],
             [
              0.5555555555555556,
              "#d8576b"
             ],
             [
              0.6666666666666666,
              "#ed7953"
             ],
             [
              0.7777777777777778,
              "#fb9f3a"
             ],
             [
              0.8888888888888888,
              "#fdca26"
             ],
             [
              1,
              "#f0f921"
             ]
            ],
            "type": "contour"
           }
          ],
          "contourcarpet": [
           {
            "colorbar": {
             "outlinewidth": 0,
             "ticks": ""
            },
            "type": "contourcarpet"
           }
          ],
          "heatmap": [
           {
            "colorbar": {
             "outlinewidth": 0,
             "ticks": ""
            },
            "colorscale": [
             [
              0,
              "#0d0887"
             ],
             [
              0.1111111111111111,
              "#46039f"
             ],
             [
              0.2222222222222222,
              "#7201a8"
             ],
             [
              0.3333333333333333,
              "#9c179e"
             ],
             [
              0.4444444444444444,
              "#bd3786"
             ],
             [
              0.5555555555555556,
              "#d8576b"
             ],
             [
              0.6666666666666666,
              "#ed7953"
             ],
             [
              0.7777777777777778,
              "#fb9f3a"
             ],
             [
              0.8888888888888888,
              "#fdca26"
             ],
             [
              1,
              "#f0f921"
             ]
            ],
            "type": "heatmap"
           }
          ],
          "heatmapgl": [
           {
            "colorbar": {
             "outlinewidth": 0,
             "ticks": ""
            },
            "colorscale": [
             [
              0,
              "#0d0887"
             ],
             [
              0.1111111111111111,
              "#46039f"
             ],
             [
              0.2222222222222222,
              "#7201a8"
             ],
             [
              0.3333333333333333,
              "#9c179e"
             ],
             [
              0.4444444444444444,
              "#bd3786"
             ],
             [
              0.5555555555555556,
              "#d8576b"
             ],
             [
              0.6666666666666666,
              "#ed7953"
             ],
             [
              0.7777777777777778,
              "#fb9f3a"
             ],
             [
              0.8888888888888888,
              "#fdca26"
             ],
             [
              1,
              "#f0f921"
             ]
            ],
            "type": "heatmapgl"
           }
          ],
          "histogram": [
           {
            "marker": {
             "pattern": {
              "fillmode": "overlay",
              "size": 10,
              "solidity": 0.2
             }
            },
            "type": "histogram"
           }
          ],
          "histogram2d": [
           {
            "colorbar": {
             "outlinewidth": 0,
             "ticks": ""
            },
            "colorscale": [
             [
              0,
              "#0d0887"
             ],
             [
              0.1111111111111111,
              "#46039f"
             ],
             [
              0.2222222222222222,
              "#7201a8"
             ],
             [
              0.3333333333333333,
              "#9c179e"
             ],
             [
              0.4444444444444444,
              "#bd3786"
             ],
             [
              0.5555555555555556,
              "#d8576b"
             ],
             [
              0.6666666666666666,
              "#ed7953"
             ],
             [
              0.7777777777777778,
              "#fb9f3a"
             ],
             [
              0.8888888888888888,
              "#fdca26"
             ],
             [
              1,
              "#f0f921"
             ]
            ],
            "type": "histogram2d"
           }
          ],
          "histogram2dcontour": [
           {
            "colorbar": {
             "outlinewidth": 0,
             "ticks": ""
            },
            "colorscale": [
             [
              0,
              "#0d0887"
             ],
             [
              0.1111111111111111,
              "#46039f"
             ],
             [
              0.2222222222222222,
              "#7201a8"
             ],
             [
              0.3333333333333333,
              "#9c179e"
             ],
             [
              0.4444444444444444,
              "#bd3786"
             ],
             [
              0.5555555555555556,
              "#d8576b"
             ],
             [
              0.6666666666666666,
              "#ed7953"
             ],
             [
              0.7777777777777778,
              "#fb9f3a"
             ],
             [
              0.8888888888888888,
              "#fdca26"
             ],
             [
              1,
              "#f0f921"
             ]
            ],
            "type": "histogram2dcontour"
           }
          ],
          "mesh3d": [
           {
            "colorbar": {
             "outlinewidth": 0,
             "ticks": ""
            },
            "type": "mesh3d"
           }
          ],
          "parcoords": [
           {
            "line": {
             "colorbar": {
              "outlinewidth": 0,
              "ticks": ""
             }
            },
            "type": "parcoords"
           }
          ],
          "pie": [
           {
            "automargin": true,
            "type": "pie"
           }
          ],
          "scatter": [
           {
            "fillpattern": {
             "fillmode": "overlay",
             "size": 10,
             "solidity": 0.2
            },
            "type": "scatter"
           }
          ],
          "scatter3d": [
           {
            "line": {
             "colorbar": {
              "outlinewidth": 0,
              "ticks": ""
             }
            },
            "marker": {
             "colorbar": {
              "outlinewidth": 0,
              "ticks": ""
             }
            },
            "type": "scatter3d"
           }
          ],
          "scattercarpet": [
           {
            "marker": {
             "colorbar": {
              "outlinewidth": 0,
              "ticks": ""
             }
            },
            "type": "scattercarpet"
           }
          ],
          "scattergeo": [
           {
            "marker": {
             "colorbar": {
              "outlinewidth": 0,
              "ticks": ""
             }
            },
            "type": "scattergeo"
           }
          ],
          "scattergl": [
           {
            "marker": {
             "colorbar": {
              "outlinewidth": 0,
              "ticks": ""
             }
            },
            "type": "scattergl"
           }
          ],
          "scattermapbox": [
           {
            "marker": {
             "colorbar": {
              "outlinewidth": 0,
              "ticks": ""
             }
            },
            "type": "scattermapbox"
           }
          ],
          "scatterpolar": [
           {
            "marker": {
             "colorbar": {
              "outlinewidth": 0,
              "ticks": ""
             }
            },
            "type": "scatterpolar"
           }
          ],
          "scatterpolargl": [
           {
            "marker": {
             "colorbar": {
              "outlinewidth": 0,
              "ticks": ""
             }
            },
            "type": "scatterpolargl"
           }
          ],
          "scatterternary": [
           {
            "marker": {
             "colorbar": {
              "outlinewidth": 0,
              "ticks": ""
             }
            },
            "type": "scatterternary"
           }
          ],
          "surface": [
           {
            "colorbar": {
             "outlinewidth": 0,
             "ticks": ""
            },
            "colorscale": [
             [
              0,
              "#0d0887"
             ],
             [
              0.1111111111111111,
              "#46039f"
             ],
             [
              0.2222222222222222,
              "#7201a8"
             ],
             [
              0.3333333333333333,
              "#9c179e"
             ],
             [
              0.4444444444444444,
              "#bd3786"
             ],
             [
              0.5555555555555556,
              "#d8576b"
             ],
             [
              0.6666666666666666,
              "#ed7953"
             ],
             [
              0.7777777777777778,
              "#fb9f3a"
             ],
             [
              0.8888888888888888,
              "#fdca26"
             ],
             [
              1,
              "#f0f921"
             ]
            ],
            "type": "surface"
           }
          ],
          "table": [
           {
            "cells": {
             "fill": {
              "color": "#EBF0F8"
             },
             "line": {
              "color": "white"
             }
            },
            "header": {
             "fill": {
              "color": "#C8D4E3"
             },
             "line": {
              "color": "white"
             }
            },
            "type": "table"
           }
          ]
         },
         "layout": {
          "annotationdefaults": {
           "arrowcolor": "#2a3f5f",
           "arrowhead": 0,
           "arrowwidth": 1
          },
          "autotypenumbers": "strict",
          "coloraxis": {
           "colorbar": {
            "outlinewidth": 0,
            "ticks": ""
           }
          },
          "colorscale": {
           "diverging": [
            [
             0,
             "#8e0152"
            ],
            [
             0.1,
             "#c51b7d"
            ],
            [
             0.2,
             "#de77ae"
            ],
            [
             0.3,
             "#f1b6da"
            ],
            [
             0.4,
             "#fde0ef"
            ],
            [
             0.5,
             "#f7f7f7"
            ],
            [
             0.6,
             "#e6f5d0"
            ],
            [
             0.7,
             "#b8e186"
            ],
            [
             0.8,
             "#7fbc41"
            ],
            [
             0.9,
             "#4d9221"
            ],
            [
             1,
             "#276419"
            ]
           ],
           "sequential": [
            [
             0,
             "#0d0887"
            ],
            [
             0.1111111111111111,
             "#46039f"
            ],
            [
             0.2222222222222222,
             "#7201a8"
            ],
            [
             0.3333333333333333,
             "#9c179e"
            ],
            [
             0.4444444444444444,
             "#bd3786"
            ],
            [
             0.5555555555555556,
             "#d8576b"
            ],
            [
             0.6666666666666666,
             "#ed7953"
            ],
            [
             0.7777777777777778,
             "#fb9f3a"
            ],
            [
             0.8888888888888888,
             "#fdca26"
            ],
            [
             1,
             "#f0f921"
            ]
           ],
           "sequentialminus": [
            [
             0,
             "#0d0887"
            ],
            [
             0.1111111111111111,
             "#46039f"
            ],
            [
             0.2222222222222222,
             "#7201a8"
            ],
            [
             0.3333333333333333,
             "#9c179e"
            ],
            [
             0.4444444444444444,
             "#bd3786"
            ],
            [
             0.5555555555555556,
             "#d8576b"
            ],
            [
             0.6666666666666666,
             "#ed7953"
            ],
            [
             0.7777777777777778,
             "#fb9f3a"
            ],
            [
             0.8888888888888888,
             "#fdca26"
            ],
            [
             1,
             "#f0f921"
            ]
           ]
          },
          "colorway": [
           "#636efa",
           "#EF553B",
           "#00cc96",
           "#ab63fa",
           "#FFA15A",
           "#19d3f3",
           "#FF6692",
           "#B6E880",
           "#FF97FF",
           "#FECB52"
          ],
          "font": {
           "color": "#2a3f5f"
          },
          "geo": {
           "bgcolor": "white",
           "lakecolor": "white",
           "landcolor": "#E5ECF6",
           "showlakes": true,
           "showland": true,
           "subunitcolor": "white"
          },
          "hoverlabel": {
           "align": "left"
          },
          "hovermode": "closest",
          "mapbox": {
           "style": "light"
          },
          "paper_bgcolor": "white",
          "plot_bgcolor": "#E5ECF6",
          "polar": {
           "angularaxis": {
            "gridcolor": "white",
            "linecolor": "white",
            "ticks": ""
           },
           "bgcolor": "#E5ECF6",
           "radialaxis": {
            "gridcolor": "white",
            "linecolor": "white",
            "ticks": ""
           }
          },
          "scene": {
           "xaxis": {
            "backgroundcolor": "#E5ECF6",
            "gridcolor": "white",
            "gridwidth": 2,
            "linecolor": "white",
            "showbackground": true,
            "ticks": "",
            "zerolinecolor": "white"
           },
           "yaxis": {
            "backgroundcolor": "#E5ECF6",
            "gridcolor": "white",
            "gridwidth": 2,
            "linecolor": "white",
            "showbackground": true,
            "ticks": "",
            "zerolinecolor": "white"
           },
           "zaxis": {
            "backgroundcolor": "#E5ECF6",
            "gridcolor": "white",
            "gridwidth": 2,
            "linecolor": "white",
            "showbackground": true,
            "ticks": "",
            "zerolinecolor": "white"
           }
          },
          "shapedefaults": {
           "line": {
            "color": "#2a3f5f"
           }
          },
          "ternary": {
           "aaxis": {
            "gridcolor": "white",
            "linecolor": "white",
            "ticks": ""
           },
           "baxis": {
            "gridcolor": "white",
            "linecolor": "white",
            "ticks": ""
           },
           "bgcolor": "#E5ECF6",
           "caxis": {
            "gridcolor": "white",
            "linecolor": "white",
            "ticks": ""
           }
          },
          "title": {
           "x": 0.05
          },
          "xaxis": {
           "automargin": true,
           "gridcolor": "white",
           "linecolor": "white",
           "ticks": "",
           "title": {
            "standoff": 15
           },
           "zerolinecolor": "white",
           "zerolinewidth": 2
          },
          "yaxis": {
           "automargin": true,
           "gridcolor": "white",
           "linecolor": "white",
           "ticks": "",
           "title": {
            "standoff": 15
           },
           "zerolinecolor": "white",
           "zerolinewidth": 2
          }
         }
        },
        "title": {
         "text": "Temperature Predictions vs Actuals"
        },
        "xaxis": {
         "autorange": true,
         "range": [
          "2024-05-11 22:00",
          "2024-05-14 01:57:21.419"
         ],
         "title": {
          "text": "Date"
         },
         "type": "date"
        },
        "yaxis": {
         "autorange": true,
         "range": [
          7.413444466061062,
          22.02455621295505
         ],
         "title": {
          "text": "Temperature (°C)"
         },
         "type": "linear"
        }
       }
      },
      "image/png": "[encoded data removed]",
      "text/html": [
       "<div>                            <div id=\"5e6e2c85-1bb8-4a6f-ae5a-ba5786c14e9e\" class=\"plotly-graph-div\" style=\"height:525px; width:100%;\"></div>            <script type=\"text/javascript\">                require([\"plotly\"], function(Plotly) {                    window.PLOTLYENV=window.PLOTLYENV || {};                                    if (document.getElementById(\"5e6e2c85-1bb8-4a6f-ae5a-ba5786c14e9e\")) {                    Plotly.newPlot(                        \"5e6e2c85-1bb8-4a6f-ae5a-ba5786c14e9e\",                        [{\"line\":{\"color\":\"blue\"},\"mode\":\"lines\",\"name\":\"Original T2M\",\"x\":[\"2024-05-11T22:00:00+00:00\",\"2024-05-11T23:00:00+00:00\",\"2024-05-12T00:00:00+00:00\",\"2024-05-12T01:00:00+00:00\",\"2024-05-12T02:00:00+00:00\",\"2024-05-12T03:00:00+00:00\",\"2024-05-12T04:00:00+00:00\",\"2024-05-12T05:00:00+00:00\",\"2024-05-12T06:00:00+00:00\",\"2024-05-12T07:00:00+00:00\",\"2024-05-12T08:00:00+00:00\",\"2024-05-12T09:00:00+00:00\",\"2024-05-12T10:00:00+00:00\",\"2024-05-12T11:00:00+00:00\",\"2024-05-12T12:00:00+00:00\",\"2024-05-12T13:00:00+00:00\",\"2024-05-12T14:00:00+00:00\",\"2024-05-12T15:00:00+00:00\",\"2024-05-12T16:00:00+00:00\",\"2024-05-12T17:00:00+00:00\",\"2024-05-12T18:00:00+00:00\",\"2024-05-12T19:00:00+00:00\",\"2024-05-12T20:00:00+00:00\",\"2024-05-12T21:00:00+00:00\",\"2024-05-12T22:00:00+00:00\",\"2024-05-12T23:00:00+00:00\",\"2024-05-13T00:00:00+00:00\",\"2024-05-13T01:00:00+00:00\",\"2024-05-13T02:00:00+00:00\",\"2024-05-13T03:00:00+00:00\",\"2024-05-13T04:00:00+00:00\",\"2024-05-13T05:00:00+00:00\",\"2024-05-13T06:00:00+00:00\",\"2024-05-13T07:00:00+00:00\",\"2024-05-13T08:00:00+00:00\",\"2024-05-13T09:00:00+00:00\",\"2024-05-13T10:00:00+00:00\",\"2024-05-13T11:00:00+00:00\",\"2024-05-13T12:00:00+00:00\",\"2024-05-13T13:00:00+00:00\",\"2024-05-13T14:00:00+00:00\",\"2024-05-13T15:00:00+00:00\",\"2024-05-13T16:00:00+00:00\",\"2024-05-13T17:00:00+00:00\"],\"y\":[9.093999862670898,8.743999481201172,8.394000053405762,8.243999481201172,8.144000053405762,8.194000244140625,8.694000244140625,10.293999671936035,12.493999481201172,14.444000244140625,16.194000244140625,17.643999099731445,18.743999481201172,19.643999099731445,20.3439998626709,21.29400062561035,20.8439998626709,19.8439998626709,19.694000244140625,18.3439998626709,16.0939998626709,13.944000244140625,12.093999862670898,11.243999481201172,10.444000244140625,9.843999862670898,9.293999671936035,8.644000053405762,8.593999862670898,8.493999481201172,9.043999671936035,10.993999481201172,13.743999481201172,16.04400062561035,17.79400062561035,18.993999481201172,20.0939998626709,20.893999099731445,21.04400062561035,20.54400062561035,20.444000244140625,20.04400062561035,20.444000244140625,20.0939998626709],\"type\":\"scatter\"},{\"line\":{\"color\":\"red\",\"dash\":\"dash\"},\"mode\":\"lines+markers\",\"name\":\"Predicted T2M\",\"x\":[\"2024-05-13T18:00:00+00:00\",\"2024-05-13T19:00:00+00:00\",\"2024-05-13T20:00:00+00:00\",\"2024-05-13T21:00:00+00:00\",\"2024-05-13T22:00:00+00:00\",\"2024-05-13T23:00:00+00:00\"],\"y\":[16.62011925492277,14.646314883485841,13.33282515529572,12.380914905249481,11.694952237724406,10.903957834714047],\"type\":\"scatter\"},{\"line\":{\"color\":\"green\"},\"mode\":\"lines\",\"name\":\"Actual T2M\",\"x\":[\"2024-05-13T17:00:00+00:00\",\"2024-05-13T18:00:00+00:00\",\"2024-05-13T19:00:00+00:00\",\"2024-05-13T20:00:00+00:00\",\"2024-05-13T21:00:00+00:00\",\"2024-05-13T22:00:00+00:00\",\"2024-05-13T23:00:00+00:00\"],\"y\":[20.0939998626709,18.3439998626709,15.543999671936035,13.243999481201172,11.644000053405762,10.644000053405762,10.194000244140625],\"type\":\"scatter\"}],                        {\"template\":{\"data\":{\"histogram2dcontour\":[{\"type\":\"histogram2dcontour\",\"colorbar\":{\"outlinewidth\":0,\"ticks\":\"\"},\"colorscale\":[[0.0,\"#0d0887\"],[0.1111111111111111,\"#46039f\"],[0.2222222222222222,\"#7201a8\"],[0.3333333333333333,\"#9c179e\"],[0.4444444444444444,\"#bd3786\"],[0.5555555555555556,\"#d8576b\"],[0.6666666666666666,\"#ed7953\"],[0.7777777777777778,\"#fb9f3a\"],[0.8888888888888888,\"#fdca26\"],[1.0,\"#f0f921\"]]}],\"choropleth\":[{\"type\":\"choropleth\",\"colorbar\":{\"outlinewidth\":0,\"ticks\":\"\"}}],\"histogram2d\":[{\"type\":\"histogram2d\",\"colorbar\":{\"outlinewidth\":0,\"ticks\":\"\"},\"colorscale\":[[0.0,\"#0d0887\"],[0.1111111111111111,\"#46039f\"],[0.2222222222222222,\"#7201a8\"],[0.3333333333333333,\"#9c179e\"],[0.4444444444444444,\"#bd3786\"],[0.5555555555555556,\"#d8576b\"],[0.6666666666666666,\"#ed7953\"],[0.7777777777777778,\"#fb9f3a\"],[0.8888888888888888,\"#fdca26\"],[1.0,\"#f0f921\"]]}],\"heatmap\":[{\"type\":\"heatmap\",\"colorbar\":{\"outlinewidth\":0,\"ticks\":\"\"},\"colorscale\":[[0.0,\"#0d0887\"],[0.1111111111111111,\"#46039f\"],[0.2222222222222222,\"#7201a8\"],[0.3333333333333333,\"#9c179e\"],[0.4444444444444444,\"#bd3786\"],[0.5555555555555556,\"#d8576b\"],[0.6666666666666666,\"#ed7953\"],[0.7777777777777778,\"#fb9f3a\"],[0.8888888888888888,\"#fdca26\"],[1.0,\"#f0f921\"]]}],\"heatmapgl\":[{\"type\":\"heatmapgl\",\"colorbar\":{\"outlinewidth\":0,\"ticks\":\"\"},\"colorscale\":[[0.0,\"#0d0887\"],[0.1111111111111111,\"#46039f\"],[0.2222222222222222,\"#7201a8\"],[0.3333333333333333,\"#9c179e\"],[0.4444444444444444,\"#bd3786\"],[0.5555555555555556,\"#d8576b\"],[0.6666666666666666,\"#ed7953\"],[0.7777777777777778,\"#fb9f3a\"],[0.8888888888888888,\"#fdca26\"],[1.0,\"#f0f921\"]]}],\"contourcarpet\":[{\"type\":\"contourcarpet\",\"colorbar\":{\"outlinewidth\":0,\"ticks\":\"\"}}],\"contour\":[{\"type\":\"contour\",\"colorbar\":{\"outlinewidth\":0,\"ticks\":\"\"},\"colorscale\":[[0.0,\"#0d0887\"],[0.1111111111111111,\"#46039f\"],[0.2222222222222222,\"#7201a8\"],[0.3333333333333333,\"#9c179e\"],[0.4444444444444444,\"#bd3786\"],[0.5555555555555556,\"#d8576b\"],[0.6666666666666666,\"#ed7953\"],[0.7777777777777778,\"#fb9f3a\"],[0.8888888888888888,\"#fdca26\"],[1.0,\"#f0f921\"]]}],\"surface\":[{\"type\":\"surface\",\"colorbar\":{\"outlinewidth\":0,\"ticks\":\"\"},\"colorscale\":[[0.0,\"#0d0887\"],[0.1111111111111111,\"#46039f\"],[0.2222222222222222,\"#7201a8\"],[0.3333333333333333,\"#9c179e\"],[0.4444444444444444,\"#bd3786\"],[0.5555555555555556,\"#d8576b\"],[0.6666666666666666,\"#ed7953\"],[0.7777777777777778,\"#fb9f3a\"],[0.8888888888888888,\"#fdca26\"],[1.0,\"#f0f921\"]]}],\"mesh3d\":[{\"type\":\"mesh3d\",\"colorbar\":{\"outlinewidth\":0,\"ticks\":\"\"}}],\"scatter\":[{\"fillpattern\":{\"fillmode\":\"overlay\",\"size\":10,\"solidity\":0.2},\"type\":\"scatter\"}],\"parcoords\":[{\"type\":\"parcoords\",\"line\":{\"colorbar\":{\"outlinewidth\":0,\"ticks\":\"\"}}}],\"scatterpolargl\":[{\"type\":\"scatterpolargl\",\"marker\":{\"colorbar\":{\"outlinewidth\":0,\"ticks\":\"\"}}}],\"bar\":[{\"error_x\":{\"color\":\"#2a3f5f\"},\"error_y\":{\"color\":\"#2a3f5f\"},\"marker\":{\"line\":{\"color\":\"#E5ECF6\",\"width\":0.5},\"pattern\":{\"fillmode\":\"overlay\",\"size\":10,\"solidity\":0.2}},\"type\":\"bar\"}],\"scattergeo\":[{\"type\":\"scattergeo\",\"marker\":{\"colorbar\":{\"outlinewidth\":0,\"ticks\":\"\"}}}],\"scatterpolar\":[{\"type\":\"scatterpolar\",\"marker\":{\"colorbar\":{\"outlinewidth\":0,\"ticks\":\"\"}}}],\"histogram\":[{\"marker\":{\"pattern\":{\"fillmode\":\"overlay\",\"size\":10,\"solidity\":0.2}},\"type\":\"histogram\"}],\"scattergl\":[{\"type\":\"scattergl\",\"marker\":{\"colorbar\":{\"outlinewidth\":0,\"ticks\":\"\"}}}],\"scatter3d\":[{\"type\":\"scatter3d\",\"line\":{\"colorbar\":{\"outlinewidth\":0,\"ticks\":\"\"}},\"marker\":{\"colorbar\":{\"outlinewidth\":0,\"ticks\":\"\"}}}],\"scattermapbox\":[{\"type\":\"scattermapbox\",\"marker\":{\"colorbar\":{\"outlinewidth\":0,\"ticks\":\"\"}}}],\"scatterternary\":[{\"type\":\"scatterternary\",\"marker\":{\"colorbar\":{\"outlinewidth\":0,\"ticks\":\"\"}}}],\"scattercarpet\":[{\"type\":\"scattercarpet\",\"marker\":{\"colorbar\":{\"outlinewidth\":0,\"ticks\":\"\"}}}],\"carpet\":[{\"aaxis\":{\"endlinecolor\":\"#2a3f5f\",\"gridcolor\":\"white\",\"linecolor\":\"white\",\"minorgridcolor\":\"white\",\"startlinecolor\":\"#2a3f5f\"},\"baxis\":{\"endlinecolor\":\"#2a3f5f\",\"gridcolor\":\"white\",\"linecolor\":\"white\",\"minorgridcolor\":\"white\",\"startlinecolor\":\"#2a3f5f\"},\"type\":\"carpet\"}],\"table\":[{\"cells\":{\"fill\":{\"color\":\"#EBF0F8\"},\"line\":{\"color\":\"white\"}},\"header\":{\"fill\":{\"color\":\"#C8D4E3\"},\"line\":{\"color\":\"white\"}},\"type\":\"table\"}],\"barpolar\":[{\"marker\":{\"line\":{\"color\":\"#E5ECF6\",\"width\":0.5},\"pattern\":{\"fillmode\":\"overlay\",\"size\":10,\"solidity\":0.2}},\"type\":\"barpolar\"}],\"pie\":[{\"automargin\":true,\"type\":\"pie\"}]},\"layout\":{\"autotypenumbers\":\"strict\",\"colorway\":[\"#636efa\",\"#EF553B\",\"#00cc96\",\"#ab63fa\",\"#FFA15A\",\"#19d3f3\",\"#FF6692\",\"#B6E880\",\"#FF97FF\",\"#FECB52\"],\"font\":{\"color\":\"#2a3f5f\"},\"hovermode\":\"closest\",\"hoverlabel\":{\"align\":\"left\"},\"paper_bgcolor\":\"white\",\"plot_bgcolor\":\"#E5ECF6\",\"polar\":{\"bgcolor\":\"#E5ECF6\",\"angularaxis\":{\"gridcolor\":\"white\",\"linecolor\":\"white\",\"ticks\":\"\"},\"radialaxis\":{\"gridcolor\":\"white\",\"linecolor\":\"white\",\"ticks\":\"\"}},\"ternary\":{\"bgcolor\":\"#E5ECF6\",\"aaxis\":{\"gridcolor\":\"white\",\"linecolor\":\"white\",\"ticks\":\"\"},\"baxis\":{\"gridcolor\":\"white\",\"linecolor\":\"white\",\"ticks\":\"\"},\"caxis\":{\"gridcolor\":\"white\",\"linecolor\":\"white\",\"ticks\":\"\"}},\"coloraxis\":{\"colorbar\":{\"outlinewidth\":0,\"ticks\":\"\"}},\"colorscale\":{\"sequential\":[[0.0,\"#0d0887\"],[0.1111111111111111,\"#46039f\"],[0.2222222222222222,\"#7201a8\"],[0.3333333333333333,\"#9c179e\"],[0.4444444444444444,\"#bd3786\"],[0.5555555555555556,\"#d8576b\"],[0.6666666666666666,\"#ed7953\"],[0.7777777777777778,\"#fb9f3a\"],[0.8888888888888888,\"#fdca26\"],[1.0,\"#f0f921\"]],\"sequentialminus\":[[0.0,\"#0d0887\"],[0.1111111111111111,\"#46039f\"],[0.2222222222222222,\"#7201a8\"],[0.3333333333333333,\"#9c179e\"],[0.4444444444444444,\"#bd3786\"],[0.5555555555555556,\"#d8576b\"],[0.6666666666666666,\"#ed7953\"],[0.7777777777777778,\"#fb9f3a\"],[0.8888888888888888,\"#fdca26\"],[1.0,\"#f0f921\"]],\"diverging\":[[0,\"#8e0152\"],[0.1,\"#c51b7d\"],[0.2,\"#de77ae\"],[0.3,\"#f1b6da\"],[0.4,\"#fde0ef\"],[0.5,\"#f7f7f7\"],[0.6,\"#e6f5d0\"],[0.7,\"#b8e186\"],[0.8,\"#7fbc41\"],[0.9,\"#4d9221\"],[1,\"#276419\"]]},\"xaxis\":{\"gridcolor\":\"white\",\"linecolor\":\"white\",\"ticks\":\"\",\"title\":{\"standoff\":15},\"zerolinecolor\":\"white\",\"automargin\":true,\"zerolinewidth\":2},\"yaxis\":{\"gridcolor\":\"white\",\"linecolor\":\"white\",\"ticks\":\"\",\"title\":{\"standoff\":15},\"zerolinecolor\":\"white\",\"automargin\":true,\"zerolinewidth\":2},\"scene\":{\"xaxis\":{\"backgroundcolor\":\"#E5ECF6\",\"gridcolor\":\"white\",\"linecolor\":\"white\",\"showbackground\":true,\"ticks\":\"\",\"zerolinecolor\":\"white\",\"gridwidth\":2},\"yaxis\":{\"backgroundcolor\":\"#E5ECF6\",\"gridcolor\":\"white\",\"linecolor\":\"white\",\"showbackground\":true,\"ticks\":\"\",\"zerolinecolor\":\"white\",\"gridwidth\":2},\"zaxis\":{\"backgroundcolor\":\"#E5ECF6\",\"gridcolor\":\"white\",\"linecolor\":\"white\",\"showbackground\":true,\"ticks\":\"\",\"zerolinecolor\":\"white\",\"gridwidth\":2}},\"shapedefaults\":{\"line\":{\"color\":\"#2a3f5f\"}},\"annotationdefaults\":{\"arrowcolor\":\"#2a3f5f\",\"arrowhead\":0,\"arrowwidth\":1},\"geo\":{\"bgcolor\":\"white\",\"landcolor\":\"#E5ECF6\",\"subunitcolor\":\"white\",\"showland\":true,\"showlakes\":true,\"lakecolor\":\"white\"},\"title\":{\"x\":0.05},\"mapbox\":{\"style\":\"light\"}}},\"title\":{\"text\":\"Temperature Predictions vs Actuals\"},\"xaxis\":{\"title\":{\"text\":\"Date\"}},\"yaxis\":{\"title\":{\"text\":\"Temperature (\\u00b0C)\"}},\"hovermode\":\"x unified\"},                        {\"responsive\": true}                    ).then(function(){\n",
       "                            \n",
       "var gd = document.getElementById('5e6e2c85-1bb8-4a6f-ae5a-ba5786c14e9e');\n",
       "var x = new MutationObserver(function (mutations, observer) {{\n",
       "        var display = window.getComputedStyle(gd).display;\n",
       "        if (!display || display === 'none') {{\n",
       "            console.log([gd, 'removed!']);\n",
       "            Plotly.purge(gd);\n",
       "            observer.disconnect();\n",
       "        }}\n",
       "}});\n",
       "\n",
       "// Listen for the removal of the full notebook cells\n",
       "var notebookContainer = gd.closest('#notebook-container');\n",
       "if (notebookContainer) {{\n",
       "    x.observe(notebookContainer, {childList: true});\n",
       "}}\n",
       "\n",
       "// Listen for the clearing of the current output cell\n",
       "var outputEl = gd.closest('.output');\n",
       "if (outputEl) {{\n",
       "    x.observe(outputEl, {childList: true});\n",
       "}}\n",
       "\n",
       "                        })                };                });            </script>        </div>"
      ]
     },
     "metadata": {},
     "output_type": "display_data"
    }
   ],
   "source": [
    "\n",
    "lat = 44.7871\n",
    "lon = 20.4572\n",
    "lat = 59.3293\n",
    "lon = 12.5683\n",
    "\n",
    "predict_next_6_hours(lat, lon)"
   ]
  },
  {
   "cell_type": "code",
   "execution_count": 62,
   "id": "21e0a0f8-2e32-4d1a-a8bd-7d0537d95557",
   "metadata": {},
   "outputs": [
    {
     "name": "stdout",
     "output_type": "stream",
     "text": [
      "2024-05-12\n",
      "2024-05-15\n",
      "9\n",
      "2024-05-12\n",
      "2024-05-15\n",
      "Coordinates 44.81546401977539°N 20.448223114013672°E\n",
      "Elevation 138.0 m asl\n",
      "Timezone b'Europe/Belgrade' b'CEST'\n",
      "Timezone difference to GMT+0 7200 s\n"
     ]
    },
    {
     "name": "stderr",
     "output_type": "stream",
     "text": [
      "/tmp/ipykernel_18211/3754601863.py:20: FutureWarning:\n",
      "\n",
      "DataFrame.fillna with 'method' is deprecated and will raise in a future version. Use obj.ffill() or obj.bfill() instead.\n",
      "\n",
      "/tmp/ipykernel_18211/3754601863.py:21: FutureWarning:\n",
      "\n",
      "DataFrame.fillna with 'method' is deprecated and will raise in a future version. Use obj.ffill() or obj.bfill() instead.\n",
      "\n",
      "/tmp/ipykernel_18211/3754601863.py:20: FutureWarning:\n",
      "\n",
      "DataFrame.fillna with 'method' is deprecated and will raise in a future version. Use obj.ffill() or obj.bfill() instead.\n",
      "\n",
      "/tmp/ipykernel_18211/3754601863.py:21: FutureWarning:\n",
      "\n",
      "DataFrame.fillna with 'method' is deprecated and will raise in a future version. Use obj.ffill() or obj.bfill() instead.\n",
      "\n"
     ]
    },
    {
     "name": "stdout",
     "output_type": "stream",
     "text": [
      "2024-05-12\n",
      "2024-05-15\n",
      "Coordinates 44.81546401977539°N 20.448223114013672°E\n",
      "Elevation 138.0 m asl\n",
      "Timezone b'Europe/Belgrade' b'CEST'\n",
      "Timezone difference to GMT+0 7200 s\n",
      "15\n",
      "\u001b[1m1/1\u001b[0m \u001b[32m━━━━━━━━━━━━━━━━━━━━\u001b[0m\u001b[37m\u001b[0m \u001b[1m0s\u001b[0m 60ms/step\n"
     ]
    },
    {
     "data": {
      "application/vnd.plotly.v1+json": {
       "config": {
        "plotlyServerURL": "https://plot.ly"
       },
       "data": [
        {
         "line": {
          "color": "blue"
         },
         "mode": "lines",
         "name": "Original T2M",
         "type": "scatter",
         "x": [
          "2024-05-11T22:00:00+00:00",
          "2024-05-11T23:00:00+00:00",
          "2024-05-12T00:00:00+00:00",
          "2024-05-12T01:00:00+00:00",
          "2024-05-12T02:00:00+00:00",
          "2024-05-12T03:00:00+00:00",
          "2024-05-12T04:00:00+00:00",
          "2024-05-12T05:00:00+00:00",
          "2024-05-12T06:00:00+00:00",
          "2024-05-12T07:00:00+00:00",
          "2024-05-12T08:00:00+00:00",
          "2024-05-12T09:00:00+00:00",
          "2024-05-12T10:00:00+00:00",
          "2024-05-12T11:00:00+00:00",
          "2024-05-12T12:00:00+00:00",
          "2024-05-12T13:00:00+00:00",
          "2024-05-12T14:00:00+00:00",
          "2024-05-12T15:00:00+00:00",
          "2024-05-12T16:00:00+00:00",
          "2024-05-12T17:00:00+00:00",
          "2024-05-12T18:00:00+00:00",
          "2024-05-12T19:00:00+00:00",
          "2024-05-12T20:00:00+00:00",
          "2024-05-12T21:00:00+00:00",
          "2024-05-12T22:00:00+00:00",
          "2024-05-12T23:00:00+00:00",
          "2024-05-13T00:00:00+00:00",
          "2024-05-13T01:00:00+00:00",
          "2024-05-13T02:00:00+00:00",
          "2024-05-13T03:00:00+00:00",
          "2024-05-13T04:00:00+00:00",
          "2024-05-13T05:00:00+00:00",
          "2024-05-13T06:00:00+00:00",
          "2024-05-13T07:00:00+00:00",
          "2024-05-13T08:00:00+00:00",
          "2024-05-13T09:00:00+00:00",
          "2024-05-13T10:00:00+00:00",
          "2024-05-13T11:00:00+00:00",
          "2024-05-13T12:00:00+00:00",
          "2024-05-13T13:00:00+00:00",
          "2024-05-13T14:00:00+00:00"
         ],
         "y": [
          15.51349925994873,
          15.713500022888184,
          15.713500022888184,
          12.76349925994873,
          13.41349983215332,
          12.813499450683594,
          13.563499450683594,
          14.66349983215332,
          16.16349983215332,
          17.013500213623047,
          18.2135009765625,
          19.363500595092773,
          17.4635009765625,
          18.813501358032227,
          20.2135009765625,
          18.313501358032227,
          18.513500213623047,
          18.7135009765625,
          18.363500595092773,
          17.613500595092773,
          15.76349925994873,
          14.613499641418457,
          13.813499450683594,
          13.363499641418457,
          12.813499450683594,
          12.213500022888184,
          11.563499450683594,
          9.26349925994873,
          9.01349925994873,
          8.713500022888184,
          9.713500022888184,
          10.91349983215332,
          12.66349983215332,
          14.613499641418457,
          16.41349983215332,
          17.91349983215332,
          19.063501358032227,
          19.9635009765625,
          20.4635009765625,
          21.113500595092773,
          21.263500213623047
         ]
        },
        {
         "line": {
          "color": "red",
          "dash": "dash"
         },
         "mode": "lines+markers",
         "name": "Predicted T2M",
         "type": "scatter",
         "x": [
          "2024-05-13T15:00:00+00:00",
          "2024-05-13T16:00:00+00:00",
          "2024-05-13T17:00:00+00:00",
          "2024-05-13T18:00:00+00:00",
          "2024-05-13T19:00:00+00:00",
          "2024-05-13T20:00:00+00:00"
         ],
         "y": [
          21.343910999464242,
          20.722429999112933,
          19.21796962199562,
          17.09845423271372,
          15.520958989860786,
          14.130723831327826
         ]
        },
        {
         "line": {
          "color": "green"
         },
         "mode": "lines",
         "name": "Actual T2M",
         "type": "scatter",
         "x": [
          "2024-05-13T14:00:00+00:00",
          "2024-05-13T15:00:00+00:00",
          "2024-05-13T16:00:00+00:00",
          "2024-05-13T17:00:00+00:00",
          "2024-05-13T18:00:00+00:00",
          "2024-05-13T19:00:00+00:00",
          "2024-05-13T20:00:00+00:00",
          "2024-05-13T21:00:00+00:00",
          "2024-05-13T22:00:00+00:00",
          "2024-05-13T23:00:00+00:00"
         ],
         "y": [
          21.263500213623047,
          20.91349983215332,
          20.013500213623047,
          17.9635009765625,
          14.76349925994873,
          14.213500022888184,
          13.66349983215332,
          13.213500022888184,
          13.41349983215332,
          13.113499641418457
         ]
        }
       ],
       "layout": {
        "autosize": true,
        "hovermode": "x unified",
        "template": {
         "data": {
          "bar": [
           {
            "error_x": {
             "color": "#2a3f5f"
            },
            "error_y": {
             "color": "#2a3f5f"
            },
            "marker": {
             "line": {
              "color": "#E5ECF6",
              "width": 0.5
             },
             "pattern": {
              "fillmode": "overlay",
              "size": 10,
              "solidity": 0.2
             }
            },
            "type": "bar"
           }
          ],
          "barpolar": [
           {
            "marker": {
             "line": {
              "color": "#E5ECF6",
              "width": 0.5
             },
             "pattern": {
              "fillmode": "overlay",
              "size": 10,
              "solidity": 0.2
             }
            },
            "type": "barpolar"
           }
          ],
          "carpet": [
           {
            "aaxis": {
             "endlinecolor": "#2a3f5f",
             "gridcolor": "white",
             "linecolor": "white",
             "minorgridcolor": "white",
             "startlinecolor": "#2a3f5f"
            },
            "baxis": {
             "endlinecolor": "#2a3f5f",
             "gridcolor": "white",
             "linecolor": "white",
             "minorgridcolor": "white",
             "startlinecolor": "#2a3f5f"
            },
            "type": "carpet"
           }
          ],
          "choropleth": [
           {
            "colorbar": {
             "outlinewidth": 0,
             "ticks": ""
            },
            "type": "choropleth"
           }
          ],
          "contour": [
           {
            "colorbar": {
             "outlinewidth": 0,
             "ticks": ""
            },
            "colorscale": [
             [
              0,
              "#0d0887"
             ],
             [
              0.1111111111111111,
              "#46039f"
             ],
             [
              0.2222222222222222,
              "#7201a8"
             ],
             [
              0.3333333333333333,
              "#9c179e"
             ],
             [
              0.4444444444444444,
              "#bd3786"
             ],
             [
              0.5555555555555556,
              "#d8576b"
             ],
             [
              0.6666666666666666,
              "#ed7953"
             ],
             [
              0.7777777777777778,
              "#fb9f3a"
             ],
             [
              0.8888888888888888,
              "#fdca26"
             ],
             [
              1,
              "#f0f921"
             ]
            ],
            "type": "contour"
           }
          ],
          "contourcarpet": [
           {
            "colorbar": {
             "outlinewidth": 0,
             "ticks": ""
            },
            "type": "contourcarpet"
           }
          ],
          "heatmap": [
           {
            "colorbar": {
             "outlinewidth": 0,
             "ticks": ""
            },
            "colorscale": [
             [
              0,
              "#0d0887"
             ],
             [
              0.1111111111111111,
              "#46039f"
             ],
             [
              0.2222222222222222,
              "#7201a8"
             ],
             [
              0.3333333333333333,
              "#9c179e"
             ],
             [
              0.4444444444444444,
              "#bd3786"
             ],
             [
              0.5555555555555556,
              "#d8576b"
             ],
             [
              0.6666666666666666,
              "#ed7953"
             ],
             [
              0.7777777777777778,
              "#fb9f3a"
             ],
             [
              0.8888888888888888,
              "#fdca26"
             ],
             [
              1,
              "#f0f921"
             ]
            ],
            "type": "heatmap"
           }
          ],
          "heatmapgl": [
           {
            "colorbar": {
             "outlinewidth": 0,
             "ticks": ""
            },
            "colorscale": [
             [
              0,
              "#0d0887"
             ],
             [
              0.1111111111111111,
              "#46039f"
             ],
             [
              0.2222222222222222,
              "#7201a8"
             ],
             [
              0.3333333333333333,
              "#9c179e"
             ],
             [
              0.4444444444444444,
              "#bd3786"
             ],
             [
              0.5555555555555556,
              "#d8576b"
             ],
             [
              0.6666666666666666,
              "#ed7953"
             ],
             [
              0.7777777777777778,
              "#fb9f3a"
             ],
             [
              0.8888888888888888,
              "#fdca26"
             ],
             [
              1,
              "#f0f921"
             ]
            ],
            "type": "heatmapgl"
           }
          ],
          "histogram": [
           {
            "marker": {
             "pattern": {
              "fillmode": "overlay",
              "size": 10,
              "solidity": 0.2
             }
            },
            "type": "histogram"
           }
          ],
          "histogram2d": [
           {
            "colorbar": {
             "outlinewidth": 0,
             "ticks": ""
            },
            "colorscale": [
             [
              0,
              "#0d0887"
             ],
             [
              0.1111111111111111,
              "#46039f"
             ],
             [
              0.2222222222222222,
              "#7201a8"
             ],
             [
              0.3333333333333333,
              "#9c179e"
             ],
             [
              0.4444444444444444,
              "#bd3786"
             ],
             [
              0.5555555555555556,
              "#d8576b"
             ],
             [
              0.6666666666666666,
              "#ed7953"
             ],
             [
              0.7777777777777778,
              "#fb9f3a"
             ],
             [
              0.8888888888888888,
              "#fdca26"
             ],
             [
              1,
              "#f0f921"
             ]
            ],
            "type": "histogram2d"
           }
          ],
          "histogram2dcontour": [
           {
            "colorbar": {
             "outlinewidth": 0,
             "ticks": ""
            },
            "colorscale": [
             [
              0,
              "#0d0887"
             ],
             [
              0.1111111111111111,
              "#46039f"
             ],
             [
              0.2222222222222222,
              "#7201a8"
             ],
             [
              0.3333333333333333,
              "#9c179e"
             ],
             [
              0.4444444444444444,
              "#bd3786"
             ],
             [
              0.5555555555555556,
              "#d8576b"
             ],
             [
              0.6666666666666666,
              "#ed7953"
             ],
             [
              0.7777777777777778,
              "#fb9f3a"
             ],
             [
              0.8888888888888888,
              "#fdca26"
             ],
             [
              1,
              "#f0f921"
             ]
            ],
            "type": "histogram2dcontour"
           }
          ],
          "mesh3d": [
           {
            "colorbar": {
             "outlinewidth": 0,
             "ticks": ""
            },
            "type": "mesh3d"
           }
          ],
          "parcoords": [
           {
            "line": {
             "colorbar": {
              "outlinewidth": 0,
              "ticks": ""
             }
            },
            "type": "parcoords"
           }
          ],
          "pie": [
           {
            "automargin": true,
            "type": "pie"
           }
          ],
          "scatter": [
           {
            "fillpattern": {
             "fillmode": "overlay",
             "size": 10,
             "solidity": 0.2
            },
            "type": "scatter"
           }
          ],
          "scatter3d": [
           {
            "line": {
             "colorbar": {
              "outlinewidth": 0,
              "ticks": ""
             }
            },
            "marker": {
             "colorbar": {
              "outlinewidth": 0,
              "ticks": ""
             }
            },
            "type": "scatter3d"
           }
          ],
          "scattercarpet": [
           {
            "marker": {
             "colorbar": {
              "outlinewidth": 0,
              "ticks": ""
             }
            },
            "type": "scattercarpet"
           }
          ],
          "scattergeo": [
           {
            "marker": {
             "colorbar": {
              "outlinewidth": 0,
              "ticks": ""
             }
            },
            "type": "scattergeo"
           }
          ],
          "scattergl": [
           {
            "marker": {
             "colorbar": {
              "outlinewidth": 0,
              "ticks": ""
             }
            },
            "type": "scattergl"
           }
          ],
          "scattermapbox": [
           {
            "marker": {
             "colorbar": {
              "outlinewidth": 0,
              "ticks": ""
             }
            },
            "type": "scattermapbox"
           }
          ],
          "scatterpolar": [
           {
            "marker": {
             "colorbar": {
              "outlinewidth": 0,
              "ticks": ""
             }
            },
            "type": "scatterpolar"
           }
          ],
          "scatterpolargl": [
           {
            "marker": {
             "colorbar": {
              "outlinewidth": 0,
              "ticks": ""
             }
            },
            "type": "scatterpolargl"
           }
          ],
          "scatterternary": [
           {
            "marker": {
             "colorbar": {
              "outlinewidth": 0,
              "ticks": ""
             }
            },
            "type": "scatterternary"
           }
          ],
          "surface": [
           {
            "colorbar": {
             "outlinewidth": 0,
             "ticks": ""
            },
            "colorscale": [
             [
              0,
              "#0d0887"
             ],
             [
              0.1111111111111111,
              "#46039f"
             ],
             [
              0.2222222222222222,
              "#7201a8"
             ],
             [
              0.3333333333333333,
              "#9c179e"
             ],
             [
              0.4444444444444444,
              "#bd3786"
             ],
             [
              0.5555555555555556,
              "#d8576b"
             ],
             [
              0.6666666666666666,
              "#ed7953"
             ],
             [
              0.7777777777777778,
              "#fb9f3a"
             ],
             [
              0.8888888888888888,
              "#fdca26"
             ],
             [
              1,
              "#f0f921"
             ]
            ],
            "type": "surface"
           }
          ],
          "table": [
           {
            "cells": {
             "fill": {
              "color": "#EBF0F8"
             },
             "line": {
              "color": "white"
             }
            },
            "header": {
             "fill": {
              "color": "#C8D4E3"
             },
             "line": {
              "color": "white"
             }
            },
            "type": "table"
           }
          ]
         },
         "layout": {
          "annotationdefaults": {
           "arrowcolor": "#2a3f5f",
           "arrowhead": 0,
           "arrowwidth": 1
          },
          "autotypenumbers": "strict",
          "coloraxis": {
           "colorbar": {
            "outlinewidth": 0,
            "ticks": ""
           }
          },
          "colorscale": {
           "diverging": [
            [
             0,
             "#8e0152"
            ],
            [
             0.1,
             "#c51b7d"
            ],
            [
             0.2,
             "#de77ae"
            ],
            [
             0.3,
             "#f1b6da"
            ],
            [
             0.4,
             "#fde0ef"
            ],
            [
             0.5,
             "#f7f7f7"
            ],
            [
             0.6,
             "#e6f5d0"
            ],
            [
             0.7,
             "#b8e186"
            ],
            [
             0.8,
             "#7fbc41"
            ],
            [
             0.9,
             "#4d9221"
            ],
            [
             1,
             "#276419"
            ]
           ],
           "sequential": [
            [
             0,
             "#0d0887"
            ],
            [
             0.1111111111111111,
             "#46039f"
            ],
            [
             0.2222222222222222,
             "#7201a8"
            ],
            [
             0.3333333333333333,
             "#9c179e"
            ],
            [
             0.4444444444444444,
             "#bd3786"
            ],
            [
             0.5555555555555556,
             "#d8576b"
            ],
            [
             0.6666666666666666,
             "#ed7953"
            ],
            [
             0.7777777777777778,
             "#fb9f3a"
            ],
            [
             0.8888888888888888,
             "#fdca26"
            ],
            [
             1,
             "#f0f921"
            ]
           ],
           "sequentialminus": [
            [
             0,
             "#0d0887"
            ],
            [
             0.1111111111111111,
             "#46039f"
            ],
            [
             0.2222222222222222,
             "#7201a8"
            ],
            [
             0.3333333333333333,
             "#9c179e"
            ],
            [
             0.4444444444444444,
             "#bd3786"
            ],
            [
             0.5555555555555556,
             "#d8576b"
            ],
            [
             0.6666666666666666,
             "#ed7953"
            ],
            [
             0.7777777777777778,
             "#fb9f3a"
            ],
            [
             0.8888888888888888,
             "#fdca26"
            ],
            [
             1,
             "#f0f921"
            ]
           ]
          },
          "colorway": [
           "#636efa",
           "#EF553B",
           "#00cc96",
           "#ab63fa",
           "#FFA15A",
           "#19d3f3",
           "#FF6692",
           "#B6E880",
           "#FF97FF",
           "#FECB52"
          ],
          "font": {
           "color": "#2a3f5f"
          },
          "geo": {
           "bgcolor": "white",
           "lakecolor": "white",
           "landcolor": "#E5ECF6",
           "showlakes": true,
           "showland": true,
           "subunitcolor": "white"
          },
          "hoverlabel": {
           "align": "left"
          },
          "hovermode": "closest",
          "mapbox": {
           "style": "light"
          },
          "paper_bgcolor": "white",
          "plot_bgcolor": "#E5ECF6",
          "polar": {
           "angularaxis": {
            "gridcolor": "white",
            "linecolor": "white",
            "ticks": ""
           },
           "bgcolor": "#E5ECF6",
           "radialaxis": {
            "gridcolor": "white",
            "linecolor": "white",
            "ticks": ""
           }
          },
          "scene": {
           "xaxis": {
            "backgroundcolor": "#E5ECF6",
            "gridcolor": "white",
            "gridwidth": 2,
            "linecolor": "white",
            "showbackground": true,
            "ticks": "",
            "zerolinecolor": "white"
           },
           "yaxis": {
            "backgroundcolor": "#E5ECF6",
            "gridcolor": "white",
            "gridwidth": 2,
            "linecolor": "white",
            "showbackground": true,
            "ticks": "",
            "zerolinecolor": "white"
           },
           "zaxis": {
            "backgroundcolor": "#E5ECF6",
            "gridcolor": "white",
            "gridwidth": 2,
            "linecolor": "white",
            "showbackground": true,
            "ticks": "",
            "zerolinecolor": "white"
           }
          },
          "shapedefaults": {
           "line": {
            "color": "#2a3f5f"
           }
          },
          "ternary": {
           "aaxis": {
            "gridcolor": "white",
            "linecolor": "white",
            "ticks": ""
           },
           "baxis": {
            "gridcolor": "white",
            "linecolor": "white",
            "ticks": ""
           },
           "bgcolor": "#E5ECF6",
           "caxis": {
            "gridcolor": "white",
            "linecolor": "white",
            "ticks": ""
           }
          },
          "title": {
           "x": 0.05
          },
          "xaxis": {
           "automargin": true,
           "gridcolor": "white",
           "linecolor": "white",
           "ticks": "",
           "title": {
            "standoff": 15
           },
           "zerolinecolor": "white",
           "zerolinewidth": 2
          },
          "yaxis": {
           "automargin": true,
           "gridcolor": "white",
           "linecolor": "white",
           "ticks": "",
           "title": {
            "standoff": 15
           },
           "zerolinecolor": "white",
           "zerolinewidth": 2
          }
         }
        },
        "title": {
         "text": "Temperature Predictions vs Actuals"
        },
        "xaxis": {
         "autorange": true,
         "range": [
          "2024-05-11 22:00",
          "2024-05-13 23:00"
         ],
         "title": {
          "text": "Date"
         },
         "type": "date"
        },
        "yaxis": {
         "autorange": true,
         "range": [
          7.995182810950209,
          22.361527049709707
         ],
         "title": {
          "text": "Temperature (°C)"
         },
         "type": "linear"
        }
       }
      },
      "image/png": "[encoded data removed]",
      "text/html": [
       "<div>                            <div id=\"6289e7cc-e6a5-476e-9709-71b8da381ce7\" class=\"plotly-graph-div\" style=\"height:525px; width:100%;\"></div>            <script type=\"text/javascript\">                require([\"plotly\"], function(Plotly) {                    window.PLOTLYENV=window.PLOTLYENV || {};                                    if (document.getElementById(\"6289e7cc-e6a5-476e-9709-71b8da381ce7\")) {                    Plotly.newPlot(                        \"6289e7cc-e6a5-476e-9709-71b8da381ce7\",                        [{\"line\":{\"color\":\"blue\"},\"mode\":\"lines\",\"name\":\"Original T2M\",\"x\":[\"2024-05-11T22:00:00+00:00\",\"2024-05-11T23:00:00+00:00\",\"2024-05-12T00:00:00+00:00\",\"2024-05-12T01:00:00+00:00\",\"2024-05-12T02:00:00+00:00\",\"2024-05-12T03:00:00+00:00\",\"2024-05-12T04:00:00+00:00\",\"2024-05-12T05:00:00+00:00\",\"2024-05-12T06:00:00+00:00\",\"2024-05-12T07:00:00+00:00\",\"2024-05-12T08:00:00+00:00\",\"2024-05-12T09:00:00+00:00\",\"2024-05-12T10:00:00+00:00\",\"2024-05-12T11:00:00+00:00\",\"2024-05-12T12:00:00+00:00\",\"2024-05-12T13:00:00+00:00\",\"2024-05-12T14:00:00+00:00\",\"2024-05-12T15:00:00+00:00\",\"2024-05-12T16:00:00+00:00\",\"2024-05-12T17:00:00+00:00\",\"2024-05-12T18:00:00+00:00\",\"2024-05-12T19:00:00+00:00\",\"2024-05-12T20:00:00+00:00\",\"2024-05-12T21:00:00+00:00\",\"2024-05-12T22:00:00+00:00\",\"2024-05-12T23:00:00+00:00\",\"2024-05-13T00:00:00+00:00\",\"2024-05-13T01:00:00+00:00\",\"2024-05-13T02:00:00+00:00\",\"2024-05-13T03:00:00+00:00\",\"2024-05-13T04:00:00+00:00\",\"2024-05-13T05:00:00+00:00\",\"2024-05-13T06:00:00+00:00\",\"2024-05-13T07:00:00+00:00\",\"2024-05-13T08:00:00+00:00\",\"2024-05-13T09:00:00+00:00\",\"2024-05-13T10:00:00+00:00\",\"2024-05-13T11:00:00+00:00\",\"2024-05-13T12:00:00+00:00\",\"2024-05-13T13:00:00+00:00\",\"2024-05-13T14:00:00+00:00\"],\"y\":[15.51349925994873,15.713500022888184,15.713500022888184,12.76349925994873,13.41349983215332,12.813499450683594,13.563499450683594,14.66349983215332,16.16349983215332,17.013500213623047,18.2135009765625,19.363500595092773,17.4635009765625,18.813501358032227,20.2135009765625,18.313501358032227,18.513500213623047,18.7135009765625,18.363500595092773,17.613500595092773,15.76349925994873,14.613499641418457,13.813499450683594,13.363499641418457,12.813499450683594,12.213500022888184,11.563499450683594,9.26349925994873,9.01349925994873,8.713500022888184,9.713500022888184,10.91349983215332,12.66349983215332,14.613499641418457,16.41349983215332,17.91349983215332,19.063501358032227,19.9635009765625,20.4635009765625,21.113500595092773,21.263500213623047],\"type\":\"scatter\"},{\"line\":{\"color\":\"red\",\"dash\":\"dash\"},\"mode\":\"lines+markers\",\"name\":\"Predicted T2M\",\"x\":[\"2024-05-13T15:00:00+00:00\",\"2024-05-13T16:00:00+00:00\",\"2024-05-13T17:00:00+00:00\",\"2024-05-13T18:00:00+00:00\",\"2024-05-13T19:00:00+00:00\",\"2024-05-13T20:00:00+00:00\"],\"y\":[21.343910999464242,20.722429999112933,19.21796962199562,17.09845423271372,15.520958989860786,14.130723831327826],\"type\":\"scatter\"},{\"line\":{\"color\":\"green\"},\"mode\":\"lines\",\"name\":\"Actual T2M\",\"x\":[\"2024-05-13T14:00:00+00:00\",\"2024-05-13T15:00:00+00:00\",\"2024-05-13T16:00:00+00:00\",\"2024-05-13T17:00:00+00:00\",\"2024-05-13T18:00:00+00:00\",\"2024-05-13T19:00:00+00:00\",\"2024-05-13T20:00:00+00:00\",\"2024-05-13T21:00:00+00:00\",\"2024-05-13T22:00:00+00:00\",\"2024-05-13T23:00:00+00:00\"],\"y\":[21.263500213623047,20.91349983215332,20.013500213623047,17.9635009765625,14.76349925994873,14.213500022888184,13.66349983215332,13.213500022888184,13.41349983215332,13.113499641418457],\"type\":\"scatter\"}],                        {\"template\":{\"data\":{\"histogram2dcontour\":[{\"type\":\"histogram2dcontour\",\"colorbar\":{\"outlinewidth\":0,\"ticks\":\"\"},\"colorscale\":[[0.0,\"#0d0887\"],[0.1111111111111111,\"#46039f\"],[0.2222222222222222,\"#7201a8\"],[0.3333333333333333,\"#9c179e\"],[0.4444444444444444,\"#bd3786\"],[0.5555555555555556,\"#d8576b\"],[0.6666666666666666,\"#ed7953\"],[0.7777777777777778,\"#fb9f3a\"],[0.8888888888888888,\"#fdca26\"],[1.0,\"#f0f921\"]]}],\"choropleth\":[{\"type\":\"choropleth\",\"colorbar\":{\"outlinewidth\":0,\"ticks\":\"\"}}],\"histogram2d\":[{\"type\":\"histogram2d\",\"colorbar\":{\"outlinewidth\":0,\"ticks\":\"\"},\"colorscale\":[[0.0,\"#0d0887\"],[0.1111111111111111,\"#46039f\"],[0.2222222222222222,\"#7201a8\"],[0.3333333333333333,\"#9c179e\"],[0.4444444444444444,\"#bd3786\"],[0.5555555555555556,\"#d8576b\"],[0.6666666666666666,\"#ed7953\"],[0.7777777777777778,\"#fb9f3a\"],[0.8888888888888888,\"#fdca26\"],[1.0,\"#f0f921\"]]}],\"heatmap\":[{\"type\":\"heatmap\",\"colorbar\":{\"outlinewidth\":0,\"ticks\":\"\"},\"colorscale\":[[0.0,\"#0d0887\"],[0.1111111111111111,\"#46039f\"],[0.2222222222222222,\"#7201a8\"],[0.3333333333333333,\"#9c179e\"],[0.4444444444444444,\"#bd3786\"],[0.5555555555555556,\"#d8576b\"],[0.6666666666666666,\"#ed7953\"],[0.7777777777777778,\"#fb9f3a\"],[0.8888888888888888,\"#fdca26\"],[1.0,\"#f0f921\"]]}],\"heatmapgl\":[{\"type\":\"heatmapgl\",\"colorbar\":{\"outlinewidth\":0,\"ticks\":\"\"},\"colorscale\":[[0.0,\"#0d0887\"],[0.1111111111111111,\"#46039f\"],[0.2222222222222222,\"#7201a8\"],[0.3333333333333333,\"#9c179e\"],[0.4444444444444444,\"#bd3786\"],[0.5555555555555556,\"#d8576b\"],[0.6666666666666666,\"#ed7953\"],[0.7777777777777778,\"#fb9f3a\"],[0.8888888888888888,\"#fdca26\"],[1.0,\"#f0f921\"]]}],\"contourcarpet\":[{\"type\":\"contourcarpet\",\"colorbar\":{\"outlinewidth\":0,\"ticks\":\"\"}}],\"contour\":[{\"type\":\"contour\",\"colorbar\":{\"outlinewidth\":0,\"ticks\":\"\"},\"colorscale\":[[0.0,\"#0d0887\"],[0.1111111111111111,\"#46039f\"],[0.2222222222222222,\"#7201a8\"],[0.3333333333333333,\"#9c179e\"],[0.4444444444444444,\"#bd3786\"],[0.5555555555555556,\"#d8576b\"],[0.6666666666666666,\"#ed7953\"],[0.7777777777777778,\"#fb9f3a\"],[0.8888888888888888,\"#fdca26\"],[1.0,\"#f0f921\"]]}],\"surface\":[{\"type\":\"surface\",\"colorbar\":{\"outlinewidth\":0,\"ticks\":\"\"},\"colorscale\":[[0.0,\"#0d0887\"],[0.1111111111111111,\"#46039f\"],[0.2222222222222222,\"#7201a8\"],[0.3333333333333333,\"#9c179e\"],[0.4444444444444444,\"#bd3786\"],[0.5555555555555556,\"#d8576b\"],[0.6666666666666666,\"#ed7953\"],[0.7777777777777778,\"#fb9f3a\"],[0.8888888888888888,\"#fdca26\"],[1.0,\"#f0f921\"]]}],\"mesh3d\":[{\"type\":\"mesh3d\",\"colorbar\":{\"outlinewidth\":0,\"ticks\":\"\"}}],\"scatter\":[{\"fillpattern\":{\"fillmode\":\"overlay\",\"size\":10,\"solidity\":0.2},\"type\":\"scatter\"}],\"parcoords\":[{\"type\":\"parcoords\",\"line\":{\"colorbar\":{\"outlinewidth\":0,\"ticks\":\"\"}}}],\"scatterpolargl\":[{\"type\":\"scatterpolargl\",\"marker\":{\"colorbar\":{\"outlinewidth\":0,\"ticks\":\"\"}}}],\"bar\":[{\"error_x\":{\"color\":\"#2a3f5f\"},\"error_y\":{\"color\":\"#2a3f5f\"},\"marker\":{\"line\":{\"color\":\"#E5ECF6\",\"width\":0.5},\"pattern\":{\"fillmode\":\"overlay\",\"size\":10,\"solidity\":0.2}},\"type\":\"bar\"}],\"scattergeo\":[{\"type\":\"scattergeo\",\"marker\":{\"colorbar\":{\"outlinewidth\":0,\"ticks\":\"\"}}}],\"scatterpolar\":[{\"type\":\"scatterpolar\",\"marker\":{\"colorbar\":{\"outlinewidth\":0,\"ticks\":\"\"}}}],\"histogram\":[{\"marker\":{\"pattern\":{\"fillmode\":\"overlay\",\"size\":10,\"solidity\":0.2}},\"type\":\"histogram\"}],\"scattergl\":[{\"type\":\"scattergl\",\"marker\":{\"colorbar\":{\"outlinewidth\":0,\"ticks\":\"\"}}}],\"scatter3d\":[{\"type\":\"scatter3d\",\"line\":{\"colorbar\":{\"outlinewidth\":0,\"ticks\":\"\"}},\"marker\":{\"colorbar\":{\"outlinewidth\":0,\"ticks\":\"\"}}}],\"scattermapbox\":[{\"type\":\"scattermapbox\",\"marker\":{\"colorbar\":{\"outlinewidth\":0,\"ticks\":\"\"}}}],\"scatterternary\":[{\"type\":\"scatterternary\",\"marker\":{\"colorbar\":{\"outlinewidth\":0,\"ticks\":\"\"}}}],\"scattercarpet\":[{\"type\":\"scattercarpet\",\"marker\":{\"colorbar\":{\"outlinewidth\":0,\"ticks\":\"\"}}}],\"carpet\":[{\"aaxis\":{\"endlinecolor\":\"#2a3f5f\",\"gridcolor\":\"white\",\"linecolor\":\"white\",\"minorgridcolor\":\"white\",\"startlinecolor\":\"#2a3f5f\"},\"baxis\":{\"endlinecolor\":\"#2a3f5f\",\"gridcolor\":\"white\",\"linecolor\":\"white\",\"minorgridcolor\":\"white\",\"startlinecolor\":\"#2a3f5f\"},\"type\":\"carpet\"}],\"table\":[{\"cells\":{\"fill\":{\"color\":\"#EBF0F8\"},\"line\":{\"color\":\"white\"}},\"header\":{\"fill\":{\"color\":\"#C8D4E3\"},\"line\":{\"color\":\"white\"}},\"type\":\"table\"}],\"barpolar\":[{\"marker\":{\"line\":{\"color\":\"#E5ECF6\",\"width\":0.5},\"pattern\":{\"fillmode\":\"overlay\",\"size\":10,\"solidity\":0.2}},\"type\":\"barpolar\"}],\"pie\":[{\"automargin\":true,\"type\":\"pie\"}]},\"layout\":{\"autotypenumbers\":\"strict\",\"colorway\":[\"#636efa\",\"#EF553B\",\"#00cc96\",\"#ab63fa\",\"#FFA15A\",\"#19d3f3\",\"#FF6692\",\"#B6E880\",\"#FF97FF\",\"#FECB52\"],\"font\":{\"color\":\"#2a3f5f\"},\"hovermode\":\"closest\",\"hoverlabel\":{\"align\":\"left\"},\"paper_bgcolor\":\"white\",\"plot_bgcolor\":\"#E5ECF6\",\"polar\":{\"bgcolor\":\"#E5ECF6\",\"angularaxis\":{\"gridcolor\":\"white\",\"linecolor\":\"white\",\"ticks\":\"\"},\"radialaxis\":{\"gridcolor\":\"white\",\"linecolor\":\"white\",\"ticks\":\"\"}},\"ternary\":{\"bgcolor\":\"#E5ECF6\",\"aaxis\":{\"gridcolor\":\"white\",\"linecolor\":\"white\",\"ticks\":\"\"},\"baxis\":{\"gridcolor\":\"white\",\"linecolor\":\"white\",\"ticks\":\"\"},\"caxis\":{\"gridcolor\":\"white\",\"linecolor\":\"white\",\"ticks\":\"\"}},\"coloraxis\":{\"colorbar\":{\"outlinewidth\":0,\"ticks\":\"\"}},\"colorscale\":{\"sequential\":[[0.0,\"#0d0887\"],[0.1111111111111111,\"#46039f\"],[0.2222222222222222,\"#7201a8\"],[0.3333333333333333,\"#9c179e\"],[0.4444444444444444,\"#bd3786\"],[0.5555555555555556,\"#d8576b\"],[0.6666666666666666,\"#ed7953\"],[0.7777777777777778,\"#fb9f3a\"],[0.8888888888888888,\"#fdca26\"],[1.0,\"#f0f921\"]],\"sequentialminus\":[[0.0,\"#0d0887\"],[0.1111111111111111,\"#46039f\"],[0.2222222222222222,\"#7201a8\"],[0.3333333333333333,\"#9c179e\"],[0.4444444444444444,\"#bd3786\"],[0.5555555555555556,\"#d8576b\"],[0.6666666666666666,\"#ed7953\"],[0.7777777777777778,\"#fb9f3a\"],[0.8888888888888888,\"#fdca26\"],[1.0,\"#f0f921\"]],\"diverging\":[[0,\"#8e0152\"],[0.1,\"#c51b7d\"],[0.2,\"#de77ae\"],[0.3,\"#f1b6da\"],[0.4,\"#fde0ef\"],[0.5,\"#f7f7f7\"],[0.6,\"#e6f5d0\"],[0.7,\"#b8e186\"],[0.8,\"#7fbc41\"],[0.9,\"#4d9221\"],[1,\"#276419\"]]},\"xaxis\":{\"gridcolor\":\"white\",\"linecolor\":\"white\",\"ticks\":\"\",\"title\":{\"standoff\":15},\"zerolinecolor\":\"white\",\"automargin\":true,\"zerolinewidth\":2},\"yaxis\":{\"gridcolor\":\"white\",\"linecolor\":\"white\",\"ticks\":\"\",\"title\":{\"standoff\":15},\"zerolinecolor\":\"white\",\"automargin\":true,\"zerolinewidth\":2},\"scene\":{\"xaxis\":{\"backgroundcolor\":\"#E5ECF6\",\"gridcolor\":\"white\",\"linecolor\":\"white\",\"showbackground\":true,\"ticks\":\"\",\"zerolinecolor\":\"white\",\"gridwidth\":2},\"yaxis\":{\"backgroundcolor\":\"#E5ECF6\",\"gridcolor\":\"white\",\"linecolor\":\"white\",\"showbackground\":true,\"ticks\":\"\",\"zerolinecolor\":\"white\",\"gridwidth\":2},\"zaxis\":{\"backgroundcolor\":\"#E5ECF6\",\"gridcolor\":\"white\",\"linecolor\":\"white\",\"showbackground\":true,\"ticks\":\"\",\"zerolinecolor\":\"white\",\"gridwidth\":2}},\"shapedefaults\":{\"line\":{\"color\":\"#2a3f5f\"}},\"annotationdefaults\":{\"arrowcolor\":\"#2a3f5f\",\"arrowhead\":0,\"arrowwidth\":1},\"geo\":{\"bgcolor\":\"white\",\"landcolor\":\"#E5ECF6\",\"subunitcolor\":\"white\",\"showland\":true,\"showlakes\":true,\"lakecolor\":\"white\"},\"title\":{\"x\":0.05},\"mapbox\":{\"style\":\"light\"}}},\"title\":{\"text\":\"Temperature Predictions vs Actuals\"},\"xaxis\":{\"title\":{\"text\":\"Date\"}},\"yaxis\":{\"title\":{\"text\":\"Temperature (\\u00b0C)\"}},\"hovermode\":\"x unified\"},                        {\"responsive\": true}                    ).then(function(){\n",
       "                            \n",
       "var gd = document.getElementById('6289e7cc-e6a5-476e-9709-71b8da381ce7');\n",
       "var x = new MutationObserver(function (mutations, observer) {{\n",
       "        var display = window.getComputedStyle(gd).display;\n",
       "        if (!display || display === 'none') {{\n",
       "            console.log([gd, 'removed!']);\n",
       "            Plotly.purge(gd);\n",
       "            observer.disconnect();\n",
       "        }}\n",
       "}});\n",
       "\n",
       "// Listen for the removal of the full notebook cells\n",
       "var notebookContainer = gd.closest('#notebook-container');\n",
       "if (notebookContainer) {{\n",
       "    x.observe(notebookContainer, {childList: true});\n",
       "}}\n",
       "\n",
       "// Listen for the clearing of the current output cell\n",
       "var outputEl = gd.closest('.output');\n",
       "if (outputEl) {{\n",
       "    x.observe(outputEl, {childList: true});\n",
       "}}\n",
       "\n",
       "                        })                };                });            </script>        </div>"
      ]
     },
     "metadata": {},
     "output_type": "display_data"
    }
   ],
   "source": [
    "\n",
    "lat = 44.7871\n",
    "lon = 20.4572\n",
    "\n",
    "\n",
    "predict_next_6_hours(lat, lon)"
   ]
  },
  {
   "cell_type": "code",
   "execution_count": null,
   "id": "ef0be88a-2758-40ed-8da9-6b5da3437317",
   "metadata": {},
   "outputs": [],
   "source": []
  },
  {
   "cell_type": "code",
   "execution_count": null,
   "id": "33aa557c-c740-4d5b-ac46-6a2a908046c3",
   "metadata": {},
   "outputs": [],
   "source": []
  },
  {
   "cell_type": "code",
   "execution_count": null,
   "id": "47e2d298-e4c7-477d-80c8-c132c4b4d07b",
   "metadata": {},
   "outputs": [],
   "source": []
  },
  {
   "cell_type": "code",
   "execution_count": 43,
   "id": "ca7b792a-4aa5-4efd-8be3-c4b17450ccf5",
   "metadata": {},
   "outputs": [
    {
     "name": "stdout",
     "output_type": "stream",
     "text": [
      "2024-05-12\n",
      "2024-05-15\n",
      "9\n",
      "2024-05-12\n",
      "2024-05-15\n",
      "Coordinates 48.82249450683594°N 2.288135528564453°E\n",
      "Elevation 36.0 m asl\n",
      "Timezone b'Europe/Paris' b'CEST'\n",
      "Timezone difference to GMT+0 7200 s\n",
      "2024-05-12\n",
      "2024-05-15\n",
      "Coordinates 48.82249450683594°N 2.288135528564453°E\n",
      "Elevation 36.0 m asl\n",
      "Timezone b'Europe/Paris' b'CEST'\n",
      "Timezone difference to GMT+0 7200 s\n",
      "15\n"
     ]
    },
    {
     "name": "stderr",
     "output_type": "stream",
     "text": [
      "/tmp/ipykernel_18211/3754601863.py:20: FutureWarning:\n",
      "\n",
      "DataFrame.fillna with 'method' is deprecated and will raise in a future version. Use obj.ffill() or obj.bfill() instead.\n",
      "\n",
      "/tmp/ipykernel_18211/3754601863.py:21: FutureWarning:\n",
      "\n",
      "DataFrame.fillna with 'method' is deprecated and will raise in a future version. Use obj.ffill() or obj.bfill() instead.\n",
      "\n",
      "/tmp/ipykernel_18211/3754601863.py:20: FutureWarning:\n",
      "\n",
      "DataFrame.fillna with 'method' is deprecated and will raise in a future version. Use obj.ffill() or obj.bfill() instead.\n",
      "\n",
      "/tmp/ipykernel_18211/3754601863.py:21: FutureWarning:\n",
      "\n",
      "DataFrame.fillna with 'method' is deprecated and will raise in a future version. Use obj.ffill() or obj.bfill() instead.\n",
      "\n"
     ]
    },
    {
     "name": "stdout",
     "output_type": "stream",
     "text": [
      "\u001b[1m1/1\u001b[0m \u001b[32m━━━━━━━━━━━━━━━━━━━━\u001b[0m\u001b[37m\u001b[0m \u001b[1m0s\u001b[0m 31ms/step\n"
     ]
    },
    {
     "data": {
      "application/vnd.plotly.v1+json": {
       "config": {
        "plotlyServerURL": "https://plot.ly"
       },
       "data": [
        {
         "line": {
          "color": "blue"
         },
         "mode": "lines",
         "name": "Original T2M",
         "type": "scatter",
         "x": [
          "2024-05-11T22:00:00+00:00",
          "2024-05-11T23:00:00+00:00",
          "2024-05-12T00:00:00+00:00",
          "2024-05-12T01:00:00+00:00",
          "2024-05-12T02:00:00+00:00",
          "2024-05-12T03:00:00+00:00",
          "2024-05-12T04:00:00+00:00",
          "2024-05-12T05:00:00+00:00",
          "2024-05-12T06:00:00+00:00",
          "2024-05-12T07:00:00+00:00",
          "2024-05-12T08:00:00+00:00",
          "2024-05-12T09:00:00+00:00",
          "2024-05-12T10:00:00+00:00",
          "2024-05-12T11:00:00+00:00",
          "2024-05-12T12:00:00+00:00",
          "2024-05-12T13:00:00+00:00",
          "2024-05-12T14:00:00+00:00",
          "2024-05-12T15:00:00+00:00",
          "2024-05-12T16:00:00+00:00",
          "2024-05-12T17:00:00+00:00",
          "2024-05-12T18:00:00+00:00",
          "2024-05-12T19:00:00+00:00",
          "2024-05-12T20:00:00+00:00",
          "2024-05-12T21:00:00+00:00",
          "2024-05-12T22:00:00+00:00",
          "2024-05-12T23:00:00+00:00",
          "2024-05-13T00:00:00+00:00",
          "2024-05-13T01:00:00+00:00",
          "2024-05-13T02:00:00+00:00",
          "2024-05-13T03:00:00+00:00",
          "2024-05-13T04:00:00+00:00",
          "2024-05-13T05:00:00+00:00",
          "2024-05-13T06:00:00+00:00",
          "2024-05-13T07:00:00+00:00",
          "2024-05-13T08:00:00+00:00",
          "2024-05-13T09:00:00+00:00",
          "2024-05-13T10:00:00+00:00",
          "2024-05-13T11:00:00+00:00",
          "2024-05-13T12:00:00+00:00",
          "2024-05-13T13:00:00+00:00",
          "2024-05-13T14:00:00+00:00"
         ],
         "y": [
          16.860000610351562,
          14.5600004196167,
          13.760000228881836,
          15.710000038146973,
          15.460000038146973,
          15.260000228881836,
          11.860000610351562,
          12.710000038146973,
          15.010000228881836,
          17.260000228881836,
          19.610000610351562,
          22.010000228881836,
          24.15999984741211,
          23.010000228881836,
          23.260000228881836,
          24.010000228881836,
          22.46000099182129,
          19.309999465942383,
          19.110000610351562,
          19.40999984741211,
          18.760000228881836,
          18.059999465942383,
          17.21000099182129,
          16.40999984741211,
          15.65999984741211,
          15.110000610351562,
          14.510000228881836,
          15.460000038146973,
          15.260000228881836,
          15.460000038146973,
          15.360000610351562,
          14.65999984741211,
          14.40999984741211,
          14.8100004196167,
          16.010000228881836,
          17.110000610351562,
          17.809999465942383,
          18.360000610351562,
          18.860000610351562,
          19.559999465942383,
          20.110000610351562
         ]
        },
        {
         "line": {
          "color": "red",
          "dash": "dash"
         },
         "mode": "lines+markers",
         "name": "Predicted T2M",
         "type": "scatter",
         "x": [
          "2024-05-13T15:00:00+00:00",
          "2024-05-13T16:00:00+00:00",
          "2024-05-13T17:00:00+00:00",
          "2024-05-13T18:00:00+00:00",
          "2024-05-13T19:00:00+00:00",
          "2024-05-13T20:00:00+00:00"
         ],
         "y": [
          19.82502879171659,
          19.58945422478746,
          19.12902792835962,
          18.119052356486918,
          16.944593086994473,
          15.82539500162636
         ]
        },
        {
         "line": {
          "color": "green"
         },
         "mode": "lines",
         "name": "Actual T2M",
         "type": "scatter",
         "x": [
          "2024-05-13T14:00:00+00:00",
          "2024-05-13T15:00:00+00:00",
          "2024-05-13T16:00:00+00:00",
          "2024-05-13T17:00:00+00:00",
          "2024-05-13T18:00:00+00:00",
          "2024-05-13T19:00:00+00:00",
          "2024-05-13T20:00:00+00:00",
          "2024-05-13T21:00:00+00:00",
          "2024-05-13T22:00:00+00:00",
          "2024-05-13T23:00:00+00:00"
         ],
         "y": [
          20.110000610351562,
          20.71000099182129,
          20.809999465942383,
          20.559999465942383,
          20.15999984741211,
          18.110000610351562,
          16.96000099182129,
          16.71000099182129,
          16.65999984741211,
          16.209999084472656
         ]
        }
       ],
       "layout": {
        "autosize": true,
        "hovermode": "x unified",
        "template": {
         "data": {
          "bar": [
           {
            "error_x": {
             "color": "#2a3f5f"
            },
            "error_y": {
             "color": "#2a3f5f"
            },
            "marker": {
             "line": {
              "color": "#E5ECF6",
              "width": 0.5
             },
             "pattern": {
              "fillmode": "overlay",
              "size": 10,
              "solidity": 0.2
             }
            },
            "type": "bar"
           }
          ],
          "barpolar": [
           {
            "marker": {
             "line": {
              "color": "#E5ECF6",
              "width": 0.5
             },
             "pattern": {
              "fillmode": "overlay",
              "size": 10,
              "solidity": 0.2
             }
            },
            "type": "barpolar"
           }
          ],
          "carpet": [
           {
            "aaxis": {
             "endlinecolor": "#2a3f5f",
             "gridcolor": "white",
             "linecolor": "white",
             "minorgridcolor": "white",
             "startlinecolor": "#2a3f5f"
            },
            "baxis": {
             "endlinecolor": "#2a3f5f",
             "gridcolor": "white",
             "linecolor": "white",
             "minorgridcolor": "white",
             "startlinecolor": "#2a3f5f"
            },
            "type": "carpet"
           }
          ],
          "choropleth": [
           {
            "colorbar": {
             "outlinewidth": 0,
             "ticks": ""
            },
            "type": "choropleth"
           }
          ],
          "contour": [
           {
            "colorbar": {
             "outlinewidth": 0,
             "ticks": ""
            },
            "colorscale": [
             [
              0,
              "#0d0887"
             ],
             [
              0.1111111111111111,
              "#46039f"
             ],
             [
              0.2222222222222222,
              "#7201a8"
             ],
             [
              0.3333333333333333,
              "#9c179e"
             ],
             [
              0.4444444444444444,
              "#bd3786"
             ],
             [
              0.5555555555555556,
              "#d8576b"
             ],
             [
              0.6666666666666666,
              "#ed7953"
             ],
             [
              0.7777777777777778,
              "#fb9f3a"
             ],
             [
              0.8888888888888888,
              "#fdca26"
             ],
             [
              1,
              "#f0f921"
             ]
            ],
            "type": "contour"
           }
          ],
          "contourcarpet": [
           {
            "colorbar": {
             "outlinewidth": 0,
             "ticks": ""
            },
            "type": "contourcarpet"
           }
          ],
          "heatmap": [
           {
            "colorbar": {
             "outlinewidth": 0,
             "ticks": ""
            },
            "colorscale": [
             [
              0,
              "#0d0887"
             ],
             [
              0.1111111111111111,
              "#46039f"
             ],
             [
              0.2222222222222222,
              "#7201a8"
             ],
             [
              0.3333333333333333,
              "#9c179e"
             ],
             [
              0.4444444444444444,
              "#bd3786"
             ],
             [
              0.5555555555555556,
              "#d8576b"
             ],
             [
              0.6666666666666666,
              "#ed7953"
             ],
             [
              0.7777777777777778,
              "#fb9f3a"
             ],
             [
              0.8888888888888888,
              "#fdca26"
             ],
             [
              1,
              "#f0f921"
             ]
            ],
            "type": "heatmap"
           }
          ],
          "heatmapgl": [
           {
            "colorbar": {
             "outlinewidth": 0,
             "ticks": ""
            },
            "colorscale": [
             [
              0,
              "#0d0887"
             ],
             [
              0.1111111111111111,
              "#46039f"
             ],
             [
              0.2222222222222222,
              "#7201a8"
             ],
             [
              0.3333333333333333,
              "#9c179e"
             ],
             [
              0.4444444444444444,
              "#bd3786"
             ],
             [
              0.5555555555555556,
              "#d8576b"
             ],
             [
              0.6666666666666666,
              "#ed7953"
             ],
             [
              0.7777777777777778,
              "#fb9f3a"
             ],
             [
              0.8888888888888888,
              "#fdca26"
             ],
             [
              1,
              "#f0f921"
             ]
            ],
            "type": "heatmapgl"
           }
          ],
          "histogram": [
           {
            "marker": {
             "pattern": {
              "fillmode": "overlay",
              "size": 10,
              "solidity": 0.2
             }
            },
            "type": "histogram"
           }
          ],
          "histogram2d": [
           {
            "colorbar": {
             "outlinewidth": 0,
             "ticks": ""
            },
            "colorscale": [
             [
              0,
              "#0d0887"
             ],
             [
              0.1111111111111111,
              "#46039f"
             ],
             [
              0.2222222222222222,
              "#7201a8"
             ],
             [
              0.3333333333333333,
              "#9c179e"
             ],
             [
              0.4444444444444444,
              "#bd3786"
             ],
             [
              0.5555555555555556,
              "#d8576b"
             ],
             [
              0.6666666666666666,
              "#ed7953"
             ],
             [
              0.7777777777777778,
              "#fb9f3a"
             ],
             [
              0.8888888888888888,
              "#fdca26"
             ],
             [
              1,
              "#f0f921"
             ]
            ],
            "type": "histogram2d"
           }
          ],
          "histogram2dcontour": [
           {
            "colorbar": {
             "outlinewidth": 0,
             "ticks": ""
            },
            "colorscale": [
             [
              0,
              "#0d0887"
             ],
             [
              0.1111111111111111,
              "#46039f"
             ],
             [
              0.2222222222222222,
              "#7201a8"
             ],
             [
              0.3333333333333333,
              "#9c179e"
             ],
             [
              0.4444444444444444,
              "#bd3786"
             ],
             [
              0.5555555555555556,
              "#d8576b"
             ],
             [
              0.6666666666666666,
              "#ed7953"
             ],
             [
              0.7777777777777778,
              "#fb9f3a"
             ],
             [
              0.8888888888888888,
              "#fdca26"
             ],
             [
              1,
              "#f0f921"
             ]
            ],
            "type": "histogram2dcontour"
           }
          ],
          "mesh3d": [
           {
            "colorbar": {
             "outlinewidth": 0,
             "ticks": ""
            },
            "type": "mesh3d"
           }
          ],
          "parcoords": [
           {
            "line": {
             "colorbar": {
              "outlinewidth": 0,
              "ticks": ""
             }
            },
            "type": "parcoords"
           }
          ],
          "pie": [
           {
            "automargin": true,
            "type": "pie"
           }
          ],
          "scatter": [
           {
            "fillpattern": {
             "fillmode": "overlay",
             "size": 10,
             "solidity": 0.2
            },
            "type": "scatter"
           }
          ],
          "scatter3d": [
           {
            "line": {
             "colorbar": {
              "outlinewidth": 0,
              "ticks": ""
             }
            },
            "marker": {
             "colorbar": {
              "outlinewidth": 0,
              "ticks": ""
             }
            },
            "type": "scatter3d"
           }
          ],
          "scattercarpet": [
           {
            "marker": {
             "colorbar": {
              "outlinewidth": 0,
              "ticks": ""
             }
            },
            "type": "scattercarpet"
           }
          ],
          "scattergeo": [
           {
            "marker": {
             "colorbar": {
              "outlinewidth": 0,
              "ticks": ""
             }
            },
            "type": "scattergeo"
           }
          ],
          "scattergl": [
           {
            "marker": {
             "colorbar": {
              "outlinewidth": 0,
              "ticks": ""
             }
            },
            "type": "scattergl"
           }
          ],
          "scattermapbox": [
           {
            "marker": {
             "colorbar": {
              "outlinewidth": 0,
              "ticks": ""
             }
            },
            "type": "scattermapbox"
           }
          ],
          "scatterpolar": [
           {
            "marker": {
             "colorbar": {
              "outlinewidth": 0,
              "ticks": ""
             }
            },
            "type": "scatterpolar"
           }
          ],
          "scatterpolargl": [
           {
            "marker": {
             "colorbar": {
              "outlinewidth": 0,
              "ticks": ""
             }
            },
            "type": "scatterpolargl"
           }
          ],
          "scatterternary": [
           {
            "marker": {
             "colorbar": {
              "outlinewidth": 0,
              "ticks": ""
             }
            },
            "type": "scatterternary"
           }
          ],
          "surface": [
           {
            "colorbar": {
             "outlinewidth": 0,
             "ticks": ""
            },
            "colorscale": [
             [
              0,
              "#0d0887"
             ],
             [
              0.1111111111111111,
              "#46039f"
             ],
             [
              0.2222222222222222,
              "#7201a8"
             ],
             [
              0.3333333333333333,
              "#9c179e"
             ],
             [
              0.4444444444444444,
              "#bd3786"
             ],
             [
              0.5555555555555556,
              "#d8576b"
             ],
             [
              0.6666666666666666,
              "#ed7953"
             ],
             [
              0.7777777777777778,
              "#fb9f3a"
             ],
             [
              0.8888888888888888,
              "#fdca26"
             ],
             [
              1,
              "#f0f921"
             ]
            ],
            "type": "surface"
           }
          ],
          "table": [
           {
            "cells": {
             "fill": {
              "color": "#EBF0F8"
             },
             "line": {
              "color": "white"
             }
            },
            "header": {
             "fill": {
              "color": "#C8D4E3"
             },
             "line": {
              "color": "white"
             }
            },
            "type": "table"
           }
          ]
         },
         "layout": {
          "annotationdefaults": {
           "arrowcolor": "#2a3f5f",
           "arrowhead": 0,
           "arrowwidth": 1
          },
          "autotypenumbers": "strict",
          "coloraxis": {
           "colorbar": {
            "outlinewidth": 0,
            "ticks": ""
           }
          },
          "colorscale": {
           "diverging": [
            [
             0,
             "#8e0152"
            ],
            [
             0.1,
             "#c51b7d"
            ],
            [
             0.2,
             "#de77ae"
            ],
            [
             0.3,
             "#f1b6da"
            ],
            [
             0.4,
             "#fde0ef"
            ],
            [
             0.5,
             "#f7f7f7"
            ],
            [
             0.6,
             "#e6f5d0"
            ],
            [
             0.7,
             "#b8e186"
            ],
            [
             0.8,
             "#7fbc41"
            ],
            [
             0.9,
             "#4d9221"
            ],
            [
             1,
             "#276419"
            ]
           ],
           "sequential": [
            [
             0,
             "#0d0887"
            ],
            [
             0.1111111111111111,
             "#46039f"
            ],
            [
             0.2222222222222222,
             "#7201a8"
            ],
            [
             0.3333333333333333,
             "#9c179e"
            ],
            [
             0.4444444444444444,
             "#bd3786"
            ],
            [
             0.5555555555555556,
             "#d8576b"
            ],
            [
             0.6666666666666666,
             "#ed7953"
            ],
            [
             0.7777777777777778,
             "#fb9f3a"
            ],
            [
             0.8888888888888888,
             "#fdca26"
            ],
            [
             1,
             "#f0f921"
            ]
           ],
           "sequentialminus": [
            [
             0,
             "#0d0887"
            ],
            [
             0.1111111111111111,
             "#46039f"
            ],
            [
             0.2222222222222222,
             "#7201a8"
            ],
            [
             0.3333333333333333,
             "#9c179e"
            ],
            [
             0.4444444444444444,
             "#bd3786"
            ],
            [
             0.5555555555555556,
             "#d8576b"
            ],
            [
             0.6666666666666666,
             "#ed7953"
            ],
            [
             0.7777777777777778,
             "#fb9f3a"
            ],
            [
             0.8888888888888888,
             "#fdca26"
            ],
            [
             1,
             "#f0f921"
            ]
           ]
          },
          "colorway": [
           "#636efa",
           "#EF553B",
           "#00cc96",
           "#ab63fa",
           "#FFA15A",
           "#19d3f3",
           "#FF6692",
           "#B6E880",
           "#FF97FF",
           "#FECB52"
          ],
          "font": {
           "color": "#2a3f5f"
          },
          "geo": {
           "bgcolor": "white",
           "lakecolor": "white",
           "landcolor": "#E5ECF6",
           "showlakes": true,
           "showland": true,
           "subunitcolor": "white"
          },
          "hoverlabel": {
           "align": "left"
          },
          "hovermode": "closest",
          "mapbox": {
           "style": "light"
          },
          "paper_bgcolor": "white",
          "plot_bgcolor": "#E5ECF6",
          "polar": {
           "angularaxis": {
            "gridcolor": "white",
            "linecolor": "white",
            "ticks": ""
           },
           "bgcolor": "#E5ECF6",
           "radialaxis": {
            "gridcolor": "white",
            "linecolor": "white",
            "ticks": ""
           }
          },
          "scene": {
           "xaxis": {
            "backgroundcolor": "#E5ECF6",
            "gridcolor": "white",
            "gridwidth": 2,
            "linecolor": "white",
            "showbackground": true,
            "ticks": "",
            "zerolinecolor": "white"
           },
           "yaxis": {
            "backgroundcolor": "#E5ECF6",
            "gridcolor": "white",
            "gridwidth": 2,
            "linecolor": "white",
            "showbackground": true,
            "ticks": "",
            "zerolinecolor": "white"
           },
           "zaxis": {
            "backgroundcolor": "#E5ECF6",
            "gridcolor": "white",
            "gridwidth": 2,
            "linecolor": "white",
            "showbackground": true,
            "ticks": "",
            "zerolinecolor": "white"
           }
          },
          "shapedefaults": {
           "line": {
            "color": "#2a3f5f"
           }
          },
          "ternary": {
           "aaxis": {
            "gridcolor": "white",
            "linecolor": "white",
            "ticks": ""
           },
           "baxis": {
            "gridcolor": "white",
            "linecolor": "white",
            "ticks": ""
           },
           "bgcolor": "#E5ECF6",
           "caxis": {
            "gridcolor": "white",
            "linecolor": "white",
            "ticks": ""
           }
          },
          "title": {
           "x": 0.05
          },
          "xaxis": {
           "automargin": true,
           "gridcolor": "white",
           "linecolor": "white",
           "ticks": "",
           "title": {
            "standoff": 15
           },
           "zerolinecolor": "white",
           "zerolinewidth": 2
          },
          "yaxis": {
           "automargin": true,
           "gridcolor": "white",
           "linecolor": "white",
           "ticks": "",
           "title": {
            "standoff": 15
           },
           "zerolinecolor": "white",
           "zerolinewidth": 2
          }
         }
        },
        "title": {
         "text": "Temperature Predictions vs Actuals"
        },
        "xaxis": {
         "autorange": true,
         "range": [
          "2024-05-11 22:00",
          "2024-05-13 23:00"
         ],
         "title": {
          "text": "Date"
         },
         "type": "date"
        },
        "yaxis": {
         "autorange": true,
         "range": [
          11.176667319403755,
          24.843333138359917
         ],
         "title": {
          "text": "Temperature (°C)"
         },
         "type": "linear"
        }
       }
      },
      "image/png": "[encoded data removed]",
      "text/html": [
       "<div>                            <div id=\"0d97e400-9a4f-454b-b3bc-576ef88cc714\" class=\"plotly-graph-div\" style=\"height:525px; width:100%;\"></div>            <script type=\"text/javascript\">                require([\"plotly\"], function(Plotly) {                    window.PLOTLYENV=window.PLOTLYENV || {};                                    if (document.getElementById(\"0d97e400-9a4f-454b-b3bc-576ef88cc714\")) {                    Plotly.newPlot(                        \"0d97e400-9a4f-454b-b3bc-576ef88cc714\",                        [{\"line\":{\"color\":\"blue\"},\"mode\":\"lines\",\"name\":\"Original T2M\",\"x\":[\"2024-05-11T22:00:00+00:00\",\"2024-05-11T23:00:00+00:00\",\"2024-05-12T00:00:00+00:00\",\"2024-05-12T01:00:00+00:00\",\"2024-05-12T02:00:00+00:00\",\"2024-05-12T03:00:00+00:00\",\"2024-05-12T04:00:00+00:00\",\"2024-05-12T05:00:00+00:00\",\"2024-05-12T06:00:00+00:00\",\"2024-05-12T07:00:00+00:00\",\"2024-05-12T08:00:00+00:00\",\"2024-05-12T09:00:00+00:00\",\"2024-05-12T10:00:00+00:00\",\"2024-05-12T11:00:00+00:00\",\"2024-05-12T12:00:00+00:00\",\"2024-05-12T13:00:00+00:00\",\"2024-05-12T14:00:00+00:00\",\"2024-05-12T15:00:00+00:00\",\"2024-05-12T16:00:00+00:00\",\"2024-05-12T17:00:00+00:00\",\"2024-05-12T18:00:00+00:00\",\"2024-05-12T19:00:00+00:00\",\"2024-05-12T20:00:00+00:00\",\"2024-05-12T21:00:00+00:00\",\"2024-05-12T22:00:00+00:00\",\"2024-05-12T23:00:00+00:00\",\"2024-05-13T00:00:00+00:00\",\"2024-05-13T01:00:00+00:00\",\"2024-05-13T02:00:00+00:00\",\"2024-05-13T03:00:00+00:00\",\"2024-05-13T04:00:00+00:00\",\"2024-05-13T05:00:00+00:00\",\"2024-05-13T06:00:00+00:00\",\"2024-05-13T07:00:00+00:00\",\"2024-05-13T08:00:00+00:00\",\"2024-05-13T09:00:00+00:00\",\"2024-05-13T10:00:00+00:00\",\"2024-05-13T11:00:00+00:00\",\"2024-05-13T12:00:00+00:00\",\"2024-05-13T13:00:00+00:00\",\"2024-05-13T14:00:00+00:00\"],\"y\":[16.860000610351562,14.5600004196167,13.760000228881836,15.710000038146973,15.460000038146973,15.260000228881836,11.860000610351562,12.710000038146973,15.010000228881836,17.260000228881836,19.610000610351562,22.010000228881836,24.15999984741211,23.010000228881836,23.260000228881836,24.010000228881836,22.46000099182129,19.309999465942383,19.110000610351562,19.40999984741211,18.760000228881836,18.059999465942383,17.21000099182129,16.40999984741211,15.65999984741211,15.110000610351562,14.510000228881836,15.460000038146973,15.260000228881836,15.460000038146973,15.360000610351562,14.65999984741211,14.40999984741211,14.8100004196167,16.010000228881836,17.110000610351562,17.809999465942383,18.360000610351562,18.860000610351562,19.559999465942383,20.110000610351562],\"type\":\"scatter\"},{\"line\":{\"color\":\"red\",\"dash\":\"dash\"},\"mode\":\"lines+markers\",\"name\":\"Predicted T2M\",\"x\":[\"2024-05-13T15:00:00+00:00\",\"2024-05-13T16:00:00+00:00\",\"2024-05-13T17:00:00+00:00\",\"2024-05-13T18:00:00+00:00\",\"2024-05-13T19:00:00+00:00\",\"2024-05-13T20:00:00+00:00\"],\"y\":[19.82502879171659,19.58945422478746,19.12902792835962,18.119052356486918,16.944593086994473,15.82539500162636],\"type\":\"scatter\"},{\"line\":{\"color\":\"green\"},\"mode\":\"lines\",\"name\":\"Actual T2M\",\"x\":[\"2024-05-13T14:00:00+00:00\",\"2024-05-13T15:00:00+00:00\",\"2024-05-13T16:00:00+00:00\",\"2024-05-13T17:00:00+00:00\",\"2024-05-13T18:00:00+00:00\",\"2024-05-13T19:00:00+00:00\",\"2024-05-13T20:00:00+00:00\",\"2024-05-13T21:00:00+00:00\",\"2024-05-13T22:00:00+00:00\",\"2024-05-13T23:00:00+00:00\"],\"y\":[20.110000610351562,20.71000099182129,20.809999465942383,20.559999465942383,20.15999984741211,18.110000610351562,16.96000099182129,16.71000099182129,16.65999984741211,16.209999084472656],\"type\":\"scatter\"}],                        {\"template\":{\"data\":{\"histogram2dcontour\":[{\"type\":\"histogram2dcontour\",\"colorbar\":{\"outlinewidth\":0,\"ticks\":\"\"},\"colorscale\":[[0.0,\"#0d0887\"],[0.1111111111111111,\"#46039f\"],[0.2222222222222222,\"#7201a8\"],[0.3333333333333333,\"#9c179e\"],[0.4444444444444444,\"#bd3786\"],[0.5555555555555556,\"#d8576b\"],[0.6666666666666666,\"#ed7953\"],[0.7777777777777778,\"#fb9f3a\"],[0.8888888888888888,\"#fdca26\"],[1.0,\"#f0f921\"]]}],\"choropleth\":[{\"type\":\"choropleth\",\"colorbar\":{\"outlinewidth\":0,\"ticks\":\"\"}}],\"histogram2d\":[{\"type\":\"histogram2d\",\"colorbar\":{\"outlinewidth\":0,\"ticks\":\"\"},\"colorscale\":[[0.0,\"#0d0887\"],[0.1111111111111111,\"#46039f\"],[0.2222222222222222,\"#7201a8\"],[0.3333333333333333,\"#9c179e\"],[0.4444444444444444,\"#bd3786\"],[0.5555555555555556,\"#d8576b\"],[0.6666666666666666,\"#ed7953\"],[0.7777777777777778,\"#fb9f3a\"],[0.8888888888888888,\"#fdca26\"],[1.0,\"#f0f921\"]]}],\"heatmap\":[{\"type\":\"heatmap\",\"colorbar\":{\"outlinewidth\":0,\"ticks\":\"\"},\"colorscale\":[[0.0,\"#0d0887\"],[0.1111111111111111,\"#46039f\"],[0.2222222222222222,\"#7201a8\"],[0.3333333333333333,\"#9c179e\"],[0.4444444444444444,\"#bd3786\"],[0.5555555555555556,\"#d8576b\"],[0.6666666666666666,\"#ed7953\"],[0.7777777777777778,\"#fb9f3a\"],[0.8888888888888888,\"#fdca26\"],[1.0,\"#f0f921\"]]}],\"heatmapgl\":[{\"type\":\"heatmapgl\",\"colorbar\":{\"outlinewidth\":0,\"ticks\":\"\"},\"colorscale\":[[0.0,\"#0d0887\"],[0.1111111111111111,\"#46039f\"],[0.2222222222222222,\"#7201a8\"],[0.3333333333333333,\"#9c179e\"],[0.4444444444444444,\"#bd3786\"],[0.5555555555555556,\"#d8576b\"],[0.6666666666666666,\"#ed7953\"],[0.7777777777777778,\"#fb9f3a\"],[0.8888888888888888,\"#fdca26\"],[1.0,\"#f0f921\"]]}],\"contourcarpet\":[{\"type\":\"contourcarpet\",\"colorbar\":{\"outlinewidth\":0,\"ticks\":\"\"}}],\"contour\":[{\"type\":\"contour\",\"colorbar\":{\"outlinewidth\":0,\"ticks\":\"\"},\"colorscale\":[[0.0,\"#0d0887\"],[0.1111111111111111,\"#46039f\"],[0.2222222222222222,\"#7201a8\"],[0.3333333333333333,\"#9c179e\"],[0.4444444444444444,\"#bd3786\"],[0.5555555555555556,\"#d8576b\"],[0.6666666666666666,\"#ed7953\"],[0.7777777777777778,\"#fb9f3a\"],[0.8888888888888888,\"#fdca26\"],[1.0,\"#f0f921\"]]}],\"surface\":[{\"type\":\"surface\",\"colorbar\":{\"outlinewidth\":0,\"ticks\":\"\"},\"colorscale\":[[0.0,\"#0d0887\"],[0.1111111111111111,\"#46039f\"],[0.2222222222222222,\"#7201a8\"],[0.3333333333333333,\"#9c179e\"],[0.4444444444444444,\"#bd3786\"],[0.5555555555555556,\"#d8576b\"],[0.6666666666666666,\"#ed7953\"],[0.7777777777777778,\"#fb9f3a\"],[0.8888888888888888,\"#fdca26\"],[1.0,\"#f0f921\"]]}],\"mesh3d\":[{\"type\":\"mesh3d\",\"colorbar\":{\"outlinewidth\":0,\"ticks\":\"\"}}],\"scatter\":[{\"fillpattern\":{\"fillmode\":\"overlay\",\"size\":10,\"solidity\":0.2},\"type\":\"scatter\"}],\"parcoords\":[{\"type\":\"parcoords\",\"line\":{\"colorbar\":{\"outlinewidth\":0,\"ticks\":\"\"}}}],\"scatterpolargl\":[{\"type\":\"scatterpolargl\",\"marker\":{\"colorbar\":{\"outlinewidth\":0,\"ticks\":\"\"}}}],\"bar\":[{\"error_x\":{\"color\":\"#2a3f5f\"},\"error_y\":{\"color\":\"#2a3f5f\"},\"marker\":{\"line\":{\"color\":\"#E5ECF6\",\"width\":0.5},\"pattern\":{\"fillmode\":\"overlay\",\"size\":10,\"solidity\":0.2}},\"type\":\"bar\"}],\"scattergeo\":[{\"type\":\"scattergeo\",\"marker\":{\"colorbar\":{\"outlinewidth\":0,\"ticks\":\"\"}}}],\"scatterpolar\":[{\"type\":\"scatterpolar\",\"marker\":{\"colorbar\":{\"outlinewidth\":0,\"ticks\":\"\"}}}],\"histogram\":[{\"marker\":{\"pattern\":{\"fillmode\":\"overlay\",\"size\":10,\"solidity\":0.2}},\"type\":\"histogram\"}],\"scattergl\":[{\"type\":\"scattergl\",\"marker\":{\"colorbar\":{\"outlinewidth\":0,\"ticks\":\"\"}}}],\"scatter3d\":[{\"type\":\"scatter3d\",\"line\":{\"colorbar\":{\"outlinewidth\":0,\"ticks\":\"\"}},\"marker\":{\"colorbar\":{\"outlinewidth\":0,\"ticks\":\"\"}}}],\"scattermapbox\":[{\"type\":\"scattermapbox\",\"marker\":{\"colorbar\":{\"outlinewidth\":0,\"ticks\":\"\"}}}],\"scatterternary\":[{\"type\":\"scatterternary\",\"marker\":{\"colorbar\":{\"outlinewidth\":0,\"ticks\":\"\"}}}],\"scattercarpet\":[{\"type\":\"scattercarpet\",\"marker\":{\"colorbar\":{\"outlinewidth\":0,\"ticks\":\"\"}}}],\"carpet\":[{\"aaxis\":{\"endlinecolor\":\"#2a3f5f\",\"gridcolor\":\"white\",\"linecolor\":\"white\",\"minorgridcolor\":\"white\",\"startlinecolor\":\"#2a3f5f\"},\"baxis\":{\"endlinecolor\":\"#2a3f5f\",\"gridcolor\":\"white\",\"linecolor\":\"white\",\"minorgridcolor\":\"white\",\"startlinecolor\":\"#2a3f5f\"},\"type\":\"carpet\"}],\"table\":[{\"cells\":{\"fill\":{\"color\":\"#EBF0F8\"},\"line\":{\"color\":\"white\"}},\"header\":{\"fill\":{\"color\":\"#C8D4E3\"},\"line\":{\"color\":\"white\"}},\"type\":\"table\"}],\"barpolar\":[{\"marker\":{\"line\":{\"color\":\"#E5ECF6\",\"width\":0.5},\"pattern\":{\"fillmode\":\"overlay\",\"size\":10,\"solidity\":0.2}},\"type\":\"barpolar\"}],\"pie\":[{\"automargin\":true,\"type\":\"pie\"}]},\"layout\":{\"autotypenumbers\":\"strict\",\"colorway\":[\"#636efa\",\"#EF553B\",\"#00cc96\",\"#ab63fa\",\"#FFA15A\",\"#19d3f3\",\"#FF6692\",\"#B6E880\",\"#FF97FF\",\"#FECB52\"],\"font\":{\"color\":\"#2a3f5f\"},\"hovermode\":\"closest\",\"hoverlabel\":{\"align\":\"left\"},\"paper_bgcolor\":\"white\",\"plot_bgcolor\":\"#E5ECF6\",\"polar\":{\"bgcolor\":\"#E5ECF6\",\"angularaxis\":{\"gridcolor\":\"white\",\"linecolor\":\"white\",\"ticks\":\"\"},\"radialaxis\":{\"gridcolor\":\"white\",\"linecolor\":\"white\",\"ticks\":\"\"}},\"ternary\":{\"bgcolor\":\"#E5ECF6\",\"aaxis\":{\"gridcolor\":\"white\",\"linecolor\":\"white\",\"ticks\":\"\"},\"baxis\":{\"gridcolor\":\"white\",\"linecolor\":\"white\",\"ticks\":\"\"},\"caxis\":{\"gridcolor\":\"white\",\"linecolor\":\"white\",\"ticks\":\"\"}},\"coloraxis\":{\"colorbar\":{\"outlinewidth\":0,\"ticks\":\"\"}},\"colorscale\":{\"sequential\":[[0.0,\"#0d0887\"],[0.1111111111111111,\"#46039f\"],[0.2222222222222222,\"#7201a8\"],[0.3333333333333333,\"#9c179e\"],[0.4444444444444444,\"#bd3786\"],[0.5555555555555556,\"#d8576b\"],[0.6666666666666666,\"#ed7953\"],[0.7777777777777778,\"#fb9f3a\"],[0.8888888888888888,\"#fdca26\"],[1.0,\"#f0f921\"]],\"sequentialminus\":[[0.0,\"#0d0887\"],[0.1111111111111111,\"#46039f\"],[0.2222222222222222,\"#7201a8\"],[0.3333333333333333,\"#9c179e\"],[0.4444444444444444,\"#bd3786\"],[0.5555555555555556,\"#d8576b\"],[0.6666666666666666,\"#ed7953\"],[0.7777777777777778,\"#fb9f3a\"],[0.8888888888888888,\"#fdca26\"],[1.0,\"#f0f921\"]],\"diverging\":[[0,\"#8e0152\"],[0.1,\"#c51b7d\"],[0.2,\"#de77ae\"],[0.3,\"#f1b6da\"],[0.4,\"#fde0ef\"],[0.5,\"#f7f7f7\"],[0.6,\"#e6f5d0\"],[0.7,\"#b8e186\"],[0.8,\"#7fbc41\"],[0.9,\"#4d9221\"],[1,\"#276419\"]]},\"xaxis\":{\"gridcolor\":\"white\",\"linecolor\":\"white\",\"ticks\":\"\",\"title\":{\"standoff\":15},\"zerolinecolor\":\"white\",\"automargin\":true,\"zerolinewidth\":2},\"yaxis\":{\"gridcolor\":\"white\",\"linecolor\":\"white\",\"ticks\":\"\",\"title\":{\"standoff\":15},\"zerolinecolor\":\"white\",\"automargin\":true,\"zerolinewidth\":2},\"scene\":{\"xaxis\":{\"backgroundcolor\":\"#E5ECF6\",\"gridcolor\":\"white\",\"linecolor\":\"white\",\"showbackground\":true,\"ticks\":\"\",\"zerolinecolor\":\"white\",\"gridwidth\":2},\"yaxis\":{\"backgroundcolor\":\"#E5ECF6\",\"gridcolor\":\"white\",\"linecolor\":\"white\",\"showbackground\":true,\"ticks\":\"\",\"zerolinecolor\":\"white\",\"gridwidth\":2},\"zaxis\":{\"backgroundcolor\":\"#E5ECF6\",\"gridcolor\":\"white\",\"linecolor\":\"white\",\"showbackground\":true,\"ticks\":\"\",\"zerolinecolor\":\"white\",\"gridwidth\":2}},\"shapedefaults\":{\"line\":{\"color\":\"#2a3f5f\"}},\"annotationdefaults\":{\"arrowcolor\":\"#2a3f5f\",\"arrowhead\":0,\"arrowwidth\":1},\"geo\":{\"bgcolor\":\"white\",\"landcolor\":\"#E5ECF6\",\"subunitcolor\":\"white\",\"showland\":true,\"showlakes\":true,\"lakecolor\":\"white\"},\"title\":{\"x\":0.05},\"mapbox\":{\"style\":\"light\"}}},\"title\":{\"text\":\"Temperature Predictions vs Actuals\"},\"xaxis\":{\"title\":{\"text\":\"Date\"}},\"yaxis\":{\"title\":{\"text\":\"Temperature (\\u00b0C)\"}},\"hovermode\":\"x unified\"},                        {\"responsive\": true}                    ).then(function(){\n",
       "                            \n",
       "var gd = document.getElementById('0d97e400-9a4f-454b-b3bc-576ef88cc714');\n",
       "var x = new MutationObserver(function (mutations, observer) {{\n",
       "        var display = window.getComputedStyle(gd).display;\n",
       "        if (!display || display === 'none') {{\n",
       "            console.log([gd, 'removed!']);\n",
       "            Plotly.purge(gd);\n",
       "            observer.disconnect();\n",
       "        }}\n",
       "}});\n",
       "\n",
       "// Listen for the removal of the full notebook cells\n",
       "var notebookContainer = gd.closest('#notebook-container');\n",
       "if (notebookContainer) {{\n",
       "    x.observe(notebookContainer, {childList: true});\n",
       "}}\n",
       "\n",
       "// Listen for the clearing of the current output cell\n",
       "var outputEl = gd.closest('.output');\n",
       "if (outputEl) {{\n",
       "    x.observe(outputEl, {childList: true});\n",
       "}}\n",
       "\n",
       "                        })                };                });            </script>        </div>"
      ]
     },
     "metadata": {},
     "output_type": "display_data"
    }
   ],
   "source": [
    "lat = 48.8566\n",
    "lon = 2.3522\n",
    "\n",
    "predict_next_6_hours(lat, lon)"
   ]
  },
  {
   "cell_type": "code",
   "execution_count": null,
   "id": "ddc58cf7-ab14-4285-8280-6758727f7744",
   "metadata": {},
   "outputs": [],
   "source": []
  },
  {
   "cell_type": "code",
   "execution_count": 61,
   "id": "a3402d9e-fcac-49b3-bb4a-cdc4b35c5c28",
   "metadata": {},
   "outputs": [
    {
     "name": "stdout",
     "output_type": "stream",
     "text": [
      "2024-05-12\n",
      "2024-05-15\n",
      "9\n",
      "2024-05-12\n",
      "2024-05-15\n",
      "Coordinates 48.1195068359375°N 17.100000381469727°E\n",
      "Elevation 157.0 m asl\n",
      "Timezone b'Europe/Bratislava' b'CEST'\n",
      "Timezone difference to GMT+0 7200 s\n",
      "2024-05-12\n",
      "2024-05-15\n",
      "Coordinates 48.1195068359375°N 17.100000381469727°E\n",
      "Elevation 157.0 m asl\n",
      "Timezone b'Europe/Bratislava' b'CEST'\n",
      "Timezone difference to GMT+0 7200 s\n",
      "15\n"
     ]
    },
    {
     "name": "stderr",
     "output_type": "stream",
     "text": [
      "/tmp/ipykernel_18211/3754601863.py:20: FutureWarning:\n",
      "\n",
      "DataFrame.fillna with 'method' is deprecated and will raise in a future version. Use obj.ffill() or obj.bfill() instead.\n",
      "\n",
      "/tmp/ipykernel_18211/3754601863.py:21: FutureWarning:\n",
      "\n",
      "DataFrame.fillna with 'method' is deprecated and will raise in a future version. Use obj.ffill() or obj.bfill() instead.\n",
      "\n",
      "/tmp/ipykernel_18211/3754601863.py:20: FutureWarning:\n",
      "\n",
      "DataFrame.fillna with 'method' is deprecated and will raise in a future version. Use obj.ffill() or obj.bfill() instead.\n",
      "\n",
      "/tmp/ipykernel_18211/3754601863.py:21: FutureWarning:\n",
      "\n",
      "DataFrame.fillna with 'method' is deprecated and will raise in a future version. Use obj.ffill() or obj.bfill() instead.\n",
      "\n"
     ]
    },
    {
     "name": "stdout",
     "output_type": "stream",
     "text": [
      "\u001b[1m1/1\u001b[0m \u001b[32m━━━━━━━━━━━━━━━━━━━━\u001b[0m\u001b[37m\u001b[0m \u001b[1m0s\u001b[0m 71ms/step\n"
     ]
    },
    {
     "data": {
      "application/vnd.plotly.v1+json": {
       "config": {
        "plotlyServerURL": "https://plot.ly"
       },
       "data": [
        {
         "line": {
          "color": "blue"
         },
         "mode": "lines",
         "name": "Original T2M",
         "type": "scatter",
         "x": [
          "2024-05-11T22:00:00+00:00",
          "2024-05-11T23:00:00+00:00",
          "2024-05-12T00:00:00+00:00",
          "2024-05-12T01:00:00+00:00",
          "2024-05-12T02:00:00+00:00",
          "2024-05-12T03:00:00+00:00",
          "2024-05-12T04:00:00+00:00",
          "2024-05-12T05:00:00+00:00",
          "2024-05-12T06:00:00+00:00",
          "2024-05-12T07:00:00+00:00",
          "2024-05-12T08:00:00+00:00",
          "2024-05-12T09:00:00+00:00",
          "2024-05-12T10:00:00+00:00",
          "2024-05-12T11:00:00+00:00",
          "2024-05-12T12:00:00+00:00",
          "2024-05-12T13:00:00+00:00",
          "2024-05-12T14:00:00+00:00",
          "2024-05-12T15:00:00+00:00",
          "2024-05-12T16:00:00+00:00",
          "2024-05-12T17:00:00+00:00",
          "2024-05-12T18:00:00+00:00",
          "2024-05-12T19:00:00+00:00",
          "2024-05-12T20:00:00+00:00",
          "2024-05-12T21:00:00+00:00",
          "2024-05-12T22:00:00+00:00",
          "2024-05-12T23:00:00+00:00",
          "2024-05-13T00:00:00+00:00",
          "2024-05-13T01:00:00+00:00",
          "2024-05-13T02:00:00+00:00",
          "2024-05-13T03:00:00+00:00",
          "2024-05-13T04:00:00+00:00",
          "2024-05-13T05:00:00+00:00",
          "2024-05-13T06:00:00+00:00",
          "2024-05-13T07:00:00+00:00",
          "2024-05-13T08:00:00+00:00",
          "2024-05-13T09:00:00+00:00",
          "2024-05-13T10:00:00+00:00",
          "2024-05-13T11:00:00+00:00",
          "2024-05-13T12:00:00+00:00",
          "2024-05-13T13:00:00+00:00",
          "2024-05-13T14:00:00+00:00"
         ],
         "y": [
          13.632500648498535,
          12.482500076293945,
          11.582500457763672,
          11.682499885559082,
          11.382500648498535,
          11.582500457763672,
          11.982500076293945,
          13.732500076293945,
          14.982500076293945,
          16.182498931884766,
          17.432498931884766,
          18.482500076293945,
          19.38249969482422,
          20.13249969482422,
          19.732500076293945,
          20.982500076293945,
          21.182498931884766,
          21.58249855041504,
          20.982500076293945,
          19.63249969482422,
          17.782499313354492,
          16.232500076293945,
          14.882500648498535,
          14.332500457763672,
          13.482500076293945,
          12.882500648498535,
          13.182499885559082,
          13.132500648498535,
          12.332500457763672,
          11.482500076293945,
          11.282500267028809,
          11.982500076293945,
          13.232500076293945,
          14.832500457763672,
          16.63249969482422,
          18.13249969482422,
          19.282499313354492,
          19.63249969482422,
          19.982500076293945,
          20.432498931884766,
          20.83249855041504
         ]
        },
        {
         "line": {
          "color": "red",
          "dash": "dash"
         },
         "mode": "lines+markers",
         "name": "Predicted T2M",
         "type": "scatter",
         "x": [
          "2024-05-13T15:00:00+00:00",
          "2024-05-13T16:00:00+00:00",
          "2024-05-13T17:00:00+00:00",
          "2024-05-13T18:00:00+00:00",
          "2024-05-13T19:00:00+00:00",
          "2024-05-13T20:00:00+00:00"
         ],
         "y": [
          20.61546391004083,
          20.11518568687518,
          19.121626084824015,
          17.650707360330784,
          16.369906857760384,
          15.175980624055226
         ]
        },
        {
         "line": {
          "color": "green"
         },
         "mode": "lines",
         "name": "Actual T2M",
         "type": "scatter",
         "x": [
          "2024-05-13T14:00:00+00:00",
          "2024-05-13T15:00:00+00:00",
          "2024-05-13T16:00:00+00:00",
          "2024-05-13T17:00:00+00:00",
          "2024-05-13T18:00:00+00:00",
          "2024-05-13T19:00:00+00:00",
          "2024-05-13T20:00:00+00:00",
          "2024-05-13T21:00:00+00:00",
          "2024-05-13T22:00:00+00:00",
          "2024-05-13T23:00:00+00:00"
         ],
         "y": [
          20.83249855041504,
          20.83249855041504,
          18.58249855041504,
          17.83249855041504,
          15.682499885559082,
          15.632500648498535,
          14.782500267028809,
          13.932499885559082,
          11.782500267028809,
          11.782500267028809
         ]
        }
       ],
       "layout": {
        "autosize": true,
        "hovermode": "x unified",
        "template": {
         "data": {
          "bar": [
           {
            "error_x": {
             "color": "#2a3f5f"
            },
            "error_y": {
             "color": "#2a3f5f"
            },
            "marker": {
             "line": {
              "color": "#E5ECF6",
              "width": 0.5
             },
             "pattern": {
              "fillmode": "overlay",
              "size": 10,
              "solidity": 0.2
             }
            },
            "type": "bar"
           }
          ],
          "barpolar": [
           {
            "marker": {
             "line": {
              "color": "#E5ECF6",
              "width": 0.5
             },
             "pattern": {
              "fillmode": "overlay",
              "size": 10,
              "solidity": 0.2
             }
            },
            "type": "barpolar"
           }
          ],
          "carpet": [
           {
            "aaxis": {
             "endlinecolor": "#2a3f5f",
             "gridcolor": "white",
             "linecolor": "white",
             "minorgridcolor": "white",
             "startlinecolor": "#2a3f5f"
            },
            "baxis": {
             "endlinecolor": "#2a3f5f",
             "gridcolor": "white",
             "linecolor": "white",
             "minorgridcolor": "white",
             "startlinecolor": "#2a3f5f"
            },
            "type": "carpet"
           }
          ],
          "choropleth": [
           {
            "colorbar": {
             "outlinewidth": 0,
             "ticks": ""
            },
            "type": "choropleth"
           }
          ],
          "contour": [
           {
            "colorbar": {
             "outlinewidth": 0,
             "ticks": ""
            },
            "colorscale": [
             [
              0,
              "#0d0887"
             ],
             [
              0.1111111111111111,
              "#46039f"
             ],
             [
              0.2222222222222222,
              "#7201a8"
             ],
             [
              0.3333333333333333,
              "#9c179e"
             ],
             [
              0.4444444444444444,
              "#bd3786"
             ],
             [
              0.5555555555555556,
              "#d8576b"
             ],
             [
              0.6666666666666666,
              "#ed7953"
             ],
             [
              0.7777777777777778,
              "#fb9f3a"
             ],
             [
              0.8888888888888888,
              "#fdca26"
             ],
             [
              1,
              "#f0f921"
             ]
            ],
            "type": "contour"
           }
          ],
          "contourcarpet": [
           {
            "colorbar": {
             "outlinewidth": 0,
             "ticks": ""
            },
            "type": "contourcarpet"
           }
          ],
          "heatmap": [
           {
            "colorbar": {
             "outlinewidth": 0,
             "ticks": ""
            },
            "colorscale": [
             [
              0,
              "#0d0887"
             ],
             [
              0.1111111111111111,
              "#46039f"
             ],
             [
              0.2222222222222222,
              "#7201a8"
             ],
             [
              0.3333333333333333,
              "#9c179e"
             ],
             [
              0.4444444444444444,
              "#bd3786"
             ],
             [
              0.5555555555555556,
              "#d8576b"
             ],
             [
              0.6666666666666666,
              "#ed7953"
             ],
             [
              0.7777777777777778,
              "#fb9f3a"
             ],
             [
              0.8888888888888888,
              "#fdca26"
             ],
             [
              1,
              "#f0f921"
             ]
            ],
            "type": "heatmap"
           }
          ],
          "heatmapgl": [
           {
            "colorbar": {
             "outlinewidth": 0,
             "ticks": ""
            },
            "colorscale": [
             [
              0,
              "#0d0887"
             ],
             [
              0.1111111111111111,
              "#46039f"
             ],
             [
              0.2222222222222222,
              "#7201a8"
             ],
             [
              0.3333333333333333,
              "#9c179e"
             ],
             [
              0.4444444444444444,
              "#bd3786"
             ],
             [
              0.5555555555555556,
              "#d8576b"
             ],
             [
              0.6666666666666666,
              "#ed7953"
             ],
             [
              0.7777777777777778,
              "#fb9f3a"
             ],
             [
              0.8888888888888888,
              "#fdca26"
             ],
             [
              1,
              "#f0f921"
             ]
            ],
            "type": "heatmapgl"
           }
          ],
          "histogram": [
           {
            "marker": {
             "pattern": {
              "fillmode": "overlay",
              "size": 10,
              "solidity": 0.2
             }
            },
            "type": "histogram"
           }
          ],
          "histogram2d": [
           {
            "colorbar": {
             "outlinewidth": 0,
             "ticks": ""
            },
            "colorscale": [
             [
              0,
              "#0d0887"
             ],
             [
              0.1111111111111111,
              "#46039f"
             ],
             [
              0.2222222222222222,
              "#7201a8"
             ],
             [
              0.3333333333333333,
              "#9c179e"
             ],
             [
              0.4444444444444444,
              "#bd3786"
             ],
             [
              0.5555555555555556,
              "#d8576b"
             ],
             [
              0.6666666666666666,
              "#ed7953"
             ],
             [
              0.7777777777777778,
              "#fb9f3a"
             ],
             [
              0.8888888888888888,
              "#fdca26"
             ],
             [
              1,
              "#f0f921"
             ]
            ],
            "type": "histogram2d"
           }
          ],
          "histogram2dcontour": [
           {
            "colorbar": {
             "outlinewidth": 0,
             "ticks": ""
            },
            "colorscale": [
             [
              0,
              "#0d0887"
             ],
             [
              0.1111111111111111,
              "#46039f"
             ],
             [
              0.2222222222222222,
              "#7201a8"
             ],
             [
              0.3333333333333333,
              "#9c179e"
             ],
             [
              0.4444444444444444,
              "#bd3786"
             ],
             [
              0.5555555555555556,
              "#d8576b"
             ],
             [
              0.6666666666666666,
              "#ed7953"
             ],
             [
              0.7777777777777778,
              "#fb9f3a"
             ],
             [
              0.8888888888888888,
              "#fdca26"
             ],
             [
              1,
              "#f0f921"
             ]
            ],
            "type": "histogram2dcontour"
           }
          ],
          "mesh3d": [
           {
            "colorbar": {
             "outlinewidth": 0,
             "ticks": ""
            },
            "type": "mesh3d"
           }
          ],
          "parcoords": [
           {
            "line": {
             "colorbar": {
              "outlinewidth": 0,
              "ticks": ""
             }
            },
            "type": "parcoords"
           }
          ],
          "pie": [
           {
            "automargin": true,
            "type": "pie"
           }
          ],
          "scatter": [
           {
            "fillpattern": {
             "fillmode": "overlay",
             "size": 10,
             "solidity": 0.2
            },
            "type": "scatter"
           }
          ],
          "scatter3d": [
           {
            "line": {
             "colorbar": {
              "outlinewidth": 0,
              "ticks": ""
             }
            },
            "marker": {
             "colorbar": {
              "outlinewidth": 0,
              "ticks": ""
             }
            },
            "type": "scatter3d"
           }
          ],
          "scattercarpet": [
           {
            "marker": {
             "colorbar": {
              "outlinewidth": 0,
              "ticks": ""
             }
            },
            "type": "scattercarpet"
           }
          ],
          "scattergeo": [
           {
            "marker": {
             "colorbar": {
              "outlinewidth": 0,
              "ticks": ""
             }
            },
            "type": "scattergeo"
           }
          ],
          "scattergl": [
           {
            "marker": {
             "colorbar": {
              "outlinewidth": 0,
              "ticks": ""
             }
            },
            "type": "scattergl"
           }
          ],
          "scattermapbox": [
           {
            "marker": {
             "colorbar": {
              "outlinewidth": 0,
              "ticks": ""
             }
            },
            "type": "scattermapbox"
           }
          ],
          "scatterpolar": [
           {
            "marker": {
             "colorbar": {
              "outlinewidth": 0,
              "ticks": ""
             }
            },
            "type": "scatterpolar"
           }
          ],
          "scatterpolargl": [
           {
            "marker": {
             "colorbar": {
              "outlinewidth": 0,
              "ticks": ""
             }
            },
            "type": "scatterpolargl"
           }
          ],
          "scatterternary": [
           {
            "marker": {
             "colorbar": {
              "outlinewidth": 0,
              "ticks": ""
             }
            },
            "type": "scatterternary"
           }
          ],
          "surface": [
           {
            "colorbar": {
             "outlinewidth": 0,
             "ticks": ""
            },
            "colorscale": [
             [
              0,
              "#0d0887"
             ],
             [
              0.1111111111111111,
              "#46039f"
             ],
             [
              0.2222222222222222,
              "#7201a8"
             ],
             [
              0.3333333333333333,
              "#9c179e"
             ],
             [
              0.4444444444444444,
              "#bd3786"
             ],
             [
              0.5555555555555556,
              "#d8576b"
             ],
             [
              0.6666666666666666,
              "#ed7953"
             ],
             [
              0.7777777777777778,
              "#fb9f3a"
             ],
             [
              0.8888888888888888,
              "#fdca26"
             ],
             [
              1,
              "#f0f921"
             ]
            ],
            "type": "surface"
           }
          ],
          "table": [
           {
            "cells": {
             "fill": {
              "color": "#EBF0F8"
             },
             "line": {
              "color": "white"
             }
            },
            "header": {
             "fill": {
              "color": "#C8D4E3"
             },
             "line": {
              "color": "white"
             }
            },
            "type": "table"
           }
          ]
         },
         "layout": {
          "annotationdefaults": {
           "arrowcolor": "#2a3f5f",
           "arrowhead": 0,
           "arrowwidth": 1
          },
          "autotypenumbers": "strict",
          "coloraxis": {
           "colorbar": {
            "outlinewidth": 0,
            "ticks": ""
           }
          },
          "colorscale": {
           "diverging": [
            [
             0,
             "#8e0152"
            ],
            [
             0.1,
             "#c51b7d"
            ],
            [
             0.2,
             "#de77ae"
            ],
            [
             0.3,
             "#f1b6da"
            ],
            [
             0.4,
             "#fde0ef"
            ],
            [
             0.5,
             "#f7f7f7"
            ],
            [
             0.6,
             "#e6f5d0"
            ],
            [
             0.7,
             "#b8e186"
            ],
            [
             0.8,
             "#7fbc41"
            ],
            [
             0.9,
             "#4d9221"
            ],
            [
             1,
             "#276419"
            ]
           ],
           "sequential": [
            [
             0,
             "#0d0887"
            ],
            [
             0.1111111111111111,
             "#46039f"
            ],
            [
             0.2222222222222222,
             "#7201a8"
            ],
            [
             0.3333333333333333,
             "#9c179e"
            ],
            [
             0.4444444444444444,
             "#bd3786"
            ],
            [
             0.5555555555555556,
             "#d8576b"
            ],
            [
             0.6666666666666666,
             "#ed7953"
            ],
            [
             0.7777777777777778,
             "#fb9f3a"
            ],
            [
             0.8888888888888888,
             "#fdca26"
            ],
            [
             1,
             "#f0f921"
            ]
           ],
           "sequentialminus": [
            [
             0,
             "#0d0887"
            ],
            [
             0.1111111111111111,
             "#46039f"
            ],
            [
             0.2222222222222222,
             "#7201a8"
            ],
            [
             0.3333333333333333,
             "#9c179e"
            ],
            [
             0.4444444444444444,
             "#bd3786"
            ],
            [
             0.5555555555555556,
             "#d8576b"
            ],
            [
             0.6666666666666666,
             "#ed7953"
            ],
            [
             0.7777777777777778,
             "#fb9f3a"
            ],
            [
             0.8888888888888888,
             "#fdca26"
            ],
            [
             1,
             "#f0f921"
            ]
           ]
          },
          "colorway": [
           "#636efa",
           "#EF553B",
           "#00cc96",
           "#ab63fa",
           "#FFA15A",
           "#19d3f3",
           "#FF6692",
           "#B6E880",
           "#FF97FF",
           "#FECB52"
          ],
          "font": {
           "color": "#2a3f5f"
          },
          "geo": {
           "bgcolor": "white",
           "lakecolor": "white",
           "landcolor": "#E5ECF6",
           "showlakes": true,
           "showland": true,
           "subunitcolor": "white"
          },
          "hoverlabel": {
           "align": "left"
          },
          "hovermode": "closest",
          "mapbox": {
           "style": "light"
          },
          "paper_bgcolor": "white",
          "plot_bgcolor": "#E5ECF6",
          "polar": {
           "angularaxis": {
            "gridcolor": "white",
            "linecolor": "white",
            "ticks": ""
           },
           "bgcolor": "#E5ECF6",
           "radialaxis": {
            "gridcolor": "white",
            "linecolor": "white",
            "ticks": ""
           }
          },
          "scene": {
           "xaxis": {
            "backgroundcolor": "#E5ECF6",
            "gridcolor": "white",
            "gridwidth": 2,
            "linecolor": "white",
            "showbackground": true,
            "ticks": "",
            "zerolinecolor": "white"
           },
           "yaxis": {
            "backgroundcolor": "#E5ECF6",
            "gridcolor": "white",
            "gridwidth": 2,
            "linecolor": "white",
            "showbackground": true,
            "ticks": "",
            "zerolinecolor": "white"
           },
           "zaxis": {
            "backgroundcolor": "#E5ECF6",
            "gridcolor": "white",
            "gridwidth": 2,
            "linecolor": "white",
            "showbackground": true,
            "ticks": "",
            "zerolinecolor": "white"
           }
          },
          "shapedefaults": {
           "line": {
            "color": "#2a3f5f"
           }
          },
          "ternary": {
           "aaxis": {
            "gridcolor": "white",
            "linecolor": "white",
            "ticks": ""
           },
           "baxis": {
            "gridcolor": "white",
            "linecolor": "white",
            "ticks": ""
           },
           "bgcolor": "#E5ECF6",
           "caxis": {
            "gridcolor": "white",
            "linecolor": "white",
            "ticks": ""
           }
          },
          "title": {
           "x": 0.05
          },
          "xaxis": {
           "automargin": true,
           "gridcolor": "white",
           "linecolor": "white",
           "ticks": "",
           "title": {
            "standoff": 15
           },
           "zerolinecolor": "white",
           "zerolinewidth": 2
          },
          "yaxis": {
           "automargin": true,
           "gridcolor": "white",
           "linecolor": "white",
           "ticks": "",
           "title": {
            "standoff": 15
           },
           "zerolinecolor": "white",
           "zerolinewidth": 2
          }
         }
        },
        "title": {
         "text": "Temperature Predictions vs Actuals"
        },
        "xaxis": {
         "autorange": true,
         "range": [
          "2024-05-11 22:00",
          "2024-05-13 23:00"
         ],
         "title": {
          "text": "Date"
         },
         "type": "date"
        },
        "yaxis": {
         "autorange": true,
         "range": [
          10.710278140174019,
          22.15472067726983
         ],
         "title": {
          "text": "Temperature (°C)"
         },
         "type": "linear"
        }
       }
      },
      "image/png": "[encoded data removed]",
      "text/html": [
       "<div>                            <div id=\"b8233d0f-ed3c-4d07-9bdc-e97f64124fc5\" class=\"plotly-graph-div\" style=\"height:525px; width:100%;\"></div>            <script type=\"text/javascript\">                require([\"plotly\"], function(Plotly) {                    window.PLOTLYENV=window.PLOTLYENV || {};                                    if (document.getElementById(\"b8233d0f-ed3c-4d07-9bdc-e97f64124fc5\")) {                    Plotly.newPlot(                        \"b8233d0f-ed3c-4d07-9bdc-e97f64124fc5\",                        [{\"line\":{\"color\":\"blue\"},\"mode\":\"lines\",\"name\":\"Original T2M\",\"x\":[\"2024-05-11T22:00:00+00:00\",\"2024-05-11T23:00:00+00:00\",\"2024-05-12T00:00:00+00:00\",\"2024-05-12T01:00:00+00:00\",\"2024-05-12T02:00:00+00:00\",\"2024-05-12T03:00:00+00:00\",\"2024-05-12T04:00:00+00:00\",\"2024-05-12T05:00:00+00:00\",\"2024-05-12T06:00:00+00:00\",\"2024-05-12T07:00:00+00:00\",\"2024-05-12T08:00:00+00:00\",\"2024-05-12T09:00:00+00:00\",\"2024-05-12T10:00:00+00:00\",\"2024-05-12T11:00:00+00:00\",\"2024-05-12T12:00:00+00:00\",\"2024-05-12T13:00:00+00:00\",\"2024-05-12T14:00:00+00:00\",\"2024-05-12T15:00:00+00:00\",\"2024-05-12T16:00:00+00:00\",\"2024-05-12T17:00:00+00:00\",\"2024-05-12T18:00:00+00:00\",\"2024-05-12T19:00:00+00:00\",\"2024-05-12T20:00:00+00:00\",\"2024-05-12T21:00:00+00:00\",\"2024-05-12T22:00:00+00:00\",\"2024-05-12T23:00:00+00:00\",\"2024-05-13T00:00:00+00:00\",\"2024-05-13T01:00:00+00:00\",\"2024-05-13T02:00:00+00:00\",\"2024-05-13T03:00:00+00:00\",\"2024-05-13T04:00:00+00:00\",\"2024-05-13T05:00:00+00:00\",\"2024-05-13T06:00:00+00:00\",\"2024-05-13T07:00:00+00:00\",\"2024-05-13T08:00:00+00:00\",\"2024-05-13T09:00:00+00:00\",\"2024-05-13T10:00:00+00:00\",\"2024-05-13T11:00:00+00:00\",\"2024-05-13T12:00:00+00:00\",\"2024-05-13T13:00:00+00:00\",\"2024-05-13T14:00:00+00:00\"],\"y\":[13.632500648498535,12.482500076293945,11.582500457763672,11.682499885559082,11.382500648498535,11.582500457763672,11.982500076293945,13.732500076293945,14.982500076293945,16.182498931884766,17.432498931884766,18.482500076293945,19.38249969482422,20.13249969482422,19.732500076293945,20.982500076293945,21.182498931884766,21.58249855041504,20.982500076293945,19.63249969482422,17.782499313354492,16.232500076293945,14.882500648498535,14.332500457763672,13.482500076293945,12.882500648498535,13.182499885559082,13.132500648498535,12.332500457763672,11.482500076293945,11.282500267028809,11.982500076293945,13.232500076293945,14.832500457763672,16.63249969482422,18.13249969482422,19.282499313354492,19.63249969482422,19.982500076293945,20.432498931884766,20.83249855041504],\"type\":\"scatter\"},{\"line\":{\"color\":\"red\",\"dash\":\"dash\"},\"mode\":\"lines+markers\",\"name\":\"Predicted T2M\",\"x\":[\"2024-05-13T15:00:00+00:00\",\"2024-05-13T16:00:00+00:00\",\"2024-05-13T17:00:00+00:00\",\"2024-05-13T18:00:00+00:00\",\"2024-05-13T19:00:00+00:00\",\"2024-05-13T20:00:00+00:00\"],\"y\":[20.61546391004083,20.11518568687518,19.121626084824015,17.650707360330784,16.369906857760384,15.175980624055226],\"type\":\"scatter\"},{\"line\":{\"color\":\"green\"},\"mode\":\"lines\",\"name\":\"Actual T2M\",\"x\":[\"2024-05-13T14:00:00+00:00\",\"2024-05-13T15:00:00+00:00\",\"2024-05-13T16:00:00+00:00\",\"2024-05-13T17:00:00+00:00\",\"2024-05-13T18:00:00+00:00\",\"2024-05-13T19:00:00+00:00\",\"2024-05-13T20:00:00+00:00\",\"2024-05-13T21:00:00+00:00\",\"2024-05-13T22:00:00+00:00\",\"2024-05-13T23:00:00+00:00\"],\"y\":[20.83249855041504,20.83249855041504,18.58249855041504,17.83249855041504,15.682499885559082,15.632500648498535,14.782500267028809,13.932499885559082,11.782500267028809,11.782500267028809],\"type\":\"scatter\"}],                        {\"template\":{\"data\":{\"histogram2dcontour\":[{\"type\":\"histogram2dcontour\",\"colorbar\":{\"outlinewidth\":0,\"ticks\":\"\"},\"colorscale\":[[0.0,\"#0d0887\"],[0.1111111111111111,\"#46039f\"],[0.2222222222222222,\"#7201a8\"],[0.3333333333333333,\"#9c179e\"],[0.4444444444444444,\"#bd3786\"],[0.5555555555555556,\"#d8576b\"],[0.6666666666666666,\"#ed7953\"],[0.7777777777777778,\"#fb9f3a\"],[0.8888888888888888,\"#fdca26\"],[1.0,\"#f0f921\"]]}],\"choropleth\":[{\"type\":\"choropleth\",\"colorbar\":{\"outlinewidth\":0,\"ticks\":\"\"}}],\"histogram2d\":[{\"type\":\"histogram2d\",\"colorbar\":{\"outlinewidth\":0,\"ticks\":\"\"},\"colorscale\":[[0.0,\"#0d0887\"],[0.1111111111111111,\"#46039f\"],[0.2222222222222222,\"#7201a8\"],[0.3333333333333333,\"#9c179e\"],[0.4444444444444444,\"#bd3786\"],[0.5555555555555556,\"#d8576b\"],[0.6666666666666666,\"#ed7953\"],[0.7777777777777778,\"#fb9f3a\"],[0.8888888888888888,\"#fdca26\"],[1.0,\"#f0f921\"]]}],\"heatmap\":[{\"type\":\"heatmap\",\"colorbar\":{\"outlinewidth\":0,\"ticks\":\"\"},\"colorscale\":[[0.0,\"#0d0887\"],[0.1111111111111111,\"#46039f\"],[0.2222222222222222,\"#7201a8\"],[0.3333333333333333,\"#9c179e\"],[0.4444444444444444,\"#bd3786\"],[0.5555555555555556,\"#d8576b\"],[0.6666666666666666,\"#ed7953\"],[0.7777777777777778,\"#fb9f3a\"],[0.8888888888888888,\"#fdca26\"],[1.0,\"#f0f921\"]]}],\"heatmapgl\":[{\"type\":\"heatmapgl\",\"colorbar\":{\"outlinewidth\":0,\"ticks\":\"\"},\"colorscale\":[[0.0,\"#0d0887\"],[0.1111111111111111,\"#46039f\"],[0.2222222222222222,\"#7201a8\"],[0.3333333333333333,\"#9c179e\"],[0.4444444444444444,\"#bd3786\"],[0.5555555555555556,\"#d8576b\"],[0.6666666666666666,\"#ed7953\"],[0.7777777777777778,\"#fb9f3a\"],[0.8888888888888888,\"#fdca26\"],[1.0,\"#f0f921\"]]}],\"contourcarpet\":[{\"type\":\"contourcarpet\",\"colorbar\":{\"outlinewidth\":0,\"ticks\":\"\"}}],\"contour\":[{\"type\":\"contour\",\"colorbar\":{\"outlinewidth\":0,\"ticks\":\"\"},\"colorscale\":[[0.0,\"#0d0887\"],[0.1111111111111111,\"#46039f\"],[0.2222222222222222,\"#7201a8\"],[0.3333333333333333,\"#9c179e\"],[0.4444444444444444,\"#bd3786\"],[0.5555555555555556,\"#d8576b\"],[0.6666666666666666,\"#ed7953\"],[0.7777777777777778,\"#fb9f3a\"],[0.8888888888888888,\"#fdca26\"],[1.0,\"#f0f921\"]]}],\"surface\":[{\"type\":\"surface\",\"colorbar\":{\"outlinewidth\":0,\"ticks\":\"\"},\"colorscale\":[[0.0,\"#0d0887\"],[0.1111111111111111,\"#46039f\"],[0.2222222222222222,\"#7201a8\"],[0.3333333333333333,\"#9c179e\"],[0.4444444444444444,\"#bd3786\"],[0.5555555555555556,\"#d8576b\"],[0.6666666666666666,\"#ed7953\"],[0.7777777777777778,\"#fb9f3a\"],[0.8888888888888888,\"#fdca26\"],[1.0,\"#f0f921\"]]}],\"mesh3d\":[{\"type\":\"mesh3d\",\"colorbar\":{\"outlinewidth\":0,\"ticks\":\"\"}}],\"scatter\":[{\"fillpattern\":{\"fillmode\":\"overlay\",\"size\":10,\"solidity\":0.2},\"type\":\"scatter\"}],\"parcoords\":[{\"type\":\"parcoords\",\"line\":{\"colorbar\":{\"outlinewidth\":0,\"ticks\":\"\"}}}],\"scatterpolargl\":[{\"type\":\"scatterpolargl\",\"marker\":{\"colorbar\":{\"outlinewidth\":0,\"ticks\":\"\"}}}],\"bar\":[{\"error_x\":{\"color\":\"#2a3f5f\"},\"error_y\":{\"color\":\"#2a3f5f\"},\"marker\":{\"line\":{\"color\":\"#E5ECF6\",\"width\":0.5},\"pattern\":{\"fillmode\":\"overlay\",\"size\":10,\"solidity\":0.2}},\"type\":\"bar\"}],\"scattergeo\":[{\"type\":\"scattergeo\",\"marker\":{\"colorbar\":{\"outlinewidth\":0,\"ticks\":\"\"}}}],\"scatterpolar\":[{\"type\":\"scatterpolar\",\"marker\":{\"colorbar\":{\"outlinewidth\":0,\"ticks\":\"\"}}}],\"histogram\":[{\"marker\":{\"pattern\":{\"fillmode\":\"overlay\",\"size\":10,\"solidity\":0.2}},\"type\":\"histogram\"}],\"scattergl\":[{\"type\":\"scattergl\",\"marker\":{\"colorbar\":{\"outlinewidth\":0,\"ticks\":\"\"}}}],\"scatter3d\":[{\"type\":\"scatter3d\",\"line\":{\"colorbar\":{\"outlinewidth\":0,\"ticks\":\"\"}},\"marker\":{\"colorbar\":{\"outlinewidth\":0,\"ticks\":\"\"}}}],\"scattermapbox\":[{\"type\":\"scattermapbox\",\"marker\":{\"colorbar\":{\"outlinewidth\":0,\"ticks\":\"\"}}}],\"scatterternary\":[{\"type\":\"scatterternary\",\"marker\":{\"colorbar\":{\"outlinewidth\":0,\"ticks\":\"\"}}}],\"scattercarpet\":[{\"type\":\"scattercarpet\",\"marker\":{\"colorbar\":{\"outlinewidth\":0,\"ticks\":\"\"}}}],\"carpet\":[{\"aaxis\":{\"endlinecolor\":\"#2a3f5f\",\"gridcolor\":\"white\",\"linecolor\":\"white\",\"minorgridcolor\":\"white\",\"startlinecolor\":\"#2a3f5f\"},\"baxis\":{\"endlinecolor\":\"#2a3f5f\",\"gridcolor\":\"white\",\"linecolor\":\"white\",\"minorgridcolor\":\"white\",\"startlinecolor\":\"#2a3f5f\"},\"type\":\"carpet\"}],\"table\":[{\"cells\":{\"fill\":{\"color\":\"#EBF0F8\"},\"line\":{\"color\":\"white\"}},\"header\":{\"fill\":{\"color\":\"#C8D4E3\"},\"line\":{\"color\":\"white\"}},\"type\":\"table\"}],\"barpolar\":[{\"marker\":{\"line\":{\"color\":\"#E5ECF6\",\"width\":0.5},\"pattern\":{\"fillmode\":\"overlay\",\"size\":10,\"solidity\":0.2}},\"type\":\"barpolar\"}],\"pie\":[{\"automargin\":true,\"type\":\"pie\"}]},\"layout\":{\"autotypenumbers\":\"strict\",\"colorway\":[\"#636efa\",\"#EF553B\",\"#00cc96\",\"#ab63fa\",\"#FFA15A\",\"#19d3f3\",\"#FF6692\",\"#B6E880\",\"#FF97FF\",\"#FECB52\"],\"font\":{\"color\":\"#2a3f5f\"},\"hovermode\":\"closest\",\"hoverlabel\":{\"align\":\"left\"},\"paper_bgcolor\":\"white\",\"plot_bgcolor\":\"#E5ECF6\",\"polar\":{\"bgcolor\":\"#E5ECF6\",\"angularaxis\":{\"gridcolor\":\"white\",\"linecolor\":\"white\",\"ticks\":\"\"},\"radialaxis\":{\"gridcolor\":\"white\",\"linecolor\":\"white\",\"ticks\":\"\"}},\"ternary\":{\"bgcolor\":\"#E5ECF6\",\"aaxis\":{\"gridcolor\":\"white\",\"linecolor\":\"white\",\"ticks\":\"\"},\"baxis\":{\"gridcolor\":\"white\",\"linecolor\":\"white\",\"ticks\":\"\"},\"caxis\":{\"gridcolor\":\"white\",\"linecolor\":\"white\",\"ticks\":\"\"}},\"coloraxis\":{\"colorbar\":{\"outlinewidth\":0,\"ticks\":\"\"}},\"colorscale\":{\"sequential\":[[0.0,\"#0d0887\"],[0.1111111111111111,\"#46039f\"],[0.2222222222222222,\"#7201a8\"],[0.3333333333333333,\"#9c179e\"],[0.4444444444444444,\"#bd3786\"],[0.5555555555555556,\"#d8576b\"],[0.6666666666666666,\"#ed7953\"],[0.7777777777777778,\"#fb9f3a\"],[0.8888888888888888,\"#fdca26\"],[1.0,\"#f0f921\"]],\"sequentialminus\":[[0.0,\"#0d0887\"],[0.1111111111111111,\"#46039f\"],[0.2222222222222222,\"#7201a8\"],[0.3333333333333333,\"#9c179e\"],[0.4444444444444444,\"#bd3786\"],[0.5555555555555556,\"#d8576b\"],[0.6666666666666666,\"#ed7953\"],[0.7777777777777778,\"#fb9f3a\"],[0.8888888888888888,\"#fdca26\"],[1.0,\"#f0f921\"]],\"diverging\":[[0,\"#8e0152\"],[0.1,\"#c51b7d\"],[0.2,\"#de77ae\"],[0.3,\"#f1b6da\"],[0.4,\"#fde0ef\"],[0.5,\"#f7f7f7\"],[0.6,\"#e6f5d0\"],[0.7,\"#b8e186\"],[0.8,\"#7fbc41\"],[0.9,\"#4d9221\"],[1,\"#276419\"]]},\"xaxis\":{\"gridcolor\":\"white\",\"linecolor\":\"white\",\"ticks\":\"\",\"title\":{\"standoff\":15},\"zerolinecolor\":\"white\",\"automargin\":true,\"zerolinewidth\":2},\"yaxis\":{\"gridcolor\":\"white\",\"linecolor\":\"white\",\"ticks\":\"\",\"title\":{\"standoff\":15},\"zerolinecolor\":\"white\",\"automargin\":true,\"zerolinewidth\":2},\"scene\":{\"xaxis\":{\"backgroundcolor\":\"#E5ECF6\",\"gridcolor\":\"white\",\"linecolor\":\"white\",\"showbackground\":true,\"ticks\":\"\",\"zerolinecolor\":\"white\",\"gridwidth\":2},\"yaxis\":{\"backgroundcolor\":\"#E5ECF6\",\"gridcolor\":\"white\",\"linecolor\":\"white\",\"showbackground\":true,\"ticks\":\"\",\"zerolinecolor\":\"white\",\"gridwidth\":2},\"zaxis\":{\"backgroundcolor\":\"#E5ECF6\",\"gridcolor\":\"white\",\"linecolor\":\"white\",\"showbackground\":true,\"ticks\":\"\",\"zerolinecolor\":\"white\",\"gridwidth\":2}},\"shapedefaults\":{\"line\":{\"color\":\"#2a3f5f\"}},\"annotationdefaults\":{\"arrowcolor\":\"#2a3f5f\",\"arrowhead\":0,\"arrowwidth\":1},\"geo\":{\"bgcolor\":\"white\",\"landcolor\":\"#E5ECF6\",\"subunitcolor\":\"white\",\"showland\":true,\"showlakes\":true,\"lakecolor\":\"white\"},\"title\":{\"x\":0.05},\"mapbox\":{\"style\":\"light\"}}},\"title\":{\"text\":\"Temperature Predictions vs Actuals\"},\"xaxis\":{\"title\":{\"text\":\"Date\"}},\"yaxis\":{\"title\":{\"text\":\"Temperature (\\u00b0C)\"}},\"hovermode\":\"x unified\"},                        {\"responsive\": true}                    ).then(function(){\n",
       "                            \n",
       "var gd = document.getElementById('b8233d0f-ed3c-4d07-9bdc-e97f64124fc5');\n",
       "var x = new MutationObserver(function (mutations, observer) {{\n",
       "        var display = window.getComputedStyle(gd).display;\n",
       "        if (!display || display === 'none') {{\n",
       "            console.log([gd, 'removed!']);\n",
       "            Plotly.purge(gd);\n",
       "            observer.disconnect();\n",
       "        }}\n",
       "}});\n",
       "\n",
       "// Listen for the removal of the full notebook cells\n",
       "var notebookContainer = gd.closest('#notebook-container');\n",
       "if (notebookContainer) {{\n",
       "    x.observe(notebookContainer, {childList: true});\n",
       "}}\n",
       "\n",
       "// Listen for the clearing of the current output cell\n",
       "var outputEl = gd.closest('.output');\n",
       "if (outputEl) {{\n",
       "    x.observe(outputEl, {childList: true});\n",
       "}}\n",
       "\n",
       "                        })                };                });            </script>        </div>"
      ]
     },
     "metadata": {},
     "output_type": "display_data"
    }
   ],
   "source": [
    "lat = 48.1486 # Bratislava, Slovakia\n",
    "\n",
    "lon = 17.1077\n",
    "predict_next_6_hours(lat, lon)"
   ]
  },
  {
   "cell_type": "code",
   "execution_count": null,
   "id": "7d68c629-a03d-4402-86c1-66f2df6e6935",
   "metadata": {},
   "outputs": [],
   "source": []
  },
  {
   "cell_type": "code",
   "execution_count": null,
   "id": "2917b5cc-fc28-4ecd-b113-7445b63e03a3",
   "metadata": {},
   "outputs": [],
   "source": []
  },
  {
   "cell_type": "code",
   "execution_count": null,
   "id": "a0502fd9-fa1f-4b8d-b8e2-a51ef0a88f95",
   "metadata": {},
   "outputs": [],
   "source": []
  },
  {
   "cell_type": "code",
   "execution_count": null,
   "id": "6a4ea7f6-0edc-46ef-b6eb-a0ccd63ce99e",
   "metadata": {},
   "outputs": [],
   "source": []
  },
  {
   "cell_type": "code",
   "execution_count": null,
   "id": "f84cc3d0-b5ca-4cb2-b248-ee421426b8c6",
   "metadata": {},
   "outputs": [],
   "source": []
  },
  {
   "cell_type": "code",
   "execution_count": null,
   "id": "6a6011af-51ad-43ef-9d5c-497c241a7b31",
   "metadata": {},
   "outputs": [],
   "source": []
  },
  {
   "cell_type": "code",
   "execution_count": null,
   "id": "64cab63b-9e04-4256-a05a-d2cfb49288cc",
   "metadata": {},
   "outputs": [],
   "source": []
  },
  {
   "cell_type": "code",
   "execution_count": 31,
   "id": "ccf36697-e812-49b7-831e-72ed249e99b5",
   "metadata": {},
   "outputs": [
    {
     "name": "stdout",
     "output_type": "stream",
     "text": [
      "2024-04-25\n",
      "2024-04-28\n",
      "Coordinates 44.81546401977539°N 20.448223114013672°E\n",
      "Elevation 138.0 m asl\n",
      "Timezone b'Europe/Belgrade' b'CEST'\n",
      "Timezone difference to GMT+0 7200 s\n"
     ]
    },
    {
     "name": "stderr",
     "output_type": "stream",
     "text": [
      "/tmp/ipykernel_25424/4291441540.py:20: FutureWarning:\n",
      "\n",
      "DataFrame.fillna with 'method' is deprecated and will raise in a future version. Use obj.ffill() or obj.bfill() instead.\n",
      "\n",
      "/tmp/ipykernel_25424/4291441540.py:21: FutureWarning:\n",
      "\n",
      "DataFrame.fillna with 'method' is deprecated and will raise in a future version. Use obj.ffill() or obj.bfill() instead.\n",
      "\n",
      "/tmp/ipykernel_25424/4291441540.py:20: FutureWarning:\n",
      "\n",
      "DataFrame.fillna with 'method' is deprecated and will raise in a future version. Use obj.ffill() or obj.bfill() instead.\n",
      "\n",
      "/tmp/ipykernel_25424/4291441540.py:21: FutureWarning:\n",
      "\n",
      "DataFrame.fillna with 'method' is deprecated and will raise in a future version. Use obj.ffill() or obj.bfill() instead.\n",
      "\n"
     ]
    },
    {
     "name": "stdout",
     "output_type": "stream",
     "text": [
      "2024-04-29\n",
      "2024-04-29\n",
      "Coordinates 44.81546401977539°N 20.448223114013672°E\n",
      "Elevation 138.0 m asl\n",
      "Timezone b'Europe/Belgrade' b'CEST'\n",
      "Timezone difference to GMT+0 7200 s\n",
      "\u001b[1m1/1\u001b[0m \u001b[32m━━━━━━━━━━━━━━━━━━━━\u001b[0m\u001b[37m\u001b[0m \u001b[1m0s\u001b[0m 22ms/step\n"
     ]
    },
    {
     "data": {
      "application/vnd.plotly.v1+json": {
       "config": {
        "plotlyServerURL": "https://plot.ly"
       },
       "data": [
        {
         "line": {
          "color": "blue"
         },
         "mode": "lines",
         "name": "Original T2M",
         "type": "scatter",
         "x": [
          "2024-04-24T22:00:00+00:00",
          "2024-04-24T23:00:00+00:00",
          "2024-04-25T00:00:00+00:00",
          "2024-04-25T01:00:00+00:00",
          "2024-04-25T02:00:00+00:00",
          "2024-04-25T03:00:00+00:00",
          "2024-04-25T04:00:00+00:00",
          "2024-04-25T05:00:00+00:00",
          "2024-04-25T06:00:00+00:00",
          "2024-04-25T07:00:00+00:00",
          "2024-04-25T08:00:00+00:00",
          "2024-04-25T09:00:00+00:00",
          "2024-04-25T10:00:00+00:00",
          "2024-04-25T11:00:00+00:00",
          "2024-04-25T12:00:00+00:00",
          "2024-04-25T13:00:00+00:00",
          "2024-04-25T14:00:00+00:00",
          "2024-04-25T15:00:00+00:00",
          "2024-04-25T16:00:00+00:00",
          "2024-04-25T17:00:00+00:00",
          "2024-04-25T18:00:00+00:00",
          "2024-04-25T19:00:00+00:00",
          "2024-04-25T20:00:00+00:00",
          "2024-04-25T21:00:00+00:00",
          "2024-04-25T22:00:00+00:00",
          "2024-04-25T23:00:00+00:00",
          "2024-04-26T00:00:00+00:00",
          "2024-04-26T01:00:00+00:00",
          "2024-04-26T02:00:00+00:00",
          "2024-04-26T03:00:00+00:00",
          "2024-04-26T04:00:00+00:00",
          "2024-04-26T05:00:00+00:00",
          "2024-04-26T06:00:00+00:00",
          "2024-04-26T07:00:00+00:00",
          "2024-04-26T08:00:00+00:00",
          "2024-04-26T09:00:00+00:00",
          "2024-04-26T10:00:00+00:00",
          "2024-04-26T11:00:00+00:00",
          "2024-04-26T12:00:00+00:00",
          "2024-04-26T13:00:00+00:00",
          "2024-04-26T14:00:00+00:00",
          "2024-04-26T15:00:00+00:00",
          "2024-04-26T16:00:00+00:00",
          "2024-04-26T17:00:00+00:00",
          "2024-04-26T18:00:00+00:00",
          "2024-04-26T19:00:00+00:00",
          "2024-04-26T20:00:00+00:00",
          "2024-04-26T21:00:00+00:00",
          "2024-04-26T22:00:00+00:00",
          "2024-04-26T23:00:00+00:00",
          "2024-04-27T00:00:00+00:00",
          "2024-04-27T01:00:00+00:00",
          "2024-04-27T02:00:00+00:00",
          "2024-04-27T03:00:00+00:00",
          "2024-04-27T04:00:00+00:00",
          "2024-04-27T05:00:00+00:00",
          "2024-04-27T06:00:00+00:00",
          "2024-04-27T07:00:00+00:00",
          "2024-04-27T08:00:00+00:00",
          "2024-04-27T09:00:00+00:00",
          "2024-04-27T10:00:00+00:00",
          "2024-04-27T11:00:00+00:00",
          "2024-04-27T12:00:00+00:00",
          "2024-04-27T13:00:00+00:00",
          "2024-04-27T14:00:00+00:00",
          "2024-04-27T15:00:00+00:00",
          "2024-04-27T16:00:00+00:00",
          "2024-04-27T17:00:00+00:00",
          "2024-04-27T18:00:00+00:00",
          "2024-04-27T19:00:00+00:00",
          "2024-04-27T20:00:00+00:00",
          "2024-04-27T21:00:00+00:00",
          "2024-04-27T22:00:00+00:00",
          "2024-04-27T23:00:00+00:00",
          "2024-04-28T00:00:00+00:00",
          "2024-04-28T01:00:00+00:00",
          "2024-04-28T02:00:00+00:00",
          "2024-04-28T03:00:00+00:00",
          "2024-04-28T04:00:00+00:00",
          "2024-04-28T05:00:00+00:00",
          "2024-04-28T06:00:00+00:00",
          "2024-04-28T07:00:00+00:00",
          "2024-04-28T08:00:00+00:00",
          "2024-04-28T09:00:00+00:00",
          "2024-04-28T10:00:00+00:00",
          "2024-04-28T11:00:00+00:00",
          "2024-04-28T12:00:00+00:00",
          "2024-04-28T13:00:00+00:00",
          "2024-04-28T14:00:00+00:00",
          "2024-04-28T15:00:00+00:00",
          "2024-04-28T16:00:00+00:00",
          "2024-04-28T17:00:00+00:00",
          "2024-04-28T18:00:00+00:00",
          "2024-04-28T19:00:00+00:00",
          "2024-04-28T20:00:00+00:00",
          "2024-04-28T21:00:00+00:00"
         ],
         "y": [
          6.213500022888184,
          5.863500118255615,
          5.713500022888184,
          5.713500022888184,
          5.9135003089904785,
          5.613500118255615,
          5.063499927520752,
          6.313499927520752,
          7.613500118255615,
          9.063499450683594,
          10.16349983215332,
          10.813499450683594,
          11.813499450683594,
          12.463500022888184,
          12.863499641418457,
          13.01349925994873,
          13.01349925994873,
          13.26349925994873,
          12.863499641418457,
          11.613499641418457,
          11.563499450683594,
          11.113499641418457,
          8.76349925994873,
          7.213500022888184,
          8.963500022888184,
          10.16349983215332,
          9.363499641418457,
          5.263500213623047,
          4.563499927520752,
          4.313499927520752,
          5.4135003089904785,
          8.01349925994873,
          10.613499641418457,
          12.563499450683594,
          14.01349925994873,
          15.063499450683594,
          15.563499450683594,
          16.2135009765625,
          16.66349983215332,
          16.613500595092773,
          16.66349983215332,
          16.41349983215332,
          15.913498878479004,
          13.963500022888184,
          12.713500022888184,
          12.063499450683594,
          10.463500022888184,
          10.01349925994873,
          9.91349983215332,
          9.313499450683594,
          8.76349925994873,
          9.063499450683594,
          8.813499450683594,
          8.01349925994873,
          8.41349983215332,
          10.713500022888184,
          13.063499450683594,
          15.01349925994873,
          16.563501358032227,
          17.7135009765625,
          18.763500213623047,
          19.563501358032227,
          20.263500213623047,
          20.813501358032227,
          21.16349983215332,
          21.263500213623047,
          20.763500213623047,
          17.263500213623047,
          14.863499641418457,
          14.01349925994873,
          13.76349925994873,
          13.41349983215332,
          13.113499641418457,
          12.713500022888184,
          12.063499450683594,
          11.91349983215332,
          11.613499641418457,
          11.313499450683594,
          11.363499641418457,
          13.113499641418457,
          15.41349983215332,
          17.863500595092773,
          19.863500595092773,
          21.513500213623047,
          22.613500595092773,
          23.4635009765625,
          24.113500595092773,
          24.563501358032227,
          24.263500213623047,
          23.7135009765625,
          22.063501358032227,
          20.16349983215332,
          18.363500595092773,
          17.363500595092773,
          16.313501358032227,
          15.313499450683594
         ]
        },
        {
         "line": {
          "color": "red",
          "dash": "dash"
         },
         "mode": "lines+markers",
         "name": "Predicted T2M",
         "type": "scatter",
         "x": [
          "2024-04-28T22:00:00+00:00",
          "2024-04-28T23:00:00+00:00",
          "2024-04-29T00:00:00+00:00",
          "2024-04-29T01:00:00+00:00",
          "2024-04-29T02:00:00+00:00",
          "2024-04-29T03:00:00+00:00"
         ],
         "y": [
          14.390320639809714,
          13.95454915520031,
          13.80491543028097,
          13.512613967636296,
          13.14898635040049,
          12.708956587905048
         ]
        },
        {
         "line": {
          "color": "green"
         },
         "mode": "lines",
         "name": "Actual T2M",
         "type": "scatter",
         "x": [
          "2024-04-28T22:00:00+00:00",
          "2024-04-28T23:00:00+00:00",
          "2024-04-29T00:00:00+00:00",
          "2024-04-29T01:00:00+00:00",
          "2024-04-29T02:00:00+00:00",
          "2024-04-29T03:00:00+00:00",
          "2024-04-29T04:00:00+00:00",
          "2024-04-29T05:00:00+00:00",
          "2024-04-29T06:00:00+00:00",
          "2024-04-29T07:00:00+00:00",
          "2024-04-29T08:00:00+00:00",
          "2024-04-29T09:00:00+00:00",
          "2024-04-29T10:00:00+00:00",
          "2024-04-29T11:00:00+00:00",
          "2024-04-29T12:00:00+00:00",
          "2024-04-29T13:00:00+00:00",
          "2024-04-29T14:00:00+00:00",
          "2024-04-29T15:00:00+00:00",
          "2024-04-29T16:00:00+00:00",
          "2024-04-29T17:00:00+00:00",
          "2024-04-29T18:00:00+00:00",
          "2024-04-29T19:00:00+00:00",
          "2024-04-29T20:00:00+00:00",
          "2024-04-29T21:00:00+00:00"
         ],
         "y": [
          14.563499450683594,
          13.91349983215332,
          13.16349983215332,
          13.463500022888184,
          13.063499450683594,
          13.01349925994873,
          12.963500022888184,
          14.313499450683594,
          16.313501358032227,
          18.613500595092773,
          20.4635009765625,
          22.113500595092773,
          23.313501358032227,
          24.263500213623047,
          24.813501358032227,
          25.063501358032227,
          24.41349983215332,
          23.313501358032227,
          22.113500595092773,
          20.263500213623047,
          18.7135009765625,
          17.9635009765625,
          17.113500595092773,
          16.113500595092773
         ]
        }
       ],
       "layout": {
        "autosize": true,
        "hovermode": "x unified",
        "template": {
         "data": {
          "bar": [
           {
            "error_x": {
             "color": "#2a3f5f"
            },
            "error_y": {
             "color": "#2a3f5f"
            },
            "marker": {
             "line": {
              "color": "#E5ECF6",
              "width": 0.5
             },
             "pattern": {
              "fillmode": "overlay",
              "size": 10,
              "solidity": 0.2
             }
            },
            "type": "bar"
           }
          ],
          "barpolar": [
           {
            "marker": {
             "line": {
              "color": "#E5ECF6",
              "width": 0.5
             },
             "pattern": {
              "fillmode": "overlay",
              "size": 10,
              "solidity": 0.2
             }
            },
            "type": "barpolar"
           }
          ],
          "carpet": [
           {
            "aaxis": {
             "endlinecolor": "#2a3f5f",
             "gridcolor": "white",
             "linecolor": "white",
             "minorgridcolor": "white",
             "startlinecolor": "#2a3f5f"
            },
            "baxis": {
             "endlinecolor": "#2a3f5f",
             "gridcolor": "white",
             "linecolor": "white",
             "minorgridcolor": "white",
             "startlinecolor": "#2a3f5f"
            },
            "type": "carpet"
           }
          ],
          "choropleth": [
           {
            "colorbar": {
             "outlinewidth": 0,
             "ticks": ""
            },
            "type": "choropleth"
           }
          ],
          "contour": [
           {
            "colorbar": {
             "outlinewidth": 0,
             "ticks": ""
            },
            "colorscale": [
             [
              0,
              "#0d0887"
             ],
             [
              0.1111111111111111,
              "#46039f"
             ],
             [
              0.2222222222222222,
              "#7201a8"
             ],
             [
              0.3333333333333333,
              "#9c179e"
             ],
             [
              0.4444444444444444,
              "#bd3786"
             ],
             [
              0.5555555555555556,
              "#d8576b"
             ],
             [
              0.6666666666666666,
              "#ed7953"
             ],
             [
              0.7777777777777778,
              "#fb9f3a"
             ],
             [
              0.8888888888888888,
              "#fdca26"
             ],
             [
              1,
              "#f0f921"
             ]
            ],
            "type": "contour"
           }
          ],
          "contourcarpet": [
           {
            "colorbar": {
             "outlinewidth": 0,
             "ticks": ""
            },
            "type": "contourcarpet"
           }
          ],
          "heatmap": [
           {
            "colorbar": {
             "outlinewidth": 0,
             "ticks": ""
            },
            "colorscale": [
             [
              0,
              "#0d0887"
             ],
             [
              0.1111111111111111,
              "#46039f"
             ],
             [
              0.2222222222222222,
              "#7201a8"
             ],
             [
              0.3333333333333333,
              "#9c179e"
             ],
             [
              0.4444444444444444,
              "#bd3786"
             ],
             [
              0.5555555555555556,
              "#d8576b"
             ],
             [
              0.6666666666666666,
              "#ed7953"
             ],
             [
              0.7777777777777778,
              "#fb9f3a"
             ],
             [
              0.8888888888888888,
              "#fdca26"
             ],
             [
              1,
              "#f0f921"
             ]
            ],
            "type": "heatmap"
           }
          ],
          "heatmapgl": [
           {
            "colorbar": {
             "outlinewidth": 0,
             "ticks": ""
            },
            "colorscale": [
             [
              0,
              "#0d0887"
             ],
             [
              0.1111111111111111,
              "#46039f"
             ],
             [
              0.2222222222222222,
              "#7201a8"
             ],
             [
              0.3333333333333333,
              "#9c179e"
             ],
             [
              0.4444444444444444,
              "#bd3786"
             ],
             [
              0.5555555555555556,
              "#d8576b"
             ],
             [
              0.6666666666666666,
              "#ed7953"
             ],
             [
              0.7777777777777778,
              "#fb9f3a"
             ],
             [
              0.8888888888888888,
              "#fdca26"
             ],
             [
              1,
              "#f0f921"
             ]
            ],
            "type": "heatmapgl"
           }
          ],
          "histogram": [
           {
            "marker": {
             "pattern": {
              "fillmode": "overlay",
              "size": 10,
              "solidity": 0.2
             }
            },
            "type": "histogram"
           }
          ],
          "histogram2d": [
           {
            "colorbar": {
             "outlinewidth": 0,
             "ticks": ""
            },
            "colorscale": [
             [
              0,
              "#0d0887"
             ],
             [
              0.1111111111111111,
              "#46039f"
             ],
             [
              0.2222222222222222,
              "#7201a8"
             ],
             [
              0.3333333333333333,
              "#9c179e"
             ],
             [
              0.4444444444444444,
              "#bd3786"
             ],
             [
              0.5555555555555556,
              "#d8576b"
             ],
             [
              0.6666666666666666,
              "#ed7953"
             ],
             [
              0.7777777777777778,
              "#fb9f3a"
             ],
             [
              0.8888888888888888,
              "#fdca26"
             ],
             [
              1,
              "#f0f921"
             ]
            ],
            "type": "histogram2d"
           }
          ],
          "histogram2dcontour": [
           {
            "colorbar": {
             "outlinewidth": 0,
             "ticks": ""
            },
            "colorscale": [
             [
              0,
              "#0d0887"
             ],
             [
              0.1111111111111111,
              "#46039f"
             ],
             [
              0.2222222222222222,
              "#7201a8"
             ],
             [
              0.3333333333333333,
              "#9c179e"
             ],
             [
              0.4444444444444444,
              "#bd3786"
             ],
             [
              0.5555555555555556,
              "#d8576b"
             ],
             [
              0.6666666666666666,
              "#ed7953"
             ],
             [
              0.7777777777777778,
              "#fb9f3a"
             ],
             [
              0.8888888888888888,
              "#fdca26"
             ],
             [
              1,
              "#f0f921"
             ]
            ],
            "type": "histogram2dcontour"
           }
          ],
          "mesh3d": [
           {
            "colorbar": {
             "outlinewidth": 0,
             "ticks": ""
            },
            "type": "mesh3d"
           }
          ],
          "parcoords": [
           {
            "line": {
             "colorbar": {
              "outlinewidth": 0,
              "ticks": ""
             }
            },
            "type": "parcoords"
           }
          ],
          "pie": [
           {
            "automargin": true,
            "type": "pie"
           }
          ],
          "scatter": [
           {
            "fillpattern": {
             "fillmode": "overlay",
             "size": 10,
             "solidity": 0.2
            },
            "type": "scatter"
           }
          ],
          "scatter3d": [
           {
            "line": {
             "colorbar": {
              "outlinewidth": 0,
              "ticks": ""
             }
            },
            "marker": {
             "colorbar": {
              "outlinewidth": 0,
              "ticks": ""
             }
            },
            "type": "scatter3d"
           }
          ],
          "scattercarpet": [
           {
            "marker": {
             "colorbar": {
              "outlinewidth": 0,
              "ticks": ""
             }
            },
            "type": "scattercarpet"
           }
          ],
          "scattergeo": [
           {
            "marker": {
             "colorbar": {
              "outlinewidth": 0,
              "ticks": ""
             }
            },
            "type": "scattergeo"
           }
          ],
          "scattergl": [
           {
            "marker": {
             "colorbar": {
              "outlinewidth": 0,
              "ticks": ""
             }
            },
            "type": "scattergl"
           }
          ],
          "scattermapbox": [
           {
            "marker": {
             "colorbar": {
              "outlinewidth": 0,
              "ticks": ""
             }
            },
            "type": "scattermapbox"
           }
          ],
          "scatterpolar": [
           {
            "marker": {
             "colorbar": {
              "outlinewidth": 0,
              "ticks": ""
             }
            },
            "type": "scatterpolar"
           }
          ],
          "scatterpolargl": [
           {
            "marker": {
             "colorbar": {
              "outlinewidth": 0,
              "ticks": ""
             }
            },
            "type": "scatterpolargl"
           }
          ],
          "scatterternary": [
           {
            "marker": {
             "colorbar": {
              "outlinewidth": 0,
              "ticks": ""
             }
            },
            "type": "scatterternary"
           }
          ],
          "surface": [
           {
            "colorbar": {
             "outlinewidth": 0,
             "ticks": ""
            },
            "colorscale": [
             [
              0,
              "#0d0887"
             ],
             [
              0.1111111111111111,
              "#46039f"
             ],
             [
              0.2222222222222222,
              "#7201a8"
             ],
             [
              0.3333333333333333,
              "#9c179e"
             ],
             [
              0.4444444444444444,
              "#bd3786"
             ],
             [
              0.5555555555555556,
              "#d8576b"
             ],
             [
              0.6666666666666666,
              "#ed7953"
             ],
             [
              0.7777777777777778,
              "#fb9f3a"
             ],
             [
              0.8888888888888888,
              "#fdca26"
             ],
             [
              1,
              "#f0f921"
             ]
            ],
            "type": "surface"
           }
          ],
          "table": [
           {
            "cells": {
             "fill": {
              "color": "#EBF0F8"
             },
             "line": {
              "color": "white"
             }
            },
            "header": {
             "fill": {
              "color": "#C8D4E3"
             },
             "line": {
              "color": "white"
             }
            },
            "type": "table"
           }
          ]
         },
         "layout": {
          "annotationdefaults": {
           "arrowcolor": "#2a3f5f",
           "arrowhead": 0,
           "arrowwidth": 1
          },
          "autotypenumbers": "strict",
          "coloraxis": {
           "colorbar": {
            "outlinewidth": 0,
            "ticks": ""
           }
          },
          "colorscale": {
           "diverging": [
            [
             0,
             "#8e0152"
            ],
            [
             0.1,
             "#c51b7d"
            ],
            [
             0.2,
             "#de77ae"
            ],
            [
             0.3,
             "#f1b6da"
            ],
            [
             0.4,
             "#fde0ef"
            ],
            [
             0.5,
             "#f7f7f7"
            ],
            [
             0.6,
             "#e6f5d0"
            ],
            [
             0.7,
             "#b8e186"
            ],
            [
             0.8,
             "#7fbc41"
            ],
            [
             0.9,
             "#4d9221"
            ],
            [
             1,
             "#276419"
            ]
           ],
           "sequential": [
            [
             0,
             "#0d0887"
            ],
            [
             0.1111111111111111,
             "#46039f"
            ],
            [
             0.2222222222222222,
             "#7201a8"
            ],
            [
             0.3333333333333333,
             "#9c179e"
            ],
            [
             0.4444444444444444,
             "#bd3786"
            ],
            [
             0.5555555555555556,
             "#d8576b"
            ],
            [
             0.6666666666666666,
             "#ed7953"
            ],
            [
             0.7777777777777778,
             "#fb9f3a"
            ],
            [
             0.8888888888888888,
             "#fdca26"
            ],
            [
             1,
             "#f0f921"
            ]
           ],
           "sequentialminus": [
            [
             0,
             "#0d0887"
            ],
            [
             0.1111111111111111,
             "#46039f"
            ],
            [
             0.2222222222222222,
             "#7201a8"
            ],
            [
             0.3333333333333333,
             "#9c179e"
            ],
            [
             0.4444444444444444,
             "#bd3786"
            ],
            [
             0.5555555555555556,
             "#d8576b"
            ],
            [
             0.6666666666666666,
             "#ed7953"
            ],
            [
             0.7777777777777778,
             "#fb9f3a"
            ],
            [
             0.8888888888888888,
             "#fdca26"
            ],
            [
             1,
             "#f0f921"
            ]
           ]
          },
          "colorway": [
           "#636efa",
           "#EF553B",
           "#00cc96",
           "#ab63fa",
           "#FFA15A",
           "#19d3f3",
           "#FF6692",
           "#B6E880",
           "#FF97FF",
           "#FECB52"
          ],
          "font": {
           "color": "#2a3f5f"
          },
          "geo": {
           "bgcolor": "white",
           "lakecolor": "white",
           "landcolor": "#E5ECF6",
           "showlakes": true,
           "showland": true,
           "subunitcolor": "white"
          },
          "hoverlabel": {
           "align": "left"
          },
          "hovermode": "closest",
          "mapbox": {
           "style": "light"
          },
          "paper_bgcolor": "white",
          "plot_bgcolor": "#E5ECF6",
          "polar": {
           "angularaxis": {
            "gridcolor": "white",
            "linecolor": "white",
            "ticks": ""
           },
           "bgcolor": "#E5ECF6",
           "radialaxis": {
            "gridcolor": "white",
            "linecolor": "white",
            "ticks": ""
           }
          },
          "scene": {
           "xaxis": {
            "backgroundcolor": "#E5ECF6",
            "gridcolor": "white",
            "gridwidth": 2,
            "linecolor": "white",
            "showbackground": true,
            "ticks": "",
            "zerolinecolor": "white"
           },
           "yaxis": {
            "backgroundcolor": "#E5ECF6",
            "gridcolor": "white",
            "gridwidth": 2,
            "linecolor": "white",
            "showbackground": true,
            "ticks": "",
            "zerolinecolor": "white"
           },
           "zaxis": {
            "backgroundcolor": "#E5ECF6",
            "gridcolor": "white",
            "gridwidth": 2,
            "linecolor": "white",
            "showbackground": true,
            "ticks": "",
            "zerolinecolor": "white"
           }
          },
          "shapedefaults": {
           "line": {
            "color": "#2a3f5f"
           }
          },
          "ternary": {
           "aaxis": {
            "gridcolor": "white",
            "linecolor": "white",
            "ticks": ""
           },
           "baxis": {
            "gridcolor": "white",
            "linecolor": "white",
            "ticks": ""
           },
           "bgcolor": "#E5ECF6",
           "caxis": {
            "gridcolor": "white",
            "linecolor": "white",
            "ticks": ""
           }
          },
          "title": {
           "x": 0.05
          },
          "xaxis": {
           "automargin": true,
           "gridcolor": "white",
           "linecolor": "white",
           "ticks": "",
           "title": {
            "standoff": 15
           },
           "zerolinecolor": "white",
           "zerolinewidth": 2
          },
          "yaxis": {
           "automargin": true,
           "gridcolor": "white",
           "linecolor": "white",
           "ticks": "",
           "title": {
            "standoff": 15
           },
           "zerolinecolor": "white",
           "zerolinewidth": 2
          }
         }
        },
        "title": {
         "text": "Temperature Predictions vs Actuals"
        },
        "xaxis": {
         "autorange": true,
         "range": [
          "2024-04-24 22:00",
          "2024-04-29 21:00"
         ],
         "title": {
          "text": "Date"
         },
         "type": "date"
        },
        "yaxis": {
         "autorange": true,
         "range": [
          3.1607220702701144,
          26.216279215282864
         ],
         "title": {
          "text": "Temperature (°C)"
         },
         "type": "linear"
        }
       }
      },
      "image/png": "[encoded data removed]",
      "text/html": [
       "<div>                            <div id=\"5db94be7-d5c7-4616-8a6a-ad6e81513710\" class=\"plotly-graph-div\" style=\"height:525px; width:100%;\"></div>            <script type=\"text/javascript\">                require([\"plotly\"], function(Plotly) {                    window.PLOTLYENV=window.PLOTLYENV || {};                                    if (document.getElementById(\"5db94be7-d5c7-4616-8a6a-ad6e81513710\")) {                    Plotly.newPlot(                        \"5db94be7-d5c7-4616-8a6a-ad6e81513710\",                        [{\"line\":{\"color\":\"blue\"},\"mode\":\"lines\",\"name\":\"Original T2M\",\"x\":[\"2024-04-24T22:00:00+00:00\",\"2024-04-24T23:00:00+00:00\",\"2024-04-25T00:00:00+00:00\",\"2024-04-25T01:00:00+00:00\",\"2024-04-25T02:00:00+00:00\",\"2024-04-25T03:00:00+00:00\",\"2024-04-25T04:00:00+00:00\",\"2024-04-25T05:00:00+00:00\",\"2024-04-25T06:00:00+00:00\",\"2024-04-25T07:00:00+00:00\",\"2024-04-25T08:00:00+00:00\",\"2024-04-25T09:00:00+00:00\",\"2024-04-25T10:00:00+00:00\",\"2024-04-25T11:00:00+00:00\",\"2024-04-25T12:00:00+00:00\",\"2024-04-25T13:00:00+00:00\",\"2024-04-25T14:00:00+00:00\",\"2024-04-25T15:00:00+00:00\",\"2024-04-25T16:00:00+00:00\",\"2024-04-25T17:00:00+00:00\",\"2024-04-25T18:00:00+00:00\",\"2024-04-25T19:00:00+00:00\",\"2024-04-25T20:00:00+00:00\",\"2024-04-25T21:00:00+00:00\",\"2024-04-25T22:00:00+00:00\",\"2024-04-25T23:00:00+00:00\",\"2024-04-26T00:00:00+00:00\",\"2024-04-26T01:00:00+00:00\",\"2024-04-26T02:00:00+00:00\",\"2024-04-26T03:00:00+00:00\",\"2024-04-26T04:00:00+00:00\",\"2024-04-26T05:00:00+00:00\",\"2024-04-26T06:00:00+00:00\",\"2024-04-26T07:00:00+00:00\",\"2024-04-26T08:00:00+00:00\",\"2024-04-26T09:00:00+00:00\",\"2024-04-26T10:00:00+00:00\",\"2024-04-26T11:00:00+00:00\",\"2024-04-26T12:00:00+00:00\",\"2024-04-26T13:00:00+00:00\",\"2024-04-26T14:00:00+00:00\",\"2024-04-26T15:00:00+00:00\",\"2024-04-26T16:00:00+00:00\",\"2024-04-26T17:00:00+00:00\",\"2024-04-26T18:00:00+00:00\",\"2024-04-26T19:00:00+00:00\",\"2024-04-26T20:00:00+00:00\",\"2024-04-26T21:00:00+00:00\",\"2024-04-26T22:00:00+00:00\",\"2024-04-26T23:00:00+00:00\",\"2024-04-27T00:00:00+00:00\",\"2024-04-27T01:00:00+00:00\",\"2024-04-27T02:00:00+00:00\",\"2024-04-27T03:00:00+00:00\",\"2024-04-27T04:00:00+00:00\",\"2024-04-27T05:00:00+00:00\",\"2024-04-27T06:00:00+00:00\",\"2024-04-27T07:00:00+00:00\",\"2024-04-27T08:00:00+00:00\",\"2024-04-27T09:00:00+00:00\",\"2024-04-27T10:00:00+00:00\",\"2024-04-27T11:00:00+00:00\",\"2024-04-27T12:00:00+00:00\",\"2024-04-27T13:00:00+00:00\",\"2024-04-27T14:00:00+00:00\",\"2024-04-27T15:00:00+00:00\",\"2024-04-27T16:00:00+00:00\",\"2024-04-27T17:00:00+00:00\",\"2024-04-27T18:00:00+00:00\",\"2024-04-27T19:00:00+00:00\",\"2024-04-27T20:00:00+00:00\",\"2024-04-27T21:00:00+00:00\",\"2024-04-27T22:00:00+00:00\",\"2024-04-27T23:00:00+00:00\",\"2024-04-28T00:00:00+00:00\",\"2024-04-28T01:00:00+00:00\",\"2024-04-28T02:00:00+00:00\",\"2024-04-28T03:00:00+00:00\",\"2024-04-28T04:00:00+00:00\",\"2024-04-28T05:00:00+00:00\",\"2024-04-28T06:00:00+00:00\",\"2024-04-28T07:00:00+00:00\",\"2024-04-28T08:00:00+00:00\",\"2024-04-28T09:00:00+00:00\",\"2024-04-28T10:00:00+00:00\",\"2024-04-28T11:00:00+00:00\",\"2024-04-28T12:00:00+00:00\",\"2024-04-28T13:00:00+00:00\",\"2024-04-28T14:00:00+00:00\",\"2024-04-28T15:00:00+00:00\",\"2024-04-28T16:00:00+00:00\",\"2024-04-28T17:00:00+00:00\",\"2024-04-28T18:00:00+00:00\",\"2024-04-28T19:00:00+00:00\",\"2024-04-28T20:00:00+00:00\",\"2024-04-28T21:00:00+00:00\"],\"y\":[6.213500022888184,5.863500118255615,5.713500022888184,5.713500022888184,5.9135003089904785,5.613500118255615,5.063499927520752,6.313499927520752,7.613500118255615,9.063499450683594,10.16349983215332,10.813499450683594,11.813499450683594,12.463500022888184,12.863499641418457,13.01349925994873,13.01349925994873,13.26349925994873,12.863499641418457,11.613499641418457,11.563499450683594,11.113499641418457,8.76349925994873,7.213500022888184,8.963500022888184,10.16349983215332,9.363499641418457,5.263500213623047,4.563499927520752,4.313499927520752,5.4135003089904785,8.01349925994873,10.613499641418457,12.563499450683594,14.01349925994873,15.063499450683594,15.563499450683594,16.2135009765625,16.66349983215332,16.613500595092773,16.66349983215332,16.41349983215332,15.913498878479004,13.963500022888184,12.713500022888184,12.063499450683594,10.463500022888184,10.01349925994873,9.91349983215332,9.313499450683594,8.76349925994873,9.063499450683594,8.813499450683594,8.01349925994873,8.41349983215332,10.713500022888184,13.063499450683594,15.01349925994873,16.563501358032227,17.7135009765625,18.763500213623047,19.563501358032227,20.263500213623047,20.813501358032227,21.16349983215332,21.263500213623047,20.763500213623047,17.263500213623047,14.863499641418457,14.01349925994873,13.76349925994873,13.41349983215332,13.113499641418457,12.713500022888184,12.063499450683594,11.91349983215332,11.613499641418457,11.313499450683594,11.363499641418457,13.113499641418457,15.41349983215332,17.863500595092773,19.863500595092773,21.513500213623047,22.613500595092773,23.4635009765625,24.113500595092773,24.563501358032227,24.263500213623047,23.7135009765625,22.063501358032227,20.16349983215332,18.363500595092773,17.363500595092773,16.313501358032227,15.313499450683594],\"type\":\"scatter\"},{\"line\":{\"color\":\"red\",\"dash\":\"dash\"},\"mode\":\"lines+markers\",\"name\":\"Predicted T2M\",\"x\":[\"2024-04-28T22:00:00+00:00\",\"2024-04-28T23:00:00+00:00\",\"2024-04-29T00:00:00+00:00\",\"2024-04-29T01:00:00+00:00\",\"2024-04-29T02:00:00+00:00\",\"2024-04-29T03:00:00+00:00\"],\"y\":[14.390320639809714,13.95454915520031,13.80491543028097,13.512613967636296,13.14898635040049,12.708956587905048],\"type\":\"scatter\"},{\"line\":{\"color\":\"green\"},\"mode\":\"lines\",\"name\":\"Actual T2M\",\"x\":[\"2024-04-28T22:00:00+00:00\",\"2024-04-28T23:00:00+00:00\",\"2024-04-29T00:00:00+00:00\",\"2024-04-29T01:00:00+00:00\",\"2024-04-29T02:00:00+00:00\",\"2024-04-29T03:00:00+00:00\",\"2024-04-29T04:00:00+00:00\",\"2024-04-29T05:00:00+00:00\",\"2024-04-29T06:00:00+00:00\",\"2024-04-29T07:00:00+00:00\",\"2024-04-29T08:00:00+00:00\",\"2024-04-29T09:00:00+00:00\",\"2024-04-29T10:00:00+00:00\",\"2024-04-29T11:00:00+00:00\",\"2024-04-29T12:00:00+00:00\",\"2024-04-29T13:00:00+00:00\",\"2024-04-29T14:00:00+00:00\",\"2024-04-29T15:00:00+00:00\",\"2024-04-29T16:00:00+00:00\",\"2024-04-29T17:00:00+00:00\",\"2024-04-29T18:00:00+00:00\",\"2024-04-29T19:00:00+00:00\",\"2024-04-29T20:00:00+00:00\",\"2024-04-29T21:00:00+00:00\"],\"y\":[14.563499450683594,13.91349983215332,13.16349983215332,13.463500022888184,13.063499450683594,13.01349925994873,12.963500022888184,14.313499450683594,16.313501358032227,18.613500595092773,20.4635009765625,22.113500595092773,23.313501358032227,24.263500213623047,24.813501358032227,25.063501358032227,24.41349983215332,23.313501358032227,22.113500595092773,20.263500213623047,18.7135009765625,17.9635009765625,17.113500595092773,16.113500595092773],\"type\":\"scatter\"}],                        {\"template\":{\"data\":{\"histogram2dcontour\":[{\"type\":\"histogram2dcontour\",\"colorbar\":{\"outlinewidth\":0,\"ticks\":\"\"},\"colorscale\":[[0.0,\"#0d0887\"],[0.1111111111111111,\"#46039f\"],[0.2222222222222222,\"#7201a8\"],[0.3333333333333333,\"#9c179e\"],[0.4444444444444444,\"#bd3786\"],[0.5555555555555556,\"#d8576b\"],[0.6666666666666666,\"#ed7953\"],[0.7777777777777778,\"#fb9f3a\"],[0.8888888888888888,\"#fdca26\"],[1.0,\"#f0f921\"]]}],\"choropleth\":[{\"type\":\"choropleth\",\"colorbar\":{\"outlinewidth\":0,\"ticks\":\"\"}}],\"histogram2d\":[{\"type\":\"histogram2d\",\"colorbar\":{\"outlinewidth\":0,\"ticks\":\"\"},\"colorscale\":[[0.0,\"#0d0887\"],[0.1111111111111111,\"#46039f\"],[0.2222222222222222,\"#7201a8\"],[0.3333333333333333,\"#9c179e\"],[0.4444444444444444,\"#bd3786\"],[0.5555555555555556,\"#d8576b\"],[0.6666666666666666,\"#ed7953\"],[0.7777777777777778,\"#fb9f3a\"],[0.8888888888888888,\"#fdca26\"],[1.0,\"#f0f921\"]]}],\"heatmap\":[{\"type\":\"heatmap\",\"colorbar\":{\"outlinewidth\":0,\"ticks\":\"\"},\"colorscale\":[[0.0,\"#0d0887\"],[0.1111111111111111,\"#46039f\"],[0.2222222222222222,\"#7201a8\"],[0.3333333333333333,\"#9c179e\"],[0.4444444444444444,\"#bd3786\"],[0.5555555555555556,\"#d8576b\"],[0.6666666666666666,\"#ed7953\"],[0.7777777777777778,\"#fb9f3a\"],[0.8888888888888888,\"#fdca26\"],[1.0,\"#f0f921\"]]}],\"heatmapgl\":[{\"type\":\"heatmapgl\",\"colorbar\":{\"outlinewidth\":0,\"ticks\":\"\"},\"colorscale\":[[0.0,\"#0d0887\"],[0.1111111111111111,\"#46039f\"],[0.2222222222222222,\"#7201a8\"],[0.3333333333333333,\"#9c179e\"],[0.4444444444444444,\"#bd3786\"],[0.5555555555555556,\"#d8576b\"],[0.6666666666666666,\"#ed7953\"],[0.7777777777777778,\"#fb9f3a\"],[0.8888888888888888,\"#fdca26\"],[1.0,\"#f0f921\"]]}],\"contourcarpet\":[{\"type\":\"contourcarpet\",\"colorbar\":{\"outlinewidth\":0,\"ticks\":\"\"}}],\"contour\":[{\"type\":\"contour\",\"colorbar\":{\"outlinewidth\":0,\"ticks\":\"\"},\"colorscale\":[[0.0,\"#0d0887\"],[0.1111111111111111,\"#46039f\"],[0.2222222222222222,\"#7201a8\"],[0.3333333333333333,\"#9c179e\"],[0.4444444444444444,\"#bd3786\"],[0.5555555555555556,\"#d8576b\"],[0.6666666666666666,\"#ed7953\"],[0.7777777777777778,\"#fb9f3a\"],[0.8888888888888888,\"#fdca26\"],[1.0,\"#f0f921\"]]}],\"surface\":[{\"type\":\"surface\",\"colorbar\":{\"outlinewidth\":0,\"ticks\":\"\"},\"colorscale\":[[0.0,\"#0d0887\"],[0.1111111111111111,\"#46039f\"],[0.2222222222222222,\"#7201a8\"],[0.3333333333333333,\"#9c179e\"],[0.4444444444444444,\"#bd3786\"],[0.5555555555555556,\"#d8576b\"],[0.6666666666666666,\"#ed7953\"],[0.7777777777777778,\"#fb9f3a\"],[0.8888888888888888,\"#fdca26\"],[1.0,\"#f0f921\"]]}],\"mesh3d\":[{\"type\":\"mesh3d\",\"colorbar\":{\"outlinewidth\":0,\"ticks\":\"\"}}],\"scatter\":[{\"fillpattern\":{\"fillmode\":\"overlay\",\"size\":10,\"solidity\":0.2},\"type\":\"scatter\"}],\"parcoords\":[{\"type\":\"parcoords\",\"line\":{\"colorbar\":{\"outlinewidth\":0,\"ticks\":\"\"}}}],\"scatterpolargl\":[{\"type\":\"scatterpolargl\",\"marker\":{\"colorbar\":{\"outlinewidth\":0,\"ticks\":\"\"}}}],\"bar\":[{\"error_x\":{\"color\":\"#2a3f5f\"},\"error_y\":{\"color\":\"#2a3f5f\"},\"marker\":{\"line\":{\"color\":\"#E5ECF6\",\"width\":0.5},\"pattern\":{\"fillmode\":\"overlay\",\"size\":10,\"solidity\":0.2}},\"type\":\"bar\"}],\"scattergeo\":[{\"type\":\"scattergeo\",\"marker\":{\"colorbar\":{\"outlinewidth\":0,\"ticks\":\"\"}}}],\"scatterpolar\":[{\"type\":\"scatterpolar\",\"marker\":{\"colorbar\":{\"outlinewidth\":0,\"ticks\":\"\"}}}],\"histogram\":[{\"marker\":{\"pattern\":{\"fillmode\":\"overlay\",\"size\":10,\"solidity\":0.2}},\"type\":\"histogram\"}],\"scattergl\":[{\"type\":\"scattergl\",\"marker\":{\"colorbar\":{\"outlinewidth\":0,\"ticks\":\"\"}}}],\"scatter3d\":[{\"type\":\"scatter3d\",\"line\":{\"colorbar\":{\"outlinewidth\":0,\"ticks\":\"\"}},\"marker\":{\"colorbar\":{\"outlinewidth\":0,\"ticks\":\"\"}}}],\"scattermapbox\":[{\"type\":\"scattermapbox\",\"marker\":{\"colorbar\":{\"outlinewidth\":0,\"ticks\":\"\"}}}],\"scatterternary\":[{\"type\":\"scatterternary\",\"marker\":{\"colorbar\":{\"outlinewidth\":0,\"ticks\":\"\"}}}],\"scattercarpet\":[{\"type\":\"scattercarpet\",\"marker\":{\"colorbar\":{\"outlinewidth\":0,\"ticks\":\"\"}}}],\"carpet\":[{\"aaxis\":{\"endlinecolor\":\"#2a3f5f\",\"gridcolor\":\"white\",\"linecolor\":\"white\",\"minorgridcolor\":\"white\",\"startlinecolor\":\"#2a3f5f\"},\"baxis\":{\"endlinecolor\":\"#2a3f5f\",\"gridcolor\":\"white\",\"linecolor\":\"white\",\"minorgridcolor\":\"white\",\"startlinecolor\":\"#2a3f5f\"},\"type\":\"carpet\"}],\"table\":[{\"cells\":{\"fill\":{\"color\":\"#EBF0F8\"},\"line\":{\"color\":\"white\"}},\"header\":{\"fill\":{\"color\":\"#C8D4E3\"},\"line\":{\"color\":\"white\"}},\"type\":\"table\"}],\"barpolar\":[{\"marker\":{\"line\":{\"color\":\"#E5ECF6\",\"width\":0.5},\"pattern\":{\"fillmode\":\"overlay\",\"size\":10,\"solidity\":0.2}},\"type\":\"barpolar\"}],\"pie\":[{\"automargin\":true,\"type\":\"pie\"}]},\"layout\":{\"autotypenumbers\":\"strict\",\"colorway\":[\"#636efa\",\"#EF553B\",\"#00cc96\",\"#ab63fa\",\"#FFA15A\",\"#19d3f3\",\"#FF6692\",\"#B6E880\",\"#FF97FF\",\"#FECB52\"],\"font\":{\"color\":\"#2a3f5f\"},\"hovermode\":\"closest\",\"hoverlabel\":{\"align\":\"left\"},\"paper_bgcolor\":\"white\",\"plot_bgcolor\":\"#E5ECF6\",\"polar\":{\"bgcolor\":\"#E5ECF6\",\"angularaxis\":{\"gridcolor\":\"white\",\"linecolor\":\"white\",\"ticks\":\"\"},\"radialaxis\":{\"gridcolor\":\"white\",\"linecolor\":\"white\",\"ticks\":\"\"}},\"ternary\":{\"bgcolor\":\"#E5ECF6\",\"aaxis\":{\"gridcolor\":\"white\",\"linecolor\":\"white\",\"ticks\":\"\"},\"baxis\":{\"gridcolor\":\"white\",\"linecolor\":\"white\",\"ticks\":\"\"},\"caxis\":{\"gridcolor\":\"white\",\"linecolor\":\"white\",\"ticks\":\"\"}},\"coloraxis\":{\"colorbar\":{\"outlinewidth\":0,\"ticks\":\"\"}},\"colorscale\":{\"sequential\":[[0.0,\"#0d0887\"],[0.1111111111111111,\"#46039f\"],[0.2222222222222222,\"#7201a8\"],[0.3333333333333333,\"#9c179e\"],[0.4444444444444444,\"#bd3786\"],[0.5555555555555556,\"#d8576b\"],[0.6666666666666666,\"#ed7953\"],[0.7777777777777778,\"#fb9f3a\"],[0.8888888888888888,\"#fdca26\"],[1.0,\"#f0f921\"]],\"sequentialminus\":[[0.0,\"#0d0887\"],[0.1111111111111111,\"#46039f\"],[0.2222222222222222,\"#7201a8\"],[0.3333333333333333,\"#9c179e\"],[0.4444444444444444,\"#bd3786\"],[0.5555555555555556,\"#d8576b\"],[0.6666666666666666,\"#ed7953\"],[0.7777777777777778,\"#fb9f3a\"],[0.8888888888888888,\"#fdca26\"],[1.0,\"#f0f921\"]],\"diverging\":[[0,\"#8e0152\"],[0.1,\"#c51b7d\"],[0.2,\"#de77ae\"],[0.3,\"#f1b6da\"],[0.4,\"#fde0ef\"],[0.5,\"#f7f7f7\"],[0.6,\"#e6f5d0\"],[0.7,\"#b8e186\"],[0.8,\"#7fbc41\"],[0.9,\"#4d9221\"],[1,\"#276419\"]]},\"xaxis\":{\"gridcolor\":\"white\",\"linecolor\":\"white\",\"ticks\":\"\",\"title\":{\"standoff\":15},\"zerolinecolor\":\"white\",\"automargin\":true,\"zerolinewidth\":2},\"yaxis\":{\"gridcolor\":\"white\",\"linecolor\":\"white\",\"ticks\":\"\",\"title\":{\"standoff\":15},\"zerolinecolor\":\"white\",\"automargin\":true,\"zerolinewidth\":2},\"scene\":{\"xaxis\":{\"backgroundcolor\":\"#E5ECF6\",\"gridcolor\":\"white\",\"linecolor\":\"white\",\"showbackground\":true,\"ticks\":\"\",\"zerolinecolor\":\"white\",\"gridwidth\":2},\"yaxis\":{\"backgroundcolor\":\"#E5ECF6\",\"gridcolor\":\"white\",\"linecolor\":\"white\",\"showbackground\":true,\"ticks\":\"\",\"zerolinecolor\":\"white\",\"gridwidth\":2},\"zaxis\":{\"backgroundcolor\":\"#E5ECF6\",\"gridcolor\":\"white\",\"linecolor\":\"white\",\"showbackground\":true,\"ticks\":\"\",\"zerolinecolor\":\"white\",\"gridwidth\":2}},\"shapedefaults\":{\"line\":{\"color\":\"#2a3f5f\"}},\"annotationdefaults\":{\"arrowcolor\":\"#2a3f5f\",\"arrowhead\":0,\"arrowwidth\":1},\"geo\":{\"bgcolor\":\"white\",\"landcolor\":\"#E5ECF6\",\"subunitcolor\":\"white\",\"showland\":true,\"showlakes\":true,\"lakecolor\":\"white\"},\"title\":{\"x\":0.05},\"mapbox\":{\"style\":\"light\"}}},\"title\":{\"text\":\"Temperature Predictions vs Actuals\"},\"xaxis\":{\"title\":{\"text\":\"Date\"}},\"yaxis\":{\"title\":{\"text\":\"Temperature (\\u00b0C)\"}},\"hovermode\":\"x unified\"},                        {\"responsive\": true}                    ).then(function(){\n",
       "                            \n",
       "var gd = document.getElementById('5db94be7-d5c7-4616-8a6a-ad6e81513710');\n",
       "var x = new MutationObserver(function (mutations, observer) {{\n",
       "        var display = window.getComputedStyle(gd).display;\n",
       "        if (!display || display === 'none') {{\n",
       "            console.log([gd, 'removed!']);\n",
       "            Plotly.purge(gd);\n",
       "            observer.disconnect();\n",
       "        }}\n",
       "}});\n",
       "\n",
       "// Listen for the removal of the full notebook cells\n",
       "var notebookContainer = gd.closest('#notebook-container');\n",
       "if (notebookContainer) {{\n",
       "    x.observe(notebookContainer, {childList: true});\n",
       "}}\n",
       "\n",
       "// Listen for the clearing of the current output cell\n",
       "var outputEl = gd.closest('.output');\n",
       "if (outputEl) {{\n",
       "    x.observe(outputEl, {childList: true});\n",
       "}}\n",
       "\n",
       "                        })                };                });            </script>        </div>"
      ]
     },
     "metadata": {},
     "output_type": "display_data"
    }
   ],
   "source": [
    "'''\n",
    "    (48.333056, 16.631944), # Vienna, Austria\n",
    "    (59.3293, 18.0686),   # Stockholm, Sweden\n",
    "    (41.3851, 2.1734),    # Barcelona, Spain\n",
    "    (55.6761, 12.5683),   # Copenhagen, Denmark\n",
    "    #(52.3676, 4.9041),    # Amsterdam, Netherlands\n",
    "    (48.8566, 2.3522),    # Paris, France\n",
    "    (37.9838, 23.7275),   # Athens, Greece\n",
    "    (53.3498, -6.2603),   # Dublin, Ireland\n",
    "    (50.0755, 14.4378),   # Prague, Czech Republic\n",
    "    (47.4979, 19.0402),   # Budapest, Hungary\n",
    "    (45.4408, 12.3155),    # Venice, Italy\n",
    "    (60.1695, 24.9354),   # Helsinki, Finland\n",
    "    (64.1355, -21.8954),  # Reykjavik, Iceland\n",
    "    (51.5074, -0.1278),   # London, United Kingdom\n",
    "    (40.4168, -3.7038),   # Madrid, Spain\n",
    "    (43.7102, 7.2620),    # Nice, France\n",
    "    (50.8503, 4.3517),    # Brussels, Belgium\n",
    "    #(54.6872, 25.2797),   # Vilnius, Lithuania\n",
    "    (42.6977, 23.3219),   # Sofia, Bulgaria\n",
    "    #(59.9139, 10.7522),   # Oslo, Norway\n",
    "    (46.2044, 6.1432),    # Geneva, Switzerland\n",
    "    #(56.9496, 24.1052),   # Riga, Latvia\n",
    "    (44.4268, 26.1025),   # Bucharest, Romania\n",
    "    (35.1667, 33.3667),   # Nicosia, Cyprus\n",
    "    #(48.1486, 17.1077),   # Bratislava, Slovakia\n",
    "    #(44.7871, 20.4572),   # Belgrade, Serbia\n",
    "    (52.2297, 21.0122)    # Warsaw, Poland\n",
    "    '''\n",
    "\n",
    "start_date = '2024-04-25'\n",
    "end_date = '2024-04-28'\n",
    "lat = 44.7871\n",
    "lon = 20.4572\n",
    "#lat = 43.8566\n",
    "#lon = 9.3522\n",
    "data_for_prediction, time_index_pre_data = prepare_data(lat, lon, start_date, end_date)\n",
    "#data_for_prediction, time_index_pre_data = feature_engineering(df_pred) #get_data_for_convlstm('2024-04-23T00', '2024-05-01T08')\n",
    "#print(df_pred)\n",
    "#print(data_for_prediction)\n",
    "##\n",
    "start_date, end_date = '2024-04-29', '2024-04-29'\n",
    "\n",
    "\n",
    "data_actual_for_prediction, time_index_actual_data = prepare_data(lat, lon, start_date, end_date)\n",
    "##\n",
    "df_scaled = scaler.transform(data_for_prediction)\n",
    "df_scaled = pd.DataFrame(df_scaled, columns=data_for_prediction.columns)\n",
    "latest_sequence = df_scaled.tail(sequence_length).values.reshape(1, sequence_length, feature_count)\n",
    "future_temperatures = model.predict(latest_sequence)\n",
    "\n",
    "# make this a function\n",
    "dummy_output_array = np.zeros((hours_to_predict, scaler.n_features_in_))\n",
    "dummy_output_array[:, 0] = future_temperatures.flatten()  # Ensure to flatten if necessary\n",
    "predicted_temps = scaler.inverse_transform(dummy_output_array)[:, 0]\n",
    "\n",
    "# Timestamp handling\n",
    "data_for_prediction.index = time_index_pre_data\n",
    "last_timestamp = data_for_prediction.index[-1]\n",
    "prediction_frequency = 'H'\n",
    "new_timestamps = pd.date_range(start=last_timestamp + pd.Timedelta(hours=1), periods=len(predicted_temps), freq=prediction_frequency)\n",
    "predictions_df = pd.DataFrame(predicted_temps, index=new_timestamps, columns=['Predicted T2M'])\n",
    "\n",
    "# Fetch and set the actual data for comparison\n",
    "#data_actual_for_prediction, time_index_actual_data = feature_engineering(df_act) #get_data_for_convlstm('2024-05-01T08', '2024-05-02T08')\n",
    "data_actual_for_prediction.index = time_index_actual_data\n",
    "\n",
    "fig = go.Figure()\n",
    "fig.add_trace(go.Scatter(x=data_for_prediction.index, y=data_for_prediction['T2M'], mode='lines', name='Original T2M', line=dict(color='blue')))\n",
    "fig.add_trace(go.Scatter(x=predictions_df.index, y=predictions_df['Predicted T2M'], mode='lines+markers', name='Predicted T2M', line=dict(color='red', dash='dash')))\n",
    "fig.add_trace(go.Scatter(x=data_actual_for_prediction.index, y=data_actual_for_prediction['T2M'], mode='lines', name='Actual T2M', line=dict(color='green')))\n",
    "\n",
    "fig.update_layout(\n",
    "    title='Temperature Predictions vs Actuals',\n",
    "    xaxis_title='Date',\n",
    "    yaxis_title='Temperature (°C)',\n",
    "    hovermode=\"x unified\"\n",
    ")\n",
    "fig.show()\n"
   ]
  },
  {
   "cell_type": "code",
   "execution_count": null,
   "id": "ae43e74a-7978-4187-a8c4-2440480ca8e1",
   "metadata": {},
   "outputs": [],
   "source": []
  },
  {
   "cell_type": "code",
   "execution_count": null,
   "id": "e9c8b79c-707f-44b2-a132-8281406fb761",
   "metadata": {},
   "outputs": [],
   "source": []
  },
  {
   "cell_type": "code",
   "execution_count": null,
   "id": "26d64808-3730-41c6-b6a6-1729e198fafc",
   "metadata": {},
   "outputs": [],
   "source": []
  },
  {
   "cell_type": "code",
   "execution_count": null,
   "id": "ea9a8b9c-6d42-4ea5-8a4a-5ac1fcd9c7bd",
   "metadata": {},
   "outputs": [],
   "source": []
  },
  {
   "cell_type": "code",
   "execution_count": null,
   "id": "77c2ef25-21d6-40df-b1d2-b9847da3bcf2",
   "metadata": {},
   "outputs": [],
   "source": []
  },
  {
   "cell_type": "code",
   "execution_count": null,
   "id": "b2e0708e-9808-4fb6-be19-a2ff0ed83c2f",
   "metadata": {},
   "outputs": [],
   "source": [
    "\n",
    "def permutation_importance(model, X_val, y_val, feature_names, metric=mean_squared_error):\n",
    "    # store the original model performance\n",
    "    baseline_performance = metric(model.predict(X_val), y_val)\n",
    "    importances = []\n",
    "\n",
    "    # Iterate over each feature column\n",
    "    for col in range(X_val.shape[-1]):\n",
    "        save_col = X_val[..., col].copy()\n",
    "        X_val[..., col] = shuffle(X_val[..., col])  # Shuffle the column\n",
    "        m_performance = metric(model.predict(X_val), y_val)\n",
    "        X_val[..., col] = save_col  # Restore original data\n",
    "        importances.append(baseline_performance - m_performance)  # Decrease in performance\n",
    "\n",
    "    # Pair feature names with their corresponding importances and sort by absolute importance\n",
    "    importance_pairs = sorted(zip(feature_names, importances), key=lambda x: abs(x[1]), reverse=True)\n",
    "    return importance_pairs\n",
    "    \n",
    "X_copy, y_copy = [], []\n",
    "for x, y, c, v in all_sequences:\n",
    "    X_copy = x\n",
    "    y_copy = y\n",
    "    \n",
    "feature_names = all_data[0].columns.tolist()  \n",
    "importances = permutation_importance(model, X_copy, y_copy, feature_names)\n",
    "\n",
    "for feature, importance in importances:\n",
    "    print(f\"{feature}: {importance}\")\n"
   ]
  },
  {
   "cell_type": "code",
   "execution_count": null,
   "id": "7626d294-907e-4785-8d74-da707220d1c9",
   "metadata": {},
   "outputs": [],
   "source": []
  },
  {
   "cell_type": "code",
   "execution_count": null,
   "id": "6fa08799-260a-4656-b49e-0757c680b5b0",
   "metadata": {},
   "outputs": [],
   "source": []
  },
  {
   "cell_type": "code",
   "execution_count": null,
   "id": "8a38c4ea-8041-4a0c-aca6-48ae5146b388",
   "metadata": {},
   "outputs": [],
   "source": []
  },
  {
   "cell_type": "code",
   "execution_count": null,
   "id": "ae22c45f-6564-4c42-ab15-64b5ab492e0e",
   "metadata": {},
   "outputs": [],
   "source": []
  },
  {
   "cell_type": "code",
   "execution_count": null,
   "id": "bc396329-0f80-4624-b539-e40ab05419dc",
   "metadata": {},
   "outputs": [],
   "source": []
  },
  {
   "cell_type": "code",
   "execution_count": null,
   "id": "3415557f-1c20-4143-b984-c984b7ba20ff",
   "metadata": {},
   "outputs": [],
   "source": []
  },
  {
   "cell_type": "code",
   "execution_count": null,
   "id": "60b8d501-142d-4edc-9d70-6eb9a08f9582",
   "metadata": {},
   "outputs": [],
   "source": []
  },
  {
   "cell_type": "code",
   "execution_count": null,
   "id": "f85ebf80-32a7-4397-9ca7-67939b57ab43",
   "metadata": {},
   "outputs": [],
   "source": []
  },
  {
   "cell_type": "code",
   "execution_count": null,
   "id": "6688af5e-0478-4e8f-a7ea-a4288920b98b",
   "metadata": {},
   "outputs": [],
   "source": []
  },
  {
   "cell_type": "code",
   "execution_count": null,
   "id": "a481124c-9f76-46b1-bc1c-66225ad59f9d",
   "metadata": {},
   "outputs": [],
   "source": []
  },
  {
   "cell_type": "code",
   "execution_count": null,
   "id": "d8899046-7eef-4081-853c-4bec270a6386",
   "metadata": {},
   "outputs": [],
   "source": []
  },
  {
   "cell_type": "code",
   "execution_count": null,
   "id": "d19b1cd1-7679-433c-a1a5-f51585f0c23f",
   "metadata": {},
   "outputs": [],
   "source": [
    "scaler = MinMaxScaler()\n",
    "\n",
    "# Fit the scaler on the entire dataset\n",
    "scaler.fit(df)\n",
    "\n",
    "# Now, transform the data in batches\n",
    "# Let's assume you split your DataFrame into two parts for this example\n",
    "half = len(df) // 2\n",
    "\n",
    "# Transform the first half\n",
    "df_scaled_part1 = pd.DataFrame(scaler.transform(df.iloc[:half]), columns=df.columns)\n",
    "\n",
    "# Transform the second half\n",
    "df_scaled_part2 = pd.DataFrame(scaler.transform(df.iloc[half:]), columns=df.columns)\n",
    "\n",
    "# Concatenate the transformed parts back into one DataFrame\n",
    "df_scaled = pd.concat([df_scaled_part1, df_scaled_part2], ignore_index=True)\n",
    "df_scaled"
   ]
  },
  {
   "cell_type": "code",
   "execution_count": null,
   "id": "60439a02-78ea-4b03-81fb-58c71879f005",
   "metadata": {},
   "outputs": [],
   "source": [
    "'''scaler = MinMaxScaler()\n",
    "# fit transform scaler\n",
    "df_scaled = scaler.fit_transform(df)\n",
    "df_scaled = pd.DataFrame(df_scaled, columns=df.columns)\n",
    "df_scaled'''"
   ]
  },
  {
   "cell_type": "code",
   "execution_count": null,
   "id": "8230ca1c-82b9-4dd7-a789-47d484f8a249",
   "metadata": {},
   "outputs": [],
   "source": [
    "import pandas as pd\n",
    "from sklearn.preprocessing import MinMaxScaler\n",
    "\n",
    "scaler = MinMaxScaler()\n",
    "scaler.fit(df)  # Only fit, do not transform yet\n"
   ]
  },
  {
   "cell_type": "code",
   "execution_count": null,
   "id": "3de9689d-0a07-46d4-b250-329de72a9782",
   "metadata": {},
   "outputs": [],
   "source": [
    "def process_batches(df, batch_size):\n",
    "    for i in range(0, len(df), batch_size):\n",
    "        yield df.iloc[i:i + batch_size]\n",
    "\n",
    "def scale_and_create_sequences(df_batch, scaler, sequence_length, feature_count, param, hours_to_predict):\n",
    "    # Scale the batch\n",
    "    scaled_batch = pd.DataFrame(scaler.transform(df_batch), columns=df_batch.columns)\n",
    "\n",
    "    # Create sequences from the scaled batch\n",
    "    X_batch, y_batch = create_sequences(scaled_batch, param, sequence_length, feature_count, hours_to_predict)\n",
    "\n",
    "    # Reshape for ConvLSTM if needed\n",
    "    X_batch = X_batch.reshape((X_batch.shape[0], sequence_length, X_batch.shape[2]))\n",
    "\n",
    "    return X_batch, y_batch\n"
   ]
  },
  {
   "cell_type": "code",
   "execution_count": null,
   "id": "fe5d2479-834b-4035-8595-68880c095fbf",
   "metadata": {},
   "outputs": [],
   "source": [
    "batch_size = 100  # Set this based on your system's memory capacity\n",
    "\n",
    "# Containers for storing batch outputs\n",
    "X_train_list, y_train_list = [], []\n",
    "X_test_list, y_test_list = [], []\n",
    "\n",
    "# Split data indices for training and testing\n",
    "validation_split = 0.2\n",
    "train_idx = int(len(df) * (1 - validation_split))\n",
    "\n",
    "# Process each batch\n",
    "for df_batch in process_batches(df, batch_size):\n",
    "    if df_batch.index[0] < train_idx:\n",
    "        X_train_batch, y_train_batch = scale_and_create_sequences(df_batch, scaler, sequence_length, feature_count, param, hours_to_predict)\n",
    "        X_train_list.append(X_train_batch)\n",
    "        y_train_list.append(y_train_batch)\n",
    "    else:\n",
    "        X_test_batch, y_test_batch = scale_and_create_sequences(df_batch, scaler, sequence_length, feature_count, param, hours_to_predict)\n",
    "        X_test_list.append(X_test_batch)\n",
    "        y_test_list.append(y_test_batch)\n",
    "\n",
    "# Concatenate all batches back into complete arrays\n",
    "X_train = np.concatenate(X_train_list, axis=0)\n",
    "y_train = np.concatenate(y_train_list, axis=0)\n",
    "X_test = np.concatenate(X_test_list, axis=0)\n",
    "y_test = np.concatenate(y_test_list, axis=0)\n"
   ]
  },
  {
   "cell_type": "code",
   "execution_count": null,
   "id": "d6c1bfea-6e28-4efa-95f2-3ee1e772e80a",
   "metadata": {},
   "outputs": [],
   "source": [
    "'''validation_split=0.2\n",
    "train_idx = int(len(df_scaled) * (1 - validation_split))\n",
    "\n",
    "train_df = df_scaled.iloc[:train_idx]\n",
    "test_df = df_scaled.iloc[train_idx:]\n",
    "\n",
    "X_train, y_train = create_sequences(train_df, param, sequence_length, feature_count, hours_to_predict)\n",
    "X_test, y_test = create_sequences(test_df, param, sequence_length, feature_count, hours_to_predict)\n",
    "X_seq_copy, y_seq_copy = X_test.copy(), y_test.copy()\n",
    "\n",
    "# Reshape for ConvLSTM\n",
    "X_train = X_train.reshape((X_train.shape[0], sequence_length, X_train.shape[2]))\n",
    "X_test = X_test.reshape((X_test.shape[0], sequence_length, X_test.shape[2]))\n",
    "\n",
    "X_copy, y_copy = X_test.copy(), y_test.copy()'''"
   ]
  },
  {
   "cell_type": "code",
   "execution_count": null,
   "id": "b0522e58-f230-4311-88b1-89d15a47095e",
   "metadata": {},
   "outputs": [],
   "source": [
    "model = Sequential([\n",
    "    LSTM(units=64, activation='relu', input_shape=(sequence_length, feature_count)),\n",
    "    Dense(50, activation='relu'),\n",
    "    Dense(hours_to_predict)\n",
    "])\n",
    "\n",
    "optimizer = Adam(learning_rate=0.001, clipvalue=1.0)\n",
    "model.compile(optimizer=optimizer, loss='mse')\n"
   ]
  },
  {
   "cell_type": "code",
   "execution_count": null,
   "id": "035b1046-e775-45d1-891d-528e5ef02ce9",
   "metadata": {},
   "outputs": [],
   "source": [
    "def data_generator(X, y, batch_size):\n",
    "    num_samples = len(X)\n",
    "    while True:  # Loop forever so the generator never terminates\n",
    "        for offset in range(0, num_samples, batch_size):\n",
    "            batch_X = X[offset:offset+batch_size]\n",
    "            batch_y = y[offset:offset+batch_size]\n",
    "            yield (batch_X, batch_y)\n",
    "\n",
    "epochs=3\n",
    "batch_size=32\n",
    "train_generator = data_generator(X_train, y_train, batch_size)\n",
    "validation_generator = data_generator(X_test, y_test, batch_size)\n",
    "\n",
    "checkpoint_path = \"checkpoints/model_epoch_{epoch:02d}_val_loss_{val_loss:.2f}.weights.h5\"\n",
    "checkpoint = ModelCheckpoint(\n",
    "    filepath=checkpoint_path, save_weights_only=True,\n",
    "    monitor='val_loss', mode='min', save_best_only=True, verbose=1\n",
    ")\n",
    "\n",
    "history = model.fit(train_generator,\n",
    "                    steps_per_epoch=len(X_train) // batch_size,\n",
    "                    epochs=epochs,\n",
    "                    validation_data=validation_generator,\n",
    "                    validation_steps=len(X_test) // batch_size,\n",
    "                    callbacks=[checkpoint])\n"
   ]
  },
  {
   "cell_type": "code",
   "execution_count": null,
   "id": "5caf2a3d-cd08-463b-9f9d-abb7ccab0131",
   "metadata": {},
   "outputs": [],
   "source": [
    "epochs=3\n",
    "batch_size=64\n",
    "\n",
    "checkpoint_path = \"checkpoints/model_epoch_{epoch:02d}_val_loss_{val_loss:.2f}.weights.h5\"\n",
    "checkpoint = ModelCheckpoint(\n",
    "    filepath=checkpoint_path, save_weights_only=True,\n",
    "    monitor='val_loss', mode='min', save_best_only=True, verbose=1\n",
    ")\n",
    "\n",
    "history = model.fit(X_train, y_train, epochs=epochs, batch_size=batch_size,\n",
    "           validation_data=(X_test, y_test), callbacks=[checkpoint])\n"
   ]
  },
  {
   "cell_type": "code",
   "execution_count": null,
   "id": "b5d9fe34-8a3b-4aff-8bd1-b1f92f4da2ca",
   "metadata": {},
   "outputs": [],
   "source": [
    "formatted_date_time = datetime.now().strftime(\"%Y%m%d_%H%M%S\")\n",
    "model_folder_name = f\"model_folder{formatted_date_time}\"\n",
    "os.makedirs(model_folder_name, exist_ok=True)\n",
    "model.save(os.path.join(model_folder_name, 'model.keras'))\n",
    "joblib.dump(scaler, os.path.join(model_folder_name, 'scaler.pkl'))\n"
   ]
  },
  {
   "cell_type": "code",
   "execution_count": null,
   "id": "60842a16-2834-4eba-86c4-537dba258a46",
   "metadata": {},
   "outputs": [],
   "source": [
    "loaded_model = tf.keras.models.load_model(os.path.join(model_folder_name, 'model.keras'))\n",
    "loaded_scaler = joblib.load(os.path.join(model_folder_name, 'scaler.pkl'))\n"
   ]
  },
  {
   "cell_type": "code",
   "execution_count": null,
   "id": "731ff343-9c0e-4143-a020-70c845670182",
   "metadata": {},
   "outputs": [],
   "source": [
    "#model_folder_name = \"model_folder20240507_145010\"\n",
    "model = tf.keras.models.load_model(os.path.join(model_folder_name, 'model.keras'))\n",
    "scaler = joblib.load(os.path.join(model_folder_name, 'scaler.pkl'))\n"
   ]
  },
  {
   "cell_type": "code",
   "execution_count": null,
   "id": "2807e93e-3187-494a-9548-3e6656ce5d38",
   "metadata": {},
   "outputs": [],
   "source": [
    "def evaluate_temperature_forecast(actual, predicted):\n",
    "    mse = np.mean((actual - predicted) ** 2)\n",
    "    mae = np.mean(np.abs(actual - predicted))\n",
    "    rmse = np.sqrt(mse)\n",
    "    mbe = np.mean(predicted - actual)\n",
    "    correlation = np.corrcoef(actual, predicted)[0, 1]\n",
    "    explained_variance = explained_variance_score(actual, predicted)\n",
    "    r2 = r2_score(actual, predicted)\n",
    "    weights = np.where(actual >= 1.0, 2, 1)  \n",
    "    b_mse = np.mean(weights * (actual - predicted) ** 2)\n",
    "    b_mae = np.mean(weights * np.abs(actual - predicted))\n",
    "\n",
    "    return {\n",
    "        \"MSE\": mse,  # Mean Squared Error: Lower is better. Good < 0.5, Poor > 1.\n",
    "        \"MAE\": mae,  # Mean Absolute Error: Lower is better. Good < 0.3, Poor > 0.6.\n",
    "        \"RMSE\": rmse,  # Root Mean Square Error: Lower is better.\n",
    "        \"MBE\": mbe,  # Mean Bias Error: Closer to 0 is better. Positive indicates overestimation; negative indicates underestimation.\n",
    "        \"Correlation\": correlation,  # Closer to 1 is better. Indicates strength and direction of the linear relationship between predicted and actual values.\n",
    "        \"Explained Variance\": explained_variance,  # Closer to 1 is better. \n",
    "        \"R² Score\": r2,  # Coefficient of Determination: Closer to 1 is better. Values > 0.7 are typically considered good, < 0.5 could be seen as poor.\n",
    "        \"B-MSE\": b_mse,  # Balanced Mean Squared Error: Lower is better. Provides a weighted measure of MSE where significant errors have more influence.\n",
    "        \"B-MAE\": b_mae  # Balanced Mean Absolute Error: Lower is better. Like B-MSE, it weights significant errors more heavily.\n",
    "    }"
   ]
  },
  {
   "cell_type": "code",
   "execution_count": null,
   "id": "d4c717ce-91c7-41f5-a615-0177b05fd35a",
   "metadata": {},
   "outputs": [],
   "source": [
    "y_pred = model.predict(X_test).flatten()\n",
    "y_test = y_test.flatten()\n",
    "\n",
    "# make this a function\n",
    "dummy_array = np.zeros((y_pred.shape[0], feature_count))\n",
    "dummy_array[:, 3] = y_pred.squeeze() \n",
    "test_dummy_array = np.zeros((y_test.shape[0], feature_count))\n",
    "test_dummy_array[:, 3] = y_test.squeeze()  \n",
    "test_y = scaler.inverse_transform(test_dummy_array)[:, 3]\n",
    "predictions_y = scaler.inverse_transform(dummy_array)[:, 3]\n",
    "\n",
    "plt.figure(figsize=(15, 6))\n",
    "plt.subplot(1, 2, 1)\n",
    "plt.plot(y_test, label='Actual', linestyle='-')\n",
    "plt.plot(y_pred, label='Predicted', linestyle='--')\n",
    "plt.title('Detailed View of Predictions vs. Actual')\n",
    "plt.xlabel('Time')\n",
    "plt.ylabel('Value')\n",
    "plt.legend()\n",
    "\n",
    "# Scatter plot of the actual vs predicted\n",
    "plt.subplot(1, 2, 2)\n",
    "plt.scatter(y_test, y_pred, alpha=0.6)\n",
    "plt.title('Prediction vs Actual')\n",
    "plt.xlabel('Actual Values')\n",
    "plt.ylabel('Predicted Values')\n",
    "plt.plot([min(y_test), max(y_test)], [min(y_test), max(y_test)], 'r--') \n",
    "\n",
    "plt.tight_layout()\n",
    "plt.show()\n",
    "\n",
    "metrics = evaluate_temperature_forecast(y_test, y_pred)\n",
    "for key, value in metrics.items():\n",
    "    print(f\"{key}: {value}\")"
   ]
  },
  {
   "cell_type": "code",
   "execution_count": null,
   "id": "e7123e7f-d09d-44bd-b0e4-6ef955552101",
   "metadata": {},
   "outputs": [],
   "source": [
    "# prediction\n",
    "#start_date = '2024-04-26T07'\n",
    "#end_date = '2024-04-28T08'\n",
    "start_date = '2024-05-06T07'\n",
    "end_date = '2024-05-09T08'\n",
    "df_pred = fetch_data(start_date, end_date)\n",
    "data_for_prediction, time_index_pre_data = feature_engineering(df_pred) #get_data_for_convlstm('2024-04-23T00', '2024-05-01T08')\n",
    "#print(df_pred)\n",
    "#print(data_for_prediction)\n",
    "##\n",
    "start_date = '2024-05-09T08'\n",
    "end_date = '2024-05-10T08'\n",
    "\n",
    "\n",
    "df_act = fetch_data(start_date, end_date)\n",
    "##\n",
    "df_scaled = scaler.transform(data_for_prediction)\n",
    "df_scaled = pd.DataFrame(df_scaled, columns=data_for_prediction.columns)\n",
    "latest_sequence = df_scaled.tail(sequence_length).values.reshape(1, sequence_length, feature_count)\n",
    "future_temperatures = model.predict(latest_sequence)\n",
    "\n",
    "# make this a function\n",
    "dummy_output_array = np.zeros((hours_to_predict, scaler.n_features_in_))\n",
    "dummy_output_array[:, 3] = future_temperatures.flatten()  # Ensure to flatten if necessary\n",
    "predicted_temps = scaler.inverse_transform(dummy_output_array)[:, 3]\n",
    "\n",
    "# Timestamp handling\n",
    "data_for_prediction.index = time_index_pre_data\n",
    "last_timestamp = data_for_prediction.index[-1]\n",
    "prediction_frequency = 'H'\n",
    "new_timestamps = pd.date_range(start=last_timestamp + pd.Timedelta(hours=1), periods=len(predicted_temps), freq=prediction_frequency)\n",
    "predictions_df = pd.DataFrame(predicted_temps, index=new_timestamps, columns=['Predicted T2M'])\n",
    "\n",
    "# Fetch and set the actual data for comparison\n",
    "data_actual_for_prediction, time_index_actual_data = feature_engineering(df_act) #get_data_for_convlstm('2024-05-01T08', '2024-05-02T08')\n",
    "data_actual_for_prediction.index = time_index_actual_data\n",
    "\n",
    "fig = go.Figure()\n",
    "fig.add_trace(go.Scatter(x=data_for_prediction.index, y=data_for_prediction['T2M'], mode='lines', name='Original T2M', line=dict(color='blue')))\n",
    "fig.add_trace(go.Scatter(x=predictions_df.index, y=predictions_df['Predicted T2M'], mode='lines+markers', name='Predicted T2M', line=dict(color='red', dash='dash')))\n",
    "fig.add_trace(go.Scatter(x=data_actual_for_prediction.index, y=data_actual_for_prediction['T2M'], mode='lines', name='Actual T2M', line=dict(color='green')))\n",
    "\n",
    "fig.update_layout(\n",
    "    title='Temperature Predictions vs Actuals',\n",
    "    xaxis_title='Date',\n",
    "    yaxis_title='Temperature (°C)',\n",
    "    hovermode=\"x unified\"\n",
    ")\n",
    "fig.show()\n"
   ]
  },
  {
   "cell_type": "code",
   "execution_count": null,
   "id": "7f7780bb-8305-4ed0-b1f9-2a54cf19ec16",
   "metadata": {},
   "outputs": [],
   "source": []
  },
  {
   "cell_type": "code",
   "execution_count": null,
   "id": "100ca3c8-e5db-4854-8b2c-3a6c375f5ac0",
   "metadata": {},
   "outputs": [],
   "source": [
    "\n",
    "def permutation_importance(model, X_val, y_val, feature_names, metric=mean_squared_error):\n",
    "    # store the original model performance\n",
    "    baseline_performance = metric(model.predict(X_val), y_val)\n",
    "    importances = []\n",
    "\n",
    "    # Iterate over each feature column\n",
    "    for col in range(X_val.shape[-1]):\n",
    "        save_col = X_val[..., col].copy()\n",
    "        X_val[..., col] = shuffle(X_val[..., col])  # Shuffle the column\n",
    "        m_performance = metric(model.predict(X_val), y_val)\n",
    "        X_val[..., col] = save_col  # Restore original data\n",
    "        importances.append(baseline_performance - m_performance)  # Decrease in performance\n",
    "\n",
    "    # Pair feature names with their corresponding importances and sort by absolute importance\n",
    "    importance_pairs = sorted(zip(feature_names, importances), key=lambda x: abs(x[1]), reverse=True)\n",
    "    return importance_pairs\n",
    "\n",
    "feature_names = df.columns.tolist()  \n",
    "importances = permutation_importance(model, X_copy, y_copy, feature_names)\n",
    "\n",
    "for feature, importance in importances:\n",
    "    print(f\"{feature}: {importance}\")\n"
   ]
  },
  {
   "cell_type": "code",
   "execution_count": 113,
   "id": "c4989cbb-a42b-4532-8714-ce83c642e1dc",
   "metadata": {},
   "outputs": [
    {
     "data": {
      "image/png": "[encoded data removed]",
      "text/plain": [
       "<Figure size 1000x800 with 1 Axes>"
      ]
     },
     "metadata": {},
     "output_type": "display_data"
    }
   ],
   "source": [
    "feature_names = [x[0] for x in importances]\n",
    "importance_scores = [x[1] for x in importances]\n",
    "\n",
    "plt.figure(figsize=(10, 8))\n",
    "plt.barh(feature_names[:20], importance_scores[:20])  # Top 20 features\n",
    "plt.xlabel('Importance')\n",
    "plt.title('Top 20 Features by Permutation Importance')\n",
    "plt.gca().invert_yaxis()  \n",
    "plt.show()\n"
   ]
  },
  {
   "cell_type": "code",
   "execution_count": null,
   "id": "62381988-a900-4414-9dac-6ef1ab7174b9",
   "metadata": {},
   "outputs": [],
   "source": []
  },
  {
   "cell_type": "code",
   "execution_count": null,
   "id": "69f98503-dae5-4ba4-8edf-50297afeb902",
   "metadata": {},
   "outputs": [],
   "source": []
  },
  {
   "cell_type": "code",
   "execution_count": null,
   "id": "90d8c293-fef0-4124-b0fe-eccdb86fa415",
   "metadata": {},
   "outputs": [],
   "source": []
  },
  {
   "cell_type": "code",
   "execution_count": null,
   "id": "078c6101-3846-4afc-9c79-ab8ab2f8859a",
   "metadata": {},
   "outputs": [],
   "source": []
  },
  {
   "cell_type": "code",
   "execution_count": null,
   "id": "de105d1b-0932-4d6a-ab84-cfd5b6923118",
   "metadata": {},
   "outputs": [],
   "source": [
    "#first ver of emos function\n",
    "def emos_adjustment(df_predictions, df_actuals):\n",
    "    # Add day of year for seasonality\n",
    "    df_predictions['doy'] = df_predictions['time'].dt.dayofyear\n",
    "    df_actuals['doy'] = df_actuals['time'].dt.dayofyear\n",
    "\n",
    "    # Add seasonal adjustment features\n",
    "    seasonal_features = lambda doy: {\n",
    "        'sin1_doy': np.sin(2 * np.pi * doy / 365),\n",
    "        'cos1_doy': np.cos(2 * np.pi * doy / 365),\n",
    "        'sin2_doy': np.sin(4 * np.pi * doy / 365),\n",
    "        'cos2_doy': np.cos(4 * np.pi * doy / 365)\n",
    "    }\n",
    "    df_predictions = df_predictions.join(df_predictions['doy'].apply(lambda x: pd.Series(seasonal_features(x))))\n",
    "    df_actuals = df_actuals.join(df_actuals['doy'].apply(lambda x: pd.Series(seasonal_features(x))))\n",
    "\n",
    "    # Select the first hour prediction to compare with actuals (simplification)\n",
    "    df_emos = pd.DataFrame({\n",
    "        'predictions': df_predictions['Predicted T2M_1h'],\n",
    "        'actuals': df_actuals['T2M'],\n",
    "        'sin1_doy': df_predictions['sin1_doy'],\n",
    "        'cos1_doy': df_predictions['cos1_doy'],\n",
    "        'sin2_doy': df_predictions['sin2_doy'],\n",
    "        'cos2_doy': df_predictions['cos2_doy']\n",
    "    })\n",
    "\n",
    "    # Fit models for mean and log variance\n",
    "    X = sm.add_constant(df_emos[['predictions', 'sin1_doy', 'cos1_doy', 'sin2_doy', 'cos2_doy']])\n",
    "    y_mu = df_emos['actuals']\n",
    "    model_mu = sm.OLS(y_mu, X).fit()\n",
    "\n",
    "    y_sigma = np.log((df_emos['predictions'] - df_emos['actuals'])**2)\n",
    "    model_sigma = sm.OLS(y_sigma, X).fit()\n",
    "\n",
    "    # Apply adjustments\n",
    "    df_emos['adjusted_mu'] = model_mu.predict(X)\n",
    "    df_emos['adjusted_sigma'] = np.exp(model_sigma.predict(X))\n",
    "\n",
    "    return df_emos[['adjusted_mu', 'adjusted_sigma']]"
   ]
  },
  {
   "cell_type": "code",
   "execution_count": null,
   "id": "e0704ca0-4803-43af-b54a-51faf15d62f2",
   "metadata": {},
   "outputs": [],
   "source": []
  },
  {
   "cell_type": "code",
   "execution_count": null,
   "id": "4473156e-fe95-4b12-8eb6-b4c658e632bd",
   "metadata": {},
   "outputs": [],
   "source": []
  },
  {
   "cell_type": "code",
   "execution_count": null,
   "id": "41877c44-4c54-4832-a7f0-2a992d08e57f",
   "metadata": {},
   "outputs": [],
   "source": []
  },
  {
   "cell_type": "code",
   "execution_count": null,
   "id": "2ee1e532-4db0-41b3-bf9e-da79a1a4653d",
   "metadata": {},
   "outputs": [],
   "source": []
  },
  {
   "cell_type": "code",
   "execution_count": null,
   "id": "b0d926f0-7744-484a-97e4-43e5ee516f76",
   "metadata": {},
   "outputs": [],
   "source": []
  },
  {
   "cell_type": "code",
   "execution_count": null,
   "id": "afc6f7ff-1448-4b5b-b14c-0594339869a9",
   "metadata": {},
   "outputs": [],
   "source": []
  },
  {
   "cell_type": "code",
   "execution_count": null,
   "id": "944e8bcf-04bf-4b5e-b61c-1450871df981",
   "metadata": {},
   "outputs": [],
   "source": []
  },
  {
   "cell_type": "code",
   "execution_count": null,
   "id": "93184523-f3e4-42a5-8008-e3f2bc8ac82e",
   "metadata": {},
   "outputs": [],
   "source": []
  },
  {
   "cell_type": "code",
   "execution_count": null,
   "id": "97873c75-c294-478b-9a84-fde1a5f271e1",
   "metadata": {},
   "outputs": [],
   "source": []
  },
  {
   "cell_type": "code",
   "execution_count": null,
   "id": "d79532ba-6c1f-4a96-885a-eeabd59ccda0",
   "metadata": {},
   "outputs": [],
   "source": []
  },
  {
   "cell_type": "code",
   "execution_count": null,
   "id": "ab9062e7-30dd-4e82-96fd-61d8160fac36",
   "metadata": {},
   "outputs": [],
   "source": []
  },
  {
   "cell_type": "code",
   "execution_count": null,
   "id": "e9bc38e6-5893-4c80-9b28-010bef71f2b5",
   "metadata": {},
   "outputs": [],
   "source": []
  },
  {
   "cell_type": "code",
   "execution_count": null,
   "id": "4b3f15b6-6a75-4cf9-beec-2949c1729b60",
   "metadata": {},
   "outputs": [],
   "source": []
  },
  {
   "cell_type": "code",
   "execution_count": null,
   "id": "82e25bad-139e-4d89-a6e1-9ca3d0e4e705",
   "metadata": {},
   "outputs": [],
   "source": []
  },
  {
   "cell_type": "code",
   "execution_count": null,
   "id": "b5f075ee-a8aa-4be5-8683-b674c78217c2",
   "metadata": {},
   "outputs": [],
   "source": []
  },
  {
   "cell_type": "code",
   "execution_count": null,
   "id": "826c35aa-bf29-478f-9260-6a6132e8b93e",
   "metadata": {},
   "outputs": [],
   "source": []
  },
  {
   "cell_type": "code",
   "execution_count": null,
   "id": "711f8423-6dfb-4ea0-a3ba-8bffeea72220",
   "metadata": {},
   "outputs": [],
   "source": []
  },
  {
   "cell_type": "code",
   "execution_count": null,
   "id": "748b6cb2-8b8c-4198-a953-703f4b1a7c65",
   "metadata": {},
   "outputs": [],
   "source": []
  },
  {
   "cell_type": "code",
   "execution_count": null,
   "id": "6894e7d5-b325-4c61-a6e3-bbf443ec0a79",
   "metadata": {},
   "outputs": [],
   "source": []
  },
  {
   "cell_type": "code",
   "execution_count": null,
   "id": "0233a1d5-24a9-4419-9de5-26e519983309",
   "metadata": {},
   "outputs": [],
   "source": [
    "#to do\n",
    "import numpy as np\n",
    "import tensorflow as tf\n",
    "from tensorflow.keras.layers import Input, Dense\n",
    "from tensorflow.keras.models import Model\n",
    "from tensorflow.keras.optimizers import Adam\n",
    "\n",
    "def softplus_activation(x):\n",
    "    \"\"\" Softplus activation function to ensure positive standard deviations. \"\"\"\n",
    "    return tf.math.log(1 + tf.math.exp(x))\n",
    "\n",
    "def build_anet_model(input_dim, output_dim):\n",
    "    \"\"\" Build the ANET model for post-processing ensemble predictions. \"\"\"\n",
    "    input_layer = Input(shape=(input_dim,))\n",
    "    # Simple MLP with attention mechanism\n",
    "    attention_weights = Dense(input_dim, activation='softmax', name='attention_weights')(input_layer)\n",
    "    weighted_inputs = tf.multiply(input_layer, attention_weights)\n",
    "    \n",
    "    # Predicting ensemble corrections\n",
    "    correction_means = Dense(output_dim, activation='linear', name='correction_means')(weighted_inputs)\n",
    "    correction_stds = Dense(output_dim, activation=softplus_activation, name='correction_stds')(weighted_inputs)\n",
    "    \n",
    "    model = Model(inputs=input_layer, outputs=[correction_means, correction_stds])\n",
    "    return model\n",
    "\n",
    "def negative_log_likelihood(y_true, y_pred):\n",
    "    \"\"\" Negative log-likelihood loss function for Gaussian predictions. \"\"\"\n",
    "    mean_pred, std_pred = y_pred\n",
    "    mse = tf.square(y_true - mean_pred)\n",
    "    variance = std_pred ** 2\n",
    "    log_likelihood = 0.5 * tf.math.log(2 * np.pi * variance) + mse / (2 * variance)\n",
    "    return tf.reduce_mean(log_likelihood)\n",
    "\n",
    "# Parameters\n",
    "input_dim = feature_count  # The number of features/ensemble members\n",
    "output_dim = hours_to_predict  # Number of forecast hours\n",
    "\n",
    "# Model\n",
    "anet_model = build_anet_model(input_dim, output_dim)\n",
    "optimizer = Adam(learning_rate=0.001)\n",
    "anet_model.compile(optimizer=optimizer, loss=negative_log_likelihood)\n",
    "\n",
    "# Example usage\n",
    "#train_model, val_model could be parts of your dataset treated as ensemble predictions\n",
    "anet_model.fit(model, 'T2M', validation_data=(val_model, val_labels), epochs=2)\n"
   ]
  },
  {
   "cell_type": "code",
   "execution_count": null,
   "id": "e4c706b5-cd77-4ede-8ab6-cc5d9c890c26",
   "metadata": {},
   "outputs": [],
   "source": []
  },
  {
   "cell_type": "code",
   "execution_count": null,
   "id": "f9c95d9a-6a1d-4655-b144-fd056f401406",
   "metadata": {},
   "outputs": [],
   "source": [
    "def emos_adjustment(df_predictions, df_actuals):\n",
    "    # Add day of year for seasonality\n",
    "    df_predictions['doy'] = df_predictions['time'].dt.dayofyear\n",
    "    df_actuals['doy'] = df_actuals['time'].dt.dayofyear\n",
    "\n",
    "    # Add seasonal adjustment features\n",
    "    seasonal_features = lambda doy: {\n",
    "        'sin1_doy': np.sin(2 * np.pi * doy / 365),\n",
    "        'cos1_doy': np.cos(2 * np.pi * doy / 365),\n",
    "        'sin2_doy': np.sin(4 * np.pi * doy / 365),\n",
    "        'cos2_doy': np.cos(4 * np.pi * doy / 365)\n",
    "    }\n",
    "    df_predictions = df_predictions.join(df_predictions['doy'].apply(lambda x: pd.Series(seasonal_features(x))))\n",
    "    df_actuals = df_actuals.join(df_actuals['doy'].apply(lambda x: pd.Series(seasonal_features(x))))\n",
    "\n",
    "    # Select the first hour prediction to compare with actuals (simplification)\n",
    "    df_emos = pd.DataFrame({\n",
    "        'predictions': df_predictions['Predicted T2M_1h'],\n",
    "        'actuals': df_actuals['T2M'],\n",
    "        'sin1_doy': df_predictions['sin1_doy'],\n",
    "        'cos1_doy': df_predictions['cos1_doy'],\n",
    "        'sin2_doy': df_predictions['sin2_doy'],\n",
    "        'cos2_doy': df_predictions['cos2_doy']\n",
    "    })\n",
    "\n",
    "    # Fit models for mean and log variance\n",
    "    X = sm.add_constant(df_emos[['predictions', 'sin1_doy', 'cos1_doy', 'sin2_doy', 'cos2_doy']])\n",
    "    y_mu = df_emos['actuals']\n",
    "    model_mu = sm.OLS(y_mu, X).fit()\n",
    "\n",
    "    y_sigma = np.log((df_emos['predictions'] - df_emos['actuals'])**2)\n",
    "    model_sigma = sm.OLS(y_sigma, X).fit()\n",
    "\n",
    "    # Apply adjustments\n",
    "    df_emos['adjusted_mu'] = model_mu.predict(X)\n",
    "    df_emos['adjusted_sigma'] = np.exp(model_sigma.predict(X))\n",
    "\n",
    "    return df_emos[['adjusted_mu', 'adjusted_sigma']]"
   ]
  },
  {
   "cell_type": "code",
   "execution_count": null,
   "id": "70227a9d-d33e-4087-8f10-cc19c8639f35",
   "metadata": {},
   "outputs": [],
   "source": [
    "def emos_adjustment(df_predictions, df_actuals):\n",
    "    # Add day of year for seasonality\n",
    "    df_predictions['doy'] = df_predictions['time'].dt.dayofyear\n",
    "    df_actuals['doy'] = df_actuals['time'].dt.dayofyear\n",
    "\n",
    "    # Add seasonal adjustment features\n",
    "    seasonal_features = lambda doy: {\n",
    "        'sin1_doy': np.sin(2 * np.pi * doy / 365),\n",
    "        'cos1_doy': np.cos(2 * np.pi * doy / 365),\n",
    "        'sin2_doy': np.sin(4 * np.pi * doy / 365),\n",
    "        'cos2_doy': np.cos(4 * np.pi * doy / 365)\n",
    "    }\n",
    "    df_predictions = df_predictions.join(df_predictions['doy'].apply(lambda x: pd.Series(seasonal_features(x))))\n",
    "    df_actuals = df_actuals.join(df_actuals['doy'].apply(lambda x: pd.Series(seasonal_features(x))))\n",
    "\n",
    "    # Select the first hour prediction to compare with actuals (simplification)\n",
    "    df_emos = pd.DataFrame({\n",
    "        'predictions': df_predictions['Predicted T2M_1h'],\n",
    "        'actuals': df_actuals['T2M'],\n",
    "        'sin1_doy': df_predictions['sin1_doy'],\n",
    "        'cos1_doy': df_predictions['cos1_doy'],\n",
    "        'sin2_doy': df_predictions['sin2_doy'],\n",
    "        'cos2_doy': df_predictions['cos2_doy']\n",
    "    })\n",
    "\n",
    "    # Fit models for mean and log variance\n",
    "    X = sm.add_constant(df_emos[['predictions', 'sin1_doy', 'cos1_doy', 'sin2_doy', 'cos2_doy']])\n",
    "    y_mu = df_emos['actuals']\n",
    "    model_mu = sm.OLS(y_mu, X).fit()\n",
    "\n",
    "    y_sigma = np.log((df_emos['predictions'] - df_emos['actuals'])**2)\n",
    "    model_sigma = sm.OLS(y_sigma, X).fit()\n",
    "\n",
    "    # Apply adjustments\n",
    "    df_emos['adjusted_mu'] = model_mu.predict(X)\n",
    "    df_emos['adjusted_sigma'] = np.exp(model_sigma.predict(X))\n",
    "\n",
    "    return df_emos[['adjusted_mu', 'adjusted_sigma']]\n",
    "\n",
    "\n",
    "# Fetch new data for making predictions\n",
    "new_start_date = '2024-05-01T09'\n",
    "new_end_date = '2024-05-02T08'\n",
    "new_data, new_time_index = get_data_for_convlstm(new_start_date, new_end_date)\n",
    "\n",
    "# Ensure 'time' column is correctly formatted and excluded from scaling\n",
    "new_data['time'] = pd.to_datetime(new_time_index)\n",
    "time_column = new_data['time']  # Save the time column for later use\n",
    "data_for_scaling = new_data.drop('time', axis=1)  # Drop non-numerical columns\n",
    "\n",
    "# Scale the data using the pre-trained scaler\n",
    "new_data_scaled = scaler.transform(data_for_scaling)\n",
    "new_data_scaled_df = pd.DataFrame(new_data_scaled, columns=data_for_scaling.columns)\n",
    "\n",
    "# Add the 'time' column back to the scaled DataFrame\n",
    "new_data_scaled_df['time'] = time_column\n",
    "\n",
    "# Generate sequences for model prediction\n",
    "sequence_length = 24  # Define sequence length used during model training\n",
    "feature_count = new_data_scaled_df.shape[1] - 1  # excluding the time column\n",
    "hours_to_predict = 6  # Define how many hours ahead the model should predict\n",
    "new_X = create_sequences(new_data_scaled_df.drop('time', axis=1), 'T2M', sequence_length, feature_count, hours_to_predict, include_target=False)\n",
    "new_X = new_X.reshape((new_X.shape[0], sequence_length, 1, 1, feature_count))\n",
    "\n",
    "# Make predictions\n",
    "predictions = model.predict(new_X)\n",
    "\n",
    "# Create new timestamps for predictions\n",
    "prediction_time_index = pd.date_range(start=new_time_index[-1], periods=hours_to_predict, freq='H')\n",
    "\n",
    "# Create DataFrame for predictions\n",
    "predictions_df = pd.DataFrame(predictions, index=prediction_time_index, columns=new_data_scaled_df.columns[:-1])\n",
    "\n",
    "# Add 'time' column to the DataFrame\n",
    "predictions_df['time'] = prediction_time_index\n",
    "\n",
    "# Reorder columns to have 'time' as the first column\n",
    "predictions_df = predictions_df[['time'] + list(predictions_df.columns[:-1])]\n",
    "\n",
    "# Display the DataFrame\n",
    "predictions_df\n",
    "#predictions_df = pd.DataFrame(predictions, index=new_time_index[-len(predictions):], columns=new_data_scaled_df.columns.intersection(predictions))\n",
    "#predictions_df['time'] = pd.to_datetime(new_time_index[-len(predictions):])  # Ensure time column is set correctly\n",
    "\n",
    "# Re-run EMOS adjustment with clean data\n",
    "print(predictions_df, new_data)\n",
    "adjusted_predictions = emos_adjustment(predictions_df, new_data)\n",
    "\n",
    "\n"
   ]
  },
  {
   "cell_type": "code",
   "execution_count": null,
   "id": "1e590502-f0fc-4238-9b4c-b6bc84b510fc",
   "metadata": {},
   "outputs": [],
   "source": []
  },
  {
   "cell_type": "code",
   "execution_count": null,
   "id": "2daccad2-fd3e-4688-a1cc-06beaf6f207b",
   "metadata": {},
   "outputs": [],
   "source": [
    "start_date_predict = '2024-04-25T00'\n",
    "end_date_predict = '2024-05-01T08'\n",
    "data_for_prediction, time_index_pre_data = get_data_for_convlstm(start_date_predict, end_date_predict)\n",
    "\n",
    "# Transform the data for prediction\n",
    "df_scaled = scaler.transform(data_for_prediction)\n",
    "df_scaled = pd.DataFrame(df_scaled, columns=data_for_prediction.columns)\n",
    "\n",
    "# Prepare sequences for prediction\n",
    "sequence_length = 24  # Define sequence length as used in your model training\n",
    "feature_count = df_scaled.shape[1]\n",
    "latest_sequence = df_scaled.tail(sequence_length).values.reshape(1, sequence_length, 1, 1, feature_count)\n",
    "\n",
    "# Predict future temperatures\n",
    "future_temperatures = model.predict(latest_sequence)\n",
    "\n",
    "# Assuming 'future_temperatures' returns predictions for multiple hours ahead, \n",
    "# let's adjust the `dummy_output_array` to match the number of predictions.\n",
    "\n",
    "# Reverse scaling to get actual temperature values\n",
    "num_predictions = len(future_temperatures.flatten())  # Number of prediction points\n",
    "dummy_output_array = np.zeros((num_predictions, feature_count))  # Adjusted for multiple predictions\n",
    "dummy_output_array[:, 3] = future_temperatures.flatten()  # Assuming 'T2M' is at index 3\n",
    "predicted_temps = scaler.inverse_transform(dummy_output_array)[:, 3]\n",
    "\n",
    "# Check if time_index_pre_data is a pandas Series or DataFrame column\n",
    "if isinstance(time_index_pre_data, pd.Series):\n",
    "    last_timestamp = pd.to_datetime(time_index_pre_data.iloc[-1])\n",
    "elif isinstance(time_index_pre_data, pd.DataFrame):\n",
    "    last_timestamp = pd.to_datetime(time_index_pre_data.iloc[-1, 0])  # Assuming time is in the first column\n",
    "else:\n",
    "    # Fallback if it's a list or numpy array\n",
    "    last_timestamp = pd.to_datetime(time_index_pre_data[-1])\n",
    "\n",
    "# Continue with the timestamp handling\n",
    "prediction_frequency = 'H'\n",
    "num_predictions = len(future_temperatures.flatten())\n",
    "new_timestamps = pd.date_range(start=last_timestamp + pd.Timedelta(hours=1), periods=num_predictions, freq=prediction_frequency)\n",
    "predictions_df = pd.DataFrame(predicted_temps, index=new_timestamps, columns=['Predicted T2M'])\n",
    "\n",
    "# Fetch actual data for the same prediction period for comparison and EMOS adjustments\n",
    "start_date_actual = '2024-05-01T08'\n",
    "end_date_actual = '2024-05-02T08'\n",
    "data_actual_for_prediction, time_index_actual_data = get_data_for_convlstm(start_date_actual, end_date_actual)\n",
    "\n",
    "# Create DataFrame for actuals\n",
    "actuals_df = pd.DataFrame({\n",
    "    'time': time_index_actual_data,\n",
    "    'temperature': data_actual_for_prediction['T2M']  # Assuming 'T2M' is the temperature column\n",
    "})\n",
    "\n",
    "# Apply EMOS Adjustments\n",
    "adjusted_emos = emos_adjustment(predictions_df, actuals_df)\n",
    "print(adjusted_emos.head())"
   ]
  },
  {
   "cell_type": "code",
   "execution_count": null,
   "id": "05fab5f6-5fae-405e-931d-8c06601de466",
   "metadata": {},
   "outputs": [],
   "source": [
    "start_date = '2023-01-01T00'\n",
    "end_date = '2023-12-31T00'\n",
    "raw_data = fetch_data(start_date, end_date)\n",
    "\n",
    "# Step 2: Process and Engineer Features\n",
    "processed_data, time_index = feature_engineering(raw_data.copy())\n",
    "\n",
    "# Step 3: Simulate Predictions (normally you'd use a trained model)\n",
    "# For demonstration, let's assume predictions are slightly off from the actual T2M readings\n",
    "predictions = processed_data.copy()\n",
    "predictions['temperature_predictions'] = predictions['T2M'] + np.random.normal(0, 0.5, size=len(predictions))\n",
    "\n",
    "# Creating DataFrame for predictions and actuals\n",
    "df_predictions = pd.DataFrame({\n",
    "    'time': time_index,\n",
    "    'temperature_predictions': predictions['temperature_predictions']\n",
    "})\n",
    "\n",
    "df_actuals = pd.DataFrame({\n",
    "    'time': time_index,\n",
    "    'temperature': processed_data['T2M']\n",
    "})\n",
    "\n",
    "# Step 4: Apply EMOS Adjustments\n",
    "adjusted_emos = emos_adjustment(df_predictions, df_actuals)\n",
    "print(adjusted_emos.head())"
   ]
  },
  {
   "cell_type": "code",
   "execution_count": null,
   "id": "8bf040c5-a358-48fb-ad76-67fdbae4d048",
   "metadata": {},
   "outputs": [],
   "source": []
  },
  {
   "cell_type": "code",
   "execution_count": null,
   "id": "4d9dbad9-b183-4414-bd65-68dd15240fe0",
   "metadata": {},
   "outputs": [],
   "source": []
  },
  {
   "cell_type": "code",
   "execution_count": null,
   "id": "9d40697f-a83a-4ba0-9a42-4f39f00f1979",
   "metadata": {},
   "outputs": [],
   "source": []
  },
  {
   "cell_type": "code",
   "execution_count": null,
   "id": "27c8b4f7-88cd-4892-9576-89aae4dece02",
   "metadata": {},
   "outputs": [],
   "source": []
  },
  {
   "cell_type": "code",
   "execution_count": null,
   "id": "2dd7619e-fd81-4527-939e-edd589c742eb",
   "metadata": {},
   "outputs": [],
   "source": []
  },
  {
   "cell_type": "code",
   "execution_count": null,
   "id": "6d08178f-41af-489a-a9b0-498670f4d112",
   "metadata": {},
   "outputs": [],
   "source": [
    "#train data\n",
    "data, index_data = get_data_for_convlstm('2024-04-25T00', '2024-05-01T08')\n",
    "test_scaler = copy.deepcopy(scaler)\n",
    "# Transform the data for prediction\n",
    "data_scaled = test_scaler.transform(data)\n",
    "data_scaled = pd.DataFrame(data_scaled, columns=data.columns)\n",
    "#latest_sequence = df_scaled.tail(sequence_length).values.reshape(1, sequence_length, 1, 1, feature_count)\n",
    "\n",
    "X, y = create_sequences(data_scaled, param, sequence_length, feature_count, hours_to_predict)\n",
    "\n",
    "\n",
    "# Predict using the model\n",
    "pred_data = model.predict(X.reshape((-1, sequence_length, 1, 1, feature_count)))\n",
    "data['time'] = index_data  # Assuming index_data contains the datetime index\n",
    "last_timestamp = data['time'].iloc[-1]\n",
    "\n",
    "# Post-prediction transformation back\n",
    "dummy_output_array = np.zeros((pred_data.shape[0], test_scaler.n_features_in_))\n",
    "dummy_output_array[:, 3] = pred_data.flatten()  # Assume the third index is T2M\n",
    "predicted_temps = test_scaler.inverse_transform(dummy_output_array)[:, 3]\n",
    "\n",
    "# Create a DataFrame for predictions\n",
    "prediction_frequency = 'H'\n",
    "new_timestamps = pd.date_range(start=last_timestamp + timedelta(hours=1), periods=len(predicted_temps), freq=prediction_frequency)\n",
    "predictions_df = pd.DataFrame(predicted_temps, index=new_timestamps, columns=['Predicted T2M'])\n",
    "predictions_df['day_of_year'] = new_timestamps.dayofyear\n",
    "\n",
    "# Step 2: Fetch Actual Data for Comparison\n",
    "data_actual_for_prediction, time_index_actual_data = get_data_for_convlstm('2024-05-01T08', '2024-05-01T16')\n",
    "data_actual_for_prediction['time'] = time_index_actual_data\n",
    "data_actual_for_prediction.set_index('time', inplace=True)\n",
    "\n",
    "# Filter only necessary columns for actuals\n",
    "data_actual_for_prediction = data_actual_for_prediction[['T2M', 'day_of_year']]\n",
    "\n",
    "# Print outputs for verification\n",
    "print(predictions_df.head())\n",
    "print(data_actual_for_prediction.head())\n"
   ]
  },
  {
   "cell_type": "code",
   "execution_count": null,
   "id": "57f59480-1237-4ba6-a117-c32278059ff4",
   "metadata": {},
   "outputs": [],
   "source": [
    "actual_temps = data_actual_for_prediction['T2M'].reindex(predictions_df.index, method='nearest')  # Ensure alignment\n",
    "predicted_temps = predictions_df['Predicted T2M']\n",
    "metrics = calculate_nowcasting_metrics(actual_temps.values, predicted_temps.values)\n",
    "print(metrics)"
   ]
  },
  {
   "cell_type": "code",
   "execution_count": null,
   "id": "331bb5b9-5d60-4f37-9831-813b7254c8ce",
   "metadata": {},
   "outputs": [],
   "source": []
  },
  {
   "cell_type": "code",
   "execution_count": null,
   "id": "753cded3-5139-4564-89d5-26fe6cfc97b3",
   "metadata": {},
   "outputs": [],
   "source": [
    "def seasonal_adjustment(doy):\n",
    "    return {\n",
    "        'sin1_doy': np.sin(2 * np.pi * doy / 365),\n",
    "        'cos1_doy': np.cos(2 * np.pi * doy / 365),\n",
    "        'sin2_doy': np.sin(4 * np.pi * doy / 365),\n",
    "        'cos2_doy': np.cos(4 * np.pi * doy / 365)\n",
    "    }\n"
   ]
  },
  {
   "cell_type": "code",
   "execution_count": null,
   "id": "9d85a85d-2b67-49ff-a5dd-838d897bf436",
   "metadata": {},
   "outputs": [],
   "source": [
    "# Assuming 'get_data_for_convlstm' is defined elsewhere and properly implemented\n",
    "data_for_prediction, time_index_pre_data = get_data_for_convlstm('2024-04-20T00', '2024-04-28T08')\n",
    "\n",
    "# Ensure scaler is fitted; if it's the first use, fit on some initial data or the current data\n",
    "scaler = MinMaxScaler()\n",
    "scaler.fit(data_for_prediction)  # Fit if not already done; else skip\n",
    "\n",
    "# Transform the data for prediction\n",
    "df_scaled = scaler.transform(data_for_prediction)\n",
    "df_scaled = pd.DataFrame(df_scaled, columns=data_for_prediction.columns)\n",
    "latest_sequence = df_scaled.tail(sequence_length).values.reshape(1, sequence_length, 1, 1, feature_count)\n",
    "future_temperatures = model.predict(latest_sequence)\n",
    "dummy_output_array = np.zeros((hours_to_predict, scaler.n_features_in_))\n",
    "dummy_output_array[:, 3] = future_temperatures.flatten()  # Ensure to flatten if necessary\n",
    "predicted_temps = scaler.inverse_transform(dummy_output_array)[:, 3]\n",
    "\n",
    "# Timestamp handling\n",
    "data_for_prediction.index = time_index_pre_data\n",
    "last_timestamp = data_for_prediction.index[-1]\n",
    "prediction_frequency = 'H'\n",
    "new_timestamps = pd.date_range(start=last_timestamp + pd.Timedelta(hours=1), periods=len(predicted_temps), freq=prediction_frequency)\n",
    "predictions_df = pd.DataFrame(predicted_temps, index=new_timestamps, columns=['Predicted T2M'])\n",
    "\n",
    "# Fetch and set the actual data for comparison\n",
    "data_actual_for_prediction, time_index_actual_data = get_data_for_convlstm('2024-04-28T08', '2024-04-29T00')\n",
    "data_actual_for_prediction.index = time_index_actual_data\n"
   ]
  },
  {
   "cell_type": "code",
   "execution_count": null,
   "id": "46599343-ca6a-42c6-98e1-1ae81ff36aec",
   "metadata": {},
   "outputs": [],
   "source": [
    "# Assume 'df_predictions' holds the predictions and their corresponding times\n",
    "# Assume 'df_actuals' holds the actual observed temperatures and their corresponding times\n",
    "df_predictions['doy'] = df_predictions['time'].dt.dayofyear\n",
    "df_actuals['doy'] = df_actuals['time'].dt.dayofyear\n",
    "\n",
    "# Add seasonal features\n",
    "df_predictions = df_predictions.join(df_predictions['doy'].apply(lambda x: pd.Series(seasonal_adjustment(x))))\n",
    "df_actuals = df_actuals.join(df_actuals['doy'].apply(lambda x: pd.Series(seasonal_adjustment(x))))\n",
    "\n",
    "# Prepare the DataFrame for fitting EMOS\n",
    "df_emos = pd.DataFrame({\n",
    "    'predictions': df_predictions['temperature_predictions'],\n",
    "    'actuals': df_actuals['temperature'],\n",
    "    'doy': df_predictions['doy'],\n",
    "    **df_predictions[['sin1_doy', 'cos1_doy', 'sin2_doy', 'cos2_doy']]\n",
    "})\n"
   ]
  },
  {
   "cell_type": "code",
   "execution_count": null,
   "id": "b1e8f33e-fc4b-4d45-b4c7-81344846f00e",
   "metadata": {},
   "outputs": [],
   "source": [
    "import statsmodels.api as sm\n",
    "\n",
    "# Model for the mean μ(t)\n",
    "X_mu = sm.add_constant(df_emos[['predictions', 'sin1_doy', 'cos1_doy', 'sin2_doy', 'cos2_doy']])\n",
    "y_mu = df_emos['actuals']\n",
    "model_mu = sm.OLS(y_mu, X_mu).fit()\n",
    "\n",
    "# Model for log variance log(σ)\n",
    "X_sigma = X_mu  # Using the same predictors for simplicity, though you might choose differently\n",
    "y_sigma = np.log((df_emos['predictions'] - df_emos['actuals'])**2)  # Simple variance estimation\n",
    "model_sigma = sm.OLS(y_sigma, X_sigma).fit()\n"
   ]
  },
  {
   "cell_type": "code",
   "execution_count": null,
   "id": "6882d5f4-d5aa-4be5-a678-e415e39e9dae",
   "metadata": {},
   "outputs": [],
   "source": [
    "# Predict adjustments\n",
    "df_emos['adjusted_mu'] = model_mu.predict(X_mu)\n",
    "df_emos['adjusted_sigma'] = np.exp(model_sigma.predict(X_sigma))\n",
    "\n",
    "# These adjusted predictions can now be used in your evaluation or deployment\n"
   ]
  },
  {
   "cell_type": "code",
   "execution_count": null,
   "id": "667ef1bf-46cd-4989-9530-cf2f8b68b482",
   "metadata": {},
   "outputs": [],
   "source": []
  },
  {
   "cell_type": "code",
   "execution_count": null,
   "id": "f963cab1-512f-428a-960c-21976ab66981",
   "metadata": {},
   "outputs": [],
   "source": []
  },
  {
   "cell_type": "code",
   "execution_count": null,
   "id": "74006bb6-c6ee-49d1-a924-b37ed04f3627",
   "metadata": {},
   "outputs": [],
   "source": []
  },
  {
   "cell_type": "code",
   "execution_count": null,
   "id": "b704d89f-b012-4cf7-834a-ba1df7523a32",
   "metadata": {},
   "outputs": [],
   "source": []
  },
  {
   "cell_type": "code",
   "execution_count": null,
   "id": "3310188e-479c-4bff-b8ab-61b3026f05c3",
   "metadata": {},
   "outputs": [],
   "source": []
  },
  {
   "cell_type": "code",
   "execution_count": null,
   "id": "352e577e-0ef9-4579-ab66-765cff5f9d54",
   "metadata": {},
   "outputs": [],
   "source": []
  },
  {
   "cell_type": "code",
   "execution_count": null,
   "id": "dfd93619-3732-485c-b836-6129e3dc3f10",
   "metadata": {},
   "outputs": [],
   "source": []
  },
  {
   "cell_type": "code",
   "execution_count": null,
   "id": "b1484af0-2a3e-4483-b4f3-c6c8681df6ae",
   "metadata": {},
   "outputs": [],
   "source": []
  },
  {
   "cell_type": "code",
   "execution_count": null,
   "id": "9ab630cc-8adf-4d29-8074-11bfb0e84b63",
   "metadata": {},
   "outputs": [],
   "source": [
    "import pandas as pd\n",
    "import numpy as np\n",
    "import statsmodels.api as sm\n",
    "from sklearn.preprocessing import MinMaxScaler\n",
    "from datetime import datetime\n",
    "\n",
    "# Assuming fetch_data and feature_engineering functions are available\n",
    "\n",
    "def fetch_and_process_data():\n",
    "    # Fetch data\n",
    "    df_raw = fetch_data()  # You need to define or replace fetch_data with actual implementation\n",
    "    df_processed, time_index = feature_engineering(df_raw.copy())  # Similarly, ensure feature_engineering is correctly implemented\n",
    "    return df_processed, time_index\n",
    "\n",
    "df, time_index = fetch_and_process_data()\n"
   ]
  },
  {
   "cell_type": "code",
   "execution_count": null,
   "id": "289af0c7-618a-452c-9f58-94c15b18c83a",
   "metadata": {},
   "outputs": [],
   "source": [
    "model_folder_name = \"model_folder20240504_134242\"\n",
    "model = tf.keras.models.load_model(os.path.join(model_folder_name, 'model.keras'))\n",
    "scaler = joblib.load(os.path.join(model_folder_name, 'scaler.pkl'))\n"
   ]
  },
  {
   "cell_type": "code",
   "execution_count": null,
   "id": "86dbc144-0c52-4e38-b0a5-dab6ea873988",
   "metadata": {},
   "outputs": [],
   "source": [
    "df_scaled = scaler.transform(df)\n",
    "df_scaled = pd.DataFrame(df_scaled, columns=df.columns)\n",
    "hours_to_predict = 10\n",
    "\n",
    "X_train, y_train = create_sequences(df_scaled, param, sequence_length, feature_count, hours_to_predict)\n",
    "\n",
    "latest_sequence = X_train.reshape(1, sequence_length, 1, 1, feature_count)\n",
    "\n",
    "future_temperatures = model.predict(latest_sequence)\n",
    "dummy_output_array = np.zeros((df_scaled[0], scaler.n_features_in_))\n",
    "dummy_output_array[:, 3] = future_temperatures.flatten()  # Ensure to flatten if necessary\n",
    "predicted_temps = scaler.inverse_transform(dummy_output_array)\n",
    "\n",
    "\n",
    "# Timestamp handling\n",
    "#data_for_prediction.index = time_index_pre_data\n",
    "#last_timestamp = data_for_prediction.index[-1]\n",
    "#prediction_frequency = 'H'\n",
    "#new_timestamps = pd.date_range(start=last_timestamp + pd.Timedelta(hours=1), periods=len(predicted_temps), freq=prediction_frequency)\n",
    "#predictions_df = pd.DataFrame(predicted_temps, index=new_timestamps, columns=['Predicted T2M'])\n",
    "\n",
    "# Fetch and set the actual data for comparison\n",
    "#data_actual_for_prediction, time_index_actual_data = get_data_for_convlstm('2024-04-28T08', '2024-04-29T00')\n",
    "#data_actual_for_prediction.index = time_index_actual_data\n"
   ]
  },
  {
   "cell_type": "code",
   "execution_count": null,
   "id": "8c30bc78-a4c5-431c-ab6f-b30017f9c73b",
   "metadata": {},
   "outputs": [],
   "source": [
    "# Print the shape of X_train to understand its current structure\n",
    "print(\"Shape of X_train:\", X_train.shape)\n"
   ]
  },
  {
   "cell_type": "code",
   "execution_count": null,
   "id": "a1cc4389-297f-4f83-831a-e8a2419b0644",
   "metadata": {},
   "outputs": [],
   "source": [
    "\n",
    "# Add 'day of the year' for EMOS adjustments\n",
    "\n",
    "# Normalize the data\n",
    "\n",
    "#df_numeric = df[numeric_cols]\n",
    "df_scaled = scaler.fit_transform(df)\n",
    "df_scaled = pd.DataFrame(df_scaled, columns=df.columns)\n",
    "\n",
    "\n",
    "X = df_scaled.tail(sequence_length).values.reshape(1, sequence_length, 1, 1, feature_count)\n",
    "#future_temperatures = model.predict(latest_sequence)\n",
    "\n",
    "# Make predictions\n",
    "predictions = model.predict(X).flatten()\n",
    "#dummy_output_array = np.zeros((hours_to_predict, scaler.n_features_in_))\n",
    "#dummy_output_array[:, 3] = predictions.flatten() \n",
    "#predictions_rescaled = scaler.inverse_transform(predictions)  # Assume predictions need rescaling\n",
    "\n"
   ]
  },
  {
   "cell_type": "code",
   "execution_count": null,
   "id": "5ed207f5-2134-45f8-95c9-c6c86808ee4c",
   "metadata": {},
   "outputs": [],
   "source": []
  },
  {
   "cell_type": "code",
   "execution_count": null,
   "id": "01ec554a-0e0f-4d05-9f2f-f66746166f28",
   "metadata": {},
   "outputs": [],
   "source": [
    "predictions"
   ]
  },
  {
   "cell_type": "code",
   "execution_count": null,
   "id": "4a08787a-54be-47d0-90ce-f357f7526380",
   "metadata": {},
   "outputs": [],
   "source": [
    "# Reshape data for ConvLSTM (assuming this is required by your model)\n",
    "#X = df_scaled.values.reshape((df_scaled.shape[0], 1, 1, df_scaled.shape[1]))  # Change as per your model's input requirement\n",
    "\n",
    "\n",
    "X = df_scaled.tail(sequence_length).values.reshape(1, sequence_length, 1, 1, feature_count)\n",
    "#future_temperatures = model.predict(latest_sequence)\n",
    "\n",
    "# Make predictions\n",
    "predictions = model.predict(X)\n",
    "predictions_rescaled = scaler.inverse_transform(predictions)  # Assume predictions need rescaling\n"
   ]
  },
  {
   "cell_type": "code",
   "execution_count": null,
   "id": "a1904803-6a32-4432-9ca6-b58d20b8a204",
   "metadata": {},
   "outputs": [],
   "source": []
  },
  {
   "cell_type": "code",
   "execution_count": null,
   "id": "7cbaeaef-e7ac-4293-ad82-9880524e9461",
   "metadata": {},
   "outputs": [],
   "source": [
    "# Create a DataFrame to hold predictions and actual data for fitting EMOS\n",
    "df_emos = pd.DataFrame({\n",
    "    'doy': df['doy'],\n",
    "    'predictions_y': predictions_rescaled.flatten(),  # Flatten if necessary\n",
    "    'test_y': df['actual_temperature']  # Replace 'actual_temperature' with the column name from your dataset containing actual temperatures\n",
    "})\n",
    "\n",
    "# Adding a constant and doy features for regression\n",
    "X = sm.add_constant(df_emos[['doy', 'predictions_y']])\n",
    "y = df_emos['test_y']\n",
    "\n",
    "# Fit the EMOS model for mean adjustment\n",
    "model_mu = sm.OLS(y, X).fit()\n",
    "\n",
    "# Calculate residuals as a proxy for sigma if not directly available\n",
    "df_emos['log_sigma'] = np.log(np.abs(df_emos['predictions_y'] - df_emos['test_y']))\n",
    "\n",
    "X_sigma = sm.add_constant(df_emos[['doy', 'log_sigma']])\n",
    "model_sigma = sm.OLS(df_emos['log_sigma'], X_sigma).fit()\n",
    "\n",
    "# Predict adjusted values\n",
    "df_emos['adjusted_mu'] = model_mu.predict(X)\n",
    "df_emos['adjusted_sigma'] = np.exp(model_sigma.predict(X_sigma))\n"
   ]
  },
  {
   "cell_type": "code",
   "execution_count": null,
   "id": "433085ea-43f2-483c-a864-28254ede886e",
   "metadata": {},
   "outputs": [],
   "source": []
  },
  {
   "cell_type": "code",
   "execution_count": null,
   "id": "4d279a71-411a-4546-941f-ee9fc1046ba6",
   "metadata": {},
   "outputs": [],
   "source": []
  },
  {
   "cell_type": "code",
   "execution_count": null,
   "id": "dac87ddf-138b-424a-9d68-4f2a4dc86a43",
   "metadata": {},
   "outputs": [],
   "source": []
  },
  {
   "cell_type": "code",
   "execution_count": null,
   "id": "666e9725-d64e-45ca-84fa-6c82bf480609",
   "metadata": {},
   "outputs": [],
   "source": []
  },
  {
   "cell_type": "code",
   "execution_count": null,
   "id": "3e5c784f-c41d-4b37-b6ed-9be328711483",
   "metadata": {},
   "outputs": [],
   "source": []
  },
  {
   "cell_type": "code",
   "execution_count": null,
   "id": "41e7a031-7c28-4f4d-8ff2-44a5b7ed2439",
   "metadata": {},
   "outputs": [],
   "source": []
  },
  {
   "cell_type": "code",
   "execution_count": null,
   "id": "8e42eb0a-7471-405f-a6b4-2e958261fd24",
   "metadata": {},
   "outputs": [],
   "source": []
  },
  {
   "cell_type": "code",
   "execution_count": null,
   "id": "4a48bb15-2151-45f7-a40d-39f3f7c3b33a",
   "metadata": {},
   "outputs": [],
   "source": [
    "def seasonal_features(doy):\n",
    "    return {\n",
    "        'sin1': np.sin(2 * np.pi * doy / 365),\n",
    "        'cos1': np.cos(2 * np.pi * doy / 365),\n",
    "        'sin2': np.sin(4 * np.pi * doy / 365),\n",
    "        'cos2': np.cos(4 * np.pi * doy / 365)\n",
    "    }\n"
   ]
  },
  {
   "cell_type": "code",
   "execution_count": null,
   "id": "a92c6d4c-babc-4813-98bc-9ed3b33a872e",
   "metadata": {},
   "outputs": [],
   "source": [
    "# Example of creating a DataFrame\n",
    "data = {\n",
    "    'date': pd.date_range(start='2020-01-01', periods=100, freq='D'),\n",
    "    'predictions_y': np.random.normal(loc=20, scale=5, size=100),  # Simulated temperature predictions\n",
    "    'test_y': np.random.normal(loc=20, scale=5, size=100)  # Simulated actual temperatures\n",
    "}\n",
    "\n",
    "df = pd.DataFrame(data)\n",
    "df['doy'] = df['date'].dt.dayofyear\n",
    "df"
   ]
  },
  {
   "cell_type": "code",
   "execution_count": null,
   "id": "8dccd9c0-08b2-48e8-b21b-5b50e32206de",
   "metadata": {},
   "outputs": [],
   "source": [
    "import statsmodels.api as sm\n",
    "\n",
    "# Adding a constant for the regression model\n",
    "X = sm.add_constant(df[['doy', 'predictions_y']])\n",
    "\n",
    "# Dependent variable from the DataFrame\n",
    "y = df['test_y']\n",
    "\n",
    "# Fit the model for the mean (μ)\n",
    "model_mu = sm.OLS(y, X).fit()\n",
    "\n",
    "# If calculating log sigma requires actual sigma values, ensure you have this data or an approximation\n",
    "# Example of calculating a simple log sigma if not provided\n",
    "df['log_sigma'] = np.log(np.abs(df['predictions_y'] - df['test_y']))\n",
    "\n",
    "X_sigma = sm.add_constant(df[['doy', 'log_sigma']])\n",
    "model_sigma = sm.OLS(df['log_sigma'], X_sigma).fit()\n",
    "\n",
    "# Make predictions\n",
    "df['adjusted_mu'] = model_mu.predict(X)\n",
    "df['adjusted_sigma'] = np.exp(model_sigma.predict(X_sigma))  # Exponentiate to revert the log transformation\n",
    "df"
   ]
  },
  {
   "cell_type": "code",
   "execution_count": null,
   "id": "4cd470b3-6cd6-41bd-a97e-4cc53a65e4d1",
   "metadata": {},
   "outputs": [],
   "source": [
    "import statsmodels.api as sm\n",
    "\n",
    "# Assume df has columns 'doy', 'predictions_y', and 'test_y'\n",
    "X = sm.add_constant(df[['doy', 'predictions_y']])  # Including doy for seasonal adjustments\n",
    "y = df['test_y']\n",
    "\n",
    "# Fit the model for μ\n",
    "model_mu = sm.OLS(y, X).fit()\n",
    "\n",
    "# Assuming you have calculated log standard deviations as `log_sigma`\n",
    "X_sigma = sm.add_constant(df[['doy', 'log_sigma']])  # log_sigma could be calculated as np.log(predictions_y - test_y).abs()\n",
    "model_sigma = sm.OLS(np.log(y - df['predictions_y']).abs(), X_sigma).fit()\n",
    "\n",
    "# Predict adjustments\n",
    "df['adjusted_mu'] = model_mu.predict(X)\n",
    "df['adjusted_sigma'] = np.exp(model_sigma.predict(X_sigma))\n"
   ]
  },
  {
   "cell_type": "code",
   "execution_count": null,
   "id": "bb4ed7ee-5f1f-48d2-b095-78bcac7c6290",
   "metadata": {},
   "outputs": [],
   "source": [
    "# Assuming 'mu_ens' and 'sigma_ens' are columns in your forecast DataFrame, containing ensemble mean and std dev\n",
    "\n",
    "# Prepare your features with the seasonal functions added\n",
    "seasonal_data = pd.DataFrame(list(forecast_df['doy'].apply(seasonal_features)))\n",
    "X_mu = sm.add_constant(pd.concat([forecast_df[['doy']], seasonal_data, forecast_df['mu_ens']], axis=1))  # Include mu_ens from your model predictions\n",
    "X_sigma = sm.add_constant(pd.concat([forecast_df[['doy']], seasonal_data, np.log(forecast_df['sigma_ens'])], axis=1))  # Log of ensemble std dev\n",
    "\n",
    "# Response variables\n",
    "y_mu = observed_df['temperature']  # Actual temperatures\n",
    "y_sigma = np.log(observed_df['sigma'])  # Assuming you have observed standard deviations\n",
    "\n",
    "# Fit the regression models\n",
    "model_mu = sm.OLS(y_mu, X_mu).fit()\n",
    "model_sigma = sm.OLS(y_sigma, X_sigma).fit()\n"
   ]
  },
  {
   "cell_type": "code",
   "execution_count": null,
   "id": "2f26b2c6-058a-4d54-9c3c-e90280b459cd",
   "metadata": {},
   "outputs": [],
   "source": [
    "forecast_df['adjusted_mu'] = model_mu.predict(X_mu)\n",
    "forecast_df['adjusted_sigma'] = np.exp(model_sigma.predict(X_sigma))  # Exponentiate to revert the log transformation\n"
   ]
  },
  {
   "cell_type": "code",
   "execution_count": null,
   "id": "6b26ac1a-a9dc-453f-afbc-c871369bd3b3",
   "metadata": {},
   "outputs": [],
   "source": [
    "from scipy.stats import norm\n",
    "\n",
    "quantiles = np.linspace(0.01, 0.99, 51)  # 51 equidistant quantiles\n",
    "forecast_df['quantiles'] = forecast_df.apply(lambda row: norm.ppf(quantiles, loc=row['adjusted_mu'], scale=row['adjusted_sigma']), axis=1)\n"
   ]
  },
  {
   "cell_type": "code",
   "execution_count": null,
   "id": "94590af7-db02-4e96-89e8-182ae4d0cf72",
   "metadata": {},
   "outputs": [],
   "source": []
  },
  {
   "cell_type": "code",
   "execution_count": null,
   "id": "307665a3-78e1-462f-bf18-1a69d77a52a1",
   "metadata": {},
   "outputs": [],
   "source": []
  },
  {
   "cell_type": "code",
   "execution_count": null,
   "id": "4084e546-f471-4b36-9a03-59c07eaa5a35",
   "metadata": {},
   "outputs": [],
   "source": []
  },
  {
   "cell_type": "code",
   "execution_count": null,
   "id": "334122bf-3cf3-48c6-b998-527e0b7b0673",
   "metadata": {},
   "outputs": [],
   "source": []
  },
  {
   "cell_type": "code",
   "execution_count": null,
   "id": "35415c62-a344-4004-b80d-ff02cd440bec",
   "metadata": {},
   "outputs": [],
   "source": []
  },
  {
   "cell_type": "code",
   "execution_count": null,
   "id": "604ec2cd-4bca-498f-bcc6-792c982cab85",
   "metadata": {},
   "outputs": [],
   "source": []
  },
  {
   "cell_type": "code",
   "execution_count": null,
   "id": "3def877a-66e9-48d4-9fbf-fd842801fa25",
   "metadata": {},
   "outputs": [],
   "source": [
    "# Assuming 'get_data_for_convlstm' returns the processed data suitable for modeling,\n",
    "# and it has already been executed in your code snippet\n",
    "\n",
    "# Example using the actual data returned from your function calls instead of loading from CSV\n",
    "forecast_df = data_for_prediction.copy()  # Assuming this dataframe is like the forecasted temperatures CSV\n",
    "observed_df = data_actual_for_prediction.copy()  # Assuming this dataframe is like the historical observations CSV\n",
    "\n",
    "# Convert timestamps to pandas datetime format\n",
    "forecast_df['date'] = time_index_pre_data\n",
    "observed_df['date'] = time_index_actual_data\n",
    "\n",
    "# Calculate day of year\n",
    "forecast_df['doy'] = forecast_df['date'].dt.dayofyear\n",
    "observed_df['doy'] = observed_df['date'].dt.dayofyear\n",
    "\n",
    "# Continue with the workflow\n",
    "scaler = MinMaxScaler()\n",
    "scaler.fit(forecast_df)  # Fit scaler on the forecast data\n",
    "\n",
    "# Transform the data for prediction\n",
    "df_scaled = scaler.transform(forecast_df)\n",
    "df_scaled = pd.DataFrame(df_scaled, columns=forecast_df.columns)\n",
    "\n",
    "# Assuming 'latest_sequence', 'sequence_length', 'feature_count' are defined elsewhere in your code\n",
    "latest_sequence = df_scaled.tail(sequence_length).values.reshape(1, sequence_length, 1, 1, feature_count)\n",
    "\n",
    "# Assuming 'model' is already defined and trained\n",
    "future_temperatures = model.predict(latest_sequence)\n",
    "dummy_output_array = np.zeros((hours_to_predict, scaler.n_features_in_))\n",
    "dummy_output_array[:, 3] = future_temperatures.flatten()  # Assuming temperature data is at index 3\n",
    "predicted_temps = scaler.inverse_transform(dummy_output_array)[:, 3]\n",
    "\n",
    "# Timestamp and prediction handling\n",
    "last_timestamp = forecast_df.index[-1]\n",
    "prediction_frequency = 'H'\n",
    "new_timestamps = pd.date_range(start=last_timestamp + pd.Timedelta(hours=1), periods=len(predicted_temps), freq=prediction_frequency)\n",
    "predictions_df = pd.DataFrame(predicted_temps, index=new_timestamps, columns=['Predicted T2M'])\n",
    "\n",
    "# Optionally visualize or analyze the results here\n",
    "\n",
    "\n",
    "def seasonal_features(doy):\n",
    "    return {\n",
    "        'sin1': np.sin(2 * np.pi * doy / 365),\n",
    "        'cos1': np.cos(2 * np.pi * doy / 365),\n",
    "        'sin2': np.sin(4 * np.pi * doy / 365),\n",
    "        'cos2': np.cos(4 * np.pi * doy / 365)\n",
    "    }\n",
    "\n",
    "\n",
    "import statsmodels.api as sm\n",
    "\n",
    "# Prepare your dataset with seasonal features\n",
    "seasonal_data = pd.DataFrame(list(observed_df['doy'].apply(seasonal_features)))\n",
    "X = sm.add_constant(pd.concat([observed_df[['doy']], seasonal_data], axis=1))\n",
    "y_mu = observed_df['temperature']  # Replace 'temperature' with your actual observed temperature column\n",
    "y_sigma = np.log(forecast_df['std_dev'])  # std_dev should be standard deviation of your forecast ensemble\n",
    "\n",
    "# Fit the model for μ\n",
    "model_mu = sm.OLS(y_mu, X).fit()\n",
    "\n",
    "# Fit the model for log(σ)\n",
    "model_sigma = sm.OLS(y_sigma, X).fit()\n",
    "\n",
    "\n",
    "# Adding seasonal features to forecast dataset\n",
    "forecast_seasonal = pd.DataFrame(list(forecast_df['doy'].apply(seasonal_features)))\n",
    "X_forecast = sm.add_constant(pd.concat([forecast_df[['doy']], forecast_seasonal], axis=1))\n",
    "\n",
    "# Predict μ and σ using the fitted models\n",
    "forecast_df['adjusted_mu'] = model_mu.predict(X_forecast)\n",
    "forecast_df['adjusted_sigma'] = np.exp(model_sigma.predict(X_forecast))\n",
    "\n",
    "from scipy.stats import norm\n",
    "\n",
    "# Generate 51 equidistant quantiles from the adjusted Gaussian distribution\n",
    "quantiles = np.linspace(0.01, 0.99, 51)\n",
    "forecast_df['quantiles'] = forecast_df.apply(lambda row: norm.ppf(quantiles, loc=row['adjusted_mu'], scale=row['adjusted_sigma']), axis=1)\n",
    "\n",
    "\n",
    "import matplotlib.pyplot as plt\n",
    "\n",
    "plt.figure(figsize=(12, 6))\n",
    "plt.plot(observed_df['date'], observed_df['temperature'], label='Observed')\n",
    "plt.plot(forecast_df['date'], forecast_df['adjusted_mu'], label='EMOS Adjusted Forecast')\n",
    "plt.fill_between(forecast_df['date'], forecast_df['adjusted_mu'] - forecast_df['adjusted_sigma'], forecast_df['adjusted_mu'] + forecast_df['adjusted_sigma'], color='gray', alpha=0.5, label='Confidence Interval')\n",
    "plt.legend()\n",
    "plt.title('Temperature Forecasts Adjusted with EMOS')\n",
    "plt.xlabel('Date')\n",
    "plt.ylabel('Temperature')\n",
    "plt.show()\n",
    "\n",
    "\n"
   ]
  },
  {
   "cell_type": "code",
   "execution_count": null,
   "id": "f14feca1-2bbd-462d-82a8-a1439542b588",
   "metadata": {},
   "outputs": [],
   "source": [
    "import pandas as pd\n",
    "from sklearn.preprocessing import MinMaxScaler\n",
    "import numpy as np\n",
    "import statsmodels.api as sm\n",
    "from scipy.stats import norm\n",
    "import matplotlib.pyplot as plt\n",
    "\n",
    "# Assume these functions and data preparations are already provided\n",
    "# ... your previous setup here ...\n",
    "\n",
    "# Ensure you only select numerical columns for scaling\n",
    "numerical_cols = forecast_df.select_dtypes(include=[np.number]).columns\n",
    "scaler = MinMaxScaler()\n",
    "\n",
    "# Fit and transform the numerical data only\n",
    "forecast_df[numerical_cols] = scaler.fit_transform(forecast_df[numerical_cols])\n",
    "\n",
    "# Assuming 'latest_sequence', 'sequence_length', 'feature_count' are defined elsewhere in your code\n",
    "# This part would need numerical indices or column names updated as per your DataFrame structure\n",
    "latest_sequence = forecast_df[numerical_cols].tail(sequence_length).values.reshape(1, sequence_length, 1, 1, len(numerical_cols))\n",
    "\n",
    "# Model predictions and handling remain unchanged\n",
    "# ... continue with your model prediction setup ...\n",
    "\n",
    "# Additional features for model fitting\n",
    "def seasonal_features(doy):\n",
    "    return {\n",
    "        'sin1': np.sin(2 * np.pi * doy / 365),\n",
    "        'cos1': np.cos(2 * np.pi * doy / 365),\n",
    "        'sin2': np.sin(4 * np.pi * doy / 365),\n",
    "        'cos2': np.cos(4 * np.pi * doy / 365)\n",
    "    }\n",
    "\n",
    "# Prepare your dataset with seasonal features\n",
    "seasonal_data = pd.DataFrame(list(observed_df['doy'].apply(seasonal_features)))\n",
    "X = sm.add_constant(pd.concat([observed_df[['doy']], seasonal_data], axis=1))\n",
    "y_mu = observed_df['temperature']  # Ensure this column exists\n",
    "y_sigma = np.log(forecast_df['std_dev'])  # std_dev should be standard deviation of your forecast ensemble\n",
    "\n",
    "# Fit the model for μ\n",
    "model_mu = sm.OLS(y_mu, X).fit()\n",
    "\n",
    "# Fit the model for log(σ)\n",
    "model_sigma = sm.OLS(y_sigma, X).fit()\n",
    "\n",
    "# Adding seasonal features to forecast dataset\n",
    "forecast_seasonal = pd.DataFrame(list(forecast_df['doy'].apply(seasonal_features)))\n",
    "X_forecast = sm.add_constant(pd.concat([forecast_df[['doy']], forecast_seasonal], axis=1))\n",
    "\n",
    "# Predict μ and σ using the fitted models\n",
    "forecast_df['adjusted_mu'] = model_mu.predict(X_forecast)\n",
    "forecast_df['adjusted_sigma'] = np.exp(model_sigma.predict(X_forecast))\n",
    "\n",
    "# Generate 51 equidistant quantiles from the adjusted Gaussian distribution\n",
    "quantiles = np.linspace(0.01, 0.99, 51)\n",
    "forecast_df['quantiles'] = forecast_df.apply(lambda row: norm.ppf(quantiles, loc=row['adjusted_mu'], scale=row['adjusted_sigma']), axis=1)\n",
    "\n",
    "plt.figure(figsize=(12, 6))\n",
    "plt.plot(observed_df['date'], observed_df['temperature'], label='Observed')\n",
    "plt.plot(forecast_df['date'], forecast_df['adjusted_mu'], label='EMOS Adjusted Forecast')\n",
    "plt.fill_between(forecast_df['date'], forecast_df['adjusted_mu'] - forecast_df['adjusted_sigma'], forecast_df['adjusted_mu'] + forecast_df['adjusted_sigma'], color='gray', alpha=0.5, label='Confidence Interval')\n",
    "plt.legend()\n",
    "plt.title('Temperature Forecasts Adjusted with EMOS')\n",
    "plt.xlabel('Date')\n",
    "plt.ylabel('Temperature')\n",
    "plt.show()\n"
   ]
  },
  {
   "cell_type": "code",
   "execution_count": null,
   "id": "ffe89c73-da9a-42e0-8867-d8f3ecafc50b",
   "metadata": {},
   "outputs": [],
   "source": []
  },
  {
   "cell_type": "code",
   "execution_count": null,
   "id": "d6673f7f-3732-4604-b72f-56a9d3d19a5a",
   "metadata": {},
   "outputs": [],
   "source": []
  },
  {
   "cell_type": "code",
   "execution_count": null,
   "id": "ab1ce42e-32f0-4368-992f-c89684c6b948",
   "metadata": {},
   "outputs": [],
   "source": []
  },
  {
   "cell_type": "code",
   "execution_count": null,
   "id": "656541e8-54cc-4437-8a45-053528fce773",
   "metadata": {},
   "outputs": [],
   "source": []
  },
  {
   "cell_type": "code",
   "execution_count": null,
   "id": "baff5473-4f51-4634-b088-45a53aac2735",
   "metadata": {},
   "outputs": [],
   "source": []
  },
  {
   "cell_type": "code",
   "execution_count": null,
   "id": "487077b9-651f-450b-8990-8ba10f58e3a4",
   "metadata": {},
   "outputs": [],
   "source": []
  },
  {
   "cell_type": "code",
   "execution_count": null,
   "id": "b9e437cb-ec6b-44fb-a4a9-491c65f89887",
   "metadata": {},
   "outputs": [],
   "source": []
  },
  {
   "cell_type": "code",
   "execution_count": null,
   "id": "a5cfdda2-775d-4db5-b7d7-cfc2b3a26516",
   "metadata": {},
   "outputs": [],
   "source": []
  },
  {
   "cell_type": "code",
   "execution_count": null,
   "id": "dfcf4e5a-5432-4858-a1e8-181227a0775b",
   "metadata": {},
   "outputs": [],
   "source": [
    "# Example data loading; replace with your actual data sources\n",
    "forecast_df = y_pred # Your model outputs\n",
    "observed_df = y_test # Historical observations\n",
    "forecast_df"
   ]
  },
  {
   "cell_type": "code",
   "execution_count": null,
   "id": "890d51b1-d56f-47e5-b8c1-369aa46e428d",
   "metadata": {},
   "outputs": [],
   "source": [
    "print(observed_df.head())  # Check the first few rows to see if 'doy' is present and correctly populated\n",
    "print(observed_df.columns)  # Verify that 'doy' is one of the columns\n"
   ]
  },
  {
   "cell_type": "code",
   "execution_count": null,
   "id": "66593acb-39a6-4079-9ff3-b8c99b83a153",
   "metadata": {},
   "outputs": [],
   "source": [
    "import pandas as pd\n",
    "\n",
    "# Assuming your array includes multiple columns and you know the order:\n",
    "# For example, let's say the first column is temperature, and you have date info elsewhere or need to add it\n",
    "observed_df = pd.DataFrame(observed_df, columns=['temperature'])\n",
    "\n",
    "# If you need to add 'date' and calculate 'doy', you would do something like this:\n",
    "observed_df['date'] = pd.date_range(start='2021-01-01', periods=len(observed_df), freq='D')\n",
    "observed_df['doy'] = observed_df['date'].dt.dayofyear\n"
   ]
  },
  {
   "cell_type": "code",
   "execution_count": null,
   "id": "7820a90d-c0c9-4c66-b515-c314fa3dd564",
   "metadata": {},
   "outputs": [],
   "source": [
    "def seasonal_features(doy):\n",
    "    return {\n",
    "        'sin1': np.sin(2 * np.pi * doy / 365),\n",
    "        'cos1': np.cos(2 * np.pi * doy / 365),\n",
    "        'sin2': np.sin(4 * np.pi * doy / 365),\n",
    "        'cos2': np.cos(4 * np.pi * doy / 365)\n",
    "    }\n"
   ]
  },
  {
   "cell_type": "code",
   "execution_count": null,
   "id": "aff37077-ec7d-4e7b-98b3-75065bbd4410",
   "metadata": {},
   "outputs": [],
   "source": [
    "import statsmodels.api as sm\n",
    "\n",
    "# Adding seasonal features to your dataset\n",
    "seasonal_data = pd.DataFrame(list(observed_df['doy'].apply(seasonal_features)))\n",
    "X = sm.add_constant(pd.concat([observed_df[['doy']], seasonal_data], axis=1))\n",
    "y_mu = observed_df['temperature']  # Assume observed temperature data is labeled as 'temperature'\n",
    "y_sigma = np.log(forecast_df['std_dev'])  # std_dev should be provided or calculated as the standard deviation of your forecast ensemble\n",
    "\n",
    "# Fitting models\n",
    "model_mu = sm.OLS(y_mu, X).fit()\n",
    "model_sigma = sm.OLS(y_sigma, X).fit()\n"
   ]
  },
  {
   "cell_type": "code",
   "execution_count": null,
   "id": "699a47ca-eb30-4aab-a654-f1d84901c357",
   "metadata": {},
   "outputs": [],
   "source": [
    "# Prepare features for new forecasts\n",
    "forecast_seasonal = pd.DataFrame(list(forecast_df['doy'].apply(seasonal_features)))\n",
    "X_forecast = sm.add_constant(pd.concat([forecast_df[['doy']], forecast_seasonal], axis=1))\n",
    "\n",
    "# Predict adjusted μ and σ\n",
    "forecast_df['adjusted_mu'] = model_mu.predict(X_forecast)\n",
    "forecast_df['adjusted_sigma'] = np.exp(model_sigma.predict(X_forecast))\n"
   ]
  },
  {
   "cell_type": "code",
   "execution_count": null,
   "id": "0f8e662b-3238-4629-9dd5-6b61ac80ef37",
   "metadata": {},
   "outputs": [],
   "source": [
    "from scipy.stats import norm\n",
    "\n",
    "# Calculate quantiles for probabilistic forecasting\n",
    "quantiles = np.linspace(0.01, 0.99, 51)\n",
    "forecast_df['quantiles'] = forecast_df.apply(\n",
    "    lambda row: norm.ppf(quantiles, loc=row['adjusted_mu'], scale=row['adjusted_sigma']), axis=1\n",
    ")\n"
   ]
  },
  {
   "cell_type": "code",
   "execution_count": null,
   "id": "3e803166-8a11-4a0a-8288-0f093a45284e",
   "metadata": {},
   "outputs": [],
   "source": []
  },
  {
   "cell_type": "code",
   "execution_count": null,
   "id": "f0401bff-0e28-46b2-8492-c9338b4ea742",
   "metadata": {},
   "outputs": [],
   "source": []
  }
 ],
 "metadata": {
  "kernelspec": {
   "display_name": "Python 3 (ipykernel)",
   "language": "python",
   "name": "python3"
  },
  "language_info": {
   "codemirror_mode": {
    "name": "ipython",
    "version": 3
   },
   "file_extension": ".py",
   "mimetype": "text/x-python",
   "name": "python",
   "nbconvert_exporter": "python",
   "pygments_lexer": "ipython3",
   "version": "3.11.7"
  }
 },
 "nbformat": 4,
 "nbformat_minor": 5
}
