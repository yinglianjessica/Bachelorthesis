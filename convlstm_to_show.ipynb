{
 "cells": [
  {
   "cell_type": "code",
   "execution_count": 1,
   "id": "e521e4b8-c687-464b-8b53-335f581d6055",
   "metadata": {},
   "outputs": [],
   "source": [
    "import warnings\n",
    "# warnings.filterwarnings('ignore')\n"
   ]
  },
  {
   "cell_type": "code",
   "execution_count": 2,
   "id": "df30c548-bedb-4655-ae21-271aef11ffac",
   "metadata": {},
   "outputs": [
    {
     "name": "stderr",
     "output_type": "stream",
     "text": [
      "2024-05-10 16:50:39.598794: I tensorflow/core/platform/cpu_feature_guard.cc:210] This TensorFlow binary is optimized to use available CPU instructions in performance-critical operations.\n",
      "To enable the following instructions: AVX2 FMA, in other operations, rebuild TensorFlow with the appropriate compiler flags.\n",
      "2024-05-10 16:50:40.530706: W tensorflow/compiler/tf2tensorrt/utils/py_utils.cc:38] TF-TRT Warning: Could not find TensorRT\n"
     ]
    }
   ],
   "source": [
    "import requests\n",
    "import pandas as pd\n",
    "import numpy as np\n",
    "import matplotlib.pyplot as plt\n",
    "import tensorflow as tf\n",
    "import joblib \n",
    "import os\n",
    "import pickle\n",
    "import plotly.graph_objects as go\n",
    "import climetlab as cml\n",
    "\n",
    "from datetime import datetime\n",
    "from tensorflow.keras.models import Sequential\n",
    "from tensorflow.keras.layers import Dense, ConvLSTM2D, LSTM, Flatten, Dropout, BatchNormalization, Input\n",
    "from tensorflow.keras.optimizers import Adam\n",
    "from sklearn.preprocessing import MinMaxScaler\n",
    "from sklearn.metrics import mean_squared_error, mean_absolute_error\n",
    "from tensorflow.keras.optimizers.schedules import ExponentialDecay\n",
    "from tensorflow.keras.regularizers import l2\n",
    "from keras.callbacks import ModelCheckpoint\n",
    "from sklearn.metrics import explained_variance_score, r2_score\n",
    "from sklearn.utils import shuffle"
   ]
  },
  {
   "cell_type": "code",
   "execution_count": 50,
   "id": "044c6be6-b26f-4315-ad7c-364d8b9b0b51",
   "metadata": {},
   "outputs": [],
   "source": [
    "# INCA, 6 Jahre, Vienna, alle Parameter, hourly, timeseries\n",
    "# timeseries (wieso sind da zwei Einträge da?)\n",
    "# andere Städte geplant\n",
    "def fetch_data(start_date = '2018-01-01T00', end_date='2024-01-01T00', lat_lon = '48.333056%2C16.631944'):\n",
    "    url_template = (\"https://dataset.api.hub.geosphere.at/v1/timeseries/historical/inca-v1-1h-1km?\"\n",
    "                    \"parameters=RR&parameters=GL&parameters=P0&parameters=T2M&parameters=TD2M&\"\n",
    "                    \"parameters=RH2M&parameters=UU&parameters=VV&\"\n",
    "                    \"start={start_date}%3A00&end={end_date}%3A00&lat_lon={lat_lon}&\"\n",
    "                    \"output_format=geojson&filename=INCA_timeseries_all_parameters_{start_year}_{end_year}_{lat_lon}\")\n",
    "    formatted_url = url_template.format(start_date=start_date, end_date=end_date, lat_lon=lat_lon,\n",
    "                                        start_year=start_date[:4], end_year=end_date[:4])\n",
    "    print(formatted_url)\n",
    "    response = requests.get(formatted_url)\n",
    "    if response.status_code == 200:\n",
    "        data = response.json()\n",
    "        print(\"Fetched data successfully\")\n",
    "    else:\n",
    "        print(\"Failed to retrieve data\", response.status_code)\n",
    "\n",
    "    # Processing the data\n",
    "    data_list = []\n",
    "    for feature in data['features']:\n",
    "        location = feature['geometry']['coordinates']\n",
    "        for i, timestamp in enumerate(data['timestamps']):\n",
    "            record = {\n",
    "                'time': pd.to_datetime(timestamp),\n",
    "                'longitude': location[0],\n",
    "                'latitude': location[1],\n",
    "                'RR': feature['properties']['parameters']['RR']['data'][i],\n",
    "                'T2M': feature['properties']['parameters']['T2M']['data'][i],\n",
    "                'RH2M': feature['properties']['parameters']['RH2M']['data'][i],\n",
    "                'TD2M': feature['properties']['parameters']['TD2M']['data'][i],\n",
    "                'GL': feature['properties']['parameters']['GL']['data'][i],\n",
    "                'UU': feature['properties']['parameters']['UU']['data'][i],\n",
    "                'VV': feature['properties']['parameters']['VV']['data'][i],\n",
    "                'P0': feature['properties']['parameters']['P0']['data'][i]\n",
    "            }\n",
    "            data_list.append(record)\n",
    "\n",
    "    original_df = pd.DataFrame(data_list)\n",
    "    return original_df\n"
   ]
  },
  {
   "cell_type": "code",
   "execution_count": 51,
   "id": "dd516fea-7eaa-4fe4-962a-27297a099087",
   "metadata": {},
   "outputs": [],
   "source": [
    "def fetch_training_data(date_latlon_pairs):\n",
    "    all_data = []\n",
    "    for dates, lat_lon in date_latlon_pairs:\n",
    "        start_date, end_date = dates\n",
    "        df = fetch_data(start_date, end_date, lat_lon)\n",
    "        all_data.append(df)\n",
    "    \n",
    "    return pd.concat(all_data, ignore_index=True)\n"
   ]
  },
  {
   "cell_type": "code",
   "execution_count": 52,
   "id": "18260373-e10f-42d0-ac7e-40447e6856fe",
   "metadata": {},
   "outputs": [],
   "source": [
    "def assign_bimonthly(month):\n",
    "    if month in [1, 2]:  # Jan-Feb\n",
    "        return 'Jan-Feb'\n",
    "    elif month in [3, 4]:  # Mar-Apr\n",
    "        return 'Mar-Apr'\n",
    "    elif month in [5, 6]:  # May-Jun\n",
    "        return 'May-Jun'\n",
    "    elif month in [7, 8]:  # Jul-Aug\n",
    "        return 'Jul-Aug'\n",
    "    elif month in [9, 10]:  # Sep-Oct\n",
    "        return 'Sep-Oct'\n",
    "    elif month in [11, 12]:  # Nov-Dec\n",
    "        return 'Nov-Dec'\n",
    "    return 'Unknown'\n",
    "\n",
    "def bimonthly_outliers(group):\n",
    "    Q1 = group.quantile(0.25)\n",
    "    Q3 = group.quantile(0.75)\n",
    "    IQR = Q3 - Q1\n",
    "    lower_bound = Q1 - 2.5 * IQR\n",
    "    upper_bound = Q3 + 2.5 * IQR\n",
    "    return lower_bound, upper_bound\n",
    "\n"
   ]
  },
  {
   "cell_type": "code",
   "execution_count": 53,
   "id": "dbf49564-359c-4421-9536-8b11cc7691bf",
   "metadata": {},
   "outputs": [],
   "source": [
    "def assign_season(month):\n",
    "    if month in [12, 1, 2]:\n",
    "        return 'winter'\n",
    "    elif month in [3, 4, 5]:\n",
    "        return 'spring'\n",
    "    elif month in [6, 7, 8]:\n",
    "        return 'summer'\n",
    "    elif month in [9, 10, 11]:\n",
    "        return 'autumn'\n",
    "    return 'unknown'"
   ]
  },
  {
   "cell_type": "code",
   "execution_count": 54,
   "id": "a468d54c-2b81-4a2a-ad1e-64504abfe8a7",
   "metadata": {},
   "outputs": [],
   "source": [
    "\n",
    "def seasonal_outliers(group):\n",
    "    Q1 = group.quantile(0.25)\n",
    "    Q3 = group.quantile(0.75)\n",
    "    IQR = Q3 - Q1\n",
    "    lower_bound = Q1 - 1.5 * IQR\n",
    "    upper_bound = Q3 + 1.5 * IQR\n",
    "    return lower_bound, upper_bound\n",
    "\n"
   ]
  },
  {
   "cell_type": "code",
   "execution_count": 55,
   "id": "592cfe85-fd77-4cc3-98d3-7194e3e2da08",
   "metadata": {},
   "outputs": [],
   "source": [
    "def monthly_outliers(group):\n",
    "    Q1 = group.quantile(0.25)\n",
    "    Q3 = group.quantile(0.75)\n",
    "    IQR = Q3 - Q1\n",
    "    lower_bound = Q1 - 1.5 * IQR\n",
    "    upper_bound = Q3 + 1.5 * IQR\n",
    "    return lower_bound, upper_bound\n",
    "\n",
    "def is_outlier(row, lower_bound, upper_bound):\n",
    "    temperature = row['T2M']\n",
    "    if temperature < lower_bound or temperature > upper_bound:\n",
    "        return True\n",
    "    return False\n",
    "\n",
    "\n",
    "def replace_outliers(row, index, df):\n",
    "    if row['is_outlier']:\n",
    "        # Check if it's the first row\n",
    "        if index == 0:\n",
    "            return row['T2M']  # Or handle differently if the first value is an outlier\n",
    "        else:\n",
    "            return df.iloc[index - 1]['T2M']\n",
    "    else:\n",
    "        return row['T2M']\n"
   ]
  },
  {
   "cell_type": "code",
   "execution_count": 180,
   "id": "f918e79a-6ef2-4cbc-a5fe-01a0977ea582",
   "metadata": {},
   "outputs": [],
   "source": [
    "# feature engineering, mehr research\n",
    "# more testing maybe for the paper, this right now is okay?\n",
    "\n",
    "# statistical rolling features of the last x hours\n",
    "def calculate_rolling_features(df, window_size, feature_name):\n",
    "    if len(df) < window_size:\n",
    "        window_size = len(df)  \n",
    "    df[f'{feature_name}_rolling_mean'] = df['T2M'].rolling(window=window_size).mean()\n",
    "    df[f'{feature_name}_rolling_max'] = df['T2M'].rolling(window=window_size).max()\n",
    "    df[f'{feature_name}_rolling_min'] = df['T2M'].rolling(window=window_size).min()\n",
    "    df[f'{feature_name}_rolling_std'] = df['T2M'].rolling(window=window_size).std()\n",
    "\n",
    "# Exponential Weighted Moving Average (EWMA)\n",
    "# which data are more important\n",
    "def calculate_ewm_features(df, span_hours, feature_name):\n",
    "    ewm_feature = f'{feature_name}_ewm_{span_hours}h'\n",
    "    df[ewm_feature] = df[feature_name].ewm(span=span_hours, adjust=False).mean()\n",
    "\n",
    "def handle_na(df):\n",
    "    df.fillna(method='ffill', inplace=True)  \n",
    "    df.fillna(method='bfill', inplace=True)  \n",
    "    \n",
    "def feature_engineering(df):\n",
    "    df.dropna(inplace=True)  \n",
    "    original_time_index = df['time'].copy()\n",
    "    # Basic date-time features\n",
    "    df['hour'] = df['time'].dt.hour\n",
    "    df['day_of_year'] = df['time'].dt.dayofyear\n",
    "    df['week_of_year'] = df['time'].dt.isocalendar().week\n",
    "    df['month'] = df['time'].dt.month\n",
    "    df['year'] = df['time'].dt.year    \n",
    "    df['longitude'] = df['longitude'].astype(float)\n",
    "    df['latitude'] = df['latitude'].astype(float)\n",
    "    df['season'] = df['time'].dt.month.apply(assign_season)\n",
    "\n",
    "\n",
    "    # Cyclical time features\n",
    "    df['hour_sin'] = np.sin(2 * np.pi * df['hour']/24)\n",
    "    df['hour_cos'] = np.cos(2 * np.pi * df['hour']/24)\n",
    "    df['month_sin'] = np.sin(2 * np.pi * df['month'] / 12)\n",
    "    df['month_cos'] = np.cos(2 * np.pi * df['month'] / 12)\n",
    "    df['dayofyear_sin'] = np.sin(2 * np.pi * df['time'].dt.dayofyear / 365)\n",
    "    df['dayofyear_cos'] = np.cos(2 * np.pi * df['time'].dt.dayofyear / 365)\n",
    "\n",
    "    # Wind and interaction features\n",
    "    df['wind_speed'] = np.sqrt(df['UU']**2 + df['VV']**2)\n",
    "    df['wind_direction'] = np.arctan2(df['VV'], df['UU']) * 180 / np.pi\n",
    "    df['temp_humidity_interaction'] = df['T2M'] * df['RH2M']\n",
    "    df['wind_rain_interaction'] = df['wind_speed'] * df['RR']\n",
    "    df['temp_rain_interaction'] = df['T2M'] * df['RR']\n",
    "    df['wind_temp_interaction'] = df['wind_speed'] * df['T2M']\n",
    "\n",
    "    # lags\n",
    "    # Temperature lags\n",
    "    for hrs in [1, 3, 6, 12, 24, 48]:\n",
    "        df[f'T2M_lag_{hrs}hr'] = df['T2M'].shift(hrs)\n",
    "    \n",
    "    # Humidity lags\n",
    "    for hrs in [1, 3]:\n",
    "       df[f'RH2M_lag_{hrs}hr'] = df['RH2M'].shift(hrs)\n",
    "\n",
    "    # differential\n",
    "    df['T2M_diff'] = df['T2M'].diff()\n",
    "    df['RH2M_diff'] = df['RH2M'].diff()\n",
    "    #df['P0_diff'] = df['P0'].diff()\n",
    "\n",
    "    df['temp_drop_event'] = df['T2M_diff'].apply(lambda x: 1 if x < -4 else 0)\n",
    "    df['rain_event'] = df['RR'].apply(lambda x: 1 if x > 0 else 0)\n",
    "\n",
    "    # EWM & rolling window\n",
    "    calculate_ewm_features(df, 3, 'T2M')\n",
    "    calculate_ewm_features(df, 6, 'T2M')\n",
    "    calculate_ewm_features(df, 12, 'T2M')\n",
    "    calculate_ewm_features(df, 24, 'T2M')\n",
    "    #calculate_ewm_features(df, 48, 'T2M')\n",
    "    #calculate_ewm_features(df, 72, 'T2M')\n",
    "    #calculate_ewm_features(df, 24*7, 'T2M')\n",
    "    calculate_ewm_features(df, 24*365, 'T2M')\n",
    "\n",
    "    calculate_rolling_features(df,3, '3h')  # 24-hour window\n",
    "    calculate_rolling_features(df, 6, '6h')  # 24-hour window\n",
    "    calculate_rolling_features(df, 12, '12h')  # 24-hour window\n",
    "    calculate_rolling_features(df, 24, '24h')  # 24-hour window\n",
    "    #calculate_rolling_features(df, 48, '24h')  # 24-hour window\n",
    "    #calculate_rolling_features(df, 72, '72h')  # 24-hour window\n",
    "    #calculate_rolling_features(df, 24*7, '7d')  # 7-day window\n",
    "    calculate_rolling_features(df, 24*365, '365d')  # 7-day window\n",
    "\n",
    "    # Handle NaNs \n",
    "    handle_na(df)\n",
    "\n",
    "\n",
    "    def correct_temperature(row):\n",
    "        bimonthly_group = row['bimonthly']\n",
    "        temperature = row['T2M']\n",
    "        lower_bound, upper_bound = outlier_bounds[bimonthly_group]\n",
    "        \n",
    "        if temperature < lower_bound:\n",
    "            return lower_bound  # Set to lower bound if below\n",
    "        elif temperature > upper_bound:\n",
    "            return upper_bound  # Set to upper bound if above\n",
    "        return temperature  # Return original if within bounds\n",
    "    \n",
    "    df['bimonthly'] = df['time'].dt.month.apply(assign_bimonthly)\n",
    "    \n",
    "    # Calculate outlier bounds for each bimonthly group\n",
    "    bimonthly_data = df.groupby('bimonthly')['T2M']\n",
    "    outlier_bounds = bimonthly_data.apply(bimonthly_outliers)\n",
    "    \n",
    "    # Mark rows as outliers\n",
    "    df['is_outlier'] = df.apply(lambda row: is_outlier(row, *outlier_bounds[row['bimonthly']]), axis=1)\n",
    "    # This will display all rows where 'is_outlier' is True\n",
    "    if not df.empty:\n",
    "        if df['is_outlier'].any():\n",
    "            print(df[df['is_outlier']])\n",
    "        else:\n",
    "            print(\"No outliers detected.\")\n",
    "    else:\n",
    "        print(\"DataFrame is empty.\")\n",
    "\n",
    "    # Replace outliers\n",
    "    df['T2M'] = df.apply(lambda row: replace_outliers(row, row.name, df), axis=1)\n",
    "    \n",
    "    # Optionally drop the 'is_outlier' column if no longer needed\n",
    "    df.drop(columns=['is_outlier'], inplace=True)\n",
    "\n",
    "\n",
    "    # only numeric types are used for modeling\n",
    "    df = df.select_dtypes(include=[np.number])\n",
    "    return df, original_time_index"
   ]
  },
  {
   "cell_type": "code",
   "execution_count": 57,
   "id": "b628eef5-95ba-42fd-8698-f654ca52ce11",
   "metadata": {},
   "outputs": [],
   "source": [
    "def get_data_for_convlstm(start_date = '2018-01-01T00', end_date='2024-01-01T00'):\n",
    "    df, time_index = feature_engineering(fetch_data(start_date, end_date).copy())\n",
    "    return df, time_index"
   ]
  },
  {
   "cell_type": "code",
   "execution_count": 58,
   "id": "f9cbfc06-a20f-406c-a6d4-a7455dc5ffab",
   "metadata": {},
   "outputs": [],
   "source": [
    "def create_sequences(input_data, param, sequence_length, feature_count, hours_to_predict, include_target=True):\n",
    "    X, y = [], []\n",
    "    for i in range(len(input_data) - sequence_length - hours_to_predict + 1): \n",
    "        X.append(input_data.iloc[i:(i + sequence_length)].values)\n",
    "        if include_target:\n",
    "            y.append(input_data.iloc[i + sequence_length:i + sequence_length + hours_to_predict][param].values) \n",
    "    if include_target:\n",
    "        # input X everything but T2M, output y just T2M\n",
    "        return np.array(X), np.array(y)\n",
    "    else:\n",
    "        return np.array(X)  # Return only X if include_target is False"
   ]
  },
  {
   "cell_type": "code",
   "execution_count": 12,
   "id": "a69601de-0e5e-4a85-b27d-7b541aec9dbb",
   "metadata": {},
   "outputs": [
    {
     "name": "stdout",
     "output_type": "stream",
     "text": [
      "https://dataset.api.hub.geosphere.at/v1/timeseries/historical/inca-v1-1h-1km?parameters=RR&parameters=GL&parameters=P0&parameters=T2M&parameters=TD2M&parameters=RH2M&parameters=UU&parameters=VV&start=2018-01-01T00%3A00&end=2024-01-01T00%3A00&lat_lon=48.333056%2C16.631944&output_format=geojson&filename=INCA_timeseries_all_parameters_2018_2024_48.333056%2C16.631944\n",
      "Fetched data successfully\n",
      "https://dataset.api.hub.geosphere.at/v1/timeseries/historical/inca-v1-1h-1km?parameters=RR&parameters=GL&parameters=P0&parameters=T2M&parameters=TD2M&parameters=RH2M&parameters=UU&parameters=VV&start=2018-01-01T00%3A00&end=2024-01-01T00%3A00&lat_lon=48.115278%2C16.175833&output_format=geojson&filename=INCA_timeseries_all_parameters_2018_2024_48.115278%2C16.175833\n",
      "Fetched data successfully\n"
     ]
    }
   ],
   "source": [
    "# Example usage:\n",
    "date_latlon_pairs = [\n",
    "    (('2018-01-01T00', '2024-01-01T00'), '48.333056%2C16.631944'),\n",
    "    (('2018-01-01T00', '2024-01-01T00'), '48.115278%2C16.175833')\n",
    "]\n",
    "\n",
    "combined_df = fetch_training_data(date_latlon_pairs)\n",
    "combined_df_copy = combined_df.copy()"
   ]
  },
  {
   "cell_type": "code",
   "execution_count": 181,
   "id": "d83ca2c1-f82b-4ea5-942a-1f0dcaab7ff3",
   "metadata": {},
   "outputs": [
    {
     "name": "stderr",
     "output_type": "stream",
     "text": [
      "/tmp/ipykernel_33216/3674317405.py:20: FutureWarning:\n",
      "\n",
      "DataFrame.fillna with 'method' is deprecated and will raise in a future version. Use obj.ffill() or obj.bfill() instead.\n",
      "\n",
      "/tmp/ipykernel_33216/3674317405.py:21: FutureWarning:\n",
      "\n",
      "DataFrame.fillna with 'method' is deprecated and will raise in a future version. Use obj.ffill() or obj.bfill() instead.\n",
      "\n"
     ]
    },
    {
     "name": "stdout",
     "output_type": "stream",
     "text": [
      "                           time  longitude   latitude   RR    T2M   RH2M  \\\n",
      "10166 2019-02-28 14:00:00+00:00  16.638773  48.334339  0.0  18.96  26.18   \n",
      "38195 2022-05-11 11:00:00+00:00  16.638773  48.334339  0.0  -9.99  34.26   \n",
      "54000 2018-02-28 23:00:00+00:00  16.181034  48.112373  0.0 -15.29  83.80   \n",
      "90780 2022-05-11 11:00:00+00:00  16.181034  48.112373  0.0  -9.99  40.98   \n",
      "\n",
      "        TD2M      GL    UU    VV  ...  24h_rolling_mean  24h_rolling_max  \\\n",
      "10166  -0.85  316.31  8.80 -0.33  ...          7.957083            18.96   \n",
      "38195   9.47  841.91  0.28  1.95  ...         16.651250            25.41   \n",
      "54000 -17.40    0.00 -0.05 -0.04  ...        -11.821667            -8.90   \n",
      "90780  10.89  815.88 -0.51  0.03  ...         16.477500            24.12   \n",
      "\n",
      "       24h_rolling_min  24h_rolling_std  365d_rolling_mean  365d_rolling_max  \\\n",
      "10166            -0.21         6.494555          12.154715             34.98   \n",
      "38195            -9.99         7.885237          11.212555             35.81   \n",
      "54000           -15.29         1.722419          11.671834             35.65   \n",
      "90780            -9.99         7.080612          10.448387             34.44   \n",
      "\n",
      "      365d_rolling_min  365d_rolling_std  bimonthly  is_outlier  \n",
      "10166           -13.05          9.540425    Jan-Feb        True  \n",
      "38195            -9.99          8.512847    May-Jun        True  \n",
      "54000           -15.29          9.207910    Jan-Feb        True  \n",
      "90780            -9.99          8.149832    May-Jun        True  \n",
      "\n",
      "[4 rows x 68 columns]\n"
     ]
    }
   ],
   "source": [
    "original_df, original_time_index = feature_engineering(combined_df.copy())"
   ]
  },
  {
   "cell_type": "code",
   "execution_count": 182,
   "id": "ccf07a78-75de-4a32-8d0a-8286a700ebd0",
   "metadata": {},
   "outputs": [],
   "source": [
    "df, time_index = original_df.copy(), original_time_index.copy()"
   ]
  },
  {
   "cell_type": "code",
   "execution_count": 183,
   "id": "ee6c8ef6-0025-459c-8eb7-46493b4664dc",
   "metadata": {},
   "outputs": [
    {
     "data": {
      "text/html": [
       "<div>\n",
       "<style scoped>\n",
       "    .dataframe tbody tr th:only-of-type {\n",
       "        vertical-align: middle;\n",
       "    }\n",
       "\n",
       "    .dataframe tbody tr th {\n",
       "        vertical-align: top;\n",
       "    }\n",
       "\n",
       "    .dataframe thead th {\n",
       "        text-align: right;\n",
       "    }\n",
       "</style>\n",
       "<table border=\"1\" class=\"dataframe\">\n",
       "  <thead>\n",
       "    <tr style=\"text-align: right;\">\n",
       "      <th></th>\n",
       "      <th>longitude</th>\n",
       "      <th>latitude</th>\n",
       "      <th>RR</th>\n",
       "      <th>T2M</th>\n",
       "      <th>RH2M</th>\n",
       "      <th>TD2M</th>\n",
       "      <th>GL</th>\n",
       "      <th>UU</th>\n",
       "      <th>VV</th>\n",
       "      <th>P0</th>\n",
       "      <th>...</th>\n",
       "      <th>12h_rolling_min</th>\n",
       "      <th>12h_rolling_std</th>\n",
       "      <th>24h_rolling_mean</th>\n",
       "      <th>24h_rolling_max</th>\n",
       "      <th>24h_rolling_min</th>\n",
       "      <th>24h_rolling_std</th>\n",
       "      <th>365d_rolling_mean</th>\n",
       "      <th>365d_rolling_max</th>\n",
       "      <th>365d_rolling_min</th>\n",
       "      <th>365d_rolling_std</th>\n",
       "    </tr>\n",
       "  </thead>\n",
       "  <tbody>\n",
       "    <tr>\n",
       "      <th>0</th>\n",
       "      <td>16.638773</td>\n",
       "      <td>48.334339</td>\n",
       "      <td>0.000</td>\n",
       "      <td>1.68</td>\n",
       "      <td>94.58</td>\n",
       "      <td>0.91</td>\n",
       "      <td>0.0</td>\n",
       "      <td>-1.08</td>\n",
       "      <td>1.06</td>\n",
       "      <td>101026.92</td>\n",
       "      <td>...</td>\n",
       "      <td>0.40</td>\n",
       "      <td>1.448503</td>\n",
       "      <td>3.458333</td>\n",
       "      <td>7.97</td>\n",
       "      <td>0.40</td>\n",
       "      <td>2.713545</td>\n",
       "      <td>12.067063</td>\n",
       "      <td>34.98</td>\n",
       "      <td>-13.05</td>\n",
       "      <td>9.608740</td>\n",
       "    </tr>\n",
       "    <tr>\n",
       "      <th>1</th>\n",
       "      <td>16.638773</td>\n",
       "      <td>48.334339</td>\n",
       "      <td>0.000</td>\n",
       "      <td>1.17</td>\n",
       "      <td>96.23</td>\n",
       "      <td>0.64</td>\n",
       "      <td>0.0</td>\n",
       "      <td>-2.09</td>\n",
       "      <td>0.80</td>\n",
       "      <td>100967.53</td>\n",
       "      <td>...</td>\n",
       "      <td>0.40</td>\n",
       "      <td>1.448503</td>\n",
       "      <td>3.458333</td>\n",
       "      <td>7.97</td>\n",
       "      <td>0.40</td>\n",
       "      <td>2.713545</td>\n",
       "      <td>12.067063</td>\n",
       "      <td>34.98</td>\n",
       "      <td>-13.05</td>\n",
       "      <td>9.608740</td>\n",
       "    </tr>\n",
       "    <tr>\n",
       "      <th>2</th>\n",
       "      <td>16.638773</td>\n",
       "      <td>48.334339</td>\n",
       "      <td>0.000</td>\n",
       "      <td>0.40</td>\n",
       "      <td>99.42</td>\n",
       "      <td>0.32</td>\n",
       "      <td>0.0</td>\n",
       "      <td>0.27</td>\n",
       "      <td>0.29</td>\n",
       "      <td>100957.14</td>\n",
       "      <td>...</td>\n",
       "      <td>0.40</td>\n",
       "      <td>1.448503</td>\n",
       "      <td>3.458333</td>\n",
       "      <td>7.97</td>\n",
       "      <td>0.40</td>\n",
       "      <td>2.713545</td>\n",
       "      <td>12.067063</td>\n",
       "      <td>34.98</td>\n",
       "      <td>-13.05</td>\n",
       "      <td>9.608740</td>\n",
       "    </tr>\n",
       "    <tr>\n",
       "      <th>3</th>\n",
       "      <td>16.638773</td>\n",
       "      <td>48.334339</td>\n",
       "      <td>0.000</td>\n",
       "      <td>0.51</td>\n",
       "      <td>100.00</td>\n",
       "      <td>0.51</td>\n",
       "      <td>0.0</td>\n",
       "      <td>0.61</td>\n",
       "      <td>0.21</td>\n",
       "      <td>100949.28</td>\n",
       "      <td>...</td>\n",
       "      <td>0.40</td>\n",
       "      <td>1.448503</td>\n",
       "      <td>3.458333</td>\n",
       "      <td>7.97</td>\n",
       "      <td>0.40</td>\n",
       "      <td>2.713545</td>\n",
       "      <td>12.067063</td>\n",
       "      <td>34.98</td>\n",
       "      <td>-13.05</td>\n",
       "      <td>9.608740</td>\n",
       "    </tr>\n",
       "    <tr>\n",
       "      <th>4</th>\n",
       "      <td>16.638773</td>\n",
       "      <td>48.334339</td>\n",
       "      <td>0.000</td>\n",
       "      <td>0.49</td>\n",
       "      <td>100.00</td>\n",
       "      <td>0.49</td>\n",
       "      <td>0.0</td>\n",
       "      <td>0.76</td>\n",
       "      <td>0.43</td>\n",
       "      <td>100939.71</td>\n",
       "      <td>...</td>\n",
       "      <td>0.40</td>\n",
       "      <td>1.448503</td>\n",
       "      <td>3.458333</td>\n",
       "      <td>7.97</td>\n",
       "      <td>0.40</td>\n",
       "      <td>2.713545</td>\n",
       "      <td>12.067063</td>\n",
       "      <td>34.98</td>\n",
       "      <td>-13.05</td>\n",
       "      <td>9.608740</td>\n",
       "    </tr>\n",
       "    <tr>\n",
       "      <th>...</th>\n",
       "      <td>...</td>\n",
       "      <td>...</td>\n",
       "      <td>...</td>\n",
       "      <td>...</td>\n",
       "      <td>...</td>\n",
       "      <td>...</td>\n",
       "      <td>...</td>\n",
       "      <td>...</td>\n",
       "      <td>...</td>\n",
       "      <td>...</td>\n",
       "      <td>...</td>\n",
       "      <td>...</td>\n",
       "      <td>...</td>\n",
       "      <td>...</td>\n",
       "      <td>...</td>\n",
       "      <td>...</td>\n",
       "      <td>...</td>\n",
       "      <td>...</td>\n",
       "      <td>...</td>\n",
       "      <td>...</td>\n",
       "      <td>...</td>\n",
       "    </tr>\n",
       "    <tr>\n",
       "      <th>105165</th>\n",
       "      <td>16.181034</td>\n",
       "      <td>48.112373</td>\n",
       "      <td>0.000</td>\n",
       "      <td>2.26</td>\n",
       "      <td>86.19</td>\n",
       "      <td>0.20</td>\n",
       "      <td>0.0</td>\n",
       "      <td>0.19</td>\n",
       "      <td>0.19</td>\n",
       "      <td>100935.99</td>\n",
       "      <td>...</td>\n",
       "      <td>0.45</td>\n",
       "      <td>0.578554</td>\n",
       "      <td>1.450000</td>\n",
       "      <td>3.45</td>\n",
       "      <td>-0.91</td>\n",
       "      <td>1.274571</td>\n",
       "      <td>11.459591</td>\n",
       "      <td>33.79</td>\n",
       "      <td>-10.14</td>\n",
       "      <td>8.366507</td>\n",
       "    </tr>\n",
       "    <tr>\n",
       "      <th>105166</th>\n",
       "      <td>16.181034</td>\n",
       "      <td>48.112373</td>\n",
       "      <td>0.000</td>\n",
       "      <td>2.51</td>\n",
       "      <td>82.91</td>\n",
       "      <td>-0.09</td>\n",
       "      <td>0.0</td>\n",
       "      <td>1.08</td>\n",
       "      <td>0.49</td>\n",
       "      <td>100932.03</td>\n",
       "      <td>...</td>\n",
       "      <td>0.65</td>\n",
       "      <td>0.499515</td>\n",
       "      <td>1.420417</td>\n",
       "      <td>3.45</td>\n",
       "      <td>-0.91</td>\n",
       "      <td>1.239458</td>\n",
       "      <td>11.459307</td>\n",
       "      <td>33.79</td>\n",
       "      <td>-10.14</td>\n",
       "      <td>8.366769</td>\n",
       "    </tr>\n",
       "    <tr>\n",
       "      <th>105167</th>\n",
       "      <td>16.181034</td>\n",
       "      <td>48.112373</td>\n",
       "      <td>0.000</td>\n",
       "      <td>1.84</td>\n",
       "      <td>84.37</td>\n",
       "      <td>-0.51</td>\n",
       "      <td>0.0</td>\n",
       "      <td>0.20</td>\n",
       "      <td>0.17</td>\n",
       "      <td>101026.68</td>\n",
       "      <td>...</td>\n",
       "      <td>1.47</td>\n",
       "      <td>0.346623</td>\n",
       "      <td>1.353333</td>\n",
       "      <td>3.12</td>\n",
       "      <td>-0.91</td>\n",
       "      <td>1.166241</td>\n",
       "      <td>11.458772</td>\n",
       "      <td>33.79</td>\n",
       "      <td>-10.14</td>\n",
       "      <td>8.367234</td>\n",
       "    </tr>\n",
       "    <tr>\n",
       "      <th>105168</th>\n",
       "      <td>16.181034</td>\n",
       "      <td>48.112373</td>\n",
       "      <td>0.000</td>\n",
       "      <td>4.47</td>\n",
       "      <td>78.51</td>\n",
       "      <td>1.07</td>\n",
       "      <td>0.0</td>\n",
       "      <td>4.03</td>\n",
       "      <td>1.66</td>\n",
       "      <td>100941.54</td>\n",
       "      <td>...</td>\n",
       "      <td>1.47</td>\n",
       "      <td>0.799808</td>\n",
       "      <td>1.409583</td>\n",
       "      <td>4.47</td>\n",
       "      <td>-0.91</td>\n",
       "      <td>1.281970</td>\n",
       "      <td>11.458508</td>\n",
       "      <td>33.79</td>\n",
       "      <td>-10.14</td>\n",
       "      <td>8.367418</td>\n",
       "    </tr>\n",
       "    <tr>\n",
       "      <th>105169</th>\n",
       "      <td>16.181034</td>\n",
       "      <td>48.112373</td>\n",
       "      <td>0.002</td>\n",
       "      <td>4.82</td>\n",
       "      <td>82.31</td>\n",
       "      <td>2.06</td>\n",
       "      <td>0.0</td>\n",
       "      <td>1.68</td>\n",
       "      <td>0.81</td>\n",
       "      <td>101031.94</td>\n",
       "      <td>...</td>\n",
       "      <td>1.47</td>\n",
       "      <td>1.107441</td>\n",
       "      <td>1.500833</td>\n",
       "      <td>4.82</td>\n",
       "      <td>-0.91</td>\n",
       "      <td>1.440727</td>\n",
       "      <td>11.458150</td>\n",
       "      <td>33.79</td>\n",
       "      <td>-10.14</td>\n",
       "      <td>8.367635</td>\n",
       "    </tr>\n",
       "  </tbody>\n",
       "</table>\n",
       "<p>105110 rows × 64 columns</p>\n",
       "</div>"
      ],
      "text/plain": [
       "        longitude   latitude     RR   T2M    RH2M  TD2M   GL    UU    VV  \\\n",
       "0       16.638773  48.334339  0.000  1.68   94.58  0.91  0.0 -1.08  1.06   \n",
       "1       16.638773  48.334339  0.000  1.17   96.23  0.64  0.0 -2.09  0.80   \n",
       "2       16.638773  48.334339  0.000  0.40   99.42  0.32  0.0  0.27  0.29   \n",
       "3       16.638773  48.334339  0.000  0.51  100.00  0.51  0.0  0.61  0.21   \n",
       "4       16.638773  48.334339  0.000  0.49  100.00  0.49  0.0  0.76  0.43   \n",
       "...           ...        ...    ...   ...     ...   ...  ...   ...   ...   \n",
       "105165  16.181034  48.112373  0.000  2.26   86.19  0.20  0.0  0.19  0.19   \n",
       "105166  16.181034  48.112373  0.000  2.51   82.91 -0.09  0.0  1.08  0.49   \n",
       "105167  16.181034  48.112373  0.000  1.84   84.37 -0.51  0.0  0.20  0.17   \n",
       "105168  16.181034  48.112373  0.000  4.47   78.51  1.07  0.0  4.03  1.66   \n",
       "105169  16.181034  48.112373  0.002  4.82   82.31  2.06  0.0  1.68  0.81   \n",
       "\n",
       "               P0  ...  12h_rolling_min  12h_rolling_std  24h_rolling_mean  \\\n",
       "0       101026.92  ...             0.40         1.448503          3.458333   \n",
       "1       100967.53  ...             0.40         1.448503          3.458333   \n",
       "2       100957.14  ...             0.40         1.448503          3.458333   \n",
       "3       100949.28  ...             0.40         1.448503          3.458333   \n",
       "4       100939.71  ...             0.40         1.448503          3.458333   \n",
       "...           ...  ...              ...              ...               ...   \n",
       "105165  100935.99  ...             0.45         0.578554          1.450000   \n",
       "105166  100932.03  ...             0.65         0.499515          1.420417   \n",
       "105167  101026.68  ...             1.47         0.346623          1.353333   \n",
       "105168  100941.54  ...             1.47         0.799808          1.409583   \n",
       "105169  101031.94  ...             1.47         1.107441          1.500833   \n",
       "\n",
       "        24h_rolling_max  24h_rolling_min  24h_rolling_std  365d_rolling_mean  \\\n",
       "0                  7.97             0.40         2.713545          12.067063   \n",
       "1                  7.97             0.40         2.713545          12.067063   \n",
       "2                  7.97             0.40         2.713545          12.067063   \n",
       "3                  7.97             0.40         2.713545          12.067063   \n",
       "4                  7.97             0.40         2.713545          12.067063   \n",
       "...                 ...              ...              ...                ...   \n",
       "105165             3.45            -0.91         1.274571          11.459591   \n",
       "105166             3.45            -0.91         1.239458          11.459307   \n",
       "105167             3.12            -0.91         1.166241          11.458772   \n",
       "105168             4.47            -0.91         1.281970          11.458508   \n",
       "105169             4.82            -0.91         1.440727          11.458150   \n",
       "\n",
       "        365d_rolling_max  365d_rolling_min  365d_rolling_std  \n",
       "0                  34.98            -13.05          9.608740  \n",
       "1                  34.98            -13.05          9.608740  \n",
       "2                  34.98            -13.05          9.608740  \n",
       "3                  34.98            -13.05          9.608740  \n",
       "4                  34.98            -13.05          9.608740  \n",
       "...                  ...               ...               ...  \n",
       "105165             33.79            -10.14          8.366507  \n",
       "105166             33.79            -10.14          8.366769  \n",
       "105167             33.79            -10.14          8.367234  \n",
       "105168             33.79            -10.14          8.367418  \n",
       "105169             33.79            -10.14          8.367635  \n",
       "\n",
       "[105110 rows x 64 columns]"
      ]
     },
     "execution_count": 183,
     "metadata": {},
     "output_type": "execute_result"
    }
   ],
   "source": [
    "df"
   ]
  },
  {
   "cell_type": "code",
   "execution_count": 184,
   "id": "4efec431-f319-4c4f-ab5b-aab12bc3d583",
   "metadata": {},
   "outputs": [
    {
     "data": {
      "text/plain": [
       "0        2018-01-01 00:00:00+00:00\n",
       "1        2018-01-01 01:00:00+00:00\n",
       "2        2018-01-01 02:00:00+00:00\n",
       "3        2018-01-01 03:00:00+00:00\n",
       "4        2018-01-01 04:00:00+00:00\n",
       "                    ...           \n",
       "105165   2023-12-31 20:00:00+00:00\n",
       "105166   2023-12-31 21:00:00+00:00\n",
       "105167   2023-12-31 22:00:00+00:00\n",
       "105168   2023-12-31 23:00:00+00:00\n",
       "105169   2024-01-01 00:00:00+00:00\n",
       "Name: time, Length: 105110, dtype: datetime64[ns, UTC]"
      ]
     },
     "execution_count": 184,
     "metadata": {},
     "output_type": "execute_result"
    }
   ],
   "source": [
    "time_index"
   ]
  },
  {
   "cell_type": "code",
   "execution_count": null,
   "id": "8b5e88f8-01cd-41f3-a5c4-ce9384cf311d",
   "metadata": {},
   "outputs": [],
   "source": []
  },
  {
   "cell_type": "code",
   "execution_count": 185,
   "id": "224e5560-99e4-4ba8-b704-1219342583c3",
   "metadata": {},
   "outputs": [],
   "source": [
    "param = 'T2M'\n",
    "sequence_length = 6\n",
    "hours_to_predict = sequence_length"
   ]
  },
  {
   "cell_type": "code",
   "execution_count": 186,
   "id": "daea4532-1016-41ce-af4f-1d88e7cfa48b",
   "metadata": {},
   "outputs": [
    {
     "name": "stdout",
     "output_type": "stream",
     "text": [
      "Number of features: 64\n"
     ]
    }
   ],
   "source": [
    "feature_count = df.shape[1]\n",
    "print(\"Number of features:\", feature_count)"
   ]
  },
  {
   "cell_type": "code",
   "execution_count": 187,
   "id": "60439a02-78ea-4b03-81fb-58c71879f005",
   "metadata": {},
   "outputs": [
    {
     "data": {
      "text/html": [
       "<div>\n",
       "<style scoped>\n",
       "    .dataframe tbody tr th:only-of-type {\n",
       "        vertical-align: middle;\n",
       "    }\n",
       "\n",
       "    .dataframe tbody tr th {\n",
       "        vertical-align: top;\n",
       "    }\n",
       "\n",
       "    .dataframe thead th {\n",
       "        text-align: right;\n",
       "    }\n",
       "</style>\n",
       "<table border=\"1\" class=\"dataframe\">\n",
       "  <thead>\n",
       "    <tr style=\"text-align: right;\">\n",
       "      <th></th>\n",
       "      <th>longitude</th>\n",
       "      <th>latitude</th>\n",
       "      <th>RR</th>\n",
       "      <th>T2M</th>\n",
       "      <th>RH2M</th>\n",
       "      <th>TD2M</th>\n",
       "      <th>GL</th>\n",
       "      <th>UU</th>\n",
       "      <th>VV</th>\n",
       "      <th>P0</th>\n",
       "      <th>...</th>\n",
       "      <th>12h_rolling_min</th>\n",
       "      <th>12h_rolling_std</th>\n",
       "      <th>24h_rolling_mean</th>\n",
       "      <th>24h_rolling_max</th>\n",
       "      <th>24h_rolling_min</th>\n",
       "      <th>24h_rolling_std</th>\n",
       "      <th>365d_rolling_mean</th>\n",
       "      <th>365d_rolling_max</th>\n",
       "      <th>365d_rolling_min</th>\n",
       "      <th>365d_rolling_std</th>\n",
       "    </tr>\n",
       "  </thead>\n",
       "  <tbody>\n",
       "    <tr>\n",
       "      <th>0</th>\n",
       "      <td>1.0</td>\n",
       "      <td>1.0</td>\n",
       "      <td>0.00000</td>\n",
       "      <td>0.336780</td>\n",
       "      <td>0.937915</td>\n",
       "      <td>0.462940</td>\n",
       "      <td>0.0</td>\n",
       "      <td>0.387728</td>\n",
       "      <td>0.561484</td>\n",
       "      <td>0.387203</td>\n",
       "      <td>...</td>\n",
       "      <td>0.360362</td>\n",
       "      <td>0.128723</td>\n",
       "      <td>0.382305</td>\n",
       "      <td>0.382353</td>\n",
       "      <td>0.410521</td>\n",
       "      <td>0.292638</td>\n",
       "      <td>0.786920</td>\n",
       "      <td>0.675545</td>\n",
       "      <td>0.261187</td>\n",
       "      <td>0.871494</td>\n",
       "    </tr>\n",
       "    <tr>\n",
       "      <th>1</th>\n",
       "      <td>1.0</td>\n",
       "      <td>1.0</td>\n",
       "      <td>0.00000</td>\n",
       "      <td>0.327015</td>\n",
       "      <td>0.956816</td>\n",
       "      <td>0.456202</td>\n",
       "      <td>0.0</td>\n",
       "      <td>0.343777</td>\n",
       "      <td>0.548272</td>\n",
       "      <td>0.377752</td>\n",
       "      <td>...</td>\n",
       "      <td>0.360362</td>\n",
       "      <td>0.128723</td>\n",
       "      <td>0.382305</td>\n",
       "      <td>0.382353</td>\n",
       "      <td>0.410521</td>\n",
       "      <td>0.292638</td>\n",
       "      <td>0.786920</td>\n",
       "      <td>0.675545</td>\n",
       "      <td>0.261187</td>\n",
       "      <td>0.871494</td>\n",
       "    </tr>\n",
       "    <tr>\n",
       "      <th>2</th>\n",
       "      <td>1.0</td>\n",
       "      <td>1.0</td>\n",
       "      <td>0.00000</td>\n",
       "      <td>0.312273</td>\n",
       "      <td>0.993356</td>\n",
       "      <td>0.448216</td>\n",
       "      <td>0.0</td>\n",
       "      <td>0.446475</td>\n",
       "      <td>0.522358</td>\n",
       "      <td>0.376098</td>\n",
       "      <td>...</td>\n",
       "      <td>0.360362</td>\n",
       "      <td>0.128723</td>\n",
       "      <td>0.382305</td>\n",
       "      <td>0.382353</td>\n",
       "      <td>0.410521</td>\n",
       "      <td>0.292638</td>\n",
       "      <td>0.786920</td>\n",
       "      <td>0.675545</td>\n",
       "      <td>0.261187</td>\n",
       "      <td>0.871494</td>\n",
       "    </tr>\n",
       "    <tr>\n",
       "      <th>3</th>\n",
       "      <td>1.0</td>\n",
       "      <td>1.0</td>\n",
       "      <td>0.00000</td>\n",
       "      <td>0.314379</td>\n",
       "      <td>1.000000</td>\n",
       "      <td>0.452957</td>\n",
       "      <td>0.0</td>\n",
       "      <td>0.461271</td>\n",
       "      <td>0.518293</td>\n",
       "      <td>0.374847</td>\n",
       "      <td>...</td>\n",
       "      <td>0.360362</td>\n",
       "      <td>0.128723</td>\n",
       "      <td>0.382305</td>\n",
       "      <td>0.382353</td>\n",
       "      <td>0.410521</td>\n",
       "      <td>0.292638</td>\n",
       "      <td>0.786920</td>\n",
       "      <td>0.675545</td>\n",
       "      <td>0.261187</td>\n",
       "      <td>0.871494</td>\n",
       "    </tr>\n",
       "    <tr>\n",
       "      <th>4</th>\n",
       "      <td>1.0</td>\n",
       "      <td>1.0</td>\n",
       "      <td>0.00000</td>\n",
       "      <td>0.313996</td>\n",
       "      <td>1.000000</td>\n",
       "      <td>0.452458</td>\n",
       "      <td>0.0</td>\n",
       "      <td>0.467798</td>\n",
       "      <td>0.529472</td>\n",
       "      <td>0.373324</td>\n",
       "      <td>...</td>\n",
       "      <td>0.360362</td>\n",
       "      <td>0.128723</td>\n",
       "      <td>0.382305</td>\n",
       "      <td>0.382353</td>\n",
       "      <td>0.410521</td>\n",
       "      <td>0.292638</td>\n",
       "      <td>0.786920</td>\n",
       "      <td>0.675545</td>\n",
       "      <td>0.261187</td>\n",
       "      <td>0.871494</td>\n",
       "    </tr>\n",
       "    <tr>\n",
       "      <th>...</th>\n",
       "      <td>...</td>\n",
       "      <td>...</td>\n",
       "      <td>...</td>\n",
       "      <td>...</td>\n",
       "      <td>...</td>\n",
       "      <td>...</td>\n",
       "      <td>...</td>\n",
       "      <td>...</td>\n",
       "      <td>...</td>\n",
       "      <td>...</td>\n",
       "      <td>...</td>\n",
       "      <td>...</td>\n",
       "      <td>...</td>\n",
       "      <td>...</td>\n",
       "      <td>...</td>\n",
       "      <td>...</td>\n",
       "      <td>...</td>\n",
       "      <td>...</td>\n",
       "      <td>...</td>\n",
       "      <td>...</td>\n",
       "      <td>...</td>\n",
       "    </tr>\n",
       "    <tr>\n",
       "      <th>105105</th>\n",
       "      <td>0.0</td>\n",
       "      <td>0.0</td>\n",
       "      <td>0.00000</td>\n",
       "      <td>0.347884</td>\n",
       "      <td>0.841810</td>\n",
       "      <td>0.445221</td>\n",
       "      <td>0.0</td>\n",
       "      <td>0.442994</td>\n",
       "      <td>0.517276</td>\n",
       "      <td>0.372732</td>\n",
       "      <td>...</td>\n",
       "      <td>0.361467</td>\n",
       "      <td>0.050081</td>\n",
       "      <td>0.334195</td>\n",
       "      <td>0.283878</td>\n",
       "      <td>0.377548</td>\n",
       "      <td>0.131346</td>\n",
       "      <td>0.569850</td>\n",
       "      <td>0.387409</td>\n",
       "      <td>0.526941</td>\n",
       "      <td>0.299839</td>\n",
       "    </tr>\n",
       "    <tr>\n",
       "      <th>105106</th>\n",
       "      <td>0.0</td>\n",
       "      <td>0.0</td>\n",
       "      <td>0.00000</td>\n",
       "      <td>0.352671</td>\n",
       "      <td>0.804238</td>\n",
       "      <td>0.437984</td>\n",
       "      <td>0.0</td>\n",
       "      <td>0.481723</td>\n",
       "      <td>0.532520</td>\n",
       "      <td>0.372102</td>\n",
       "      <td>...</td>\n",
       "      <td>0.365886</td>\n",
       "      <td>0.042937</td>\n",
       "      <td>0.333486</td>\n",
       "      <td>0.283878</td>\n",
       "      <td>0.377548</td>\n",
       "      <td>0.127411</td>\n",
       "      <td>0.569749</td>\n",
       "      <td>0.387409</td>\n",
       "      <td>0.526941</td>\n",
       "      <td>0.299959</td>\n",
       "    </tr>\n",
       "    <tr>\n",
       "      <th>105107</th>\n",
       "      <td>0.0</td>\n",
       "      <td>0.0</td>\n",
       "      <td>0.00000</td>\n",
       "      <td>0.339843</td>\n",
       "      <td>0.820962</td>\n",
       "      <td>0.427502</td>\n",
       "      <td>0.0</td>\n",
       "      <td>0.443429</td>\n",
       "      <td>0.516260</td>\n",
       "      <td>0.387165</td>\n",
       "      <td>...</td>\n",
       "      <td>0.384004</td>\n",
       "      <td>0.029115</td>\n",
       "      <td>0.331879</td>\n",
       "      <td>0.276688</td>\n",
       "      <td>0.377548</td>\n",
       "      <td>0.119204</td>\n",
       "      <td>0.569558</td>\n",
       "      <td>0.387409</td>\n",
       "      <td>0.526941</td>\n",
       "      <td>0.300173</td>\n",
       "    </tr>\n",
       "    <tr>\n",
       "      <th>105108</th>\n",
       "      <td>0.0</td>\n",
       "      <td>0.0</td>\n",
       "      <td>0.00000</td>\n",
       "      <td>0.390197</td>\n",
       "      <td>0.753837</td>\n",
       "      <td>0.466933</td>\n",
       "      <td>0.0</td>\n",
       "      <td>0.610096</td>\n",
       "      <td>0.591972</td>\n",
       "      <td>0.373615</td>\n",
       "      <td>...</td>\n",
       "      <td>0.384004</td>\n",
       "      <td>0.070082</td>\n",
       "      <td>0.333227</td>\n",
       "      <td>0.306100</td>\n",
       "      <td>0.377548</td>\n",
       "      <td>0.132176</td>\n",
       "      <td>0.569463</td>\n",
       "      <td>0.387409</td>\n",
       "      <td>0.526941</td>\n",
       "      <td>0.300258</td>\n",
       "    </tr>\n",
       "    <tr>\n",
       "      <th>105109</th>\n",
       "      <td>0.0</td>\n",
       "      <td>0.0</td>\n",
       "      <td>0.00004</td>\n",
       "      <td>0.396898</td>\n",
       "      <td>0.797365</td>\n",
       "      <td>0.491640</td>\n",
       "      <td>0.0</td>\n",
       "      <td>0.507833</td>\n",
       "      <td>0.548780</td>\n",
       "      <td>0.388002</td>\n",
       "      <td>...</td>\n",
       "      <td>0.384004</td>\n",
       "      <td>0.097892</td>\n",
       "      <td>0.335413</td>\n",
       "      <td>0.313725</td>\n",
       "      <td>0.377548</td>\n",
       "      <td>0.149970</td>\n",
       "      <td>0.569335</td>\n",
       "      <td>0.387409</td>\n",
       "      <td>0.526941</td>\n",
       "      <td>0.300358</td>\n",
       "    </tr>\n",
       "  </tbody>\n",
       "</table>\n",
       "<p>105110 rows × 64 columns</p>\n",
       "</div>"
      ],
      "text/plain": [
       "        longitude  latitude       RR       T2M      RH2M      TD2M   GL  \\\n",
       "0             1.0       1.0  0.00000  0.336780  0.937915  0.462940  0.0   \n",
       "1             1.0       1.0  0.00000  0.327015  0.956816  0.456202  0.0   \n",
       "2             1.0       1.0  0.00000  0.312273  0.993356  0.448216  0.0   \n",
       "3             1.0       1.0  0.00000  0.314379  1.000000  0.452957  0.0   \n",
       "4             1.0       1.0  0.00000  0.313996  1.000000  0.452458  0.0   \n",
       "...           ...       ...      ...       ...       ...       ...  ...   \n",
       "105105        0.0       0.0  0.00000  0.347884  0.841810  0.445221  0.0   \n",
       "105106        0.0       0.0  0.00000  0.352671  0.804238  0.437984  0.0   \n",
       "105107        0.0       0.0  0.00000  0.339843  0.820962  0.427502  0.0   \n",
       "105108        0.0       0.0  0.00000  0.390197  0.753837  0.466933  0.0   \n",
       "105109        0.0       0.0  0.00004  0.396898  0.797365  0.491640  0.0   \n",
       "\n",
       "              UU        VV        P0  ...  12h_rolling_min  12h_rolling_std  \\\n",
       "0       0.387728  0.561484  0.387203  ...         0.360362         0.128723   \n",
       "1       0.343777  0.548272  0.377752  ...         0.360362         0.128723   \n",
       "2       0.446475  0.522358  0.376098  ...         0.360362         0.128723   \n",
       "3       0.461271  0.518293  0.374847  ...         0.360362         0.128723   \n",
       "4       0.467798  0.529472  0.373324  ...         0.360362         0.128723   \n",
       "...          ...       ...       ...  ...              ...              ...   \n",
       "105105  0.442994  0.517276  0.372732  ...         0.361467         0.050081   \n",
       "105106  0.481723  0.532520  0.372102  ...         0.365886         0.042937   \n",
       "105107  0.443429  0.516260  0.387165  ...         0.384004         0.029115   \n",
       "105108  0.610096  0.591972  0.373615  ...         0.384004         0.070082   \n",
       "105109  0.507833  0.548780  0.388002  ...         0.384004         0.097892   \n",
       "\n",
       "        24h_rolling_mean  24h_rolling_max  24h_rolling_min  24h_rolling_std  \\\n",
       "0               0.382305         0.382353         0.410521         0.292638   \n",
       "1               0.382305         0.382353         0.410521         0.292638   \n",
       "2               0.382305         0.382353         0.410521         0.292638   \n",
       "3               0.382305         0.382353         0.410521         0.292638   \n",
       "4               0.382305         0.382353         0.410521         0.292638   \n",
       "...                  ...              ...              ...              ...   \n",
       "105105          0.334195         0.283878         0.377548         0.131346   \n",
       "105106          0.333486         0.283878         0.377548         0.127411   \n",
       "105107          0.331879         0.276688         0.377548         0.119204   \n",
       "105108          0.333227         0.306100         0.377548         0.132176   \n",
       "105109          0.335413         0.313725         0.377548         0.149970   \n",
       "\n",
       "        365d_rolling_mean  365d_rolling_max  365d_rolling_min  \\\n",
       "0                0.786920          0.675545          0.261187   \n",
       "1                0.786920          0.675545          0.261187   \n",
       "2                0.786920          0.675545          0.261187   \n",
       "3                0.786920          0.675545          0.261187   \n",
       "4                0.786920          0.675545          0.261187   \n",
       "...                   ...               ...               ...   \n",
       "105105           0.569850          0.387409          0.526941   \n",
       "105106           0.569749          0.387409          0.526941   \n",
       "105107           0.569558          0.387409          0.526941   \n",
       "105108           0.569463          0.387409          0.526941   \n",
       "105109           0.569335          0.387409          0.526941   \n",
       "\n",
       "        365d_rolling_std  \n",
       "0               0.871494  \n",
       "1               0.871494  \n",
       "2               0.871494  \n",
       "3               0.871494  \n",
       "4               0.871494  \n",
       "...                  ...  \n",
       "105105          0.299839  \n",
       "105106          0.299959  \n",
       "105107          0.300173  \n",
       "105108          0.300258  \n",
       "105109          0.300358  \n",
       "\n",
       "[105110 rows x 64 columns]"
      ]
     },
     "execution_count": 187,
     "metadata": {},
     "output_type": "execute_result"
    }
   ],
   "source": [
    "scaler = MinMaxScaler()\n",
    "# fit transform scaler\n",
    "df_scaled = scaler.fit_transform(df)\n",
    "df_scaled = pd.DataFrame(df_scaled, columns=df.columns)\n",
    "df_scaled"
   ]
  },
  {
   "cell_type": "code",
   "execution_count": 188,
   "id": "fe5d2479-834b-4035-8595-68880c095fbf",
   "metadata": {},
   "outputs": [],
   "source": [
    "validation_split=0.2\n",
    "train_idx = int(len(df_scaled) * (1 - validation_split))\n",
    "\n",
    "train_df = df_scaled.iloc[:train_idx]\n",
    "test_df = df_scaled.iloc[train_idx:]\n",
    "\n",
    "X_train, y_train = create_sequences(train_df, param, sequence_length, feature_count, hours_to_predict)\n",
    "X_test, y_test = create_sequences(test_df, param, sequence_length, feature_count, hours_to_predict)"
   ]
  },
  {
   "cell_type": "code",
   "execution_count": 189,
   "id": "d6c1bfea-6e28-4efa-95f2-3ee1e772e80a",
   "metadata": {},
   "outputs": [],
   "source": [
    "# Reshape for ConvLSTM\n",
    "X_train = X_train.reshape((X_train.shape[0], sequence_length, X_train.shape[2]))\n",
    "X_test = X_test.reshape((X_test.shape[0], sequence_length, X_test.shape[2]))\n",
    "\n",
    "X_copy, y_copy = X_test.copy(), y_test.copy()"
   ]
  },
  {
   "cell_type": "code",
   "execution_count": 190,
   "id": "b0522e58-f230-4311-88b1-89d15a47095e",
   "metadata": {},
   "outputs": [
    {
     "name": "stderr",
     "output_type": "stream",
     "text": [
      "/home/yjess/anaconda3/lib/python3.11/site-packages/keras/src/layers/rnn/rnn.py:204: UserWarning:\n",
      "\n",
      "Do not pass an `input_shape`/`input_dim` argument to a layer. When using Sequential models, prefer using an `Input(shape)` object as the first layer in the model instead.\n",
      "\n"
     ]
    }
   ],
   "source": [
    "model = Sequential([\n",
    "    LSTM(units=64, activation='relu', input_shape=(sequence_length, feature_count)),\n",
    "    Dense(50, activation='relu'),\n",
    "    Dense(hours_to_predict)\n",
    "])\n",
    "\n",
    "optimizer = Adam(learning_rate=0.001, clipvalue=1.0)\n",
    "model.compile(optimizer=optimizer, loss='mse')\n"
   ]
  },
  {
   "cell_type": "code",
   "execution_count": 191,
   "id": "5caf2a3d-cd08-463b-9f9d-abb7ccab0131",
   "metadata": {},
   "outputs": [
    {
     "name": "stdout",
     "output_type": "stream",
     "text": [
      "Epoch 1/3\n",
      "\u001b[1m2628/2628\u001b[0m \u001b[32m━━━━━━━━━━━━━━━━━━━━\u001b[0m\u001b[37m\u001b[0m \u001b[1m0s\u001b[0m 4ms/step - loss: 0.0061\n",
      "Epoch 1: val_loss improved from inf to 0.00119, saving model to checkpoints/model_epoch_01_val_loss_0.00.weights.h5\n",
      "\u001b[1m2628/2628\u001b[0m \u001b[32m━━━━━━━━━━━━━━━━━━━━\u001b[0m\u001b[37m\u001b[0m \u001b[1m13s\u001b[0m 4ms/step - loss: 0.0061 - val_loss: 0.0012\n",
      "Epoch 2/3\n",
      "\u001b[1m2618/2628\u001b[0m \u001b[32m━━━━━━━━━━━━━━━━━━━\u001b[0m\u001b[37m━\u001b[0m \u001b[1m0s\u001b[0m 4ms/step - loss: 8.1690e-04\n",
      "Epoch 2: val_loss improved from 0.00119 to 0.00079, saving model to checkpoints/model_epoch_02_val_loss_0.00.weights.h5\n",
      "\u001b[1m2628/2628\u001b[0m \u001b[32m━━━━━━━━━━━━━━━━━━━━\u001b[0m\u001b[37m\u001b[0m \u001b[1m11s\u001b[0m 4ms/step - loss: 8.1681e-04 - val_loss: 7.9186e-04\n",
      "Epoch 3/3\n",
      "\u001b[1m2625/2628\u001b[0m \u001b[32m━━━━━━━━━━━━━━━━━━━\u001b[0m\u001b[37m━\u001b[0m \u001b[1m0s\u001b[0m 4ms/step - loss: 7.5242e-04\n",
      "Epoch 3: val_loss did not improve from 0.00079\n",
      "\u001b[1m2628/2628\u001b[0m \u001b[32m━━━━━━━━━━━━━━━━━━━━\u001b[0m\u001b[37m\u001b[0m \u001b[1m11s\u001b[0m 4ms/step - loss: 7.5238e-04 - val_loss: 0.0010\n"
     ]
    }
   ],
   "source": [
    "epochs=3\n",
    "batch_size=32\n",
    "\n",
    "checkpoint_path = \"checkpoints/model_epoch_{epoch:02d}_val_loss_{val_loss:.2f}.weights.h5\"\n",
    "checkpoint = ModelCheckpoint(\n",
    "    filepath=checkpoint_path, save_weights_only=True,\n",
    "    monitor='val_loss', mode='min', save_best_only=True, verbose=1\n",
    ")\n",
    "\n",
    "history = model.fit(X_train, y_train, epochs=epochs, batch_size=batch_size,\n",
    "           validation_data=(X_test, y_test), callbacks=[checkpoint])\n"
   ]
  },
  {
   "cell_type": "code",
   "execution_count": 192,
   "id": "b5d9fe34-8a3b-4aff-8bd1-b1f92f4da2ca",
   "metadata": {},
   "outputs": [
    {
     "data": {
      "text/plain": [
       "['model_folder20240510_182520/scaler.pkl']"
      ]
     },
     "execution_count": 192,
     "metadata": {},
     "output_type": "execute_result"
    }
   ],
   "source": [
    "formatted_date_time = datetime.now().strftime(\"%Y%m%d_%H%M%S\")\n",
    "model_folder_name = f\"model_folder{formatted_date_time}\"\n",
    "os.makedirs(model_folder_name, exist_ok=True)\n",
    "model.save(os.path.join(model_folder_name, 'model.keras'))\n",
    "joblib.dump(scaler, os.path.join(model_folder_name, 'scaler.pkl'))\n"
   ]
  },
  {
   "cell_type": "code",
   "execution_count": 193,
   "id": "60842a16-2834-4eba-86c4-537dba258a46",
   "metadata": {},
   "outputs": [],
   "source": [
    "loaded_model = tf.keras.models.load_model(os.path.join(model_folder_name, 'model.keras'))\n",
    "loaded_scaler = joblib.load(os.path.join(model_folder_name, 'scaler.pkl'))\n"
   ]
  },
  {
   "cell_type": "code",
   "execution_count": 194,
   "id": "731ff343-9c0e-4143-a020-70c845670182",
   "metadata": {},
   "outputs": [],
   "source": [
    "#model_folder_name = \"model_folder20240507_145010\"\n",
    "model = tf.keras.models.load_model(os.path.join(model_folder_name, 'model.keras'))\n",
    "scaler = joblib.load(os.path.join(model_folder_name, 'scaler.pkl'))\n"
   ]
  },
  {
   "cell_type": "code",
   "execution_count": 195,
   "id": "2807e93e-3187-494a-9548-3e6656ce5d38",
   "metadata": {},
   "outputs": [],
   "source": [
    "def evaluate_temperature_forecast(actual, predicted):\n",
    "    mse = np.mean((actual - predicted) ** 2)\n",
    "    mae = np.mean(np.abs(actual - predicted))\n",
    "    rmse = np.sqrt(mse)\n",
    "    mbe = np.mean(predicted - actual)\n",
    "    correlation = np.corrcoef(actual, predicted)[0, 1]\n",
    "    explained_variance = explained_variance_score(actual, predicted)\n",
    "    r2 = r2_score(actual, predicted)\n",
    "    weights = np.where(actual >= 1.0, 2, 1)  \n",
    "    b_mse = np.mean(weights * (actual - predicted) ** 2)\n",
    "    b_mae = np.mean(weights * np.abs(actual - predicted))\n",
    "\n",
    "    return {\n",
    "        \"MSE\": mse,  # Mean Squared Error: Lower is better. Good < 0.5, Poor > 1.\n",
    "        \"MAE\": mae,  # Mean Absolute Error: Lower is better. Good < 0.3, Poor > 0.6.\n",
    "        \"RMSE\": rmse,  # Root Mean Square Error: Lower is better.\n",
    "        \"MBE\": mbe,  # Mean Bias Error: Closer to 0 is better. Positive indicates overestimation; negative indicates underestimation.\n",
    "        \"Correlation\": correlation,  # Closer to 1 is better. Indicates strength and direction of the linear relationship between predicted and actual values.\n",
    "        \"Explained Variance\": explained_variance,  # Closer to 1 is better. \n",
    "        \"R² Score\": r2,  # Coefficient of Determination: Closer to 1 is better. Values > 0.7 are typically considered good, < 0.5 could be seen as poor.\n",
    "        \"B-MSE\": b_mse,  # Balanced Mean Squared Error: Lower is better. Provides a weighted measure of MSE where significant errors have more influence.\n",
    "        \"B-MAE\": b_mae  # Balanced Mean Absolute Error: Lower is better. Like B-MSE, it weights significant errors more heavily.\n",
    "    }"
   ]
  },
  {
   "cell_type": "code",
   "execution_count": 196,
   "id": "d4c717ce-91c7-41f5-a615-0177b05fd35a",
   "metadata": {},
   "outputs": [
    {
     "name": "stdout",
     "output_type": "stream",
     "text": [
      "\u001b[1m657/657\u001b[0m \u001b[32m━━━━━━━━━━━━━━━━━━━━\u001b[0m\u001b[37m\u001b[0m \u001b[1m2s\u001b[0m 2ms/step\n"
     ]
    },
    {
     "data": {
      "image/png": "[encoded data removed]",
      "text/plain": [
       "<Figure size 1500x600 with 2 Axes>"
      ]
     },
     "metadata": {},
     "output_type": "display_data"
    },
    {
     "name": "stdout",
     "output_type": "stream",
     "text": [
      "MSE: 0.0010349388534354005\n",
      "MAE: 0.02522839789635805\n",
      "RMSE: 0.03217046554582946\n",
      "MBE: 0.019262608602615045\n",
      "Correlation: 0.9869699299488475\n",
      "Explained Variance: 0.9734706334007506\n",
      "R² Score: 0.9586433886866259\n",
      "B-MSE: 0.0010349388534354005\n",
      "B-MAE: 0.02522839789635805\n"
     ]
    }
   ],
   "source": [
    "y_pred = model.predict(X_test).flatten()\n",
    "y_test = y_test.flatten()\n",
    "\n",
    "# make this a function\n",
    "dummy_array = np.zeros((y_pred.shape[0], feature_count))\n",
    "dummy_array[:, 3] = y_pred.squeeze() \n",
    "test_dummy_array = np.zeros((y_test.shape[0], feature_count))\n",
    "test_dummy_array[:, 3] = y_test.squeeze()  \n",
    "test_y = scaler.inverse_transform(test_dummy_array)[:, 3]\n",
    "predictions_y = scaler.inverse_transform(dummy_array)[:, 3]\n",
    "\n",
    "plt.figure(figsize=(15, 6))\n",
    "plt.subplot(1, 2, 1)\n",
    "plt.plot(y_test, label='Actual', linestyle='-')\n",
    "plt.plot(y_pred, label='Predicted', linestyle='--')\n",
    "plt.title('Detailed View of Predictions vs. Actual')\n",
    "plt.xlabel('Time')\n",
    "plt.ylabel('Value')\n",
    "plt.legend()\n",
    "\n",
    "# Scatter plot of the actual vs predicted\n",
    "plt.subplot(1, 2, 2)\n",
    "plt.scatter(y_test, y_pred, alpha=0.6)\n",
    "plt.title('Prediction vs Actual')\n",
    "plt.xlabel('Actual Values')\n",
    "plt.ylabel('Predicted Values')\n",
    "plt.plot([min(y_test), max(y_test)], [min(y_test), max(y_test)], 'r--') \n",
    "\n",
    "plt.tight_layout()\n",
    "plt.show()\n",
    "\n",
    "metrics = evaluate_temperature_forecast(y_test, y_pred)\n",
    "for key, value in metrics.items():\n",
    "    print(f\"{key}: {value}\")"
   ]
  },
  {
   "cell_type": "code",
   "execution_count": 197,
   "id": "e7123e7f-d09d-44bd-b0e4-6ef955552101",
   "metadata": {},
   "outputs": [
    {
     "name": "stdout",
     "output_type": "stream",
     "text": [
      "https://dataset.api.hub.geosphere.at/v1/timeseries/historical/inca-v1-1h-1km?parameters=RR&parameters=GL&parameters=P0&parameters=T2M&parameters=TD2M&parameters=RH2M&parameters=UU&parameters=VV&start=2024-05-06T07%3A00&end=2024-05-09T08%3A00&lat_lon=48.333056%2C16.631944&output_format=geojson&filename=INCA_timeseries_all_parameters_2024_2024_48.333056%2C16.631944\n",
      "Fetched data successfully\n",
      "No outliers detected.\n",
      "https://dataset.api.hub.geosphere.at/v1/timeseries/historical/inca-v1-1h-1km?parameters=RR&parameters=GL&parameters=P0&parameters=T2M&parameters=TD2M&parameters=RH2M&parameters=UU&parameters=VV&start=2024-05-09T08%3A00&end=2024-05-10T08%3A00&lat_lon=48.333056%2C16.631944&output_format=geojson&filename=INCA_timeseries_all_parameters_2024_2024_48.333056%2C16.631944\n"
     ]
    },
    {
     "name": "stderr",
     "output_type": "stream",
     "text": [
      "/tmp/ipykernel_33216/3674317405.py:20: FutureWarning:\n",
      "\n",
      "DataFrame.fillna with 'method' is deprecated and will raise in a future version. Use obj.ffill() or obj.bfill() instead.\n",
      "\n",
      "/tmp/ipykernel_33216/3674317405.py:21: FutureWarning:\n",
      "\n",
      "DataFrame.fillna with 'method' is deprecated and will raise in a future version. Use obj.ffill() or obj.bfill() instead.\n",
      "\n"
     ]
    },
    {
     "name": "stdout",
     "output_type": "stream",
     "text": [
      "Fetched data successfully\n",
      "\u001b[1m1/1\u001b[0m \u001b[32m━━━━━━━━━━━━━━━━━━━━\u001b[0m\u001b[37m\u001b[0m \u001b[1m0s\u001b[0m 16ms/step\n",
      "No outliers detected.\n"
     ]
    },
    {
     "name": "stderr",
     "output_type": "stream",
     "text": [
      "/tmp/ipykernel_33216/3674317405.py:20: FutureWarning:\n",
      "\n",
      "DataFrame.fillna with 'method' is deprecated and will raise in a future version. Use obj.ffill() or obj.bfill() instead.\n",
      "\n",
      "/tmp/ipykernel_33216/3674317405.py:21: FutureWarning:\n",
      "\n",
      "DataFrame.fillna with 'method' is deprecated and will raise in a future version. Use obj.ffill() or obj.bfill() instead.\n",
      "\n"
     ]
    },
    {
     "data": {
      "application/vnd.plotly.v1+json": {
       "config": {
        "plotlyServerURL": "https://plot.ly"
       },
       "data": [
        {
         "line": {
          "color": "blue"
         },
         "mode": "lines",
         "name": "Original T2M",
         "type": "scatter",
         "x": [
          "2024-05-06T07:00:00+00:00",
          "2024-05-06T08:00:00+00:00",
          "2024-05-06T09:00:00+00:00",
          "2024-05-06T10:00:00+00:00",
          "2024-05-06T11:00:00+00:00",
          "2024-05-06T12:00:00+00:00",
          "2024-05-06T13:00:00+00:00",
          "2024-05-06T14:00:00+00:00",
          "2024-05-06T15:00:00+00:00",
          "2024-05-06T16:00:00+00:00",
          "2024-05-06T17:00:00+00:00",
          "2024-05-06T18:00:00+00:00",
          "2024-05-06T19:00:00+00:00",
          "2024-05-06T20:00:00+00:00",
          "2024-05-06T21:00:00+00:00",
          "2024-05-06T22:00:00+00:00",
          "2024-05-06T23:00:00+00:00",
          "2024-05-07T00:00:00+00:00",
          "2024-05-07T01:00:00+00:00",
          "2024-05-07T02:00:00+00:00",
          "2024-05-07T03:00:00+00:00",
          "2024-05-07T04:00:00+00:00",
          "2024-05-07T05:00:00+00:00",
          "2024-05-07T06:00:00+00:00",
          "2024-05-07T07:00:00+00:00",
          "2024-05-07T08:00:00+00:00",
          "2024-05-07T09:00:00+00:00",
          "2024-05-07T10:00:00+00:00",
          "2024-05-07T11:00:00+00:00",
          "2024-05-07T12:00:00+00:00",
          "2024-05-07T13:00:00+00:00",
          "2024-05-07T14:00:00+00:00",
          "2024-05-07T15:00:00+00:00",
          "2024-05-07T16:00:00+00:00",
          "2024-05-07T17:00:00+00:00",
          "2024-05-07T18:00:00+00:00",
          "2024-05-07T19:00:00+00:00",
          "2024-05-07T20:00:00+00:00",
          "2024-05-07T21:00:00+00:00",
          "2024-05-07T22:00:00+00:00",
          "2024-05-07T23:00:00+00:00",
          "2024-05-08T00:00:00+00:00",
          "2024-05-08T01:00:00+00:00",
          "2024-05-08T02:00:00+00:00",
          "2024-05-08T03:00:00+00:00",
          "2024-05-08T04:00:00+00:00",
          "2024-05-08T05:00:00+00:00",
          "2024-05-08T06:00:00+00:00",
          "2024-05-08T07:00:00+00:00",
          "2024-05-08T08:00:00+00:00",
          "2024-05-08T09:00:00+00:00",
          "2024-05-08T10:00:00+00:00",
          "2024-05-08T11:00:00+00:00",
          "2024-05-08T12:00:00+00:00",
          "2024-05-08T13:00:00+00:00",
          "2024-05-08T14:00:00+00:00",
          "2024-05-08T15:00:00+00:00",
          "2024-05-08T16:00:00+00:00",
          "2024-05-08T17:00:00+00:00",
          "2024-05-08T18:00:00+00:00",
          "2024-05-08T19:00:00+00:00",
          "2024-05-08T20:00:00+00:00",
          "2024-05-08T21:00:00+00:00",
          "2024-05-08T22:00:00+00:00",
          "2024-05-08T23:00:00+00:00",
          "2024-05-09T00:00:00+00:00",
          "2024-05-09T01:00:00+00:00",
          "2024-05-09T02:00:00+00:00",
          "2024-05-09T03:00:00+00:00",
          "2024-05-09T04:00:00+00:00",
          "2024-05-09T05:00:00+00:00",
          "2024-05-09T06:00:00+00:00",
          "2024-05-09T07:00:00+00:00",
          "2024-05-09T08:00:00+00:00"
         ],
         "y": [
          18.55,
          20.99,
          22.12,
          22.94,
          23.76,
          24.47,
          24.94,
          24.95,
          23.17,
          21.73,
          20.44,
          18.5,
          17.06,
          14.69,
          14.72,
          14.92,
          14.72,
          14.15,
          13.29,
          13.04,
          13.04,
          13.19,
          13.55,
          14.05,
          14.81,
          15.61,
          17.27,
          16.82,
          17.08,
          17.05,
          17.71,
          17.02,
          16.89,
          16.17,
          15.78,
          15.2,
          14.6,
          14.46,
          14.12,
          13.65,
          13.23,
          13.13,
          12.74,
          12.21,
          11.55,
          11.43,
          11.52,
          11.77,
          11.89,
          12.14,
          12.07,
          12.44,
          12.77,
          14.73,
          16.6,
          17.54,
          17.59,
          17.1,
          16.44,
          14.77,
          12.51,
          12.13,
          11.59,
          10.61,
          9.98,
          9.97,
          9.47,
          9.16,
          8.61,
          9.36,
          10.59,
          12.57,
          14.91,
          16.63
         ]
        },
        {
         "line": {
          "color": "red",
          "dash": "dash"
         },
         "mode": "lines+markers",
         "name": "Predicted T2M",
         "type": "scatter",
         "x": [
          "2024-05-09T09:00:00+00:00",
          "2024-05-09T10:00:00+00:00",
          "2024-05-09T11:00:00+00:00",
          "2024-05-09T12:00:00+00:00",
          "2024-05-09T13:00:00+00:00",
          "2024-05-09T14:00:00+00:00"
         ],
         "y": [
          19.243201546072967,
          20.060397351384168,
          22.23772242605687,
          21.682031270861632,
          21.730658683180817,
          21.88579320371152
         ]
        },
        {
         "line": {
          "color": "green"
         },
         "mode": "lines",
         "name": "Actual T2M",
         "type": "scatter",
         "x": [
          "2024-05-09T08:00:00+00:00",
          "2024-05-09T09:00:00+00:00",
          "2024-05-09T10:00:00+00:00",
          "2024-05-09T11:00:00+00:00",
          "2024-05-09T12:00:00+00:00",
          "2024-05-09T13:00:00+00:00",
          "2024-05-09T14:00:00+00:00",
          "2024-05-09T15:00:00+00:00",
          "2024-05-09T16:00:00+00:00",
          "2024-05-09T17:00:00+00:00",
          "2024-05-09T18:00:00+00:00",
          "2024-05-09T19:00:00+00:00",
          "2024-05-09T20:00:00+00:00",
          "2024-05-09T21:00:00+00:00",
          "2024-05-09T22:00:00+00:00",
          "2024-05-09T23:00:00+00:00",
          "2024-05-10T00:00:00+00:00",
          "2024-05-10T01:00:00+00:00",
          "2024-05-10T02:00:00+00:00",
          "2024-05-10T03:00:00+00:00",
          "2024-05-10T04:00:00+00:00",
          "2024-05-10T05:00:00+00:00",
          "2024-05-10T06:00:00+00:00",
          "2024-05-10T07:00:00+00:00",
          "2024-05-10T08:00:00+00:00"
         ],
         "y": [
          16.63,
          18.28,
          19.27,
          19.87,
          20.37,
          21,
          21.27,
          21.39,
          20.71,
          19.89,
          17.44,
          14.79,
          12.3,
          10.87,
          10.21,
          9.93,
          9.33,
          7.85,
          7.4,
          7.01,
          7.03,
          9.62,
          12.87,
          15.47,
          17.95
         ]
        }
       ],
       "layout": {
        "autosize": true,
        "hovermode": "x unified",
        "template": {
         "data": {
          "bar": [
           {
            "error_x": {
             "color": "#2a3f5f"
            },
            "error_y": {
             "color": "#2a3f5f"
            },
            "marker": {
             "line": {
              "color": "#E5ECF6",
              "width": 0.5
             },
             "pattern": {
              "fillmode": "overlay",
              "size": 10,
              "solidity": 0.2
             }
            },
            "type": "bar"
           }
          ],
          "barpolar": [
           {
            "marker": {
             "line": {
              "color": "#E5ECF6",
              "width": 0.5
             },
             "pattern": {
              "fillmode": "overlay",
              "size": 10,
              "solidity": 0.2
             }
            },
            "type": "barpolar"
           }
          ],
          "carpet": [
           {
            "aaxis": {
             "endlinecolor": "#2a3f5f",
             "gridcolor": "white",
             "linecolor": "white",
             "minorgridcolor": "white",
             "startlinecolor": "#2a3f5f"
            },
            "baxis": {
             "endlinecolor": "#2a3f5f",
             "gridcolor": "white",
             "linecolor": "white",
             "minorgridcolor": "white",
             "startlinecolor": "#2a3f5f"
            },
            "type": "carpet"
           }
          ],
          "choropleth": [
           {
            "colorbar": {
             "outlinewidth": 0,
             "ticks": ""
            },
            "type": "choropleth"
           }
          ],
          "contour": [
           {
            "colorbar": {
             "outlinewidth": 0,
             "ticks": ""
            },
            "colorscale": [
             [
              0,
              "#0d0887"
             ],
             [
              0.1111111111111111,
              "#46039f"
             ],
             [
              0.2222222222222222,
              "#7201a8"
             ],
             [
              0.3333333333333333,
              "#9c179e"
             ],
             [
              0.4444444444444444,
              "#bd3786"
             ],
             [
              0.5555555555555556,
              "#d8576b"
             ],
             [
              0.6666666666666666,
              "#ed7953"
             ],
             [
              0.7777777777777778,
              "#fb9f3a"
             ],
             [
              0.8888888888888888,
              "#fdca26"
             ],
             [
              1,
              "#f0f921"
             ]
            ],
            "type": "contour"
           }
          ],
          "contourcarpet": [
           {
            "colorbar": {
             "outlinewidth": 0,
             "ticks": ""
            },
            "type": "contourcarpet"
           }
          ],
          "heatmap": [
           {
            "colorbar": {
             "outlinewidth": 0,
             "ticks": ""
            },
            "colorscale": [
             [
              0,
              "#0d0887"
             ],
             [
              0.1111111111111111,
              "#46039f"
             ],
             [
              0.2222222222222222,
              "#7201a8"
             ],
             [
              0.3333333333333333,
              "#9c179e"
             ],
             [
              0.4444444444444444,
              "#bd3786"
             ],
             [
              0.5555555555555556,
              "#d8576b"
             ],
             [
              0.6666666666666666,
              "#ed7953"
             ],
             [
              0.7777777777777778,
              "#fb9f3a"
             ],
             [
              0.8888888888888888,
              "#fdca26"
             ],
             [
              1,
              "#f0f921"
             ]
            ],
            "type": "heatmap"
           }
          ],
          "heatmapgl": [
           {
            "colorbar": {
             "outlinewidth": 0,
             "ticks": ""
            },
            "colorscale": [
             [
              0,
              "#0d0887"
             ],
             [
              0.1111111111111111,
              "#46039f"
             ],
             [
              0.2222222222222222,
              "#7201a8"
             ],
             [
              0.3333333333333333,
              "#9c179e"
             ],
             [
              0.4444444444444444,
              "#bd3786"
             ],
             [
              0.5555555555555556,
              "#d8576b"
             ],
             [
              0.6666666666666666,
              "#ed7953"
             ],
             [
              0.7777777777777778,
              "#fb9f3a"
             ],
             [
              0.8888888888888888,
              "#fdca26"
             ],
             [
              1,
              "#f0f921"
             ]
            ],
            "type": "heatmapgl"
           }
          ],
          "histogram": [
           {
            "marker": {
             "pattern": {
              "fillmode": "overlay",
              "size": 10,
              "solidity": 0.2
             }
            },
            "type": "histogram"
           }
          ],
          "histogram2d": [
           {
            "colorbar": {
             "outlinewidth": 0,
             "ticks": ""
            },
            "colorscale": [
             [
              0,
              "#0d0887"
             ],
             [
              0.1111111111111111,
              "#46039f"
             ],
             [
              0.2222222222222222,
              "#7201a8"
             ],
             [
              0.3333333333333333,
              "#9c179e"
             ],
             [
              0.4444444444444444,
              "#bd3786"
             ],
             [
              0.5555555555555556,
              "#d8576b"
             ],
             [
              0.6666666666666666,
              "#ed7953"
             ],
             [
              0.7777777777777778,
              "#fb9f3a"
             ],
             [
              0.8888888888888888,
              "#fdca26"
             ],
             [
              1,
              "#f0f921"
             ]
            ],
            "type": "histogram2d"
           }
          ],
          "histogram2dcontour": [
           {
            "colorbar": {
             "outlinewidth": 0,
             "ticks": ""
            },
            "colorscale": [
             [
              0,
              "#0d0887"
             ],
             [
              0.1111111111111111,
              "#46039f"
             ],
             [
              0.2222222222222222,
              "#7201a8"
             ],
             [
              0.3333333333333333,
              "#9c179e"
             ],
             [
              0.4444444444444444,
              "#bd3786"
             ],
             [
              0.5555555555555556,
              "#d8576b"
             ],
             [
              0.6666666666666666,
              "#ed7953"
             ],
             [
              0.7777777777777778,
              "#fb9f3a"
             ],
             [
              0.8888888888888888,
              "#fdca26"
             ],
             [
              1,
              "#f0f921"
             ]
            ],
            "type": "histogram2dcontour"
           }
          ],
          "mesh3d": [
           {
            "colorbar": {
             "outlinewidth": 0,
             "ticks": ""
            },
            "type": "mesh3d"
           }
          ],
          "parcoords": [
           {
            "line": {
             "colorbar": {
              "outlinewidth": 0,
              "ticks": ""
             }
            },
            "type": "parcoords"
           }
          ],
          "pie": [
           {
            "automargin": true,
            "type": "pie"
           }
          ],
          "scatter": [
           {
            "fillpattern": {
             "fillmode": "overlay",
             "size": 10,
             "solidity": 0.2
            },
            "type": "scatter"
           }
          ],
          "scatter3d": [
           {
            "line": {
             "colorbar": {
              "outlinewidth": 0,
              "ticks": ""
             }
            },
            "marker": {
             "colorbar": {
              "outlinewidth": 0,
              "ticks": ""
             }
            },
            "type": "scatter3d"
           }
          ],
          "scattercarpet": [
           {
            "marker": {
             "colorbar": {
              "outlinewidth": 0,
              "ticks": ""
             }
            },
            "type": "scattercarpet"
           }
          ],
          "scattergeo": [
           {
            "marker": {
             "colorbar": {
              "outlinewidth": 0,
              "ticks": ""
             }
            },
            "type": "scattergeo"
           }
          ],
          "scattergl": [
           {
            "marker": {
             "colorbar": {
              "outlinewidth": 0,
              "ticks": ""
             }
            },
            "type": "scattergl"
           }
          ],
          "scattermapbox": [
           {
            "marker": {
             "colorbar": {
              "outlinewidth": 0,
              "ticks": ""
             }
            },
            "type": "scattermapbox"
           }
          ],
          "scatterpolar": [
           {
            "marker": {
             "colorbar": {
              "outlinewidth": 0,
              "ticks": ""
             }
            },
            "type": "scatterpolar"
           }
          ],
          "scatterpolargl": [
           {
            "marker": {
             "colorbar": {
              "outlinewidth": 0,
              "ticks": ""
             }
            },
            "type": "scatterpolargl"
           }
          ],
          "scatterternary": [
           {
            "marker": {
             "colorbar": {
              "outlinewidth": 0,
              "ticks": ""
             }
            },
            "type": "scatterternary"
           }
          ],
          "surface": [
           {
            "colorbar": {
             "outlinewidth": 0,
             "ticks": ""
            },
            "colorscale": [
             [
              0,
              "#0d0887"
             ],
             [
              0.1111111111111111,
              "#46039f"
             ],
             [
              0.2222222222222222,
              "#7201a8"
             ],
             [
              0.3333333333333333,
              "#9c179e"
             ],
             [
              0.4444444444444444,
              "#bd3786"
             ],
             [
              0.5555555555555556,
              "#d8576b"
             ],
             [
              0.6666666666666666,
              "#ed7953"
             ],
             [
              0.7777777777777778,
              "#fb9f3a"
             ],
             [
              0.8888888888888888,
              "#fdca26"
             ],
             [
              1,
              "#f0f921"
             ]
            ],
            "type": "surface"
           }
          ],
          "table": [
           {
            "cells": {
             "fill": {
              "color": "#EBF0F8"
             },
             "line": {
              "color": "white"
             }
            },
            "header": {
             "fill": {
              "color": "#C8D4E3"
             },
             "line": {
              "color": "white"
             }
            },
            "type": "table"
           }
          ]
         },
         "layout": {
          "annotationdefaults": {
           "arrowcolor": "#2a3f5f",
           "arrowhead": 0,
           "arrowwidth": 1
          },
          "autotypenumbers": "strict",
          "coloraxis": {
           "colorbar": {
            "outlinewidth": 0,
            "ticks": ""
           }
          },
          "colorscale": {
           "diverging": [
            [
             0,
             "#8e0152"
            ],
            [
             0.1,
             "#c51b7d"
            ],
            [
             0.2,
             "#de77ae"
            ],
            [
             0.3,
             "#f1b6da"
            ],
            [
             0.4,
             "#fde0ef"
            ],
            [
             0.5,
             "#f7f7f7"
            ],
            [
             0.6,
             "#e6f5d0"
            ],
            [
             0.7,
             "#b8e186"
            ],
            [
             0.8,
             "#7fbc41"
            ],
            [
             0.9,
             "#4d9221"
            ],
            [
             1,
             "#276419"
            ]
           ],
           "sequential": [
            [
             0,
             "#0d0887"
            ],
            [
             0.1111111111111111,
             "#46039f"
            ],
            [
             0.2222222222222222,
             "#7201a8"
            ],
            [
             0.3333333333333333,
             "#9c179e"
            ],
            [
             0.4444444444444444,
             "#bd3786"
            ],
            [
             0.5555555555555556,
             "#d8576b"
            ],
            [
             0.6666666666666666,
             "#ed7953"
            ],
            [
             0.7777777777777778,
             "#fb9f3a"
            ],
            [
             0.8888888888888888,
             "#fdca26"
            ],
            [
             1,
             "#f0f921"
            ]
           ],
           "sequentialminus": [
            [
             0,
             "#0d0887"
            ],
            [
             0.1111111111111111,
             "#46039f"
            ],
            [
             0.2222222222222222,
             "#7201a8"
            ],
            [
             0.3333333333333333,
             "#9c179e"
            ],
            [
             0.4444444444444444,
             "#bd3786"
            ],
            [
             0.5555555555555556,
             "#d8576b"
            ],
            [
             0.6666666666666666,
             "#ed7953"
            ],
            [
             0.7777777777777778,
             "#fb9f3a"
            ],
            [
             0.8888888888888888,
             "#fdca26"
            ],
            [
             1,
             "#f0f921"
            ]
           ]
          },
          "colorway": [
           "#636efa",
           "#EF553B",
           "#00cc96",
           "#ab63fa",
           "#FFA15A",
           "#19d3f3",
           "#FF6692",
           "#B6E880",
           "#FF97FF",
           "#FECB52"
          ],
          "font": {
           "color": "#2a3f5f"
          },
          "geo": {
           "bgcolor": "white",
           "lakecolor": "white",
           "landcolor": "#E5ECF6",
           "showlakes": true,
           "showland": true,
           "subunitcolor": "white"
          },
          "hoverlabel": {
           "align": "left"
          },
          "hovermode": "closest",
          "mapbox": {
           "style": "light"
          },
          "paper_bgcolor": "white",
          "plot_bgcolor": "#E5ECF6",
          "polar": {
           "angularaxis": {
            "gridcolor": "white",
            "linecolor": "white",
            "ticks": ""
           },
           "bgcolor": "#E5ECF6",
           "radialaxis": {
            "gridcolor": "white",
            "linecolor": "white",
            "ticks": ""
           }
          },
          "scene": {
           "xaxis": {
            "backgroundcolor": "#E5ECF6",
            "gridcolor": "white",
            "gridwidth": 2,
            "linecolor": "white",
            "showbackground": true,
            "ticks": "",
            "zerolinecolor": "white"
           },
           "yaxis": {
            "backgroundcolor": "#E5ECF6",
            "gridcolor": "white",
            "gridwidth": 2,
            "linecolor": "white",
            "showbackground": true,
            "ticks": "",
            "zerolinecolor": "white"
           },
           "zaxis": {
            "backgroundcolor": "#E5ECF6",
            "gridcolor": "white",
            "gridwidth": 2,
            "linecolor": "white",
            "showbackground": true,
            "ticks": "",
            "zerolinecolor": "white"
           }
          },
          "shapedefaults": {
           "line": {
            "color": "#2a3f5f"
           }
          },
          "ternary": {
           "aaxis": {
            "gridcolor": "white",
            "linecolor": "white",
            "ticks": ""
           },
           "baxis": {
            "gridcolor": "white",
            "linecolor": "white",
            "ticks": ""
           },
           "bgcolor": "#E5ECF6",
           "caxis": {
            "gridcolor": "white",
            "linecolor": "white",
            "ticks": ""
           }
          },
          "title": {
           "x": 0.05
          },
          "xaxis": {
           "automargin": true,
           "gridcolor": "white",
           "linecolor": "white",
           "ticks": "",
           "title": {
            "standoff": 15
           },
           "zerolinecolor": "white",
           "zerolinewidth": 2
          },
          "yaxis": {
           "automargin": true,
           "gridcolor": "white",
           "linecolor": "white",
           "ticks": "",
           "title": {
            "standoff": 15
           },
           "zerolinecolor": "white",
           "zerolinewidth": 2
          }
         }
        },
        "title": {
         "text": "Temperature Predictions vs Actuals"
        },
        "xaxis": {
         "autorange": true,
         "range": [
          "2024-05-06 07:00",
          "2024-05-10 08:00"
         ],
         "title": {
          "text": "Date"
         },
         "type": "date"
        },
        "yaxis": {
         "autorange": true,
         "range": [
          6.013333333333334,
          25.946666666666665
         ],
         "title": {
          "text": "Temperature (°C)"
         },
         "type": "linear"
        }
       }
      },
      "image/png": "[encoded data removed]",
      "text/html": [
       "<div>                            <div id=\"5d20c25a-f80a-4dc7-922b-04de627598dd\" class=\"plotly-graph-div\" style=\"height:525px; width:100%;\"></div>            <script type=\"text/javascript\">                require([\"plotly\"], function(Plotly) {                    window.PLOTLYENV=window.PLOTLYENV || {};                                    if (document.getElementById(\"5d20c25a-f80a-4dc7-922b-04de627598dd\")) {                    Plotly.newPlot(                        \"5d20c25a-f80a-4dc7-922b-04de627598dd\",                        [{\"line\":{\"color\":\"blue\"},\"mode\":\"lines\",\"name\":\"Original T2M\",\"x\":[\"2024-05-06T07:00:00+00:00\",\"2024-05-06T08:00:00+00:00\",\"2024-05-06T09:00:00+00:00\",\"2024-05-06T10:00:00+00:00\",\"2024-05-06T11:00:00+00:00\",\"2024-05-06T12:00:00+00:00\",\"2024-05-06T13:00:00+00:00\",\"2024-05-06T14:00:00+00:00\",\"2024-05-06T15:00:00+00:00\",\"2024-05-06T16:00:00+00:00\",\"2024-05-06T17:00:00+00:00\",\"2024-05-06T18:00:00+00:00\",\"2024-05-06T19:00:00+00:00\",\"2024-05-06T20:00:00+00:00\",\"2024-05-06T21:00:00+00:00\",\"2024-05-06T22:00:00+00:00\",\"2024-05-06T23:00:00+00:00\",\"2024-05-07T00:00:00+00:00\",\"2024-05-07T01:00:00+00:00\",\"2024-05-07T02:00:00+00:00\",\"2024-05-07T03:00:00+00:00\",\"2024-05-07T04:00:00+00:00\",\"2024-05-07T05:00:00+00:00\",\"2024-05-07T06:00:00+00:00\",\"2024-05-07T07:00:00+00:00\",\"2024-05-07T08:00:00+00:00\",\"2024-05-07T09:00:00+00:00\",\"2024-05-07T10:00:00+00:00\",\"2024-05-07T11:00:00+00:00\",\"2024-05-07T12:00:00+00:00\",\"2024-05-07T13:00:00+00:00\",\"2024-05-07T14:00:00+00:00\",\"2024-05-07T15:00:00+00:00\",\"2024-05-07T16:00:00+00:00\",\"2024-05-07T17:00:00+00:00\",\"2024-05-07T18:00:00+00:00\",\"2024-05-07T19:00:00+00:00\",\"2024-05-07T20:00:00+00:00\",\"2024-05-07T21:00:00+00:00\",\"2024-05-07T22:00:00+00:00\",\"2024-05-07T23:00:00+00:00\",\"2024-05-08T00:00:00+00:00\",\"2024-05-08T01:00:00+00:00\",\"2024-05-08T02:00:00+00:00\",\"2024-05-08T03:00:00+00:00\",\"2024-05-08T04:00:00+00:00\",\"2024-05-08T05:00:00+00:00\",\"2024-05-08T06:00:00+00:00\",\"2024-05-08T07:00:00+00:00\",\"2024-05-08T08:00:00+00:00\",\"2024-05-08T09:00:00+00:00\",\"2024-05-08T10:00:00+00:00\",\"2024-05-08T11:00:00+00:00\",\"2024-05-08T12:00:00+00:00\",\"2024-05-08T13:00:00+00:00\",\"2024-05-08T14:00:00+00:00\",\"2024-05-08T15:00:00+00:00\",\"2024-05-08T16:00:00+00:00\",\"2024-05-08T17:00:00+00:00\",\"2024-05-08T18:00:00+00:00\",\"2024-05-08T19:00:00+00:00\",\"2024-05-08T20:00:00+00:00\",\"2024-05-08T21:00:00+00:00\",\"2024-05-08T22:00:00+00:00\",\"2024-05-08T23:00:00+00:00\",\"2024-05-09T00:00:00+00:00\",\"2024-05-09T01:00:00+00:00\",\"2024-05-09T02:00:00+00:00\",\"2024-05-09T03:00:00+00:00\",\"2024-05-09T04:00:00+00:00\",\"2024-05-09T05:00:00+00:00\",\"2024-05-09T06:00:00+00:00\",\"2024-05-09T07:00:00+00:00\",\"2024-05-09T08:00:00+00:00\"],\"y\":[18.55,20.99,22.12,22.94,23.76,24.47,24.94,24.95,23.17,21.73,20.44,18.5,17.06,14.69,14.72,14.92,14.72,14.15,13.29,13.04,13.04,13.19,13.55,14.05,14.81,15.61,17.27,16.82,17.08,17.05,17.71,17.02,16.89,16.17,15.78,15.2,14.6,14.46,14.12,13.65,13.23,13.13,12.74,12.21,11.55,11.43,11.52,11.77,11.89,12.14,12.07,12.44,12.77,14.73,16.6,17.54,17.59,17.1,16.44,14.77,12.51,12.13,11.59,10.61,9.98,9.97,9.47,9.16,8.61,9.36,10.59,12.57,14.91,16.63],\"type\":\"scatter\"},{\"line\":{\"color\":\"red\",\"dash\":\"dash\"},\"mode\":\"lines+markers\",\"name\":\"Predicted T2M\",\"x\":[\"2024-05-09T09:00:00+00:00\",\"2024-05-09T10:00:00+00:00\",\"2024-05-09T11:00:00+00:00\",\"2024-05-09T12:00:00+00:00\",\"2024-05-09T13:00:00+00:00\",\"2024-05-09T14:00:00+00:00\"],\"y\":[19.243201546072967,20.060397351384168,22.23772242605687,21.682031270861632,21.730658683180817,21.88579320371152],\"type\":\"scatter\"},{\"line\":{\"color\":\"green\"},\"mode\":\"lines\",\"name\":\"Actual T2M\",\"x\":[\"2024-05-09T08:00:00+00:00\",\"2024-05-09T09:00:00+00:00\",\"2024-05-09T10:00:00+00:00\",\"2024-05-09T11:00:00+00:00\",\"2024-05-09T12:00:00+00:00\",\"2024-05-09T13:00:00+00:00\",\"2024-05-09T14:00:00+00:00\",\"2024-05-09T15:00:00+00:00\",\"2024-05-09T16:00:00+00:00\",\"2024-05-09T17:00:00+00:00\",\"2024-05-09T18:00:00+00:00\",\"2024-05-09T19:00:00+00:00\",\"2024-05-09T20:00:00+00:00\",\"2024-05-09T21:00:00+00:00\",\"2024-05-09T22:00:00+00:00\",\"2024-05-09T23:00:00+00:00\",\"2024-05-10T00:00:00+00:00\",\"2024-05-10T01:00:00+00:00\",\"2024-05-10T02:00:00+00:00\",\"2024-05-10T03:00:00+00:00\",\"2024-05-10T04:00:00+00:00\",\"2024-05-10T05:00:00+00:00\",\"2024-05-10T06:00:00+00:00\",\"2024-05-10T07:00:00+00:00\",\"2024-05-10T08:00:00+00:00\"],\"y\":[16.63,18.28,19.27,19.87,20.37,21.0,21.27,21.39,20.71,19.89,17.44,14.79,12.3,10.87,10.21,9.93,9.33,7.85,7.4,7.01,7.03,9.62,12.87,15.47,17.95],\"type\":\"scatter\"}],                        {\"template\":{\"data\":{\"histogram2dcontour\":[{\"type\":\"histogram2dcontour\",\"colorbar\":{\"outlinewidth\":0,\"ticks\":\"\"},\"colorscale\":[[0.0,\"#0d0887\"],[0.1111111111111111,\"#46039f\"],[0.2222222222222222,\"#7201a8\"],[0.3333333333333333,\"#9c179e\"],[0.4444444444444444,\"#bd3786\"],[0.5555555555555556,\"#d8576b\"],[0.6666666666666666,\"#ed7953\"],[0.7777777777777778,\"#fb9f3a\"],[0.8888888888888888,\"#fdca26\"],[1.0,\"#f0f921\"]]}],\"choropleth\":[{\"type\":\"choropleth\",\"colorbar\":{\"outlinewidth\":0,\"ticks\":\"\"}}],\"histogram2d\":[{\"type\":\"histogram2d\",\"colorbar\":{\"outlinewidth\":0,\"ticks\":\"\"},\"colorscale\":[[0.0,\"#0d0887\"],[0.1111111111111111,\"#46039f\"],[0.2222222222222222,\"#7201a8\"],[0.3333333333333333,\"#9c179e\"],[0.4444444444444444,\"#bd3786\"],[0.5555555555555556,\"#d8576b\"],[0.6666666666666666,\"#ed7953\"],[0.7777777777777778,\"#fb9f3a\"],[0.8888888888888888,\"#fdca26\"],[1.0,\"#f0f921\"]]}],\"heatmap\":[{\"type\":\"heatmap\",\"colorbar\":{\"outlinewidth\":0,\"ticks\":\"\"},\"colorscale\":[[0.0,\"#0d0887\"],[0.1111111111111111,\"#46039f\"],[0.2222222222222222,\"#7201a8\"],[0.3333333333333333,\"#9c179e\"],[0.4444444444444444,\"#bd3786\"],[0.5555555555555556,\"#d8576b\"],[0.6666666666666666,\"#ed7953\"],[0.7777777777777778,\"#fb9f3a\"],[0.8888888888888888,\"#fdca26\"],[1.0,\"#f0f921\"]]}],\"heatmapgl\":[{\"type\":\"heatmapgl\",\"colorbar\":{\"outlinewidth\":0,\"ticks\":\"\"},\"colorscale\":[[0.0,\"#0d0887\"],[0.1111111111111111,\"#46039f\"],[0.2222222222222222,\"#7201a8\"],[0.3333333333333333,\"#9c179e\"],[0.4444444444444444,\"#bd3786\"],[0.5555555555555556,\"#d8576b\"],[0.6666666666666666,\"#ed7953\"],[0.7777777777777778,\"#fb9f3a\"],[0.8888888888888888,\"#fdca26\"],[1.0,\"#f0f921\"]]}],\"contourcarpet\":[{\"type\":\"contourcarpet\",\"colorbar\":{\"outlinewidth\":0,\"ticks\":\"\"}}],\"contour\":[{\"type\":\"contour\",\"colorbar\":{\"outlinewidth\":0,\"ticks\":\"\"},\"colorscale\":[[0.0,\"#0d0887\"],[0.1111111111111111,\"#46039f\"],[0.2222222222222222,\"#7201a8\"],[0.3333333333333333,\"#9c179e\"],[0.4444444444444444,\"#bd3786\"],[0.5555555555555556,\"#d8576b\"],[0.6666666666666666,\"#ed7953\"],[0.7777777777777778,\"#fb9f3a\"],[0.8888888888888888,\"#fdca26\"],[1.0,\"#f0f921\"]]}],\"surface\":[{\"type\":\"surface\",\"colorbar\":{\"outlinewidth\":0,\"ticks\":\"\"},\"colorscale\":[[0.0,\"#0d0887\"],[0.1111111111111111,\"#46039f\"],[0.2222222222222222,\"#7201a8\"],[0.3333333333333333,\"#9c179e\"],[0.4444444444444444,\"#bd3786\"],[0.5555555555555556,\"#d8576b\"],[0.6666666666666666,\"#ed7953\"],[0.7777777777777778,\"#fb9f3a\"],[0.8888888888888888,\"#fdca26\"],[1.0,\"#f0f921\"]]}],\"mesh3d\":[{\"type\":\"mesh3d\",\"colorbar\":{\"outlinewidth\":0,\"ticks\":\"\"}}],\"scatter\":[{\"fillpattern\":{\"fillmode\":\"overlay\",\"size\":10,\"solidity\":0.2},\"type\":\"scatter\"}],\"parcoords\":[{\"type\":\"parcoords\",\"line\":{\"colorbar\":{\"outlinewidth\":0,\"ticks\":\"\"}}}],\"scatterpolargl\":[{\"type\":\"scatterpolargl\",\"marker\":{\"colorbar\":{\"outlinewidth\":0,\"ticks\":\"\"}}}],\"bar\":[{\"error_x\":{\"color\":\"#2a3f5f\"},\"error_y\":{\"color\":\"#2a3f5f\"},\"marker\":{\"line\":{\"color\":\"#E5ECF6\",\"width\":0.5},\"pattern\":{\"fillmode\":\"overlay\",\"size\":10,\"solidity\":0.2}},\"type\":\"bar\"}],\"scattergeo\":[{\"type\":\"scattergeo\",\"marker\":{\"colorbar\":{\"outlinewidth\":0,\"ticks\":\"\"}}}],\"scatterpolar\":[{\"type\":\"scatterpolar\",\"marker\":{\"colorbar\":{\"outlinewidth\":0,\"ticks\":\"\"}}}],\"histogram\":[{\"marker\":{\"pattern\":{\"fillmode\":\"overlay\",\"size\":10,\"solidity\":0.2}},\"type\":\"histogram\"}],\"scattergl\":[{\"type\":\"scattergl\",\"marker\":{\"colorbar\":{\"outlinewidth\":0,\"ticks\":\"\"}}}],\"scatter3d\":[{\"type\":\"scatter3d\",\"line\":{\"colorbar\":{\"outlinewidth\":0,\"ticks\":\"\"}},\"marker\":{\"colorbar\":{\"outlinewidth\":0,\"ticks\":\"\"}}}],\"scattermapbox\":[{\"type\":\"scattermapbox\",\"marker\":{\"colorbar\":{\"outlinewidth\":0,\"ticks\":\"\"}}}],\"scatterternary\":[{\"type\":\"scatterternary\",\"marker\":{\"colorbar\":{\"outlinewidth\":0,\"ticks\":\"\"}}}],\"scattercarpet\":[{\"type\":\"scattercarpet\",\"marker\":{\"colorbar\":{\"outlinewidth\":0,\"ticks\":\"\"}}}],\"carpet\":[{\"aaxis\":{\"endlinecolor\":\"#2a3f5f\",\"gridcolor\":\"white\",\"linecolor\":\"white\",\"minorgridcolor\":\"white\",\"startlinecolor\":\"#2a3f5f\"},\"baxis\":{\"endlinecolor\":\"#2a3f5f\",\"gridcolor\":\"white\",\"linecolor\":\"white\",\"minorgridcolor\":\"white\",\"startlinecolor\":\"#2a3f5f\"},\"type\":\"carpet\"}],\"table\":[{\"cells\":{\"fill\":{\"color\":\"#EBF0F8\"},\"line\":{\"color\":\"white\"}},\"header\":{\"fill\":{\"color\":\"#C8D4E3\"},\"line\":{\"color\":\"white\"}},\"type\":\"table\"}],\"barpolar\":[{\"marker\":{\"line\":{\"color\":\"#E5ECF6\",\"width\":0.5},\"pattern\":{\"fillmode\":\"overlay\",\"size\":10,\"solidity\":0.2}},\"type\":\"barpolar\"}],\"pie\":[{\"automargin\":true,\"type\":\"pie\"}]},\"layout\":{\"autotypenumbers\":\"strict\",\"colorway\":[\"#636efa\",\"#EF553B\",\"#00cc96\",\"#ab63fa\",\"#FFA15A\",\"#19d3f3\",\"#FF6692\",\"#B6E880\",\"#FF97FF\",\"#FECB52\"],\"font\":{\"color\":\"#2a3f5f\"},\"hovermode\":\"closest\",\"hoverlabel\":{\"align\":\"left\"},\"paper_bgcolor\":\"white\",\"plot_bgcolor\":\"#E5ECF6\",\"polar\":{\"bgcolor\":\"#E5ECF6\",\"angularaxis\":{\"gridcolor\":\"white\",\"linecolor\":\"white\",\"ticks\":\"\"},\"radialaxis\":{\"gridcolor\":\"white\",\"linecolor\":\"white\",\"ticks\":\"\"}},\"ternary\":{\"bgcolor\":\"#E5ECF6\",\"aaxis\":{\"gridcolor\":\"white\",\"linecolor\":\"white\",\"ticks\":\"\"},\"baxis\":{\"gridcolor\":\"white\",\"linecolor\":\"white\",\"ticks\":\"\"},\"caxis\":{\"gridcolor\":\"white\",\"linecolor\":\"white\",\"ticks\":\"\"}},\"coloraxis\":{\"colorbar\":{\"outlinewidth\":0,\"ticks\":\"\"}},\"colorscale\":{\"sequential\":[[0.0,\"#0d0887\"],[0.1111111111111111,\"#46039f\"],[0.2222222222222222,\"#7201a8\"],[0.3333333333333333,\"#9c179e\"],[0.4444444444444444,\"#bd3786\"],[0.5555555555555556,\"#d8576b\"],[0.6666666666666666,\"#ed7953\"],[0.7777777777777778,\"#fb9f3a\"],[0.8888888888888888,\"#fdca26\"],[1.0,\"#f0f921\"]],\"sequentialminus\":[[0.0,\"#0d0887\"],[0.1111111111111111,\"#46039f\"],[0.2222222222222222,\"#7201a8\"],[0.3333333333333333,\"#9c179e\"],[0.4444444444444444,\"#bd3786\"],[0.5555555555555556,\"#d8576b\"],[0.6666666666666666,\"#ed7953\"],[0.7777777777777778,\"#fb9f3a\"],[0.8888888888888888,\"#fdca26\"],[1.0,\"#f0f921\"]],\"diverging\":[[0,\"#8e0152\"],[0.1,\"#c51b7d\"],[0.2,\"#de77ae\"],[0.3,\"#f1b6da\"],[0.4,\"#fde0ef\"],[0.5,\"#f7f7f7\"],[0.6,\"#e6f5d0\"],[0.7,\"#b8e186\"],[0.8,\"#7fbc41\"],[0.9,\"#4d9221\"],[1,\"#276419\"]]},\"xaxis\":{\"gridcolor\":\"white\",\"linecolor\":\"white\",\"ticks\":\"\",\"title\":{\"standoff\":15},\"zerolinecolor\":\"white\",\"automargin\":true,\"zerolinewidth\":2},\"yaxis\":{\"gridcolor\":\"white\",\"linecolor\":\"white\",\"ticks\":\"\",\"title\":{\"standoff\":15},\"zerolinecolor\":\"white\",\"automargin\":true,\"zerolinewidth\":2},\"scene\":{\"xaxis\":{\"backgroundcolor\":\"#E5ECF6\",\"gridcolor\":\"white\",\"linecolor\":\"white\",\"showbackground\":true,\"ticks\":\"\",\"zerolinecolor\":\"white\",\"gridwidth\":2},\"yaxis\":{\"backgroundcolor\":\"#E5ECF6\",\"gridcolor\":\"white\",\"linecolor\":\"white\",\"showbackground\":true,\"ticks\":\"\",\"zerolinecolor\":\"white\",\"gridwidth\":2},\"zaxis\":{\"backgroundcolor\":\"#E5ECF6\",\"gridcolor\":\"white\",\"linecolor\":\"white\",\"showbackground\":true,\"ticks\":\"\",\"zerolinecolor\":\"white\",\"gridwidth\":2}},\"shapedefaults\":{\"line\":{\"color\":\"#2a3f5f\"}},\"annotationdefaults\":{\"arrowcolor\":\"#2a3f5f\",\"arrowhead\":0,\"arrowwidth\":1},\"geo\":{\"bgcolor\":\"white\",\"landcolor\":\"#E5ECF6\",\"subunitcolor\":\"white\",\"showland\":true,\"showlakes\":true,\"lakecolor\":\"white\"},\"title\":{\"x\":0.05},\"mapbox\":{\"style\":\"light\"}}},\"title\":{\"text\":\"Temperature Predictions vs Actuals\"},\"xaxis\":{\"title\":{\"text\":\"Date\"}},\"yaxis\":{\"title\":{\"text\":\"Temperature (\\u00b0C)\"}},\"hovermode\":\"x unified\"},                        {\"responsive\": true}                    ).then(function(){\n",
       "                            \n",
       "var gd = document.getElementById('5d20c25a-f80a-4dc7-922b-04de627598dd');\n",
       "var x = new MutationObserver(function (mutations, observer) {{\n",
       "        var display = window.getComputedStyle(gd).display;\n",
       "        if (!display || display === 'none') {{\n",
       "            console.log([gd, 'removed!']);\n",
       "            Plotly.purge(gd);\n",
       "            observer.disconnect();\n",
       "        }}\n",
       "}});\n",
       "\n",
       "// Listen for the removal of the full notebook cells\n",
       "var notebookContainer = gd.closest('#notebook-container');\n",
       "if (notebookContainer) {{\n",
       "    x.observe(notebookContainer, {childList: true});\n",
       "}}\n",
       "\n",
       "// Listen for the clearing of the current output cell\n",
       "var outputEl = gd.closest('.output');\n",
       "if (outputEl) {{\n",
       "    x.observe(outputEl, {childList: true});\n",
       "}}\n",
       "\n",
       "                        })                };                });            </script>        </div>"
      ]
     },
     "metadata": {},
     "output_type": "display_data"
    }
   ],
   "source": [
    "# prediction\n",
    "#start_date = '2024-04-26T07'\n",
    "#end_date = '2024-04-28T08'\n",
    "start_date = '2024-05-06T07'\n",
    "end_date = '2024-05-09T08'\n",
    "df_pred = fetch_data(start_date, end_date)\n",
    "data_for_prediction, time_index_pre_data = feature_engineering(df_pred) #get_data_for_convlstm('2024-04-23T00', '2024-05-01T08')\n",
    "#print(df_pred)\n",
    "#print(data_for_prediction)\n",
    "##\n",
    "start_date = '2024-05-09T08'\n",
    "end_date = '2024-05-10T08'\n",
    "\n",
    "\n",
    "df_act = fetch_data(start_date, end_date)\n",
    "##\n",
    "df_scaled = scaler.transform(data_for_prediction)\n",
    "df_scaled = pd.DataFrame(df_scaled, columns=data_for_prediction.columns)\n",
    "latest_sequence = df_scaled.tail(sequence_length).values.reshape(1, sequence_length, feature_count)\n",
    "future_temperatures = model.predict(latest_sequence)\n",
    "\n",
    "# make this a function\n",
    "dummy_output_array = np.zeros((hours_to_predict, scaler.n_features_in_))\n",
    "dummy_output_array[:, 3] = future_temperatures.flatten()  # Ensure to flatten if necessary\n",
    "predicted_temps = scaler.inverse_transform(dummy_output_array)[:, 3]\n",
    "\n",
    "# Timestamp handling\n",
    "data_for_prediction.index = time_index_pre_data\n",
    "last_timestamp = data_for_prediction.index[-1]\n",
    "prediction_frequency = 'H'\n",
    "new_timestamps = pd.date_range(start=last_timestamp + pd.Timedelta(hours=1), periods=len(predicted_temps), freq=prediction_frequency)\n",
    "predictions_df = pd.DataFrame(predicted_temps, index=new_timestamps, columns=['Predicted T2M'])\n",
    "\n",
    "# Fetch and set the actual data for comparison\n",
    "data_actual_for_prediction, time_index_actual_data = feature_engineering(df_act) #get_data_for_convlstm('2024-05-01T08', '2024-05-02T08')\n",
    "data_actual_for_prediction.index = time_index_actual_data\n",
    "\n",
    "fig = go.Figure()\n",
    "fig.add_trace(go.Scatter(x=data_for_prediction.index, y=data_for_prediction['T2M'], mode='lines', name='Original T2M', line=dict(color='blue')))\n",
    "fig.add_trace(go.Scatter(x=predictions_df.index, y=predictions_df['Predicted T2M'], mode='lines+markers', name='Predicted T2M', line=dict(color='red', dash='dash')))\n",
    "fig.add_trace(go.Scatter(x=data_actual_for_prediction.index, y=data_actual_for_prediction['T2M'], mode='lines', name='Actual T2M', line=dict(color='green')))\n",
    "\n",
    "fig.update_layout(\n",
    "    title='Temperature Predictions vs Actuals',\n",
    "    xaxis_title='Date',\n",
    "    yaxis_title='Temperature (°C)',\n",
    "    hovermode=\"x unified\"\n",
    ")\n",
    "fig.show()\n"
   ]
  },
  {
   "cell_type": "code",
   "execution_count": null,
   "id": "7f7780bb-8305-4ed0-b1f9-2a54cf19ec16",
   "metadata": {},
   "outputs": [],
   "source": []
  },
  {
   "cell_type": "code",
   "execution_count": 152,
   "id": "100ca3c8-e5db-4854-8b2c-3a6c375f5ac0",
   "metadata": {},
   "outputs": [
    {
     "name": "stdout",
     "output_type": "stream",
     "text": [
      "\u001b[1m657/657\u001b[0m \u001b[32m━━━━━━━━━━━━━━━━━━━━\u001b[0m\u001b[37m\u001b[0m \u001b[1m1s\u001b[0m 2ms/step\n",
      "\u001b[1m657/657\u001b[0m \u001b[32m━━━━━━━━━━━━━━━━━━━━\u001b[0m\u001b[37m\u001b[0m \u001b[1m1s\u001b[0m 2ms/step\n",
      "\u001b[1m657/657\u001b[0m \u001b[32m━━━━━━━━━━━━━━━━━━━━\u001b[0m\u001b[37m\u001b[0m \u001b[1m1s\u001b[0m 2ms/step\n",
      "\u001b[1m657/657\u001b[0m \u001b[32m━━━━━━━━━━━━━━━━━━━━\u001b[0m\u001b[37m\u001b[0m \u001b[1m1s\u001b[0m 2ms/step\n",
      "\u001b[1m657/657\u001b[0m \u001b[32m━━━━━━━━━━━━━━━━━━━━\u001b[0m\u001b[37m\u001b[0m \u001b[1m1s\u001b[0m 2ms/step\n",
      "\u001b[1m657/657\u001b[0m \u001b[32m━━━━━━━━━━━━━━━━━━━━\u001b[0m\u001b[37m\u001b[0m \u001b[1m1s\u001b[0m 2ms/step\n",
      "\u001b[1m657/657\u001b[0m \u001b[32m━━━━━━━━━━━━━━━━━━━━\u001b[0m\u001b[37m\u001b[0m \u001b[1m1s\u001b[0m 2ms/step\n",
      "\u001b[1m657/657\u001b[0m \u001b[32m━━━━━━━━━━━━━━━━━━━━\u001b[0m\u001b[37m\u001b[0m \u001b[1m1s\u001b[0m 2ms/step\n",
      "\u001b[1m657/657\u001b[0m \u001b[32m━━━━━━━━━━━━━━━━━━━━\u001b[0m\u001b[37m\u001b[0m \u001b[1m1s\u001b[0m 2ms/step\n",
      "\u001b[1m657/657\u001b[0m \u001b[32m━━━━━━━━━━━━━━━━━━━━\u001b[0m\u001b[37m\u001b[0m \u001b[1m1s\u001b[0m 2ms/step\n",
      "\u001b[1m657/657\u001b[0m \u001b[32m━━━━━━━━━━━━━━━━━━━━\u001b[0m\u001b[37m\u001b[0m \u001b[1m1s\u001b[0m 2ms/step\n",
      "\u001b[1m657/657\u001b[0m \u001b[32m━━━━━━━━━━━━━━━━━━━━\u001b[0m\u001b[37m\u001b[0m \u001b[1m1s\u001b[0m 2ms/step\n",
      "\u001b[1m657/657\u001b[0m \u001b[32m━━━━━━━━━━━━━━━━━━━━\u001b[0m\u001b[37m\u001b[0m \u001b[1m1s\u001b[0m 2ms/step\n",
      "\u001b[1m657/657\u001b[0m \u001b[32m━━━━━━━━━━━━━━━━━━━━\u001b[0m\u001b[37m\u001b[0m \u001b[1m1s\u001b[0m 2ms/step\n",
      "\u001b[1m657/657\u001b[0m \u001b[32m━━━━━━━━━━━━━━━━━━━━\u001b[0m\u001b[37m\u001b[0m \u001b[1m1s\u001b[0m 2ms/step\n",
      "\u001b[1m657/657\u001b[0m \u001b[32m━━━━━━━━━━━━━━━━━━━━\u001b[0m\u001b[37m\u001b[0m \u001b[1m1s\u001b[0m 2ms/step\n",
      "\u001b[1m657/657\u001b[0m \u001b[32m━━━━━━━━━━━━━━━━━━━━\u001b[0m\u001b[37m\u001b[0m \u001b[1m1s\u001b[0m 2ms/step\n",
      "\u001b[1m657/657\u001b[0m \u001b[32m━━━━━━━━━━━━━━━━━━━━\u001b[0m\u001b[37m\u001b[0m \u001b[1m1s\u001b[0m 2ms/step\n",
      "\u001b[1m657/657\u001b[0m \u001b[32m━━━━━━━━━━━━━━━━━━━━\u001b[0m\u001b[37m\u001b[0m \u001b[1m1s\u001b[0m 2ms/step\n",
      "\u001b[1m657/657\u001b[0m \u001b[32m━━━━━━━━━━━━━━━━━━━━\u001b[0m\u001b[37m\u001b[0m \u001b[1m1s\u001b[0m 2ms/step\n",
      "\u001b[1m657/657\u001b[0m \u001b[32m━━━━━━━━━━━━━━━━━━━━\u001b[0m\u001b[37m\u001b[0m \u001b[1m1s\u001b[0m 2ms/step\n",
      "\u001b[1m657/657\u001b[0m \u001b[32m━━━━━━━━━━━━━━━━━━━━\u001b[0m\u001b[37m\u001b[0m \u001b[1m1s\u001b[0m 2ms/step\n",
      "\u001b[1m657/657\u001b[0m \u001b[32m━━━━━━━━━━━━━━━━━━━━\u001b[0m\u001b[37m\u001b[0m \u001b[1m1s\u001b[0m 2ms/step\n",
      "\u001b[1m657/657\u001b[0m \u001b[32m━━━━━━━━━━━━━━━━━━━━\u001b[0m\u001b[37m\u001b[0m \u001b[1m1s\u001b[0m 2ms/step\n",
      "\u001b[1m657/657\u001b[0m \u001b[32m━━━━━━━━━━━━━━━━━━━━\u001b[0m\u001b[37m\u001b[0m \u001b[1m1s\u001b[0m 2ms/step\n",
      "\u001b[1m657/657\u001b[0m \u001b[32m━━━━━━━━━━━━━━━━━━━━\u001b[0m\u001b[37m\u001b[0m \u001b[1m1s\u001b[0m 2ms/step\n",
      "\u001b[1m657/657\u001b[0m \u001b[32m━━━━━━━━━━━━━━━━━━━━\u001b[0m\u001b[37m\u001b[0m \u001b[1m1s\u001b[0m 2ms/step\n",
      "\u001b[1m657/657\u001b[0m \u001b[32m━━━━━━━━━━━━━━━━━━━━\u001b[0m\u001b[37m\u001b[0m \u001b[1m1s\u001b[0m 2ms/step\n",
      "\u001b[1m657/657\u001b[0m \u001b[32m━━━━━━━━━━━━━━━━━━━━\u001b[0m\u001b[37m\u001b[0m \u001b[1m1s\u001b[0m 2ms/step\n",
      "\u001b[1m657/657\u001b[0m \u001b[32m━━━━━━━━━━━━━━━━━━━━\u001b[0m\u001b[37m\u001b[0m \u001b[1m1s\u001b[0m 2ms/step\n",
      "\u001b[1m657/657\u001b[0m \u001b[32m━━━━━━━━━━━━━━━━━━━━\u001b[0m\u001b[37m\u001b[0m \u001b[1m1s\u001b[0m 2ms/step\n",
      "\u001b[1m657/657\u001b[0m \u001b[32m━━━━━━━━━━━━━━━━━━━━\u001b[0m\u001b[37m\u001b[0m \u001b[1m1s\u001b[0m 2ms/step\n",
      "\u001b[1m657/657\u001b[0m \u001b[32m━━━━━━━━━━━━━━━━━━━━\u001b[0m\u001b[37m\u001b[0m \u001b[1m1s\u001b[0m 2ms/step\n",
      "\u001b[1m657/657\u001b[0m \u001b[32m━━━━━━━━━━━━━━━━━━━━\u001b[0m\u001b[37m\u001b[0m \u001b[1m1s\u001b[0m 2ms/step\n",
      "\u001b[1m657/657\u001b[0m \u001b[32m━━━━━━━━━━━━━━━━━━━━\u001b[0m\u001b[37m\u001b[0m \u001b[1m1s\u001b[0m 2ms/step\n",
      "\u001b[1m657/657\u001b[0m \u001b[32m━━━━━━━━━━━━━━━━━━━━\u001b[0m\u001b[37m\u001b[0m \u001b[1m1s\u001b[0m 2ms/step\n",
      "\u001b[1m657/657\u001b[0m \u001b[32m━━━━━━━━━━━━━━━━━━━━\u001b[0m\u001b[37m\u001b[0m \u001b[1m1s\u001b[0m 2ms/step\n",
      "\u001b[1m657/657\u001b[0m \u001b[32m━━━━━━━━━━━━━━━━━━━━\u001b[0m\u001b[37m\u001b[0m \u001b[1m1s\u001b[0m 2ms/step\n",
      "\u001b[1m657/657\u001b[0m \u001b[32m━━━━━━━━━━━━━━━━━━━━\u001b[0m\u001b[37m\u001b[0m \u001b[1m1s\u001b[0m 2ms/step\n",
      "\u001b[1m657/657\u001b[0m \u001b[32m━━━━━━━━━━━━━━━━━━━━\u001b[0m\u001b[37m\u001b[0m \u001b[1m1s\u001b[0m 2ms/step\n",
      "\u001b[1m657/657\u001b[0m \u001b[32m━━━━━━━━━━━━━━━━━━━━\u001b[0m\u001b[37m\u001b[0m \u001b[1m1s\u001b[0m 2ms/step\n",
      "\u001b[1m657/657\u001b[0m \u001b[32m━━━━━━━━━━━━━━━━━━━━\u001b[0m\u001b[37m\u001b[0m \u001b[1m1s\u001b[0m 2ms/step\n",
      "\u001b[1m657/657\u001b[0m \u001b[32m━━━━━━━━━━━━━━━━━━━━\u001b[0m\u001b[37m\u001b[0m \u001b[1m1s\u001b[0m 2ms/step\n",
      "\u001b[1m657/657\u001b[0m \u001b[32m━━━━━━━━━━━━━━━━━━━━\u001b[0m\u001b[37m\u001b[0m \u001b[1m1s\u001b[0m 2ms/step\n",
      "\u001b[1m657/657\u001b[0m \u001b[32m━━━━━━━━━━━━━━━━━━━━\u001b[0m\u001b[37m\u001b[0m \u001b[1m1s\u001b[0m 2ms/step\n",
      "\u001b[1m657/657\u001b[0m \u001b[32m━━━━━━━━━━━━━━━━━━━━\u001b[0m\u001b[37m\u001b[0m \u001b[1m1s\u001b[0m 2ms/step\n",
      "\u001b[1m657/657\u001b[0m \u001b[32m━━━━━━━━━━━━━━━━━━━━\u001b[0m\u001b[37m\u001b[0m \u001b[1m1s\u001b[0m 2ms/step\n",
      "\u001b[1m657/657\u001b[0m \u001b[32m━━━━━━━━━━━━━━━━━━━━\u001b[0m\u001b[37m\u001b[0m \u001b[1m1s\u001b[0m 2ms/step\n",
      "\u001b[1m657/657\u001b[0m \u001b[32m━━━━━━━━━━━━━━━━━━━━\u001b[0m\u001b[37m\u001b[0m \u001b[1m1s\u001b[0m 2ms/step\n",
      "\u001b[1m657/657\u001b[0m \u001b[32m━━━━━━━━━━━━━━━━━━━━\u001b[0m\u001b[37m\u001b[0m \u001b[1m1s\u001b[0m 2ms/step\n",
      "\u001b[1m657/657\u001b[0m \u001b[32m━━━━━━━━━━━━━━━━━━━━\u001b[0m\u001b[37m\u001b[0m \u001b[1m1s\u001b[0m 2ms/step\n",
      "\u001b[1m657/657\u001b[0m \u001b[32m━━━━━━━━━━━━━━━━━━━━\u001b[0m\u001b[37m\u001b[0m \u001b[1m1s\u001b[0m 2ms/step\n",
      "\u001b[1m657/657\u001b[0m \u001b[32m━━━━━━━━━━━━━━━━━━━━\u001b[0m\u001b[37m\u001b[0m \u001b[1m1s\u001b[0m 2ms/step\n",
      "\u001b[1m657/657\u001b[0m \u001b[32m━━━━━━━━━━━━━━━━━━━━\u001b[0m\u001b[37m\u001b[0m \u001b[1m1s\u001b[0m 2ms/step\n",
      "\u001b[1m657/657\u001b[0m \u001b[32m━━━━━━━━━━━━━━━━━━━━\u001b[0m\u001b[37m\u001b[0m \u001b[1m1s\u001b[0m 2ms/step\n",
      "\u001b[1m657/657\u001b[0m \u001b[32m━━━━━━━━━━━━━━━━━━━━\u001b[0m\u001b[37m\u001b[0m \u001b[1m1s\u001b[0m 2ms/step\n",
      "\u001b[1m657/657\u001b[0m \u001b[32m━━━━━━━━━━━━━━━━━━━━\u001b[0m\u001b[37m\u001b[0m \u001b[1m1s\u001b[0m 2ms/step\n",
      "\u001b[1m657/657\u001b[0m \u001b[32m━━━━━━━━━━━━━━━━━━━━\u001b[0m\u001b[37m\u001b[0m \u001b[1m1s\u001b[0m 2ms/step\n",
      "\u001b[1m657/657\u001b[0m \u001b[32m━━━━━━━━━━━━━━━━━━━━\u001b[0m\u001b[37m\u001b[0m \u001b[1m1s\u001b[0m 2ms/step\n",
      "\u001b[1m657/657\u001b[0m \u001b[32m━━━━━━━━━━━━━━━━━━━━\u001b[0m\u001b[37m\u001b[0m \u001b[1m1s\u001b[0m 2ms/step\n",
      "\u001b[1m657/657\u001b[0m \u001b[32m━━━━━━━━━━━━━━━━━━━━\u001b[0m\u001b[37m\u001b[0m \u001b[1m1s\u001b[0m 2ms/step\n",
      "\u001b[1m657/657\u001b[0m \u001b[32m━━━━━━━━━━━━━━━━━━━━\u001b[0m\u001b[37m\u001b[0m \u001b[1m1s\u001b[0m 2ms/step\n",
      "\u001b[1m657/657\u001b[0m \u001b[32m━━━━━━━━━━━━━━━━━━━━\u001b[0m\u001b[37m\u001b[0m \u001b[1m1s\u001b[0m 2ms/step\n",
      "\u001b[1m657/657\u001b[0m \u001b[32m━━━━━━━━━━━━━━━━━━━━\u001b[0m\u001b[37m\u001b[0m \u001b[1m1s\u001b[0m 2ms/step\n",
      "\u001b[1m657/657\u001b[0m \u001b[32m━━━━━━━━━━━━━━━━━━━━\u001b[0m\u001b[37m\u001b[0m \u001b[1m1s\u001b[0m 2ms/step\n",
      "hour_sin: -0.0012377998155164345\n",
      "T2M: -0.0007795435405833614\n",
      "TD2M: -0.0007468830363595155\n",
      "temp_humidity_interaction: -0.0004005602051207263\n",
      "3h_rolling_max: -0.00033124475890265975\n",
      "hour: -0.00030610948313900617\n",
      "3h_rolling_mean: -0.00028648451853920804\n",
      "dayofyear_cos: -0.0002803526127129562\n",
      "T2M_ewm_3h: -0.00022051221788040476\n",
      "T2M_ewm_6h: -0.00021422680855641733\n",
      "6h_rolling_max: -0.0002064511978301433\n",
      "3h_rolling_min: -0.00019719771603156344\n",
      "hour_cos: -0.00017987279238177876\n",
      "T2M_lag_1hr: -0.00017765278682555907\n",
      "GL: -0.00014241279647971407\n",
      "RH2M: -0.00012352041360057448\n",
      "rain_event: -0.00011379296361667694\n",
      "T2M_ewm_24h: -0.00010781096243011202\n",
      "day_of_year: -0.00010276455599165428\n",
      "6h_rolling_min: -9.899646451647472e-05\n",
      "month: -9.858910763447094e-05\n",
      "month_cos: -8.836073364022323e-05\n",
      "wind_speed: -7.853441405661387e-05\n",
      "12h_rolling_min: -6.0439605998423664e-05\n",
      "12h_rolling_std: -5.897315692032345e-05\n",
      "12h_rolling_max: -5.2161692245901014e-05\n",
      "T2M_lag_24hr: -4.996705624621964e-05\n",
      "T2M_lag_12hr: -4.8519213480097655e-05\n",
      "dayofyear_sin: -3.827351795985536e-05\n",
      "3h_rolling_std: -3.433077829260436e-05\n",
      "RH2M_diff: -2.8270485514689594e-05\n",
      "T2M_lag_6hr: -2.7630786728410016e-05\n",
      "RH2M_lag_1hr: -2.7089295371615293e-05\n",
      "12h_rolling_mean: -2.25855681206447e-05\n",
      "P0: -2.0208374563601456e-05\n",
      "24h_rolling_max: -1.9562963003532264e-05\n",
      "month_sin: -1.7161550192883678e-05\n",
      "wind_temp_interaction: -1.6635633812946767e-05\n",
      "24h_rolling_mean: -1.6367409258688016e-05\n",
      "T2M_lag_3hr: -1.6208027033100887e-05\n",
      "T2M_ewm_48h: -1.4621487515028273e-05\n",
      "24h_rolling_std: -1.4111975826563462e-05\n",
      "6h_rolling_mean: -1.4033819648638667e-05\n",
      "week_of_year: -1.2648729040719698e-05\n",
      "24h_rolling_min: -1.213585949233877e-05\n",
      "6h_rolling_std: -1.1434415454038304e-05\n",
      "wind_direction: -9.759413960174867e-06\n",
      "RH2M_lag_3hr: -9.235043947022144e-06\n",
      "T2M_ewm_12h: -8.698000804741707e-06\n",
      "T2M_ewm_8760h: -5.19569587486429e-06\n",
      "T2M_diff: -5.060004837098477e-06\n",
      "UU: -4.104735178651355e-06\n",
      "temp_drop_event: -2.0467896080111512e-06\n",
      "VV: -1.8543235982196446e-06\n",
      "year: -1.4384496980872352e-06\n",
      "365d_rolling_std: -1.0610315138693226e-06\n",
      "365d_rolling_max: -9.334587825676538e-07\n",
      "temp_rain_interaction: -8.996481275597113e-07\n",
      "365d_rolling_min: -4.896547515318567e-07\n",
      "365d_rolling_mean: 3.793188561900451e-07\n",
      "RR: -2.183323140787785e-07\n",
      "wind_rain_interaction: 1.708275755183883e-08\n",
      "longitude: 0.0\n",
      "latitude: 0.0\n"
     ]
    }
   ],
   "source": [
    "\n",
    "def permutation_importance(model, X_val, y_val, feature_names, metric=mean_squared_error):\n",
    "    # store the original model performance\n",
    "    baseline_performance = metric(model.predict(X_val), y_val)\n",
    "    importances = []\n",
    "\n",
    "    # Iterate over each feature column\n",
    "    for col in range(X_val.shape[-1]):\n",
    "        save_col = X_val[..., col].copy()\n",
    "        X_val[..., col] = shuffle(X_val[..., col])  # Shuffle the column\n",
    "        m_performance = metric(model.predict(X_val), y_val)\n",
    "        X_val[..., col] = save_col  # Restore original data\n",
    "        importances.append(baseline_performance - m_performance)  # Decrease in performance\n",
    "\n",
    "    # Pair feature names with their corresponding importances and sort by absolute importance\n",
    "    importance_pairs = sorted(zip(feature_names, importances), key=lambda x: abs(x[1]), reverse=True)\n",
    "    return importance_pairs\n",
    "\n",
    "feature_names = df.columns.tolist()  \n",
    "importances = permutation_importance(model, X_copy, y_copy, feature_names)\n",
    "\n",
    "for feature, importance in importances:\n",
    "    print(f\"{feature}: {importance}\")\n"
   ]
  },
  {
   "cell_type": "code",
   "execution_count": 113,
   "id": "c4989cbb-a42b-4532-8714-ce83c642e1dc",
   "metadata": {},
   "outputs": [
    {
     "data": {
      "image/png": "[encoded data removed]",
      "text/plain": [
       "<Figure size 1000x800 with 1 Axes>"
      ]
     },
     "metadata": {},
     "output_type": "display_data"
    }
   ],
   "source": [
    "feature_names = [x[0] for x in importances]\n",
    "importance_scores = [x[1] for x in importances]\n",
    "\n",
    "plt.figure(figsize=(10, 8))\n",
    "plt.barh(feature_names[:20], importance_scores[:20])  # Top 20 features\n",
    "plt.xlabel('Importance')\n",
    "plt.title('Top 20 Features by Permutation Importance')\n",
    "plt.gca().invert_yaxis()  \n",
    "plt.show()\n"
   ]
  },
  {
   "cell_type": "code",
   "execution_count": null,
   "id": "62381988-a900-4414-9dac-6ef1ab7174b9",
   "metadata": {},
   "outputs": [],
   "source": []
  },
  {
   "cell_type": "code",
   "execution_count": null,
   "id": "69f98503-dae5-4ba4-8edf-50297afeb902",
   "metadata": {},
   "outputs": [],
   "source": []
  },
  {
   "cell_type": "code",
   "execution_count": null,
   "id": "90d8c293-fef0-4124-b0fe-eccdb86fa415",
   "metadata": {},
   "outputs": [],
   "source": []
  },
  {
   "cell_type": "code",
   "execution_count": null,
   "id": "078c6101-3846-4afc-9c79-ab8ab2f8859a",
   "metadata": {},
   "outputs": [],
   "source": []
  },
  {
   "cell_type": "code",
   "execution_count": null,
   "id": "de105d1b-0932-4d6a-ab84-cfd5b6923118",
   "metadata": {},
   "outputs": [],
   "source": [
    "#first ver of emos function\n",
    "def emos_adjustment(df_predictions, df_actuals):\n",
    "    # Add day of year for seasonality\n",
    "    df_predictions['doy'] = df_predictions['time'].dt.dayofyear\n",
    "    df_actuals['doy'] = df_actuals['time'].dt.dayofyear\n",
    "\n",
    "    # Add seasonal adjustment features\n",
    "    seasonal_features = lambda doy: {\n",
    "        'sin1_doy': np.sin(2 * np.pi * doy / 365),\n",
    "        'cos1_doy': np.cos(2 * np.pi * doy / 365),\n",
    "        'sin2_doy': np.sin(4 * np.pi * doy / 365),\n",
    "        'cos2_doy': np.cos(4 * np.pi * doy / 365)\n",
    "    }\n",
    "    df_predictions = df_predictions.join(df_predictions['doy'].apply(lambda x: pd.Series(seasonal_features(x))))\n",
    "    df_actuals = df_actuals.join(df_actuals['doy'].apply(lambda x: pd.Series(seasonal_features(x))))\n",
    "\n",
    "    # Select the first hour prediction to compare with actuals (simplification)\n",
    "    df_emos = pd.DataFrame({\n",
    "        'predictions': df_predictions['Predicted T2M_1h'],\n",
    "        'actuals': df_actuals['T2M'],\n",
    "        'sin1_doy': df_predictions['sin1_doy'],\n",
    "        'cos1_doy': df_predictions['cos1_doy'],\n",
    "        'sin2_doy': df_predictions['sin2_doy'],\n",
    "        'cos2_doy': df_predictions['cos2_doy']\n",
    "    })\n",
    "\n",
    "    # Fit models for mean and log variance\n",
    "    X = sm.add_constant(df_emos[['predictions', 'sin1_doy', 'cos1_doy', 'sin2_doy', 'cos2_doy']])\n",
    "    y_mu = df_emos['actuals']\n",
    "    model_mu = sm.OLS(y_mu, X).fit()\n",
    "\n",
    "    y_sigma = np.log((df_emos['predictions'] - df_emos['actuals'])**2)\n",
    "    model_sigma = sm.OLS(y_sigma, X).fit()\n",
    "\n",
    "    # Apply adjustments\n",
    "    df_emos['adjusted_mu'] = model_mu.predict(X)\n",
    "    df_emos['adjusted_sigma'] = np.exp(model_sigma.predict(X))\n",
    "\n",
    "    return df_emos[['adjusted_mu', 'adjusted_sigma']]"
   ]
  },
  {
   "cell_type": "code",
   "execution_count": null,
   "id": "e0704ca0-4803-43af-b54a-51faf15d62f2",
   "metadata": {},
   "outputs": [],
   "source": []
  },
  {
   "cell_type": "code",
   "execution_count": null,
   "id": "4473156e-fe95-4b12-8eb6-b4c658e632bd",
   "metadata": {},
   "outputs": [],
   "source": []
  },
  {
   "cell_type": "code",
   "execution_count": null,
   "id": "41877c44-4c54-4832-a7f0-2a992d08e57f",
   "metadata": {},
   "outputs": [],
   "source": []
  },
  {
   "cell_type": "code",
   "execution_count": null,
   "id": "2ee1e532-4db0-41b3-bf9e-da79a1a4653d",
   "metadata": {},
   "outputs": [],
   "source": []
  },
  {
   "cell_type": "code",
   "execution_count": null,
   "id": "b0d926f0-7744-484a-97e4-43e5ee516f76",
   "metadata": {},
   "outputs": [],
   "source": []
  },
  {
   "cell_type": "code",
   "execution_count": null,
   "id": "afc6f7ff-1448-4b5b-b14c-0594339869a9",
   "metadata": {},
   "outputs": [],
   "source": []
  },
  {
   "cell_type": "code",
   "execution_count": null,
   "id": "944e8bcf-04bf-4b5e-b61c-1450871df981",
   "metadata": {},
   "outputs": [],
   "source": []
  },
  {
   "cell_type": "code",
   "execution_count": null,
   "id": "93184523-f3e4-42a5-8008-e3f2bc8ac82e",
   "metadata": {},
   "outputs": [],
   "source": []
  },
  {
   "cell_type": "code",
   "execution_count": null,
   "id": "97873c75-c294-478b-9a84-fde1a5f271e1",
   "metadata": {},
   "outputs": [],
   "source": []
  },
  {
   "cell_type": "code",
   "execution_count": null,
   "id": "d79532ba-6c1f-4a96-885a-eeabd59ccda0",
   "metadata": {},
   "outputs": [],
   "source": []
  },
  {
   "cell_type": "code",
   "execution_count": null,
   "id": "ab9062e7-30dd-4e82-96fd-61d8160fac36",
   "metadata": {},
   "outputs": [],
   "source": []
  },
  {
   "cell_type": "code",
   "execution_count": null,
   "id": "e9bc38e6-5893-4c80-9b28-010bef71f2b5",
   "metadata": {},
   "outputs": [],
   "source": []
  },
  {
   "cell_type": "code",
   "execution_count": null,
   "id": "4b3f15b6-6a75-4cf9-beec-2949c1729b60",
   "metadata": {},
   "outputs": [],
   "source": []
  },
  {
   "cell_type": "code",
   "execution_count": null,
   "id": "82e25bad-139e-4d89-a6e1-9ca3d0e4e705",
   "metadata": {},
   "outputs": [],
   "source": []
  },
  {
   "cell_type": "code",
   "execution_count": null,
   "id": "b5f075ee-a8aa-4be5-8683-b674c78217c2",
   "metadata": {},
   "outputs": [],
   "source": []
  },
  {
   "cell_type": "code",
   "execution_count": null,
   "id": "826c35aa-bf29-478f-9260-6a6132e8b93e",
   "metadata": {},
   "outputs": [],
   "source": []
  },
  {
   "cell_type": "code",
   "execution_count": null,
   "id": "711f8423-6dfb-4ea0-a3ba-8bffeea72220",
   "metadata": {},
   "outputs": [],
   "source": []
  },
  {
   "cell_type": "code",
   "execution_count": null,
   "id": "748b6cb2-8b8c-4198-a953-703f4b1a7c65",
   "metadata": {},
   "outputs": [],
   "source": []
  },
  {
   "cell_type": "code",
   "execution_count": null,
   "id": "6894e7d5-b325-4c61-a6e3-bbf443ec0a79",
   "metadata": {},
   "outputs": [],
   "source": []
  },
  {
   "cell_type": "code",
   "execution_count": null,
   "id": "0233a1d5-24a9-4419-9de5-26e519983309",
   "metadata": {},
   "outputs": [],
   "source": [
    "#to do\n",
    "import numpy as np\n",
    "import tensorflow as tf\n",
    "from tensorflow.keras.layers import Input, Dense\n",
    "from tensorflow.keras.models import Model\n",
    "from tensorflow.keras.optimizers import Adam\n",
    "\n",
    "def softplus_activation(x):\n",
    "    \"\"\" Softplus activation function to ensure positive standard deviations. \"\"\"\n",
    "    return tf.math.log(1 + tf.math.exp(x))\n",
    "\n",
    "def build_anet_model(input_dim, output_dim):\n",
    "    \"\"\" Build the ANET model for post-processing ensemble predictions. \"\"\"\n",
    "    input_layer = Input(shape=(input_dim,))\n",
    "    # Simple MLP with attention mechanism\n",
    "    attention_weights = Dense(input_dim, activation='softmax', name='attention_weights')(input_layer)\n",
    "    weighted_inputs = tf.multiply(input_layer, attention_weights)\n",
    "    \n",
    "    # Predicting ensemble corrections\n",
    "    correction_means = Dense(output_dim, activation='linear', name='correction_means')(weighted_inputs)\n",
    "    correction_stds = Dense(output_dim, activation=softplus_activation, name='correction_stds')(weighted_inputs)\n",
    "    \n",
    "    model = Model(inputs=input_layer, outputs=[correction_means, correction_stds])\n",
    "    return model\n",
    "\n",
    "def negative_log_likelihood(y_true, y_pred):\n",
    "    \"\"\" Negative log-likelihood loss function for Gaussian predictions. \"\"\"\n",
    "    mean_pred, std_pred = y_pred\n",
    "    mse = tf.square(y_true - mean_pred)\n",
    "    variance = std_pred ** 2\n",
    "    log_likelihood = 0.5 * tf.math.log(2 * np.pi * variance) + mse / (2 * variance)\n",
    "    return tf.reduce_mean(log_likelihood)\n",
    "\n",
    "# Parameters\n",
    "input_dim = feature_count  # The number of features/ensemble members\n",
    "output_dim = hours_to_predict  # Number of forecast hours\n",
    "\n",
    "# Model\n",
    "anet_model = build_anet_model(input_dim, output_dim)\n",
    "optimizer = Adam(learning_rate=0.001)\n",
    "anet_model.compile(optimizer=optimizer, loss=negative_log_likelihood)\n",
    "\n",
    "# Example usage\n",
    "#train_model, val_model could be parts of your dataset treated as ensemble predictions\n",
    "anet_model.fit(model, 'T2M', validation_data=(val_model, val_labels), epochs=2)\n"
   ]
  },
  {
   "cell_type": "code",
   "execution_count": null,
   "id": "e4c706b5-cd77-4ede-8ab6-cc5d9c890c26",
   "metadata": {},
   "outputs": [],
   "source": []
  },
  {
   "cell_type": "code",
   "execution_count": null,
   "id": "f9c95d9a-6a1d-4655-b144-fd056f401406",
   "metadata": {},
   "outputs": [],
   "source": [
    "def emos_adjustment(df_predictions, df_actuals):\n",
    "    # Add day of year for seasonality\n",
    "    df_predictions['doy'] = df_predictions['time'].dt.dayofyear\n",
    "    df_actuals['doy'] = df_actuals['time'].dt.dayofyear\n",
    "\n",
    "    # Add seasonal adjustment features\n",
    "    seasonal_features = lambda doy: {\n",
    "        'sin1_doy': np.sin(2 * np.pi * doy / 365),\n",
    "        'cos1_doy': np.cos(2 * np.pi * doy / 365),\n",
    "        'sin2_doy': np.sin(4 * np.pi * doy / 365),\n",
    "        'cos2_doy': np.cos(4 * np.pi * doy / 365)\n",
    "    }\n",
    "    df_predictions = df_predictions.join(df_predictions['doy'].apply(lambda x: pd.Series(seasonal_features(x))))\n",
    "    df_actuals = df_actuals.join(df_actuals['doy'].apply(lambda x: pd.Series(seasonal_features(x))))\n",
    "\n",
    "    # Select the first hour prediction to compare with actuals (simplification)\n",
    "    df_emos = pd.DataFrame({\n",
    "        'predictions': df_predictions['Predicted T2M_1h'],\n",
    "        'actuals': df_actuals['T2M'],\n",
    "        'sin1_doy': df_predictions['sin1_doy'],\n",
    "        'cos1_doy': df_predictions['cos1_doy'],\n",
    "        'sin2_doy': df_predictions['sin2_doy'],\n",
    "        'cos2_doy': df_predictions['cos2_doy']\n",
    "    })\n",
    "\n",
    "    # Fit models for mean and log variance\n",
    "    X = sm.add_constant(df_emos[['predictions', 'sin1_doy', 'cos1_doy', 'sin2_doy', 'cos2_doy']])\n",
    "    y_mu = df_emos['actuals']\n",
    "    model_mu = sm.OLS(y_mu, X).fit()\n",
    "\n",
    "    y_sigma = np.log((df_emos['predictions'] - df_emos['actuals'])**2)\n",
    "    model_sigma = sm.OLS(y_sigma, X).fit()\n",
    "\n",
    "    # Apply adjustments\n",
    "    df_emos['adjusted_mu'] = model_mu.predict(X)\n",
    "    df_emos['adjusted_sigma'] = np.exp(model_sigma.predict(X))\n",
    "\n",
    "    return df_emos[['adjusted_mu', 'adjusted_sigma']]"
   ]
  },
  {
   "cell_type": "code",
   "execution_count": null,
   "id": "70227a9d-d33e-4087-8f10-cc19c8639f35",
   "metadata": {},
   "outputs": [],
   "source": [
    "def emos_adjustment(df_predictions, df_actuals):\n",
    "    # Add day of year for seasonality\n",
    "    df_predictions['doy'] = df_predictions['time'].dt.dayofyear\n",
    "    df_actuals['doy'] = df_actuals['time'].dt.dayofyear\n",
    "\n",
    "    # Add seasonal adjustment features\n",
    "    seasonal_features = lambda doy: {\n",
    "        'sin1_doy': np.sin(2 * np.pi * doy / 365),\n",
    "        'cos1_doy': np.cos(2 * np.pi * doy / 365),\n",
    "        'sin2_doy': np.sin(4 * np.pi * doy / 365),\n",
    "        'cos2_doy': np.cos(4 * np.pi * doy / 365)\n",
    "    }\n",
    "    df_predictions = df_predictions.join(df_predictions['doy'].apply(lambda x: pd.Series(seasonal_features(x))))\n",
    "    df_actuals = df_actuals.join(df_actuals['doy'].apply(lambda x: pd.Series(seasonal_features(x))))\n",
    "\n",
    "    # Select the first hour prediction to compare with actuals (simplification)\n",
    "    df_emos = pd.DataFrame({\n",
    "        'predictions': df_predictions['Predicted T2M_1h'],\n",
    "        'actuals': df_actuals['T2M'],\n",
    "        'sin1_doy': df_predictions['sin1_doy'],\n",
    "        'cos1_doy': df_predictions['cos1_doy'],\n",
    "        'sin2_doy': df_predictions['sin2_doy'],\n",
    "        'cos2_doy': df_predictions['cos2_doy']\n",
    "    })\n",
    "\n",
    "    # Fit models for mean and log variance\n",
    "    X = sm.add_constant(df_emos[['predictions', 'sin1_doy', 'cos1_doy', 'sin2_doy', 'cos2_doy']])\n",
    "    y_mu = df_emos['actuals']\n",
    "    model_mu = sm.OLS(y_mu, X).fit()\n",
    "\n",
    "    y_sigma = np.log((df_emos['predictions'] - df_emos['actuals'])**2)\n",
    "    model_sigma = sm.OLS(y_sigma, X).fit()\n",
    "\n",
    "    # Apply adjustments\n",
    "    df_emos['adjusted_mu'] = model_mu.predict(X)\n",
    "    df_emos['adjusted_sigma'] = np.exp(model_sigma.predict(X))\n",
    "\n",
    "    return df_emos[['adjusted_mu', 'adjusted_sigma']]\n",
    "\n",
    "\n",
    "# Fetch new data for making predictions\n",
    "new_start_date = '2024-05-01T09'\n",
    "new_end_date = '2024-05-02T08'\n",
    "new_data, new_time_index = get_data_for_convlstm(new_start_date, new_end_date)\n",
    "\n",
    "# Ensure 'time' column is correctly formatted and excluded from scaling\n",
    "new_data['time'] = pd.to_datetime(new_time_index)\n",
    "time_column = new_data['time']  # Save the time column for later use\n",
    "data_for_scaling = new_data.drop('time', axis=1)  # Drop non-numerical columns\n",
    "\n",
    "# Scale the data using the pre-trained scaler\n",
    "new_data_scaled = scaler.transform(data_for_scaling)\n",
    "new_data_scaled_df = pd.DataFrame(new_data_scaled, columns=data_for_scaling.columns)\n",
    "\n",
    "# Add the 'time' column back to the scaled DataFrame\n",
    "new_data_scaled_df['time'] = time_column\n",
    "\n",
    "# Generate sequences for model prediction\n",
    "sequence_length = 24  # Define sequence length used during model training\n",
    "feature_count = new_data_scaled_df.shape[1] - 1  # excluding the time column\n",
    "hours_to_predict = 6  # Define how many hours ahead the model should predict\n",
    "new_X = create_sequences(new_data_scaled_df.drop('time', axis=1), 'T2M', sequence_length, feature_count, hours_to_predict, include_target=False)\n",
    "new_X = new_X.reshape((new_X.shape[0], sequence_length, 1, 1, feature_count))\n",
    "\n",
    "# Make predictions\n",
    "predictions = model.predict(new_X)\n",
    "\n",
    "# Create new timestamps for predictions\n",
    "prediction_time_index = pd.date_range(start=new_time_index[-1], periods=hours_to_predict, freq='H')\n",
    "\n",
    "# Create DataFrame for predictions\n",
    "predictions_df = pd.DataFrame(predictions, index=prediction_time_index, columns=new_data_scaled_df.columns[:-1])\n",
    "\n",
    "# Add 'time' column to the DataFrame\n",
    "predictions_df['time'] = prediction_time_index\n",
    "\n",
    "# Reorder columns to have 'time' as the first column\n",
    "predictions_df = predictions_df[['time'] + list(predictions_df.columns[:-1])]\n",
    "\n",
    "# Display the DataFrame\n",
    "predictions_df\n",
    "#predictions_df = pd.DataFrame(predictions, index=new_time_index[-len(predictions):], columns=new_data_scaled_df.columns.intersection(predictions))\n",
    "#predictions_df['time'] = pd.to_datetime(new_time_index[-len(predictions):])  # Ensure time column is set correctly\n",
    "\n",
    "# Re-run EMOS adjustment with clean data\n",
    "print(predictions_df, new_data)\n",
    "adjusted_predictions = emos_adjustment(predictions_df, new_data)\n",
    "\n",
    "\n"
   ]
  },
  {
   "cell_type": "code",
   "execution_count": null,
   "id": "1e590502-f0fc-4238-9b4c-b6bc84b510fc",
   "metadata": {},
   "outputs": [],
   "source": []
  },
  {
   "cell_type": "code",
   "execution_count": null,
   "id": "2daccad2-fd3e-4688-a1cc-06beaf6f207b",
   "metadata": {},
   "outputs": [],
   "source": [
    "start_date_predict = '2024-04-25T00'\n",
    "end_date_predict = '2024-05-01T08'\n",
    "data_for_prediction, time_index_pre_data = get_data_for_convlstm(start_date_predict, end_date_predict)\n",
    "\n",
    "# Transform the data for prediction\n",
    "df_scaled = scaler.transform(data_for_prediction)\n",
    "df_scaled = pd.DataFrame(df_scaled, columns=data_for_prediction.columns)\n",
    "\n",
    "# Prepare sequences for prediction\n",
    "sequence_length = 24  # Define sequence length as used in your model training\n",
    "feature_count = df_scaled.shape[1]\n",
    "latest_sequence = df_scaled.tail(sequence_length).values.reshape(1, sequence_length, 1, 1, feature_count)\n",
    "\n",
    "# Predict future temperatures\n",
    "future_temperatures = model.predict(latest_sequence)\n",
    "\n",
    "# Assuming 'future_temperatures' returns predictions for multiple hours ahead, \n",
    "# let's adjust the `dummy_output_array` to match the number of predictions.\n",
    "\n",
    "# Reverse scaling to get actual temperature values\n",
    "num_predictions = len(future_temperatures.flatten())  # Number of prediction points\n",
    "dummy_output_array = np.zeros((num_predictions, feature_count))  # Adjusted for multiple predictions\n",
    "dummy_output_array[:, 3] = future_temperatures.flatten()  # Assuming 'T2M' is at index 3\n",
    "predicted_temps = scaler.inverse_transform(dummy_output_array)[:, 3]\n",
    "\n",
    "# Check if time_index_pre_data is a pandas Series or DataFrame column\n",
    "if isinstance(time_index_pre_data, pd.Series):\n",
    "    last_timestamp = pd.to_datetime(time_index_pre_data.iloc[-1])\n",
    "elif isinstance(time_index_pre_data, pd.DataFrame):\n",
    "    last_timestamp = pd.to_datetime(time_index_pre_data.iloc[-1, 0])  # Assuming time is in the first column\n",
    "else:\n",
    "    # Fallback if it's a list or numpy array\n",
    "    last_timestamp = pd.to_datetime(time_index_pre_data[-1])\n",
    "\n",
    "# Continue with the timestamp handling\n",
    "prediction_frequency = 'H'\n",
    "num_predictions = len(future_temperatures.flatten())\n",
    "new_timestamps = pd.date_range(start=last_timestamp + pd.Timedelta(hours=1), periods=num_predictions, freq=prediction_frequency)\n",
    "predictions_df = pd.DataFrame(predicted_temps, index=new_timestamps, columns=['Predicted T2M'])\n",
    "\n",
    "# Fetch actual data for the same prediction period for comparison and EMOS adjustments\n",
    "start_date_actual = '2024-05-01T08'\n",
    "end_date_actual = '2024-05-02T08'\n",
    "data_actual_for_prediction, time_index_actual_data = get_data_for_convlstm(start_date_actual, end_date_actual)\n",
    "\n",
    "# Create DataFrame for actuals\n",
    "actuals_df = pd.DataFrame({\n",
    "    'time': time_index_actual_data,\n",
    "    'temperature': data_actual_for_prediction['T2M']  # Assuming 'T2M' is the temperature column\n",
    "})\n",
    "\n",
    "# Apply EMOS Adjustments\n",
    "adjusted_emos = emos_adjustment(predictions_df, actuals_df)\n",
    "print(adjusted_emos.head())"
   ]
  },
  {
   "cell_type": "code",
   "execution_count": null,
   "id": "05fab5f6-5fae-405e-931d-8c06601de466",
   "metadata": {},
   "outputs": [],
   "source": [
    "start_date = '2023-01-01T00'\n",
    "end_date = '2023-12-31T00'\n",
    "raw_data = fetch_data(start_date, end_date)\n",
    "\n",
    "# Step 2: Process and Engineer Features\n",
    "processed_data, time_index = feature_engineering(raw_data.copy())\n",
    "\n",
    "# Step 3: Simulate Predictions (normally you'd use a trained model)\n",
    "# For demonstration, let's assume predictions are slightly off from the actual T2M readings\n",
    "predictions = processed_data.copy()\n",
    "predictions['temperature_predictions'] = predictions['T2M'] + np.random.normal(0, 0.5, size=len(predictions))\n",
    "\n",
    "# Creating DataFrame for predictions and actuals\n",
    "df_predictions = pd.DataFrame({\n",
    "    'time': time_index,\n",
    "    'temperature_predictions': predictions['temperature_predictions']\n",
    "})\n",
    "\n",
    "df_actuals = pd.DataFrame({\n",
    "    'time': time_index,\n",
    "    'temperature': processed_data['T2M']\n",
    "})\n",
    "\n",
    "# Step 4: Apply EMOS Adjustments\n",
    "adjusted_emos = emos_adjustment(df_predictions, df_actuals)\n",
    "print(adjusted_emos.head())"
   ]
  },
  {
   "cell_type": "code",
   "execution_count": null,
   "id": "8bf040c5-a358-48fb-ad76-67fdbae4d048",
   "metadata": {},
   "outputs": [],
   "source": []
  },
  {
   "cell_type": "code",
   "execution_count": null,
   "id": "4d9dbad9-b183-4414-bd65-68dd15240fe0",
   "metadata": {},
   "outputs": [],
   "source": []
  },
  {
   "cell_type": "code",
   "execution_count": null,
   "id": "9d40697f-a83a-4ba0-9a42-4f39f00f1979",
   "metadata": {},
   "outputs": [],
   "source": []
  },
  {
   "cell_type": "code",
   "execution_count": null,
   "id": "27c8b4f7-88cd-4892-9576-89aae4dece02",
   "metadata": {},
   "outputs": [],
   "source": []
  },
  {
   "cell_type": "code",
   "execution_count": null,
   "id": "2dd7619e-fd81-4527-939e-edd589c742eb",
   "metadata": {},
   "outputs": [],
   "source": []
  },
  {
   "cell_type": "code",
   "execution_count": null,
   "id": "6d08178f-41af-489a-a9b0-498670f4d112",
   "metadata": {},
   "outputs": [],
   "source": [
    "#train data\n",
    "data, index_data = get_data_for_convlstm('2024-04-25T00', '2024-05-01T08')\n",
    "test_scaler = copy.deepcopy(scaler)\n",
    "# Transform the data for prediction\n",
    "data_scaled = test_scaler.transform(data)\n",
    "data_scaled = pd.DataFrame(data_scaled, columns=data.columns)\n",
    "#latest_sequence = df_scaled.tail(sequence_length).values.reshape(1, sequence_length, 1, 1, feature_count)\n",
    "\n",
    "X, y = create_sequences(data_scaled, param, sequence_length, feature_count, hours_to_predict)\n",
    "\n",
    "\n",
    "# Predict using the model\n",
    "pred_data = model.predict(X.reshape((-1, sequence_length, 1, 1, feature_count)))\n",
    "data['time'] = index_data  # Assuming index_data contains the datetime index\n",
    "last_timestamp = data['time'].iloc[-1]\n",
    "\n",
    "# Post-prediction transformation back\n",
    "dummy_output_array = np.zeros((pred_data.shape[0], test_scaler.n_features_in_))\n",
    "dummy_output_array[:, 3] = pred_data.flatten()  # Assume the third index is T2M\n",
    "predicted_temps = test_scaler.inverse_transform(dummy_output_array)[:, 3]\n",
    "\n",
    "# Create a DataFrame for predictions\n",
    "prediction_frequency = 'H'\n",
    "new_timestamps = pd.date_range(start=last_timestamp + timedelta(hours=1), periods=len(predicted_temps), freq=prediction_frequency)\n",
    "predictions_df = pd.DataFrame(predicted_temps, index=new_timestamps, columns=['Predicted T2M'])\n",
    "predictions_df['day_of_year'] = new_timestamps.dayofyear\n",
    "\n",
    "# Step 2: Fetch Actual Data for Comparison\n",
    "data_actual_for_prediction, time_index_actual_data = get_data_for_convlstm('2024-05-01T08', '2024-05-01T16')\n",
    "data_actual_for_prediction['time'] = time_index_actual_data\n",
    "data_actual_for_prediction.set_index('time', inplace=True)\n",
    "\n",
    "# Filter only necessary columns for actuals\n",
    "data_actual_for_prediction = data_actual_for_prediction[['T2M', 'day_of_year']]\n",
    "\n",
    "# Print outputs for verification\n",
    "print(predictions_df.head())\n",
    "print(data_actual_for_prediction.head())\n"
   ]
  },
  {
   "cell_type": "code",
   "execution_count": null,
   "id": "57f59480-1237-4ba6-a117-c32278059ff4",
   "metadata": {},
   "outputs": [],
   "source": [
    "actual_temps = data_actual_for_prediction['T2M'].reindex(predictions_df.index, method='nearest')  # Ensure alignment\n",
    "predicted_temps = predictions_df['Predicted T2M']\n",
    "metrics = calculate_nowcasting_metrics(actual_temps.values, predicted_temps.values)\n",
    "print(metrics)"
   ]
  },
  {
   "cell_type": "code",
   "execution_count": null,
   "id": "331bb5b9-5d60-4f37-9831-813b7254c8ce",
   "metadata": {},
   "outputs": [],
   "source": []
  },
  {
   "cell_type": "code",
   "execution_count": null,
   "id": "753cded3-5139-4564-89d5-26fe6cfc97b3",
   "metadata": {},
   "outputs": [],
   "source": [
    "def seasonal_adjustment(doy):\n",
    "    return {\n",
    "        'sin1_doy': np.sin(2 * np.pi * doy / 365),\n",
    "        'cos1_doy': np.cos(2 * np.pi * doy / 365),\n",
    "        'sin2_doy': np.sin(4 * np.pi * doy / 365),\n",
    "        'cos2_doy': np.cos(4 * np.pi * doy / 365)\n",
    "    }\n"
   ]
  },
  {
   "cell_type": "code",
   "execution_count": null,
   "id": "9d85a85d-2b67-49ff-a5dd-838d897bf436",
   "metadata": {},
   "outputs": [],
   "source": [
    "# Assuming 'get_data_for_convlstm' is defined elsewhere and properly implemented\n",
    "data_for_prediction, time_index_pre_data = get_data_for_convlstm('2024-04-20T00', '2024-04-28T08')\n",
    "\n",
    "# Ensure scaler is fitted; if it's the first use, fit on some initial data or the current data\n",
    "scaler = MinMaxScaler()\n",
    "scaler.fit(data_for_prediction)  # Fit if not already done; else skip\n",
    "\n",
    "# Transform the data for prediction\n",
    "df_scaled = scaler.transform(data_for_prediction)\n",
    "df_scaled = pd.DataFrame(df_scaled, columns=data_for_prediction.columns)\n",
    "latest_sequence = df_scaled.tail(sequence_length).values.reshape(1, sequence_length, 1, 1, feature_count)\n",
    "future_temperatures = model.predict(latest_sequence)\n",
    "dummy_output_array = np.zeros((hours_to_predict, scaler.n_features_in_))\n",
    "dummy_output_array[:, 3] = future_temperatures.flatten()  # Ensure to flatten if necessary\n",
    "predicted_temps = scaler.inverse_transform(dummy_output_array)[:, 3]\n",
    "\n",
    "# Timestamp handling\n",
    "data_for_prediction.index = time_index_pre_data\n",
    "last_timestamp = data_for_prediction.index[-1]\n",
    "prediction_frequency = 'H'\n",
    "new_timestamps = pd.date_range(start=last_timestamp + pd.Timedelta(hours=1), periods=len(predicted_temps), freq=prediction_frequency)\n",
    "predictions_df = pd.DataFrame(predicted_temps, index=new_timestamps, columns=['Predicted T2M'])\n",
    "\n",
    "# Fetch and set the actual data for comparison\n",
    "data_actual_for_prediction, time_index_actual_data = get_data_for_convlstm('2024-04-28T08', '2024-04-29T00')\n",
    "data_actual_for_prediction.index = time_index_actual_data\n"
   ]
  },
  {
   "cell_type": "code",
   "execution_count": null,
   "id": "46599343-ca6a-42c6-98e1-1ae81ff36aec",
   "metadata": {},
   "outputs": [],
   "source": [
    "# Assume 'df_predictions' holds the predictions and their corresponding times\n",
    "# Assume 'df_actuals' holds the actual observed temperatures and their corresponding times\n",
    "df_predictions['doy'] = df_predictions['time'].dt.dayofyear\n",
    "df_actuals['doy'] = df_actuals['time'].dt.dayofyear\n",
    "\n",
    "# Add seasonal features\n",
    "df_predictions = df_predictions.join(df_predictions['doy'].apply(lambda x: pd.Series(seasonal_adjustment(x))))\n",
    "df_actuals = df_actuals.join(df_actuals['doy'].apply(lambda x: pd.Series(seasonal_adjustment(x))))\n",
    "\n",
    "# Prepare the DataFrame for fitting EMOS\n",
    "df_emos = pd.DataFrame({\n",
    "    'predictions': df_predictions['temperature_predictions'],\n",
    "    'actuals': df_actuals['temperature'],\n",
    "    'doy': df_predictions['doy'],\n",
    "    **df_predictions[['sin1_doy', 'cos1_doy', 'sin2_doy', 'cos2_doy']]\n",
    "})\n"
   ]
  },
  {
   "cell_type": "code",
   "execution_count": null,
   "id": "b1e8f33e-fc4b-4d45-b4c7-81344846f00e",
   "metadata": {},
   "outputs": [],
   "source": [
    "import statsmodels.api as sm\n",
    "\n",
    "# Model for the mean μ(t)\n",
    "X_mu = sm.add_constant(df_emos[['predictions', 'sin1_doy', 'cos1_doy', 'sin2_doy', 'cos2_doy']])\n",
    "y_mu = df_emos['actuals']\n",
    "model_mu = sm.OLS(y_mu, X_mu).fit()\n",
    "\n",
    "# Model for log variance log(σ)\n",
    "X_sigma = X_mu  # Using the same predictors for simplicity, though you might choose differently\n",
    "y_sigma = np.log((df_emos['predictions'] - df_emos['actuals'])**2)  # Simple variance estimation\n",
    "model_sigma = sm.OLS(y_sigma, X_sigma).fit()\n"
   ]
  },
  {
   "cell_type": "code",
   "execution_count": null,
   "id": "6882d5f4-d5aa-4be5-a678-e415e39e9dae",
   "metadata": {},
   "outputs": [],
   "source": [
    "# Predict adjustments\n",
    "df_emos['adjusted_mu'] = model_mu.predict(X_mu)\n",
    "df_emos['adjusted_sigma'] = np.exp(model_sigma.predict(X_sigma))\n",
    "\n",
    "# These adjusted predictions can now be used in your evaluation or deployment\n"
   ]
  },
  {
   "cell_type": "code",
   "execution_count": null,
   "id": "667ef1bf-46cd-4989-9530-cf2f8b68b482",
   "metadata": {},
   "outputs": [],
   "source": []
  },
  {
   "cell_type": "code",
   "execution_count": null,
   "id": "f963cab1-512f-428a-960c-21976ab66981",
   "metadata": {},
   "outputs": [],
   "source": []
  },
  {
   "cell_type": "code",
   "execution_count": null,
   "id": "74006bb6-c6ee-49d1-a924-b37ed04f3627",
   "metadata": {},
   "outputs": [],
   "source": []
  },
  {
   "cell_type": "code",
   "execution_count": null,
   "id": "b704d89f-b012-4cf7-834a-ba1df7523a32",
   "metadata": {},
   "outputs": [],
   "source": []
  },
  {
   "cell_type": "code",
   "execution_count": null,
   "id": "3310188e-479c-4bff-b8ab-61b3026f05c3",
   "metadata": {},
   "outputs": [],
   "source": []
  },
  {
   "cell_type": "code",
   "execution_count": null,
   "id": "352e577e-0ef9-4579-ab66-765cff5f9d54",
   "metadata": {},
   "outputs": [],
   "source": []
  },
  {
   "cell_type": "code",
   "execution_count": null,
   "id": "dfd93619-3732-485c-b836-6129e3dc3f10",
   "metadata": {},
   "outputs": [],
   "source": []
  },
  {
   "cell_type": "code",
   "execution_count": null,
   "id": "b1484af0-2a3e-4483-b4f3-c6c8681df6ae",
   "metadata": {},
   "outputs": [],
   "source": []
  },
  {
   "cell_type": "code",
   "execution_count": null,
   "id": "9ab630cc-8adf-4d29-8074-11bfb0e84b63",
   "metadata": {},
   "outputs": [],
   "source": [
    "import pandas as pd\n",
    "import numpy as np\n",
    "import statsmodels.api as sm\n",
    "from sklearn.preprocessing import MinMaxScaler\n",
    "from datetime import datetime\n",
    "\n",
    "# Assuming fetch_data and feature_engineering functions are available\n",
    "\n",
    "def fetch_and_process_data():\n",
    "    # Fetch data\n",
    "    df_raw = fetch_data()  # You need to define or replace fetch_data with actual implementation\n",
    "    df_processed, time_index = feature_engineering(df_raw.copy())  # Similarly, ensure feature_engineering is correctly implemented\n",
    "    return df_processed, time_index\n",
    "\n",
    "df, time_index = fetch_and_process_data()\n"
   ]
  },
  {
   "cell_type": "code",
   "execution_count": null,
   "id": "289af0c7-618a-452c-9f58-94c15b18c83a",
   "metadata": {},
   "outputs": [],
   "source": [
    "model_folder_name = \"model_folder20240504_134242\"\n",
    "model = tf.keras.models.load_model(os.path.join(model_folder_name, 'model.keras'))\n",
    "scaler = joblib.load(os.path.join(model_folder_name, 'scaler.pkl'))\n"
   ]
  },
  {
   "cell_type": "code",
   "execution_count": null,
   "id": "86dbc144-0c52-4e38-b0a5-dab6ea873988",
   "metadata": {},
   "outputs": [],
   "source": [
    "df_scaled = scaler.transform(df)\n",
    "df_scaled = pd.DataFrame(df_scaled, columns=df.columns)\n",
    "hours_to_predict = 10\n",
    "\n",
    "X_train, y_train = create_sequences(df_scaled, param, sequence_length, feature_count, hours_to_predict)\n",
    "\n",
    "latest_sequence = X_train.reshape(1, sequence_length, 1, 1, feature_count)\n",
    "\n",
    "future_temperatures = model.predict(latest_sequence)\n",
    "dummy_output_array = np.zeros((df_scaled[0], scaler.n_features_in_))\n",
    "dummy_output_array[:, 3] = future_temperatures.flatten()  # Ensure to flatten if necessary\n",
    "predicted_temps = scaler.inverse_transform(dummy_output_array)\n",
    "\n",
    "\n",
    "# Timestamp handling\n",
    "#data_for_prediction.index = time_index_pre_data\n",
    "#last_timestamp = data_for_prediction.index[-1]\n",
    "#prediction_frequency = 'H'\n",
    "#new_timestamps = pd.date_range(start=last_timestamp + pd.Timedelta(hours=1), periods=len(predicted_temps), freq=prediction_frequency)\n",
    "#predictions_df = pd.DataFrame(predicted_temps, index=new_timestamps, columns=['Predicted T2M'])\n",
    "\n",
    "# Fetch and set the actual data for comparison\n",
    "#data_actual_for_prediction, time_index_actual_data = get_data_for_convlstm('2024-04-28T08', '2024-04-29T00')\n",
    "#data_actual_for_prediction.index = time_index_actual_data\n"
   ]
  },
  {
   "cell_type": "code",
   "execution_count": null,
   "id": "8c30bc78-a4c5-431c-ab6f-b30017f9c73b",
   "metadata": {},
   "outputs": [],
   "source": [
    "# Print the shape of X_train to understand its current structure\n",
    "print(\"Shape of X_train:\", X_train.shape)\n"
   ]
  },
  {
   "cell_type": "code",
   "execution_count": null,
   "id": "a1cc4389-297f-4f83-831a-e8a2419b0644",
   "metadata": {},
   "outputs": [],
   "source": [
    "\n",
    "# Add 'day of the year' for EMOS adjustments\n",
    "\n",
    "# Normalize the data\n",
    "\n",
    "#df_numeric = df[numeric_cols]\n",
    "df_scaled = scaler.fit_transform(df)\n",
    "df_scaled = pd.DataFrame(df_scaled, columns=df.columns)\n",
    "\n",
    "\n",
    "X = df_scaled.tail(sequence_length).values.reshape(1, sequence_length, 1, 1, feature_count)\n",
    "#future_temperatures = model.predict(latest_sequence)\n",
    "\n",
    "# Make predictions\n",
    "predictions = model.predict(X).flatten()\n",
    "#dummy_output_array = np.zeros((hours_to_predict, scaler.n_features_in_))\n",
    "#dummy_output_array[:, 3] = predictions.flatten() \n",
    "#predictions_rescaled = scaler.inverse_transform(predictions)  # Assume predictions need rescaling\n",
    "\n"
   ]
  },
  {
   "cell_type": "code",
   "execution_count": null,
   "id": "5ed207f5-2134-45f8-95c9-c6c86808ee4c",
   "metadata": {},
   "outputs": [],
   "source": []
  },
  {
   "cell_type": "code",
   "execution_count": null,
   "id": "01ec554a-0e0f-4d05-9f2f-f66746166f28",
   "metadata": {},
   "outputs": [],
   "source": [
    "predictions"
   ]
  },
  {
   "cell_type": "code",
   "execution_count": null,
   "id": "4a08787a-54be-47d0-90ce-f357f7526380",
   "metadata": {},
   "outputs": [],
   "source": [
    "# Reshape data for ConvLSTM (assuming this is required by your model)\n",
    "#X = df_scaled.values.reshape((df_scaled.shape[0], 1, 1, df_scaled.shape[1]))  # Change as per your model's input requirement\n",
    "\n",
    "\n",
    "X = df_scaled.tail(sequence_length).values.reshape(1, sequence_length, 1, 1, feature_count)\n",
    "#future_temperatures = model.predict(latest_sequence)\n",
    "\n",
    "# Make predictions\n",
    "predictions = model.predict(X)\n",
    "predictions_rescaled = scaler.inverse_transform(predictions)  # Assume predictions need rescaling\n"
   ]
  },
  {
   "cell_type": "code",
   "execution_count": null,
   "id": "a1904803-6a32-4432-9ca6-b58d20b8a204",
   "metadata": {},
   "outputs": [],
   "source": []
  },
  {
   "cell_type": "code",
   "execution_count": null,
   "id": "7cbaeaef-e7ac-4293-ad82-9880524e9461",
   "metadata": {},
   "outputs": [],
   "source": [
    "# Create a DataFrame to hold predictions and actual data for fitting EMOS\n",
    "df_emos = pd.DataFrame({\n",
    "    'doy': df['doy'],\n",
    "    'predictions_y': predictions_rescaled.flatten(),  # Flatten if necessary\n",
    "    'test_y': df['actual_temperature']  # Replace 'actual_temperature' with the column name from your dataset containing actual temperatures\n",
    "})\n",
    "\n",
    "# Adding a constant and doy features for regression\n",
    "X = sm.add_constant(df_emos[['doy', 'predictions_y']])\n",
    "y = df_emos['test_y']\n",
    "\n",
    "# Fit the EMOS model for mean adjustment\n",
    "model_mu = sm.OLS(y, X).fit()\n",
    "\n",
    "# Calculate residuals as a proxy for sigma if not directly available\n",
    "df_emos['log_sigma'] = np.log(np.abs(df_emos['predictions_y'] - df_emos['test_y']))\n",
    "\n",
    "X_sigma = sm.add_constant(df_emos[['doy', 'log_sigma']])\n",
    "model_sigma = sm.OLS(df_emos['log_sigma'], X_sigma).fit()\n",
    "\n",
    "# Predict adjusted values\n",
    "df_emos['adjusted_mu'] = model_mu.predict(X)\n",
    "df_emos['adjusted_sigma'] = np.exp(model_sigma.predict(X_sigma))\n"
   ]
  },
  {
   "cell_type": "code",
   "execution_count": null,
   "id": "433085ea-43f2-483c-a864-28254ede886e",
   "metadata": {},
   "outputs": [],
   "source": []
  },
  {
   "cell_type": "code",
   "execution_count": null,
   "id": "4d279a71-411a-4546-941f-ee9fc1046ba6",
   "metadata": {},
   "outputs": [],
   "source": []
  },
  {
   "cell_type": "code",
   "execution_count": null,
   "id": "dac87ddf-138b-424a-9d68-4f2a4dc86a43",
   "metadata": {},
   "outputs": [],
   "source": []
  },
  {
   "cell_type": "code",
   "execution_count": null,
   "id": "666e9725-d64e-45ca-84fa-6c82bf480609",
   "metadata": {},
   "outputs": [],
   "source": []
  },
  {
   "cell_type": "code",
   "execution_count": null,
   "id": "3e5c784f-c41d-4b37-b6ed-9be328711483",
   "metadata": {},
   "outputs": [],
   "source": []
  },
  {
   "cell_type": "code",
   "execution_count": null,
   "id": "41e7a031-7c28-4f4d-8ff2-44a5b7ed2439",
   "metadata": {},
   "outputs": [],
   "source": []
  },
  {
   "cell_type": "code",
   "execution_count": null,
   "id": "8e42eb0a-7471-405f-a6b4-2e958261fd24",
   "metadata": {},
   "outputs": [],
   "source": []
  },
  {
   "cell_type": "code",
   "execution_count": null,
   "id": "4a48bb15-2151-45f7-a40d-39f3f7c3b33a",
   "metadata": {},
   "outputs": [],
   "source": [
    "def seasonal_features(doy):\n",
    "    return {\n",
    "        'sin1': np.sin(2 * np.pi * doy / 365),\n",
    "        'cos1': np.cos(2 * np.pi * doy / 365),\n",
    "        'sin2': np.sin(4 * np.pi * doy / 365),\n",
    "        'cos2': np.cos(4 * np.pi * doy / 365)\n",
    "    }\n"
   ]
  },
  {
   "cell_type": "code",
   "execution_count": null,
   "id": "a92c6d4c-babc-4813-98bc-9ed3b33a872e",
   "metadata": {},
   "outputs": [],
   "source": [
    "# Example of creating a DataFrame\n",
    "data = {\n",
    "    'date': pd.date_range(start='2020-01-01', periods=100, freq='D'),\n",
    "    'predictions_y': np.random.normal(loc=20, scale=5, size=100),  # Simulated temperature predictions\n",
    "    'test_y': np.random.normal(loc=20, scale=5, size=100)  # Simulated actual temperatures\n",
    "}\n",
    "\n",
    "df = pd.DataFrame(data)\n",
    "df['doy'] = df['date'].dt.dayofyear\n",
    "df"
   ]
  },
  {
   "cell_type": "code",
   "execution_count": null,
   "id": "8dccd9c0-08b2-48e8-b21b-5b50e32206de",
   "metadata": {},
   "outputs": [],
   "source": [
    "import statsmodels.api as sm\n",
    "\n",
    "# Adding a constant for the regression model\n",
    "X = sm.add_constant(df[['doy', 'predictions_y']])\n",
    "\n",
    "# Dependent variable from the DataFrame\n",
    "y = df['test_y']\n",
    "\n",
    "# Fit the model for the mean (μ)\n",
    "model_mu = sm.OLS(y, X).fit()\n",
    "\n",
    "# If calculating log sigma requires actual sigma values, ensure you have this data or an approximation\n",
    "# Example of calculating a simple log sigma if not provided\n",
    "df['log_sigma'] = np.log(np.abs(df['predictions_y'] - df['test_y']))\n",
    "\n",
    "X_sigma = sm.add_constant(df[['doy', 'log_sigma']])\n",
    "model_sigma = sm.OLS(df['log_sigma'], X_sigma).fit()\n",
    "\n",
    "# Make predictions\n",
    "df['adjusted_mu'] = model_mu.predict(X)\n",
    "df['adjusted_sigma'] = np.exp(model_sigma.predict(X_sigma))  # Exponentiate to revert the log transformation\n",
    "df"
   ]
  },
  {
   "cell_type": "code",
   "execution_count": null,
   "id": "4cd470b3-6cd6-41bd-a97e-4cc53a65e4d1",
   "metadata": {},
   "outputs": [],
   "source": [
    "import statsmodels.api as sm\n",
    "\n",
    "# Assume df has columns 'doy', 'predictions_y', and 'test_y'\n",
    "X = sm.add_constant(df[['doy', 'predictions_y']])  # Including doy for seasonal adjustments\n",
    "y = df['test_y']\n",
    "\n",
    "# Fit the model for μ\n",
    "model_mu = sm.OLS(y, X).fit()\n",
    "\n",
    "# Assuming you have calculated log standard deviations as `log_sigma`\n",
    "X_sigma = sm.add_constant(df[['doy', 'log_sigma']])  # log_sigma could be calculated as np.log(predictions_y - test_y).abs()\n",
    "model_sigma = sm.OLS(np.log(y - df['predictions_y']).abs(), X_sigma).fit()\n",
    "\n",
    "# Predict adjustments\n",
    "df['adjusted_mu'] = model_mu.predict(X)\n",
    "df['adjusted_sigma'] = np.exp(model_sigma.predict(X_sigma))\n"
   ]
  },
  {
   "cell_type": "code",
   "execution_count": null,
   "id": "bb4ed7ee-5f1f-48d2-b095-78bcac7c6290",
   "metadata": {},
   "outputs": [],
   "source": [
    "# Assuming 'mu_ens' and 'sigma_ens' are columns in your forecast DataFrame, containing ensemble mean and std dev\n",
    "\n",
    "# Prepare your features with the seasonal functions added\n",
    "seasonal_data = pd.DataFrame(list(forecast_df['doy'].apply(seasonal_features)))\n",
    "X_mu = sm.add_constant(pd.concat([forecast_df[['doy']], seasonal_data, forecast_df['mu_ens']], axis=1))  # Include mu_ens from your model predictions\n",
    "X_sigma = sm.add_constant(pd.concat([forecast_df[['doy']], seasonal_data, np.log(forecast_df['sigma_ens'])], axis=1))  # Log of ensemble std dev\n",
    "\n",
    "# Response variables\n",
    "y_mu = observed_df['temperature']  # Actual temperatures\n",
    "y_sigma = np.log(observed_df['sigma'])  # Assuming you have observed standard deviations\n",
    "\n",
    "# Fit the regression models\n",
    "model_mu = sm.OLS(y_mu, X_mu).fit()\n",
    "model_sigma = sm.OLS(y_sigma, X_sigma).fit()\n"
   ]
  },
  {
   "cell_type": "code",
   "execution_count": null,
   "id": "2f26b2c6-058a-4d54-9c3c-e90280b459cd",
   "metadata": {},
   "outputs": [],
   "source": [
    "forecast_df['adjusted_mu'] = model_mu.predict(X_mu)\n",
    "forecast_df['adjusted_sigma'] = np.exp(model_sigma.predict(X_sigma))  # Exponentiate to revert the log transformation\n"
   ]
  },
  {
   "cell_type": "code",
   "execution_count": null,
   "id": "6b26ac1a-a9dc-453f-afbc-c871369bd3b3",
   "metadata": {},
   "outputs": [],
   "source": [
    "from scipy.stats import norm\n",
    "\n",
    "quantiles = np.linspace(0.01, 0.99, 51)  # 51 equidistant quantiles\n",
    "forecast_df['quantiles'] = forecast_df.apply(lambda row: norm.ppf(quantiles, loc=row['adjusted_mu'], scale=row['adjusted_sigma']), axis=1)\n"
   ]
  },
  {
   "cell_type": "code",
   "execution_count": null,
   "id": "94590af7-db02-4e96-89e8-182ae4d0cf72",
   "metadata": {},
   "outputs": [],
   "source": []
  },
  {
   "cell_type": "code",
   "execution_count": null,
   "id": "307665a3-78e1-462f-bf18-1a69d77a52a1",
   "metadata": {},
   "outputs": [],
   "source": []
  },
  {
   "cell_type": "code",
   "execution_count": null,
   "id": "4084e546-f471-4b36-9a03-59c07eaa5a35",
   "metadata": {},
   "outputs": [],
   "source": []
  },
  {
   "cell_type": "code",
   "execution_count": null,
   "id": "334122bf-3cf3-48c6-b998-527e0b7b0673",
   "metadata": {},
   "outputs": [],
   "source": []
  },
  {
   "cell_type": "code",
   "execution_count": null,
   "id": "35415c62-a344-4004-b80d-ff02cd440bec",
   "metadata": {},
   "outputs": [],
   "source": []
  },
  {
   "cell_type": "code",
   "execution_count": null,
   "id": "604ec2cd-4bca-498f-bcc6-792c982cab85",
   "metadata": {},
   "outputs": [],
   "source": []
  },
  {
   "cell_type": "code",
   "execution_count": null,
   "id": "3def877a-66e9-48d4-9fbf-fd842801fa25",
   "metadata": {},
   "outputs": [],
   "source": [
    "# Assuming 'get_data_for_convlstm' returns the processed data suitable for modeling,\n",
    "# and it has already been executed in your code snippet\n",
    "\n",
    "# Example using the actual data returned from your function calls instead of loading from CSV\n",
    "forecast_df = data_for_prediction.copy()  # Assuming this dataframe is like the forecasted temperatures CSV\n",
    "observed_df = data_actual_for_prediction.copy()  # Assuming this dataframe is like the historical observations CSV\n",
    "\n",
    "# Convert timestamps to pandas datetime format\n",
    "forecast_df['date'] = time_index_pre_data\n",
    "observed_df['date'] = time_index_actual_data\n",
    "\n",
    "# Calculate day of year\n",
    "forecast_df['doy'] = forecast_df['date'].dt.dayofyear\n",
    "observed_df['doy'] = observed_df['date'].dt.dayofyear\n",
    "\n",
    "# Continue with the workflow\n",
    "scaler = MinMaxScaler()\n",
    "scaler.fit(forecast_df)  # Fit scaler on the forecast data\n",
    "\n",
    "# Transform the data for prediction\n",
    "df_scaled = scaler.transform(forecast_df)\n",
    "df_scaled = pd.DataFrame(df_scaled, columns=forecast_df.columns)\n",
    "\n",
    "# Assuming 'latest_sequence', 'sequence_length', 'feature_count' are defined elsewhere in your code\n",
    "latest_sequence = df_scaled.tail(sequence_length).values.reshape(1, sequence_length, 1, 1, feature_count)\n",
    "\n",
    "# Assuming 'model' is already defined and trained\n",
    "future_temperatures = model.predict(latest_sequence)\n",
    "dummy_output_array = np.zeros((hours_to_predict, scaler.n_features_in_))\n",
    "dummy_output_array[:, 3] = future_temperatures.flatten()  # Assuming temperature data is at index 3\n",
    "predicted_temps = scaler.inverse_transform(dummy_output_array)[:, 3]\n",
    "\n",
    "# Timestamp and prediction handling\n",
    "last_timestamp = forecast_df.index[-1]\n",
    "prediction_frequency = 'H'\n",
    "new_timestamps = pd.date_range(start=last_timestamp + pd.Timedelta(hours=1), periods=len(predicted_temps), freq=prediction_frequency)\n",
    "predictions_df = pd.DataFrame(predicted_temps, index=new_timestamps, columns=['Predicted T2M'])\n",
    "\n",
    "# Optionally visualize or analyze the results here\n",
    "\n",
    "\n",
    "def seasonal_features(doy):\n",
    "    return {\n",
    "        'sin1': np.sin(2 * np.pi * doy / 365),\n",
    "        'cos1': np.cos(2 * np.pi * doy / 365),\n",
    "        'sin2': np.sin(4 * np.pi * doy / 365),\n",
    "        'cos2': np.cos(4 * np.pi * doy / 365)\n",
    "    }\n",
    "\n",
    "\n",
    "import statsmodels.api as sm\n",
    "\n",
    "# Prepare your dataset with seasonal features\n",
    "seasonal_data = pd.DataFrame(list(observed_df['doy'].apply(seasonal_features)))\n",
    "X = sm.add_constant(pd.concat([observed_df[['doy']], seasonal_data], axis=1))\n",
    "y_mu = observed_df['temperature']  # Replace 'temperature' with your actual observed temperature column\n",
    "y_sigma = np.log(forecast_df['std_dev'])  # std_dev should be standard deviation of your forecast ensemble\n",
    "\n",
    "# Fit the model for μ\n",
    "model_mu = sm.OLS(y_mu, X).fit()\n",
    "\n",
    "# Fit the model for log(σ)\n",
    "model_sigma = sm.OLS(y_sigma, X).fit()\n",
    "\n",
    "\n",
    "# Adding seasonal features to forecast dataset\n",
    "forecast_seasonal = pd.DataFrame(list(forecast_df['doy'].apply(seasonal_features)))\n",
    "X_forecast = sm.add_constant(pd.concat([forecast_df[['doy']], forecast_seasonal], axis=1))\n",
    "\n",
    "# Predict μ and σ using the fitted models\n",
    "forecast_df['adjusted_mu'] = model_mu.predict(X_forecast)\n",
    "forecast_df['adjusted_sigma'] = np.exp(model_sigma.predict(X_forecast))\n",
    "\n",
    "from scipy.stats import norm\n",
    "\n",
    "# Generate 51 equidistant quantiles from the adjusted Gaussian distribution\n",
    "quantiles = np.linspace(0.01, 0.99, 51)\n",
    "forecast_df['quantiles'] = forecast_df.apply(lambda row: norm.ppf(quantiles, loc=row['adjusted_mu'], scale=row['adjusted_sigma']), axis=1)\n",
    "\n",
    "\n",
    "import matplotlib.pyplot as plt\n",
    "\n",
    "plt.figure(figsize=(12, 6))\n",
    "plt.plot(observed_df['date'], observed_df['temperature'], label='Observed')\n",
    "plt.plot(forecast_df['date'], forecast_df['adjusted_mu'], label='EMOS Adjusted Forecast')\n",
    "plt.fill_between(forecast_df['date'], forecast_df['adjusted_mu'] - forecast_df['adjusted_sigma'], forecast_df['adjusted_mu'] + forecast_df['adjusted_sigma'], color='gray', alpha=0.5, label='Confidence Interval')\n",
    "plt.legend()\n",
    "plt.title('Temperature Forecasts Adjusted with EMOS')\n",
    "plt.xlabel('Date')\n",
    "plt.ylabel('Temperature')\n",
    "plt.show()\n",
    "\n",
    "\n"
   ]
  },
  {
   "cell_type": "code",
   "execution_count": null,
   "id": "f14feca1-2bbd-462d-82a8-a1439542b588",
   "metadata": {},
   "outputs": [],
   "source": [
    "import pandas as pd\n",
    "from sklearn.preprocessing import MinMaxScaler\n",
    "import numpy as np\n",
    "import statsmodels.api as sm\n",
    "from scipy.stats import norm\n",
    "import matplotlib.pyplot as plt\n",
    "\n",
    "# Assume these functions and data preparations are already provided\n",
    "# ... your previous setup here ...\n",
    "\n",
    "# Ensure you only select numerical columns for scaling\n",
    "numerical_cols = forecast_df.select_dtypes(include=[np.number]).columns\n",
    "scaler = MinMaxScaler()\n",
    "\n",
    "# Fit and transform the numerical data only\n",
    "forecast_df[numerical_cols] = scaler.fit_transform(forecast_df[numerical_cols])\n",
    "\n",
    "# Assuming 'latest_sequence', 'sequence_length', 'feature_count' are defined elsewhere in your code\n",
    "# This part would need numerical indices or column names updated as per your DataFrame structure\n",
    "latest_sequence = forecast_df[numerical_cols].tail(sequence_length).values.reshape(1, sequence_length, 1, 1, len(numerical_cols))\n",
    "\n",
    "# Model predictions and handling remain unchanged\n",
    "# ... continue with your model prediction setup ...\n",
    "\n",
    "# Additional features for model fitting\n",
    "def seasonal_features(doy):\n",
    "    return {\n",
    "        'sin1': np.sin(2 * np.pi * doy / 365),\n",
    "        'cos1': np.cos(2 * np.pi * doy / 365),\n",
    "        'sin2': np.sin(4 * np.pi * doy / 365),\n",
    "        'cos2': np.cos(4 * np.pi * doy / 365)\n",
    "    }\n",
    "\n",
    "# Prepare your dataset with seasonal features\n",
    "seasonal_data = pd.DataFrame(list(observed_df['doy'].apply(seasonal_features)))\n",
    "X = sm.add_constant(pd.concat([observed_df[['doy']], seasonal_data], axis=1))\n",
    "y_mu = observed_df['temperature']  # Ensure this column exists\n",
    "y_sigma = np.log(forecast_df['std_dev'])  # std_dev should be standard deviation of your forecast ensemble\n",
    "\n",
    "# Fit the model for μ\n",
    "model_mu = sm.OLS(y_mu, X).fit()\n",
    "\n",
    "# Fit the model for log(σ)\n",
    "model_sigma = sm.OLS(y_sigma, X).fit()\n",
    "\n",
    "# Adding seasonal features to forecast dataset\n",
    "forecast_seasonal = pd.DataFrame(list(forecast_df['doy'].apply(seasonal_features)))\n",
    "X_forecast = sm.add_constant(pd.concat([forecast_df[['doy']], forecast_seasonal], axis=1))\n",
    "\n",
    "# Predict μ and σ using the fitted models\n",
    "forecast_df['adjusted_mu'] = model_mu.predict(X_forecast)\n",
    "forecast_df['adjusted_sigma'] = np.exp(model_sigma.predict(X_forecast))\n",
    "\n",
    "# Generate 51 equidistant quantiles from the adjusted Gaussian distribution\n",
    "quantiles = np.linspace(0.01, 0.99, 51)\n",
    "forecast_df['quantiles'] = forecast_df.apply(lambda row: norm.ppf(quantiles, loc=row['adjusted_mu'], scale=row['adjusted_sigma']), axis=1)\n",
    "\n",
    "plt.figure(figsize=(12, 6))\n",
    "plt.plot(observed_df['date'], observed_df['temperature'], label='Observed')\n",
    "plt.plot(forecast_df['date'], forecast_df['adjusted_mu'], label='EMOS Adjusted Forecast')\n",
    "plt.fill_between(forecast_df['date'], forecast_df['adjusted_mu'] - forecast_df['adjusted_sigma'], forecast_df['adjusted_mu'] + forecast_df['adjusted_sigma'], color='gray', alpha=0.5, label='Confidence Interval')\n",
    "plt.legend()\n",
    "plt.title('Temperature Forecasts Adjusted with EMOS')\n",
    "plt.xlabel('Date')\n",
    "plt.ylabel('Temperature')\n",
    "plt.show()\n"
   ]
  },
  {
   "cell_type": "code",
   "execution_count": null,
   "id": "ffe89c73-da9a-42e0-8867-d8f3ecafc50b",
   "metadata": {},
   "outputs": [],
   "source": []
  },
  {
   "cell_type": "code",
   "execution_count": null,
   "id": "d6673f7f-3732-4604-b72f-56a9d3d19a5a",
   "metadata": {},
   "outputs": [],
   "source": []
  },
  {
   "cell_type": "code",
   "execution_count": null,
   "id": "ab1ce42e-32f0-4368-992f-c89684c6b948",
   "metadata": {},
   "outputs": [],
   "source": []
  },
  {
   "cell_type": "code",
   "execution_count": null,
   "id": "656541e8-54cc-4437-8a45-053528fce773",
   "metadata": {},
   "outputs": [],
   "source": []
  },
  {
   "cell_type": "code",
   "execution_count": null,
   "id": "baff5473-4f51-4634-b088-45a53aac2735",
   "metadata": {},
   "outputs": [],
   "source": []
  },
  {
   "cell_type": "code",
   "execution_count": null,
   "id": "487077b9-651f-450b-8990-8ba10f58e3a4",
   "metadata": {},
   "outputs": [],
   "source": []
  },
  {
   "cell_type": "code",
   "execution_count": null,
   "id": "b9e437cb-ec6b-44fb-a4a9-491c65f89887",
   "metadata": {},
   "outputs": [],
   "source": []
  },
  {
   "cell_type": "code",
   "execution_count": null,
   "id": "a5cfdda2-775d-4db5-b7d7-cfc2b3a26516",
   "metadata": {},
   "outputs": [],
   "source": []
  },
  {
   "cell_type": "code",
   "execution_count": null,
   "id": "dfcf4e5a-5432-4858-a1e8-181227a0775b",
   "metadata": {},
   "outputs": [],
   "source": [
    "# Example data loading; replace with your actual data sources\n",
    "forecast_df = y_pred # Your model outputs\n",
    "observed_df = y_test # Historical observations\n",
    "forecast_df"
   ]
  },
  {
   "cell_type": "code",
   "execution_count": null,
   "id": "890d51b1-d56f-47e5-b8c1-369aa46e428d",
   "metadata": {},
   "outputs": [],
   "source": [
    "print(observed_df.head())  # Check the first few rows to see if 'doy' is present and correctly populated\n",
    "print(observed_df.columns)  # Verify that 'doy' is one of the columns\n"
   ]
  },
  {
   "cell_type": "code",
   "execution_count": null,
   "id": "66593acb-39a6-4079-9ff3-b8c99b83a153",
   "metadata": {},
   "outputs": [],
   "source": [
    "import pandas as pd\n",
    "\n",
    "# Assuming your array includes multiple columns and you know the order:\n",
    "# For example, let's say the first column is temperature, and you have date info elsewhere or need to add it\n",
    "observed_df = pd.DataFrame(observed_df, columns=['temperature'])\n",
    "\n",
    "# If you need to add 'date' and calculate 'doy', you would do something like this:\n",
    "observed_df['date'] = pd.date_range(start='2021-01-01', periods=len(observed_df), freq='D')\n",
    "observed_df['doy'] = observed_df['date'].dt.dayofyear\n"
   ]
  },
  {
   "cell_type": "code",
   "execution_count": null,
   "id": "7820a90d-c0c9-4c66-b515-c314fa3dd564",
   "metadata": {},
   "outputs": [],
   "source": [
    "def seasonal_features(doy):\n",
    "    return {\n",
    "        'sin1': np.sin(2 * np.pi * doy / 365),\n",
    "        'cos1': np.cos(2 * np.pi * doy / 365),\n",
    "        'sin2': np.sin(4 * np.pi * doy / 365),\n",
    "        'cos2': np.cos(4 * np.pi * doy / 365)\n",
    "    }\n"
   ]
  },
  {
   "cell_type": "code",
   "execution_count": null,
   "id": "aff37077-ec7d-4e7b-98b3-75065bbd4410",
   "metadata": {},
   "outputs": [],
   "source": [
    "import statsmodels.api as sm\n",
    "\n",
    "# Adding seasonal features to your dataset\n",
    "seasonal_data = pd.DataFrame(list(observed_df['doy'].apply(seasonal_features)))\n",
    "X = sm.add_constant(pd.concat([observed_df[['doy']], seasonal_data], axis=1))\n",
    "y_mu = observed_df['temperature']  # Assume observed temperature data is labeled as 'temperature'\n",
    "y_sigma = np.log(forecast_df['std_dev'])  # std_dev should be provided or calculated as the standard deviation of your forecast ensemble\n",
    "\n",
    "# Fitting models\n",
    "model_mu = sm.OLS(y_mu, X).fit()\n",
    "model_sigma = sm.OLS(y_sigma, X).fit()\n"
   ]
  },
  {
   "cell_type": "code",
   "execution_count": null,
   "id": "699a47ca-eb30-4aab-a654-f1d84901c357",
   "metadata": {},
   "outputs": [],
   "source": [
    "# Prepare features for new forecasts\n",
    "forecast_seasonal = pd.DataFrame(list(forecast_df['doy'].apply(seasonal_features)))\n",
    "X_forecast = sm.add_constant(pd.concat([forecast_df[['doy']], forecast_seasonal], axis=1))\n",
    "\n",
    "# Predict adjusted μ and σ\n",
    "forecast_df['adjusted_mu'] = model_mu.predict(X_forecast)\n",
    "forecast_df['adjusted_sigma'] = np.exp(model_sigma.predict(X_forecast))\n"
   ]
  },
  {
   "cell_type": "code",
   "execution_count": null,
   "id": "0f8e662b-3238-4629-9dd5-6b61ac80ef37",
   "metadata": {},
   "outputs": [],
   "source": [
    "from scipy.stats import norm\n",
    "\n",
    "# Calculate quantiles for probabilistic forecasting\n",
    "quantiles = np.linspace(0.01, 0.99, 51)\n",
    "forecast_df['quantiles'] = forecast_df.apply(\n",
    "    lambda row: norm.ppf(quantiles, loc=row['adjusted_mu'], scale=row['adjusted_sigma']), axis=1\n",
    ")\n"
   ]
  },
  {
   "cell_type": "code",
   "execution_count": null,
   "id": "3e803166-8a11-4a0a-8288-0f093a45284e",
   "metadata": {},
   "outputs": [],
   "source": []
  },
  {
   "cell_type": "code",
   "execution_count": null,
   "id": "f0401bff-0e28-46b2-8492-c9338b4ea742",
   "metadata": {},
   "outputs": [],
   "source": []
  }
 ],
 "metadata": {
  "kernelspec": {
   "display_name": "Python 3 (ipykernel)",
   "language": "python",
   "name": "python3"
  },
  "language_info": {
   "codemirror_mode": {
    "name": "ipython",
    "version": 3
   },
   "file_extension": ".py",
   "mimetype": "text/x-python",
   "name": "python",
   "nbconvert_exporter": "python",
   "pygments_lexer": "ipython3",
   "version": "3.11.7"
  }
 },
 "nbformat": 4,
 "nbformat_minor": 5
}
